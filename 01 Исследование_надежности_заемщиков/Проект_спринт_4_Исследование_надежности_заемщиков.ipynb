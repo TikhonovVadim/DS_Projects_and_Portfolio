{
 "cells": [
  {
   "cell_type": "markdown",
   "metadata": {
    "deletable": false,
    "editable": false,
    "id": "c81daeeb"
   },
   "source": [
    "# Исследование надежности заемщиков\n"
   ]
  },
  {
   "cell_type": "markdown",
   "metadata": {
    "deletable": false,
    "editable": false,
    "id": "827c20bf"
   },
   "source": [
    "Во второй части проекта вы выполните шаги 3 и 4. Их вручную проверит ревьюер.\n",
    "Чтобы вам не пришлось писать код заново для шагов 1 и 2, мы добавили авторские решения в ячейки с кодом. \n",
    "\n"
   ]
  },
  {
   "cell_type": "markdown",
   "metadata": {},
   "source": [
    "### Описание проекта\n",
    "    Заказчик — кредитный отдел банка. Нужно разобраться, влияет ли семейное положение и количество детей клиента на факт  \n",
    "    погашения кредита в срок. \n",
    "    Входные данные от банка — статистика о платёжеспособности клиентов.\n",
    "    Результаты исследования будут учтены при построении модели кредитного скоринга — специальной системы, которая оценивает \n",
    "    способность потенциального заёмщика вернуть кредит банку."
   ]
  },
  {
   "cell_type": "markdown",
   "metadata": {},
   "source": [
    "### Описание данных\n",
    "    children — количество детей в семье\n",
    "    days_employed — общий трудовой стаж в днях\n",
    "    dob_years — возраст клиента в годах\n",
    "    education — уровень образования клиента\n",
    "    education_id — идентификатор уровня образования\n",
    "    family_status — семейное положение\n",
    "    family_status_id — идентификатор семейного положения\n",
    "    gender — пол клиента\n",
    "    income_type — тип занятости\n",
    "    debt — имел ли задолженность по возврату кредитов\n",
    "    total_income — ежемесячный доход\n",
    "    purpose — цель получения кредита"
   ]
  },
  {
   "cell_type": "markdown",
   "metadata": {
    "deletable": false,
    "editable": false,
    "id": "744d7639"
   },
   "source": [
    "## Откройте таблицу и изучите общую информацию о данных"
   ]
  },
  {
   "cell_type": "markdown",
   "metadata": {
    "deletable": false,
    "editable": false,
    "id": "e7a14c31"
   },
   "source": [
    "**Задание 1. Импортируйте библиотеку pandas. Считайте данные из csv-файла в датафрейм и сохраните в переменную `data`. Путь к файлу:**\n",
    "\n",
    "`/datasets/data.csv`"
   ]
  },
  {
   "cell_type": "code",
   "execution_count": 1,
   "metadata": {},
   "outputs": [],
   "source": [
    "import pandas as pd\n",
    "import numpy as np\n",
    "import matplotlib.pyplot as plt\n",
    "import seaborn as sns"
   ]
  },
  {
   "cell_type": "code",
   "execution_count": 2,
   "metadata": {
    "deletable": false,
    "id": "7bcf75c9"
   },
   "outputs": [],
   "source": [
    "# загрузка данных\n",
    "try:\n",
    "    data = pd.read_csv('data_4.csv')\n",
    "except:\n",
    "    data = pd.read_csv('https://... ')"
   ]
  },
  {
   "cell_type": "markdown",
   "metadata": {
    "deletable": false,
    "editable": false,
    "id": "b8038fe3"
   },
   "source": [
    "**Задание 2. Выведите первые 20 строчек датафрейма `data` на экран.**"
   ]
  },
  {
   "cell_type": "code",
   "execution_count": 3,
   "metadata": {
    "deletable": false,
    "id": "2a7cab99",
    "outputId": "1a8f3ef2-d323-4ec2-ddf7-89670b5944c4"
   },
   "outputs": [
    {
     "data": {
      "text/html": [
       "<div>\n",
       "<style scoped>\n",
       "    .dataframe tbody tr th:only-of-type {\n",
       "        vertical-align: middle;\n",
       "    }\n",
       "\n",
       "    .dataframe tbody tr th {\n",
       "        vertical-align: top;\n",
       "    }\n",
       "\n",
       "    .dataframe thead th {\n",
       "        text-align: right;\n",
       "    }\n",
       "</style>\n",
       "<table border=\"1\" class=\"dataframe\">\n",
       "  <thead>\n",
       "    <tr style=\"text-align: right;\">\n",
       "      <th></th>\n",
       "      <th>children</th>\n",
       "      <th>days_employed</th>\n",
       "      <th>dob_years</th>\n",
       "      <th>education</th>\n",
       "      <th>education_id</th>\n",
       "      <th>family_status</th>\n",
       "      <th>family_status_id</th>\n",
       "      <th>gender</th>\n",
       "      <th>income_type</th>\n",
       "      <th>debt</th>\n",
       "      <th>total_income</th>\n",
       "      <th>purpose</th>\n",
       "    </tr>\n",
       "  </thead>\n",
       "  <tbody>\n",
       "    <tr>\n",
       "      <th>0</th>\n",
       "      <td>1</td>\n",
       "      <td>-8437.673028</td>\n",
       "      <td>42</td>\n",
       "      <td>высшее</td>\n",
       "      <td>0</td>\n",
       "      <td>женат / замужем</td>\n",
       "      <td>0</td>\n",
       "      <td>F</td>\n",
       "      <td>сотрудник</td>\n",
       "      <td>0</td>\n",
       "      <td>253875.639453</td>\n",
       "      <td>покупка жилья</td>\n",
       "    </tr>\n",
       "    <tr>\n",
       "      <th>1</th>\n",
       "      <td>1</td>\n",
       "      <td>-4024.803754</td>\n",
       "      <td>36</td>\n",
       "      <td>среднее</td>\n",
       "      <td>1</td>\n",
       "      <td>женат / замужем</td>\n",
       "      <td>0</td>\n",
       "      <td>F</td>\n",
       "      <td>сотрудник</td>\n",
       "      <td>0</td>\n",
       "      <td>112080.014102</td>\n",
       "      <td>приобретение автомобиля</td>\n",
       "    </tr>\n",
       "    <tr>\n",
       "      <th>2</th>\n",
       "      <td>0</td>\n",
       "      <td>-5623.422610</td>\n",
       "      <td>33</td>\n",
       "      <td>Среднее</td>\n",
       "      <td>1</td>\n",
       "      <td>женат / замужем</td>\n",
       "      <td>0</td>\n",
       "      <td>M</td>\n",
       "      <td>сотрудник</td>\n",
       "      <td>0</td>\n",
       "      <td>145885.952297</td>\n",
       "      <td>покупка жилья</td>\n",
       "    </tr>\n",
       "    <tr>\n",
       "      <th>3</th>\n",
       "      <td>3</td>\n",
       "      <td>-4124.747207</td>\n",
       "      <td>32</td>\n",
       "      <td>среднее</td>\n",
       "      <td>1</td>\n",
       "      <td>женат / замужем</td>\n",
       "      <td>0</td>\n",
       "      <td>M</td>\n",
       "      <td>сотрудник</td>\n",
       "      <td>0</td>\n",
       "      <td>267628.550329</td>\n",
       "      <td>дополнительное образование</td>\n",
       "    </tr>\n",
       "    <tr>\n",
       "      <th>4</th>\n",
       "      <td>0</td>\n",
       "      <td>340266.072047</td>\n",
       "      <td>53</td>\n",
       "      <td>среднее</td>\n",
       "      <td>1</td>\n",
       "      <td>гражданский брак</td>\n",
       "      <td>1</td>\n",
       "      <td>F</td>\n",
       "      <td>пенсионер</td>\n",
       "      <td>0</td>\n",
       "      <td>158616.077870</td>\n",
       "      <td>сыграть свадьбу</td>\n",
       "    </tr>\n",
       "    <tr>\n",
       "      <th>5</th>\n",
       "      <td>0</td>\n",
       "      <td>-926.185831</td>\n",
       "      <td>27</td>\n",
       "      <td>высшее</td>\n",
       "      <td>0</td>\n",
       "      <td>гражданский брак</td>\n",
       "      <td>1</td>\n",
       "      <td>M</td>\n",
       "      <td>компаньон</td>\n",
       "      <td>0</td>\n",
       "      <td>255763.565419</td>\n",
       "      <td>покупка жилья</td>\n",
       "    </tr>\n",
       "    <tr>\n",
       "      <th>6</th>\n",
       "      <td>0</td>\n",
       "      <td>-2879.202052</td>\n",
       "      <td>43</td>\n",
       "      <td>высшее</td>\n",
       "      <td>0</td>\n",
       "      <td>женат / замужем</td>\n",
       "      <td>0</td>\n",
       "      <td>F</td>\n",
       "      <td>компаньон</td>\n",
       "      <td>0</td>\n",
       "      <td>240525.971920</td>\n",
       "      <td>операции с жильем</td>\n",
       "    </tr>\n",
       "    <tr>\n",
       "      <th>7</th>\n",
       "      <td>0</td>\n",
       "      <td>-152.779569</td>\n",
       "      <td>50</td>\n",
       "      <td>СРЕДНЕЕ</td>\n",
       "      <td>1</td>\n",
       "      <td>женат / замужем</td>\n",
       "      <td>0</td>\n",
       "      <td>M</td>\n",
       "      <td>сотрудник</td>\n",
       "      <td>0</td>\n",
       "      <td>135823.934197</td>\n",
       "      <td>образование</td>\n",
       "    </tr>\n",
       "    <tr>\n",
       "      <th>8</th>\n",
       "      <td>2</td>\n",
       "      <td>-6929.865299</td>\n",
       "      <td>35</td>\n",
       "      <td>ВЫСШЕЕ</td>\n",
       "      <td>0</td>\n",
       "      <td>гражданский брак</td>\n",
       "      <td>1</td>\n",
       "      <td>F</td>\n",
       "      <td>сотрудник</td>\n",
       "      <td>0</td>\n",
       "      <td>95856.832424</td>\n",
       "      <td>на проведение свадьбы</td>\n",
       "    </tr>\n",
       "    <tr>\n",
       "      <th>9</th>\n",
       "      <td>0</td>\n",
       "      <td>-2188.756445</td>\n",
       "      <td>41</td>\n",
       "      <td>среднее</td>\n",
       "      <td>1</td>\n",
       "      <td>женат / замужем</td>\n",
       "      <td>0</td>\n",
       "      <td>M</td>\n",
       "      <td>сотрудник</td>\n",
       "      <td>0</td>\n",
       "      <td>144425.938277</td>\n",
       "      <td>покупка жилья для семьи</td>\n",
       "    </tr>\n",
       "    <tr>\n",
       "      <th>10</th>\n",
       "      <td>2</td>\n",
       "      <td>-4171.483647</td>\n",
       "      <td>36</td>\n",
       "      <td>высшее</td>\n",
       "      <td>0</td>\n",
       "      <td>женат / замужем</td>\n",
       "      <td>0</td>\n",
       "      <td>M</td>\n",
       "      <td>компаньон</td>\n",
       "      <td>0</td>\n",
       "      <td>113943.491460</td>\n",
       "      <td>покупка недвижимости</td>\n",
       "    </tr>\n",
       "    <tr>\n",
       "      <th>11</th>\n",
       "      <td>0</td>\n",
       "      <td>-792.701887</td>\n",
       "      <td>40</td>\n",
       "      <td>среднее</td>\n",
       "      <td>1</td>\n",
       "      <td>женат / замужем</td>\n",
       "      <td>0</td>\n",
       "      <td>F</td>\n",
       "      <td>сотрудник</td>\n",
       "      <td>0</td>\n",
       "      <td>77069.234271</td>\n",
       "      <td>покупка коммерческой недвижимости</td>\n",
       "    </tr>\n",
       "    <tr>\n",
       "      <th>12</th>\n",
       "      <td>0</td>\n",
       "      <td>NaN</td>\n",
       "      <td>65</td>\n",
       "      <td>среднее</td>\n",
       "      <td>1</td>\n",
       "      <td>гражданский брак</td>\n",
       "      <td>1</td>\n",
       "      <td>M</td>\n",
       "      <td>пенсионер</td>\n",
       "      <td>0</td>\n",
       "      <td>NaN</td>\n",
       "      <td>сыграть свадьбу</td>\n",
       "    </tr>\n",
       "    <tr>\n",
       "      <th>13</th>\n",
       "      <td>0</td>\n",
       "      <td>-1846.641941</td>\n",
       "      <td>54</td>\n",
       "      <td>неоконченное высшее</td>\n",
       "      <td>2</td>\n",
       "      <td>женат / замужем</td>\n",
       "      <td>0</td>\n",
       "      <td>F</td>\n",
       "      <td>сотрудник</td>\n",
       "      <td>0</td>\n",
       "      <td>130458.228857</td>\n",
       "      <td>приобретение автомобиля</td>\n",
       "    </tr>\n",
       "    <tr>\n",
       "      <th>14</th>\n",
       "      <td>0</td>\n",
       "      <td>-1844.956182</td>\n",
       "      <td>56</td>\n",
       "      <td>высшее</td>\n",
       "      <td>0</td>\n",
       "      <td>гражданский брак</td>\n",
       "      <td>1</td>\n",
       "      <td>F</td>\n",
       "      <td>компаньон</td>\n",
       "      <td>1</td>\n",
       "      <td>165127.911772</td>\n",
       "      <td>покупка жилой недвижимости</td>\n",
       "    </tr>\n",
       "    <tr>\n",
       "      <th>15</th>\n",
       "      <td>1</td>\n",
       "      <td>-972.364419</td>\n",
       "      <td>26</td>\n",
       "      <td>среднее</td>\n",
       "      <td>1</td>\n",
       "      <td>женат / замужем</td>\n",
       "      <td>0</td>\n",
       "      <td>F</td>\n",
       "      <td>сотрудник</td>\n",
       "      <td>0</td>\n",
       "      <td>116820.904450</td>\n",
       "      <td>строительство собственной недвижимости</td>\n",
       "    </tr>\n",
       "    <tr>\n",
       "      <th>16</th>\n",
       "      <td>0</td>\n",
       "      <td>-1719.934226</td>\n",
       "      <td>35</td>\n",
       "      <td>среднее</td>\n",
       "      <td>1</td>\n",
       "      <td>женат / замужем</td>\n",
       "      <td>0</td>\n",
       "      <td>F</td>\n",
       "      <td>сотрудник</td>\n",
       "      <td>0</td>\n",
       "      <td>289202.704229</td>\n",
       "      <td>недвижимость</td>\n",
       "    </tr>\n",
       "    <tr>\n",
       "      <th>17</th>\n",
       "      <td>0</td>\n",
       "      <td>-2369.999720</td>\n",
       "      <td>33</td>\n",
       "      <td>высшее</td>\n",
       "      <td>0</td>\n",
       "      <td>гражданский брак</td>\n",
       "      <td>1</td>\n",
       "      <td>M</td>\n",
       "      <td>сотрудник</td>\n",
       "      <td>0</td>\n",
       "      <td>90410.586745</td>\n",
       "      <td>строительство недвижимости</td>\n",
       "    </tr>\n",
       "    <tr>\n",
       "      <th>18</th>\n",
       "      <td>0</td>\n",
       "      <td>400281.136913</td>\n",
       "      <td>53</td>\n",
       "      <td>среднее</td>\n",
       "      <td>1</td>\n",
       "      <td>вдовец / вдова</td>\n",
       "      <td>2</td>\n",
       "      <td>F</td>\n",
       "      <td>пенсионер</td>\n",
       "      <td>0</td>\n",
       "      <td>56823.777243</td>\n",
       "      <td>на покупку подержанного автомобиля</td>\n",
       "    </tr>\n",
       "    <tr>\n",
       "      <th>19</th>\n",
       "      <td>0</td>\n",
       "      <td>-10038.818549</td>\n",
       "      <td>48</td>\n",
       "      <td>СРЕДНЕЕ</td>\n",
       "      <td>1</td>\n",
       "      <td>в разводе</td>\n",
       "      <td>3</td>\n",
       "      <td>F</td>\n",
       "      <td>сотрудник</td>\n",
       "      <td>0</td>\n",
       "      <td>242831.107982</td>\n",
       "      <td>на покупку своего автомобиля</td>\n",
       "    </tr>\n",
       "  </tbody>\n",
       "</table>\n",
       "</div>"
      ],
      "text/plain": [
       "    children  days_employed  dob_years            education  education_id  \\\n",
       "0          1   -8437.673028         42               высшее             0   \n",
       "1          1   -4024.803754         36              среднее             1   \n",
       "2          0   -5623.422610         33              Среднее             1   \n",
       "3          3   -4124.747207         32              среднее             1   \n",
       "4          0  340266.072047         53              среднее             1   \n",
       "5          0    -926.185831         27               высшее             0   \n",
       "6          0   -2879.202052         43               высшее             0   \n",
       "7          0    -152.779569         50              СРЕДНЕЕ             1   \n",
       "8          2   -6929.865299         35               ВЫСШЕЕ             0   \n",
       "9          0   -2188.756445         41              среднее             1   \n",
       "10         2   -4171.483647         36               высшее             0   \n",
       "11         0    -792.701887         40              среднее             1   \n",
       "12         0            NaN         65              среднее             1   \n",
       "13         0   -1846.641941         54  неоконченное высшее             2   \n",
       "14         0   -1844.956182         56               высшее             0   \n",
       "15         1    -972.364419         26              среднее             1   \n",
       "16         0   -1719.934226         35              среднее             1   \n",
       "17         0   -2369.999720         33               высшее             0   \n",
       "18         0  400281.136913         53              среднее             1   \n",
       "19         0  -10038.818549         48              СРЕДНЕЕ             1   \n",
       "\n",
       "       family_status  family_status_id gender income_type  debt  \\\n",
       "0    женат / замужем                 0      F   сотрудник     0   \n",
       "1    женат / замужем                 0      F   сотрудник     0   \n",
       "2    женат / замужем                 0      M   сотрудник     0   \n",
       "3    женат / замужем                 0      M   сотрудник     0   \n",
       "4   гражданский брак                 1      F   пенсионер     0   \n",
       "5   гражданский брак                 1      M   компаньон     0   \n",
       "6    женат / замужем                 0      F   компаньон     0   \n",
       "7    женат / замужем                 0      M   сотрудник     0   \n",
       "8   гражданский брак                 1      F   сотрудник     0   \n",
       "9    женат / замужем                 0      M   сотрудник     0   \n",
       "10   женат / замужем                 0      M   компаньон     0   \n",
       "11   женат / замужем                 0      F   сотрудник     0   \n",
       "12  гражданский брак                 1      M   пенсионер     0   \n",
       "13   женат / замужем                 0      F   сотрудник     0   \n",
       "14  гражданский брак                 1      F   компаньон     1   \n",
       "15   женат / замужем                 0      F   сотрудник     0   \n",
       "16   женат / замужем                 0      F   сотрудник     0   \n",
       "17  гражданский брак                 1      M   сотрудник     0   \n",
       "18    вдовец / вдова                 2      F   пенсионер     0   \n",
       "19         в разводе                 3      F   сотрудник     0   \n",
       "\n",
       "     total_income                                 purpose  \n",
       "0   253875.639453                           покупка жилья  \n",
       "1   112080.014102                 приобретение автомобиля  \n",
       "2   145885.952297                           покупка жилья  \n",
       "3   267628.550329              дополнительное образование  \n",
       "4   158616.077870                         сыграть свадьбу  \n",
       "5   255763.565419                           покупка жилья  \n",
       "6   240525.971920                       операции с жильем  \n",
       "7   135823.934197                             образование  \n",
       "8    95856.832424                   на проведение свадьбы  \n",
       "9   144425.938277                 покупка жилья для семьи  \n",
       "10  113943.491460                    покупка недвижимости  \n",
       "11   77069.234271       покупка коммерческой недвижимости  \n",
       "12            NaN                         сыграть свадьбу  \n",
       "13  130458.228857                 приобретение автомобиля  \n",
       "14  165127.911772              покупка жилой недвижимости  \n",
       "15  116820.904450  строительство собственной недвижимости  \n",
       "16  289202.704229                            недвижимость  \n",
       "17   90410.586745              строительство недвижимости  \n",
       "18   56823.777243      на покупку подержанного автомобиля  \n",
       "19  242831.107982            на покупку своего автомобиля  "
      ]
     },
     "execution_count": 3,
     "metadata": {},
     "output_type": "execute_result"
    }
   ],
   "source": [
    "data.head(20)"
   ]
  },
  {
   "cell_type": "markdown",
   "metadata": {
    "deletable": false,
    "editable": false,
    "id": "1c12e233"
   },
   "source": [
    "**Задание 3. Выведите основную информацию о датафрейме с помощью метода `info()`.**"
   ]
  },
  {
   "cell_type": "code",
   "execution_count": 4,
   "metadata": {
    "deletable": false,
    "id": "2b757bca",
    "outputId": "15376089-8dad-46c9-b520-c05248d43158"
   },
   "outputs": [
    {
     "name": "stdout",
     "output_type": "stream",
     "text": [
      "<class 'pandas.core.frame.DataFrame'>\n",
      "RangeIndex: 21525 entries, 0 to 21524\n",
      "Data columns (total 12 columns):\n",
      " #   Column            Non-Null Count  Dtype  \n",
      "---  ------            --------------  -----  \n",
      " 0   children          21525 non-null  int64  \n",
      " 1   days_employed     19351 non-null  float64\n",
      " 2   dob_years         21525 non-null  int64  \n",
      " 3   education         21525 non-null  object \n",
      " 4   education_id      21525 non-null  int64  \n",
      " 5   family_status     21525 non-null  object \n",
      " 6   family_status_id  21525 non-null  int64  \n",
      " 7   gender            21525 non-null  object \n",
      " 8   income_type       21525 non-null  object \n",
      " 9   debt              21525 non-null  int64  \n",
      " 10  total_income      19351 non-null  float64\n",
      " 11  purpose           21525 non-null  object \n",
      "dtypes: float64(2), int64(5), object(5)\n",
      "memory usage: 2.0+ MB\n"
     ]
    }
   ],
   "source": [
    "data.info()"
   ]
  },
  {
   "cell_type": "markdown",
   "metadata": {
    "deletable": false,
    "editable": false,
    "id": "333ec665"
   },
   "source": [
    "## Предобработка данных"
   ]
  },
  {
   "cell_type": "markdown",
   "metadata": {
    "deletable": false,
    "editable": false,
    "id": "02d92d53"
   },
   "source": [
    "### Удаление пропусков"
   ]
  },
  {
   "cell_type": "markdown",
   "metadata": {
    "deletable": false,
    "editable": false,
    "id": "cd84967c"
   },
   "source": [
    "**Задание 4. Выведите количество пропущенных значений для каждого столбца. Используйте комбинацию двух методов.**"
   ]
  },
  {
   "cell_type": "code",
   "execution_count": 5,
   "metadata": {
    "deletable": false,
    "id": "7f9b2309",
    "outputId": "81f4d817-781c-465c-ed15-91ce4446810d"
   },
   "outputs": [
    {
     "data": {
      "text/plain": [
       "children               0\n",
       "days_employed       2174\n",
       "dob_years              0\n",
       "education              0\n",
       "education_id           0\n",
       "family_status          0\n",
       "family_status_id       0\n",
       "gender                 0\n",
       "income_type            0\n",
       "debt                   0\n",
       "total_income        2174\n",
       "purpose                0\n",
       "dtype: int64"
      ]
     },
     "execution_count": 5,
     "metadata": {},
     "output_type": "execute_result"
    }
   ],
   "source": [
    "data.isna().sum()"
   ]
  },
  {
   "cell_type": "code",
   "execution_count": 6,
   "metadata": {},
   "outputs": [
    {
     "data": {
      "text/html": [
       "<div>\n",
       "<style scoped>\n",
       "    .dataframe tbody tr th:only-of-type {\n",
       "        vertical-align: middle;\n",
       "    }\n",
       "\n",
       "    .dataframe tbody tr th {\n",
       "        vertical-align: top;\n",
       "    }\n",
       "\n",
       "    .dataframe thead th {\n",
       "        text-align: right;\n",
       "    }\n",
       "</style>\n",
       "<table border=\"1\" class=\"dataframe\">\n",
       "  <thead>\n",
       "    <tr style=\"text-align: right;\">\n",
       "      <th></th>\n",
       "      <th>days_employed</th>\n",
       "      <th>total_income</th>\n",
       "    </tr>\n",
       "  </thead>\n",
       "  <tbody>\n",
       "    <tr>\n",
       "      <th>12</th>\n",
       "      <td>NaN</td>\n",
       "      <td>NaN</td>\n",
       "    </tr>\n",
       "    <tr>\n",
       "      <th>26</th>\n",
       "      <td>NaN</td>\n",
       "      <td>NaN</td>\n",
       "    </tr>\n",
       "    <tr>\n",
       "      <th>29</th>\n",
       "      <td>NaN</td>\n",
       "      <td>NaN</td>\n",
       "    </tr>\n",
       "    <tr>\n",
       "      <th>41</th>\n",
       "      <td>NaN</td>\n",
       "      <td>NaN</td>\n",
       "    </tr>\n",
       "    <tr>\n",
       "      <th>55</th>\n",
       "      <td>NaN</td>\n",
       "      <td>NaN</td>\n",
       "    </tr>\n",
       "    <tr>\n",
       "      <th>...</th>\n",
       "      <td>...</td>\n",
       "      <td>...</td>\n",
       "    </tr>\n",
       "    <tr>\n",
       "      <th>21489</th>\n",
       "      <td>NaN</td>\n",
       "      <td>NaN</td>\n",
       "    </tr>\n",
       "    <tr>\n",
       "      <th>21495</th>\n",
       "      <td>NaN</td>\n",
       "      <td>NaN</td>\n",
       "    </tr>\n",
       "    <tr>\n",
       "      <th>21497</th>\n",
       "      <td>NaN</td>\n",
       "      <td>NaN</td>\n",
       "    </tr>\n",
       "    <tr>\n",
       "      <th>21502</th>\n",
       "      <td>NaN</td>\n",
       "      <td>NaN</td>\n",
       "    </tr>\n",
       "    <tr>\n",
       "      <th>21510</th>\n",
       "      <td>NaN</td>\n",
       "      <td>NaN</td>\n",
       "    </tr>\n",
       "  </tbody>\n",
       "</table>\n",
       "<p>2174 rows × 2 columns</p>\n",
       "</div>"
      ],
      "text/plain": [
       "       days_employed  total_income\n",
       "12               NaN           NaN\n",
       "26               NaN           NaN\n",
       "29               NaN           NaN\n",
       "41               NaN           NaN\n",
       "55               NaN           NaN\n",
       "...              ...           ...\n",
       "21489            NaN           NaN\n",
       "21495            NaN           NaN\n",
       "21497            NaN           NaN\n",
       "21502            NaN           NaN\n",
       "21510            NaN           NaN\n",
       "\n",
       "[2174 rows x 2 columns]"
      ]
     },
     "execution_count": 6,
     "metadata": {},
     "output_type": "execute_result"
    }
   ],
   "source": [
    "# проверка совпадений значений NaN  в признаках 'days_employed', 'total_income' по строкам\n",
    "data.loc[(data['days_employed'].isna()) & (data['total_income'].isna()), ['days_employed', 'total_income']]"
   ]
  },
  {
   "cell_type": "markdown",
   "metadata": {
    "deletable": false,
    "editable": false,
    "id": "db86e27b"
   },
   "source": [
    "**Задание 5. В двух столбцах есть пропущенные значения. Один из них — `days_employed`. Пропуски в этом столбце вы обработаете на следующем этапе. Другой столбец с пропущенными значениями — `total_income` — хранит данные о доходах. На сумму дохода сильнее всего влияет тип занятости, поэтому заполнить пропуски в этом столбце нужно медианным значением по каждому типу из столбца `income_type`. Например, у человека с типом занятости `сотрудник` пропуск в столбце `total_income` должен быть заполнен медианным доходом среди всех записей с тем же типом.**"
   ]
  },
  {
   "cell_type": "code",
   "execution_count": 7,
   "metadata": {
    "deletable": false,
    "id": "42006a93"
   },
   "outputs": [],
   "source": [
    "for t in data['income_type'].unique():\n",
    "    data.loc[(data['income_type'] == t) & (data['total_income'].isna()), 'total_income'] = \\\n",
    "    data.loc[(data['income_type'] == t), 'total_income'].median()"
   ]
  },
  {
   "cell_type": "markdown",
   "metadata": {
    "deletable": false,
    "editable": false,
    "id": "89da5ece"
   },
   "source": [
    "### Обработка аномальных значений"
   ]
  },
  {
   "cell_type": "markdown",
   "metadata": {
    "deletable": false,
    "editable": false,
    "id": "57964554"
   },
   "source": [
    "**Задание 6. В данных могут встречаться артефакты (аномалии) — значения, которые не отражают действительность и появились по какой-то ошибке. таким артефактом будет отрицательное количество дней трудового стажа в столбце `days_employed`. Для реальных данных это нормально. Обработайте значения в этом столбце: замените все отрицательные значения положительными с помощью метода `abs()`.**"
   ]
  },
  {
   "cell_type": "code",
   "execution_count": 8,
   "metadata": {
    "deletable": false,
    "id": "f6f055bf"
   },
   "outputs": [],
   "source": [
    "data['days_employed'] = data['days_employed'].abs()"
   ]
  },
  {
   "cell_type": "markdown",
   "metadata": {
    "deletable": false,
    "editable": false,
    "id": "6107dd2f"
   },
   "source": [
    "**Задание 7. Для каждого типа занятости выведите медианное значение трудового стажа `days_employed` в днях.**"
   ]
  },
  {
   "cell_type": "code",
   "execution_count": 9,
   "metadata": {
    "deletable": false,
    "id": "85a5faf6",
    "outputId": "801ef80e-522b-4668-f34e-565af7432bcf"
   },
   "outputs": [
    {
     "data": {
      "text/plain": [
       "income_type\n",
       "безработный        366413.652744\n",
       "в декрете            3296.759962\n",
       "госслужащий          2689.368353\n",
       "компаньон            1547.382223\n",
       "пенсионер          365213.306266\n",
       "предприниматель       520.848083\n",
       "сотрудник            1574.202821\n",
       "студент               578.751554\n",
       "Name: days_employed, dtype: float64"
      ]
     },
     "execution_count": 9,
     "metadata": {},
     "output_type": "execute_result"
    }
   ],
   "source": [
    "data.groupby('income_type')['days_employed'].agg('median')"
   ]
  },
  {
   "cell_type": "code",
   "execution_count": 10,
   "metadata": {},
   "outputs": [
    {
     "data": {
      "text/plain": [
       "сотрудник          11119\n",
       "компаньон           5085\n",
       "пенсионер           3856\n",
       "госслужащий         1459\n",
       "безработный            2\n",
       "предприниматель        2\n",
       "студент                1\n",
       "в декрете              1\n",
       "Name: income_type, dtype: int64"
      ]
     },
     "execution_count": 10,
     "metadata": {},
     "output_type": "execute_result"
    }
   ],
   "source": [
    "# распределение типов занятости \n",
    "data['income_type'].value_counts()"
   ]
  },
  {
   "cell_type": "markdown",
   "metadata": {
    "deletable": false,
    "editable": false,
    "id": "38d1a030"
   },
   "source": [
    "У двух типов (безработные и пенсионеры) получатся аномально большие значения. Исправить такие значения сложно, поэтому оставьте их как есть. Тем более этот столбец не понадобится вам для исследования."
   ]
  },
  {
   "cell_type": "markdown",
   "metadata": {
    "deletable": false,
    "editable": false,
    "id": "d8a9f147"
   },
   "source": [
    "**Задание 8. Выведите перечень уникальных значений столбца `children`.**"
   ]
  },
  {
   "cell_type": "code",
   "execution_count": 11,
   "metadata": {
    "deletable": false,
    "id": "ef5056eb",
    "outputId": "6975b15c-7f95-4697-d16d-a0c79b657b03"
   },
   "outputs": [
    {
     "data": {
      "text/plain": [
       "array([ 1,  0,  3,  2, -1,  4, 20,  5], dtype=int64)"
      ]
     },
     "execution_count": 11,
     "metadata": {},
     "output_type": "execute_result"
    }
   ],
   "source": [
    "data['children'].unique()"
   ]
  },
  {
   "cell_type": "markdown",
   "metadata": {
    "deletable": false,
    "editable": false,
    "id": "40b9ebf2"
   },
   "source": [
    "**Задание 9. В столбце `children` есть два аномальных значения. Удалите строки, в которых встречаются такие аномальные значения из датафрейма `data`.**"
   ]
  },
  {
   "cell_type": "code",
   "execution_count": 12,
   "metadata": {
    "deletable": false,
    "id": "3ff9801d"
   },
   "outputs": [],
   "source": [
    "data = data[(data['children'] != -1) & (data['children'] != 20)]"
   ]
  },
  {
   "cell_type": "markdown",
   "metadata": {
    "deletable": false,
    "editable": false,
    "id": "bbc4d0ce"
   },
   "source": [
    "**Задание 10. Ещё раз выведите перечень уникальных значений столбца `children`, чтобы убедиться, что артефакты удалены.**"
   ]
  },
  {
   "cell_type": "code",
   "execution_count": 13,
   "metadata": {
    "deletable": false,
    "id": "ad4fa8b7",
    "outputId": "b2097101-d49d-44d9-901b-32a65c9463d1"
   },
   "outputs": [
    {
     "data": {
      "text/plain": [
       "array([1, 0, 3, 2, 4, 5], dtype=int64)"
      ]
     },
     "execution_count": 13,
     "metadata": {},
     "output_type": "execute_result"
    }
   ],
   "source": [
    "data['children'].unique()"
   ]
  },
  {
   "cell_type": "markdown",
   "metadata": {
    "deletable": false,
    "editable": false,
    "id": "75440b63"
   },
   "source": [
    "### Удаление пропусков (продолжение)"
   ]
  },
  {
   "cell_type": "markdown",
   "metadata": {
    "deletable": false,
    "editable": false,
    "id": "f4ea573f"
   },
   "source": [
    "**Задание 11. Заполните пропуски в столбце `days_employed` медианными значениями по каждого типа занятости `income_type`.**"
   ]
  },
  {
   "cell_type": "code",
   "execution_count": 14,
   "metadata": {
    "deletable": false,
    "id": "af6b1a7e"
   },
   "outputs": [],
   "source": [
    "for t in data['income_type'].unique():\n",
    "    data.loc[(data['income_type'] == t) & (data['days_employed'].isna()), 'days_employed'] = \\\n",
    "    data.loc[(data['income_type'] == t), 'days_employed'].median()"
   ]
  },
  {
   "cell_type": "markdown",
   "metadata": {
    "deletable": false,
    "editable": false,
    "id": "2753f40d"
   },
   "source": [
    "**Задание 12. Убедитесь, что все пропуски заполнены. Проверьте себя и ещё раз выведите количество пропущенных значений для каждого столбца с помощью двух методов.**"
   ]
  },
  {
   "cell_type": "code",
   "execution_count": 15,
   "metadata": {
    "deletable": false,
    "id": "55f78bc2",
    "outputId": "8da1e4e1-358e-4e87-98c9-f261bce0a7b2"
   },
   "outputs": [
    {
     "data": {
      "text/plain": [
       "children            0\n",
       "days_employed       0\n",
       "dob_years           0\n",
       "education           0\n",
       "education_id        0\n",
       "family_status       0\n",
       "family_status_id    0\n",
       "gender              0\n",
       "income_type         0\n",
       "debt                0\n",
       "total_income        0\n",
       "purpose             0\n",
       "dtype: int64"
      ]
     },
     "execution_count": 15,
     "metadata": {},
     "output_type": "execute_result"
    }
   ],
   "source": [
    "data.isna().sum()"
   ]
  },
  {
   "cell_type": "markdown",
   "metadata": {
    "deletable": false,
    "editable": false,
    "id": "ddc81e43"
   },
   "source": [
    "### Изменение типов данных"
   ]
  },
  {
   "cell_type": "markdown",
   "metadata": {
    "deletable": false,
    "editable": false,
    "id": "42d19d24"
   },
   "source": [
    "**Задание 13. Замените вещественный тип данных в столбце `total_income` на целочисленный с помощью метода `astype()`.**"
   ]
  },
  {
   "cell_type": "code",
   "execution_count": 16,
   "metadata": {
    "deletable": false,
    "id": "920b65ad"
   },
   "outputs": [],
   "source": [
    "data['total_income'] = data['total_income'].astype(int)"
   ]
  },
  {
   "cell_type": "markdown",
   "metadata": {
    "deletable": false,
    "editable": false,
    "id": "80c420ba"
   },
   "source": [
    "### Обработка дубликатов"
   ]
  },
  {
   "cell_type": "markdown",
   "metadata": {
    "deletable": false,
    "editable": false
   },
   "source": [
    "**Задание 14. Обработайте неявные дубликаты в столбце `education`. В этом столбце есть одни и те же значения, но записанные по-разному: с использованием заглавных и строчных букв. Приведите их к нижнему регистру. Проверьте остальные столбцы.**"
   ]
  },
  {
   "cell_type": "code",
   "execution_count": 17,
   "metadata": {
    "deletable": false
   },
   "outputs": [],
   "source": [
    "data['education'] = data['education'].str.lower()"
   ]
  },
  {
   "cell_type": "markdown",
   "metadata": {
    "deletable": false,
    "editable": false,
    "id": "dc587695"
   },
   "source": [
    "**Задание 15. Выведите на экран количество строк-дубликатов в данных. Если такие строки присутствуют, удалите их.**"
   ]
  },
  {
   "cell_type": "code",
   "execution_count": 18,
   "metadata": {
    "deletable": false,
    "id": "3ee445e4",
    "outputId": "9684deba-1934-42d1-99e1-cda61740f822"
   },
   "outputs": [
    {
     "data": {
      "text/plain": [
       "71"
      ]
     },
     "execution_count": 18,
     "metadata": {},
     "output_type": "execute_result"
    }
   ],
   "source": [
    "data.duplicated().sum()"
   ]
  },
  {
   "cell_type": "code",
   "execution_count": 19,
   "metadata": {
    "deletable": false,
    "id": "8575fe05"
   },
   "outputs": [],
   "source": [
    "data = data.drop_duplicates()"
   ]
  },
  {
   "cell_type": "markdown",
   "metadata": {
    "deletable": false,
    "editable": false,
    "id": "9904cf55"
   },
   "source": [
    "### Категоризация данных"
   ]
  },
  {
   "cell_type": "markdown",
   "metadata": {
    "deletable": false,
    "editable": false,
    "id": "72fcc8a2"
   },
   "source": [
    "**Задание 16. На основании диапазонов, указанных ниже, создайте в датафрейме `data` столбец `total_income_category` с категориями:**\n",
    "\n",
    "- 0–30000 — `'E'`;\n",
    "- 30001–50000 — `'D'`;\n",
    "- 50001–200000 — `'C'`;\n",
    "- 200001–1000000 — `'B'`;\n",
    "- 1000001 и выше — `'A'`.\n",
    "\n",
    "\n",
    "**Например, кредитополучателю с доходом 25000 нужно назначить категорию `'E'`, а клиенту, получающему 235000, — `'B'`. Используйте собственную функцию с именем `categorize_income()` и метод `apply()`.**"
   ]
  },
  {
   "cell_type": "code",
   "execution_count": 20,
   "metadata": {
    "deletable": false,
    "id": "e1771346"
   },
   "outputs": [],
   "source": [
    "def categorize_income(income):\n",
    "    try:\n",
    "        if 0 <= income <= 30000:\n",
    "            return 'E'\n",
    "        elif 30001 <= income <= 50000:\n",
    "            return 'D'\n",
    "        elif 50001 <= income <= 200000:\n",
    "            return 'C'\n",
    "        elif 200001 <= income <= 1000000:\n",
    "            return 'B'\n",
    "        elif income >= 1000001:\n",
    "            return 'A'\n",
    "    except:\n",
    "        pass"
   ]
  },
  {
   "cell_type": "code",
   "execution_count": 21,
   "metadata": {
    "deletable": false,
    "id": "d5f3586d"
   },
   "outputs": [],
   "source": [
    "data['total_income_category'] = data['total_income'].apply(categorize_income)"
   ]
  },
  {
   "cell_type": "markdown",
   "metadata": {
    "deletable": false,
    "editable": false,
    "id": "dde49b5c"
   },
   "source": [
    "**Задание 17. Выведите на экран перечень уникальных целей взятия кредита из столбца `purpose`.**"
   ]
  },
  {
   "cell_type": "code",
   "execution_count": 22,
   "metadata": {
    "deletable": false,
    "id": "f67ce9b3",
    "outputId": "673c12d9-7d7e-4ae0-9812-c622c89dd244"
   },
   "outputs": [
    {
     "data": {
      "text/plain": [
       "array(['покупка жилья', 'приобретение автомобиля',\n",
       "       'дополнительное образование', 'сыграть свадьбу',\n",
       "       'операции с жильем', 'образование', 'на проведение свадьбы',\n",
       "       'покупка жилья для семьи', 'покупка недвижимости',\n",
       "       'покупка коммерческой недвижимости', 'покупка жилой недвижимости',\n",
       "       'строительство собственной недвижимости', 'недвижимость',\n",
       "       'строительство недвижимости', 'на покупку подержанного автомобиля',\n",
       "       'на покупку своего автомобиля',\n",
       "       'операции с коммерческой недвижимостью',\n",
       "       'строительство жилой недвижимости', 'жилье',\n",
       "       'операции со своей недвижимостью', 'автомобили',\n",
       "       'заняться образованием', 'сделка с подержанным автомобилем',\n",
       "       'получение образования', 'автомобиль', 'свадьба',\n",
       "       'получение дополнительного образования', 'покупка своего жилья',\n",
       "       'операции с недвижимостью', 'получение высшего образования',\n",
       "       'свой автомобиль', 'сделка с автомобилем',\n",
       "       'профильное образование', 'высшее образование',\n",
       "       'покупка жилья для сдачи', 'на покупку автомобиля', 'ремонт жилью',\n",
       "       'заняться высшим образованием'], dtype=object)"
      ]
     },
     "execution_count": 22,
     "metadata": {},
     "output_type": "execute_result"
    }
   ],
   "source": [
    "data['purpose'].unique()"
   ]
  },
  {
   "cell_type": "markdown",
   "metadata": {
    "deletable": false,
    "editable": false,
    "id": "85d0aef0"
   },
   "source": [
    "**Задание 18. Создайте функцию, которая на основании данных из столбца `purpose` сформирует новый столбец `purpose_category`, в который войдут следующие категории:**\n",
    "\n",
    "- `'операции с автомобилем'`,\n",
    "- `'операции с недвижимостью'`,\n",
    "- `'проведение свадьбы'`,\n",
    "- `'получение образования'`.\n",
    "\n",
    "**Например, если в столбце `purpose` находится подстрока `'на покупку автомобиля'`, то в столбце `purpose_category` должна появиться строка `'операции с автомобилем'`.**\n",
    "\n",
    "**Используйте собственную функцию с именем `categorize_purpose()` и метод `apply()`. Изучите данные в столбце `purpose` и определите, какие подстроки помогут вам правильно определить категорию.**"
   ]
  },
  {
   "cell_type": "code",
   "execution_count": 23,
   "metadata": {
    "deletable": false,
    "id": "e149fab4"
   },
   "outputs": [],
   "source": [
    "def categorize_purpose(row):\n",
    "    try:\n",
    "        if 'автом' in row:\n",
    "            return 'операции с автомобилем'\n",
    "        elif 'жил' in row or 'недвиж' in row:\n",
    "            return 'операции с недвижимостью'\n",
    "        elif 'свад' in row:\n",
    "            return 'проведение свадьбы'\n",
    "        elif 'образов' in row:\n",
    "            return 'получение образования'\n",
    "    except:\n",
    "        return 'нет категории'"
   ]
  },
  {
   "cell_type": "code",
   "execution_count": 24,
   "metadata": {
    "deletable": false,
    "id": "bf36e69b"
   },
   "outputs": [],
   "source": [
    "data['purpose_category'] = data['purpose'].apply(categorize_purpose)"
   ]
  },
  {
   "cell_type": "markdown",
   "metadata": {
    "deletable": false,
    "editable": false,
    "id": "09b242bf"
   },
   "source": [
    "### Шаг 3. Исследуйте данные и ответьте на вопросы"
   ]
  },
  {
   "cell_type": "code",
   "execution_count": 25,
   "metadata": {},
   "outputs": [
    {
     "name": "stdout",
     "output_type": "stream",
     "text": [
      "<class 'pandas.core.frame.DataFrame'>\n",
      "Int64Index: 21331 entries, 0 to 21524\n",
      "Data columns (total 14 columns):\n",
      " #   Column                 Non-Null Count  Dtype  \n",
      "---  ------                 --------------  -----  \n",
      " 0   children               21331 non-null  int64  \n",
      " 1   days_employed          21331 non-null  float64\n",
      " 2   dob_years              21331 non-null  int64  \n",
      " 3   education              21331 non-null  object \n",
      " 4   education_id           21331 non-null  int64  \n",
      " 5   family_status          21331 non-null  object \n",
      " 6   family_status_id       21331 non-null  int64  \n",
      " 7   gender                 21331 non-null  object \n",
      " 8   income_type            21331 non-null  object \n",
      " 9   debt                   21331 non-null  int64  \n",
      " 10  total_income           21331 non-null  int32  \n",
      " 11  purpose                21331 non-null  object \n",
      " 12  total_income_category  21331 non-null  object \n",
      " 13  purpose_category       21331 non-null  object \n",
      "dtypes: float64(1), int32(1), int64(5), object(7)\n",
      "memory usage: 2.4+ MB\n"
     ]
    }
   ],
   "source": [
    "# общая информация по дата фрейму для оценки данных после предобработки\n",
    "data.info()"
   ]
  },
  {
   "cell_type": "code",
   "execution_count": 26,
   "metadata": {},
   "outputs": [
    {
     "data": {
      "text/html": [
       "<div>\n",
       "<style scoped>\n",
       "    .dataframe tbody tr th:only-of-type {\n",
       "        vertical-align: middle;\n",
       "    }\n",
       "\n",
       "    .dataframe tbody tr th {\n",
       "        vertical-align: top;\n",
       "    }\n",
       "\n",
       "    .dataframe thead th {\n",
       "        text-align: right;\n",
       "    }\n",
       "</style>\n",
       "<table border=\"1\" class=\"dataframe\">\n",
       "  <thead>\n",
       "    <tr style=\"text-align: right;\">\n",
       "      <th></th>\n",
       "      <th>children</th>\n",
       "      <th>days_employed</th>\n",
       "      <th>dob_years</th>\n",
       "      <th>education</th>\n",
       "      <th>education_id</th>\n",
       "      <th>family_status</th>\n",
       "      <th>family_status_id</th>\n",
       "      <th>gender</th>\n",
       "      <th>income_type</th>\n",
       "      <th>debt</th>\n",
       "      <th>total_income</th>\n",
       "      <th>purpose</th>\n",
       "      <th>total_income_category</th>\n",
       "      <th>purpose_category</th>\n",
       "    </tr>\n",
       "  </thead>\n",
       "  <tbody>\n",
       "    <tr>\n",
       "      <th>0</th>\n",
       "      <td>1</td>\n",
       "      <td>8437.673028</td>\n",
       "      <td>42</td>\n",
       "      <td>высшее</td>\n",
       "      <td>0</td>\n",
       "      <td>женат / замужем</td>\n",
       "      <td>0</td>\n",
       "      <td>F</td>\n",
       "      <td>сотрудник</td>\n",
       "      <td>0</td>\n",
       "      <td>253875</td>\n",
       "      <td>покупка жилья</td>\n",
       "      <td>B</td>\n",
       "      <td>операции с недвижимостью</td>\n",
       "    </tr>\n",
       "    <tr>\n",
       "      <th>1</th>\n",
       "      <td>1</td>\n",
       "      <td>4024.803754</td>\n",
       "      <td>36</td>\n",
       "      <td>среднее</td>\n",
       "      <td>1</td>\n",
       "      <td>женат / замужем</td>\n",
       "      <td>0</td>\n",
       "      <td>F</td>\n",
       "      <td>сотрудник</td>\n",
       "      <td>0</td>\n",
       "      <td>112080</td>\n",
       "      <td>приобретение автомобиля</td>\n",
       "      <td>C</td>\n",
       "      <td>операции с автомобилем</td>\n",
       "    </tr>\n",
       "    <tr>\n",
       "      <th>2</th>\n",
       "      <td>0</td>\n",
       "      <td>5623.422610</td>\n",
       "      <td>33</td>\n",
       "      <td>среднее</td>\n",
       "      <td>1</td>\n",
       "      <td>женат / замужем</td>\n",
       "      <td>0</td>\n",
       "      <td>M</td>\n",
       "      <td>сотрудник</td>\n",
       "      <td>0</td>\n",
       "      <td>145885</td>\n",
       "      <td>покупка жилья</td>\n",
       "      <td>C</td>\n",
       "      <td>операции с недвижимостью</td>\n",
       "    </tr>\n",
       "    <tr>\n",
       "      <th>3</th>\n",
       "      <td>3</td>\n",
       "      <td>4124.747207</td>\n",
       "      <td>32</td>\n",
       "      <td>среднее</td>\n",
       "      <td>1</td>\n",
       "      <td>женат / замужем</td>\n",
       "      <td>0</td>\n",
       "      <td>M</td>\n",
       "      <td>сотрудник</td>\n",
       "      <td>0</td>\n",
       "      <td>267628</td>\n",
       "      <td>дополнительное образование</td>\n",
       "      <td>B</td>\n",
       "      <td>получение образования</td>\n",
       "    </tr>\n",
       "    <tr>\n",
       "      <th>4</th>\n",
       "      <td>0</td>\n",
       "      <td>340266.072047</td>\n",
       "      <td>53</td>\n",
       "      <td>среднее</td>\n",
       "      <td>1</td>\n",
       "      <td>гражданский брак</td>\n",
       "      <td>1</td>\n",
       "      <td>F</td>\n",
       "      <td>пенсионер</td>\n",
       "      <td>0</td>\n",
       "      <td>158616</td>\n",
       "      <td>сыграть свадьбу</td>\n",
       "      <td>C</td>\n",
       "      <td>проведение свадьбы</td>\n",
       "    </tr>\n",
       "  </tbody>\n",
       "</table>\n",
       "</div>"
      ],
      "text/plain": [
       "   children  days_employed  dob_years education  education_id  \\\n",
       "0         1    8437.673028         42    высшее             0   \n",
       "1         1    4024.803754         36   среднее             1   \n",
       "2         0    5623.422610         33   среднее             1   \n",
       "3         3    4124.747207         32   среднее             1   \n",
       "4         0  340266.072047         53   среднее             1   \n",
       "\n",
       "      family_status  family_status_id gender income_type  debt  total_income  \\\n",
       "0   женат / замужем                 0      F   сотрудник     0        253875   \n",
       "1   женат / замужем                 0      F   сотрудник     0        112080   \n",
       "2   женат / замужем                 0      M   сотрудник     0        145885   \n",
       "3   женат / замужем                 0      M   сотрудник     0        267628   \n",
       "4  гражданский брак                 1      F   пенсионер     0        158616   \n",
       "\n",
       "                      purpose total_income_category          purpose_category  \n",
       "0               покупка жилья                     B  операции с недвижимостью  \n",
       "1     приобретение автомобиля                     C    операции с автомобилем  \n",
       "2               покупка жилья                     C  операции с недвижимостью  \n",
       "3  дополнительное образование                     B     получение образования  \n",
       "4             сыграть свадьбу                     C        проведение свадьбы  "
      ]
     },
     "execution_count": 26,
     "metadata": {},
     "output_type": "execute_result"
    }
   ],
   "source": [
    "# вывод первых 5 строк для оценки данных после предобработки\n",
    "data.head()"
   ]
  },
  {
   "cell_type": "code",
   "execution_count": 27,
   "metadata": {},
   "outputs": [
    {
     "name": "stdout",
     "output_type": "stream",
     "text": [
      "задержали оплату = 1732, в среднем по всей выборке = 8.12%\n"
     ]
    }
   ],
   "source": [
    "# общая оценка оплаты по кредиту по всем данным и категориям\n",
    "total_debt_0 = data[data['debt'] == 0]['debt'].count()\n",
    "total_debt_1 = data[data['debt'] == 1]['debt'].count()\n",
    "\n",
    "#print('не было задолжности =',total_debt_0, 'в процентах =', round(total_debt_0 / len(data) * 100,2))\n",
    "print(f'задержали оплату = {total_debt_1}, в среднем по всей выборке = {round(total_debt_1 / len(data) * 100,2)}%')"
   ]
  },
  {
   "cell_type": "code",
   "execution_count": 28,
   "metadata": {
    "deletable": false,
    "id": "2cacfc4a"
   },
   "outputs": [],
   "source": [
    "# общая функция для построения сводной таблицы для вывода данных: Количество кредитов, Количество должников, Процент должников \n",
    "# по категориям\n",
    "\n",
    "def distribution_debt_by_category(row):\n",
    "    '''\n",
    "    distribution_debt_by_category - распределение задолжности по категории\n",
    "    функция:\n",
    "    - принимает на вход ряд dataframe сгруппированный по указанной категории\n",
    "    - возвращет распределение в категории: Количество кредитов, Количество должников, Процент должников \n",
    "    '''\n",
    "    result = {\n",
    "        'Количество кредитов': row['debt'].count(),\n",
    "        'Количество должников': round(row['debt'].sum()),\n",
    "        'Процент должников': round(row['debt'].sum() / row['debt'].count() * 100, 2)      \n",
    "    }\n",
    "    return pd.Series(result)\n"
   ]
  },
  {
   "cell_type": "code",
   "execution_count": 29,
   "metadata": {},
   "outputs": [],
   "source": [
    "# общая функция для построения bar chart по сводной таблице по заданой категории\n",
    "\n",
    "def bar_chart_distribution_debt_by_category(data, column='Процент должников', x=str):\n",
    "    '''\n",
    "    bar_chart_distribution_debt_by_category - гистограмма распределение задолжности по категории\n",
    "     функция:\n",
    "    - принимает на вход сводную таблицу по категории, колонку по которой строиться гистограмма, по умолчанию 'Процент должников'\n",
    "    - возвращет гистограму количества значений в категории по указанной колонке, по умолчанию 'Процент должников'\n",
    "    '''\n",
    "    data[column].plot(kind='bar', grid=True, figsize=(14,4), rot=0, ylim=(0, 12), fontsize=12)\n",
    "    plt.ylabel(column, fontsize=12)\n",
    "    plt.xlabel(x, fontsize=12)\n",
    "    plt.title('bar chart по категории '+x, fontsize=14, fontweight='bold');\n",
    "    "
   ]
  },
  {
   "cell_type": "markdown",
   "metadata": {
    "deletable": false,
    "editable": false,
    "id": "c5d66278"
   },
   "source": [
    "#### 3.1 Есть ли зависимость между количеством детей и возвратом кредита в срок?"
   ]
  },
  {
   "cell_type": "code",
   "execution_count": 30,
   "metadata": {},
   "outputs": [
    {
     "data": {
      "text/html": [
       "<div>\n",
       "<style scoped>\n",
       "    .dataframe tbody tr th:only-of-type {\n",
       "        vertical-align: middle;\n",
       "    }\n",
       "\n",
       "    .dataframe tbody tr th {\n",
       "        vertical-align: top;\n",
       "    }\n",
       "\n",
       "    .dataframe thead th {\n",
       "        text-align: right;\n",
       "    }\n",
       "</style>\n",
       "<table border=\"1\" class=\"dataframe\">\n",
       "  <thead>\n",
       "    <tr style=\"text-align: right;\">\n",
       "      <th></th>\n",
       "      <th>children</th>\n",
       "      <th>Количество кредитов</th>\n",
       "      <th>Количество должников</th>\n",
       "      <th>Процент должников</th>\n",
       "    </tr>\n",
       "  </thead>\n",
       "  <tbody>\n",
       "    <tr>\n",
       "      <th>0</th>\n",
       "      <td>0</td>\n",
       "      <td>14091.0</td>\n",
       "      <td>1063.0</td>\n",
       "      <td>7.54</td>\n",
       "    </tr>\n",
       "    <tr>\n",
       "      <th>1</th>\n",
       "      <td>1</td>\n",
       "      <td>4808.0</td>\n",
       "      <td>444.0</td>\n",
       "      <td>9.23</td>\n",
       "    </tr>\n",
       "    <tr>\n",
       "      <th>2</th>\n",
       "      <td>2</td>\n",
       "      <td>2052.0</td>\n",
       "      <td>194.0</td>\n",
       "      <td>9.45</td>\n",
       "    </tr>\n",
       "    <tr>\n",
       "      <th>3</th>\n",
       "      <td>3</td>\n",
       "      <td>330.0</td>\n",
       "      <td>27.0</td>\n",
       "      <td>8.18</td>\n",
       "    </tr>\n",
       "    <tr>\n",
       "      <th>4</th>\n",
       "      <td>4</td>\n",
       "      <td>41.0</td>\n",
       "      <td>4.0</td>\n",
       "      <td>9.76</td>\n",
       "    </tr>\n",
       "    <tr>\n",
       "      <th>5</th>\n",
       "      <td>5</td>\n",
       "      <td>9.0</td>\n",
       "      <td>0.0</td>\n",
       "      <td>0.00</td>\n",
       "    </tr>\n",
       "  </tbody>\n",
       "</table>\n",
       "</div>"
      ],
      "text/plain": [
       "   children  Количество кредитов  Количество должников  Процент должников\n",
       "0         0              14091.0                1063.0               7.54\n",
       "1         1               4808.0                 444.0               9.23\n",
       "2         2               2052.0                 194.0               9.45\n",
       "3         3                330.0                  27.0               8.18\n",
       "4         4                 41.0                   4.0               9.76\n",
       "5         5                  9.0                   0.0               0.00"
      ]
     },
     "execution_count": 30,
     "metadata": {},
     "output_type": "execute_result"
    }
   ],
   "source": [
    "# сводной таблица по категории Количество детей \n",
    "data_children_category = data.groupby(['children']).apply(distribution_debt_by_category)\n",
    "data_children_category.reset_index()"
   ]
  },
  {
   "cell_type": "code",
   "execution_count": 31,
   "metadata": {
    "scrolled": true
   },
   "outputs": [
    {
     "data": {
      "image/png": "[encoded data removed]",
      "text/plain": [
       "<Figure size 1008x288 with 1 Axes>"
      ]
     },
     "metadata": {
      "needs_background": "light"
     },
     "output_type": "display_data"
    }
   ],
   "source": [
    "# bar chart по категории Количество детей \n",
    "bar_chart_distribution_debt_by_category(data_children_category, x='Количество детей')"
   ]
  },
  {
   "cell_type": "markdown",
   "metadata": {
    "deletable": false,
    "id": "3a6b99ec"
   },
   "source": [
    "**Вывод:** \n",
    "зависимость между семейным статусом и возвратом кредита в срок - есть:\n",
    " - процент заемщиков, у которых была задолжность по оплату кредита меняется от 7.54% до 9.76%; \n",
    " - лучше оплачивают кредит заемщики из категории \"детей=0\" и \"детей=3\" - 7.54% и 8.18% не оплаченных вовремя соответственно;\n",
    " - хуже оплаиваю кредит категории с 1, 2, 4 детьми - 9.23%, 9.45%, 9.76% соответственно; \n",
    " - при наличии 5 детей, процент оплаты 100%, но это м.б. вызвано малой выборкой по этой категории в данной базе данных, всего 9 человек в категории, при общей выборке 21 331 человек;"
   ]
  },
  {
   "cell_type": "markdown",
   "metadata": {
    "deletable": false,
    "editable": false,
    "id": "97be82ca"
   },
   "source": [
    "#### 3.2 Есть ли зависимость между семейным положением и возвратом кредита в срок?"
   ]
  },
  {
   "cell_type": "code",
   "execution_count": 32,
   "metadata": {
    "deletable": false,
    "id": "dc3f7ee8",
    "scrolled": true
   },
   "outputs": [
    {
     "data": {
      "text/html": [
       "<div>\n",
       "<style scoped>\n",
       "    .dataframe tbody tr th:only-of-type {\n",
       "        vertical-align: middle;\n",
       "    }\n",
       "\n",
       "    .dataframe tbody tr th {\n",
       "        vertical-align: top;\n",
       "    }\n",
       "\n",
       "    .dataframe thead th {\n",
       "        text-align: right;\n",
       "    }\n",
       "</style>\n",
       "<table border=\"1\" class=\"dataframe\">\n",
       "  <thead>\n",
       "    <tr style=\"text-align: right;\">\n",
       "      <th></th>\n",
       "      <th>family_status</th>\n",
       "      <th>Количество кредитов</th>\n",
       "      <th>Количество должников</th>\n",
       "      <th>Процент должников</th>\n",
       "    </tr>\n",
       "  </thead>\n",
       "  <tbody>\n",
       "    <tr>\n",
       "      <th>0</th>\n",
       "      <td>Не женат / не замужем</td>\n",
       "      <td>2796.0</td>\n",
       "      <td>273.0</td>\n",
       "      <td>9.76</td>\n",
       "    </tr>\n",
       "    <tr>\n",
       "      <th>1</th>\n",
       "      <td>в разводе</td>\n",
       "      <td>1189.0</td>\n",
       "      <td>84.0</td>\n",
       "      <td>7.06</td>\n",
       "    </tr>\n",
       "    <tr>\n",
       "      <th>2</th>\n",
       "      <td>вдовец / вдова</td>\n",
       "      <td>951.0</td>\n",
       "      <td>63.0</td>\n",
       "      <td>6.62</td>\n",
       "    </tr>\n",
       "    <tr>\n",
       "      <th>3</th>\n",
       "      <td>гражданский брак</td>\n",
       "      <td>4134.0</td>\n",
       "      <td>385.0</td>\n",
       "      <td>9.31</td>\n",
       "    </tr>\n",
       "    <tr>\n",
       "      <th>4</th>\n",
       "      <td>женат / замужем</td>\n",
       "      <td>12261.0</td>\n",
       "      <td>927.0</td>\n",
       "      <td>7.56</td>\n",
       "    </tr>\n",
       "  </tbody>\n",
       "</table>\n",
       "</div>"
      ],
      "text/plain": [
       "           family_status  Количество кредитов  Количество должников  \\\n",
       "0  Не женат / не замужем               2796.0                 273.0   \n",
       "1              в разводе               1189.0                  84.0   \n",
       "2         вдовец / вдова                951.0                  63.0   \n",
       "3       гражданский брак               4134.0                 385.0   \n",
       "4        женат / замужем              12261.0                 927.0   \n",
       "\n",
       "   Процент должников  \n",
       "0               9.76  \n",
       "1               7.06  \n",
       "2               6.62  \n",
       "3               9.31  \n",
       "4               7.56  "
      ]
     },
     "execution_count": 32,
     "metadata": {},
     "output_type": "execute_result"
    }
   ],
   "source": [
    "#  сводной таблица по категории Семейное положение \n",
    "data_family_category = data.groupby(['family_status']).apply(distribution_debt_by_category)\n",
    "data_family_category.reset_index()"
   ]
  },
  {
   "cell_type": "code",
   "execution_count": 33,
   "metadata": {},
   "outputs": [
    {
     "data": {
      "image/png": "[encoded data removed]",
      "text/plain": [
       "<Figure size 1008x288 with 1 Axes>"
      ]
     },
     "metadata": {
      "needs_background": "light"
     },
     "output_type": "display_data"
    }
   ],
   "source": [
    "# bar chart по категории Семейное положение \n",
    "bar_chart_distribution_debt_by_category(data_family_category, x='Семейный статус')"
   ]
  },
  {
   "cell_type": "markdown",
   "metadata": {
    "deletable": false,
    "id": "1cef7837"
   },
   "source": [
    "**Вывод:** зависимости между Семейным статусом и возвратом кредита в срок - есть:\n",
    " - процент заемщиков, у которых была задолжность по оплату кредита меняется от 6.62% до 9.76%; \n",
    " - лучше оплата в категория \"вдова/вдовец\", \"в разводе\", \"женат/замужем\"- 6.62%, 7.02%, 7.56% не оплаченных вовремя;\n",
    " - хуже оплачиваю кредит в категориях \"гражанский брак\" и \"не женат/не замужем - 9.31% и 9.76% соответственно; "
   ]
  },
  {
   "cell_type": "markdown",
   "metadata": {
    "deletable": false,
    "editable": false,
    "id": "1e8b2fca"
   },
   "source": [
    "#### 3.3 Есть ли зависимость между уровнем дохода и возвратом кредита в срок?"
   ]
  },
  {
   "cell_type": "markdown",
   "metadata": {},
   "source": [
    "**заданные в условии диапазоны дохода**\n",
    "   - 0–30000 — 'E';\n",
    "   - 30001–50000 — 'D';\n",
    "   - 50001–200000 — 'C';\n",
    "   - 200001–1000000 — 'B';\n",
    "   - 1000001 и выше — 'A'."
   ]
  },
  {
   "cell_type": "code",
   "execution_count": 34,
   "metadata": {
    "deletable": false,
    "id": "cd7e3720"
   },
   "outputs": [
    {
     "data": {
      "text/html": [
       "<div>\n",
       "<style scoped>\n",
       "    .dataframe tbody tr th:only-of-type {\n",
       "        vertical-align: middle;\n",
       "    }\n",
       "\n",
       "    .dataframe tbody tr th {\n",
       "        vertical-align: top;\n",
       "    }\n",
       "\n",
       "    .dataframe thead th {\n",
       "        text-align: right;\n",
       "    }\n",
       "</style>\n",
       "<table border=\"1\" class=\"dataframe\">\n",
       "  <thead>\n",
       "    <tr style=\"text-align: right;\">\n",
       "      <th></th>\n",
       "      <th>total_income_category</th>\n",
       "      <th>Количество кредитов</th>\n",
       "      <th>Количество должников</th>\n",
       "      <th>Процент должников</th>\n",
       "    </tr>\n",
       "  </thead>\n",
       "  <tbody>\n",
       "    <tr>\n",
       "      <th>0</th>\n",
       "      <td>A</td>\n",
       "      <td>25.0</td>\n",
       "      <td>2.0</td>\n",
       "      <td>8.00</td>\n",
       "    </tr>\n",
       "    <tr>\n",
       "      <th>1</th>\n",
       "      <td>B</td>\n",
       "      <td>5014.0</td>\n",
       "      <td>354.0</td>\n",
       "      <td>7.06</td>\n",
       "    </tr>\n",
       "    <tr>\n",
       "      <th>2</th>\n",
       "      <td>C</td>\n",
       "      <td>15921.0</td>\n",
       "      <td>1353.0</td>\n",
       "      <td>8.50</td>\n",
       "    </tr>\n",
       "    <tr>\n",
       "      <th>3</th>\n",
       "      <td>D</td>\n",
       "      <td>349.0</td>\n",
       "      <td>21.0</td>\n",
       "      <td>6.02</td>\n",
       "    </tr>\n",
       "    <tr>\n",
       "      <th>4</th>\n",
       "      <td>E</td>\n",
       "      <td>22.0</td>\n",
       "      <td>2.0</td>\n",
       "      <td>9.09</td>\n",
       "    </tr>\n",
       "  </tbody>\n",
       "</table>\n",
       "</div>"
      ],
      "text/plain": [
       "  total_income_category  Количество кредитов  Количество должников  \\\n",
       "0                     A                 25.0                   2.0   \n",
       "1                     B               5014.0                 354.0   \n",
       "2                     C              15921.0                1353.0   \n",
       "3                     D                349.0                  21.0   \n",
       "4                     E                 22.0                   2.0   \n",
       "\n",
       "   Процент должников  \n",
       "0               8.00  \n",
       "1               7.06  \n",
       "2               8.50  \n",
       "3               6.02  \n",
       "4               9.09  "
      ]
     },
     "execution_count": 34,
     "metadata": {},
     "output_type": "execute_result"
    }
   ],
   "source": [
    "# сводной таблица по категории Уровень дохода\n",
    "data_incom_category = data.groupby(['total_income_category']).apply(distribution_debt_by_category)\n",
    "data_incom_category.reset_index()"
   ]
  },
  {
   "cell_type": "code",
   "execution_count": 35,
   "metadata": {},
   "outputs": [
    {
     "data": {
      "image/png": "[encoded data removed]",
      "text/plain": [
       "<Figure size 1008x288 with 1 Axes>"
      ]
     },
     "metadata": {
      "needs_background": "light"
     },
     "output_type": "display_data"
    }
   ],
   "source": [
    "# bar chart по категории Уровень дохода\n",
    "bar_chart_distribution_debt_by_category(data_incom_category, x='Общий доход')"
   ]
  },
  {
   "cell_type": "markdown",
   "metadata": {
    "deletable": false,
    "id": "e8593def"
   },
   "source": [
    "**Вывод:** зависимости между категорией дохода и возвратом кредита в срок - есть:\n",
    " - процент заемщиков, у которых была задолжность по оплату кредита меняется от 6.02% до 9.09%; \n",
    " - лучше оплачивают кредит в категориях D(30001–50000)и B(200001–1000000)- 6.02% и 7.02% не оплаченных вовремя соответственно;\n",
    " - хуже оплачиваю кредит в категориях С(50001–200000) и E(0–30000) - 8.50% и 9.09% соответственно; "
   ]
  },
  {
   "cell_type": "markdown",
   "metadata": {
    "deletable": false,
    "editable": false,
    "id": "99ecbd1f"
   },
   "source": [
    "#### 3.4 Как разные цели кредита влияют на его возврат в срок?"
   ]
  },
  {
   "cell_type": "code",
   "execution_count": 36,
   "metadata": {
    "deletable": false,
    "id": "2b687290",
    "scrolled": true
   },
   "outputs": [
    {
     "data": {
      "text/html": [
       "<div>\n",
       "<style scoped>\n",
       "    .dataframe tbody tr th:only-of-type {\n",
       "        vertical-align: middle;\n",
       "    }\n",
       "\n",
       "    .dataframe tbody tr th {\n",
       "        vertical-align: top;\n",
       "    }\n",
       "\n",
       "    .dataframe thead th {\n",
       "        text-align: right;\n",
       "    }\n",
       "</style>\n",
       "<table border=\"1\" class=\"dataframe\">\n",
       "  <thead>\n",
       "    <tr style=\"text-align: right;\">\n",
       "      <th></th>\n",
       "      <th>purpose_category</th>\n",
       "      <th>Количество кредитов</th>\n",
       "      <th>Количество должников</th>\n",
       "      <th>Процент должников</th>\n",
       "    </tr>\n",
       "  </thead>\n",
       "  <tbody>\n",
       "    <tr>\n",
       "      <th>1</th>\n",
       "      <td>операции с недвижимостью</td>\n",
       "      <td>10751.0</td>\n",
       "      <td>780.0</td>\n",
       "      <td>7.26</td>\n",
       "    </tr>\n",
       "    <tr>\n",
       "      <th>3</th>\n",
       "      <td>проведение свадьбы</td>\n",
       "      <td>2313.0</td>\n",
       "      <td>183.0</td>\n",
       "      <td>7.91</td>\n",
       "    </tr>\n",
       "    <tr>\n",
       "      <th>2</th>\n",
       "      <td>получение образования</td>\n",
       "      <td>3988.0</td>\n",
       "      <td>369.0</td>\n",
       "      <td>9.25</td>\n",
       "    </tr>\n",
       "    <tr>\n",
       "      <th>0</th>\n",
       "      <td>операции с автомобилем</td>\n",
       "      <td>4279.0</td>\n",
       "      <td>400.0</td>\n",
       "      <td>9.35</td>\n",
       "    </tr>\n",
       "  </tbody>\n",
       "</table>\n",
       "</div>"
      ],
      "text/plain": [
       "           purpose_category  Количество кредитов  Количество должников  \\\n",
       "1  операции с недвижимостью              10751.0                 780.0   \n",
       "3        проведение свадьбы               2313.0                 183.0   \n",
       "2     получение образования               3988.0                 369.0   \n",
       "0    операции с автомобилем               4279.0                 400.0   \n",
       "\n",
       "   Процент должников  \n",
       "1               7.26  \n",
       "3               7.91  \n",
       "2               9.25  \n",
       "0               9.35  "
      ]
     },
     "execution_count": 36,
     "metadata": {},
     "output_type": "execute_result"
    }
   ],
   "source": [
    "# сводной таблица по категории Цели кредита\n",
    "data_purpose_category = data.groupby(['purpose_category']).apply(distribution_debt_by_category)\n",
    "data_purpose_category.reset_index().sort_values(by='Процент должников')"
   ]
  },
  {
   "cell_type": "code",
   "execution_count": 37,
   "metadata": {},
   "outputs": [
    {
     "data": {
      "image/png": "[encoded data removed]",
      "text/plain": [
       "<Figure size 1008x288 with 1 Axes>"
      ]
     },
     "metadata": {
      "needs_background": "light"
     },
     "output_type": "display_data"
    }
   ],
   "source": [
    "# bar chart по категории Цели кредита\n",
    "bar_chart_distribution_debt_by_category(data_purpose_category, x='Цели кредита')"
   ]
  },
  {
   "cell_type": "markdown",
   "metadata": {
    "deletable": false,
    "id": "b4bb2ce6"
   },
   "source": [
    "**Вывод:** зависимости между Целями кредита и возвратом кредита в срок - есть:\n",
    "\n",
    " - процент заемщиков, у которых была задолжность по оплату кредита меняется от 7.26% до 9.35%; \n",
    " - лучше оплачивают кредит в категориях \"операции с недвижимостью\" и \"проведение свадьбы\" - 7.26% и 7.91%;\n",
    " - хуже оплачиваю кредит в категориях \"операции с автомобилем\" и \"получиение образования\" - 9.25% и 9.35% соответственно; "
   ]
  },
  {
   "cell_type": "markdown",
   "metadata": {
    "deletable": false,
    "editable": false,
    "id": "09c3ac4c"
   },
   "source": [
    "#### 3.5 Приведите возможные причины появления пропусков в исходных данных."
   ]
  },
  {
   "cell_type": "markdown",
   "metadata": {
    "deletable": false,
    "id": "9da2ceda"
   },
   "source": [
    "Как было определено выше пропуски в данных: \n",
    "- в колонках  'days_employed' и 'total incom'\n",
    "- в одинаковых строках у данных признаков, т.е. по определенным людям\n",
    "- 2 174 пропуска по каждому признаку\n",
    "\n",
    "Возможные причины появления пропусков в данных:\n",
    "\n",
    "    1) технические ошибки при слиянии баз\n",
    "    2) возможно данные, по количеству стажа и размеру дохода были скрыты, как конфидициальные по данным лицам\n",
    "    \n",
    "Для более точного понимания причины пропусков нужно запросить дополнительную информацию у сотрудников банка, отвечающих за сбор, хранение и передачу информации.\n"
   ]
  },
  {
   "cell_type": "markdown",
   "metadata": {
    "deletable": false,
    "editable": false,
    "id": "7b0487d6"
   },
   "source": [
    "#### 3.6 Объясните, почему заполнить пропуски медианным значением — лучшее решение для количественных переменных."
   ]
  },
  {
   "cell_type": "markdown",
   "metadata": {
    "deletable": false,
    "id": "7ecf2b8e"
   },
   "source": [
    "**Ответ:** \n",
    "В связи с тем, что в количественных данных могут быть значительные по величине, аномалии/ выбросы  или распределение значений данных м.б. асимметрично, то при расчете среднего значения данные будут давать искажение, поэтому в таких случаях лучше использовать медианные данные. Медиана поможет найти именно тот показатель, который ближе всего к среднему."
   ]
  },
  {
   "cell_type": "markdown",
   "metadata": {},
   "source": [
    "### Дополнительные исследования по другим признакам"
   ]
  },
  {
   "cell_type": "markdown",
   "metadata": {},
   "source": [
    "####  Есть ли зависимость между образованием с возвратом кредита в срок?"
   ]
  },
  {
   "cell_type": "code",
   "execution_count": 38,
   "metadata": {},
   "outputs": [
    {
     "data": {
      "text/html": [
       "<div>\n",
       "<style scoped>\n",
       "    .dataframe tbody tr th:only-of-type {\n",
       "        vertical-align: middle;\n",
       "    }\n",
       "\n",
       "    .dataframe tbody tr th {\n",
       "        vertical-align: top;\n",
       "    }\n",
       "\n",
       "    .dataframe thead th {\n",
       "        text-align: right;\n",
       "    }\n",
       "</style>\n",
       "<table border=\"1\" class=\"dataframe\">\n",
       "  <thead>\n",
       "    <tr style=\"text-align: right;\">\n",
       "      <th></th>\n",
       "      <th>education</th>\n",
       "      <th>Количество кредитов</th>\n",
       "      <th>Количество должников</th>\n",
       "      <th>Процент должников</th>\n",
       "    </tr>\n",
       "  </thead>\n",
       "  <tbody>\n",
       "    <tr>\n",
       "      <th>4</th>\n",
       "      <td>ученая степень</td>\n",
       "      <td>6.0</td>\n",
       "      <td>0.0</td>\n",
       "      <td>0.00</td>\n",
       "    </tr>\n",
       "    <tr>\n",
       "      <th>0</th>\n",
       "      <td>высшее</td>\n",
       "      <td>5227.0</td>\n",
       "      <td>278.0</td>\n",
       "      <td>5.32</td>\n",
       "    </tr>\n",
       "    <tr>\n",
       "      <th>3</th>\n",
       "      <td>среднее</td>\n",
       "      <td>15075.0</td>\n",
       "      <td>1355.0</td>\n",
       "      <td>8.99</td>\n",
       "    </tr>\n",
       "    <tr>\n",
       "      <th>2</th>\n",
       "      <td>неоконченное высшее</td>\n",
       "      <td>741.0</td>\n",
       "      <td>68.0</td>\n",
       "      <td>9.18</td>\n",
       "    </tr>\n",
       "    <tr>\n",
       "      <th>1</th>\n",
       "      <td>начальное</td>\n",
       "      <td>282.0</td>\n",
       "      <td>31.0</td>\n",
       "      <td>10.99</td>\n",
       "    </tr>\n",
       "  </tbody>\n",
       "</table>\n",
       "</div>"
      ],
      "text/plain": [
       "             education  Количество кредитов  Количество должников  \\\n",
       "4       ученая степень                  6.0                   0.0   \n",
       "0               высшее               5227.0                 278.0   \n",
       "3              среднее              15075.0                1355.0   \n",
       "2  неоконченное высшее                741.0                  68.0   \n",
       "1            начальное                282.0                  31.0   \n",
       "\n",
       "   Процент должников  \n",
       "4               0.00  \n",
       "0               5.32  \n",
       "3               8.99  \n",
       "2               9.18  \n",
       "1              10.99  "
      ]
     },
     "execution_count": 38,
     "metadata": {},
     "output_type": "execute_result"
    }
   ],
   "source": [
    "# сводноя таблица по категории Образование\n",
    "data_education_category = data.groupby(['education']).apply(distribution_debt_by_category)\n",
    "data_education_category.reset_index().sort_values(by='Процент должников')"
   ]
  },
  {
   "cell_type": "code",
   "execution_count": 39,
   "metadata": {},
   "outputs": [
    {
     "data": {
      "image/png": "[encoded data removed]",
      "text/plain": [
       "<Figure size 1008x288 with 1 Axes>"
      ]
     },
     "metadata": {
      "needs_background": "light"
     },
     "output_type": "display_data"
    }
   ],
   "source": [
    "# bar chart по категории Образование\n",
    "bar_chart_distribution_debt_by_category(data_education_category, x='Образование')"
   ]
  },
  {
   "cell_type": "markdown",
   "metadata": {},
   "source": [
    "**Вывод:** зависимости между Образованием и Возвратом кредита в срок - есть:\n",
    "\n",
    " - процент заемщиков, у которых была задолжность по оплату кредита меняется от 5.32% до 10.99%; \n",
    " - лучше оплачивают кредит в категориях \"высшее образование - 5.32%;\n",
    " - хуже оплачиваю кредит в категориях \"неоконченное высшее\" и \"начальное\" - 9.18 и 10.99% соответстенно; \n",
    " - при наличии ученой степени, процент оплаты 100%, но это м.б. вызвано малой выборкой по этой категории в данной базе данных, всего 6 человек в категории, при общей выборке 21 331 человек;"
   ]
  },
  {
   "cell_type": "markdown",
   "metadata": {},
   "source": [
    "#### Есть ли зависимость между пол/ gender с возвратом кредита в срок?"
   ]
  },
  {
   "cell_type": "code",
   "execution_count": 40,
   "metadata": {},
   "outputs": [
    {
     "data": {
      "text/html": [
       "<div>\n",
       "<style scoped>\n",
       "    .dataframe tbody tr th:only-of-type {\n",
       "        vertical-align: middle;\n",
       "    }\n",
       "\n",
       "    .dataframe tbody tr th {\n",
       "        vertical-align: top;\n",
       "    }\n",
       "\n",
       "    .dataframe thead th {\n",
       "        text-align: right;\n",
       "    }\n",
       "</style>\n",
       "<table border=\"1\" class=\"dataframe\">\n",
       "  <thead>\n",
       "    <tr style=\"text-align: right;\">\n",
       "      <th></th>\n",
       "      <th>gender</th>\n",
       "      <th>Количество кредитов</th>\n",
       "      <th>Количество должников</th>\n",
       "      <th>Процент должников</th>\n",
       "    </tr>\n",
       "  </thead>\n",
       "  <tbody>\n",
       "    <tr>\n",
       "      <th>0</th>\n",
       "      <td>F</td>\n",
       "      <td>14092.0</td>\n",
       "      <td>989.0</td>\n",
       "      <td>7.02</td>\n",
       "    </tr>\n",
       "    <tr>\n",
       "      <th>1</th>\n",
       "      <td>M</td>\n",
       "      <td>7238.0</td>\n",
       "      <td>743.0</td>\n",
       "      <td>10.27</td>\n",
       "    </tr>\n",
       "    <tr>\n",
       "      <th>2</th>\n",
       "      <td>XNA</td>\n",
       "      <td>1.0</td>\n",
       "      <td>0.0</td>\n",
       "      <td>0.00</td>\n",
       "    </tr>\n",
       "  </tbody>\n",
       "</table>\n",
       "</div>"
      ],
      "text/plain": [
       "  gender  Количество кредитов  Количество должников  Процент должников\n",
       "0      F              14092.0                 989.0               7.02\n",
       "1      M               7238.0                 743.0              10.27\n",
       "2    XNA                  1.0                   0.0               0.00"
      ]
     },
     "execution_count": 40,
     "metadata": {},
     "output_type": "execute_result"
    }
   ],
   "source": [
    "# сводноя таблица по категории Пол\n",
    "data_gender_category = data.groupby(['gender']).apply(distribution_debt_by_category)\n",
    "data_gender_category.reset_index()"
   ]
  },
  {
   "cell_type": "code",
   "execution_count": 41,
   "metadata": {},
   "outputs": [
    {
     "data": {
      "image/png": "[encoded data removed]",
      "text/plain": [
       "<Figure size 1008x288 with 1 Axes>"
      ]
     },
     "metadata": {
      "needs_background": "light"
     },
     "output_type": "display_data"
    }
   ],
   "source": [
    "# bar chart по категории Пол\n",
    "bar_chart_distribution_debt_by_category(data_gender_category, x='Пол')"
   ]
  },
  {
   "cell_type": "markdown",
   "metadata": {},
   "source": [
    "**Вывод:** зависимости между категорией пол/ gender и возвратом кредита в срок - есть:\n",
    "\n",
    "  - женщины лучше соблюдают график оплат, чем мужчины, задержка оплаты - 7.02% и 10.27% соответственно"
   ]
  },
  {
   "cell_type": "markdown",
   "metadata": {},
   "source": [
    "**Есть ли зависимость между типом дохода (income_type) и возвратом кредита в срок?**"
   ]
  },
  {
   "cell_type": "code",
   "execution_count": 42,
   "metadata": {},
   "outputs": [
    {
     "data": {
      "text/html": [
       "<div>\n",
       "<style scoped>\n",
       "    .dataframe tbody tr th:only-of-type {\n",
       "        vertical-align: middle;\n",
       "    }\n",
       "\n",
       "    .dataframe tbody tr th {\n",
       "        vertical-align: top;\n",
       "    }\n",
       "\n",
       "    .dataframe thead th {\n",
       "        text-align: right;\n",
       "    }\n",
       "</style>\n",
       "<table border=\"1\" class=\"dataframe\">\n",
       "  <thead>\n",
       "    <tr style=\"text-align: right;\">\n",
       "      <th></th>\n",
       "      <th>income_type</th>\n",
       "      <th>Количество кредитов</th>\n",
       "      <th>Количество должников</th>\n",
       "      <th>Процент должников</th>\n",
       "    </tr>\n",
       "  </thead>\n",
       "  <tbody>\n",
       "    <tr>\n",
       "      <th>5</th>\n",
       "      <td>предприниматель</td>\n",
       "      <td>2.0</td>\n",
       "      <td>0.0</td>\n",
       "      <td>0.00</td>\n",
       "    </tr>\n",
       "    <tr>\n",
       "      <th>7</th>\n",
       "      <td>студент</td>\n",
       "      <td>1.0</td>\n",
       "      <td>0.0</td>\n",
       "      <td>0.00</td>\n",
       "    </tr>\n",
       "    <tr>\n",
       "      <th>4</th>\n",
       "      <td>пенсионер</td>\n",
       "      <td>3812.0</td>\n",
       "      <td>216.0</td>\n",
       "      <td>5.67</td>\n",
       "    </tr>\n",
       "    <tr>\n",
       "      <th>2</th>\n",
       "      <td>госслужащий</td>\n",
       "      <td>1451.0</td>\n",
       "      <td>86.0</td>\n",
       "      <td>5.93</td>\n",
       "    </tr>\n",
       "    <tr>\n",
       "      <th>3</th>\n",
       "      <td>компаньон</td>\n",
       "      <td>5047.0</td>\n",
       "      <td>374.0</td>\n",
       "      <td>7.41</td>\n",
       "    </tr>\n",
       "    <tr>\n",
       "      <th>6</th>\n",
       "      <td>сотрудник</td>\n",
       "      <td>11015.0</td>\n",
       "      <td>1054.0</td>\n",
       "      <td>9.57</td>\n",
       "    </tr>\n",
       "    <tr>\n",
       "      <th>0</th>\n",
       "      <td>безработный</td>\n",
       "      <td>2.0</td>\n",
       "      <td>1.0</td>\n",
       "      <td>50.00</td>\n",
       "    </tr>\n",
       "    <tr>\n",
       "      <th>1</th>\n",
       "      <td>в декрете</td>\n",
       "      <td>1.0</td>\n",
       "      <td>1.0</td>\n",
       "      <td>100.00</td>\n",
       "    </tr>\n",
       "  </tbody>\n",
       "</table>\n",
       "</div>"
      ],
      "text/plain": [
       "       income_type  Количество кредитов  Количество должников  \\\n",
       "5  предприниматель                  2.0                   0.0   \n",
       "7          студент                  1.0                   0.0   \n",
       "4        пенсионер               3812.0                 216.0   \n",
       "2      госслужащий               1451.0                  86.0   \n",
       "3        компаньон               5047.0                 374.0   \n",
       "6        сотрудник              11015.0                1054.0   \n",
       "0      безработный                  2.0                   1.0   \n",
       "1        в декрете                  1.0                   1.0   \n",
       "\n",
       "   Процент должников  \n",
       "5               0.00  \n",
       "7               0.00  \n",
       "4               5.67  \n",
       "2               5.93  \n",
       "3               7.41  \n",
       "6               9.57  \n",
       "0              50.00  \n",
       "1             100.00  "
      ]
     },
     "execution_count": 42,
     "metadata": {},
     "output_type": "execute_result"
    }
   ],
   "source": [
    "# сводноя таблица по категории Тип дохода\n",
    "data_incom_type_category = data.groupby(['income_type']).apply(distribution_debt_by_category)\n",
    "data_incom_type_category.reset_index().sort_values(by=\"Процент должников\")"
   ]
  },
  {
   "cell_type": "code",
   "execution_count": 43,
   "metadata": {},
   "outputs": [
    {
     "data": {
      "image/png": "[encoded data removed]",
      "text/plain": [
       "<Figure size 1008x288 with 1 Axes>"
      ]
     },
     "metadata": {
      "needs_background": "light"
     },
     "output_type": "display_data"
    }
   ],
   "source": [
    "# bar chart по категории Тип дохода\n",
    "bar_chart_distribution_debt_by_category(data_incom_type_category, x='Тип дохода')"
   ]
  },
  {
   "cell_type": "markdown",
   "metadata": {},
   "source": [
    "**Вывод:** зависимости между Типом дохода и Возвратом кредита в срок - есть:\n",
    "\n",
    " - лучше оплачивают кредит в категориях \"пенсионер\" и \"госслужащий\"  - 5.67% и 5.93% соответственно;\n",
    " - хуже оплачивают кредит в категории \"сотрудник\" - 9.57%; \n",
    " - в категориях \"безработный\", \"в декрете\", \"предприниматель\", \"студент\" выборка небольшая 1-2 человека;"
   ]
  },
  {
   "cell_type": "markdown",
   "metadata": {},
   "source": [
    "#### Есть ли зависимость между возрастом и возвратом кредита в срок?"
   ]
  },
  {
   "cell_type": "code",
   "execution_count": 44,
   "metadata": {},
   "outputs": [],
   "source": [
    "# Формирование дополнительной категории по возрасту\n",
    "\n",
    "def category_age(row):\n",
    "    if row <=18:\n",
    "        return 'до 21 лет'\n",
    "    elif row <=40:\n",
    "        return '21-40 лет'\n",
    "    elif row <= 60:\n",
    "        return '41-60 лет'\n",
    "    else:\n",
    "        return 'старше 60 лет'\n",
    "    \n",
    "data['category_age'] = data['dob_years'].apply(category_age)"
   ]
  },
  {
   "cell_type": "code",
   "execution_count": 45,
   "metadata": {},
   "outputs": [
    {
     "data": {
      "text/html": [
       "<div>\n",
       "<style scoped>\n",
       "    .dataframe tbody tr th:only-of-type {\n",
       "        vertical-align: middle;\n",
       "    }\n",
       "\n",
       "    .dataframe tbody tr th {\n",
       "        vertical-align: top;\n",
       "    }\n",
       "\n",
       "    .dataframe thead th {\n",
       "        text-align: right;\n",
       "    }\n",
       "</style>\n",
       "<table border=\"1\" class=\"dataframe\">\n",
       "  <thead>\n",
       "    <tr style=\"text-align: right;\">\n",
       "      <th></th>\n",
       "      <th>category_age</th>\n",
       "      <th>Количество кредитов</th>\n",
       "      <th>Количество должников</th>\n",
       "      <th>Процент должников</th>\n",
       "    </tr>\n",
       "  </thead>\n",
       "  <tbody>\n",
       "    <tr>\n",
       "      <th>0</th>\n",
       "      <td>21-40 лет</td>\n",
       "      <td>9392.0</td>\n",
       "      <td>944.0</td>\n",
       "      <td>10.05</td>\n",
       "    </tr>\n",
       "    <tr>\n",
       "      <th>1</th>\n",
       "      <td>41-60 лет</td>\n",
       "      <td>9721.0</td>\n",
       "      <td>679.0</td>\n",
       "      <td>6.98</td>\n",
       "    </tr>\n",
       "    <tr>\n",
       "      <th>2</th>\n",
       "      <td>до 21 лет</td>\n",
       "      <td>100.0</td>\n",
       "      <td>8.0</td>\n",
       "      <td>8.00</td>\n",
       "    </tr>\n",
       "    <tr>\n",
       "      <th>3</th>\n",
       "      <td>старше 60 лет</td>\n",
       "      <td>2118.0</td>\n",
       "      <td>101.0</td>\n",
       "      <td>4.77</td>\n",
       "    </tr>\n",
       "  </tbody>\n",
       "</table>\n",
       "</div>"
      ],
      "text/plain": [
       "    category_age  Количество кредитов  Количество должников  Процент должников\n",
       "0      21-40 лет               9392.0                 944.0              10.05\n",
       "1      41-60 лет               9721.0                 679.0               6.98\n",
       "2      до 21 лет                100.0                   8.0               8.00\n",
       "3  старше 60 лет               2118.0                 101.0               4.77"
      ]
     },
     "execution_count": 45,
     "metadata": {},
     "output_type": "execute_result"
    }
   ],
   "source": [
    "# сводноя таблица по категории Возраст\n",
    "data_age_category = data.groupby(['category_age']).apply(distribution_debt_by_category)\n",
    "data_age_category.reset_index()"
   ]
  },
  {
   "cell_type": "code",
   "execution_count": 46,
   "metadata": {},
   "outputs": [
    {
     "data": {
      "image/png": "[encoded data removed]",
      "text/plain": [
       "<Figure size 1008x288 with 1 Axes>"
      ]
     },
     "metadata": {
      "needs_background": "light"
     },
     "output_type": "display_data"
    }
   ],
   "source": [
    "# bar chart по категории Возраст\n",
    "bar_chart_distribution_debt_by_category(data_age_category, x='Возраст')"
   ]
  },
  {
   "cell_type": "markdown",
   "metadata": {},
   "source": [
    "**Вывод:** зависимости между категорией возраста и возвратом кредита в срок - есть:\n",
    "- заемщики в категориях 41-60 лет и после 60 лет значительно лучше соблюдают график оплат, задолжность - 4.77% и 6.98%;\n",
    "- хуже оплачивают кредит в категориях \"21-40 лет\" - 10.05%;\n",
    "- в категории \"до 21\" выборка не большая - 8 человек;"
   ]
  },
  {
   "cell_type": "markdown",
   "metadata": {},
   "source": [
    "#### Есть ли зависимость между стажем работы и возвратом кредита в срок?"
   ]
  },
  {
   "cell_type": "code",
   "execution_count": 47,
   "metadata": {},
   "outputs": [],
   "source": [
    "# отфильтурем аномальные значения опыта работы в днях, они были у категорий: 'пенсионер', 'безработный', 'в декрете', 'студент'\n",
    "df = data[~data['income_type'].isin(['пенсионер', 'безработный', 'в декрете', 'студент'])].copy()"
   ]
  },
  {
   "cell_type": "code",
   "execution_count": 48,
   "metadata": {},
   "outputs": [
    {
     "data": {
      "image/png": "[encoded data removed]",
      "text/plain": [
       "<Figure size 432x288 with 1 Axes>"
      ]
     },
     "metadata": {
      "needs_background": "light"
     },
     "output_type": "display_data"
    }
   ],
   "source": [
    "# гистограмма распределения опыта работы в днях\n",
    "df['days_employed'].hist();"
   ]
  },
  {
   "cell_type": "code",
   "execution_count": 49,
   "metadata": {},
   "outputs": [],
   "source": [
    "# Формирование дополнительной категории по стажу в годах, т.к. в днями не очень удобно оперировать\n",
    "\n",
    "def years_employed(row):\n",
    "    if row <=3650:\n",
    "        return 'стаж до 10 лет'\n",
    "    elif row <=7300:\n",
    "        return 'стаж 11-20 лет'\n",
    "    elif row <= 10950:\n",
    "        return 'стаж 21-30 лет'\n",
    "    elif row <= 14600:\n",
    "        return 'стаж 31-40 лет'\n",
    "    elif row <= 18250:\n",
    "        return 'стаж 41-50 лет'\n",
    "    else:\n",
    "        return 'стаж свыше 50 лет'\n",
    "    \n",
    "df['category_years_employed'] = df['days_employed'].apply(years_employed)"
   ]
  },
  {
   "cell_type": "code",
   "execution_count": 50,
   "metadata": {},
   "outputs": [
    {
     "data": {
      "text/html": [
       "<div>\n",
       "<style scoped>\n",
       "    .dataframe tbody tr th:only-of-type {\n",
       "        vertical-align: middle;\n",
       "    }\n",
       "\n",
       "    .dataframe tbody tr th {\n",
       "        vertical-align: top;\n",
       "    }\n",
       "\n",
       "    .dataframe thead th {\n",
       "        text-align: right;\n",
       "    }\n",
       "</style>\n",
       "<table border=\"1\" class=\"dataframe\">\n",
       "  <thead>\n",
       "    <tr style=\"text-align: right;\">\n",
       "      <th></th>\n",
       "      <th>category_years_employed</th>\n",
       "      <th>Количество кредитов</th>\n",
       "      <th>Количество должников</th>\n",
       "      <th>Процент должников</th>\n",
       "    </tr>\n",
       "  </thead>\n",
       "  <tbody>\n",
       "    <tr>\n",
       "      <th>3</th>\n",
       "      <td>стаж 41-50 лет</td>\n",
       "      <td>16.0</td>\n",
       "      <td>0.0</td>\n",
       "      <td>0.00</td>\n",
       "    </tr>\n",
       "    <tr>\n",
       "      <th>5</th>\n",
       "      <td>стаж свыше 50 лет</td>\n",
       "      <td>1.0</td>\n",
       "      <td>0.0</td>\n",
       "      <td>0.00</td>\n",
       "    </tr>\n",
       "    <tr>\n",
       "      <th>1</th>\n",
       "      <td>стаж 21-30 лет</td>\n",
       "      <td>575.0</td>\n",
       "      <td>22.0</td>\n",
       "      <td>3.83</td>\n",
       "    </tr>\n",
       "    <tr>\n",
       "      <th>2</th>\n",
       "      <td>стаж 31-40 лет</td>\n",
       "      <td>160.0</td>\n",
       "      <td>8.0</td>\n",
       "      <td>5.00</td>\n",
       "    </tr>\n",
       "    <tr>\n",
       "      <th>0</th>\n",
       "      <td>стаж 11-20 лет</td>\n",
       "      <td>2381.0</td>\n",
       "      <td>132.0</td>\n",
       "      <td>5.54</td>\n",
       "    </tr>\n",
       "    <tr>\n",
       "      <th>4</th>\n",
       "      <td>стаж до 10 лет</td>\n",
       "      <td>14382.0</td>\n",
       "      <td>1352.0</td>\n",
       "      <td>9.40</td>\n",
       "    </tr>\n",
       "  </tbody>\n",
       "</table>\n",
       "</div>"
      ],
      "text/plain": [
       "  category_years_employed  Количество кредитов  Количество должников  \\\n",
       "3          стаж 41-50 лет                 16.0                   0.0   \n",
       "5       стаж свыше 50 лет                  1.0                   0.0   \n",
       "1          стаж 21-30 лет                575.0                  22.0   \n",
       "2          стаж 31-40 лет                160.0                   8.0   \n",
       "0          стаж 11-20 лет               2381.0                 132.0   \n",
       "4          стаж до 10 лет              14382.0                1352.0   \n",
       "\n",
       "   Процент должников  \n",
       "3               0.00  \n",
       "5               0.00  \n",
       "1               3.83  \n",
       "2               5.00  \n",
       "0               5.54  \n",
       "4               9.40  "
      ]
     },
     "execution_count": 50,
     "metadata": {},
     "output_type": "execute_result"
    }
   ],
   "source": [
    "# сводноя таблица по категории Стаж работы в годах\n",
    "data_category_days_employed = df.groupby(['category_years_employed']).apply(distribution_debt_by_category)\n",
    "data_category_days_employed.reset_index().sort_values(by=\"Процент должников\")"
   ]
  },
  {
   "cell_type": "code",
   "execution_count": 51,
   "metadata": {
    "scrolled": true
   },
   "outputs": [
    {
     "data": {
      "image/png": "[encoded data removed]",
      "text/plain": [
       "<Figure size 1008x288 with 1 Axes>"
      ]
     },
     "metadata": {
      "needs_background": "light"
     },
     "output_type": "display_data"
    }
   ],
   "source": [
    "# bar chart по категории Стаж работы\n",
    "bar_chart_distribution_debt_by_category(data_category_days_employed , x='Стаж работы')"
   ]
  },
  {
   "cell_type": "markdown",
   "metadata": {},
   "source": [
    "**Вывод:** зависимости между категорией стажа работы и возвратом кредита в срок - есть:\n",
    "- заемщики в категориях \"стаж 21-30\", \"стаж 31-40\",\"стаж 11-20\", лучше соблюдают график оплат, задолжность - 3.83%, 5.00%, 5.54;\n",
    "- хуже оплачивают кредит в категориях \"стаж до 10 лет\" - 8.40%;\n",
    "- в категориях \"стаж 41-50\", \"стаж свыше 50\", выборка не большая - 17 человек;"
   ]
  },
  {
   "cell_type": "markdown",
   "metadata": {
    "deletable": false,
    "editable": false,
    "id": "6db5255a"
   },
   "source": [
    "### Шаг 4: общий вывод."
   ]
  },
  {
   "cell_type": "markdown",
   "metadata": {
    "deletable": false,
    "id": "bad65432"
   },
   "source": [
    "**Общая информация:**\n",
    "\n",
    "Проблема неоплаченных вовремя кредитов значительна и продолжает расти в поледние годы\n",
    "- уровень закредитованности граждан вырос до 55% от числа заемщиков;\n",
    "- в середине 2022 года размер долга российских граждан перед банками перевалил за 25 триллионов рублей, увеличившись за год почти на полтора триллиона;\n",
    "\n",
    "https://rg.ru/2022/11/28/zajmy-poiut-romansy.html\n",
    "\n",
    "Для финасовой сферы очень важно улучшать алгоритмы скоринга и оценки заемщика, т.к. даже ошибка в 1% дает 250 млдр.руб. (данные \"РГ\") по сумме просроченых кредитов по всем финансовым компаниям на 2022г.\n",
    "\n",
    "**Информация по данным в задании:**\n",
    "\n",
    "1. Средний процент задолжности по оплате кредита в данной базе данных составлет - 8.12%;\n",
    "\n",
    "2. Процент оплаченых вовремя кредитов, по заданным в данной задаче категориям меняется, но не везде значительно. Скорее всего зависит не только от заданных категорий;\n",
    "\n",
    "3. По заданным в задании категориям: семейное положение и количество детей зависимость своевренменой оплаты кредита есть:\n",
    " \n",
    "    3.1. информация по категории Семейный статус:\n",
    "\n",
    "    - процент заемщиков, у которых была задолжность по оплату кредита меняется от 6.62% до 9.76%;\n",
    "    - лучше оплата в категория \"вдова/вдовец\", \"в разводе\", \"женат/замужем\"- 6.62%, 7.02%, 7.56% не оплаченных вовремя;\n",
    "    - хуже оплачиваю кредит в категориях \"гражанский брак\" и \"не женат/не замужем - 9.31% и 9.76% соответственно;\n",
    "    \n",
    "    3.2.информация по категории Количество детей:\n",
    "   \n",
    "    - процент заемщиков, у которых была задолжность по оплату кредита меняется от 7.54% до 9.76%; \n",
    "    - лучше оплачивают кредит заемщики из категории \"детей=0\" и \"детей=3\" - 7.54% и 8.18% не оплаченных вовремя соответственно;\n",
    "    - хуже оплаиваю кредит категории с 1, 2, 4 детьми - 9.23%, 9.45%, 9.76% соответственно; \n",
    "    - при наличии 5 детей, процент оплаты 100%, но это м.б. вызвано малой выборкой по этой категории в данной базе данных, всего 9 человек в категории, при общей выборке 21 331 человек;\n",
    "  \n",
    "\n",
    "\n",
    "4. Также был проведен анализ зависимости своевременой оплаты кредита по другим категориям : \n",
    "    - ежемесячный доход\n",
    "    - цель получения кредита\n",
    "    - уровень образования клиента\n",
    "    - пол клиента\n",
    "    - тип занятости\n",
    "    - возраст клиента\n",
    "    - общий трудовой стаж\n",
    "\n",
    "\n",
    "\n",
    "5. Для более точного составления модели кредитного скоринга необходимо:\n",
    "\n",
    "    1) Провести дальнейшее исследования на пересечении 2 или 3 или более рассмотреных категорий, это даст более точную и комплексную оценку;\n",
    "\n",
    "    2) Необходимо исследовать корреляцию процента оплаченых вовремя кредитов с другими факторами:\n",
    "    - сумма кредита\n",
    "    - срок кредита\n",
    "    - ежемесячный платеж\n",
    "    - соотношения ежемесячного платежа к сумме ежемесячного дохода\n",
    "  \n",
    "  \n",
    "    \n",
    "6. Для целей оптимизации хранения и обработки данных нужно разделить таблицу на таблицу фактов и таблицу справочников по категориям, в таблице фактов оставить id категорий;\n"
   ]
  },
  {
   "cell_type": "markdown",
   "metadata": {},
   "source": [
    "### пример добавления id по категориии"
   ]
  },
  {
   "cell_type": "code",
   "execution_count": 52,
   "metadata": {},
   "outputs": [],
   "source": [
    "# добавляем id категории в общую таблицу \n",
    "from sklearn.preprocessing import LabelEncoder\n",
    "data['income_type_id'] = LabelEncoder().fit_transform(data['income_type'])"
   ]
  },
  {
   "cell_type": "code",
   "execution_count": 54,
   "metadata": {},
   "outputs": [],
   "source": [
    "# создаем таблицу справочник по данной категории\n",
    "income_type_catalog = data[['income_type', 'income_type_id']].drop_duplicates(keep='first').reset_index(drop=True)\n",
    "data['income_type_id'] = data['income_type_id'].astype('category')\n",
    "\n",
    "# удаляем категорию в общей таблице\n",
    "#data = data.drop(columns='income_type')"
   ]
  },
  {
   "cell_type": "code",
   "execution_count": 58,
   "metadata": {},
   "outputs": [
    {
     "data": {
      "text/html": [
       "<div>\n",
       "<style scoped>\n",
       "    .dataframe tbody tr th:only-of-type {\n",
       "        vertical-align: middle;\n",
       "    }\n",
       "\n",
       "    .dataframe tbody tr th {\n",
       "        vertical-align: top;\n",
       "    }\n",
       "\n",
       "    .dataframe thead th {\n",
       "        text-align: right;\n",
       "    }\n",
       "</style>\n",
       "<table border=\"1\" class=\"dataframe\">\n",
       "  <thead>\n",
       "    <tr style=\"text-align: right;\">\n",
       "      <th></th>\n",
       "      <th>income_type</th>\n",
       "      <th>income_type_id</th>\n",
       "    </tr>\n",
       "  </thead>\n",
       "  <tbody>\n",
       "    <tr>\n",
       "      <th>0</th>\n",
       "      <td>сотрудник</td>\n",
       "      <td>6</td>\n",
       "    </tr>\n",
       "    <tr>\n",
       "      <th>1</th>\n",
       "      <td>пенсионер</td>\n",
       "      <td>4</td>\n",
       "    </tr>\n",
       "    <tr>\n",
       "      <th>2</th>\n",
       "      <td>компаньон</td>\n",
       "      <td>3</td>\n",
       "    </tr>\n",
       "    <tr>\n",
       "      <th>3</th>\n",
       "      <td>госслужащий</td>\n",
       "      <td>2</td>\n",
       "    </tr>\n",
       "    <tr>\n",
       "      <th>4</th>\n",
       "      <td>безработный</td>\n",
       "      <td>0</td>\n",
       "    </tr>\n",
       "    <tr>\n",
       "      <th>5</th>\n",
       "      <td>предприниматель</td>\n",
       "      <td>5</td>\n",
       "    </tr>\n",
       "    <tr>\n",
       "      <th>6</th>\n",
       "      <td>студент</td>\n",
       "      <td>7</td>\n",
       "    </tr>\n",
       "    <tr>\n",
       "      <th>7</th>\n",
       "      <td>в декрете</td>\n",
       "      <td>1</td>\n",
       "    </tr>\n",
       "  </tbody>\n",
       "</table>\n",
       "</div>"
      ],
      "text/plain": [
       "       income_type  income_type_id\n",
       "0        сотрудник               6\n",
       "1        пенсионер               4\n",
       "2        компаньон               3\n",
       "3      госслужащий               2\n",
       "4      безработный               0\n",
       "5  предприниматель               5\n",
       "6          студент               7\n",
       "7        в декрете               1"
      ]
     },
     "execution_count": 58,
     "metadata": {},
     "output_type": "execute_result"
    }
   ],
   "source": [
    "income_type_catalog"
   ]
  }
 ],
 "metadata": {
  "ExecuteTimeLog": [
   {
    "duration": 56,
    "start_time": "2023-02-10T14:50:22.612Z"
   },
   {
    "duration": 485,
    "start_time": "2023-02-10T14:50:33.192Z"
   },
   {
    "duration": 24,
    "start_time": "2023-02-10T14:50:34.092Z"
   },
   {
    "duration": 75,
    "start_time": "2023-02-10T14:50:37.590Z"
   },
   {
    "duration": 32,
    "start_time": "2023-02-10T14:50:37.668Z"
   },
   {
    "duration": 43,
    "start_time": "2023-02-10T14:50:37.702Z"
   },
   {
    "duration": 20,
    "start_time": "2023-02-10T14:50:37.748Z"
   },
   {
    "duration": 76,
    "start_time": "2023-02-10T14:50:37.770Z"
   },
   {
    "duration": 4,
    "start_time": "2023-02-10T14:50:37.848Z"
   },
   {
    "duration": 22,
    "start_time": "2023-02-10T14:50:37.854Z"
   },
   {
    "duration": 8,
    "start_time": "2023-02-10T14:50:37.878Z"
   },
   {
    "duration": 14,
    "start_time": "2023-02-10T14:50:37.888Z"
   },
   {
    "duration": 5,
    "start_time": "2023-02-10T14:50:37.907Z"
   },
   {
    "duration": 69,
    "start_time": "2023-02-10T14:50:37.914Z"
   },
   {
    "duration": 10,
    "start_time": "2023-02-10T14:50:37.986Z"
   },
   {
    "duration": 22,
    "start_time": "2023-02-10T14:50:37.998Z"
   },
   {
    "duration": 22,
    "start_time": "2023-02-10T14:50:38.022Z"
   },
   {
    "duration": 42,
    "start_time": "2023-02-10T14:50:38.046Z"
   },
   {
    "duration": 25,
    "start_time": "2023-02-10T14:50:38.091Z"
   },
   {
    "duration": 4,
    "start_time": "2023-02-10T14:50:38.119Z"
   },
   {
    "duration": 34,
    "start_time": "2023-02-10T14:50:38.125Z"
   },
   {
    "duration": 26,
    "start_time": "2023-02-10T14:50:38.161Z"
   },
   {
    "duration": 4,
    "start_time": "2023-02-10T14:50:38.190Z"
   },
   {
    "duration": 35,
    "start_time": "2023-02-10T14:50:38.196Z"
   },
   {
    "duration": 33,
    "start_time": "2023-02-10T14:50:38.234Z"
   },
   {
    "duration": 756,
    "start_time": "2023-02-10T14:50:38.269Z"
   },
   {
    "duration": 0,
    "start_time": "2023-02-10T14:50:39.027Z"
   },
   {
    "duration": 0,
    "start_time": "2023-02-10T14:50:39.029Z"
   },
   {
    "duration": 0,
    "start_time": "2023-02-10T14:50:39.031Z"
   },
   {
    "duration": 8,
    "start_time": "2023-02-10T14:53:44.867Z"
   },
   {
    "duration": 14,
    "start_time": "2023-02-10T14:53:52.664Z"
   },
   {
    "duration": 13,
    "start_time": "2023-02-10T14:55:47.073Z"
   },
   {
    "duration": 10,
    "start_time": "2023-02-10T14:58:14.401Z"
   },
   {
    "duration": 1427,
    "start_time": "2023-02-10T14:59:50.084Z"
   },
   {
    "duration": 20,
    "start_time": "2023-02-10T15:00:14.666Z"
   },
   {
    "duration": 11,
    "start_time": "2023-02-10T15:00:36.722Z"
   },
   {
    "duration": 7,
    "start_time": "2023-02-10T15:04:16.948Z"
   },
   {
    "duration": 52,
    "start_time": "2023-02-10T15:09:26.968Z"
   },
   {
    "duration": 79,
    "start_time": "2023-02-10T15:09:58.723Z"
   },
   {
    "duration": 21,
    "start_time": "2023-02-10T15:10:17.235Z"
   },
   {
    "duration": 24,
    "start_time": "2023-02-10T15:10:38.906Z"
   },
   {
    "duration": 4,
    "start_time": "2023-02-10T15:12:08.436Z"
   },
   {
    "duration": 17,
    "start_time": "2023-02-10T15:12:25.365Z"
   },
   {
    "duration": 9,
    "start_time": "2023-02-10T15:13:01.699Z"
   },
   {
    "duration": 9,
    "start_time": "2023-02-10T15:14:05.772Z"
   },
   {
    "duration": 14,
    "start_time": "2023-02-10T15:18:08.390Z"
   },
   {
    "duration": 26,
    "start_time": "2023-02-10T15:19:15.485Z"
   },
   {
    "duration": 16,
    "start_time": "2023-02-10T15:19:43.659Z"
   },
   {
    "duration": 16,
    "start_time": "2023-02-10T15:19:57.700Z"
   },
   {
    "duration": 26,
    "start_time": "2023-02-10T15:20:14.068Z"
   },
   {
    "duration": 27,
    "start_time": "2023-02-10T15:20:41.180Z"
   },
   {
    "duration": 37,
    "start_time": "2023-02-10T15:21:56.372Z"
   },
   {
    "duration": 7,
    "start_time": "2023-02-10T15:23:23.362Z"
   },
   {
    "duration": 36,
    "start_time": "2023-02-10T15:23:24.419Z"
   },
   {
    "duration": 52,
    "start_time": "2023-02-10T15:29:47.752Z"
   },
   {
    "duration": 50,
    "start_time": "2023-02-10T15:30:31.382Z"
   },
   {
    "duration": 55,
    "start_time": "2023-02-10T15:30:39.892Z"
   },
   {
    "duration": 19,
    "start_time": "2023-02-10T15:32:12.051Z"
   },
   {
    "duration": 21,
    "start_time": "2023-02-10T15:33:36.285Z"
   },
   {
    "duration": 21,
    "start_time": "2023-02-10T15:33:58.790Z"
   },
   {
    "duration": 21,
    "start_time": "2023-02-10T15:34:36.853Z"
   },
   {
    "duration": 28,
    "start_time": "2023-02-10T15:35:55.198Z"
   },
   {
    "duration": 5,
    "start_time": "2023-02-10T15:36:18.191Z"
   },
   {
    "duration": 29,
    "start_time": "2023-02-10T15:36:36.198Z"
   },
   {
    "duration": 22,
    "start_time": "2023-02-10T15:37:59.081Z"
   },
   {
    "duration": 23,
    "start_time": "2023-02-10T15:38:03.317Z"
   },
   {
    "duration": 22,
    "start_time": "2023-02-10T15:38:19.452Z"
   },
   {
    "duration": 23,
    "start_time": "2023-02-10T15:38:25.222Z"
   },
   {
    "duration": 34,
    "start_time": "2023-02-10T15:38:41.478Z"
   },
   {
    "duration": 21,
    "start_time": "2023-02-10T15:38:47.118Z"
   },
   {
    "duration": 47,
    "start_time": "2023-02-10T15:39:29.249Z"
   },
   {
    "duration": 52,
    "start_time": "2023-02-10T15:39:41.429Z"
   },
   {
    "duration": 21,
    "start_time": "2023-02-10T15:39:46.893Z"
   },
   {
    "duration": 20,
    "start_time": "2023-02-10T15:40:08.670Z"
   },
   {
    "duration": 20,
    "start_time": "2023-02-10T15:40:27.165Z"
   },
   {
    "duration": 63,
    "start_time": "2023-02-10T15:41:08.318Z"
   },
   {
    "duration": 27,
    "start_time": "2023-02-10T15:41:18.867Z"
   },
   {
    "duration": 21,
    "start_time": "2023-02-10T15:41:32.165Z"
   },
   {
    "duration": 46,
    "start_time": "2023-02-10T15:41:41.022Z"
   },
   {
    "duration": 97,
    "start_time": "2023-02-10T15:41:59.271Z"
   },
   {
    "duration": 52,
    "start_time": "2023-02-10T15:42:09.022Z"
   },
   {
    "duration": 48,
    "start_time": "2023-02-10T15:42:19.535Z"
   },
   {
    "duration": 21,
    "start_time": "2023-02-10T15:42:30.670Z"
   },
   {
    "duration": 20,
    "start_time": "2023-02-10T15:42:52.669Z"
   },
   {
    "duration": 23,
    "start_time": "2023-02-10T15:43:03.017Z"
   },
   {
    "duration": 10,
    "start_time": "2023-02-10T15:43:29.023Z"
   },
   {
    "duration": 21,
    "start_time": "2023-02-10T15:44:23.183Z"
   },
   {
    "duration": 26,
    "start_time": "2023-02-10T15:45:34.456Z"
   },
   {
    "duration": 22,
    "start_time": "2023-02-10T15:45:41.695Z"
   },
   {
    "duration": 46,
    "start_time": "2023-02-10T15:47:18.215Z"
   },
   {
    "duration": 8,
    "start_time": "2023-02-10T15:47:28.991Z"
   },
   {
    "duration": 48,
    "start_time": "2023-02-10T15:47:57.254Z"
   },
   {
    "duration": 8,
    "start_time": "2023-02-10T15:48:10.071Z"
   },
   {
    "duration": 256,
    "start_time": "2023-02-10T15:48:33.155Z"
   },
   {
    "duration": 4,
    "start_time": "2023-02-10T15:48:43.455Z"
   },
   {
    "duration": 9,
    "start_time": "2023-02-10T15:48:54.607Z"
   },
   {
    "duration": 9,
    "start_time": "2023-02-10T15:49:09.055Z"
   },
   {
    "duration": 22,
    "start_time": "2023-02-10T15:49:42.449Z"
   },
   {
    "duration": 14,
    "start_time": "2023-02-10T15:49:43.318Z"
   },
   {
    "duration": 9,
    "start_time": "2023-02-10T16:05:08.008Z"
   },
   {
    "duration": 20,
    "start_time": "2023-02-10T16:12:22.674Z"
   },
   {
    "duration": 51,
    "start_time": "2023-02-10T16:12:36.114Z"
   },
   {
    "duration": 20,
    "start_time": "2023-02-10T16:12:43.058Z"
   },
   {
    "duration": 29,
    "start_time": "2023-02-10T16:12:55.330Z"
   },
   {
    "duration": 19,
    "start_time": "2023-02-10T16:13:10.386Z"
   },
   {
    "duration": 23,
    "start_time": "2023-02-10T16:18:46.839Z"
   },
   {
    "duration": 13,
    "start_time": "2023-02-10T16:23:43.213Z"
   },
   {
    "duration": 14,
    "start_time": "2023-02-10T16:28:39.616Z"
   },
   {
    "duration": 18,
    "start_time": "2023-02-10T16:29:00.880Z"
   },
   {
    "duration": 16,
    "start_time": "2023-02-10T16:31:28.492Z"
   },
   {
    "duration": 54,
    "start_time": "2023-02-10T16:31:37.797Z"
   },
   {
    "duration": 21,
    "start_time": "2023-02-10T16:31:55.288Z"
   },
   {
    "duration": 46,
    "start_time": "2023-02-10T16:34:35.595Z"
   },
   {
    "duration": 51,
    "start_time": "2023-02-10T16:34:46.309Z"
   },
   {
    "duration": 17,
    "start_time": "2023-02-10T16:36:36.558Z"
   },
   {
    "duration": 19,
    "start_time": "2023-02-10T16:37:06.829Z"
   },
   {
    "duration": 16,
    "start_time": "2023-02-10T16:37:12.157Z"
   },
   {
    "duration": 17,
    "start_time": "2023-02-10T16:37:38.742Z"
   },
   {
    "duration": 17,
    "start_time": "2023-02-10T16:39:53.159Z"
   },
   {
    "duration": 31,
    "start_time": "2023-02-10T16:41:02.382Z"
   },
   {
    "duration": 14,
    "start_time": "2023-02-10T16:41:44.576Z"
   },
   {
    "duration": 52,
    "start_time": "2023-02-10T16:42:02.910Z"
   },
   {
    "duration": 47,
    "start_time": "2023-02-10T16:42:42.622Z"
   },
   {
    "duration": 17,
    "start_time": "2023-02-10T16:42:50.294Z"
   },
   {
    "duration": 15,
    "start_time": "2023-02-10T16:43:12.798Z"
   },
   {
    "duration": 14,
    "start_time": "2023-02-10T16:43:29.183Z"
   },
   {
    "duration": 16,
    "start_time": "2023-02-10T16:43:43.372Z"
   },
   {
    "duration": 18,
    "start_time": "2023-02-10T16:44:49.831Z"
   },
   {
    "duration": 15,
    "start_time": "2023-02-10T16:45:03.047Z"
   },
   {
    "duration": 17,
    "start_time": "2023-02-10T16:46:21.879Z"
   },
   {
    "duration": 36,
    "start_time": "2023-02-10T16:52:53.951Z"
   },
   {
    "duration": 58,
    "start_time": "2023-02-10T16:53:19.943Z"
   },
   {
    "duration": 23,
    "start_time": "2023-02-10T16:57:23.224Z"
   },
   {
    "duration": 24,
    "start_time": "2023-02-10T16:57:38.736Z"
   },
   {
    "duration": 55,
    "start_time": "2023-02-10T17:14:43.609Z"
   },
   {
    "duration": 10,
    "start_time": "2023-02-10T17:14:56.057Z"
   },
   {
    "duration": 13,
    "start_time": "2023-02-10T17:15:57.674Z"
   },
   {
    "duration": 9,
    "start_time": "2023-02-10T17:16:19.515Z"
   },
   {
    "duration": 30,
    "start_time": "2023-02-10T17:31:00.633Z"
   },
   {
    "duration": 36,
    "start_time": "2023-02-10T17:31:38.786Z"
   },
   {
    "duration": 20,
    "start_time": "2023-02-10T17:34:40.281Z"
   },
   {
    "duration": 36,
    "start_time": "2023-02-10T17:35:21.097Z"
   },
   {
    "duration": 58,
    "start_time": "2023-02-10T17:36:11.929Z"
   },
   {
    "duration": 24,
    "start_time": "2023-02-10T17:37:08.666Z"
   },
   {
    "duration": 85,
    "start_time": "2023-02-10T17:38:02.407Z"
   },
   {
    "duration": 14,
    "start_time": "2023-02-10T17:38:02.494Z"
   },
   {
    "duration": 29,
    "start_time": "2023-02-10T17:38:02.510Z"
   },
   {
    "duration": 25,
    "start_time": "2023-02-10T17:38:02.541Z"
   },
   {
    "duration": 33,
    "start_time": "2023-02-10T17:38:02.568Z"
   },
   {
    "duration": 4,
    "start_time": "2023-02-10T17:38:02.603Z"
   },
   {
    "duration": 10,
    "start_time": "2023-02-10T17:38:02.608Z"
   },
   {
    "duration": 12,
    "start_time": "2023-02-10T17:38:02.620Z"
   },
   {
    "duration": 13,
    "start_time": "2023-02-10T17:38:02.634Z"
   },
   {
    "duration": 19,
    "start_time": "2023-02-10T17:38:02.649Z"
   },
   {
    "duration": 32,
    "start_time": "2023-02-10T17:38:02.670Z"
   },
   {
    "duration": 13,
    "start_time": "2023-02-10T17:38:02.704Z"
   },
   {
    "duration": 6,
    "start_time": "2023-02-10T17:38:02.719Z"
   },
   {
    "duration": 18,
    "start_time": "2023-02-10T17:38:02.727Z"
   },
   {
    "duration": 33,
    "start_time": "2023-02-10T17:38:02.747Z"
   },
   {
    "duration": 17,
    "start_time": "2023-02-10T17:38:02.781Z"
   },
   {
    "duration": 3,
    "start_time": "2023-02-10T17:38:02.799Z"
   },
   {
    "duration": 13,
    "start_time": "2023-02-10T17:38:02.804Z"
   },
   {
    "duration": 11,
    "start_time": "2023-02-10T17:38:02.819Z"
   },
   {
    "duration": 4,
    "start_time": "2023-02-10T17:38:02.831Z"
   },
   {
    "duration": 35,
    "start_time": "2023-02-10T17:38:02.838Z"
   },
   {
    "duration": 18,
    "start_time": "2023-02-10T17:38:02.875Z"
   },
   {
    "duration": 12,
    "start_time": "2023-02-10T17:38:02.895Z"
   },
   {
    "duration": 17,
    "start_time": "2023-02-10T17:38:02.909Z"
   },
   {
    "duration": 19,
    "start_time": "2023-02-10T17:38:02.928Z"
   },
   {
    "duration": 56,
    "start_time": "2023-02-10T17:38:02.949Z"
   },
   {
    "duration": 45,
    "start_time": "2023-02-10T17:38:03.007Z"
   },
   {
    "duration": 25,
    "start_time": "2023-02-10T17:38:03.068Z"
   },
   {
    "duration": 42,
    "start_time": "2023-02-10T18:21:04.215Z"
   },
   {
    "duration": 145,
    "start_time": "2023-02-10T18:22:10.647Z"
   },
   {
    "duration": 130,
    "start_time": "2023-02-10T18:22:32.991Z"
   },
   {
    "duration": 15,
    "start_time": "2023-02-10T18:23:12.919Z"
   },
   {
    "duration": 20,
    "start_time": "2023-02-10T18:23:36.607Z"
   },
   {
    "duration": 3,
    "start_time": "2023-02-10T18:30:05.704Z"
   },
   {
    "duration": 9,
    "start_time": "2023-02-10T18:30:06.377Z"
   },
   {
    "duration": 17,
    "start_time": "2023-02-10T18:30:14.153Z"
   },
   {
    "duration": 37,
    "start_time": "2023-02-10T18:31:06.828Z"
   },
   {
    "duration": 4,
    "start_time": "2023-02-10T18:35:33.112Z"
   },
   {
    "duration": 3,
    "start_time": "2023-02-10T18:36:20.001Z"
   },
   {
    "duration": 3,
    "start_time": "2023-02-10T18:38:56.147Z"
   },
   {
    "duration": 18,
    "start_time": "2023-02-10T18:38:57.261Z"
   },
   {
    "duration": 18,
    "start_time": "2023-02-10T18:39:13.731Z"
   },
   {
    "duration": 26,
    "start_time": "2023-02-10T18:39:16.690Z"
   },
   {
    "duration": 427,
    "start_time": "2023-02-11T13:30:10.450Z"
   },
   {
    "duration": 20,
    "start_time": "2023-02-11T13:30:10.879Z"
   },
   {
    "duration": 14,
    "start_time": "2023-02-11T13:30:10.901Z"
   },
   {
    "duration": 8,
    "start_time": "2023-02-11T13:30:10.917Z"
   },
   {
    "duration": 37,
    "start_time": "2023-02-11T13:30:10.926Z"
   },
   {
    "duration": 3,
    "start_time": "2023-02-11T13:30:10.964Z"
   },
   {
    "duration": 10,
    "start_time": "2023-02-11T13:30:10.968Z"
   },
   {
    "duration": 4,
    "start_time": "2023-02-11T13:30:10.979Z"
   },
   {
    "duration": 8,
    "start_time": "2023-02-11T13:30:11.009Z"
   },
   {
    "duration": 5,
    "start_time": "2023-02-11T13:30:11.019Z"
   },
   {
    "duration": 32,
    "start_time": "2023-02-11T13:30:11.026Z"
   },
   {
    "duration": 9,
    "start_time": "2023-02-11T13:30:11.060Z"
   },
   {
    "duration": 4,
    "start_time": "2023-02-11T13:30:11.071Z"
   },
   {
    "duration": 41,
    "start_time": "2023-02-11T13:30:11.076Z"
   },
   {
    "duration": 19,
    "start_time": "2023-02-11T13:30:11.119Z"
   },
   {
    "duration": 27,
    "start_time": "2023-02-11T13:30:11.140Z"
   },
   {
    "duration": 4,
    "start_time": "2023-02-11T13:30:11.168Z"
   },
   {
    "duration": 10,
    "start_time": "2023-02-11T13:30:11.174Z"
   },
   {
    "duration": 5,
    "start_time": "2023-02-11T13:30:11.186Z"
   },
   {
    "duration": 3,
    "start_time": "2023-02-11T13:30:11.210Z"
   },
   {
    "duration": 14,
    "start_time": "2023-02-11T13:30:11.214Z"
   },
   {
    "duration": 18,
    "start_time": "2023-02-11T13:30:11.229Z"
   },
   {
    "duration": 13,
    "start_time": "2023-02-11T13:30:11.248Z"
   },
   {
    "duration": 13,
    "start_time": "2023-02-11T13:30:11.262Z"
   },
   {
    "duration": 52,
    "start_time": "2023-02-11T13:30:11.276Z"
   },
   {
    "duration": 41,
    "start_time": "2023-02-11T13:30:11.330Z"
   },
   {
    "duration": 45,
    "start_time": "2023-02-11T13:30:11.372Z"
   },
   {
    "duration": 25,
    "start_time": "2023-02-11T13:30:11.420Z"
   },
   {
    "duration": 27,
    "start_time": "2023-02-11T13:30:11.446Z"
   },
   {
    "duration": 43,
    "start_time": "2023-02-11T13:30:11.474Z"
   },
   {
    "duration": 3,
    "start_time": "2023-02-11T13:30:11.518Z"
   },
   {
    "duration": 26,
    "start_time": "2023-02-11T13:30:11.522Z"
   },
   {
    "duration": 29,
    "start_time": "2023-02-11T13:30:11.549Z"
   },
   {
    "duration": 82,
    "start_time": "2023-02-13T07:14:05.665Z"
   },
   {
    "duration": 49,
    "start_time": "2023-02-13T10:47:30.658Z"
   },
   {
    "duration": 568,
    "start_time": "2023-02-13T10:47:45.550Z"
   },
   {
    "duration": 21,
    "start_time": "2023-02-13T10:47:46.120Z"
   },
   {
    "duration": 14,
    "start_time": "2023-02-13T10:47:46.142Z"
   },
   {
    "duration": 10,
    "start_time": "2023-02-13T10:47:46.158Z"
   },
   {
    "duration": 41,
    "start_time": "2023-02-13T10:47:46.169Z"
   },
   {
    "duration": 3,
    "start_time": "2023-02-13T10:47:46.211Z"
   },
   {
    "duration": 20,
    "start_time": "2023-02-13T10:47:46.215Z"
   },
   {
    "duration": 4,
    "start_time": "2023-02-13T10:47:46.236Z"
   },
   {
    "duration": 11,
    "start_time": "2023-02-13T10:47:46.241Z"
   },
   {
    "duration": 3,
    "start_time": "2023-02-13T10:47:46.255Z"
   },
   {
    "duration": 33,
    "start_time": "2023-02-13T10:47:46.260Z"
   },
   {
    "duration": 9,
    "start_time": "2023-02-13T10:47:46.309Z"
   },
   {
    "duration": 10,
    "start_time": "2023-02-13T10:47:46.319Z"
   },
   {
    "duration": 11,
    "start_time": "2023-02-13T10:47:46.330Z"
   },
   {
    "duration": 19,
    "start_time": "2023-02-13T10:47:46.342Z"
   },
   {
    "duration": 15,
    "start_time": "2023-02-13T10:47:46.363Z"
   },
   {
    "duration": 3,
    "start_time": "2023-02-13T10:47:46.380Z"
   },
   {
    "duration": 31,
    "start_time": "2023-02-13T10:47:46.385Z"
   },
   {
    "duration": 7,
    "start_time": "2023-02-13T10:47:46.417Z"
   },
   {
    "duration": 4,
    "start_time": "2023-02-13T10:47:46.425Z"
   },
   {
    "duration": 11,
    "start_time": "2023-02-13T10:47:46.431Z"
   },
   {
    "duration": 19,
    "start_time": "2023-02-13T10:47:46.444Z"
   },
   {
    "duration": 13,
    "start_time": "2023-02-13T10:47:46.465Z"
   },
   {
    "duration": 40,
    "start_time": "2023-02-13T10:47:46.480Z"
   },
   {
    "duration": 23,
    "start_time": "2023-02-13T10:47:46.522Z"
   },
   {
    "duration": 20,
    "start_time": "2023-02-13T10:47:46.547Z"
   },
   {
    "duration": 82,
    "start_time": "2023-02-13T10:47:46.569Z"
   },
   {
    "duration": 0,
    "start_time": "2023-02-13T10:47:46.653Z"
   },
   {
    "duration": 0,
    "start_time": "2023-02-13T10:47:46.654Z"
   },
   {
    "duration": 0,
    "start_time": "2023-02-13T10:47:46.656Z"
   },
   {
    "duration": 0,
    "start_time": "2023-02-13T10:47:46.658Z"
   },
   {
    "duration": 0,
    "start_time": "2023-02-13T10:47:46.659Z"
   },
   {
    "duration": 0,
    "start_time": "2023-02-13T10:47:46.661Z"
   },
   {
    "duration": 0,
    "start_time": "2023-02-13T10:47:46.662Z"
   },
   {
    "duration": 0,
    "start_time": "2023-02-13T10:47:46.664Z"
   },
   {
    "duration": 18,
    "start_time": "2023-02-13T10:49:54.174Z"
   },
   {
    "duration": 23,
    "start_time": "2023-02-13T11:02:49.401Z"
   },
   {
    "duration": 17,
    "start_time": "2023-02-13T11:04:09.241Z"
   },
   {
    "duration": 34,
    "start_time": "2023-02-13T11:04:24.106Z"
   },
   {
    "duration": 10,
    "start_time": "2023-02-13T11:04:37.201Z"
   },
   {
    "duration": 17,
    "start_time": "2023-02-13T11:05:11.624Z"
   },
   {
    "duration": 74,
    "start_time": "2023-02-13T11:08:08.525Z"
   },
   {
    "duration": 17,
    "start_time": "2023-02-13T11:08:19.443Z"
   },
   {
    "duration": 16,
    "start_time": "2023-02-13T11:13:00.054Z"
   },
   {
    "duration": 16,
    "start_time": "2023-02-13T11:13:19.554Z"
   },
   {
    "duration": 34,
    "start_time": "2023-02-13T11:13:35.443Z"
   },
   {
    "duration": 15,
    "start_time": "2023-02-13T11:13:56.666Z"
   },
   {
    "duration": 16,
    "start_time": "2023-02-13T11:14:28.291Z"
   },
   {
    "duration": 68,
    "start_time": "2023-02-13T11:34:49.899Z"
   },
   {
    "duration": 19,
    "start_time": "2023-02-13T11:35:14.389Z"
   },
   {
    "duration": 18,
    "start_time": "2023-02-13T11:36:58.525Z"
   },
   {
    "duration": 19,
    "start_time": "2023-02-13T11:38:43.652Z"
   },
   {
    "duration": 20,
    "start_time": "2023-02-13T11:39:14.795Z"
   },
   {
    "duration": 72,
    "start_time": "2023-02-13T11:46:34.062Z"
   },
   {
    "duration": 91,
    "start_time": "2023-02-13T11:48:04.237Z"
   },
   {
    "duration": 8,
    "start_time": "2023-02-13T11:48:14.579Z"
   },
   {
    "duration": 15,
    "start_time": "2023-02-13T11:48:32.139Z"
   },
   {
    "duration": 19,
    "start_time": "2023-02-13T11:49:40.244Z"
   },
   {
    "duration": 25,
    "start_time": "2023-02-13T11:52:06.043Z"
   },
   {
    "duration": 21,
    "start_time": "2023-02-13T11:52:16.635Z"
   },
   {
    "duration": 18,
    "start_time": "2023-02-13T11:53:17.076Z"
   },
   {
    "duration": 18,
    "start_time": "2023-02-13T11:55:40.764Z"
   },
   {
    "duration": 21,
    "start_time": "2023-02-13T11:56:34.668Z"
   },
   {
    "duration": 28,
    "start_time": "2023-02-13T11:57:09.685Z"
   },
   {
    "duration": 18,
    "start_time": "2023-02-13T11:57:27.143Z"
   },
   {
    "duration": 24,
    "start_time": "2023-02-13T11:57:57.725Z"
   },
   {
    "duration": 25,
    "start_time": "2023-02-13T11:58:50.653Z"
   },
   {
    "duration": 26,
    "start_time": "2023-02-13T11:59:04.053Z"
   },
   {
    "duration": 4,
    "start_time": "2023-02-13T12:05:22.934Z"
   },
   {
    "duration": 20,
    "start_time": "2023-02-13T12:05:44.837Z"
   },
   {
    "duration": 19,
    "start_time": "2023-02-13T12:08:41.693Z"
   },
   {
    "duration": 17,
    "start_time": "2023-02-13T12:13:33.910Z"
   },
   {
    "duration": 18,
    "start_time": "2023-02-13T12:15:08.567Z"
   },
   {
    "duration": 17,
    "start_time": "2023-02-13T12:17:59.086Z"
   },
   {
    "duration": 15,
    "start_time": "2023-02-13T12:19:17.663Z"
   },
   {
    "duration": 19,
    "start_time": "2023-02-13T12:19:50.848Z"
   },
   {
    "duration": 18,
    "start_time": "2023-02-13T12:20:24.934Z"
   },
   {
    "duration": 18,
    "start_time": "2023-02-13T12:21:28.767Z"
   },
   {
    "duration": 18,
    "start_time": "2023-02-13T12:22:00.799Z"
   },
   {
    "duration": 30,
    "start_time": "2023-02-13T12:22:21.367Z"
   },
   {
    "duration": 18,
    "start_time": "2023-02-13T12:22:33.751Z"
   },
   {
    "duration": 18,
    "start_time": "2023-02-13T12:22:58.103Z"
   },
   {
    "duration": 21,
    "start_time": "2023-02-13T12:23:19.047Z"
   },
   {
    "duration": 74,
    "start_time": "2023-02-13T12:23:31.847Z"
   },
   {
    "duration": 22,
    "start_time": "2023-02-13T12:23:36.751Z"
   },
   {
    "duration": 18,
    "start_time": "2023-02-13T12:24:13.840Z"
   },
   {
    "duration": 24,
    "start_time": "2023-02-13T12:25:07.296Z"
   },
   {
    "duration": 17,
    "start_time": "2023-02-13T12:25:29.855Z"
   },
   {
    "duration": 21,
    "start_time": "2023-02-13T12:26:05.249Z"
   },
   {
    "duration": 18,
    "start_time": "2023-02-13T12:26:21.879Z"
   },
   {
    "duration": 19,
    "start_time": "2023-02-13T12:26:29.599Z"
   },
   {
    "duration": 16,
    "start_time": "2023-02-13T12:26:39.048Z"
   },
   {
    "duration": 17,
    "start_time": "2023-02-13T12:27:11.439Z"
   },
   {
    "duration": 16,
    "start_time": "2023-02-13T12:27:18.935Z"
   },
   {
    "duration": 72,
    "start_time": "2023-02-13T12:28:14.463Z"
   },
   {
    "duration": 68,
    "start_time": "2023-02-13T12:28:34.135Z"
   },
   {
    "duration": 17,
    "start_time": "2023-02-13T12:29:39.679Z"
   },
   {
    "duration": 71,
    "start_time": "2023-02-13T12:31:54.416Z"
   },
   {
    "duration": 4,
    "start_time": "2023-02-13T12:32:03.113Z"
   },
   {
    "duration": 3,
    "start_time": "2023-02-13T12:32:21.343Z"
   },
   {
    "duration": 18,
    "start_time": "2023-02-13T12:32:56.065Z"
   },
   {
    "duration": 18,
    "start_time": "2023-02-13T12:33:40.999Z"
   },
   {
    "duration": 73,
    "start_time": "2023-02-13T12:34:23.640Z"
   },
   {
    "duration": 77,
    "start_time": "2023-02-13T12:35:01.809Z"
   },
   {
    "duration": 22,
    "start_time": "2023-02-13T12:35:33.056Z"
   },
   {
    "duration": 74,
    "start_time": "2023-02-13T12:35:44.319Z"
   },
   {
    "duration": 74,
    "start_time": "2023-02-13T12:35:52.352Z"
   },
   {
    "duration": 82,
    "start_time": "2023-02-13T12:35:59.544Z"
   },
   {
    "duration": 76,
    "start_time": "2023-02-13T12:36:36.856Z"
   },
   {
    "duration": 8,
    "start_time": "2023-02-13T12:39:46.785Z"
   },
   {
    "duration": 18,
    "start_time": "2023-02-13T12:40:18.913Z"
   },
   {
    "duration": 17,
    "start_time": "2023-02-13T12:40:54.593Z"
   },
   {
    "duration": 19,
    "start_time": "2023-02-13T12:41:04.256Z"
   },
   {
    "duration": 84,
    "start_time": "2023-02-13T12:41:12.768Z"
   },
   {
    "duration": 76,
    "start_time": "2023-02-13T12:41:25.656Z"
   },
   {
    "duration": 17,
    "start_time": "2023-02-13T12:41:55.769Z"
   },
   {
    "duration": 17,
    "start_time": "2023-02-13T12:42:19.329Z"
   },
   {
    "duration": 18,
    "start_time": "2023-02-13T12:42:38.505Z"
   },
   {
    "duration": 17,
    "start_time": "2023-02-13T12:42:44.056Z"
   },
   {
    "duration": 18,
    "start_time": "2023-02-13T12:42:59.185Z"
   },
   {
    "duration": 17,
    "start_time": "2023-02-13T12:43:19.233Z"
   },
   {
    "duration": 19,
    "start_time": "2023-02-13T12:43:28.312Z"
   },
   {
    "duration": 17,
    "start_time": "2023-02-13T12:43:28.925Z"
   },
   {
    "duration": 19,
    "start_time": "2023-02-13T12:43:43.067Z"
   },
   {
    "duration": 1109,
    "start_time": "2023-02-13T12:45:15.729Z"
   },
   {
    "duration": 1186,
    "start_time": "2023-02-13T12:45:19.041Z"
   },
   {
    "duration": 62,
    "start_time": "2023-02-13T12:45:38.993Z"
   },
   {
    "duration": 14,
    "start_time": "2023-02-13T12:45:39.659Z"
   },
   {
    "duration": 63,
    "start_time": "2023-02-13T12:45:44.657Z"
   },
   {
    "duration": 15,
    "start_time": "2023-02-13T12:45:44.722Z"
   },
   {
    "duration": 31,
    "start_time": "2023-02-13T12:45:44.739Z"
   },
   {
    "duration": 10,
    "start_time": "2023-02-13T12:45:44.772Z"
   },
   {
    "duration": 42,
    "start_time": "2023-02-13T12:45:44.784Z"
   },
   {
    "duration": 2,
    "start_time": "2023-02-13T12:45:44.828Z"
   },
   {
    "duration": 11,
    "start_time": "2023-02-13T12:45:44.832Z"
   },
   {
    "duration": 4,
    "start_time": "2023-02-13T12:45:44.844Z"
   },
   {
    "duration": 7,
    "start_time": "2023-02-13T12:45:44.849Z"
   },
   {
    "duration": 4,
    "start_time": "2023-02-13T12:45:44.858Z"
   },
   {
    "duration": 61,
    "start_time": "2023-02-13T12:45:44.864Z"
   },
   {
    "duration": 9,
    "start_time": "2023-02-13T12:45:44.926Z"
   },
   {
    "duration": 10,
    "start_time": "2023-02-13T12:45:44.936Z"
   },
   {
    "duration": 11,
    "start_time": "2023-02-13T12:45:44.947Z"
   },
   {
    "duration": 19,
    "start_time": "2023-02-13T12:45:44.959Z"
   },
   {
    "duration": 36,
    "start_time": "2023-02-13T12:45:44.979Z"
   },
   {
    "duration": 3,
    "start_time": "2023-02-13T12:45:45.017Z"
   },
   {
    "duration": 34,
    "start_time": "2023-02-13T12:45:45.022Z"
   },
   {
    "duration": 10,
    "start_time": "2023-02-13T12:45:45.058Z"
   },
   {
    "duration": 9,
    "start_time": "2023-02-13T12:45:45.070Z"
   },
   {
    "duration": 13,
    "start_time": "2023-02-13T12:45:45.080Z"
   },
   {
    "duration": 18,
    "start_time": "2023-02-13T12:45:45.094Z"
   },
   {
    "duration": 14,
    "start_time": "2023-02-13T12:45:45.113Z"
   },
   {
    "duration": 14,
    "start_time": "2023-02-13T12:45:45.128Z"
   },
   {
    "duration": 20,
    "start_time": "2023-02-13T12:45:45.144Z"
   },
   {
    "duration": 45,
    "start_time": "2023-02-13T12:45:45.165Z"
   },
   {
    "duration": 17,
    "start_time": "2023-02-13T12:45:45.211Z"
   },
   {
    "duration": 35,
    "start_time": "2023-02-13T12:45:45.230Z"
   },
   {
    "duration": 15,
    "start_time": "2023-02-13T12:45:45.266Z"
   },
   {
    "duration": 62,
    "start_time": "2023-02-13T12:45:45.282Z"
   },
   {
    "duration": 15,
    "start_time": "2023-02-13T12:45:45.346Z"
   },
   {
    "duration": 24,
    "start_time": "2023-02-13T12:45:45.362Z"
   },
   {
    "duration": 46,
    "start_time": "2023-02-13T12:45:45.388Z"
   },
   {
    "duration": 21,
    "start_time": "2023-02-13T12:45:45.435Z"
   },
   {
    "duration": 3,
    "start_time": "2023-02-13T12:45:45.458Z"
   },
   {
    "duration": 17,
    "start_time": "2023-02-13T12:45:45.463Z"
   },
   {
    "duration": 31,
    "start_time": "2023-02-13T12:45:45.509Z"
   },
   {
    "duration": 19,
    "start_time": "2023-02-13T12:45:45.541Z"
   },
   {
    "duration": 35,
    "start_time": "2023-02-13T12:46:33.610Z"
   },
   {
    "duration": 33,
    "start_time": "2023-02-13T12:55:18.634Z"
   },
   {
    "duration": 32,
    "start_time": "2023-02-13T12:55:27.945Z"
   },
   {
    "duration": 17,
    "start_time": "2023-02-13T13:01:33.185Z"
   },
   {
    "duration": 16,
    "start_time": "2023-02-13T13:05:48.652Z"
   },
   {
    "duration": 17,
    "start_time": "2023-02-13T13:06:09.843Z"
   },
   {
    "duration": 14,
    "start_time": "2023-02-13T13:07:03.876Z"
   },
   {
    "duration": 16,
    "start_time": "2023-02-13T13:07:46.307Z"
   },
   {
    "duration": 16,
    "start_time": "2023-02-13T13:13:14.884Z"
   },
   {
    "duration": 77,
    "start_time": "2023-02-13T13:16:24.236Z"
   },
   {
    "duration": 17,
    "start_time": "2023-02-13T13:19:36.958Z"
   },
   {
    "duration": 18,
    "start_time": "2023-02-13T13:19:56.964Z"
   },
   {
    "duration": 18,
    "start_time": "2023-02-13T13:20:09.244Z"
   },
   {
    "duration": 17,
    "start_time": "2023-02-13T13:20:52.438Z"
   },
   {
    "duration": 16,
    "start_time": "2023-02-13T13:21:32.749Z"
   },
   {
    "duration": 16,
    "start_time": "2023-02-13T13:21:53.397Z"
   },
   {
    "duration": 19,
    "start_time": "2023-02-13T13:22:24.292Z"
   },
   {
    "duration": 14,
    "start_time": "2023-02-13T13:22:45.149Z"
   },
   {
    "duration": 17,
    "start_time": "2023-02-13T13:23:03.476Z"
   },
   {
    "duration": 1577,
    "start_time": "2023-02-13T13:27:12.609Z"
   },
   {
    "duration": 1234,
    "start_time": "2023-02-13T13:27:45.734Z"
   },
   {
    "duration": 1204,
    "start_time": "2023-02-13T13:27:58.558Z"
   },
   {
    "duration": 7,
    "start_time": "2023-02-13T13:28:21.869Z"
   },
   {
    "duration": 74,
    "start_time": "2023-02-13T13:31:31.946Z"
   },
   {
    "duration": 16,
    "start_time": "2023-02-13T13:31:32.022Z"
   },
   {
    "duration": 20,
    "start_time": "2023-02-13T13:31:32.039Z"
   },
   {
    "duration": 9,
    "start_time": "2023-02-13T13:31:32.061Z"
   },
   {
    "duration": 55,
    "start_time": "2023-02-13T13:31:32.071Z"
   },
   {
    "duration": 3,
    "start_time": "2023-02-13T13:31:32.128Z"
   },
   {
    "duration": 11,
    "start_time": "2023-02-13T13:31:32.132Z"
   },
   {
    "duration": 7,
    "start_time": "2023-02-13T13:31:32.144Z"
   },
   {
    "duration": 9,
    "start_time": "2023-02-13T13:31:32.152Z"
   },
   {
    "duration": 8,
    "start_time": "2023-02-13T13:31:32.164Z"
   },
   {
    "duration": 57,
    "start_time": "2023-02-13T13:31:32.173Z"
   },
   {
    "duration": 9,
    "start_time": "2023-02-13T13:31:32.232Z"
   },
   {
    "duration": 4,
    "start_time": "2023-02-13T13:31:32.242Z"
   },
   {
    "duration": 12,
    "start_time": "2023-02-13T13:31:32.247Z"
   },
   {
    "duration": 23,
    "start_time": "2023-02-13T13:31:32.260Z"
   },
   {
    "duration": 35,
    "start_time": "2023-02-13T13:31:32.285Z"
   },
   {
    "duration": 3,
    "start_time": "2023-02-13T13:31:32.322Z"
   },
   {
    "duration": 12,
    "start_time": "2023-02-13T13:31:32.327Z"
   },
   {
    "duration": 8,
    "start_time": "2023-02-13T13:31:32.341Z"
   },
   {
    "duration": 4,
    "start_time": "2023-02-13T13:31:32.350Z"
   },
   {
    "duration": 11,
    "start_time": "2023-02-13T13:31:32.355Z"
   },
   {
    "duration": 15,
    "start_time": "2023-02-13T13:31:32.368Z"
   },
   {
    "duration": 15,
    "start_time": "2023-02-13T13:31:32.409Z"
   },
   {
    "duration": 22,
    "start_time": "2023-02-13T13:31:32.425Z"
   },
   {
    "duration": 18,
    "start_time": "2023-02-13T13:31:32.448Z"
   },
   {
    "duration": 16,
    "start_time": "2023-02-13T13:31:32.468Z"
   },
   {
    "duration": 57,
    "start_time": "2023-02-13T13:31:32.486Z"
   },
   {
    "duration": 16,
    "start_time": "2023-02-13T13:31:32.546Z"
   },
   {
    "duration": 51,
    "start_time": "2023-02-13T13:31:32.563Z"
   },
   {
    "duration": 15,
    "start_time": "2023-02-13T13:31:32.616Z"
   },
   {
    "duration": 26,
    "start_time": "2023-02-13T13:31:32.632Z"
   },
   {
    "duration": 16,
    "start_time": "2023-02-13T13:31:32.660Z"
   },
   {
    "duration": 54,
    "start_time": "2023-02-13T13:31:32.678Z"
   },
   {
    "duration": 17,
    "start_time": "2023-02-13T13:31:32.734Z"
   },
   {
    "duration": 18,
    "start_time": "2023-02-13T13:31:32.752Z"
   },
   {
    "duration": 48,
    "start_time": "2023-02-13T13:31:32.771Z"
   },
   {
    "duration": 3,
    "start_time": "2023-02-13T13:31:32.822Z"
   },
   {
    "duration": 20,
    "start_time": "2023-02-13T13:31:32.827Z"
   },
   {
    "duration": 26,
    "start_time": "2023-02-13T13:31:32.849Z"
   },
   {
    "duration": 36,
    "start_time": "2023-02-13T13:31:32.877Z"
   },
   {
    "duration": 35,
    "start_time": "2023-02-13T13:31:32.914Z"
   },
   {
    "duration": 693,
    "start_time": "2023-02-13T15:30:19.123Z"
   },
   {
    "duration": 24,
    "start_time": "2023-02-13T15:30:19.818Z"
   },
   {
    "duration": 16,
    "start_time": "2023-02-13T15:30:19.844Z"
   },
   {
    "duration": 11,
    "start_time": "2023-02-13T15:30:19.862Z"
   },
   {
    "duration": 44,
    "start_time": "2023-02-13T15:30:19.875Z"
   },
   {
    "duration": 3,
    "start_time": "2023-02-13T15:30:19.921Z"
   },
   {
    "duration": 27,
    "start_time": "2023-02-13T15:30:19.926Z"
   },
   {
    "duration": 15,
    "start_time": "2023-02-13T15:30:19.955Z"
   },
   {
    "duration": 33,
    "start_time": "2023-02-13T15:30:19.972Z"
   },
   {
    "duration": 11,
    "start_time": "2023-02-13T15:30:20.009Z"
   },
   {
    "duration": 40,
    "start_time": "2023-02-13T15:30:20.021Z"
   },
   {
    "duration": 9,
    "start_time": "2023-02-13T15:30:20.063Z"
   },
   {
    "duration": 46,
    "start_time": "2023-02-13T15:30:20.074Z"
   },
   {
    "duration": 33,
    "start_time": "2023-02-13T15:30:20.121Z"
   },
   {
    "duration": 37,
    "start_time": "2023-02-13T15:30:20.155Z"
   },
   {
    "duration": 19,
    "start_time": "2023-02-13T15:30:20.194Z"
   },
   {
    "duration": 3,
    "start_time": "2023-02-13T15:30:20.215Z"
   },
   {
    "duration": 47,
    "start_time": "2023-02-13T15:30:20.219Z"
   },
   {
    "duration": 21,
    "start_time": "2023-02-13T15:30:20.267Z"
   },
   {
    "duration": 10,
    "start_time": "2023-02-13T15:30:20.290Z"
   },
   {
    "duration": 28,
    "start_time": "2023-02-13T15:30:20.301Z"
   },
   {
    "duration": 41,
    "start_time": "2023-02-13T15:30:20.331Z"
   },
   {
    "duration": 14,
    "start_time": "2023-02-13T15:30:20.374Z"
   },
   {
    "duration": 34,
    "start_time": "2023-02-13T15:30:20.389Z"
   },
   {
    "duration": 25,
    "start_time": "2023-02-13T15:30:20.424Z"
   },
   {
    "duration": 30,
    "start_time": "2023-02-13T15:30:20.451Z"
   },
   {
    "duration": 41,
    "start_time": "2023-02-13T15:30:20.483Z"
   },
   {
    "duration": 16,
    "start_time": "2023-02-13T15:30:20.528Z"
   },
   {
    "duration": 57,
    "start_time": "2023-02-13T15:30:20.546Z"
   },
   {
    "duration": 17,
    "start_time": "2023-02-13T15:30:20.605Z"
   },
   {
    "duration": 25,
    "start_time": "2023-02-13T15:30:20.624Z"
   },
   {
    "duration": 17,
    "start_time": "2023-02-13T15:30:20.650Z"
   },
   {
    "duration": 59,
    "start_time": "2023-02-13T15:30:20.668Z"
   },
   {
    "duration": 16,
    "start_time": "2023-02-13T15:30:20.729Z"
   },
   {
    "duration": 23,
    "start_time": "2023-02-13T15:30:20.746Z"
   },
   {
    "duration": 34,
    "start_time": "2023-02-13T15:30:20.770Z"
   },
   {
    "duration": 12,
    "start_time": "2023-02-13T15:30:20.806Z"
   },
   {
    "duration": 34,
    "start_time": "2023-02-13T15:30:20.823Z"
   },
   {
    "duration": 32,
    "start_time": "2023-02-13T15:30:20.859Z"
   },
   {
    "duration": 26,
    "start_time": "2023-02-13T15:30:20.893Z"
   },
   {
    "duration": 47,
    "start_time": "2023-02-13T15:30:20.921Z"
   }
  ],
  "colab": {
   "name": "dpp_template_part2.ipynb",
   "provenance": []
  },
  "kernelspec": {
   "display_name": "Python 3",
   "language": "python",
   "name": "python3"
  },
  "language_info": {
   "codemirror_mode": {
    "name": "ipython",
    "version": 3
   },
   "file_extension": ".py",
   "mimetype": "text/x-python",
   "name": "python",
   "nbconvert_exporter": "python",
   "pygments_lexer": "ipython3",
   "version": "3.8.5"
  },
  "toc": {
   "base_numbering": 1,
   "nav_menu": {},
   "number_sections": true,
   "sideBar": true,
   "skip_h1_title": true,
   "title_cell": "Table of Contents",
   "title_sidebar": "Contents",
   "toc_cell": false,
   "toc_position": {
    "height": "calc(100% - 180px)",
    "left": "10px",
    "top": "150px",
    "width": "165px"
   },
   "toc_section_display": true,
   "toc_window_display": true
  }
 },
 "nbformat": 4,
 "nbformat_minor": 5
}
