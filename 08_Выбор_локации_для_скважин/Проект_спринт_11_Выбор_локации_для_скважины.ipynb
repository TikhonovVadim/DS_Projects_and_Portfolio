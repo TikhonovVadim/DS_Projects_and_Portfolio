{
 "cells": [
  {
   "cell_type": "markdown",
   "metadata": {},
   "source": [
    "# Проект - Выбор локации для скважины"
   ]
  },
  {
   "cell_type": "markdown",
   "metadata": {},
   "source": [
    "# Описание проекта\n",
    "\n",
    "Вы работаете в добывающей компании «ГлавРосГосНефть». Нужно решить, где бурить новую скважину.\n",
    "\n",
    "Вам предоставлены пробы нефти в трёх регионах: в каждом 10 000 месторождений, где измерили качество нефти и объём её запасов. \n",
    "\n",
    "Постройте модель машинного обучения, которая поможет определить регион, где добыча принесёт наибольшую прибыль. \n",
    "\n",
    "Проанализируйте возможную прибыль и риски техникой *Bootstrap.*\n",
    "\n",
    "Шаги для выбора локации:\n",
    "\n",
    "- В избранном регионе ищут месторождения, для каждого определяют значения признаков;\n",
    "- Строят модель и оценивают объём запасов;\n",
    "- Выбирают месторождения с самым высокими оценками значений; \n",
    "- Количество месторождений зависит от бюджета компании и стоимости разработки одной скважины;\n",
    "- Прибыль равна суммарной прибыли отобранных месторождений.\n",
    "\n",
    "Условия задачи:\n",
    "\n",
    "- Для обучения модели подходит только линейная регрессия (остальные — недостаточно предсказуемые).\n",
    "- При разведке региона исследуют 500 точек, из которых с помощью машинного обучения выбирают 200 лучших для разработки.\n",
    "- Бюджет на разработку скважин в регионе — 10 млрд рублей.\n",
    "- При нынешних ценах один баррель сырья приносит 450 рублей дохода. Доход с каждой единицы продукта составляет 450 тыс. рублей, поскольку объём указан в тысячах баррелей.\n",
    "- После оценки рисков нужно оставить лишь те регионы, в которых вероятность убытков меньше 2.5%. Среди них выбирают регион с наибольшей средней прибылью.\n",
    "Данные синтетические: детали контрактов и характеристики месторождений не разглашаются.\n"
   ]
  },
  {
   "cell_type": "markdown",
   "metadata": {},
   "source": [
    "# Описание данных:\n",
    "\n",
    "- id — уникальный идентификатор скважины;\n",
    "- f0, f1, f2 — три признака точек (неважно, что они означают, но сами признаки значимы);\n",
    "- product — объём запасов в скважине (тыс. баррелей).\n"
   ]
  },
  {
   "cell_type": "markdown",
   "metadata": {},
   "source": [
    "Инструкция по выполнению проекта\n",
    "1.\tЗагрузите и подготовьте данные. Поясните порядок действий.\n",
    "2.\tОбучите и проверьте модель для каждого региона:\n",
    "- Разбейте данные на обучающую и валидационную выборки в соотношении 75:25.\n",
    "- Обучите модель и сделайте предсказания на валидационной выборке.\n",
    "- Сохраните предсказания и правильные ответы на валидационной выборке.\n",
    "- Напечатайте на экране средний запас предсказанного сырья и RMSE модели.\n",
    "- Проанализируйте результаты.\n",
    "3.\tПодготовьтесь к расчёту прибыли:\n",
    "- Все ключевые значения для расчётов сохраните в отдельных переменных.\n",
    "- Рассчитайте достаточный объём сырья для безубыточной разработки новой скважины. Сравните полученный объём сырья со средним запасом в каждом регионе. \n",
    "- Напишите выводы по этапу подготовки расчёта прибыли.\n",
    "4.\tНапишите функцию для расчёта прибыли по выбранным скважинам и предсказаниям модели:\n",
    "- Выберите скважины с максимальными значениями предсказаний. \n",
    "- Просуммируйте целевое значение объёма сырья, соответствующее этим предсказаниям.\n",
    "- Рассчитайте прибыль для полученного объёма сырья.\n",
    "5.\tПосчитайте риски и прибыль для каждого региона:\n",
    "- Примените технику Bootstrap с 1000 выборок, чтобы найти распределение прибыли.\n",
    "- Найдите среднюю прибыль, 95%-й доверительный интервал и риск убытков. Убыток — это отрицательная прибыль.\n",
    "- Напишите выводы: предложите регион для разработки скважин и обоснуйте выбор.\n"
   ]
  },
  {
   "cell_type": "code",
   "execution_count": 1,
   "metadata": {},
   "outputs": [],
   "source": [
    "# импорт библиотек\n",
    "import pandas as pd\n",
    "import numpy as np\n",
    "import matplotlib.pyplot as plt\n",
    "import seaborn as sns\n",
    "\n",
    "pd.set_option('max_columns', None) # показывать все столбцы df\n",
    "pd.set_option('max_rows', None) # показывать все строки df\n",
    "\n",
    "from sklearn.model_selection import train_test_split\n",
    "from sklearn.preprocessing import StandardScaler \n",
    "from sklearn.linear_model import LinearRegression\n",
    "from sklearn.metrics import mean_squared_error\n",
    "\n",
    "RS = 12345  # значание random_state\n",
    "from math import sqrt"
   ]
  },
  {
   "cell_type": "code",
   "execution_count": 2,
   "metadata": {},
   "outputs": [
    {
     "data": {
      "text/html": [
       "<style>.container { width:95% !important; }</style>"
      ],
      "text/plain": [
       "<IPython.core.display.HTML object>"
      ]
     },
     "metadata": {},
     "output_type": "display_data"
    }
   ],
   "source": [
    "# широкоформатный Jupyter\n",
    "from IPython.core.display import display, HTML\n",
    "display(HTML(\"<style>.container { width:95% !important; }</style>\"))"
   ]
  },
  {
   "cell_type": "markdown",
   "metadata": {},
   "source": [
    "## 1.Загрузка и подготовка данных"
   ]
  },
  {
   "cell_type": "code",
   "execution_count": 3,
   "metadata": {},
   "outputs": [
    {
     "data": {
      "text/html": [
       "<div>\n",
       "<style scoped>\n",
       "    .dataframe tbody tr th:only-of-type {\n",
       "        vertical-align: middle;\n",
       "    }\n",
       "\n",
       "    .dataframe tbody tr th {\n",
       "        vertical-align: top;\n",
       "    }\n",
       "\n",
       "    .dataframe thead th {\n",
       "        text-align: right;\n",
       "    }\n",
       "</style>\n",
       "<table border=\"1\" class=\"dataframe\">\n",
       "  <thead>\n",
       "    <tr style=\"text-align: right;\">\n",
       "      <th></th>\n",
       "      <th>id</th>\n",
       "      <th>f0</th>\n",
       "      <th>f1</th>\n",
       "      <th>f2</th>\n",
       "      <th>product</th>\n",
       "    </tr>\n",
       "  </thead>\n",
       "  <tbody>\n",
       "    <tr>\n",
       "      <th>0</th>\n",
       "      <td>txEyH</td>\n",
       "      <td>0.705745</td>\n",
       "      <td>-0.497823</td>\n",
       "      <td>1.221170</td>\n",
       "      <td>105.280062</td>\n",
       "    </tr>\n",
       "    <tr>\n",
       "      <th>1</th>\n",
       "      <td>2acmU</td>\n",
       "      <td>1.334711</td>\n",
       "      <td>-0.340164</td>\n",
       "      <td>4.365080</td>\n",
       "      <td>73.037750</td>\n",
       "    </tr>\n",
       "    <tr>\n",
       "      <th>2</th>\n",
       "      <td>409Wp</td>\n",
       "      <td>1.022732</td>\n",
       "      <td>0.151990</td>\n",
       "      <td>1.419926</td>\n",
       "      <td>85.265647</td>\n",
       "    </tr>\n",
       "    <tr>\n",
       "      <th>3</th>\n",
       "      <td>iJLyR</td>\n",
       "      <td>-0.032172</td>\n",
       "      <td>0.139033</td>\n",
       "      <td>2.978566</td>\n",
       "      <td>168.620776</td>\n",
       "    </tr>\n",
       "    <tr>\n",
       "      <th>4</th>\n",
       "      <td>Xdl7t</td>\n",
       "      <td>1.988431</td>\n",
       "      <td>0.155413</td>\n",
       "      <td>4.751769</td>\n",
       "      <td>154.036647</td>\n",
       "    </tr>\n",
       "  </tbody>\n",
       "</table>\n",
       "</div>"
      ],
      "text/plain": [
       "      id        f0        f1        f2     product\n",
       "0  txEyH  0.705745 -0.497823  1.221170  105.280062\n",
       "1  2acmU  1.334711 -0.340164  4.365080   73.037750\n",
       "2  409Wp  1.022732  0.151990  1.419926   85.265647\n",
       "3  iJLyR -0.032172  0.139033  2.978566  168.620776\n",
       "4  Xdl7t  1.988431  0.155413  4.751769  154.036647"
      ]
     },
     "execution_count": 3,
     "metadata": {},
     "output_type": "execute_result"
    }
   ],
   "source": [
    "# загрузка данных\n",
    "data_0 = pd.read_csv('geo_data_0.csv')\n",
    "data_0.head()"
   ]
  },
  {
   "cell_type": "code",
   "execution_count": 4,
   "metadata": {},
   "outputs": [
    {
     "name": "stdout",
     "output_type": "stream",
     "text": [
      "<class 'pandas.core.frame.DataFrame'>\n",
      "RangeIndex: 100000 entries, 0 to 99999\n",
      "Data columns (total 5 columns):\n",
      " #   Column   Non-Null Count   Dtype  \n",
      "---  ------   --------------   -----  \n",
      " 0   id       100000 non-null  object \n",
      " 1   f0       100000 non-null  float64\n",
      " 2   f1       100000 non-null  float64\n",
      " 3   f2       100000 non-null  float64\n",
      " 4   product  100000 non-null  float64\n",
      "dtypes: float64(4), object(1)\n",
      "memory usage: 3.8+ MB\n"
     ]
    }
   ],
   "source": [
    "# информация по df\n",
    "data_0.info()"
   ]
  },
  {
   "cell_type": "code",
   "execution_count": 5,
   "metadata": {},
   "outputs": [
    {
     "data": {
      "text/plain": [
       "0"
      ]
     },
     "execution_count": 5,
     "metadata": {},
     "output_type": "execute_result"
    }
   ],
   "source": [
    "# оценка явных дубликатов\n",
    "data_0.duplicated().sum()"
   ]
  },
  {
   "cell_type": "code",
   "execution_count": 6,
   "metadata": {},
   "outputs": [
    {
     "data": {
      "text/html": [
       "<div>\n",
       "<style scoped>\n",
       "    .dataframe tbody tr th:only-of-type {\n",
       "        vertical-align: middle;\n",
       "    }\n",
       "\n",
       "    .dataframe tbody tr th {\n",
       "        vertical-align: top;\n",
       "    }\n",
       "\n",
       "    .dataframe thead th {\n",
       "        text-align: right;\n",
       "    }\n",
       "</style>\n",
       "<table border=\"1\" class=\"dataframe\">\n",
       "  <thead>\n",
       "    <tr style=\"text-align: right;\">\n",
       "      <th></th>\n",
       "      <th>f0</th>\n",
       "      <th>f1</th>\n",
       "      <th>f2</th>\n",
       "      <th>product</th>\n",
       "    </tr>\n",
       "  </thead>\n",
       "  <tbody>\n",
       "    <tr>\n",
       "      <th>f0</th>\n",
       "      <td>1.000000</td>\n",
       "      <td>-0.440723</td>\n",
       "      <td>-0.003153</td>\n",
       "      <td>0.143536</td>\n",
       "    </tr>\n",
       "    <tr>\n",
       "      <th>f1</th>\n",
       "      <td>-0.440723</td>\n",
       "      <td>1.000000</td>\n",
       "      <td>0.001724</td>\n",
       "      <td>-0.192356</td>\n",
       "    </tr>\n",
       "    <tr>\n",
       "      <th>f2</th>\n",
       "      <td>-0.003153</td>\n",
       "      <td>0.001724</td>\n",
       "      <td>1.000000</td>\n",
       "      <td>0.483663</td>\n",
       "    </tr>\n",
       "    <tr>\n",
       "      <th>product</th>\n",
       "      <td>0.143536</td>\n",
       "      <td>-0.192356</td>\n",
       "      <td>0.483663</td>\n",
       "      <td>1.000000</td>\n",
       "    </tr>\n",
       "  </tbody>\n",
       "</table>\n",
       "</div>"
      ],
      "text/plain": [
       "               f0        f1        f2   product\n",
       "f0       1.000000 -0.440723 -0.003153  0.143536\n",
       "f1      -0.440723  1.000000  0.001724 -0.192356\n",
       "f2      -0.003153  0.001724  1.000000  0.483663\n",
       "product  0.143536 -0.192356  0.483663  1.000000"
      ]
     },
     "execution_count": 6,
     "metadata": {},
     "output_type": "execute_result"
    }
   ],
   "source": [
    "# матрица корелляции \n",
    "data_0.corr()"
   ]
  },
  {
   "cell_type": "code",
   "execution_count": 7,
   "metadata": {},
   "outputs": [
    {
     "data": {
      "text/html": [
       "<div>\n",
       "<style scoped>\n",
       "    .dataframe tbody tr th:only-of-type {\n",
       "        vertical-align: middle;\n",
       "    }\n",
       "\n",
       "    .dataframe tbody tr th {\n",
       "        vertical-align: top;\n",
       "    }\n",
       "\n",
       "    .dataframe thead th {\n",
       "        text-align: right;\n",
       "    }\n",
       "</style>\n",
       "<table border=\"1\" class=\"dataframe\">\n",
       "  <thead>\n",
       "    <tr style=\"text-align: right;\">\n",
       "      <th></th>\n",
       "      <th>f0</th>\n",
       "      <th>f1</th>\n",
       "      <th>f2</th>\n",
       "      <th>product</th>\n",
       "    </tr>\n",
       "  </thead>\n",
       "  <tbody>\n",
       "    <tr>\n",
       "      <th>count</th>\n",
       "      <td>100000.000000</td>\n",
       "      <td>100000.000000</td>\n",
       "      <td>100000.000000</td>\n",
       "      <td>100000.000000</td>\n",
       "    </tr>\n",
       "    <tr>\n",
       "      <th>mean</th>\n",
       "      <td>0.500419</td>\n",
       "      <td>0.250143</td>\n",
       "      <td>2.502647</td>\n",
       "      <td>92.500000</td>\n",
       "    </tr>\n",
       "    <tr>\n",
       "      <th>std</th>\n",
       "      <td>0.871832</td>\n",
       "      <td>0.504433</td>\n",
       "      <td>3.248248</td>\n",
       "      <td>44.288691</td>\n",
       "    </tr>\n",
       "    <tr>\n",
       "      <th>min</th>\n",
       "      <td>-1.408605</td>\n",
       "      <td>-0.848218</td>\n",
       "      <td>-12.088328</td>\n",
       "      <td>0.000000</td>\n",
       "    </tr>\n",
       "    <tr>\n",
       "      <th>25%</th>\n",
       "      <td>-0.072580</td>\n",
       "      <td>-0.200881</td>\n",
       "      <td>0.287748</td>\n",
       "      <td>56.497507</td>\n",
       "    </tr>\n",
       "    <tr>\n",
       "      <th>50%</th>\n",
       "      <td>0.502360</td>\n",
       "      <td>0.250252</td>\n",
       "      <td>2.515969</td>\n",
       "      <td>91.849972</td>\n",
       "    </tr>\n",
       "    <tr>\n",
       "      <th>75%</th>\n",
       "      <td>1.073581</td>\n",
       "      <td>0.700646</td>\n",
       "      <td>4.715088</td>\n",
       "      <td>128.564089</td>\n",
       "    </tr>\n",
       "    <tr>\n",
       "      <th>max</th>\n",
       "      <td>2.362331</td>\n",
       "      <td>1.343769</td>\n",
       "      <td>16.003790</td>\n",
       "      <td>185.364347</td>\n",
       "    </tr>\n",
       "  </tbody>\n",
       "</table>\n",
       "</div>"
      ],
      "text/plain": [
       "                  f0             f1             f2        product\n",
       "count  100000.000000  100000.000000  100000.000000  100000.000000\n",
       "mean        0.500419       0.250143       2.502647      92.500000\n",
       "std         0.871832       0.504433       3.248248      44.288691\n",
       "min        -1.408605      -0.848218     -12.088328       0.000000\n",
       "25%        -0.072580      -0.200881       0.287748      56.497507\n",
       "50%         0.502360       0.250252       2.515969      91.849972\n",
       "75%         1.073581       0.700646       4.715088     128.564089\n",
       "max         2.362331       1.343769      16.003790     185.364347"
      ]
     },
     "execution_count": 7,
     "metadata": {},
     "output_type": "execute_result"
    }
   ],
   "source": [
    "# статистиские данные по данным в df\n",
    "data_0.describe()"
   ]
  },
  {
   "cell_type": "code",
   "execution_count": 8,
   "metadata": {},
   "outputs": [
    {
     "data": {
      "text/html": [
       "<div>\n",
       "<style scoped>\n",
       "    .dataframe tbody tr th:only-of-type {\n",
       "        vertical-align: middle;\n",
       "    }\n",
       "\n",
       "    .dataframe tbody tr th {\n",
       "        vertical-align: top;\n",
       "    }\n",
       "\n",
       "    .dataframe thead th {\n",
       "        text-align: right;\n",
       "    }\n",
       "</style>\n",
       "<table border=\"1\" class=\"dataframe\">\n",
       "  <thead>\n",
       "    <tr style=\"text-align: right;\">\n",
       "      <th></th>\n",
       "      <th>id</th>\n",
       "      <th>f0</th>\n",
       "      <th>f1</th>\n",
       "      <th>f2</th>\n",
       "      <th>product</th>\n",
       "    </tr>\n",
       "  </thead>\n",
       "  <tbody>\n",
       "    <tr>\n",
       "      <th>0</th>\n",
       "      <td>kBEdx</td>\n",
       "      <td>-15.001348</td>\n",
       "      <td>-8.276000</td>\n",
       "      <td>-0.005876</td>\n",
       "      <td>3.179103</td>\n",
       "    </tr>\n",
       "    <tr>\n",
       "      <th>1</th>\n",
       "      <td>62mP7</td>\n",
       "      <td>14.272088</td>\n",
       "      <td>-3.475083</td>\n",
       "      <td>0.999183</td>\n",
       "      <td>26.953261</td>\n",
       "    </tr>\n",
       "    <tr>\n",
       "      <th>2</th>\n",
       "      <td>vyE1P</td>\n",
       "      <td>6.263187</td>\n",
       "      <td>-5.948386</td>\n",
       "      <td>5.001160</td>\n",
       "      <td>134.766305</td>\n",
       "    </tr>\n",
       "    <tr>\n",
       "      <th>3</th>\n",
       "      <td>KcrkZ</td>\n",
       "      <td>-13.081196</td>\n",
       "      <td>-11.506057</td>\n",
       "      <td>4.999415</td>\n",
       "      <td>137.945408</td>\n",
       "    </tr>\n",
       "    <tr>\n",
       "      <th>4</th>\n",
       "      <td>AHL4O</td>\n",
       "      <td>12.702195</td>\n",
       "      <td>-8.147433</td>\n",
       "      <td>5.004363</td>\n",
       "      <td>134.766305</td>\n",
       "    </tr>\n",
       "  </tbody>\n",
       "</table>\n",
       "</div>"
      ],
      "text/plain": [
       "      id         f0         f1        f2     product\n",
       "0  kBEdx -15.001348  -8.276000 -0.005876    3.179103\n",
       "1  62mP7  14.272088  -3.475083  0.999183   26.953261\n",
       "2  vyE1P   6.263187  -5.948386  5.001160  134.766305\n",
       "3  KcrkZ -13.081196 -11.506057  4.999415  137.945408\n",
       "4  AHL4O  12.702195  -8.147433  5.004363  134.766305"
      ]
     },
     "execution_count": 8,
     "metadata": {},
     "output_type": "execute_result"
    }
   ],
   "source": [
    "data_1 = pd.read_csv('geo_data_1.csv')\n",
    "data_1.head()"
   ]
  },
  {
   "cell_type": "code",
   "execution_count": 9,
   "metadata": {},
   "outputs": [
    {
     "name": "stdout",
     "output_type": "stream",
     "text": [
      "<class 'pandas.core.frame.DataFrame'>\n",
      "RangeIndex: 100000 entries, 0 to 99999\n",
      "Data columns (total 5 columns):\n",
      " #   Column   Non-Null Count   Dtype  \n",
      "---  ------   --------------   -----  \n",
      " 0   id       100000 non-null  object \n",
      " 1   f0       100000 non-null  float64\n",
      " 2   f1       100000 non-null  float64\n",
      " 3   f2       100000 non-null  float64\n",
      " 4   product  100000 non-null  float64\n",
      "dtypes: float64(4), object(1)\n",
      "memory usage: 3.8+ MB\n"
     ]
    }
   ],
   "source": [
    "data_1.info()"
   ]
  },
  {
   "cell_type": "code",
   "execution_count": 10,
   "metadata": {},
   "outputs": [
    {
     "data": {
      "text/plain": [
       "0"
      ]
     },
     "execution_count": 10,
     "metadata": {},
     "output_type": "execute_result"
    }
   ],
   "source": [
    "data_1.duplicated().sum()"
   ]
  },
  {
   "cell_type": "code",
   "execution_count": 11,
   "metadata": {},
   "outputs": [
    {
     "data": {
      "text/html": [
       "<div>\n",
       "<style scoped>\n",
       "    .dataframe tbody tr th:only-of-type {\n",
       "        vertical-align: middle;\n",
       "    }\n",
       "\n",
       "    .dataframe tbody tr th {\n",
       "        vertical-align: top;\n",
       "    }\n",
       "\n",
       "    .dataframe thead th {\n",
       "        text-align: right;\n",
       "    }\n",
       "</style>\n",
       "<table border=\"1\" class=\"dataframe\">\n",
       "  <thead>\n",
       "    <tr style=\"text-align: right;\">\n",
       "      <th></th>\n",
       "      <th>f0</th>\n",
       "      <th>f1</th>\n",
       "      <th>f2</th>\n",
       "      <th>product</th>\n",
       "    </tr>\n",
       "  </thead>\n",
       "  <tbody>\n",
       "    <tr>\n",
       "      <th>f0</th>\n",
       "      <td>1.000000</td>\n",
       "      <td>0.182287</td>\n",
       "      <td>-0.001777</td>\n",
       "      <td>-0.030491</td>\n",
       "    </tr>\n",
       "    <tr>\n",
       "      <th>f1</th>\n",
       "      <td>0.182287</td>\n",
       "      <td>1.000000</td>\n",
       "      <td>-0.002595</td>\n",
       "      <td>-0.010155</td>\n",
       "    </tr>\n",
       "    <tr>\n",
       "      <th>f2</th>\n",
       "      <td>-0.001777</td>\n",
       "      <td>-0.002595</td>\n",
       "      <td>1.000000</td>\n",
       "      <td>0.999397</td>\n",
       "    </tr>\n",
       "    <tr>\n",
       "      <th>product</th>\n",
       "      <td>-0.030491</td>\n",
       "      <td>-0.010155</td>\n",
       "      <td>0.999397</td>\n",
       "      <td>1.000000</td>\n",
       "    </tr>\n",
       "  </tbody>\n",
       "</table>\n",
       "</div>"
      ],
      "text/plain": [
       "               f0        f1        f2   product\n",
       "f0       1.000000  0.182287 -0.001777 -0.030491\n",
       "f1       0.182287  1.000000 -0.002595 -0.010155\n",
       "f2      -0.001777 -0.002595  1.000000  0.999397\n",
       "product -0.030491 -0.010155  0.999397  1.000000"
      ]
     },
     "execution_count": 11,
     "metadata": {},
     "output_type": "execute_result"
    }
   ],
   "source": [
    "data_1.corr()"
   ]
  },
  {
   "cell_type": "code",
   "execution_count": 12,
   "metadata": {},
   "outputs": [
    {
     "data": {
      "text/html": [
       "<div>\n",
       "<style scoped>\n",
       "    .dataframe tbody tr th:only-of-type {\n",
       "        vertical-align: middle;\n",
       "    }\n",
       "\n",
       "    .dataframe tbody tr th {\n",
       "        vertical-align: top;\n",
       "    }\n",
       "\n",
       "    .dataframe thead th {\n",
       "        text-align: right;\n",
       "    }\n",
       "</style>\n",
       "<table border=\"1\" class=\"dataframe\">\n",
       "  <thead>\n",
       "    <tr style=\"text-align: right;\">\n",
       "      <th></th>\n",
       "      <th>f0</th>\n",
       "      <th>f1</th>\n",
       "      <th>f2</th>\n",
       "      <th>product</th>\n",
       "    </tr>\n",
       "  </thead>\n",
       "  <tbody>\n",
       "    <tr>\n",
       "      <th>count</th>\n",
       "      <td>100000.000000</td>\n",
       "      <td>100000.000000</td>\n",
       "      <td>100000.000000</td>\n",
       "      <td>100000.000000</td>\n",
       "    </tr>\n",
       "    <tr>\n",
       "      <th>mean</th>\n",
       "      <td>1.141296</td>\n",
       "      <td>-4.796579</td>\n",
       "      <td>2.494541</td>\n",
       "      <td>68.825000</td>\n",
       "    </tr>\n",
       "    <tr>\n",
       "      <th>std</th>\n",
       "      <td>8.965932</td>\n",
       "      <td>5.119872</td>\n",
       "      <td>1.703572</td>\n",
       "      <td>45.944423</td>\n",
       "    </tr>\n",
       "    <tr>\n",
       "      <th>min</th>\n",
       "      <td>-31.609576</td>\n",
       "      <td>-26.358598</td>\n",
       "      <td>-0.018144</td>\n",
       "      <td>0.000000</td>\n",
       "    </tr>\n",
       "    <tr>\n",
       "      <th>25%</th>\n",
       "      <td>-6.298551</td>\n",
       "      <td>-8.267985</td>\n",
       "      <td>1.000021</td>\n",
       "      <td>26.953261</td>\n",
       "    </tr>\n",
       "    <tr>\n",
       "      <th>50%</th>\n",
       "      <td>1.153055</td>\n",
       "      <td>-4.813172</td>\n",
       "      <td>2.011479</td>\n",
       "      <td>57.085625</td>\n",
       "    </tr>\n",
       "    <tr>\n",
       "      <th>75%</th>\n",
       "      <td>8.621015</td>\n",
       "      <td>-1.332816</td>\n",
       "      <td>3.999904</td>\n",
       "      <td>107.813044</td>\n",
       "    </tr>\n",
       "    <tr>\n",
       "      <th>max</th>\n",
       "      <td>29.421755</td>\n",
       "      <td>18.734063</td>\n",
       "      <td>5.019721</td>\n",
       "      <td>137.945408</td>\n",
       "    </tr>\n",
       "  </tbody>\n",
       "</table>\n",
       "</div>"
      ],
      "text/plain": [
       "                  f0             f1             f2        product\n",
       "count  100000.000000  100000.000000  100000.000000  100000.000000\n",
       "mean        1.141296      -4.796579       2.494541      68.825000\n",
       "std         8.965932       5.119872       1.703572      45.944423\n",
       "min       -31.609576     -26.358598      -0.018144       0.000000\n",
       "25%        -6.298551      -8.267985       1.000021      26.953261\n",
       "50%         1.153055      -4.813172       2.011479      57.085625\n",
       "75%         8.621015      -1.332816       3.999904     107.813044\n",
       "max        29.421755      18.734063       5.019721     137.945408"
      ]
     },
     "execution_count": 12,
     "metadata": {},
     "output_type": "execute_result"
    }
   ],
   "source": [
    "data_1.describe()"
   ]
  },
  {
   "cell_type": "code",
   "execution_count": 13,
   "metadata": {},
   "outputs": [
    {
     "data": {
      "text/html": [
       "<div>\n",
       "<style scoped>\n",
       "    .dataframe tbody tr th:only-of-type {\n",
       "        vertical-align: middle;\n",
       "    }\n",
       "\n",
       "    .dataframe tbody tr th {\n",
       "        vertical-align: top;\n",
       "    }\n",
       "\n",
       "    .dataframe thead th {\n",
       "        text-align: right;\n",
       "    }\n",
       "</style>\n",
       "<table border=\"1\" class=\"dataframe\">\n",
       "  <thead>\n",
       "    <tr style=\"text-align: right;\">\n",
       "      <th></th>\n",
       "      <th>id</th>\n",
       "      <th>f0</th>\n",
       "      <th>f1</th>\n",
       "      <th>f2</th>\n",
       "      <th>product</th>\n",
       "    </tr>\n",
       "  </thead>\n",
       "  <tbody>\n",
       "    <tr>\n",
       "      <th>0</th>\n",
       "      <td>fwXo0</td>\n",
       "      <td>-1.146987</td>\n",
       "      <td>0.963328</td>\n",
       "      <td>-0.828965</td>\n",
       "      <td>27.758673</td>\n",
       "    </tr>\n",
       "    <tr>\n",
       "      <th>1</th>\n",
       "      <td>WJtFt</td>\n",
       "      <td>0.262778</td>\n",
       "      <td>0.269839</td>\n",
       "      <td>-2.530187</td>\n",
       "      <td>56.069697</td>\n",
       "    </tr>\n",
       "    <tr>\n",
       "      <th>2</th>\n",
       "      <td>ovLUW</td>\n",
       "      <td>0.194587</td>\n",
       "      <td>0.289035</td>\n",
       "      <td>-5.586433</td>\n",
       "      <td>62.871910</td>\n",
       "    </tr>\n",
       "    <tr>\n",
       "      <th>3</th>\n",
       "      <td>q6cA6</td>\n",
       "      <td>2.236060</td>\n",
       "      <td>-0.553760</td>\n",
       "      <td>0.930038</td>\n",
       "      <td>114.572842</td>\n",
       "    </tr>\n",
       "    <tr>\n",
       "      <th>4</th>\n",
       "      <td>WPMUX</td>\n",
       "      <td>-0.515993</td>\n",
       "      <td>1.716266</td>\n",
       "      <td>5.899011</td>\n",
       "      <td>149.600746</td>\n",
       "    </tr>\n",
       "  </tbody>\n",
       "</table>\n",
       "</div>"
      ],
      "text/plain": [
       "      id        f0        f1        f2     product\n",
       "0  fwXo0 -1.146987  0.963328 -0.828965   27.758673\n",
       "1  WJtFt  0.262778  0.269839 -2.530187   56.069697\n",
       "2  ovLUW  0.194587  0.289035 -5.586433   62.871910\n",
       "3  q6cA6  2.236060 -0.553760  0.930038  114.572842\n",
       "4  WPMUX -0.515993  1.716266  5.899011  149.600746"
      ]
     },
     "execution_count": 13,
     "metadata": {},
     "output_type": "execute_result"
    }
   ],
   "source": [
    "data_2 = pd.read_csv('geo_data_2.csv')\n",
    "data_2.head()"
   ]
  },
  {
   "cell_type": "code",
   "execution_count": 14,
   "metadata": {},
   "outputs": [
    {
     "name": "stdout",
     "output_type": "stream",
     "text": [
      "<class 'pandas.core.frame.DataFrame'>\n",
      "RangeIndex: 100000 entries, 0 to 99999\n",
      "Data columns (total 5 columns):\n",
      " #   Column   Non-Null Count   Dtype  \n",
      "---  ------   --------------   -----  \n",
      " 0   id       100000 non-null  object \n",
      " 1   f0       100000 non-null  float64\n",
      " 2   f1       100000 non-null  float64\n",
      " 3   f2       100000 non-null  float64\n",
      " 4   product  100000 non-null  float64\n",
      "dtypes: float64(4), object(1)\n",
      "memory usage: 3.8+ MB\n"
     ]
    }
   ],
   "source": [
    "data_2.info()"
   ]
  },
  {
   "cell_type": "code",
   "execution_count": 15,
   "metadata": {},
   "outputs": [
    {
     "data": {
      "text/plain": [
       "0"
      ]
     },
     "execution_count": 15,
     "metadata": {},
     "output_type": "execute_result"
    }
   ],
   "source": [
    "data_2.duplicated().sum()"
   ]
  },
  {
   "cell_type": "code",
   "execution_count": 16,
   "metadata": {},
   "outputs": [
    {
     "data": {
      "text/html": [
       "<div>\n",
       "<style scoped>\n",
       "    .dataframe tbody tr th:only-of-type {\n",
       "        vertical-align: middle;\n",
       "    }\n",
       "\n",
       "    .dataframe tbody tr th {\n",
       "        vertical-align: top;\n",
       "    }\n",
       "\n",
       "    .dataframe thead th {\n",
       "        text-align: right;\n",
       "    }\n",
       "</style>\n",
       "<table border=\"1\" class=\"dataframe\">\n",
       "  <thead>\n",
       "    <tr style=\"text-align: right;\">\n",
       "      <th></th>\n",
       "      <th>f0</th>\n",
       "      <th>f1</th>\n",
       "      <th>f2</th>\n",
       "      <th>product</th>\n",
       "    </tr>\n",
       "  </thead>\n",
       "  <tbody>\n",
       "    <tr>\n",
       "      <th>f0</th>\n",
       "      <td>1.000000</td>\n",
       "      <td>0.000528</td>\n",
       "      <td>-0.000448</td>\n",
       "      <td>-0.001987</td>\n",
       "    </tr>\n",
       "    <tr>\n",
       "      <th>f1</th>\n",
       "      <td>0.000528</td>\n",
       "      <td>1.000000</td>\n",
       "      <td>0.000779</td>\n",
       "      <td>-0.001012</td>\n",
       "    </tr>\n",
       "    <tr>\n",
       "      <th>f2</th>\n",
       "      <td>-0.000448</td>\n",
       "      <td>0.000779</td>\n",
       "      <td>1.000000</td>\n",
       "      <td>0.445871</td>\n",
       "    </tr>\n",
       "    <tr>\n",
       "      <th>product</th>\n",
       "      <td>-0.001987</td>\n",
       "      <td>-0.001012</td>\n",
       "      <td>0.445871</td>\n",
       "      <td>1.000000</td>\n",
       "    </tr>\n",
       "  </tbody>\n",
       "</table>\n",
       "</div>"
      ],
      "text/plain": [
       "               f0        f1        f2   product\n",
       "f0       1.000000  0.000528 -0.000448 -0.001987\n",
       "f1       0.000528  1.000000  0.000779 -0.001012\n",
       "f2      -0.000448  0.000779  1.000000  0.445871\n",
       "product -0.001987 -0.001012  0.445871  1.000000"
      ]
     },
     "execution_count": 16,
     "metadata": {},
     "output_type": "execute_result"
    }
   ],
   "source": [
    "data_2.corr()"
   ]
  },
  {
   "cell_type": "code",
   "execution_count": 17,
   "metadata": {},
   "outputs": [
    {
     "data": {
      "text/html": [
       "<div>\n",
       "<style scoped>\n",
       "    .dataframe tbody tr th:only-of-type {\n",
       "        vertical-align: middle;\n",
       "    }\n",
       "\n",
       "    .dataframe tbody tr th {\n",
       "        vertical-align: top;\n",
       "    }\n",
       "\n",
       "    .dataframe thead th {\n",
       "        text-align: right;\n",
       "    }\n",
       "</style>\n",
       "<table border=\"1\" class=\"dataframe\">\n",
       "  <thead>\n",
       "    <tr style=\"text-align: right;\">\n",
       "      <th></th>\n",
       "      <th>f0</th>\n",
       "      <th>f1</th>\n",
       "      <th>f2</th>\n",
       "      <th>product</th>\n",
       "    </tr>\n",
       "  </thead>\n",
       "  <tbody>\n",
       "    <tr>\n",
       "      <th>count</th>\n",
       "      <td>100000.000000</td>\n",
       "      <td>100000.000000</td>\n",
       "      <td>100000.000000</td>\n",
       "      <td>100000.000000</td>\n",
       "    </tr>\n",
       "    <tr>\n",
       "      <th>mean</th>\n",
       "      <td>0.002023</td>\n",
       "      <td>-0.002081</td>\n",
       "      <td>2.495128</td>\n",
       "      <td>95.000000</td>\n",
       "    </tr>\n",
       "    <tr>\n",
       "      <th>std</th>\n",
       "      <td>1.732045</td>\n",
       "      <td>1.730417</td>\n",
       "      <td>3.473445</td>\n",
       "      <td>44.749921</td>\n",
       "    </tr>\n",
       "    <tr>\n",
       "      <th>min</th>\n",
       "      <td>-8.760004</td>\n",
       "      <td>-7.084020</td>\n",
       "      <td>-11.970335</td>\n",
       "      <td>0.000000</td>\n",
       "    </tr>\n",
       "    <tr>\n",
       "      <th>25%</th>\n",
       "      <td>-1.162288</td>\n",
       "      <td>-1.174820</td>\n",
       "      <td>0.130359</td>\n",
       "      <td>59.450441</td>\n",
       "    </tr>\n",
       "    <tr>\n",
       "      <th>50%</th>\n",
       "      <td>0.009424</td>\n",
       "      <td>-0.009482</td>\n",
       "      <td>2.484236</td>\n",
       "      <td>94.925613</td>\n",
       "    </tr>\n",
       "    <tr>\n",
       "      <th>75%</th>\n",
       "      <td>1.158535</td>\n",
       "      <td>1.163678</td>\n",
       "      <td>4.858794</td>\n",
       "      <td>130.595027</td>\n",
       "    </tr>\n",
       "    <tr>\n",
       "      <th>max</th>\n",
       "      <td>7.238262</td>\n",
       "      <td>7.844801</td>\n",
       "      <td>16.739402</td>\n",
       "      <td>190.029838</td>\n",
       "    </tr>\n",
       "  </tbody>\n",
       "</table>\n",
       "</div>"
      ],
      "text/plain": [
       "                  f0             f1             f2        product\n",
       "count  100000.000000  100000.000000  100000.000000  100000.000000\n",
       "mean        0.002023      -0.002081       2.495128      95.000000\n",
       "std         1.732045       1.730417       3.473445      44.749921\n",
       "min        -8.760004      -7.084020     -11.970335       0.000000\n",
       "25%        -1.162288      -1.174820       0.130359      59.450441\n",
       "50%         0.009424      -0.009482       2.484236      94.925613\n",
       "75%         1.158535       1.163678       4.858794     130.595027\n",
       "max         7.238262       7.844801      16.739402     190.029838"
      ]
     },
     "execution_count": 17,
     "metadata": {},
     "output_type": "execute_result"
    }
   ],
   "source": [
    "data_2.describe()"
   ]
  },
  {
   "cell_type": "markdown",
   "metadata": {},
   "source": [
    "**проверка уникальности объектов по 'id' в данных**"
   ]
  },
  {
   "cell_type": "code",
   "execution_count": 18,
   "metadata": {},
   "outputs": [
    {
     "name": "stdout",
     "output_type": "stream",
     "text": [
      "уникальное количество id data_0=99990, дублирующих строк=10\n",
      "уникальное количество id data_1=99996, дублирующих строк=4\n",
      "уникальное количество id data_2=99996, дублирующих строк=4\n"
     ]
    }
   ],
   "source": [
    "# проверка уникальности объектов по 'id' \n",
    "list_number_region = [0,1,2]\n",
    "list_data = [data_0, data_1, data_2]\n",
    "\n",
    "for i, j in zip(list_data, list_number_region):\n",
    "    print('уникальное количество id data_', j, '=', len(i['id'].unique()),', дублирующих строк=',100000-len(i['id'].unique()), sep='')\n"
   ]
  },
  {
   "cell_type": "code",
   "execution_count": 19,
   "metadata": {},
   "outputs": [
    {
     "data": {
      "text/html": [
       "<div>\n",
       "<style scoped>\n",
       "    .dataframe tbody tr th:only-of-type {\n",
       "        vertical-align: middle;\n",
       "    }\n",
       "\n",
       "    .dataframe tbody tr th {\n",
       "        vertical-align: top;\n",
       "    }\n",
       "\n",
       "    .dataframe thead th {\n",
       "        text-align: right;\n",
       "    }\n",
       "</style>\n",
       "<table border=\"1\" class=\"dataframe\">\n",
       "  <thead>\n",
       "    <tr style=\"text-align: right;\">\n",
       "      <th></th>\n",
       "      <th>id</th>\n",
       "      <th>f0</th>\n",
       "      <th>f1</th>\n",
       "      <th>f2</th>\n",
       "      <th>product</th>\n",
       "    </tr>\n",
       "  </thead>\n",
       "  <tbody>\n",
       "    <tr>\n",
       "      <th>66136</th>\n",
       "      <td>74z30</td>\n",
       "      <td>1.084962</td>\n",
       "      <td>-0.312358</td>\n",
       "      <td>6.990771</td>\n",
       "      <td>127.643327</td>\n",
       "    </tr>\n",
       "    <tr>\n",
       "      <th>64022</th>\n",
       "      <td>74z30</td>\n",
       "      <td>0.741456</td>\n",
       "      <td>0.459229</td>\n",
       "      <td>5.153109</td>\n",
       "      <td>140.771492</td>\n",
       "    </tr>\n",
       "    <tr>\n",
       "      <th>51970</th>\n",
       "      <td>A5aEY</td>\n",
       "      <td>-0.180335</td>\n",
       "      <td>0.935548</td>\n",
       "      <td>-2.094773</td>\n",
       "      <td>33.020205</td>\n",
       "    </tr>\n",
       "    <tr>\n",
       "      <th>3389</th>\n",
       "      <td>A5aEY</td>\n",
       "      <td>-0.039949</td>\n",
       "      <td>0.156872</td>\n",
       "      <td>0.209861</td>\n",
       "      <td>89.249364</td>\n",
       "    </tr>\n",
       "    <tr>\n",
       "      <th>69163</th>\n",
       "      <td>AGS9W</td>\n",
       "      <td>-0.933795</td>\n",
       "      <td>0.116194</td>\n",
       "      <td>-3.655896</td>\n",
       "      <td>19.230453</td>\n",
       "    </tr>\n",
       "    <tr>\n",
       "      <th>42529</th>\n",
       "      <td>AGS9W</td>\n",
       "      <td>1.454747</td>\n",
       "      <td>-0.479651</td>\n",
       "      <td>0.683380</td>\n",
       "      <td>126.370504</td>\n",
       "    </tr>\n",
       "    <tr>\n",
       "      <th>931</th>\n",
       "      <td>HZww2</td>\n",
       "      <td>0.755284</td>\n",
       "      <td>0.368511</td>\n",
       "      <td>1.863211</td>\n",
       "      <td>30.681774</td>\n",
       "    </tr>\n",
       "    <tr>\n",
       "      <th>7530</th>\n",
       "      <td>HZww2</td>\n",
       "      <td>1.061194</td>\n",
       "      <td>-0.373969</td>\n",
       "      <td>10.430210</td>\n",
       "      <td>158.828695</td>\n",
       "    </tr>\n",
       "    <tr>\n",
       "      <th>63593</th>\n",
       "      <td>QcMuo</td>\n",
       "      <td>0.635635</td>\n",
       "      <td>-0.473422</td>\n",
       "      <td>0.862670</td>\n",
       "      <td>64.578675</td>\n",
       "    </tr>\n",
       "    <tr>\n",
       "      <th>1949</th>\n",
       "      <td>QcMuo</td>\n",
       "      <td>0.506563</td>\n",
       "      <td>-0.323775</td>\n",
       "      <td>-2.215583</td>\n",
       "      <td>75.496502</td>\n",
       "    </tr>\n",
       "  </tbody>\n",
       "</table>\n",
       "</div>"
      ],
      "text/plain": [
       "          id        f0        f1         f2     product\n",
       "66136  74z30  1.084962 -0.312358   6.990771  127.643327\n",
       "64022  74z30  0.741456  0.459229   5.153109  140.771492\n",
       "51970  A5aEY -0.180335  0.935548  -2.094773   33.020205\n",
       "3389   A5aEY -0.039949  0.156872   0.209861   89.249364\n",
       "69163  AGS9W -0.933795  0.116194  -3.655896   19.230453\n",
       "42529  AGS9W  1.454747 -0.479651   0.683380  126.370504\n",
       "931    HZww2  0.755284  0.368511   1.863211   30.681774\n",
       "7530   HZww2  1.061194 -0.373969  10.430210  158.828695\n",
       "63593  QcMuo  0.635635 -0.473422   0.862670   64.578675\n",
       "1949   QcMuo  0.506563 -0.323775  -2.215583   75.496502"
      ]
     },
     "execution_count": 19,
     "metadata": {},
     "output_type": "execute_result"
    }
   ],
   "source": [
    "# выведем строки с одинаковым 'id' на примере data_0\n",
    "id_data_0_double = pd.Series(data_0['id'].value_counts().head(10).index)\n",
    "data_0[data_0['id'].isin(id_data_0_double)].sort_values(by='id').head(10)"
   ]
  },
  {
   "cell_type": "markdown",
   "metadata": {},
   "source": [
    "**комментарий** \n",
    "\n",
    "- зависимости в строках с одинаковым 'id' не видно, предварительных данных тоже нет, скорее всего это ошибки в данных\n",
    "- так как количество таких строк небольшое, соотвественно = 10, 4, 4 в данных на 100 000 строк в каждом df, то можно их удалить"
   ]
  },
  {
   "cell_type": "code",
   "execution_count": 20,
   "metadata": {},
   "outputs": [],
   "source": [
    "id_data_1_double = pd.Series(data_1['id'].value_counts().head(4).index)\n",
    "id_data_2_double = pd.Series(data_2['id'].value_counts().head(4).index)\n",
    "\n",
    "# удалим строки с одинаковыми значениями в колонке id\n",
    "data_0 = data_0[data_0['id'].isin(list(id_data_0_double.values)) == False]\n",
    "data_1 = data_1[data_1['id'].isin(list(id_data_1_double.values)) == False]\n",
    "data_2 = data_2[data_2['id'].isin(list(id_data_2_double.values)) == False]"
   ]
  },
  {
   "cell_type": "code",
   "execution_count": 21,
   "metadata": {},
   "outputs": [
    {
     "name": "stdout",
     "output_type": "stream",
     "text": [
      "(99980, 5) 99980\n",
      "(99992, 5) 99992\n",
      "(99992, 5) 99992\n"
     ]
    }
   ],
   "source": [
    "# выведем размеры df и проверим количество уникальных строк по колонке id\n",
    "for i in [data_0, data_1, data_2]:\n",
    "    print(i.shape, len(i['id'].unique()))"
   ]
  },
  {
   "cell_type": "code",
   "execution_count": 22,
   "metadata": {},
   "outputs": [],
   "source": [
    "# удалим из df-ом признаки которые не связаны с целевым признаком - индекс строки\n",
    "data_0 = data_0.drop(['id'],axis=1)\n",
    "data_1 = data_1.drop(['id'],axis=1)\n",
    "data_2 = data_2.drop(['id'],axis=1)"
   ]
  },
  {
   "cell_type": "markdown",
   "metadata": {},
   "source": [
    "**гистограммы признаков**"
   ]
  },
  {
   "cell_type": "code",
   "execution_count": 23,
   "metadata": {},
   "outputs": [
    {
     "data": {
      "image/png": "[encoded data removed]",
      "text/plain": [
       "<Figure size 1296x216 with 4 Axes>"
      ]
     },
     "metadata": {
      "needs_background": "light"
     },
     "output_type": "display_data"
    }
   ],
   "source": [
    "# распределение признаков data_0\n",
    "data_0.hist(figsize=(18,3), layout=(1,4));"
   ]
  },
  {
   "cell_type": "code",
   "execution_count": 24,
   "metadata": {},
   "outputs": [
    {
     "data": {
      "image/png": "[encoded data removed]",
      "text/plain": [
       "<Figure size 1296x216 with 4 Axes>"
      ]
     },
     "metadata": {
      "needs_background": "light"
     },
     "output_type": "display_data"
    }
   ],
   "source": [
    "#  распределение признаков data_1\n",
    "data_1.hist(figsize=(18,3), layout=(1,4));"
   ]
  },
  {
   "cell_type": "code",
   "execution_count": 25,
   "metadata": {},
   "outputs": [
    {
     "data": {
      "image/png": "[encoded data removed]",
      "text/plain": [
       "<Figure size 1296x216 with 4 Axes>"
      ]
     },
     "metadata": {
      "needs_background": "light"
     },
     "output_type": "display_data"
    }
   ],
   "source": [
    "#  распределение признаков data_2\n",
    "data_2.hist(figsize=(18,3), layout=(1,4));"
   ]
  },
  {
   "cell_type": "markdown",
   "metadata": {},
   "source": [
    "**комментарий**\n",
    "\n",
    "распределение признаков, информации по признакам, что они означают, нет\n",
    "- data_0 - признаки и 'product' распределены нормально, размах значений 'product' 0-185 тыс.барр, медиана - 91 тыс.барр\n",
    "- data_1 - признак 'f2' и 'product' распределены не равномерно, размах значений 'product' 0-137 тыс.барр, медиана - 57 тыс.барр\n",
    "- data_2 - признаки и 'product' распределены нормально, размах значений 'product' 0-190 тыс.барр, медиана - 94 тыс.барр"
   ]
  },
  {
   "cell_type": "markdown",
   "metadata": {},
   "source": [
    "### Итоги, выводы  п.1\n",
    "- данные трех дата фреймов загруженны\n",
    "- данные в целом чистые: пропусков, явных дубликатов нет\n",
    "- обнаружены дубликаты 'id' т.к. это скорее всего ошибки в данных и строк не много 10,4,4 на 1000000 в каждом df - данные строки удалили\n",
    "\n",
    "- признак 'f2' показывает значимую коррелацию с таргетом 0.48, 0.99, 0.44 по регионам 0,1,2 соответственно \n",
    "- признаки 'f0' и 'f1' практически линейно не коррелируют с таргетом"
   ]
  },
  {
   "cell_type": "markdown",
   "metadata": {},
   "source": [
    "## 2.Обучение и проверка модели"
   ]
  },
  {
   "cell_type": "markdown",
   "metadata": {},
   "source": [
    "Обучите и проверьте модель для каждого региона:\n",
    "- Разбейте данные на обучающую и валидационную выборки в соотношении 75:25.\n",
    "- Обучите модель и сделайте предсказания на валидационной выборке.\n",
    "- Сохраните предсказания и правильные ответы на валидационной выборке.\n",
    "- Напечатайте на экране средний запас предсказанного сырья и RMSE модели.\n",
    "- Проанализируйте результаты."
   ]
  },
  {
   "cell_type": "code",
   "execution_count": 26,
   "metadata": {},
   "outputs": [],
   "source": [
    "# разделили выборки на признаковые и целевые\n",
    "features_0 = data_0.drop(['product'], axis=1)\n",
    "target_0 = data_0['product']\n",
    "features_1 = data_1.drop(['product'], axis=1)\n",
    "target_1 = data_1['product']\n",
    "features_2 = data_2.drop(['product'], axis=1)\n",
    "target_2 = data_2['product']"
   ]
  },
  {
   "cell_type": "code",
   "execution_count": 27,
   "metadata": {},
   "outputs": [],
   "source": [
    "# разделили данные на обучающую и валидационную выборки\n",
    "X_train_0, X_valid_0, y_train_0, y_valid_0 = train_test_split(features_0, target_0, test_size=0.25, random_state=RS)\n",
    "X_train_1, X_valid_1, y_train_1, y_valid_1 = train_test_split(features_1, target_1, test_size=0.25, random_state=RS)\n",
    "X_train_2, X_valid_2, y_train_2, y_valid_2 = train_test_split(features_2, target_2, test_size=0.25, random_state=RS)"
   ]
  },
  {
   "cell_type": "code",
   "execution_count": 28,
   "metadata": {},
   "outputs": [
    {
     "name": "stdout",
     "output_type": "stream",
     "text": [
      "размеры признаковых выборок (74985, 3) (24995, 3)\n",
      "размеры выборок по целевому признаку (74985,) (24995,)\n"
     ]
    }
   ],
   "source": [
    "# данные о размере выборок на примере data_0\n",
    "print('размеры признаковых выборок', X_train_0.shape, X_valid_0.shape) \n",
    "print('размеры выборок по целевому признаку',  y_train_0.shape, y_valid_0.shape) "
   ]
  },
  {
   "cell_type": "markdown",
   "metadata": {},
   "source": [
    "**комментарий**\n",
    "\n",
    "- данное обучение моделей без масштабирования числовых признаков\n",
    "- отдельно, в блоке 6 сделал обучение и прогнозирование с масштабированием\n"
   ]
  },
  {
   "cell_type": "code",
   "execution_count": 29,
   "metadata": {},
   "outputs": [],
   "source": [
    "# обучение model_0 на data_0  \n",
    "model_0 = LinearRegression()\n",
    "model_0.fit(X_train_0, y_train_0) \n",
    "model_0_predictions_valid = model_0.predict(X_valid_0) "
   ]
  },
  {
   "cell_type": "code",
   "execution_count": 30,
   "metadata": {},
   "outputs": [
    {
     "data": {
      "text/plain": [
       "92.42384109947358"
      ]
     },
     "execution_count": 30,
     "metadata": {},
     "output_type": "execute_result"
    }
   ],
   "source": [
    "# средний запас предсказанного сырья model_0\n",
    "model_0_predictions_valid.mean()"
   ]
  },
  {
   "cell_type": "code",
   "execution_count": 31,
   "metadata": {},
   "outputs": [
    {
     "name": "stdout",
     "output_type": "stream",
     "text": [
      "RMSE модели_0 на валидационной выборке: 37.716904960382735\n"
     ]
    }
   ],
   "source": [
    "# расчет RMSE\n",
    "model_0_RMSE = sqrt(mean_squared_error(y_valid_0, model_0_predictions_valid))\n",
    "print(\"RMSE модели_0 на валидационной выборке:\", model_0_RMSE)"
   ]
  },
  {
   "cell_type": "code",
   "execution_count": 32,
   "metadata": {},
   "outputs": [],
   "source": [
    "# обучение model_1 на data_1\n",
    "model_1 = LinearRegression()\n",
    "model_1.fit(X_train_1, y_train_1) \n",
    "model_1_predictions_valid = model_1.predict(X_valid_1) "
   ]
  },
  {
   "cell_type": "code",
   "execution_count": 33,
   "metadata": {},
   "outputs": [
    {
     "data": {
      "text/plain": [
       "68.98311857983121"
      ]
     },
     "execution_count": 33,
     "metadata": {},
     "output_type": "execute_result"
    }
   ],
   "source": [
    "# средний запас предсказанного сырья data_1\n",
    "model_1_predictions_valid.mean()"
   ]
  },
  {
   "cell_type": "code",
   "execution_count": 34,
   "metadata": {},
   "outputs": [
    {
     "name": "stdout",
     "output_type": "stream",
     "text": [
      "RMSE модели_1 на валидационной выборке: 0.8914901390348559\n"
     ]
    }
   ],
   "source": [
    "# расчет RMSE\n",
    "model_1_RMSE = sqrt(mean_squared_error(y_valid_1, model_1_predictions_valid))\n",
    "print(\"RMSE модели_1 на валидационной выборке:\", model_1_RMSE)"
   ]
  },
  {
   "cell_type": "code",
   "execution_count": 35,
   "metadata": {},
   "outputs": [],
   "source": [
    "# обучение model_2 на data_2\n",
    "model_2 = LinearRegression()\n",
    "model_2.fit(X_train_2, y_train_2) \n",
    "model_2_predictions_valid = model_2.predict(X_valid_2) "
   ]
  },
  {
   "cell_type": "code",
   "execution_count": 36,
   "metadata": {},
   "outputs": [
    {
     "data": {
      "text/plain": [
       "95.11622302076479"
      ]
     },
     "execution_count": 36,
     "metadata": {},
     "output_type": "execute_result"
    }
   ],
   "source": [
    "# средний запас предсказанного сырья data_2\n",
    "model_2_predictions_valid.mean()"
   ]
  },
  {
   "cell_type": "code",
   "execution_count": 37,
   "metadata": {},
   "outputs": [
    {
     "name": "stdout",
     "output_type": "stream",
     "text": [
      "RMSE модели_2 на валидационной выборке: 39.975543264382345\n"
     ]
    }
   ],
   "source": [
    "# расчет RMSE\n",
    "model_2_RMSE = sqrt(mean_squared_error(y_valid_2, model_2_predictions_valid))\n",
    "print(\"RMSE модели_2 на валидационной выборке:\", model_2_RMSE)"
   ]
  },
  {
   "cell_type": "markdown",
   "metadata": {},
   "source": [
    "### Итоги, выводы  п.2\n",
    "- model_0 - среднее значение предсказанных запасов = 97.59, RMSE = 37.57\n",
    "- model_1 - среднее значение предсказанных запасов = 68.72, RMSE = 0.89 - модель достаточно точно предсказывает уровень запасов\n",
    "- model_2 - среднее значение предсказанных запасов = 94.95, RMSE = 40.029\n",
    "\n"
   ]
  },
  {
   "cell_type": "markdown",
   "metadata": {},
   "source": [
    "## 3.Подготовка к расчёту прибыли"
   ]
  },
  {
   "cell_type": "markdown",
   "metadata": {},
   "source": [
    "- Все ключевые значения для расчётов сохраните в отдельных переменных.\n",
    "- Рассчитайте достаточный объём сырья для безубыточной разработки новой скважины. \n",
    "- Сравните полученный объём сырья со средним запасом в каждом регионе.\n",
    "- Напишите выводы по этапу подготовки расчёта прибыли."
   ]
  },
  {
   "cell_type": "markdown",
   "metadata": {},
   "source": [
    "- Бюджет на разработку скважин в регионе — 10 млрд рублей.\t\n",
    "- При нынешних ценах один баррель сырья приносит 450 рублей дохода. \n",
    "- Доход с каждой единицы продукта составляет 450 тыс. рублей, поскольку объём указан в тысячах баррелей\n",
    "- При разведке региона исследуют 500 точек, из которых с помощью машинного обучения выбирают 200 лучших для разработки.\n"
   ]
  },
  {
   "cell_type": "markdown",
   "metadata": {},
   "source": [
    "**Зададим переменные используемые в расчетах**"
   ]
  },
  {
   "cell_type": "code",
   "execution_count": 38,
   "metadata": {},
   "outputs": [],
   "source": [
    "# общий бюджет - total budget\n",
    "TB = 10000000000 \n",
    "# количество скважин для расчета прибыли - number_wells_for_calculation \n",
    "NVFC = 200 \n",
    "# количество скважин для Bootstrap - number_well_for_bootstrap\n",
    "NVFB = 500\n",
    "# цена за тысячу баррелей - price_thousand_barrels\n",
    "PTB = 450000\n",
    "# средняя стоимость разработки 1 скважины - average_cost_development - расчетная величина \n",
    "ASD = 0  \n",
    "# достаточный объём сырья для безубыточной разработки одной новой скважины - sufficient_volume_for_break_even_development \n",
    "SVFBED = 0  "
   ]
  },
  {
   "cell_type": "markdown",
   "metadata": {},
   "source": [
    "**расчеты**"
   ]
  },
  {
   "cell_type": "code",
   "execution_count": 39,
   "metadata": {},
   "outputs": [
    {
     "name": "stdout",
     "output_type": "stream",
     "text": [
      "Средняя стоимость разработки 1 скважины равна 50.0 млн.руб.\n"
     ]
    }
   ],
   "source": [
    "# средняя стоимость разработки одной скважины\n",
    "ASD =  TB / NVFC\n",
    "print('Средняя стоимость разработки 1 скважины равна', ASD / 1000000, 'млн.руб.')"
   ]
  },
  {
   "cell_type": "code",
   "execution_count": 40,
   "metadata": {},
   "outputs": [
    {
     "name": "stdout",
     "output_type": "stream",
     "text": [
      "Достаточный объём сырья для безубыточной разработки одной новой скважины = 111.11 тыс.бар\n"
     ]
    }
   ],
   "source": [
    "# достаточный объём сырья для безубыточной разработки 1 новой скважины \n",
    "# нужно разделить среднею стоимость разработки одной скважины на стоимость в баррелях\n",
    "\n",
    "SVFBED  = ASD / PTB\n",
    "print('Достаточный объём сырья для безубыточной разработки одной новой скважины =', round(SVFBED,2), 'тыс.бар')"
   ]
  },
  {
   "cell_type": "code",
   "execution_count": 41,
   "metadata": {},
   "outputs": [
    {
     "name": "stdout",
     "output_type": "stream",
     "text": [
      "Прогнозный средний запас в регионе 0 = 92.42384109947358\n",
      "Прогнозный средний запас в регионе 1 = 68.98311857983121\n",
      "Прогнозный средний запас в регионе 2 = 95.11622302076479\n"
     ]
    }
   ],
   "source": [
    "# Сравните полученный объём сырья со средним запасом в каждом регионе\n",
    "print('Прогнозный средний запас в регионе 0 =', model_0_predictions_valid.mean())\n",
    "print('Прогнозный средний запас в регионе 1 =', model_1_predictions_valid.mean())\n",
    "print('Прогнозный средний запас в регионе 2 =', model_2_predictions_valid.mean())"
   ]
  },
  {
   "cell_type": "markdown",
   "metadata": {},
   "source": [
    "### Итоги, выводы  п.3\n",
    "- прогнозные средние запасы на 1 скважину во все регионах ниже, чем средняя стоимость разработки 1 скважины (достаточный объём сырья для безубыточной разработки новой скважины)\n",
    "- это говорит о том, что мы не можем рандомно выбирать скважины для разработки\n",
    "- нужно уменьшить количество скважин в расчете, отобрать лучшие и сравнить возможный общий доход с суммой обшего бюджета "
   ]
  },
  {
   "cell_type": "markdown",
   "metadata": {},
   "source": [
    "## 4.Расчёт прибыли "
   ]
  },
  {
   "cell_type": "markdown",
   "metadata": {},
   "source": [
    "Напишите функцию для расчёта прибыли по выбранным скважинам и предсказаниям модели:\n",
    "- Выберите скважины с максимальными значениями предсказаний. \n",
    "- Просуммируйте целевое значение объёма сырья, соответствующее этим предсказаниям.\n",
    "- Рассчитайте прибыль для полученного объёма сырья.\n"
   ]
  },
  {
   "cell_type": "code",
   "execution_count": 42,
   "metadata": {},
   "outputs": [],
   "source": [
    "# сделаем копии изначальных df\n",
    "data_0_new = data_0.copy()\n",
    "data_1_new = data_1.copy()\n",
    "data_2_new = data_2.copy()\n",
    "\n",
    "# добавляем колонку 'predict' с прогнозыми значениями запасов по модели в новые df\n",
    "data_0_new['predict'] = model_0.predict(features_0)\n",
    "data_1_new['predict'] = model_1.predict(features_1)\n",
    "data_2_new['predict'] = model_2.predict(features_2)"
   ]
  },
  {
   "cell_type": "code",
   "execution_count": 43,
   "metadata": {},
   "outputs": [],
   "source": [
    "# функция для расчёта прибыли по выбранным скважинам с максимальным запасом по предсказаниям модели, \n",
    "# значения запасов из столбца 'product'\n",
    "\n",
    "def calculation_profits_selected_wells(data, count, total_budget, price_thousand_barrels):\n",
    "    \"\"\"\n",
    "    data - df с признаками, c фактическими данными и прогнозными значениями по скважинам \n",
    "    count - число скважин для которых будет сделан расчет по прибыли\n",
    "    total_budget - общий инвестиционный бюджет\n",
    "    price_thousand_barrels - цена за 1000 баррелей нефти\n",
    "    \n",
    "    функция выподняет действия:\n",
    "    1) сортируем df по колонке 'predict' по убыванию\n",
    "    2) отбираем 200 скважин, суммируем столбец 'product, умножаем на стоимость 1000 бар. нефти, вычитаем из общего бюджета\n",
    "    3) функция возвращает разницу между Суммой добычи на 200 скважинах и Общим бюджетом\n",
    "    \"\"\"\n",
    "    data = data.sort_values(by='predict', ascending=False) \n",
    "    return (data['product'][:count].sum() * price_thousand_barrels) - total_budget"
   ]
  },
  {
   "cell_type": "code",
   "execution_count": 44,
   "metadata": {},
   "outputs": [],
   "source": [
    "# сохраним значений расчета прогнозируемой прибыли прибыли по регионам\n",
    "total_predict_profit_region_0 = calculation_profits_selected_wells(data_0_new, NVFC, TB, PTB)\n",
    "total_predict_profit_region_1 = calculation_profits_selected_wells(data_1_new, NVFC, TB, PTB)\n",
    "total_predict_profit_region_2 = calculation_profits_selected_wells(data_2_new, NVFC, TB, PTB)"
   ]
  },
  {
   "cell_type": "code",
   "execution_count": 45,
   "metadata": {},
   "outputs": [
    {
     "name": "stdout",
     "output_type": "stream",
     "text": [
      "Общая прогнозируемая прибыль в регионе 0 по скважинам топ-200 = 3,521,042,648 руб.\n",
      "Общая прогнозируемая прибыль в регионе 1 по скважинам топ-200 = 2,415,086,697 руб.\n",
      "Общая прогнозируемая прибыль в регионе 2 по скважинам топ-200 = 2,571,410,632 руб.\n"
     ]
    }
   ],
   "source": [
    "list_total_predict = [total_predict_profit_region_0, total_predict_profit_region_1, total_predict_profit_region_2]\n",
    "\n",
    "for i, val in zip(list_number_region, list_total_predict):\n",
    "    print(f'Общая прогнозируемая прибыль в регионе {i} по скважинам топ-200 = {val:,.0f} руб.')"
   ]
  },
  {
   "cell_type": "markdown",
   "metadata": {},
   "source": [
    "### Итоги, выводы  п.4\n",
    "- создана функция для расчета прибыли 200 скважинами с максимальными значениями предсказания модели и соотвествующих значений 'product'\n",
    "- наибольший прогноз по прибыли в регионе data_0 = 3,494 млр.руб."
   ]
  },
  {
   "cell_type": "markdown",
   "metadata": {},
   "source": [
    "## 5.Посчитайте риски и прибыль для каждого региона"
   ]
  },
  {
   "cell_type": "markdown",
   "metadata": {},
   "source": [
    "Посчитайте риски и прибыль для каждого региона:\n",
    "- Примените технику Bootstrap с 1000 выборок, чтобы найти распределение прибыли.\n",
    "- Найдите среднюю прибыль, 95%-й доверительный интервал и риск убытков. Убыток — это отрицательная прибыль.\n",
    "- Напишите выводы: предложите регион для разработки скважин и обоснуйте выбор"
   ]
  },
  {
   "cell_type": "code",
   "execution_count": 46,
   "metadata": {},
   "outputs": [
    {
     "name": "stdout",
     "output_type": "stream",
     "text": [
      "Средняя прогнозируемая прибыль методом Bootstrap в регионе_0 = 424,227,081 руб.\n",
      "95%-ый доверительный интервал для региона_0: (-73,590,004 руб., 939,563,112 руб.)\n",
      "Вероятность убытков для региона_0 = 4.9%\n"
     ]
    }
   ],
   "source": [
    "# подсчет прибыли региона_0 методом Bootstrap с использованием функции calculation_profits_selected_wells\n",
    "state = np.random.RandomState(RS)\n",
    "bootstrap_predict_profit_region_0 = []\n",
    "\n",
    "for i in range(1000):    \n",
    "    data = data_0_new.sample(n=NVFB, replace=True, random_state=state)\n",
    "    x = calculation_profits_selected_wells(data, NVFC, TB, PTB)\n",
    "    bootstrap_predict_profit_region_0.append(x)                                                                             \n",
    "    \n",
    "\n",
    "bootstrap_predict_profit_region_0 = pd.Series(bootstrap_predict_profit_region_0)\n",
    " \n",
    "lower = bootstrap_predict_profit_region_0.quantile(q=0.025)\n",
    "upper = bootstrap_predict_profit_region_0.quantile(q=0.975)\n",
    "\n",
    "# вывод значений: средняя прибыль, 95%-й доверительный интервал, риск убытков\n",
    "print(f'Средняя прогнозируемая прибыль методом Bootstrap в регионе_0 = {bootstrap_predict_profit_region_0.mean():,.0f} руб.')\n",
    "print(f'95%-ый доверительный интервал для региона_0: ({lower:,.0f} руб., {upper:,.0f} руб.)')\n",
    "print(f'Вероятность убытков для региона_0 = {(bootstrap_predict_profit_region_0 < 0).mean():.1%}')"
   ]
  },
  {
   "cell_type": "code",
   "execution_count": 74,
   "metadata": {
    "scrolled": true
   },
   "outputs": [
    {
     "data": {
      "image/png": "[encoded data removed]",
      "text/plain": [
       "<Figure size 1296x360 with 1 Axes>"
      ]
     },
     "metadata": {
      "needs_background": "light"
     },
     "output_type": "display_data"
    }
   ],
   "source": [
    "# распределение вариантов прибыли в регионе_0\n",
    "bootstrap_predict_profit_region_0.plot(kind='hist', bins=100, alpha=0.4, legend=True, figsize=(18,5), \n",
    "                                       label='распределение возвожной прибыли')\n",
    "plt.axvline(x=bootstrap_predict_profit_region_0.median(), color='r', label='median')\n",
    "plt.axvline(x=lower, color='g', label='0.025 квантиль')\n",
    "plt.axvline(x=upper, color='g', label='0.975 квантиль')\n",
    "plt.legend()\n",
    "plt.title(\"Распределение вариантов прибыли в регионе_0 - bootstrap 1000 выборок по 500 скважин (отбор 200 лучших скважин), млрд.руб.\", \n",
    "          fontsize=14);"
   ]
  },
  {
   "cell_type": "code",
   "execution_count": 49,
   "metadata": {},
   "outputs": [
    {
     "name": "stdout",
     "output_type": "stream",
     "text": [
      "Средняя прогнозируемая прибыль методом Bootstrap в регионе_1 = 445,362,284 руб.\n",
      "95%-ый доверительный интервал для региона_1: (7,447,780 руб., 864,416,866 руб.)\n",
      "Вероятность убытков для региона_1 = 2.4%\n"
     ]
    }
   ],
   "source": [
    "# подсчет прибыли регион_1 методом Bootstrap с использованием функции calculation_profits_selected_wells\n",
    "state = np.random.RandomState(RS)\n",
    "bootstrap_predict_profit_region_1 = []\n",
    "\n",
    "for i in range(1000):    \n",
    "    data = data_1_new.sample(n=NVFB, replace=True, random_state=state)\n",
    "    x = calculation_profits_selected_wells(data, NVFC, TB, PTB)\n",
    "    bootstrap_predict_profit_region_1.append(x)                                                                             \n",
    "    \n",
    "\n",
    "bootstrap_predict_profit_region_1 = pd.Series(bootstrap_predict_profit_region_1)\n",
    " \n",
    "lower = bootstrap_predict_profit_region_1.quantile(q=0.025)\n",
    "upper = bootstrap_predict_profit_region_1.quantile(q=0.975)\n",
    "\n",
    "# вывод значений: средняя прибыль, 95%-й доверительный интервал, риск убытков\n",
    "print(f'Средняя прогнозируемая прибыль методом Bootstrap в регионе_1 = {bootstrap_predict_profit_region_1.mean():,.0f} руб.')\n",
    "print(f'95%-ый доверительный интервал для региона_1: ({lower:,.0f} руб., {upper:,.0f} руб.)')\n",
    "print(f'Вероятность убытков для региона_1 = {(bootstrap_predict_profit_region_1 < 0).mean():.1%}')"
   ]
  },
  {
   "cell_type": "code",
   "execution_count": 75,
   "metadata": {},
   "outputs": [
    {
     "data": {
      "image/png": "[encoded data removed]",
      "text/plain": [
       "<Figure size 1296x360 with 1 Axes>"
      ]
     },
     "metadata": {
      "needs_background": "light"
     },
     "output_type": "display_data"
    }
   ],
   "source": [
    "# распределение вариантов прибыли в регионе_1\n",
    "bootstrap_predict_profit_region_1.plot(kind='hist', bins=100, alpha=0.4, legend=True, figsize=(18,5), \n",
    "                                                                   label='распределение возможной прибыли')\n",
    "plt.axvline(x=bootstrap_predict_profit_region_0.median(), color='r', label='median')\n",
    "plt.axvline(x=lower, color='g', label='0.025 квантиль')\n",
    "plt.axvline(x=upper, color='g', label='0.975 квантиль')\n",
    "plt.legend()\n",
    "plt.title(\"Распределение вариантов прибыли в регионе_1 - bootstrap 1000 выборок по 500 скважин(отбор 200 лучших скважин, млрд.руб.)\", \n",
    "          fontsize=14);"
   ]
  },
  {
   "cell_type": "code",
   "execution_count": 51,
   "metadata": {},
   "outputs": [
    {
     "name": "stdout",
     "output_type": "stream",
     "text": [
      "Средняя прогнозируемая прибыль методом Bootstrap в регионе_2 = 370,095,240 руб.\n",
      "95%-ый доверительный интервал для региона_2: (-148,625,316 руб., 898,062,078 руб.)\n",
      "Вероятность убытков для региона_1 = 8.1%\n"
     ]
    }
   ],
   "source": [
    "# подсчет прибыли регион_2 методом Bootstrap с использованием функции\n",
    "state = np.random.RandomState(12345)\n",
    "bootstrap_predict_profit_region_2 = []\n",
    "\n",
    "for i in range(1000):    \n",
    "    data = data_2_new.sample(n=NVFB, replace=True, random_state=state)\n",
    "    x = calculation_profits_selected_wells(data, NVFC, TB, PTB)\n",
    "    bootstrap_predict_profit_region_2.append(x)                                                                             \n",
    "    \n",
    "\n",
    "bootstrap_predict_profit_region_2 = pd.Series(bootstrap_predict_profit_region_2)\n",
    " \n",
    "lower = bootstrap_predict_profit_region_2.quantile(q=0.025)\n",
    "upper = bootstrap_predict_profit_region_2.quantile(q=0.975)\n",
    "\n",
    "# вывод значений: средняя прибыль, 95%-й доверительный интервал, риск убытков\n",
    "print(f'Средняя прогнозируемая прибыль методом Bootstrap в регионе_2 = {bootstrap_predict_profit_region_2.mean():,.0f} руб.')\n",
    "print(f'95%-ый доверительный интервал для региона_2: ({lower:,.0f} руб., {upper:,.0f} руб.)')\n",
    "print(f'Вероятность убытков для региона_1 = {(bootstrap_predict_profit_region_2 < 0).mean():.1%}')"
   ]
  },
  {
   "cell_type": "code",
   "execution_count": 76,
   "metadata": {},
   "outputs": [
    {
     "data": {
      "image/png": "[encoded data removed]",
      "text/plain": [
       "<Figure size 1296x360 with 1 Axes>"
      ]
     },
     "metadata": {
      "needs_background": "light"
     },
     "output_type": "display_data"
    }
   ],
   "source": [
    "# распределение вариантов прибыли в регионе_2\n",
    "bootstrap_predict_profit_region_2.plot(kind='hist', bins=100, alpha=0.4, legend=True, figsize=(18,5), \n",
    "                                                                   label='распределение возможной прибыли')\n",
    "plt.axvline(x=bootstrap_predict_profit_region_0.median(), color='r', label='median')\n",
    "plt.axvline(x=lower, color='g', label='0.025 квантиль')\n",
    "plt.axvline(x=upper, color='g', label='0.975 квантиль')\n",
    "plt.legend()\n",
    "plt.title(\"Распределение вариантов прибыли в регионе_2 - bootstrap 1000 выборок по 500 скважин(отбор 200 лучших скважин), млрд.руб.\", \n",
    "          fontsize=14);"
   ]
  },
  {
   "cell_type": "markdown",
   "metadata": {},
   "source": [
    "### Итоги, выводы  п.5\n",
    "- расчитанны:  средняя прибыль, 95%-й доверительный интервал, риск убытков методом Bootstrap для всех регионов\n",
    "- в регионах 0 и 2 вероятность получить убытки больше чем 2.5%, соотвествено 5.2% и 9.2%\n",
    "- в регионе 1 вероятность получить убытки меньше чем 2.5% -  1.4%\n",
    "\n",
    "Регион_1\n",
    "- Средняя прогнозируемая прибыль методом Bootstrap в регионе_1 = 445,362,284 руб.\n",
    "- 95%-ый доверительный интервал для региона_1: (7,447,780 руб., 864,416,866 руб.)\n",
    "- Вероятность убытков для региона_1 = 2.4%"
   ]
  },
  {
   "cell_type": "markdown",
   "metadata": {},
   "source": [
    "## Чек-лист готовности проекта"
   ]
  },
  {
   "cell_type": "markdown",
   "metadata": {},
   "source": [
    "Поставьте 'x' в выполненных пунктах. Далее нажмите Shift+Enter."
   ]
  },
  {
   "cell_type": "markdown",
   "metadata": {},
   "source": [
    "- [x]  Jupyter Notebook открыт\n",
    "- [x]  Весь код выполняется без ошибок\n",
    "- [x]  Ячейки с кодом расположены в порядке исполнения\n",
    "- [x]  Выполнен шаг 1: данные подготовлены\n",
    "- [x]  Выполнен шаг 2: модели обучены и проверены\n",
    "    - [x]  Данные корректно разбиты на обучающую и валидационную выборки\n",
    "    - [x]  Модели обучены, предсказания сделаны\n",
    "    - [x]  Предсказания и правильные ответы на валидационной выборке сохранены\n",
    "    - [x]  На экране напечатаны результаты\n",
    "    - [x]  Сделаны выводы\n",
    "- [x]  Выполнен шаг 3: проведена подготовка к расчёту прибыли\n",
    "    - [x]  Для всех ключевых значений созданы константы Python\n",
    "    - [x]  Посчитано минимальное среднее количество продукта в месторождениях региона, достаточное для разработки\n",
    "    - [x]  По предыдущему пункту сделаны выводы\n",
    "    - [x]  Написана функция расчёта прибыли\n",
    "- [x]  Выполнен шаг 4: посчитаны риски и прибыль\n",
    "    - [x]  Проведена процедура *Bootstrap*\n",
    "    - [x]  Все параметры бутстрепа соответствуют условию\n",
    "    - [x]  Найдены все нужные величины\n",
    "    - [x]  Предложен регион для разработки месторождения\n",
    "    - [x]  Выбор региона обоснован"
   ]
  },
  {
   "cell_type": "markdown",
   "metadata": {},
   "source": [
    "## 6.Обучение и предсказание с масштабированием признаков"
   ]
  },
  {
   "cell_type": "code",
   "execution_count": 53,
   "metadata": {},
   "outputs": [
    {
     "data": {
      "text/html": [
       "<style>#sk-container-id-1 {color: black;}#sk-container-id-1 pre{padding: 0;}#sk-container-id-1 div.sk-toggleable {background-color: white;}#sk-container-id-1 label.sk-toggleable__label {cursor: pointer;display: block;width: 100%;margin-bottom: 0;padding: 0.3em;box-sizing: border-box;text-align: center;}#sk-container-id-1 label.sk-toggleable__label-arrow:before {content: \"▸\";float: left;margin-right: 0.25em;color: #696969;}#sk-container-id-1 label.sk-toggleable__label-arrow:hover:before {color: black;}#sk-container-id-1 div.sk-estimator:hover label.sk-toggleable__label-arrow:before {color: black;}#sk-container-id-1 div.sk-toggleable__content {max-height: 0;max-width: 0;overflow: hidden;text-align: left;background-color: #f0f8ff;}#sk-container-id-1 div.sk-toggleable__content pre {margin: 0.2em;color: black;border-radius: 0.25em;background-color: #f0f8ff;}#sk-container-id-1 input.sk-toggleable__control:checked~div.sk-toggleable__content {max-height: 200px;max-width: 100%;overflow: auto;}#sk-container-id-1 input.sk-toggleable__control:checked~label.sk-toggleable__label-arrow:before {content: \"▾\";}#sk-container-id-1 div.sk-estimator input.sk-toggleable__control:checked~label.sk-toggleable__label {background-color: #d4ebff;}#sk-container-id-1 div.sk-label input.sk-toggleable__control:checked~label.sk-toggleable__label {background-color: #d4ebff;}#sk-container-id-1 input.sk-hidden--visually {border: 0;clip: rect(1px 1px 1px 1px);clip: rect(1px, 1px, 1px, 1px);height: 1px;margin: -1px;overflow: hidden;padding: 0;position: absolute;width: 1px;}#sk-container-id-1 div.sk-estimator {font-family: monospace;background-color: #f0f8ff;border: 1px dotted black;border-radius: 0.25em;box-sizing: border-box;margin-bottom: 0.5em;}#sk-container-id-1 div.sk-estimator:hover {background-color: #d4ebff;}#sk-container-id-1 div.sk-parallel-item::after {content: \"\";width: 100%;border-bottom: 1px solid gray;flex-grow: 1;}#sk-container-id-1 div.sk-label:hover label.sk-toggleable__label {background-color: #d4ebff;}#sk-container-id-1 div.sk-serial::before {content: \"\";position: absolute;border-left: 1px solid gray;box-sizing: border-box;top: 0;bottom: 0;left: 50%;z-index: 0;}#sk-container-id-1 div.sk-serial {display: flex;flex-direction: column;align-items: center;background-color: white;padding-right: 0.2em;padding-left: 0.2em;position: relative;}#sk-container-id-1 div.sk-item {position: relative;z-index: 1;}#sk-container-id-1 div.sk-parallel {display: flex;align-items: stretch;justify-content: center;background-color: white;position: relative;}#sk-container-id-1 div.sk-item::before, #sk-container-id-1 div.sk-parallel-item::before {content: \"\";position: absolute;border-left: 1px solid gray;box-sizing: border-box;top: 0;bottom: 0;left: 50%;z-index: -1;}#sk-container-id-1 div.sk-parallel-item {display: flex;flex-direction: column;z-index: 1;position: relative;background-color: white;}#sk-container-id-1 div.sk-parallel-item:first-child::after {align-self: flex-end;width: 50%;}#sk-container-id-1 div.sk-parallel-item:last-child::after {align-self: flex-start;width: 50%;}#sk-container-id-1 div.sk-parallel-item:only-child::after {width: 0;}#sk-container-id-1 div.sk-dashed-wrapped {border: 1px dashed gray;margin: 0 0.4em 0.5em 0.4em;box-sizing: border-box;padding-bottom: 0.4em;background-color: white;}#sk-container-id-1 div.sk-label label {font-family: monospace;font-weight: bold;display: inline-block;line-height: 1.2em;}#sk-container-id-1 div.sk-label-container {text-align: center;}#sk-container-id-1 div.sk-container {/* jupyter's `normalize.less` sets `[hidden] { display: none; }` but bootstrap.min.css set `[hidden] { display: none !important; }` so we also need the `!important` here to be able to override the default hidden behavior on the sphinx rendered scikit-learn.org. See: https://github.com/scikit-learn/scikit-learn/issues/21755 */display: inline-block !important;position: relative;}#sk-container-id-1 div.sk-text-repr-fallback {display: none;}</style><div id=\"sk-container-id-1\" class=\"sk-top-container\"><div class=\"sk-text-repr-fallback\"><pre>StandardScaler()</pre><b>In a Jupyter environment, please rerun this cell to show the HTML representation or trust the notebook. <br />On GitHub, the HTML representation is unable to render, please try loading this page with nbviewer.org.</b></div><div class=\"sk-container\" hidden><div class=\"sk-item\"><div class=\"sk-estimator sk-toggleable\"><input class=\"sk-toggleable__control sk-hidden--visually\" id=\"sk-estimator-id-1\" type=\"checkbox\" checked><label for=\"sk-estimator-id-1\" class=\"sk-toggleable__label sk-toggleable__label-arrow\">StandardScaler</label><div class=\"sk-toggleable__content\"><pre>StandardScaler()</pre></div></div></div></div></div>"
      ],
      "text/plain": [
       "StandardScaler()"
      ]
     },
     "execution_count": 53,
     "metadata": {},
     "output_type": "execute_result"
    }
   ],
   "source": [
    "# масштабируем числовые признаки  для модели_0\n",
    "numeric = ['f0', 'f1', 'f2']\n",
    "scaler_0 = StandardScaler()\n",
    "scaler_0.fit(X_train_0[numeric])  "
   ]
  },
  {
   "cell_type": "code",
   "execution_count": 54,
   "metadata": {},
   "outputs": [],
   "source": [
    "# преобразуем выборки функцией transform()\n",
    "X_train_0[numeric] = scaler_0.transform(X_train_0[numeric])\n",
    "X_valid_0[numeric] = scaler_0.transform(X_valid_0[numeric]) \n",
    "pd.options.mode.chained_assignment = None"
   ]
  },
  {
   "cell_type": "code",
   "execution_count": 55,
   "metadata": {},
   "outputs": [
    {
     "data": {
      "image/png": "[encoded data removed]",
      "text/plain": [
       "<Figure size 1440x216 with 3 Axes>"
      ]
     },
     "metadata": {
      "needs_background": "light"
     },
     "output_type": "display_data"
    }
   ],
   "source": [
    "X_train_0.hist(figsize=(20,3), layout=(1,3));"
   ]
  },
  {
   "cell_type": "code",
   "execution_count": 56,
   "metadata": {},
   "outputs": [],
   "source": [
    "# обучение model_0 на data_0\n",
    "model_s_0 = LinearRegression()\n",
    "model_s_0.fit(X_train_0, y_train_0) \n",
    "model_s_0_predictions_valid = model_0.predict(X_valid_0) "
   ]
  },
  {
   "cell_type": "code",
   "execution_count": 57,
   "metadata": {},
   "outputs": [
    {
     "data": {
      "text/plain": [
       "77.48958138857259"
      ]
     },
     "execution_count": 57,
     "metadata": {},
     "output_type": "execute_result"
    }
   ],
   "source": [
    "model_s_0_predictions_valid.mean()"
   ]
  },
  {
   "cell_type": "code",
   "execution_count": 58,
   "metadata": {},
   "outputs": [
    {
     "name": "stdout",
     "output_type": "stream",
     "text": [
      "RMSE модели_s_0 на валидационной выборке: 43.8054416742357\n"
     ]
    }
   ],
   "source": [
    "# расчет RMSE\n",
    "model_s_0_RMSE = sqrt(mean_squared_error(y_valid_0, model_s_0_predictions_valid))\n",
    "print(\"RMSE модели_s_0 на валидационной выборке:\", model_s_0_RMSE)"
   ]
  },
  {
   "cell_type": "code",
   "execution_count": 59,
   "metadata": {},
   "outputs": [
    {
     "data": {
      "text/html": [
       "<style>#sk-container-id-2 {color: black;}#sk-container-id-2 pre{padding: 0;}#sk-container-id-2 div.sk-toggleable {background-color: white;}#sk-container-id-2 label.sk-toggleable__label {cursor: pointer;display: block;width: 100%;margin-bottom: 0;padding: 0.3em;box-sizing: border-box;text-align: center;}#sk-container-id-2 label.sk-toggleable__label-arrow:before {content: \"▸\";float: left;margin-right: 0.25em;color: #696969;}#sk-container-id-2 label.sk-toggleable__label-arrow:hover:before {color: black;}#sk-container-id-2 div.sk-estimator:hover label.sk-toggleable__label-arrow:before {color: black;}#sk-container-id-2 div.sk-toggleable__content {max-height: 0;max-width: 0;overflow: hidden;text-align: left;background-color: #f0f8ff;}#sk-container-id-2 div.sk-toggleable__content pre {margin: 0.2em;color: black;border-radius: 0.25em;background-color: #f0f8ff;}#sk-container-id-2 input.sk-toggleable__control:checked~div.sk-toggleable__content {max-height: 200px;max-width: 100%;overflow: auto;}#sk-container-id-2 input.sk-toggleable__control:checked~label.sk-toggleable__label-arrow:before {content: \"▾\";}#sk-container-id-2 div.sk-estimator input.sk-toggleable__control:checked~label.sk-toggleable__label {background-color: #d4ebff;}#sk-container-id-2 div.sk-label input.sk-toggleable__control:checked~label.sk-toggleable__label {background-color: #d4ebff;}#sk-container-id-2 input.sk-hidden--visually {border: 0;clip: rect(1px 1px 1px 1px);clip: rect(1px, 1px, 1px, 1px);height: 1px;margin: -1px;overflow: hidden;padding: 0;position: absolute;width: 1px;}#sk-container-id-2 div.sk-estimator {font-family: monospace;background-color: #f0f8ff;border: 1px dotted black;border-radius: 0.25em;box-sizing: border-box;margin-bottom: 0.5em;}#sk-container-id-2 div.sk-estimator:hover {background-color: #d4ebff;}#sk-container-id-2 div.sk-parallel-item::after {content: \"\";width: 100%;border-bottom: 1px solid gray;flex-grow: 1;}#sk-container-id-2 div.sk-label:hover label.sk-toggleable__label {background-color: #d4ebff;}#sk-container-id-2 div.sk-serial::before {content: \"\";position: absolute;border-left: 1px solid gray;box-sizing: border-box;top: 0;bottom: 0;left: 50%;z-index: 0;}#sk-container-id-2 div.sk-serial {display: flex;flex-direction: column;align-items: center;background-color: white;padding-right: 0.2em;padding-left: 0.2em;position: relative;}#sk-container-id-2 div.sk-item {position: relative;z-index: 1;}#sk-container-id-2 div.sk-parallel {display: flex;align-items: stretch;justify-content: center;background-color: white;position: relative;}#sk-container-id-2 div.sk-item::before, #sk-container-id-2 div.sk-parallel-item::before {content: \"\";position: absolute;border-left: 1px solid gray;box-sizing: border-box;top: 0;bottom: 0;left: 50%;z-index: -1;}#sk-container-id-2 div.sk-parallel-item {display: flex;flex-direction: column;z-index: 1;position: relative;background-color: white;}#sk-container-id-2 div.sk-parallel-item:first-child::after {align-self: flex-end;width: 50%;}#sk-container-id-2 div.sk-parallel-item:last-child::after {align-self: flex-start;width: 50%;}#sk-container-id-2 div.sk-parallel-item:only-child::after {width: 0;}#sk-container-id-2 div.sk-dashed-wrapped {border: 1px dashed gray;margin: 0 0.4em 0.5em 0.4em;box-sizing: border-box;padding-bottom: 0.4em;background-color: white;}#sk-container-id-2 div.sk-label label {font-family: monospace;font-weight: bold;display: inline-block;line-height: 1.2em;}#sk-container-id-2 div.sk-label-container {text-align: center;}#sk-container-id-2 div.sk-container {/* jupyter's `normalize.less` sets `[hidden] { display: none; }` but bootstrap.min.css set `[hidden] { display: none !important; }` so we also need the `!important` here to be able to override the default hidden behavior on the sphinx rendered scikit-learn.org. See: https://github.com/scikit-learn/scikit-learn/issues/21755 */display: inline-block !important;position: relative;}#sk-container-id-2 div.sk-text-repr-fallback {display: none;}</style><div id=\"sk-container-id-2\" class=\"sk-top-container\"><div class=\"sk-text-repr-fallback\"><pre>StandardScaler()</pre><b>In a Jupyter environment, please rerun this cell to show the HTML representation or trust the notebook. <br />On GitHub, the HTML representation is unable to render, please try loading this page with nbviewer.org.</b></div><div class=\"sk-container\" hidden><div class=\"sk-item\"><div class=\"sk-estimator sk-toggleable\"><input class=\"sk-toggleable__control sk-hidden--visually\" id=\"sk-estimator-id-2\" type=\"checkbox\" checked><label for=\"sk-estimator-id-2\" class=\"sk-toggleable__label sk-toggleable__label-arrow\">StandardScaler</label><div class=\"sk-toggleable__content\"><pre>StandardScaler()</pre></div></div></div></div></div>"
      ],
      "text/plain": [
       "StandardScaler()"
      ]
     },
     "execution_count": 59,
     "metadata": {},
     "output_type": "execute_result"
    }
   ],
   "source": [
    "# масштабируем числовые признаки для модели_1\n",
    "scaler_1 = StandardScaler()\n",
    "scaler_1.fit(X_train_1[numeric]) "
   ]
  },
  {
   "cell_type": "code",
   "execution_count": 60,
   "metadata": {},
   "outputs": [],
   "source": [
    "X_train_1[numeric] = scaler_1.transform(X_train_1[numeric])\n",
    "X_valid_1[numeric] = scaler_1.transform(X_valid_1[numeric]) \n",
    "pd.options.mode.chained_assignment = None"
   ]
  },
  {
   "cell_type": "code",
   "execution_count": 61,
   "metadata": {},
   "outputs": [
    {
     "data": {
      "image/png": "[encoded data removed]",
      "text/plain": [
       "<Figure size 1440x216 with 3 Axes>"
      ]
     },
     "metadata": {
      "needs_background": "light"
     },
     "output_type": "display_data"
    }
   ],
   "source": [
    "X_train_1.hist(figsize=(20,3), layout=(1,3));"
   ]
  },
  {
   "cell_type": "code",
   "execution_count": 62,
   "metadata": {},
   "outputs": [],
   "source": [
    "# обучение model_0 на data_0\n",
    "model_s_1 = LinearRegression()\n",
    "model_s_1.fit(X_train_1, y_train_1) \n",
    "model_s_1_predictions_valid = model_1.predict(X_valid_1) "
   ]
  },
  {
   "cell_type": "code",
   "execution_count": 63,
   "metadata": {},
   "outputs": [
    {
     "data": {
      "text/plain": [
       "1.7824371381991775"
      ]
     },
     "execution_count": 63,
     "metadata": {},
     "output_type": "execute_result"
    }
   ],
   "source": [
    "model_s_1_predictions_valid.mean()"
   ]
  },
  {
   "cell_type": "code",
   "execution_count": 64,
   "metadata": {},
   "outputs": [
    {
     "name": "stdout",
     "output_type": "stream",
     "text": [
      "RMSE модели_s_1 на валидационной выборке: 69.84276952411665\n"
     ]
    }
   ],
   "source": [
    "# расчет RMSE\n",
    "model_s_1_RMSE = sqrt(mean_squared_error(y_valid_1, model_s_1_predictions_valid))\n",
    "print(\"RMSE модели_s_1 на валидационной выборке:\", model_s_1_RMSE)"
   ]
  },
  {
   "cell_type": "code",
   "execution_count": 65,
   "metadata": {},
   "outputs": [
    {
     "data": {
      "text/html": [
       "<style>#sk-container-id-3 {color: black;}#sk-container-id-3 pre{padding: 0;}#sk-container-id-3 div.sk-toggleable {background-color: white;}#sk-container-id-3 label.sk-toggleable__label {cursor: pointer;display: block;width: 100%;margin-bottom: 0;padding: 0.3em;box-sizing: border-box;text-align: center;}#sk-container-id-3 label.sk-toggleable__label-arrow:before {content: \"▸\";float: left;margin-right: 0.25em;color: #696969;}#sk-container-id-3 label.sk-toggleable__label-arrow:hover:before {color: black;}#sk-container-id-3 div.sk-estimator:hover label.sk-toggleable__label-arrow:before {color: black;}#sk-container-id-3 div.sk-toggleable__content {max-height: 0;max-width: 0;overflow: hidden;text-align: left;background-color: #f0f8ff;}#sk-container-id-3 div.sk-toggleable__content pre {margin: 0.2em;color: black;border-radius: 0.25em;background-color: #f0f8ff;}#sk-container-id-3 input.sk-toggleable__control:checked~div.sk-toggleable__content {max-height: 200px;max-width: 100%;overflow: auto;}#sk-container-id-3 input.sk-toggleable__control:checked~label.sk-toggleable__label-arrow:before {content: \"▾\";}#sk-container-id-3 div.sk-estimator input.sk-toggleable__control:checked~label.sk-toggleable__label {background-color: #d4ebff;}#sk-container-id-3 div.sk-label input.sk-toggleable__control:checked~label.sk-toggleable__label {background-color: #d4ebff;}#sk-container-id-3 input.sk-hidden--visually {border: 0;clip: rect(1px 1px 1px 1px);clip: rect(1px, 1px, 1px, 1px);height: 1px;margin: -1px;overflow: hidden;padding: 0;position: absolute;width: 1px;}#sk-container-id-3 div.sk-estimator {font-family: monospace;background-color: #f0f8ff;border: 1px dotted black;border-radius: 0.25em;box-sizing: border-box;margin-bottom: 0.5em;}#sk-container-id-3 div.sk-estimator:hover {background-color: #d4ebff;}#sk-container-id-3 div.sk-parallel-item::after {content: \"\";width: 100%;border-bottom: 1px solid gray;flex-grow: 1;}#sk-container-id-3 div.sk-label:hover label.sk-toggleable__label {background-color: #d4ebff;}#sk-container-id-3 div.sk-serial::before {content: \"\";position: absolute;border-left: 1px solid gray;box-sizing: border-box;top: 0;bottom: 0;left: 50%;z-index: 0;}#sk-container-id-3 div.sk-serial {display: flex;flex-direction: column;align-items: center;background-color: white;padding-right: 0.2em;padding-left: 0.2em;position: relative;}#sk-container-id-3 div.sk-item {position: relative;z-index: 1;}#sk-container-id-3 div.sk-parallel {display: flex;align-items: stretch;justify-content: center;background-color: white;position: relative;}#sk-container-id-3 div.sk-item::before, #sk-container-id-3 div.sk-parallel-item::before {content: \"\";position: absolute;border-left: 1px solid gray;box-sizing: border-box;top: 0;bottom: 0;left: 50%;z-index: -1;}#sk-container-id-3 div.sk-parallel-item {display: flex;flex-direction: column;z-index: 1;position: relative;background-color: white;}#sk-container-id-3 div.sk-parallel-item:first-child::after {align-self: flex-end;width: 50%;}#sk-container-id-3 div.sk-parallel-item:last-child::after {align-self: flex-start;width: 50%;}#sk-container-id-3 div.sk-parallel-item:only-child::after {width: 0;}#sk-container-id-3 div.sk-dashed-wrapped {border: 1px dashed gray;margin: 0 0.4em 0.5em 0.4em;box-sizing: border-box;padding-bottom: 0.4em;background-color: white;}#sk-container-id-3 div.sk-label label {font-family: monospace;font-weight: bold;display: inline-block;line-height: 1.2em;}#sk-container-id-3 div.sk-label-container {text-align: center;}#sk-container-id-3 div.sk-container {/* jupyter's `normalize.less` sets `[hidden] { display: none; }` but bootstrap.min.css set `[hidden] { display: none !important; }` so we also need the `!important` here to be able to override the default hidden behavior on the sphinx rendered scikit-learn.org. See: https://github.com/scikit-learn/scikit-learn/issues/21755 */display: inline-block !important;position: relative;}#sk-container-id-3 div.sk-text-repr-fallback {display: none;}</style><div id=\"sk-container-id-3\" class=\"sk-top-container\"><div class=\"sk-text-repr-fallback\"><pre>StandardScaler()</pre><b>In a Jupyter environment, please rerun this cell to show the HTML representation or trust the notebook. <br />On GitHub, the HTML representation is unable to render, please try loading this page with nbviewer.org.</b></div><div class=\"sk-container\" hidden><div class=\"sk-item\"><div class=\"sk-estimator sk-toggleable\"><input class=\"sk-toggleable__control sk-hidden--visually\" id=\"sk-estimator-id-3\" type=\"checkbox\" checked><label for=\"sk-estimator-id-3\" class=\"sk-toggleable__label sk-toggleable__label-arrow\">StandardScaler</label><div class=\"sk-toggleable__content\"><pre>StandardScaler()</pre></div></div></div></div></div>"
      ],
      "text/plain": [
       "StandardScaler()"
      ]
     },
     "execution_count": 65,
     "metadata": {},
     "output_type": "execute_result"
    }
   ],
   "source": [
    "# масштабируем числовые признаки для модели_2\n",
    "scaler_2 = StandardScaler()\n",
    "scaler_2.fit(X_train_2[numeric]) "
   ]
  },
  {
   "cell_type": "code",
   "execution_count": 66,
   "metadata": {},
   "outputs": [],
   "source": [
    "# преобразуем выборки функцией transform(). \n",
    "X_train_2[numeric] = scaler_2.transform(X_train_2[numeric])\n",
    "X_valid_2[numeric] = scaler_2.transform(X_valid_2[numeric]) \n",
    "pd.options.mode.chained_assignment = None"
   ]
  },
  {
   "cell_type": "code",
   "execution_count": 67,
   "metadata": {},
   "outputs": [
    {
     "data": {
      "image/png": "[encoded data removed]",
      "text/plain": [
       "<Figure size 1440x216 with 3 Axes>"
      ]
     },
     "metadata": {
      "needs_background": "light"
     },
     "output_type": "display_data"
    }
   ],
   "source": [
    "X_valid_2.hist(figsize=(20,3), layout=(1,3));"
   ]
  },
  {
   "cell_type": "code",
   "execution_count": 68,
   "metadata": {},
   "outputs": [],
   "source": [
    "# обучение model_0 на data_0\n",
    "model_s_2 = LinearRegression()\n",
    "model_s_2.fit(X_train_2, y_train_2) \n",
    "model_s_2_predictions_valid = model_2.predict(X_valid_2) "
   ]
  },
  {
   "cell_type": "code",
   "execution_count": 69,
   "metadata": {},
   "outputs": [
    {
     "data": {
      "text/plain": [
       "80.73247570131696"
      ]
     },
     "execution_count": 69,
     "metadata": {},
     "output_type": "execute_result"
    }
   ],
   "source": [
    "model_s_2_predictions_valid.mean()"
   ]
  },
  {
   "cell_type": "code",
   "execution_count": 70,
   "metadata": {},
   "outputs": [
    {
     "name": "stdout",
     "output_type": "stream",
     "text": [
      "RMSE модели_s_2 на валидационной выборке: 44.52630698611725\n"
     ]
    }
   ],
   "source": [
    "# расчет RMSE\n",
    "model_s_2_RMSE = sqrt(mean_squared_error(y_valid_2, model_s_2_predictions_valid))\n",
    "print(\"RMSE модели_s_2 на валидационной выборке:\", model_s_2_RMSE)"
   ]
  },
  {
   "cell_type": "markdown",
   "metadata": {},
   "source": [
    "**комментарии**  \n",
    "- model_0_s - уровень предсказанных запасов = 77.48, RMSE = 43.805\n",
    "- model_1_s - уровень предсказанных запасов = 1.7, RMSE = 69.84 - очень низкикий предсказынный уровень запасов и оценка RMSE\n",
    "- model_2_s - уровень предсказанных запасов = 80.73, RMSE = 44.52\n"
   ]
  },
  {
   "cell_type": "code",
   "execution_count": 71,
   "metadata": {},
   "outputs": [],
   "source": [
    "# сделаем копии изначальных df\n",
    "data_0_s = data_0.copy()\n",
    "data_1_s = data_1.copy()\n",
    "data_2_s = data_2.copy()\n",
    "\n",
    "# добавляем колонку 'predict' с прогнозыми значениями запасов по модели в новые df\n",
    "data_0_s['predict'] = model_s_0.predict(features_0)\n",
    "data_1_s['predict'] = model_s_1.predict(features_1)\n",
    "data_2_s['predict'] = model_s_2.predict(features_2)"
   ]
  },
  {
   "cell_type": "code",
   "execution_count": 72,
   "metadata": {},
   "outputs": [],
   "source": [
    "total_predict_profit_region_0_s = calculation_profits_selected_wells(data_0_s, NVFC, TB, PTB)\n",
    "total_predict_profit_region_1_s = calculation_profits_selected_wells(data_1_s, NVFC, TB, PTB)\n",
    "total_predict_profit_region_2_s = calculation_profits_selected_wells(data_2_s, NVFC, TB, PTB)"
   ]
  },
  {
   "cell_type": "code",
   "execution_count": 73,
   "metadata": {},
   "outputs": [
    {
     "name": "stdout",
     "output_type": "stream",
     "text": [
      "Общая прогнозируемая прибыль в регионе 0 по скважинам топ-200 = 2,946,837,040 руб.\n",
      "Общая прогнозируемая прибыль в регионе 1 по скважинам топ-200 = 2,415,086,697 руб.\n",
      "Общая прогнозируемая прибыль в регионе 2 по скважинам топ-200 = 2,571,410,632 руб.\n"
     ]
    }
   ],
   "source": [
    "list_total_predict_s = [total_predict_profit_region_0_s, total_predict_profit_region_1_s, total_predict_profit_region_2_s]\n",
    "\n",
    "for i, val in zip(list_number_region, list_total_predict_s):\n",
    "    print(f'Общая прогнозируемая прибыль в регионе {i} по скважинам топ-200 = {val:,.0f} руб.')"
   ]
  },
  {
   "cell_type": "markdown",
   "metadata": {},
   "source": [
    "**Посчет рисков и прибыль для каждого региона методом Bootstrap с 1000 выборок**"
   ]
  },
  {
   "cell_type": "code",
   "execution_count": 81,
   "metadata": {},
   "outputs": [
    {
     "name": "stdout",
     "output_type": "stream",
     "text": [
      "Средняя прогнозируемая прибыль методом Bootstrap в регионе_0 = 331,451,901 руб.\n",
      "95%-ый доверительный интервал для региона_0: (-171,620,602 руб., 826,593,614 руб.)\n",
      "Вероятность убытков для региона_0 = 10.3%\n"
     ]
    }
   ],
   "source": [
    "# подсчет прибыли региона_0 методом Bootstrap с использованием функции calculation_profits_selected_wells\n",
    "state = np.random.RandomState(RS)\n",
    "bootstrap_predict_profit_region_0_s = []\n",
    "\n",
    "for i in range(1000):    \n",
    "    data = data_0_s.sample(n=NVFB, replace=True, random_state=state)\n",
    "    x = calculation_profits_selected_wells(data, NVFC, TB, PTB)\n",
    "    bootstrap_predict_profit_region_0_s.append(x)                                                                             \n",
    "    \n",
    "\n",
    "bootstrap_predict_profit_region_0_s = pd.Series(bootstrap_predict_profit_region_0_s)\n",
    " \n",
    "lower = bootstrap_predict_profit_region_0_s.quantile(q=0.025)\n",
    "upper = bootstrap_predict_profit_region_0_s.quantile(q=0.975)\n",
    "\n",
    "# вывод значений: средняя прибыль, 95%-й доверительный интервал, риск убытков\n",
    "print(f'Средняя прогнозируемая прибыль методом Bootstrap в регионе_0 = {bootstrap_predict_profit_region_0_s.mean():,.0f} руб.')\n",
    "print(f'95%-ый доверительный интервал для региона_0: ({lower:,.0f} руб., {upper:,.0f} руб.)')\n",
    "print(f'Вероятность убытков для региона_0 = {(bootstrap_predict_profit_region_0_s < 0).mean():.1%}')"
   ]
  },
  {
   "cell_type": "code",
   "execution_count": 82,
   "metadata": {},
   "outputs": [
    {
     "name": "stdout",
     "output_type": "stream",
     "text": [
      "Средняя прогнозируемая прибыль методом Bootstrap в регионе_1 = 445,463,857 руб.\n",
      "95%-ый доверительный интервал для региона_1: (8,842,611 руб., 864,416,866 руб.)\n",
      "Вероятность убытков для региона_1 = 2.4%\n"
     ]
    }
   ],
   "source": [
    "# подсчет прибыли региона_1 методом Bootstrap с использованием функции calculation_profits_selected_wells\n",
    "state = np.random.RandomState(RS)\n",
    "bootstrap_predict_profit_region_1_s = []\n",
    "\n",
    "for i in range(1000):    \n",
    "    data = data_1_s.sample(n=NVFB, replace=True, random_state=state)\n",
    "    x = calculation_profits_selected_wells(data, NVFC, TB, PTB)\n",
    "    bootstrap_predict_profit_region_1_s.append(x)                                                                             \n",
    "    \n",
    "\n",
    "bootstrap_predict_profit_region_1_s = pd.Series(bootstrap_predict_profit_region_1_s)\n",
    " \n",
    "lower = bootstrap_predict_profit_region_1_s.quantile(q=0.025)\n",
    "upper = bootstrap_predict_profit_region_1_s.quantile(q=0.975)\n",
    "\n",
    "# вывод значений: средняя прибыль, 95%-й доверительный интервал, риск убытков\n",
    "print(f'Средняя прогнозируемая прибыль методом Bootstrap в регионе_1 = {bootstrap_predict_profit_region_1_s.mean():,.0f} руб.')\n",
    "print(f'95%-ый доверительный интервал для региона_1: ({lower:,.0f} руб., {upper:,.0f} руб.)')\n",
    "print(f'Вероятность убытков для региона_1 = {(bootstrap_predict_profit_region_1_s < 0).mean():.1%}')"
   ]
  },
  {
   "cell_type": "code",
   "execution_count": 83,
   "metadata": {},
   "outputs": [
    {
     "name": "stdout",
     "output_type": "stream",
     "text": [
      "Средняя прогнозируемая прибыль методом Bootstrap в регионе_2 = 369,881,028 руб.\n",
      "95%-ый доверительный интервал для региона_2: (-148,625,316 руб., 902,461,201 руб.)\n",
      "Вероятность убытков для региона_2 = 8.4%\n"
     ]
    }
   ],
   "source": [
    "# подсчет прибыли региона_2 методом Bootstrap с использованием функции calculation_profits_selected_wells\n",
    "state = np.random.RandomState(RS)\n",
    "bootstrap_predict_profit_region_2_s = []\n",
    "\n",
    "for i in range(1000):    \n",
    "    data = data_2_s.sample(n=NVFB, replace=True, random_state=state)\n",
    "    x = calculation_profits_selected_wells(data, NVFC, TB, PTB)\n",
    "    bootstrap_predict_profit_region_2_s.append(x)                                                                             \n",
    "    \n",
    "\n",
    "bootstrap_predict_profit_region_2_s = pd.Series(bootstrap_predict_profit_region_2_s)\n",
    " \n",
    "lower = bootstrap_predict_profit_region_2_s.quantile(q=0.025)\n",
    "upper = bootstrap_predict_profit_region_2_s.quantile(q=0.975)\n",
    "\n",
    "# вывод значений: средняя прибыль, 95%-й доверительный интервал, риск убытков\n",
    "print(f'Средняя прогнозируемая прибыль методом Bootstrap в регионе_2 = {bootstrap_predict_profit_region_2_s.mean():,.0f} руб.')\n",
    "print(f'95%-ый доверительный интервал для региона_2: ({lower:,.0f} руб., {upper:,.0f} руб.)')\n",
    "print(f'Вероятность убытков для региона_2 = {(bootstrap_predict_profit_region_2_s < 0).mean():.1%}')"
   ]
  },
  {
   "cell_type": "markdown",
   "metadata": {},
   "source": [
    "### Итоги, выводы  п.6\n",
    "\n",
    "расчитанны: средняя прибыль, 95%-й доверительный интервал, риск убытков методом Bootstrap для всех регионов с масштабированием признаков\n",
    "- масштабирование признаков для данных df не улучшило прогнозы модели \n",
    "- что касается прогноза риска, то масштабирование признаков ухудшидо прогнозы риска\n",
    "- это свзяанно с тем, что основной коррелирующий признак с таргетом - 'f2', при масштабировании получил больше отрицательных значений, по сравнению с распределением значений 'f2' в исходных df, это видно на графиках расспределений\n",
    "\n",
    "- в регионах 0 и 2 вероятность получить убытки больше чем 2.5%, соотвествено 10.3% и 8.4%\n",
    "- в регионе 1 вероятность получить убытки меньше чем 2.5% - 2.4%\n",
    "\n",
    "Регион_1\n",
    "\n",
    "- Средняя прогнозируемая прибыль методом Bootstrap в регионе_1 = 445,463,857 руб.\n",
    "- 95%-ый доверительный интервал для региона_1: (8,842,611 руб., 864,416,866 руб.)\n",
    "- Вероятность убытков для региона_1 = 2.4%\n"
   ]
  }
 ],
 "metadata": {
  "ExecuteTimeLog": [
   {
    "duration": 855,
    "start_time": "2023-05-09T16:14:44.604Z"
   },
   {
    "duration": 892,
    "start_time": "2023-05-09T16:14:45.745Z"
   },
   {
    "duration": 312,
    "start_time": "2023-05-09T16:15:44.042Z"
   },
   {
    "duration": 238,
    "start_time": "2023-05-09T16:16:44.834Z"
   },
   {
    "duration": 70,
    "start_time": "2023-05-09T16:20:12.014Z"
   },
   {
    "duration": 158,
    "start_time": "2023-05-09T16:20:17.947Z"
   },
   {
    "duration": 8,
    "start_time": "2023-05-09T16:20:18.435Z"
   },
   {
    "duration": 9,
    "start_time": "2023-05-09T16:20:25.802Z"
   },
   {
    "duration": 17,
    "start_time": "2023-05-09T16:20:40.989Z"
   },
   {
    "duration": 15,
    "start_time": "2023-05-09T16:21:05.619Z"
   },
   {
    "duration": 14,
    "start_time": "2023-05-09T16:21:54.370Z"
   },
   {
    "duration": 1191,
    "start_time": "2023-05-09T16:22:43.419Z"
   },
   {
    "duration": 56,
    "start_time": "2023-05-09T16:22:58.142Z"
   },
   {
    "duration": 17,
    "start_time": "2023-05-09T16:23:33.516Z"
   },
   {
    "duration": 62,
    "start_time": "2023-05-09T16:24:04.019Z"
   },
   {
    "duration": 52,
    "start_time": "2023-05-09T16:24:14.412Z"
   },
   {
    "duration": 27,
    "start_time": "2023-05-09T16:24:26.585Z"
   },
   {
    "duration": 2,
    "start_time": "2023-05-09T16:26:18.086Z"
   },
   {
    "duration": 783,
    "start_time": "2023-05-09T16:32:08.005Z"
   },
   {
    "duration": 10,
    "start_time": "2023-05-09T16:32:35.435Z"
   },
   {
    "duration": 10,
    "start_time": "2023-05-09T16:32:51.431Z"
   },
   {
    "duration": 10,
    "start_time": "2023-05-09T16:33:02.483Z"
   },
   {
    "duration": 24,
    "start_time": "2023-05-10T06:25:16.181Z"
   },
   {
    "duration": 18,
    "start_time": "2023-05-10T06:26:34.540Z"
   },
   {
    "duration": 5,
    "start_time": "2023-05-10T06:27:04.452Z"
   },
   {
    "duration": 196,
    "start_time": "2023-05-10T06:27:04.854Z"
   },
   {
    "duration": 10,
    "start_time": "2023-05-10T06:27:05.053Z"
   },
   {
    "duration": 24,
    "start_time": "2023-05-10T06:27:05.228Z"
   },
   {
    "duration": 87,
    "start_time": "2023-05-10T06:27:05.420Z"
   },
   {
    "duration": 21,
    "start_time": "2023-05-10T06:27:05.611Z"
   },
   {
    "duration": 147,
    "start_time": "2023-05-10T06:27:05.772Z"
   },
   {
    "duration": 10,
    "start_time": "2023-05-10T06:27:05.955Z"
   },
   {
    "duration": 16,
    "start_time": "2023-05-10T06:27:06.133Z"
   },
   {
    "duration": 61,
    "start_time": "2023-05-10T06:27:06.312Z"
   },
   {
    "duration": 18,
    "start_time": "2023-05-10T06:27:06.468Z"
   },
   {
    "duration": 205,
    "start_time": "2023-05-10T06:27:06.636Z"
   },
   {
    "duration": 10,
    "start_time": "2023-05-10T06:27:06.843Z"
   },
   {
    "duration": 20,
    "start_time": "2023-05-10T06:27:07.014Z"
   },
   {
    "duration": 70,
    "start_time": "2023-05-10T06:27:09.221Z"
   },
   {
    "duration": 31,
    "start_time": "2023-05-10T06:27:18.780Z"
   },
   {
    "duration": 4949,
    "start_time": "2023-05-10T07:50:46.877Z"
   },
   {
    "duration": 37,
    "start_time": "2023-05-10T07:51:33.778Z"
   },
   {
    "duration": 39,
    "start_time": "2023-05-10T07:52:33.030Z"
   },
   {
    "duration": 13,
    "start_time": "2023-05-10T07:53:08.855Z"
   },
   {
    "duration": 34,
    "start_time": "2023-05-10T07:53:21.212Z"
   },
   {
    "duration": 6,
    "start_time": "2023-05-10T07:54:56.244Z"
   },
   {
    "duration": 10,
    "start_time": "2023-05-10T07:55:00.213Z"
   },
   {
    "duration": 44,
    "start_time": "2023-05-10T07:56:23.620Z"
   },
   {
    "duration": 4,
    "start_time": "2023-05-10T07:58:00.349Z"
   },
   {
    "duration": 9,
    "start_time": "2023-05-10T07:58:10.917Z"
   },
   {
    "duration": 75,
    "start_time": "2023-05-10T07:58:28.709Z"
   },
   {
    "duration": 86,
    "start_time": "2023-05-10T07:58:38.661Z"
   },
   {
    "duration": 4,
    "start_time": "2023-05-10T07:58:45.565Z"
   },
   {
    "duration": 76,
    "start_time": "2023-05-10T07:59:20.133Z"
   },
   {
    "duration": 4,
    "start_time": "2023-05-10T07:59:38.262Z"
   },
   {
    "duration": 11488,
    "start_time": "2023-05-10T08:00:10.869Z"
   },
   {
    "duration": 2,
    "start_time": "2023-05-10T08:00:55.357Z"
   },
   {
    "duration": 9,
    "start_time": "2023-05-10T08:02:02.851Z"
   },
   {
    "duration": 4,
    "start_time": "2023-05-10T08:06:17.997Z"
   },
   {
    "duration": 11,
    "start_time": "2023-05-10T08:07:29.846Z"
   },
   {
    "duration": 4,
    "start_time": "2023-05-10T08:09:39.422Z"
   },
   {
    "duration": 5,
    "start_time": "2023-05-10T08:10:12.897Z"
   },
   {
    "duration": 5,
    "start_time": "2023-05-10T08:11:10.246Z"
   },
   {
    "duration": 9,
    "start_time": "2023-05-10T08:12:01.399Z"
   },
   {
    "duration": 3,
    "start_time": "2023-05-10T08:12:16.000Z"
   },
   {
    "duration": 8,
    "start_time": "2023-05-10T08:12:17.030Z"
   },
   {
    "duration": 9,
    "start_time": "2023-05-10T08:12:56.856Z"
   },
   {
    "duration": 12,
    "start_time": "2023-05-10T08:13:01.758Z"
   },
   {
    "duration": 10,
    "start_time": "2023-05-10T08:13:19.256Z"
   },
   {
    "duration": 120,
    "start_time": "2023-05-10T08:13:28.566Z"
   },
   {
    "duration": 3,
    "start_time": "2023-05-10T08:13:41.430Z"
   },
   {
    "duration": 12,
    "start_time": "2023-05-10T08:13:42.430Z"
   },
   {
    "duration": 2,
    "start_time": "2023-05-10T08:14:19.222Z"
   },
   {
    "duration": 10,
    "start_time": "2023-05-10T08:14:20.222Z"
   },
   {
    "duration": 9,
    "start_time": "2023-05-10T08:14:26.999Z"
   },
   {
    "duration": 9,
    "start_time": "2023-05-10T08:14:46.526Z"
   },
   {
    "duration": 9,
    "start_time": "2023-05-10T08:14:49.039Z"
   },
   {
    "duration": 3,
    "start_time": "2023-05-10T08:15:08.775Z"
   },
   {
    "duration": 10,
    "start_time": "2023-05-10T08:15:12.662Z"
   },
   {
    "duration": 9,
    "start_time": "2023-05-10T08:15:13.219Z"
   },
   {
    "duration": 4,
    "start_time": "2023-05-10T08:15:24.559Z"
   },
   {
    "duration": 13,
    "start_time": "2023-05-10T08:15:41.575Z"
   },
   {
    "duration": 10,
    "start_time": "2023-05-10T08:15:42.118Z"
   },
   {
    "duration": 9,
    "start_time": "2023-05-10T08:15:42.774Z"
   },
   {
    "duration": 1443,
    "start_time": "2023-05-10T08:16:03.467Z"
   },
   {
    "duration": 152,
    "start_time": "2023-05-10T08:16:04.911Z"
   },
   {
    "duration": 9,
    "start_time": "2023-05-10T08:16:05.064Z"
   },
   {
    "duration": 29,
    "start_time": "2023-05-10T08:16:05.075Z"
   },
   {
    "duration": 51,
    "start_time": "2023-05-10T08:16:05.105Z"
   },
   {
    "duration": 34,
    "start_time": "2023-05-10T08:16:05.158Z"
   },
   {
    "duration": 38,
    "start_time": "2023-05-10T08:16:05.195Z"
   },
   {
    "duration": 134,
    "start_time": "2023-05-10T08:16:05.234Z"
   },
   {
    "duration": 19,
    "start_time": "2023-05-10T08:16:05.370Z"
   },
   {
    "duration": 22,
    "start_time": "2023-05-10T08:16:05.392Z"
   },
   {
    "duration": 72,
    "start_time": "2023-05-10T08:16:05.417Z"
   },
   {
    "duration": 24,
    "start_time": "2023-05-10T08:16:05.492Z"
   },
   {
    "duration": 44,
    "start_time": "2023-05-10T08:16:05.518Z"
   },
   {
    "duration": 148,
    "start_time": "2023-05-10T08:16:05.564Z"
   },
   {
    "duration": 9,
    "start_time": "2023-05-10T08:16:05.713Z"
   },
   {
    "duration": 39,
    "start_time": "2023-05-10T08:16:05.723Z"
   },
   {
    "duration": 48,
    "start_time": "2023-05-10T08:16:05.764Z"
   },
   {
    "duration": 16,
    "start_time": "2023-05-10T08:16:05.814Z"
   },
   {
    "duration": 55,
    "start_time": "2023-05-10T08:16:05.832Z"
   },
   {
    "duration": 4,
    "start_time": "2023-05-10T08:16:05.888Z"
   },
   {
    "duration": 116,
    "start_time": "2023-05-10T08:16:05.893Z"
   },
   {
    "duration": 0,
    "start_time": "2023-05-10T08:16:06.010Z"
   },
   {
    "duration": 0,
    "start_time": "2023-05-10T08:16:06.011Z"
   },
   {
    "duration": 0,
    "start_time": "2023-05-10T08:16:06.012Z"
   },
   {
    "duration": 0,
    "start_time": "2023-05-10T08:16:06.014Z"
   },
   {
    "duration": 1,
    "start_time": "2023-05-10T08:16:06.014Z"
   },
   {
    "duration": 9,
    "start_time": "2023-05-10T08:16:27.830Z"
   },
   {
    "duration": 4,
    "start_time": "2023-05-10T08:16:39.222Z"
   },
   {
    "duration": 13,
    "start_time": "2023-05-10T08:16:40.010Z"
   },
   {
    "duration": 14,
    "start_time": "2023-05-10T08:18:11.622Z"
   },
   {
    "duration": 44,
    "start_time": "2023-05-10T08:18:12.684Z"
   },
   {
    "duration": 14,
    "start_time": "2023-05-10T08:18:12.803Z"
   },
   {
    "duration": 36,
    "start_time": "2023-05-10T08:18:12.960Z"
   },
   {
    "duration": 137,
    "start_time": "2023-05-10T08:18:13.151Z"
   },
   {
    "duration": 9,
    "start_time": "2023-05-10T08:18:13.358Z"
   },
   {
    "duration": 14,
    "start_time": "2023-05-10T08:18:13.527Z"
   },
   {
    "duration": 38,
    "start_time": "2023-05-10T08:18:13.705Z"
   },
   {
    "duration": 16,
    "start_time": "2023-05-10T08:18:13.907Z"
   },
   {
    "duration": 48,
    "start_time": "2023-05-10T08:18:14.095Z"
   },
   {
    "duration": 131,
    "start_time": "2023-05-10T08:18:14.326Z"
   },
   {
    "duration": 10,
    "start_time": "2023-05-10T08:18:14.606Z"
   },
   {
    "duration": 16,
    "start_time": "2023-05-10T08:18:15.061Z"
   },
   {
    "duration": 43,
    "start_time": "2023-05-10T08:18:15.350Z"
   },
   {
    "duration": 15,
    "start_time": "2023-05-10T08:18:15.975Z"
   },
   {
    "duration": 36,
    "start_time": "2023-05-10T08:18:16.446Z"
   },
   {
    "duration": 3,
    "start_time": "2023-05-10T08:18:17.438Z"
   },
   {
    "duration": 8,
    "start_time": "2023-05-10T08:18:18.015Z"
   },
   {
    "duration": 8,
    "start_time": "2023-05-10T08:18:18.679Z"
   },
   {
    "duration": 8,
    "start_time": "2023-05-10T08:18:19.201Z"
   },
   {
    "duration": 8,
    "start_time": "2023-05-10T08:18:48.870Z"
   },
   {
    "duration": 4,
    "start_time": "2023-05-10T08:21:32.574Z"
   },
   {
    "duration": 3,
    "start_time": "2023-05-10T08:22:22.727Z"
   },
   {
    "duration": 87,
    "start_time": "2023-05-10T08:26:10.232Z"
   },
   {
    "duration": 78,
    "start_time": "2023-05-10T08:26:31.192Z"
   },
   {
    "duration": 105,
    "start_time": "2023-05-10T08:27:14.993Z"
   },
   {
    "duration": 75,
    "start_time": "2023-05-10T08:27:22.863Z"
   },
   {
    "duration": 79,
    "start_time": "2023-05-10T08:27:29.711Z"
   },
   {
    "duration": 96,
    "start_time": "2023-05-10T08:27:49.983Z"
   },
   {
    "duration": 101,
    "start_time": "2023-05-10T08:29:52.633Z"
   },
   {
    "duration": 97,
    "start_time": "2023-05-10T08:30:12.656Z"
   },
   {
    "duration": 81,
    "start_time": "2023-05-10T08:30:47.744Z"
   },
   {
    "duration": 10,
    "start_time": "2023-05-10T08:31:08.154Z"
   },
   {
    "duration": 3,
    "start_time": "2023-05-10T08:31:16.680Z"
   },
   {
    "duration": 88,
    "start_time": "2023-05-10T08:32:15.224Z"
   },
   {
    "duration": 86,
    "start_time": "2023-05-10T08:32:23.407Z"
   },
   {
    "duration": 9,
    "start_time": "2023-05-10T08:32:28.128Z"
   },
   {
    "duration": 11,
    "start_time": "2023-05-10T08:32:52.409Z"
   },
   {
    "duration": 10,
    "start_time": "2023-05-10T08:36:16.944Z"
   },
   {
    "duration": 0,
    "start_time": "2023-05-10T08:36:16.956Z"
   },
   {
    "duration": 0,
    "start_time": "2023-05-10T08:36:16.956Z"
   },
   {
    "duration": 99,
    "start_time": "2023-05-10T08:37:15.113Z"
   },
   {
    "duration": 9,
    "start_time": "2023-05-10T08:37:55.665Z"
   },
   {
    "duration": 11,
    "start_time": "2023-05-10T08:38:08.641Z"
   },
   {
    "duration": 173,
    "start_time": "2023-05-10T08:38:31.465Z"
   },
   {
    "duration": 9,
    "start_time": "2023-05-10T08:38:55.369Z"
   },
   {
    "duration": 3,
    "start_time": "2023-05-10T08:39:15.965Z"
   },
   {
    "duration": 4,
    "start_time": "2023-05-10T08:39:19.360Z"
   },
   {
    "duration": 9,
    "start_time": "2023-05-10T08:39:20.168Z"
   },
   {
    "duration": 13,
    "start_time": "2023-05-10T08:39:28.821Z"
   },
   {
    "duration": 132,
    "start_time": "2023-05-10T08:40:12.250Z"
   },
   {
    "duration": 4,
    "start_time": "2023-05-10T08:40:12.832Z"
   },
   {
    "duration": 99,
    "start_time": "2023-05-10T08:40:22.585Z"
   },
   {
    "duration": 148,
    "start_time": "2023-05-10T08:40:32.424Z"
   },
   {
    "duration": 101,
    "start_time": "2023-05-10T08:40:35.689Z"
   },
   {
    "duration": 20,
    "start_time": "2023-05-10T08:43:11.274Z"
   },
   {
    "duration": 14,
    "start_time": "2023-05-10T08:43:14.905Z"
   },
   {
    "duration": 80,
    "start_time": "2023-05-10T08:44:46.307Z"
   },
   {
    "duration": 71,
    "start_time": "2023-05-10T08:46:15.217Z"
   },
   {
    "duration": 4,
    "start_time": "2023-05-10T08:46:30.122Z"
   },
   {
    "duration": 3,
    "start_time": "2023-05-10T08:46:58.386Z"
   },
   {
    "duration": 65,
    "start_time": "2023-05-10T09:23:32.404Z"
   },
   {
    "duration": 10119,
    "start_time": "2023-05-10T09:26:21.645Z"
   },
   {
    "duration": 14,
    "start_time": "2023-05-10T09:27:03.332Z"
   },
   {
    "duration": 14,
    "start_time": "2023-05-10T09:30:26.964Z"
   },
   {
    "duration": 10,
    "start_time": "2023-05-10T09:30:47.812Z"
   },
   {
    "duration": 32,
    "start_time": "2023-05-10T09:30:48.444Z"
   },
   {
    "duration": 4,
    "start_time": "2023-05-10T09:30:48.973Z"
   },
   {
    "duration": 18,
    "start_time": "2023-05-10T09:30:49.365Z"
   },
   {
    "duration": 18,
    "start_time": "2023-05-10T09:31:06.885Z"
   },
   {
    "duration": 13,
    "start_time": "2023-05-10T09:31:27.117Z"
   },
   {
    "duration": 15,
    "start_time": "2023-05-10T09:32:41.685Z"
   },
   {
    "duration": 14,
    "start_time": "2023-05-10T09:32:55.792Z"
   },
   {
    "duration": 15,
    "start_time": "2023-05-10T09:33:47.541Z"
   },
   {
    "duration": 4,
    "start_time": "2023-05-10T09:34:42.622Z"
   },
   {
    "duration": 4,
    "start_time": "2023-05-10T09:35:20.221Z"
   },
   {
    "duration": 5,
    "start_time": "2023-05-10T09:36:35.902Z"
   },
   {
    "duration": 9,
    "start_time": "2023-05-10T09:38:58.103Z"
   },
   {
    "duration": 6,
    "start_time": "2023-05-10T09:39:44.741Z"
   },
   {
    "duration": 14,
    "start_time": "2023-05-10T09:49:53.536Z"
   },
   {
    "duration": 14,
    "start_time": "2023-05-10T09:50:09.311Z"
   },
   {
    "duration": 19,
    "start_time": "2023-05-10T09:50:23.607Z"
   },
   {
    "duration": 15,
    "start_time": "2023-05-10T09:50:35.495Z"
   },
   {
    "duration": 33,
    "start_time": "2023-05-10T09:50:49.678Z"
   },
   {
    "duration": 6,
    "start_time": "2023-05-10T09:51:11.704Z"
   },
   {
    "duration": 5,
    "start_time": "2023-05-10T09:51:24.327Z"
   },
   {
    "duration": 6,
    "start_time": "2023-05-10T09:51:51.123Z"
   },
   {
    "duration": 6,
    "start_time": "2023-05-10T09:53:34.081Z"
   },
   {
    "duration": 4,
    "start_time": "2023-05-10T09:53:41.935Z"
   },
   {
    "duration": 6,
    "start_time": "2023-05-10T09:53:42.520Z"
   },
   {
    "duration": 4,
    "start_time": "2023-05-10T09:53:43.111Z"
   },
   {
    "duration": 34,
    "start_time": "2023-05-10T09:53:43.679Z"
   },
   {
    "duration": 5,
    "start_time": "2023-05-10T09:53:44.473Z"
   },
   {
    "duration": 5,
    "start_time": "2023-05-10T09:53:45.072Z"
   },
   {
    "duration": 5,
    "start_time": "2023-05-10T09:53:45.924Z"
   },
   {
    "duration": 106,
    "start_time": "2023-05-10T09:55:27.480Z"
   },
   {
    "duration": 4,
    "start_time": "2023-05-10T09:57:57.034Z"
   },
   {
    "duration": 6,
    "start_time": "2023-05-10T09:57:57.960Z"
   },
   {
    "duration": 5,
    "start_time": "2023-05-10T09:57:59.037Z"
   },
   {
    "duration": 1480,
    "start_time": "2023-05-10T09:58:41.526Z"
   },
   {
    "duration": 161,
    "start_time": "2023-05-10T09:58:43.009Z"
   },
   {
    "duration": 10,
    "start_time": "2023-05-10T09:58:43.172Z"
   },
   {
    "duration": 43,
    "start_time": "2023-05-10T09:58:43.186Z"
   },
   {
    "duration": 49,
    "start_time": "2023-05-10T09:58:43.231Z"
   },
   {
    "duration": 33,
    "start_time": "2023-05-10T09:58:43.281Z"
   },
   {
    "duration": 40,
    "start_time": "2023-05-10T09:58:43.316Z"
   },
   {
    "duration": 159,
    "start_time": "2023-05-10T09:58:43.359Z"
   },
   {
    "duration": 8,
    "start_time": "2023-05-10T09:58:43.520Z"
   },
   {
    "duration": 19,
    "start_time": "2023-05-10T09:58:43.529Z"
   },
   {
    "duration": 69,
    "start_time": "2023-05-10T09:58:43.550Z"
   },
   {
    "duration": 15,
    "start_time": "2023-05-10T09:58:43.620Z"
   },
   {
    "duration": 34,
    "start_time": "2023-05-10T09:58:43.637Z"
   },
   {
    "duration": 157,
    "start_time": "2023-05-10T09:58:43.695Z"
   },
   {
    "duration": 9,
    "start_time": "2023-05-10T09:58:43.854Z"
   },
   {
    "duration": 37,
    "start_time": "2023-05-10T09:58:43.865Z"
   },
   {
    "duration": 60,
    "start_time": "2023-05-10T09:58:43.904Z"
   },
   {
    "duration": 38,
    "start_time": "2023-05-10T09:58:43.966Z"
   },
   {
    "duration": 51,
    "start_time": "2023-05-10T09:58:44.006Z"
   },
   {
    "duration": 13,
    "start_time": "2023-05-10T09:58:44.059Z"
   },
   {
    "duration": 27,
    "start_time": "2023-05-10T09:58:44.074Z"
   },
   {
    "duration": 50,
    "start_time": "2023-05-10T09:58:44.104Z"
   },
   {
    "duration": 5,
    "start_time": "2023-05-10T09:58:44.157Z"
   },
   {
    "duration": 60,
    "start_time": "2023-05-10T09:58:44.163Z"
   },
   {
    "duration": 60,
    "start_time": "2023-05-10T09:58:44.228Z"
   },
   {
    "duration": 12,
    "start_time": "2023-05-10T09:58:44.290Z"
   },
   {
    "duration": 11,
    "start_time": "2023-05-10T09:58:44.306Z"
   },
   {
    "duration": 166,
    "start_time": "2023-05-10T09:58:44.320Z"
   },
   {
    "duration": 17,
    "start_time": "2023-05-10T09:58:44.496Z"
   },
   {
    "duration": 6,
    "start_time": "2023-05-10T09:58:44.596Z"
   },
   {
    "duration": 6,
    "start_time": "2023-05-10T09:58:44.604Z"
   },
   {
    "duration": 25,
    "start_time": "2023-05-10T09:58:44.611Z"
   },
   {
    "duration": 51,
    "start_time": "2023-05-10T09:58:44.638Z"
   },
   {
    "duration": 14,
    "start_time": "2023-05-10T09:58:44.691Z"
   },
   {
    "duration": 78,
    "start_time": "2023-05-10T09:58:44.710Z"
   },
   {
    "duration": 6,
    "start_time": "2023-05-10T10:39:19.510Z"
   },
   {
    "duration": 3,
    "start_time": "2023-05-10T10:40:23.860Z"
   },
   {
    "duration": 100,
    "start_time": "2023-05-10T10:40:43.876Z"
   },
   {
    "duration": 4,
    "start_time": "2023-05-10T10:40:50.843Z"
   },
   {
    "duration": 3,
    "start_time": "2023-05-10T10:41:19.222Z"
   },
   {
    "duration": 4,
    "start_time": "2023-05-10T10:42:11.044Z"
   },
   {
    "duration": 4,
    "start_time": "2023-05-10T10:43:15.513Z"
   },
   {
    "duration": 4,
    "start_time": "2023-05-10T10:43:46.148Z"
   },
   {
    "duration": 5,
    "start_time": "2023-05-10T10:45:53.845Z"
   },
   {
    "duration": 196,
    "start_time": "2023-05-10T10:55:27.870Z"
   },
   {
    "duration": 4,
    "start_time": "2023-05-10T10:57:30.237Z"
   },
   {
    "duration": 4,
    "start_time": "2023-05-10T10:57:30.862Z"
   },
   {
    "duration": 5,
    "start_time": "2023-05-10T10:57:31.486Z"
   },
   {
    "duration": 12,
    "start_time": "2023-05-10T10:58:08.225Z"
   },
   {
    "duration": 5,
    "start_time": "2023-05-10T10:58:28.657Z"
   },
   {
    "duration": 112,
    "start_time": "2023-05-10T10:58:54.343Z"
   },
   {
    "duration": 5,
    "start_time": "2023-05-10T10:59:00.019Z"
   },
   {
    "duration": 4,
    "start_time": "2023-05-10T10:59:23.557Z"
   },
   {
    "duration": 7,
    "start_time": "2023-05-10T10:59:24.081Z"
   },
   {
    "duration": 3,
    "start_time": "2023-05-10T10:59:24.566Z"
   },
   {
    "duration": 13,
    "start_time": "2023-05-10T10:59:41.758Z"
   },
   {
    "duration": 4,
    "start_time": "2023-05-10T10:59:53.622Z"
   },
   {
    "duration": 5,
    "start_time": "2023-05-10T11:00:02.505Z"
   },
   {
    "duration": 11,
    "start_time": "2023-05-10T11:00:03.182Z"
   },
   {
    "duration": 5,
    "start_time": "2023-05-10T11:02:46.222Z"
   },
   {
    "duration": 8,
    "start_time": "2023-05-10T11:04:19.610Z"
   },
   {
    "duration": 5,
    "start_time": "2023-05-10T11:04:27.422Z"
   },
   {
    "duration": 5,
    "start_time": "2023-05-10T11:04:41.255Z"
   },
   {
    "duration": 13,
    "start_time": "2023-05-10T11:28:49.985Z"
   },
   {
    "duration": 7,
    "start_time": "2023-05-10T11:29:12.073Z"
   },
   {
    "duration": 20,
    "start_time": "2023-05-10T11:29:27.648Z"
   },
   {
    "duration": 12,
    "start_time": "2023-05-10T11:29:58.920Z"
   },
   {
    "duration": 29,
    "start_time": "2023-05-10T11:31:12.279Z"
   },
   {
    "duration": 3,
    "start_time": "2023-05-10T11:31:26.473Z"
   },
   {
    "duration": 9,
    "start_time": "2023-05-10T11:31:53.249Z"
   },
   {
    "duration": 14,
    "start_time": "2023-05-10T11:32:16.680Z"
   },
   {
    "duration": 7,
    "start_time": "2023-05-10T11:32:22.805Z"
   },
   {
    "duration": 10,
    "start_time": "2023-05-10T11:32:39.908Z"
   },
   {
    "duration": 21,
    "start_time": "2023-05-10T11:32:56.448Z"
   },
   {
    "duration": 15,
    "start_time": "2023-05-10T11:40:03.418Z"
   },
   {
    "duration": 14,
    "start_time": "2023-05-10T11:40:30.841Z"
   },
   {
    "duration": 1512,
    "start_time": "2023-05-10T11:40:59.319Z"
   },
   {
    "duration": 204,
    "start_time": "2023-05-10T11:41:00.834Z"
   },
   {
    "duration": 21,
    "start_time": "2023-05-10T11:41:01.040Z"
   },
   {
    "duration": 98,
    "start_time": "2023-05-10T11:41:01.064Z"
   },
   {
    "duration": 29,
    "start_time": "2023-05-10T11:41:01.164Z"
   },
   {
    "duration": 56,
    "start_time": "2023-05-10T11:41:01.201Z"
   },
   {
    "duration": 165,
    "start_time": "2023-05-10T11:41:01.260Z"
   },
   {
    "duration": 15,
    "start_time": "2023-05-10T11:41:01.427Z"
   },
   {
    "duration": 112,
    "start_time": "2023-05-10T11:41:01.444Z"
   },
   {
    "duration": 22,
    "start_time": "2023-05-10T11:41:01.561Z"
   },
   {
    "duration": 54,
    "start_time": "2023-05-10T11:41:01.585Z"
   },
   {
    "duration": 281,
    "start_time": "2023-05-10T11:41:01.640Z"
   },
   {
    "duration": 20,
    "start_time": "2023-05-10T11:41:01.923Z"
   },
   {
    "duration": 94,
    "start_time": "2023-05-10T11:41:01.945Z"
   },
   {
    "duration": 18,
    "start_time": "2023-05-10T11:41:02.041Z"
   },
   {
    "duration": 62,
    "start_time": "2023-05-10T11:41:02.061Z"
   },
   {
    "duration": 11,
    "start_time": "2023-05-10T11:41:02.125Z"
   },
   {
    "duration": 61,
    "start_time": "2023-05-10T11:41:02.138Z"
   },
   {
    "duration": 65,
    "start_time": "2023-05-10T11:41:02.202Z"
   },
   {
    "duration": 5,
    "start_time": "2023-05-10T11:41:02.269Z"
   },
   {
    "duration": 52,
    "start_time": "2023-05-10T11:41:02.275Z"
   },
   {
    "duration": 70,
    "start_time": "2023-05-10T11:41:02.329Z"
   },
   {
    "duration": 95,
    "start_time": "2023-05-10T11:41:02.401Z"
   },
   {
    "duration": 58,
    "start_time": "2023-05-10T11:41:02.499Z"
   },
   {
    "duration": 68,
    "start_time": "2023-05-10T11:41:02.558Z"
   },
   {
    "duration": 61,
    "start_time": "2023-05-10T11:41:02.630Z"
   },
   {
    "duration": 31,
    "start_time": "2023-05-10T11:41:02.693Z"
   },
   {
    "duration": 14,
    "start_time": "2023-05-10T11:41:02.788Z"
   },
   {
    "duration": 35,
    "start_time": "2023-05-10T11:41:02.804Z"
   },
   {
    "duration": 97,
    "start_time": "2023-05-10T11:41:02.889Z"
   },
   {
    "duration": 21,
    "start_time": "2023-05-10T11:41:02.990Z"
   },
   {
    "duration": 10,
    "start_time": "2023-05-10T11:41:03.014Z"
   },
   {
    "duration": 12,
    "start_time": "2023-05-10T11:41:03.026Z"
   },
   {
    "duration": 19,
    "start_time": "2023-05-10T11:41:03.041Z"
   },
   {
    "duration": 14,
    "start_time": "2023-05-10T11:41:03.061Z"
   },
   {
    "duration": 20,
    "start_time": "2023-05-10T11:41:03.078Z"
   },
   {
    "duration": 10,
    "start_time": "2023-05-10T11:41:03.100Z"
   },
   {
    "duration": 15,
    "start_time": "2023-05-10T11:41:03.112Z"
   },
   {
    "duration": 11,
    "start_time": "2023-05-10T11:41:55.178Z"
   },
   {
    "duration": 11,
    "start_time": "2023-05-10T11:43:14.633Z"
   },
   {
    "duration": 11,
    "start_time": "2023-05-10T11:43:35.554Z"
   },
   {
    "duration": 11,
    "start_time": "2023-05-10T11:43:58.570Z"
   },
   {
    "duration": 9,
    "start_time": "2023-05-10T11:44:18.546Z"
   },
   {
    "duration": 6,
    "start_time": "2023-05-10T11:44:20.226Z"
   },
   {
    "duration": 5,
    "start_time": "2023-05-10T11:44:39.785Z"
   },
   {
    "duration": 12,
    "start_time": "2023-05-10T11:45:00.587Z"
   },
   {
    "duration": 5,
    "start_time": "2023-05-10T11:45:01.377Z"
   },
   {
    "duration": 11,
    "start_time": "2023-05-10T11:47:26.691Z"
   },
   {
    "duration": 6,
    "start_time": "2023-05-10T11:47:27.502Z"
   },
   {
    "duration": 10,
    "start_time": "2023-05-10T11:48:21.339Z"
   },
   {
    "duration": 12,
    "start_time": "2023-05-10T11:50:02.619Z"
   },
   {
    "duration": 13,
    "start_time": "2023-05-10T11:50:18.736Z"
   },
   {
    "duration": 5,
    "start_time": "2023-05-10T11:50:37.753Z"
   },
   {
    "duration": 5,
    "start_time": "2023-05-10T11:50:53.030Z"
   },
   {
    "duration": 8,
    "start_time": "2023-05-10T11:56:48.333Z"
   },
   {
    "duration": 180,
    "start_time": "2023-05-10T11:57:25.912Z"
   },
   {
    "duration": 11,
    "start_time": "2023-05-10T11:57:43.014Z"
   },
   {
    "duration": 8,
    "start_time": "2023-05-10T11:58:09.380Z"
   },
   {
    "duration": 27,
    "start_time": "2023-05-10T11:58:10.938Z"
   },
   {
    "duration": 4,
    "start_time": "2023-05-10T11:58:15.821Z"
   },
   {
    "duration": 16,
    "start_time": "2023-05-10T11:58:17.695Z"
   },
   {
    "duration": 11,
    "start_time": "2023-05-10T11:59:51.348Z"
   },
   {
    "duration": 91,
    "start_time": "2023-05-10T12:01:02.191Z"
   },
   {
    "duration": 15,
    "start_time": "2023-05-10T12:01:08.603Z"
   },
   {
    "duration": 11,
    "start_time": "2023-05-10T12:01:36.332Z"
   },
   {
    "duration": 10,
    "start_time": "2023-05-10T12:03:47.419Z"
   },
   {
    "duration": 11,
    "start_time": "2023-05-10T12:05:14.559Z"
   },
   {
    "duration": 9,
    "start_time": "2023-05-10T12:06:29.857Z"
   },
   {
    "duration": 10,
    "start_time": "2023-05-10T12:06:43.227Z"
   },
   {
    "duration": 8,
    "start_time": "2023-05-10T12:08:53.756Z"
   },
   {
    "duration": 9,
    "start_time": "2023-05-10T12:09:13.273Z"
   },
   {
    "duration": 112,
    "start_time": "2023-05-10T12:11:04.236Z"
   },
   {
    "duration": 92,
    "start_time": "2023-05-10T12:11:12.836Z"
   },
   {
    "duration": 9,
    "start_time": "2023-05-10T12:11:21.436Z"
   },
   {
    "duration": 13,
    "start_time": "2023-05-10T12:11:31.084Z"
   },
   {
    "duration": 10,
    "start_time": "2023-05-10T12:11:38.287Z"
   },
   {
    "duration": 10,
    "start_time": "2023-05-10T12:13:00.201Z"
   },
   {
    "duration": 12,
    "start_time": "2023-05-10T12:13:07.103Z"
   },
   {
    "duration": 9,
    "start_time": "2023-05-10T12:13:14.531Z"
   },
   {
    "duration": 10,
    "start_time": "2023-05-10T12:16:32.157Z"
   },
   {
    "duration": 10,
    "start_time": "2023-05-10T12:16:52.022Z"
   },
   {
    "duration": 5,
    "start_time": "2023-05-10T12:17:10.142Z"
   },
   {
    "duration": 20,
    "start_time": "2023-05-10T12:19:00.018Z"
   },
   {
    "duration": 17,
    "start_time": "2023-05-10T12:19:41.384Z"
   },
   {
    "duration": 20,
    "start_time": "2023-05-10T12:23:14.505Z"
   },
   {
    "duration": 1639,
    "start_time": "2023-05-10T12:24:40.609Z"
   },
   {
    "duration": 188,
    "start_time": "2023-05-10T12:24:42.250Z"
   },
   {
    "duration": 21,
    "start_time": "2023-05-10T12:24:42.441Z"
   },
   {
    "duration": 95,
    "start_time": "2023-05-10T12:24:42.464Z"
   },
   {
    "duration": 35,
    "start_time": "2023-05-10T12:24:42.562Z"
   },
   {
    "duration": 57,
    "start_time": "2023-05-10T12:24:42.599Z"
   },
   {
    "duration": 204,
    "start_time": "2023-05-10T12:24:42.658Z"
   },
   {
    "duration": 30,
    "start_time": "2023-05-10T12:24:42.864Z"
   },
   {
    "duration": 77,
    "start_time": "2023-05-10T12:24:42.896Z"
   },
   {
    "duration": 28,
    "start_time": "2023-05-10T12:24:42.975Z"
   },
   {
    "duration": 49,
    "start_time": "2023-05-10T12:24:43.005Z"
   },
   {
    "duration": 185,
    "start_time": "2023-05-10T12:24:43.056Z"
   },
   {
    "duration": 23,
    "start_time": "2023-05-10T12:24:43.243Z"
   },
   {
    "duration": 94,
    "start_time": "2023-05-10T12:24:43.270Z"
   },
   {
    "duration": 33,
    "start_time": "2023-05-10T12:24:43.366Z"
   },
   {
    "duration": 49,
    "start_time": "2023-05-10T12:24:43.401Z"
   },
   {
    "duration": 14,
    "start_time": "2023-05-10T12:24:43.452Z"
   },
   {
    "duration": 13,
    "start_time": "2023-05-10T12:24:43.468Z"
   },
   {
    "duration": 55,
    "start_time": "2023-05-10T12:24:43.483Z"
   },
   {
    "duration": 5,
    "start_time": "2023-05-10T12:24:43.541Z"
   },
   {
    "duration": 50,
    "start_time": "2023-05-10T12:24:43.549Z"
   },
   {
    "duration": 8,
    "start_time": "2023-05-10T12:24:43.600Z"
   },
   {
    "duration": 6,
    "start_time": "2023-05-10T12:24:43.609Z"
   },
   {
    "duration": 73,
    "start_time": "2023-05-10T12:24:43.618Z"
   },
   {
    "duration": 41,
    "start_time": "2023-05-10T12:24:43.693Z"
   },
   {
    "duration": 75,
    "start_time": "2023-05-10T12:24:43.736Z"
   },
   {
    "duration": 7,
    "start_time": "2023-05-10T12:24:43.813Z"
   },
   {
    "duration": 71,
    "start_time": "2023-05-10T12:24:43.822Z"
   },
   {
    "duration": 39,
    "start_time": "2023-05-10T12:24:43.898Z"
   },
   {
    "duration": 63,
    "start_time": "2023-05-10T12:24:43.939Z"
   },
   {
    "duration": 13,
    "start_time": "2023-05-10T12:24:44.004Z"
   },
   {
    "duration": 67,
    "start_time": "2023-05-10T12:24:44.021Z"
   },
   {
    "duration": 4,
    "start_time": "2023-05-10T12:24:44.091Z"
   },
   {
    "duration": 5,
    "start_time": "2023-05-10T12:24:44.115Z"
   },
   {
    "duration": 15,
    "start_time": "2023-05-10T12:24:44.122Z"
   },
   {
    "duration": 12,
    "start_time": "2023-05-10T12:24:44.143Z"
   },
   {
    "duration": 8,
    "start_time": "2023-05-10T12:24:44.157Z"
   },
   {
    "duration": 28,
    "start_time": "2023-05-10T12:24:44.167Z"
   },
   {
    "duration": 20,
    "start_time": "2023-05-10T12:24:44.199Z"
   },
   {
    "duration": 3,
    "start_time": "2023-05-10T13:31:47.642Z"
   },
   {
    "duration": 85,
    "start_time": "2023-05-10T13:32:18.035Z"
   },
   {
    "duration": 3,
    "start_time": "2023-05-10T13:32:45.515Z"
   },
   {
    "duration": 128,
    "start_time": "2023-05-10T13:35:43.684Z"
   },
   {
    "duration": 13,
    "start_time": "2023-05-10T13:42:52.971Z"
   },
   {
    "duration": 10,
    "start_time": "2023-05-10T13:44:37.604Z"
   },
   {
    "duration": 1541,
    "start_time": "2023-05-10T13:46:24.941Z"
   },
   {
    "duration": 597,
    "start_time": "2023-05-10T13:46:26.484Z"
   },
   {
    "duration": 17,
    "start_time": "2023-05-10T13:46:27.082Z"
   },
   {
    "duration": 52,
    "start_time": "2023-05-10T13:46:27.101Z"
   },
   {
    "duration": 36,
    "start_time": "2023-05-10T13:46:27.155Z"
   },
   {
    "duration": 40,
    "start_time": "2023-05-10T13:46:27.193Z"
   },
   {
    "duration": 215,
    "start_time": "2023-05-10T13:46:27.234Z"
   },
   {
    "duration": 16,
    "start_time": "2023-05-10T13:46:27.450Z"
   },
   {
    "duration": 48,
    "start_time": "2023-05-10T13:46:27.468Z"
   },
   {
    "duration": 15,
    "start_time": "2023-05-10T13:46:27.519Z"
   },
   {
    "duration": 65,
    "start_time": "2023-05-10T13:46:27.536Z"
   },
   {
    "duration": 224,
    "start_time": "2023-05-10T13:46:27.603Z"
   },
   {
    "duration": 14,
    "start_time": "2023-05-10T13:46:27.829Z"
   },
   {
    "duration": 46,
    "start_time": "2023-05-10T13:46:27.845Z"
   },
   {
    "duration": 17,
    "start_time": "2023-05-10T13:46:27.892Z"
   },
   {
    "duration": 37,
    "start_time": "2023-05-10T13:46:27.910Z"
   },
   {
    "duration": 9,
    "start_time": "2023-05-10T13:46:27.948Z"
   },
   {
    "duration": 10,
    "start_time": "2023-05-10T13:46:27.959Z"
   },
   {
    "duration": 46,
    "start_time": "2023-05-10T13:46:27.971Z"
   },
   {
    "duration": 4,
    "start_time": "2023-05-10T13:46:28.019Z"
   },
   {
    "duration": 68,
    "start_time": "2023-05-10T13:46:28.025Z"
   },
   {
    "duration": 92,
    "start_time": "2023-05-10T13:46:28.095Z"
   },
   {
    "duration": 10,
    "start_time": "2023-05-10T13:46:28.188Z"
   },
   {
    "duration": 101,
    "start_time": "2023-05-10T13:46:28.200Z"
   },
   {
    "duration": 5,
    "start_time": "2023-05-10T13:46:28.385Z"
   },
   {
    "duration": 8,
    "start_time": "2023-05-10T13:46:28.392Z"
   },
   {
    "duration": 183,
    "start_time": "2023-05-10T13:46:28.402Z"
   },
   {
    "duration": 4,
    "start_time": "2023-05-10T13:46:28.589Z"
   },
   {
    "duration": 6,
    "start_time": "2023-05-10T13:46:28.595Z"
   },
   {
    "duration": 9,
    "start_time": "2023-05-10T13:46:28.603Z"
   },
   {
    "duration": 6,
    "start_time": "2023-05-10T13:46:28.613Z"
   },
   {
    "duration": 7,
    "start_time": "2023-05-10T13:46:28.621Z"
   },
   {
    "duration": 6,
    "start_time": "2023-05-10T13:46:28.629Z"
   },
   {
    "duration": 50,
    "start_time": "2023-05-10T13:46:28.636Z"
   },
   {
    "duration": 15,
    "start_time": "2023-05-10T13:46:28.688Z"
   },
   {
    "duration": 13,
    "start_time": "2023-05-10T13:46:28.705Z"
   },
   {
    "duration": 2,
    "start_time": "2023-05-10T13:46:28.720Z"
   },
   {
    "duration": 484,
    "start_time": "2023-05-10T13:46:28.723Z"
   },
   {
    "duration": 485,
    "start_time": "2023-05-10T13:50:59.125Z"
   },
   {
    "duration": 2416,
    "start_time": "2023-05-10T13:54:00.565Z"
   },
   {
    "duration": 554,
    "start_time": "2023-05-10T13:58:59.614Z"
   },
   {
    "duration": 514,
    "start_time": "2023-05-10T13:59:34.284Z"
   },
   {
    "duration": 469,
    "start_time": "2023-05-10T14:08:59.910Z"
   },
   {
    "duration": 91,
    "start_time": "2023-05-10T14:09:20.503Z"
   },
   {
    "duration": 417,
    "start_time": "2023-05-10T14:09:53.406Z"
   },
   {
    "duration": 428,
    "start_time": "2023-05-10T14:11:39.470Z"
   },
   {
    "duration": 552,
    "start_time": "2023-05-10T14:13:13.766Z"
   },
   {
    "duration": 168,
    "start_time": "2023-05-10T14:15:54.246Z"
   },
   {
    "duration": 4,
    "start_time": "2023-05-10T14:16:14.599Z"
   },
   {
    "duration": 7,
    "start_time": "2023-05-10T14:16:48.126Z"
   },
   {
    "duration": 6,
    "start_time": "2023-05-10T14:17:30.327Z"
   },
   {
    "duration": 7,
    "start_time": "2023-05-10T14:17:41.238Z"
   },
   {
    "duration": 6,
    "start_time": "2023-05-10T14:17:47.878Z"
   },
   {
    "duration": 7,
    "start_time": "2023-05-10T14:17:59.599Z"
   },
   {
    "duration": 6,
    "start_time": "2023-05-10T14:19:22.448Z"
   },
   {
    "duration": 5,
    "start_time": "2023-05-10T14:19:30.070Z"
   },
   {
    "duration": 5,
    "start_time": "2023-05-10T14:19:44.272Z"
   },
   {
    "duration": 5,
    "start_time": "2023-05-10T14:31:21.337Z"
   },
   {
    "duration": 199,
    "start_time": "2023-05-10T14:32:05.880Z"
   },
   {
    "duration": 7,
    "start_time": "2023-05-10T14:32:23.759Z"
   },
   {
    "duration": 6,
    "start_time": "2023-05-10T14:32:32.471Z"
   },
   {
    "duration": 12,
    "start_time": "2023-05-10T14:32:51.008Z"
   },
   {
    "duration": 151,
    "start_time": "2023-05-10T14:36:52.114Z"
   },
   {
    "duration": 14,
    "start_time": "2023-05-10T14:41:51.825Z"
   },
   {
    "duration": 4,
    "start_time": "2023-05-10T14:42:05.857Z"
   },
   {
    "duration": 11,
    "start_time": "2023-05-10T14:42:06.620Z"
   },
   {
    "duration": 12,
    "start_time": "2023-05-10T14:42:12.249Z"
   },
   {
    "duration": 92,
    "start_time": "2023-05-10T14:47:46.626Z"
   },
   {
    "duration": 101,
    "start_time": "2023-05-10T14:47:56.658Z"
   },
   {
    "duration": 588,
    "start_time": "2023-05-10T14:48:15.562Z"
   },
   {
    "duration": 567,
    "start_time": "2023-05-10T14:48:35.138Z"
   },
   {
    "duration": 509,
    "start_time": "2023-05-10T14:50:04.918Z"
   },
   {
    "duration": 500,
    "start_time": "2023-05-10T14:51:32.474Z"
   },
   {
    "duration": 630,
    "start_time": "2023-05-10T14:52:04.025Z"
   },
   {
    "duration": 483,
    "start_time": "2023-05-10T14:52:20.723Z"
   },
   {
    "duration": 507,
    "start_time": "2023-05-10T14:53:50.323Z"
   },
   {
    "duration": 555,
    "start_time": "2023-05-10T14:54:03.257Z"
   },
   {
    "duration": 527,
    "start_time": "2023-05-10T14:54:25.050Z"
   },
   {
    "duration": 623,
    "start_time": "2023-05-10T14:54:39.236Z"
   },
   {
    "duration": 532,
    "start_time": "2023-05-10T14:55:02.229Z"
   },
   {
    "duration": 752,
    "start_time": "2023-05-10T14:55:13.729Z"
   },
   {
    "duration": 556,
    "start_time": "2023-05-10T14:55:32.682Z"
   },
   {
    "duration": 547,
    "start_time": "2023-05-10T14:55:38.466Z"
   },
   {
    "duration": 559,
    "start_time": "2023-05-10T14:55:56.473Z"
   },
   {
    "duration": 507,
    "start_time": "2023-05-10T14:56:10.034Z"
   },
   {
    "duration": 569,
    "start_time": "2023-05-10T14:56:17.450Z"
   },
   {
    "duration": 521,
    "start_time": "2023-05-10T14:56:43.013Z"
   },
   {
    "duration": 492,
    "start_time": "2023-05-10T14:57:25.309Z"
   },
   {
    "duration": 89,
    "start_time": "2023-05-10T14:59:57.610Z"
   },
   {
    "duration": 442,
    "start_time": "2023-05-10T15:00:13.218Z"
   },
   {
    "duration": 445,
    "start_time": "2023-05-10T15:00:25.300Z"
   },
   {
    "duration": 454,
    "start_time": "2023-05-10T15:00:31.458Z"
   },
   {
    "duration": 473,
    "start_time": "2023-05-10T15:00:39.978Z"
   },
   {
    "duration": 432,
    "start_time": "2023-05-10T15:00:44.626Z"
   },
   {
    "duration": 447,
    "start_time": "2023-05-10T15:01:01.354Z"
   },
   {
    "duration": 462,
    "start_time": "2023-05-10T15:01:08.406Z"
   },
   {
    "duration": 458,
    "start_time": "2023-05-10T15:01:49.108Z"
   },
   {
    "duration": 440,
    "start_time": "2023-05-10T15:02:39.068Z"
   },
   {
    "duration": 445,
    "start_time": "2023-05-10T15:04:01.538Z"
   },
   {
    "duration": 435,
    "start_time": "2023-05-10T15:05:10.899Z"
   },
   {
    "duration": 6,
    "start_time": "2023-05-10T15:05:35.474Z"
   },
   {
    "duration": 461,
    "start_time": "2023-05-10T15:05:50.082Z"
   },
   {
    "duration": 457,
    "start_time": "2023-05-10T15:06:35.163Z"
   },
   {
    "duration": 4,
    "start_time": "2023-05-10T15:19:32.108Z"
   },
   {
    "duration": 1431,
    "start_time": "2023-05-10T15:19:54.053Z"
   },
   {
    "duration": 150,
    "start_time": "2023-05-10T15:19:55.486Z"
   },
   {
    "duration": 17,
    "start_time": "2023-05-10T15:19:55.639Z"
   },
   {
    "duration": 60,
    "start_time": "2023-05-10T15:19:55.659Z"
   },
   {
    "duration": 17,
    "start_time": "2023-05-10T15:19:55.720Z"
   },
   {
    "duration": 58,
    "start_time": "2023-05-10T15:19:55.739Z"
   },
   {
    "duration": 128,
    "start_time": "2023-05-10T15:19:55.799Z"
   },
   {
    "duration": 16,
    "start_time": "2023-05-10T15:19:55.931Z"
   },
   {
    "duration": 74,
    "start_time": "2023-05-10T15:19:55.950Z"
   },
   {
    "duration": 15,
    "start_time": "2023-05-10T15:19:56.027Z"
   },
   {
    "duration": 58,
    "start_time": "2023-05-10T15:19:56.044Z"
   },
   {
    "duration": 130,
    "start_time": "2023-05-10T15:19:56.104Z"
   },
   {
    "duration": 19,
    "start_time": "2023-05-10T15:19:56.235Z"
   },
   {
    "duration": 76,
    "start_time": "2023-05-10T15:19:56.256Z"
   },
   {
    "duration": 16,
    "start_time": "2023-05-10T15:19:56.334Z"
   },
   {
    "duration": 58,
    "start_time": "2023-05-10T15:19:56.351Z"
   },
   {
    "duration": 9,
    "start_time": "2023-05-10T15:19:56.411Z"
   },
   {
    "duration": 43,
    "start_time": "2023-05-10T15:19:56.422Z"
   },
   {
    "duration": 47,
    "start_time": "2023-05-10T15:19:56.467Z"
   },
   {
    "duration": 4,
    "start_time": "2023-05-10T15:19:56.516Z"
   },
   {
    "duration": 67,
    "start_time": "2023-05-10T15:19:56.521Z"
   },
   {
    "duration": 94,
    "start_time": "2023-05-10T15:19:56.591Z"
   },
   {
    "duration": 6,
    "start_time": "2023-05-10T15:19:56.687Z"
   },
   {
    "duration": 100,
    "start_time": "2023-05-10T15:19:56.694Z"
   },
   {
    "duration": 5,
    "start_time": "2023-05-10T15:19:56.884Z"
   },
   {
    "duration": 27,
    "start_time": "2023-05-10T15:19:56.891Z"
   },
   {
    "duration": 68,
    "start_time": "2023-05-10T15:19:56.919Z"
   },
   {
    "duration": 91,
    "start_time": "2023-05-10T15:19:56.995Z"
   },
   {
    "duration": 5,
    "start_time": "2023-05-10T15:19:57.088Z"
   },
   {
    "duration": 7,
    "start_time": "2023-05-10T15:19:57.095Z"
   },
   {
    "duration": 14,
    "start_time": "2023-05-10T15:19:57.104Z"
   },
   {
    "duration": 23,
    "start_time": "2023-05-10T15:19:57.121Z"
   },
   {
    "duration": 23,
    "start_time": "2023-05-10T15:19:57.145Z"
   },
   {
    "duration": 4,
    "start_time": "2023-05-10T15:19:57.170Z"
   },
   {
    "duration": 18,
    "start_time": "2023-05-10T15:19:57.184Z"
   },
   {
    "duration": 15,
    "start_time": "2023-05-10T15:19:57.204Z"
   },
   {
    "duration": 487,
    "start_time": "2023-05-10T15:19:57.221Z"
   },
   {
    "duration": 447,
    "start_time": "2023-05-10T15:19:57.710Z"
   },
   {
    "duration": 459,
    "start_time": "2023-05-10T15:19:58.159Z"
   },
   {
    "duration": 2147,
    "start_time": "2023-05-10T23:33:04.064Z"
   },
   {
    "duration": 614,
    "start_time": "2023-05-10T23:33:06.213Z"
   },
   {
    "duration": 16,
    "start_time": "2023-05-10T23:33:06.828Z"
   },
   {
    "duration": 55,
    "start_time": "2023-05-10T23:33:06.846Z"
   },
   {
    "duration": 19,
    "start_time": "2023-05-10T23:33:06.905Z"
   },
   {
    "duration": 37,
    "start_time": "2023-05-10T23:33:06.926Z"
   },
   {
    "duration": 261,
    "start_time": "2023-05-10T23:33:06.965Z"
   },
   {
    "duration": 14,
    "start_time": "2023-05-10T23:33:07.227Z"
   },
   {
    "duration": 40,
    "start_time": "2023-05-10T23:33:07.242Z"
   },
   {
    "duration": 30,
    "start_time": "2023-05-10T23:33:07.285Z"
   },
   {
    "duration": 36,
    "start_time": "2023-05-10T23:33:07.319Z"
   },
   {
    "duration": 269,
    "start_time": "2023-05-10T23:33:07.357Z"
   },
   {
    "duration": 14,
    "start_time": "2023-05-10T23:33:07.627Z"
   },
   {
    "duration": 58,
    "start_time": "2023-05-10T23:33:07.643Z"
   },
   {
    "duration": 19,
    "start_time": "2023-05-10T23:33:07.708Z"
   },
   {
    "duration": 34,
    "start_time": "2023-05-10T23:33:07.729Z"
   },
   {
    "duration": 9,
    "start_time": "2023-05-10T23:33:07.764Z"
   },
   {
    "duration": 21,
    "start_time": "2023-05-10T23:33:07.774Z"
   },
   {
    "duration": 39,
    "start_time": "2023-05-10T23:33:07.800Z"
   },
   {
    "duration": 4,
    "start_time": "2023-05-10T23:33:07.840Z"
   },
   {
    "duration": 57,
    "start_time": "2023-05-10T23:33:07.846Z"
   },
   {
    "duration": 6,
    "start_time": "2023-05-10T23:33:07.905Z"
   },
   {
    "duration": 14,
    "start_time": "2023-05-10T23:33:07.913Z"
   },
   {
    "duration": 36,
    "start_time": "2023-05-10T23:33:07.989Z"
   },
   {
    "duration": 66,
    "start_time": "2023-05-10T23:33:08.027Z"
   },
   {
    "duration": 7,
    "start_time": "2023-05-10T23:33:08.094Z"
   },
   {
    "duration": 100,
    "start_time": "2023-05-10T23:33:08.104Z"
   },
   {
    "duration": 83,
    "start_time": "2023-05-10T23:33:08.215Z"
   },
   {
    "duration": 85,
    "start_time": "2023-05-10T23:33:08.303Z"
   },
   {
    "duration": 9,
    "start_time": "2023-05-10T23:33:08.390Z"
   },
   {
    "duration": 15,
    "start_time": "2023-05-10T23:33:08.402Z"
   },
   {
    "duration": 6,
    "start_time": "2023-05-10T23:33:08.425Z"
   },
   {
    "duration": 5,
    "start_time": "2023-05-10T23:33:08.434Z"
   },
   {
    "duration": 6,
    "start_time": "2023-05-10T23:33:08.440Z"
   },
   {
    "duration": 21,
    "start_time": "2023-05-10T23:33:08.448Z"
   },
   {
    "duration": 30,
    "start_time": "2023-05-10T23:33:08.471Z"
   },
   {
    "duration": 447,
    "start_time": "2023-05-10T23:33:08.510Z"
   },
   {
    "duration": 424,
    "start_time": "2023-05-10T23:33:08.959Z"
   },
   {
    "duration": 435,
    "start_time": "2023-05-10T23:33:09.388Z"
   },
   {
    "duration": 54,
    "start_time": "2023-05-11T16:09:06.997Z"
   },
   {
    "duration": 8,
    "start_time": "2023-05-11T16:09:13.056Z"
   },
   {
    "duration": 1668,
    "start_time": "2023-05-11T16:09:20.980Z"
   },
   {
    "duration": 700,
    "start_time": "2023-05-11T16:09:22.774Z"
   },
   {
    "duration": 35,
    "start_time": "2023-05-11T16:09:23.476Z"
   },
   {
    "duration": 78,
    "start_time": "2023-05-11T16:09:24.352Z"
   },
   {
    "duration": 34,
    "start_time": "2023-05-11T16:09:24.870Z"
   },
   {
    "duration": 56,
    "start_time": "2023-05-11T16:09:25.404Z"
   },
   {
    "duration": 337,
    "start_time": "2023-05-11T16:09:25.911Z"
   },
   {
    "duration": 16,
    "start_time": "2023-05-11T16:09:26.502Z"
   },
   {
    "duration": 75,
    "start_time": "2023-05-11T16:09:27.241Z"
   },
   {
    "duration": 34,
    "start_time": "2023-05-11T16:09:28.700Z"
   },
   {
    "duration": 41,
    "start_time": "2023-05-11T16:10:04.594Z"
   },
   {
    "duration": 17,
    "start_time": "2023-05-11T16:10:15.803Z"
   },
   {
    "duration": 998,
    "start_time": "2023-05-11T16:10:42.714Z"
   },
   {
    "duration": 78,
    "start_time": "2023-05-11T16:11:05.051Z"
   },
   {
    "duration": 87,
    "start_time": "2023-05-11T16:11:11.364Z"
   },
   {
    "duration": 73,
    "start_time": "2023-05-11T16:11:18.091Z"
   },
   {
    "duration": 32,
    "start_time": "2023-05-11T16:11:58.203Z"
   },
   {
    "duration": 83,
    "start_time": "2023-05-11T16:12:02.104Z"
   },
   {
    "duration": 15600,
    "start_time": "2023-05-11T16:12:48.233Z"
   },
   {
    "duration": 15260,
    "start_time": "2023-05-11T16:13:05.503Z"
   },
   {
    "duration": 326,
    "start_time": "2023-05-11T16:14:54.856Z"
   },
   {
    "duration": 104,
    "start_time": "2023-05-11T16:16:48.790Z"
   },
   {
    "duration": 98,
    "start_time": "2023-05-11T16:17:01.241Z"
   },
   {
    "duration": 64,
    "start_time": "2023-05-11T16:17:47.396Z"
   },
   {
    "duration": 18,
    "start_time": "2023-05-11T16:18:04.602Z"
   },
   {
    "duration": 62,
    "start_time": "2023-05-11T16:18:47.698Z"
   },
   {
    "duration": 88,
    "start_time": "2023-05-11T16:19:54.998Z"
   },
   {
    "duration": 70,
    "start_time": "2023-05-11T16:20:15.026Z"
   },
   {
    "duration": 104,
    "start_time": "2023-05-11T16:20:23.880Z"
   },
   {
    "duration": 97,
    "start_time": "2023-05-11T16:20:31.830Z"
   },
   {
    "duration": 16,
    "start_time": "2023-05-11T16:20:45.695Z"
   },
   {
    "duration": 19,
    "start_time": "2023-05-11T16:20:57.122Z"
   },
   {
    "duration": 12,
    "start_time": "2023-05-11T16:21:35.915Z"
   },
   {
    "duration": 15,
    "start_time": "2023-05-11T16:21:57.302Z"
   },
   {
    "duration": 12631,
    "start_time": "2023-05-11T16:22:14.902Z"
   },
   {
    "duration": 10,
    "start_time": "2023-05-11T16:22:57.426Z"
   },
   {
    "duration": 83,
    "start_time": "2023-05-11T16:23:05.648Z"
   },
   {
    "duration": 73,
    "start_time": "2023-05-11T16:23:21.826Z"
   },
   {
    "duration": 13,
    "start_time": "2023-05-11T16:23:44.657Z"
   },
   {
    "duration": 60,
    "start_time": "2023-05-11T16:23:51.293Z"
   },
   {
    "duration": 10,
    "start_time": "2023-05-11T16:24:03.545Z"
   },
   {
    "duration": 20,
    "start_time": "2023-05-11T16:24:44.710Z"
   },
   {
    "duration": 71,
    "start_time": "2023-05-11T16:24:57.745Z"
   },
   {
    "duration": 10,
    "start_time": "2023-05-11T16:25:38.410Z"
   },
   {
    "duration": 951,
    "start_time": "2023-05-11T16:25:52.922Z"
   },
   {
    "duration": 15,
    "start_time": "2023-05-11T16:26:37.917Z"
   },
   {
    "duration": 71,
    "start_time": "2023-05-11T16:27:30.493Z"
   },
   {
    "duration": 24,
    "start_time": "2023-05-11T16:27:42.692Z"
   },
   {
    "duration": 22,
    "start_time": "2023-05-11T16:28:57.894Z"
   },
   {
    "duration": 10,
    "start_time": "2023-05-11T16:29:47.154Z"
   },
   {
    "duration": 24,
    "start_time": "2023-05-11T16:29:57.922Z"
   },
   {
    "duration": 39,
    "start_time": "2023-05-11T16:29:58.506Z"
   },
   {
    "duration": 325,
    "start_time": "2023-05-11T16:29:58.753Z"
   },
   {
    "duration": 21,
    "start_time": "2023-05-11T16:29:59.561Z"
   },
   {
    "duration": 47,
    "start_time": "2023-05-11T16:30:00.002Z"
   },
   {
    "duration": 20,
    "start_time": "2023-05-11T16:30:00.338Z"
   },
   {
    "duration": 22,
    "start_time": "2023-05-11T16:30:01.200Z"
   },
   {
    "duration": 1651,
    "start_time": "2023-05-11T16:34:45.204Z"
   },
   {
    "duration": 320,
    "start_time": "2023-05-11T16:34:53.403Z"
   },
   {
    "duration": 341,
    "start_time": "2023-05-11T16:35:28.162Z"
   },
   {
    "duration": 309,
    "start_time": "2023-05-11T16:36:04.503Z"
   },
   {
    "duration": 145,
    "start_time": "2023-05-11T16:36:26.058Z"
   },
   {
    "duration": 514,
    "start_time": "2023-05-11T16:36:57.850Z"
   },
   {
    "duration": 142,
    "start_time": "2023-05-11T16:53:07.341Z"
   },
   {
    "duration": 3133,
    "start_time": "2023-05-11T16:53:15.955Z"
   },
   {
    "duration": 111,
    "start_time": "2023-05-11T16:54:01.036Z"
   },
   {
    "duration": 405,
    "start_time": "2023-05-11T16:55:15.428Z"
   },
   {
    "duration": 2762,
    "start_time": "2023-05-11T17:05:37.117Z"
   },
   {
    "duration": 1577,
    "start_time": "2023-05-11T17:13:59.651Z"
   },
   {
    "duration": 186,
    "start_time": "2023-05-11T17:14:01.230Z"
   },
   {
    "duration": 26,
    "start_time": "2023-05-11T17:14:01.418Z"
   },
   {
    "duration": 85,
    "start_time": "2023-05-11T17:14:01.447Z"
   },
   {
    "duration": 25,
    "start_time": "2023-05-11T17:14:01.534Z"
   },
   {
    "duration": 72,
    "start_time": "2023-05-11T17:14:01.560Z"
   },
   {
    "duration": 167,
    "start_time": "2023-05-11T17:14:01.634Z"
   },
   {
    "duration": 29,
    "start_time": "2023-05-11T17:14:01.802Z"
   },
   {
    "duration": 54,
    "start_time": "2023-05-11T17:14:01.834Z"
   },
   {
    "duration": 30,
    "start_time": "2023-05-11T17:14:01.891Z"
   },
   {
    "duration": 111,
    "start_time": "2023-05-11T17:14:01.923Z"
   },
   {
    "duration": 20,
    "start_time": "2023-05-11T17:14:02.036Z"
   },
   {
    "duration": 27,
    "start_time": "2023-05-11T17:14:02.058Z"
   },
   {
    "duration": 71,
    "start_time": "2023-05-11T17:14:02.088Z"
   },
   {
    "duration": 175,
    "start_time": "2023-05-11T17:14:02.161Z"
   },
   {
    "duration": 16,
    "start_time": "2023-05-11T17:14:02.337Z"
   },
   {
    "duration": 69,
    "start_time": "2023-05-11T17:14:02.355Z"
   },
   {
    "duration": 19,
    "start_time": "2023-05-11T17:14:02.425Z"
   },
   {
    "duration": 51,
    "start_time": "2023-05-11T17:14:02.446Z"
   },
   {
    "duration": 45,
    "start_time": "2023-05-11T17:14:02.499Z"
   },
   {
    "duration": 12,
    "start_time": "2023-05-11T17:14:02.546Z"
   },
   {
    "duration": 41494,
    "start_time": "2023-05-11T17:14:02.560Z"
   },
   {
    "duration": 7,
    "start_time": "2023-05-11T17:14:44.057Z"
   },
   {
    "duration": 44,
    "start_time": "2023-05-11T17:14:44.080Z"
   },
   {
    "duration": 4,
    "start_time": "2023-05-11T17:14:44.131Z"
   },
   {
    "duration": 77,
    "start_time": "2023-05-11T17:14:44.137Z"
   },
   {
    "duration": 17,
    "start_time": "2023-05-11T17:14:44.287Z"
   },
   {
    "duration": 22,
    "start_time": "2023-05-11T17:14:44.310Z"
   },
   {
    "duration": 46,
    "start_time": "2023-05-11T17:14:44.337Z"
   },
   {
    "duration": 85,
    "start_time": "2023-05-11T17:14:44.394Z"
   },
   {
    "duration": 14,
    "start_time": "2023-05-11T17:14:44.483Z"
   },
   {
    "duration": 39,
    "start_time": "2023-05-11T17:14:44.499Z"
   },
   {
    "duration": 19,
    "start_time": "2023-05-11T17:14:44.579Z"
   },
   {
    "duration": 81,
    "start_time": "2023-05-11T17:14:44.601Z"
   },
   {
    "duration": 9,
    "start_time": "2023-05-11T17:14:44.689Z"
   },
   {
    "duration": 10,
    "start_time": "2023-05-11T17:14:44.700Z"
   },
   {
    "duration": 18,
    "start_time": "2023-05-11T17:14:44.712Z"
   },
   {
    "duration": 8,
    "start_time": "2023-05-11T17:14:44.732Z"
   },
   {
    "duration": 4,
    "start_time": "2023-05-11T17:14:44.741Z"
   },
   {
    "duration": 16,
    "start_time": "2023-05-11T17:14:44.747Z"
   },
   {
    "duration": 23,
    "start_time": "2023-05-11T17:14:44.764Z"
   },
   {
    "duration": 496,
    "start_time": "2023-05-11T17:14:44.789Z"
   },
   {
    "duration": 450,
    "start_time": "2023-05-11T17:14:45.286Z"
   },
   {
    "duration": 468,
    "start_time": "2023-05-11T17:14:45.737Z"
   },
   {
    "duration": 9,
    "start_time": "2023-05-11T17:17:59.002Z"
   },
   {
    "duration": 39385,
    "start_time": "2023-05-11T17:18:06.104Z"
   },
   {
    "duration": 4628,
    "start_time": "2023-05-11T17:21:15.504Z"
   },
   {
    "duration": 289,
    "start_time": "2023-05-11T17:22:28.545Z"
   },
   {
    "duration": 4754,
    "start_time": "2023-05-11T17:22:50.462Z"
   },
   {
    "duration": 4585,
    "start_time": "2023-05-11T17:26:15.751Z"
   },
   {
    "duration": 288,
    "start_time": "2023-05-11T17:26:44.860Z"
   },
   {
    "duration": 4,
    "start_time": "2023-05-11T17:28:17.751Z"
   },
   {
    "duration": 4735,
    "start_time": "2023-05-11T17:28:31.194Z"
   },
   {
    "duration": 2656,
    "start_time": "2023-05-11T17:31:53.508Z"
   },
   {
    "duration": 2286,
    "start_time": "2023-05-11T17:37:47.065Z"
   },
   {
    "duration": 2329,
    "start_time": "2023-05-11T17:38:42.497Z"
   },
   {
    "duration": 2398,
    "start_time": "2023-05-11T17:43:06.729Z"
   },
   {
    "duration": 2390,
    "start_time": "2023-05-11T17:43:22.327Z"
   },
   {
    "duration": 267,
    "start_time": "2023-05-11T17:43:50.841Z"
   },
   {
    "duration": 2438,
    "start_time": "2023-05-11T17:44:10.367Z"
   },
   {
    "duration": 288,
    "start_time": "2023-05-11T17:44:22.034Z"
   },
   {
    "duration": 786,
    "start_time": "2023-05-11T17:44:28.107Z"
   },
   {
    "duration": 17,
    "start_time": "2023-05-11T17:44:38.251Z"
   },
   {
    "duration": 15,
    "start_time": "2023-05-11T17:47:02.537Z"
   },
   {
    "duration": 15,
    "start_time": "2023-05-11T17:47:11.705Z"
   },
   {
    "duration": 3314,
    "start_time": "2023-05-11T17:47:35.225Z"
   },
   {
    "duration": 3394,
    "start_time": "2023-05-11T17:47:52.826Z"
   },
   {
    "duration": 255,
    "start_time": "2023-05-11T17:51:13.492Z"
   },
   {
    "duration": 314,
    "start_time": "2023-05-11T17:51:45.434Z"
   },
   {
    "duration": 292,
    "start_time": "2023-05-11T17:51:52.033Z"
   },
   {
    "duration": 319,
    "start_time": "2023-05-11T17:51:59.122Z"
   },
   {
    "duration": 339,
    "start_time": "2023-05-11T17:53:19.554Z"
   },
   {
    "duration": 304,
    "start_time": "2023-05-11T17:53:30.315Z"
   },
   {
    "duration": 266,
    "start_time": "2023-05-11T17:56:05.591Z"
   },
   {
    "duration": 271,
    "start_time": "2023-05-11T17:56:23.393Z"
   },
   {
    "duration": 257,
    "start_time": "2023-05-11T17:56:32.149Z"
   },
   {
    "duration": 368,
    "start_time": "2023-05-11T17:56:38.131Z"
   },
   {
    "duration": 2253,
    "start_time": "2023-05-11T17:56:44.555Z"
   },
   {
    "duration": 325,
    "start_time": "2023-05-11T17:57:01.628Z"
   },
   {
    "duration": 2304,
    "start_time": "2023-05-11T17:57:06.058Z"
   },
   {
    "duration": 2559,
    "start_time": "2023-05-11T17:57:44.835Z"
   },
   {
    "duration": 17,
    "start_time": "2023-05-11T17:57:58.442Z"
   },
   {
    "duration": 4018,
    "start_time": "2023-05-11T17:58:27.875Z"
   },
   {
    "duration": 351,
    "start_time": "2023-05-11T17:59:04.729Z"
   },
   {
    "duration": 2227,
    "start_time": "2023-05-11T17:59:21.034Z"
   },
   {
    "duration": 33330,
    "start_time": "2023-05-11T17:59:39.226Z"
   },
   {
    "duration": 11,
    "start_time": "2023-05-11T18:01:58.659Z"
   },
   {
    "duration": 69,
    "start_time": "2023-05-11T18:02:19.530Z"
   },
   {
    "duration": 4284,
    "start_time": "2023-05-11T18:02:27.755Z"
   },
   {
    "duration": 431,
    "start_time": "2023-05-11T18:04:18.259Z"
   },
   {
    "duration": 5,
    "start_time": "2023-05-11T18:05:01.538Z"
   },
   {
    "duration": 251,
    "start_time": "2023-05-11T18:05:01.545Z"
   },
   {
    "duration": 20,
    "start_time": "2023-05-11T18:05:01.798Z"
   },
   {
    "duration": 74,
    "start_time": "2023-05-11T18:05:01.821Z"
   },
   {
    "duration": 18,
    "start_time": "2023-05-11T18:05:01.897Z"
   },
   {
    "duration": 63,
    "start_time": "2023-05-11T18:05:01.917Z"
   },
   {
    "duration": 135,
    "start_time": "2023-05-11T18:05:01.988Z"
   },
   {
    "duration": 17,
    "start_time": "2023-05-11T18:05:02.125Z"
   },
   {
    "duration": 65,
    "start_time": "2023-05-11T18:05:02.145Z"
   },
   {
    "duration": 20,
    "start_time": "2023-05-11T18:05:02.212Z"
   },
   {
    "duration": 90,
    "start_time": "2023-05-11T18:05:02.234Z"
   },
   {
    "duration": 16,
    "start_time": "2023-05-11T18:05:02.326Z"
   },
   {
    "duration": 51,
    "start_time": "2023-05-11T18:05:02.343Z"
   },
   {
    "duration": 44,
    "start_time": "2023-05-11T18:05:02.396Z"
   },
   {
    "duration": 143,
    "start_time": "2023-05-11T18:05:02.442Z"
   },
   {
    "duration": 22,
    "start_time": "2023-05-11T18:05:02.587Z"
   },
   {
    "duration": 84,
    "start_time": "2023-05-11T18:05:02.611Z"
   },
   {
    "duration": 20,
    "start_time": "2023-05-11T18:05:02.697Z"
   },
   {
    "duration": 30,
    "start_time": "2023-05-11T18:05:02.719Z"
   },
   {
    "duration": 48,
    "start_time": "2023-05-11T18:05:02.751Z"
   },
   {
    "duration": 8,
    "start_time": "2023-05-11T18:05:02.801Z"
   },
   {
    "duration": 35068,
    "start_time": "2023-05-11T18:05:02.811Z"
   },
   {
    "duration": 486,
    "start_time": "2023-05-11T18:05:37.885Z"
   },
   {
    "duration": 0,
    "start_time": "2023-05-11T18:05:38.377Z"
   },
   {
    "duration": 0,
    "start_time": "2023-05-11T18:05:38.378Z"
   },
   {
    "duration": 0,
    "start_time": "2023-05-11T18:05:38.378Z"
   },
   {
    "duration": 0,
    "start_time": "2023-05-11T18:05:38.379Z"
   },
   {
    "duration": 0,
    "start_time": "2023-05-11T18:05:38.380Z"
   },
   {
    "duration": 0,
    "start_time": "2023-05-11T18:05:38.380Z"
   },
   {
    "duration": 0,
    "start_time": "2023-05-11T18:05:38.381Z"
   },
   {
    "duration": 0,
    "start_time": "2023-05-11T18:05:38.382Z"
   },
   {
    "duration": 0,
    "start_time": "2023-05-11T18:05:38.383Z"
   },
   {
    "duration": 0,
    "start_time": "2023-05-11T18:05:38.383Z"
   },
   {
    "duration": 0,
    "start_time": "2023-05-11T18:05:38.384Z"
   },
   {
    "duration": 0,
    "start_time": "2023-05-11T18:05:38.384Z"
   },
   {
    "duration": 0,
    "start_time": "2023-05-11T18:05:38.385Z"
   },
   {
    "duration": 0,
    "start_time": "2023-05-11T18:05:38.386Z"
   },
   {
    "duration": 0,
    "start_time": "2023-05-11T18:05:38.387Z"
   },
   {
    "duration": 0,
    "start_time": "2023-05-11T18:05:38.388Z"
   },
   {
    "duration": 0,
    "start_time": "2023-05-11T18:05:38.388Z"
   },
   {
    "duration": 0,
    "start_time": "2023-05-11T18:05:38.389Z"
   },
   {
    "duration": 0,
    "start_time": "2023-05-11T18:05:38.390Z"
   },
   {
    "duration": 0,
    "start_time": "2023-05-11T18:05:38.390Z"
   },
   {
    "duration": 0,
    "start_time": "2023-05-11T18:05:38.394Z"
   },
   {
    "duration": 0,
    "start_time": "2023-05-11T18:05:38.395Z"
   },
   {
    "duration": 1009,
    "start_time": "2023-05-11T18:06:21.036Z"
   },
   {
    "duration": 1016,
    "start_time": "2023-05-11T18:07:11.596Z"
   },
   {
    "duration": 358,
    "start_time": "2023-05-11T18:07:46.795Z"
   },
   {
    "duration": 1858,
    "start_time": "2023-05-11T18:14:23.358Z"
   },
   {
    "duration": 2460,
    "start_time": "2023-05-11T18:14:37.469Z"
   },
   {
    "duration": 2167,
    "start_time": "2023-05-11T18:14:55.740Z"
   },
   {
    "duration": 2074,
    "start_time": "2023-05-11T18:15:01.004Z"
   },
   {
    "duration": 786,
    "start_time": "2023-05-11T18:15:06.203Z"
   },
   {
    "duration": 2001,
    "start_time": "2023-05-11T18:15:54.344Z"
   },
   {
    "duration": 3171,
    "start_time": "2023-05-11T18:16:26.460Z"
   },
   {
    "duration": 1686,
    "start_time": "2023-05-11T18:16:38.972Z"
   },
   {
    "duration": 358,
    "start_time": "2023-05-11T18:16:56.912Z"
   },
   {
    "duration": 20,
    "start_time": "2023-05-11T18:26:04.202Z"
   },
   {
    "duration": 10,
    "start_time": "2023-05-11T18:26:50.045Z"
   },
   {
    "duration": 1454,
    "start_time": "2023-05-11T18:35:50.946Z"
   },
   {
    "duration": 155,
    "start_time": "2023-05-11T18:35:52.402Z"
   },
   {
    "duration": 27,
    "start_time": "2023-05-11T18:35:52.559Z"
   },
   {
    "duration": 49,
    "start_time": "2023-05-11T18:35:52.589Z"
   },
   {
    "duration": 17,
    "start_time": "2023-05-11T18:35:52.640Z"
   },
   {
    "duration": 52,
    "start_time": "2023-05-11T18:35:52.659Z"
   },
   {
    "duration": 131,
    "start_time": "2023-05-11T18:35:52.712Z"
   },
   {
    "duration": 15,
    "start_time": "2023-05-11T18:35:52.844Z"
   },
   {
    "duration": 76,
    "start_time": "2023-05-11T18:35:52.861Z"
   },
   {
    "duration": 15,
    "start_time": "2023-05-11T18:35:52.941Z"
   },
   {
    "duration": 75,
    "start_time": "2023-05-11T18:35:52.958Z"
   },
   {
    "duration": 22,
    "start_time": "2023-05-11T18:35:53.035Z"
   },
   {
    "duration": 19,
    "start_time": "2023-05-11T18:35:53.076Z"
   },
   {
    "duration": 34,
    "start_time": "2023-05-11T18:35:53.097Z"
   },
   {
    "duration": 155,
    "start_time": "2023-05-11T18:35:53.133Z"
   },
   {
    "duration": 17,
    "start_time": "2023-05-11T18:35:53.289Z"
   },
   {
    "duration": 47,
    "start_time": "2023-05-11T18:35:53.308Z"
   },
   {
    "duration": 37,
    "start_time": "2023-05-11T18:35:53.357Z"
   },
   {
    "duration": 25,
    "start_time": "2023-05-11T18:35:53.396Z"
   },
   {
    "duration": 55,
    "start_time": "2023-05-11T18:35:53.423Z"
   },
   {
    "duration": 15,
    "start_time": "2023-05-11T18:35:53.490Z"
   },
   {
    "duration": 132,
    "start_time": "2023-05-11T18:35:53.507Z"
   },
   {
    "duration": 0,
    "start_time": "2023-05-11T18:35:53.642Z"
   },
   {
    "duration": 0,
    "start_time": "2023-05-11T18:35:53.643Z"
   },
   {
    "duration": 0,
    "start_time": "2023-05-11T18:35:53.645Z"
   },
   {
    "duration": 0,
    "start_time": "2023-05-11T18:35:53.647Z"
   },
   {
    "duration": 0,
    "start_time": "2023-05-11T18:35:53.649Z"
   },
   {
    "duration": 0,
    "start_time": "2023-05-11T18:35:53.650Z"
   },
   {
    "duration": 0,
    "start_time": "2023-05-11T18:35:53.652Z"
   },
   {
    "duration": 0,
    "start_time": "2023-05-11T18:35:53.653Z"
   },
   {
    "duration": 0,
    "start_time": "2023-05-11T18:35:53.676Z"
   },
   {
    "duration": 0,
    "start_time": "2023-05-11T18:35:53.677Z"
   },
   {
    "duration": 0,
    "start_time": "2023-05-11T18:35:53.679Z"
   },
   {
    "duration": 0,
    "start_time": "2023-05-11T18:35:53.680Z"
   },
   {
    "duration": 0,
    "start_time": "2023-05-11T18:35:53.686Z"
   },
   {
    "duration": 0,
    "start_time": "2023-05-11T18:35:53.687Z"
   },
   {
    "duration": 0,
    "start_time": "2023-05-11T18:35:53.689Z"
   },
   {
    "duration": 0,
    "start_time": "2023-05-11T18:35:53.691Z"
   },
   {
    "duration": 0,
    "start_time": "2023-05-11T18:35:53.693Z"
   },
   {
    "duration": 0,
    "start_time": "2023-05-11T18:35:53.694Z"
   },
   {
    "duration": 0,
    "start_time": "2023-05-11T18:35:53.696Z"
   },
   {
    "duration": 0,
    "start_time": "2023-05-11T18:35:53.697Z"
   },
   {
    "duration": 0,
    "start_time": "2023-05-11T18:35:53.698Z"
   },
   {
    "duration": 0,
    "start_time": "2023-05-11T18:35:53.700Z"
   },
   {
    "duration": 0,
    "start_time": "2023-05-11T18:35:53.703Z"
   },
   {
    "duration": 369,
    "start_time": "2023-05-11T18:39:11.930Z"
   },
   {
    "duration": 452,
    "start_time": "2023-05-11T18:39:26.599Z"
   },
   {
    "duration": 35,
    "start_time": "2023-05-11T18:40:36.623Z"
   },
   {
    "duration": 386,
    "start_time": "2023-05-11T18:40:47.935Z"
   },
   {
    "duration": 400,
    "start_time": "2023-05-11T18:40:53.455Z"
   },
   {
    "duration": 503,
    "start_time": "2023-05-11T18:41:00.167Z"
   },
   {
    "duration": 571,
    "start_time": "2023-05-11T18:41:41.527Z"
   },
   {
    "duration": 89,
    "start_time": "2023-05-11T18:44:02.235Z"
   },
   {
    "duration": 86,
    "start_time": "2023-05-11T18:46:53.559Z"
   },
   {
    "duration": 137,
    "start_time": "2023-05-11T18:48:54.788Z"
   },
   {
    "duration": 104,
    "start_time": "2023-05-11T18:49:11.790Z"
   },
   {
    "duration": 79,
    "start_time": "2023-05-11T18:49:44.337Z"
   },
   {
    "duration": 22,
    "start_time": "2023-05-11T18:57:35.059Z"
   },
   {
    "duration": 196,
    "start_time": "2023-05-11T18:58:16.218Z"
   },
   {
    "duration": 48,
    "start_time": "2023-05-11T18:58:23.521Z"
   },
   {
    "duration": 47,
    "start_time": "2023-05-11T18:58:41.783Z"
   },
   {
    "duration": 100,
    "start_time": "2023-05-11T19:12:51.115Z"
   },
   {
    "duration": 72,
    "start_time": "2023-05-11T20:03:38.398Z"
   },
   {
    "duration": 15,
    "start_time": "2023-05-11T20:13:52.596Z"
   },
   {
    "duration": 11,
    "start_time": "2023-05-11T20:13:58.357Z"
   },
   {
    "duration": 37,
    "start_time": "2023-05-11T20:13:58.845Z"
   },
   {
    "duration": 8,
    "start_time": "2023-05-11T20:13:59.487Z"
   },
   {
    "duration": 186,
    "start_time": "2023-05-11T20:13:59.706Z"
   },
   {
    "duration": 4,
    "start_time": "2023-05-11T20:14:00.202Z"
   },
   {
    "duration": 6,
    "start_time": "2023-05-11T20:14:00.500Z"
   },
   {
    "duration": 29,
    "start_time": "2023-05-11T20:14:02.045Z"
   },
   {
    "duration": 12,
    "start_time": "2023-05-11T20:17:53.350Z"
   },
   {
    "duration": 27,
    "start_time": "2023-05-11T20:18:28.460Z"
   },
   {
    "duration": 14,
    "start_time": "2023-05-11T20:19:44.487Z"
   },
   {
    "duration": 30,
    "start_time": "2023-05-11T20:20:10.415Z"
   },
   {
    "duration": 23,
    "start_time": "2023-05-11T20:21:33.960Z"
   },
   {
    "duration": 1590,
    "start_time": "2023-05-11T20:22:11.847Z"
   },
   {
    "duration": 1427,
    "start_time": "2023-05-11T20:23:19.993Z"
   },
   {
    "duration": 15,
    "start_time": "2023-05-11T20:23:54.925Z"
   },
   {
    "duration": 16,
    "start_time": "2023-05-11T20:24:20.498Z"
   },
   {
    "duration": 26,
    "start_time": "2023-05-11T20:24:28.202Z"
   },
   {
    "duration": 4,
    "start_time": "2023-05-11T20:26:08.943Z"
   },
   {
    "duration": 4,
    "start_time": "2023-05-11T20:34:08.868Z"
   },
   {
    "duration": 10,
    "start_time": "2023-05-11T20:34:12.055Z"
   },
   {
    "duration": 15,
    "start_time": "2023-05-11T20:35:45.656Z"
   },
   {
    "duration": 15,
    "start_time": "2023-05-11T20:35:58.339Z"
   },
   {
    "duration": 4,
    "start_time": "2023-05-11T20:36:10.664Z"
   },
   {
    "duration": 4,
    "start_time": "2023-05-11T20:36:12.143Z"
   },
   {
    "duration": 4,
    "start_time": "2023-05-11T20:36:12.415Z"
   },
   {
    "duration": 11,
    "start_time": "2023-05-11T20:36:12.623Z"
   },
   {
    "duration": 11,
    "start_time": "2023-05-11T20:36:13.692Z"
   },
   {
    "duration": 24,
    "start_time": "2023-05-11T20:36:14.439Z"
   },
   {
    "duration": 6,
    "start_time": "2023-05-11T20:36:14.656Z"
   },
   {
    "duration": 11,
    "start_time": "2023-05-11T20:36:14.914Z"
   },
   {
    "duration": 11,
    "start_time": "2023-05-11T20:36:24.824Z"
   },
   {
    "duration": 36,
    "start_time": "2023-05-11T20:36:25.024Z"
   },
   {
    "duration": 4,
    "start_time": "2023-05-11T20:36:25.423Z"
   },
   {
    "duration": 36,
    "start_time": "2023-05-11T20:36:25.611Z"
   },
   {
    "duration": 4,
    "start_time": "2023-05-11T20:36:25.960Z"
   },
   {
    "duration": 5,
    "start_time": "2023-05-11T20:36:26.143Z"
   },
   {
    "duration": 25,
    "start_time": "2023-05-11T20:36:26.338Z"
   },
   {
    "duration": 4,
    "start_time": "2023-05-11T20:36:26.511Z"
   },
   {
    "duration": 6,
    "start_time": "2023-05-11T20:36:26.707Z"
   },
   {
    "duration": 25,
    "start_time": "2023-05-11T20:36:27.093Z"
   },
   {
    "duration": 15,
    "start_time": "2023-05-11T20:36:27.278Z"
   },
   {
    "duration": 5,
    "start_time": "2023-05-11T20:36:27.464Z"
   },
   {
    "duration": 3,
    "start_time": "2023-05-11T20:36:28.654Z"
   },
   {
    "duration": 4,
    "start_time": "2023-05-11T20:36:29.209Z"
   },
   {
    "duration": 4,
    "start_time": "2023-05-11T20:36:29.598Z"
   },
   {
    "duration": 5,
    "start_time": "2023-05-11T20:36:29.760Z"
   },
   {
    "duration": 4,
    "start_time": "2023-05-11T20:36:30.755Z"
   },
   {
    "duration": 14,
    "start_time": "2023-05-11T20:36:31.539Z"
   },
   {
    "duration": 4,
    "start_time": "2023-05-11T20:36:31.738Z"
   },
   {
    "duration": 11,
    "start_time": "2023-05-11T20:36:31.944Z"
   },
   {
    "duration": 61,
    "start_time": "2023-05-11T20:36:32.175Z"
   },
   {
    "duration": 5,
    "start_time": "2023-05-11T20:38:54.369Z"
   },
   {
    "duration": 5,
    "start_time": "2023-05-11T20:39:26.852Z"
   },
   {
    "duration": 6,
    "start_time": "2023-05-11T20:39:33.012Z"
   },
   {
    "duration": 129,
    "start_time": "2023-05-11T20:40:59.568Z"
   },
   {
    "duration": 16,
    "start_time": "2023-05-11T20:41:06.760Z"
   },
   {
    "duration": 11,
    "start_time": "2023-05-11T20:41:42.141Z"
   },
   {
    "duration": 5,
    "start_time": "2023-05-11T20:42:12.049Z"
   },
   {
    "duration": 12,
    "start_time": "2023-05-12T06:02:58.445Z"
   },
   {
    "duration": 1551,
    "start_time": "2023-05-12T06:07:51.297Z"
   },
   {
    "duration": 369,
    "start_time": "2023-05-12T06:07:52.850Z"
   },
   {
    "duration": 16,
    "start_time": "2023-05-12T06:07:53.221Z"
   },
   {
    "duration": 43,
    "start_time": "2023-05-12T06:07:53.239Z"
   },
   {
    "duration": 24,
    "start_time": "2023-05-12T06:07:53.283Z"
   },
   {
    "duration": 33,
    "start_time": "2023-05-12T06:07:53.309Z"
   },
   {
    "duration": 539,
    "start_time": "2023-05-12T06:07:53.344Z"
   },
   {
    "duration": 13,
    "start_time": "2023-05-12T06:07:53.885Z"
   },
   {
    "duration": 40,
    "start_time": "2023-05-12T06:07:53.899Z"
   },
   {
    "duration": 14,
    "start_time": "2023-05-12T06:07:53.942Z"
   },
   {
    "duration": 60,
    "start_time": "2023-05-12T06:07:53.958Z"
   },
   {
    "duration": 14,
    "start_time": "2023-05-12T06:07:54.020Z"
   },
   {
    "duration": 15,
    "start_time": "2023-05-12T06:07:54.035Z"
   },
   {
    "duration": 54,
    "start_time": "2023-05-12T06:07:54.051Z"
   },
   {
    "duration": 529,
    "start_time": "2023-05-12T06:07:54.106Z"
   },
   {
    "duration": 12,
    "start_time": "2023-05-12T06:07:54.637Z"
   },
   {
    "duration": 76,
    "start_time": "2023-05-12T06:07:54.650Z"
   },
   {
    "duration": 15,
    "start_time": "2023-05-12T06:07:54.728Z"
   },
   {
    "duration": 43,
    "start_time": "2023-05-12T06:07:54.744Z"
   },
   {
    "duration": 59,
    "start_time": "2023-05-12T06:07:54.789Z"
   },
   {
    "duration": 10,
    "start_time": "2023-05-12T06:07:54.850Z"
   },
   {
    "duration": 480,
    "start_time": "2023-05-12T06:07:54.862Z"
   },
   {
    "duration": 11,
    "start_time": "2023-05-12T06:07:55.344Z"
   },
   {
    "duration": 71,
    "start_time": "2023-05-12T06:07:55.357Z"
   },
   {
    "duration": 14,
    "start_time": "2023-05-12T06:07:55.430Z"
   },
   {
    "duration": 66,
    "start_time": "2023-05-12T06:07:55.446Z"
   },
   {
    "duration": 120,
    "start_time": "2023-05-12T06:07:55.517Z"
   },
   {
    "duration": 9,
    "start_time": "2023-05-12T06:07:55.699Z"
   },
   {
    "duration": 27,
    "start_time": "2023-05-12T06:07:55.713Z"
   },
   {
    "duration": 176,
    "start_time": "2023-05-12T06:07:55.743Z"
   },
   {
    "duration": 10,
    "start_time": "2023-05-12T06:07:55.921Z"
   },
   {
    "duration": 31,
    "start_time": "2023-05-12T06:07:55.933Z"
   },
   {
    "duration": 136,
    "start_time": "2023-05-12T06:07:55.967Z"
   },
   {
    "duration": 12,
    "start_time": "2023-05-12T06:07:56.105Z"
   },
   {
    "duration": 5,
    "start_time": "2023-05-12T06:07:56.119Z"
   },
   {
    "duration": 116,
    "start_time": "2023-05-12T06:07:56.126Z"
   },
   {
    "duration": 0,
    "start_time": "2023-05-12T06:07:56.244Z"
   },
   {
    "duration": 0,
    "start_time": "2023-05-12T06:07:56.245Z"
   },
   {
    "duration": 0,
    "start_time": "2023-05-12T06:07:56.246Z"
   },
   {
    "duration": 0,
    "start_time": "2023-05-12T06:07:56.247Z"
   },
   {
    "duration": 0,
    "start_time": "2023-05-12T06:07:56.249Z"
   },
   {
    "duration": 0,
    "start_time": "2023-05-12T06:07:56.250Z"
   },
   {
    "duration": 0,
    "start_time": "2023-05-12T06:07:56.251Z"
   },
   {
    "duration": 0,
    "start_time": "2023-05-12T06:07:56.253Z"
   },
   {
    "duration": 0,
    "start_time": "2023-05-12T06:07:56.254Z"
   },
   {
    "duration": 9,
    "start_time": "2023-05-12T06:09:36.526Z"
   },
   {
    "duration": 5,
    "start_time": "2023-05-12T06:09:45.056Z"
   },
   {
    "duration": 4,
    "start_time": "2023-05-12T06:10:38.310Z"
   },
   {
    "duration": 3,
    "start_time": "2023-05-12T06:11:33.310Z"
   },
   {
    "duration": 4,
    "start_time": "2023-05-12T06:11:49.750Z"
   },
   {
    "duration": 5,
    "start_time": "2023-05-12T06:11:58.351Z"
   },
   {
    "duration": 3,
    "start_time": "2023-05-12T06:12:11.710Z"
   },
   {
    "duration": 21,
    "start_time": "2023-05-12T06:12:35.559Z"
   },
   {
    "duration": 4,
    "start_time": "2023-05-12T06:12:36.294Z"
   },
   {
    "duration": 35,
    "start_time": "2023-05-12T06:12:36.870Z"
   },
   {
    "duration": 3,
    "start_time": "2023-05-12T06:12:37.510Z"
   },
   {
    "duration": 77,
    "start_time": "2023-05-12T06:24:35.400Z"
   },
   {
    "duration": 50,
    "start_time": "2023-05-12T06:26:46.336Z"
   },
   {
    "duration": 14,
    "start_time": "2023-05-12T06:33:15.395Z"
   },
   {
    "duration": 5,
    "start_time": "2023-05-12T06:33:33.328Z"
   },
   {
    "duration": 11,
    "start_time": "2023-05-12T06:35:16.498Z"
   },
   {
    "duration": 784,
    "start_time": "2023-05-12T06:35:43.746Z"
   },
   {
    "duration": 11,
    "start_time": "2023-05-12T06:36:09.849Z"
   },
   {
    "duration": 13,
    "start_time": "2023-05-12T06:37:56.940Z"
   },
   {
    "duration": 13,
    "start_time": "2023-05-12T06:38:25.298Z"
   },
   {
    "duration": 5,
    "start_time": "2023-05-12T06:38:37.305Z"
   },
   {
    "duration": 10067,
    "start_time": "2023-05-12T06:39:08.594Z"
   },
   {
    "duration": 7,
    "start_time": "2023-05-12T06:41:08.625Z"
   },
   {
    "duration": 10180,
    "start_time": "2023-05-12T06:41:29.473Z"
   },
   {
    "duration": 859,
    "start_time": "2023-05-12T06:43:05.159Z"
   },
   {
    "duration": 10,
    "start_time": "2023-05-12T06:43:23.178Z"
   },
   {
    "duration": 7,
    "start_time": "2023-05-12T06:43:34.729Z"
   },
   {
    "duration": 6,
    "start_time": "2023-05-12T06:43:56.954Z"
   },
   {
    "duration": 5,
    "start_time": "2023-05-12T06:44:11.706Z"
   },
   {
    "duration": 7,
    "start_time": "2023-05-12T06:44:25.074Z"
   },
   {
    "duration": 11,
    "start_time": "2023-05-12T06:44:50.106Z"
   },
   {
    "duration": 6,
    "start_time": "2023-05-12T06:45:00.563Z"
   },
   {
    "duration": 8,
    "start_time": "2023-05-12T06:46:37.874Z"
   },
   {
    "duration": 8,
    "start_time": "2023-05-12T06:46:54.747Z"
   },
   {
    "duration": 7,
    "start_time": "2023-05-12T06:50:07.731Z"
   },
   {
    "duration": 13,
    "start_time": "2023-05-12T06:58:20.811Z"
   },
   {
    "duration": 4,
    "start_time": "2023-05-12T06:58:21.380Z"
   },
   {
    "duration": 10,
    "start_time": "2023-05-12T06:58:22.060Z"
   },
   {
    "duration": 20,
    "start_time": "2023-05-12T06:58:32.189Z"
   },
   {
    "duration": 12,
    "start_time": "2023-05-12T06:59:07.420Z"
   },
   {
    "duration": 820,
    "start_time": "2023-05-12T06:59:36.876Z"
   },
   {
    "duration": 6,
    "start_time": "2023-05-12T07:00:32.917Z"
   },
   {
    "duration": 820,
    "start_time": "2023-05-12T07:00:48.637Z"
   },
   {
    "duration": 820,
    "start_time": "2023-05-12T07:01:54.228Z"
   },
   {
    "duration": 34,
    "start_time": "2023-05-12T07:15:47.901Z"
   },
   {
    "duration": 39,
    "start_time": "2023-05-12T07:16:04.655Z"
   },
   {
    "duration": 84,
    "start_time": "2023-05-12T07:16:22.398Z"
   },
   {
    "duration": 23,
    "start_time": "2023-05-12T07:18:00.014Z"
   },
   {
    "duration": 23,
    "start_time": "2023-05-12T07:18:10.767Z"
   },
   {
    "duration": 41,
    "start_time": "2023-05-12T07:19:52.815Z"
   },
   {
    "duration": 45,
    "start_time": "2023-05-12T07:20:16.486Z"
   },
   {
    "duration": 50,
    "start_time": "2023-05-12T07:20:33.590Z"
   },
   {
    "duration": 46,
    "start_time": "2023-05-12T07:20:42.542Z"
   },
   {
    "duration": 47,
    "start_time": "2023-05-12T07:21:24.327Z"
   },
   {
    "duration": 52,
    "start_time": "2023-05-12T07:21:49.775Z"
   },
   {
    "duration": 79,
    "start_time": "2023-05-12T07:22:52.447Z"
   },
   {
    "duration": 50,
    "start_time": "2023-05-12T07:23:12.727Z"
   },
   {
    "duration": 60,
    "start_time": "2023-05-12T07:23:23.183Z"
   },
   {
    "duration": 51,
    "start_time": "2023-05-12T07:27:18.644Z"
   },
   {
    "duration": 53,
    "start_time": "2023-05-12T07:28:16.142Z"
   },
   {
    "duration": 55,
    "start_time": "2023-05-12T07:28:27.224Z"
   },
   {
    "duration": 54,
    "start_time": "2023-05-12T07:32:59.153Z"
   },
   {
    "duration": 49,
    "start_time": "2023-05-12T07:33:10.600Z"
   },
   {
    "duration": 2,
    "start_time": "2023-05-12T07:33:21.445Z"
   },
   {
    "duration": 47,
    "start_time": "2023-05-12T07:33:22.175Z"
   },
   {
    "duration": 310,
    "start_time": "2023-05-12T07:39:15.586Z"
   },
   {
    "duration": 3653,
    "start_time": "2023-05-12T07:40:05.873Z"
   },
   {
    "duration": 124,
    "start_time": "2023-05-12T07:41:54.121Z"
   },
   {
    "duration": 1976,
    "start_time": "2023-05-12T07:42:05.498Z"
   },
   {
    "duration": 4,
    "start_time": "2023-05-12T07:42:38.354Z"
   },
   {
    "duration": 47,
    "start_time": "2023-05-12T07:42:38.360Z"
   },
   {
    "duration": 160,
    "start_time": "2023-05-12T07:42:38.409Z"
   },
   {
    "duration": 25,
    "start_time": "2023-05-12T07:42:38.572Z"
   },
   {
    "duration": 51,
    "start_time": "2023-05-12T07:42:38.600Z"
   },
   {
    "duration": 16,
    "start_time": "2023-05-12T07:42:38.653Z"
   },
   {
    "duration": 61,
    "start_time": "2023-05-12T07:42:38.671Z"
   },
   {
    "duration": 136,
    "start_time": "2023-05-12T07:42:38.733Z"
   },
   {
    "duration": 25,
    "start_time": "2023-05-12T07:42:38.872Z"
   },
   {
    "duration": 49,
    "start_time": "2023-05-12T07:42:38.899Z"
   },
   {
    "duration": 87,
    "start_time": "2023-05-12T07:42:38.950Z"
   },
   {
    "duration": 17,
    "start_time": "2023-05-12T07:42:39.039Z"
   },
   {
    "duration": 40,
    "start_time": "2023-05-12T07:42:39.057Z"
   },
   {
    "duration": 40,
    "start_time": "2023-05-12T07:42:39.099Z"
   },
   {
    "duration": 146,
    "start_time": "2023-05-12T07:42:39.141Z"
   },
   {
    "duration": 21,
    "start_time": "2023-05-12T07:42:39.288Z"
   },
   {
    "duration": 54,
    "start_time": "2023-05-12T07:42:39.311Z"
   },
   {
    "duration": 40,
    "start_time": "2023-05-12T07:42:39.368Z"
   },
   {
    "duration": 17,
    "start_time": "2023-05-12T07:42:39.410Z"
   },
   {
    "duration": 40,
    "start_time": "2023-05-12T07:42:39.428Z"
   },
   {
    "duration": 50,
    "start_time": "2023-05-12T07:43:41.500Z"
   },
   {
    "duration": 9,
    "start_time": "2023-05-12T07:44:10.419Z"
   },
   {
    "duration": 41,
    "start_time": "2023-05-12T07:44:18.098Z"
   },
   {
    "duration": 67,
    "start_time": "2023-05-12T07:45:07.865Z"
   },
   {
    "duration": 72,
    "start_time": "2023-05-12T07:45:19.810Z"
   },
   {
    "duration": 80,
    "start_time": "2023-05-12T07:45:25.010Z"
   },
   {
    "duration": 12887,
    "start_time": "2023-05-12T07:45:49.210Z"
   },
   {
    "duration": 268,
    "start_time": "2023-05-12T07:46:27.242Z"
   },
   {
    "duration": 75,
    "start_time": "2023-05-12T07:46:49.578Z"
   },
   {
    "duration": 75,
    "start_time": "2023-05-12T07:47:07.010Z"
   },
   {
    "duration": 64,
    "start_time": "2023-05-12T07:47:35.322Z"
   },
   {
    "duration": 229,
    "start_time": "2023-05-12T07:48:20.930Z"
   },
   {
    "duration": 62,
    "start_time": "2023-05-12T07:48:39.298Z"
   },
   {
    "duration": 61,
    "start_time": "2023-05-12T07:49:05.763Z"
   },
   {
    "duration": 11947,
    "start_time": "2023-05-12T07:49:43.219Z"
   },
   {
    "duration": 4323,
    "start_time": "2023-05-12T07:50:00.522Z"
   },
   {
    "duration": 24885,
    "start_time": "2023-05-12T07:50:12.107Z"
   },
   {
    "duration": 3954,
    "start_time": "2023-05-12T07:50:49.170Z"
   },
   {
    "duration": 12907,
    "start_time": "2023-05-12T07:51:55.771Z"
   },
   {
    "duration": 12503,
    "start_time": "2023-05-12T07:53:37.842Z"
   },
   {
    "duration": 12456,
    "start_time": "2023-05-12T07:54:29.491Z"
   },
   {
    "duration": 12534,
    "start_time": "2023-05-12T07:55:04.628Z"
   },
   {
    "duration": 12454,
    "start_time": "2023-05-12T07:55:22.164Z"
   },
   {
    "duration": 582,
    "start_time": "2023-05-12T07:57:31.975Z"
   },
   {
    "duration": 12213,
    "start_time": "2023-05-12T07:58:23.333Z"
   },
   {
    "duration": 12034,
    "start_time": "2023-05-12T07:58:39.461Z"
   },
   {
    "duration": 504,
    "start_time": "2023-05-12T07:59:08.212Z"
   },
   {
    "duration": 572,
    "start_time": "2023-05-12T07:59:16.725Z"
   },
   {
    "duration": 38,
    "start_time": "2023-05-12T08:01:40.064Z"
   },
   {
    "duration": 12015,
    "start_time": "2023-05-12T08:02:00.805Z"
   },
   {
    "duration": 3,
    "start_time": "2023-05-12T08:04:31.021Z"
   },
   {
    "duration": 4,
    "start_time": "2023-05-12T08:04:58.178Z"
   },
   {
    "duration": 3,
    "start_time": "2023-05-12T08:05:03.806Z"
   },
   {
    "duration": 29,
    "start_time": "2023-05-12T08:08:07.797Z"
   },
   {
    "duration": 17,
    "start_time": "2023-05-12T08:08:10.432Z"
   },
   {
    "duration": 61,
    "start_time": "2023-05-12T08:08:37.158Z"
   },
   {
    "duration": 1697,
    "start_time": "2023-05-12T08:10:01.915Z"
   },
   {
    "duration": 91,
    "start_time": "2023-05-12T08:10:03.614Z"
   },
   {
    "duration": 167,
    "start_time": "2023-05-12T08:10:03.708Z"
   },
   {
    "duration": 21,
    "start_time": "2023-05-12T08:10:03.877Z"
   },
   {
    "duration": 77,
    "start_time": "2023-05-12T08:10:03.902Z"
   },
   {
    "duration": 21,
    "start_time": "2023-05-12T08:10:03.981Z"
   },
   {
    "duration": 52,
    "start_time": "2023-05-12T08:10:04.005Z"
   },
   {
    "duration": 156,
    "start_time": "2023-05-12T08:10:04.059Z"
   },
   {
    "duration": 26,
    "start_time": "2023-05-12T08:10:04.217Z"
   },
   {
    "duration": 63,
    "start_time": "2023-05-12T08:10:04.245Z"
   },
   {
    "duration": 104,
    "start_time": "2023-05-12T08:10:04.309Z"
   },
   {
    "duration": 19,
    "start_time": "2023-05-12T08:10:04.415Z"
   },
   {
    "duration": 23,
    "start_time": "2023-05-12T08:10:04.436Z"
   },
   {
    "duration": 64,
    "start_time": "2023-05-12T08:10:04.463Z"
   },
   {
    "duration": 153,
    "start_time": "2023-05-12T08:10:04.529Z"
   },
   {
    "duration": 24,
    "start_time": "2023-05-12T08:10:04.684Z"
   },
   {
    "duration": 59,
    "start_time": "2023-05-12T08:10:04.710Z"
   },
   {
    "duration": 28,
    "start_time": "2023-05-12T08:10:04.770Z"
   },
   {
    "duration": 21,
    "start_time": "2023-05-12T08:10:04.800Z"
   },
   {
    "duration": 38,
    "start_time": "2023-05-12T08:10:04.824Z"
   },
   {
    "duration": 77,
    "start_time": "2023-05-12T08:10:04.864Z"
   },
   {
    "duration": 11,
    "start_time": "2023-05-12T08:10:04.943Z"
   },
   {
    "duration": 625,
    "start_time": "2023-05-12T08:10:04.956Z"
   },
   {
    "duration": 666,
    "start_time": "2023-05-12T08:10:05.584Z"
   },
   {
    "duration": 717,
    "start_time": "2023-05-12T08:10:06.252Z"
   },
   {
    "duration": 11,
    "start_time": "2023-05-12T08:10:06.971Z"
   },
   {
    "duration": 73,
    "start_time": "2023-05-12T08:10:06.985Z"
   },
   {
    "duration": 5,
    "start_time": "2023-05-12T08:10:07.060Z"
   },
   {
    "duration": 54,
    "start_time": "2023-05-12T08:10:07.066Z"
   },
   {
    "duration": 81,
    "start_time": "2023-05-12T08:10:07.122Z"
   },
   {
    "duration": 94,
    "start_time": "2023-05-12T08:10:07.206Z"
   },
   {
    "duration": 36,
    "start_time": "2023-05-12T08:10:07.302Z"
   },
   {
    "duration": 159,
    "start_time": "2023-05-12T08:10:07.341Z"
   },
   {
    "duration": 32,
    "start_time": "2023-05-12T08:10:07.502Z"
   },
   {
    "duration": 19,
    "start_time": "2023-05-12T08:10:07.536Z"
   },
   {
    "duration": 6,
    "start_time": "2023-05-12T08:10:07.598Z"
   },
   {
    "duration": 115,
    "start_time": "2023-05-12T08:10:07.607Z"
   },
   {
    "duration": 7,
    "start_time": "2023-05-12T08:10:07.725Z"
   },
   {
    "duration": 7,
    "start_time": "2023-05-12T08:10:07.733Z"
   },
   {
    "duration": 10,
    "start_time": "2023-05-12T08:10:07.742Z"
   },
   {
    "duration": 9,
    "start_time": "2023-05-12T08:10:07.756Z"
   },
   {
    "duration": 17,
    "start_time": "2023-05-12T08:10:07.766Z"
   },
   {
    "duration": 4,
    "start_time": "2023-05-12T08:10:07.785Z"
   },
   {
    "duration": 53,
    "start_time": "2023-05-12T08:10:07.791Z"
   },
   {
    "duration": 3,
    "start_time": "2023-05-12T08:10:07.847Z"
   },
   {
    "duration": 880,
    "start_time": "2023-05-12T08:10:07.852Z"
   },
   {
    "duration": 4,
    "start_time": "2023-05-12T08:10:46.173Z"
   },
   {
    "duration": 3,
    "start_time": "2023-05-12T08:11:39.902Z"
   },
   {
    "duration": 172,
    "start_time": "2023-05-12T08:12:11.654Z"
   },
   {
    "duration": 76,
    "start_time": "2023-05-12T08:12:15.941Z"
   },
   {
    "duration": 129,
    "start_time": "2023-05-12T08:12:22.022Z"
   },
   {
    "duration": 2211,
    "start_time": "2023-05-12T08:12:38.742Z"
   },
   {
    "duration": 1881,
    "start_time": "2023-05-12T08:12:58.218Z"
   },
   {
    "duration": 0,
    "start_time": "2023-05-12T08:13:00.102Z"
   },
   {
    "duration": 1579,
    "start_time": "2023-05-12T08:13:24.654Z"
   },
   {
    "duration": 64,
    "start_time": "2023-05-12T08:13:26.235Z"
   },
   {
    "duration": 156,
    "start_time": "2023-05-12T08:13:26.301Z"
   },
   {
    "duration": 17,
    "start_time": "2023-05-12T08:13:26.460Z"
   },
   {
    "duration": 67,
    "start_time": "2023-05-12T08:13:26.478Z"
   },
   {
    "duration": 17,
    "start_time": "2023-05-12T08:13:26.548Z"
   },
   {
    "duration": 74,
    "start_time": "2023-05-12T08:13:26.566Z"
   },
   {
    "duration": 178,
    "start_time": "2023-05-12T08:13:26.642Z"
   },
   {
    "duration": 21,
    "start_time": "2023-05-12T08:13:26.823Z"
   },
   {
    "duration": 88,
    "start_time": "2023-05-12T08:13:26.848Z"
   },
   {
    "duration": 77,
    "start_time": "2023-05-12T08:13:26.937Z"
   },
   {
    "duration": 18,
    "start_time": "2023-05-12T08:13:27.016Z"
   },
   {
    "duration": 17,
    "start_time": "2023-05-12T08:13:27.035Z"
   },
   {
    "duration": 74,
    "start_time": "2023-05-12T08:13:27.054Z"
   },
   {
    "duration": 142,
    "start_time": "2023-05-12T08:13:27.130Z"
   },
   {
    "duration": 25,
    "start_time": "2023-05-12T08:13:27.273Z"
   },
   {
    "duration": 48,
    "start_time": "2023-05-12T08:13:27.300Z"
   },
   {
    "duration": 22,
    "start_time": "2023-05-12T08:13:27.350Z"
   },
   {
    "duration": 18,
    "start_time": "2023-05-12T08:13:27.397Z"
   },
   {
    "duration": 38,
    "start_time": "2023-05-12T08:13:27.417Z"
   },
   {
    "duration": 72,
    "start_time": "2023-05-12T08:13:27.457Z"
   },
   {
    "duration": 596,
    "start_time": "2023-05-12T08:13:27.531Z"
   },
   {
    "duration": 619,
    "start_time": "2023-05-12T08:13:28.129Z"
   },
   {
    "duration": 572,
    "start_time": "2023-05-12T08:13:28.750Z"
   },
   {
    "duration": 15,
    "start_time": "2023-05-12T08:13:29.324Z"
   },
   {
    "duration": 82,
    "start_time": "2023-05-12T08:13:29.342Z"
   },
   {
    "duration": 5,
    "start_time": "2023-05-12T08:13:29.426Z"
   },
   {
    "duration": 158,
    "start_time": "2023-05-12T08:13:29.435Z"
   },
   {
    "duration": 0,
    "start_time": "2023-05-12T08:13:29.597Z"
   },
   {
    "duration": 0,
    "start_time": "2023-05-12T08:13:29.598Z"
   },
   {
    "duration": 0,
    "start_time": "2023-05-12T08:13:29.599Z"
   },
   {
    "duration": 0,
    "start_time": "2023-05-12T08:13:29.600Z"
   },
   {
    "duration": 0,
    "start_time": "2023-05-12T08:13:29.601Z"
   },
   {
    "duration": 0,
    "start_time": "2023-05-12T08:13:29.602Z"
   },
   {
    "duration": 0,
    "start_time": "2023-05-12T08:13:29.603Z"
   },
   {
    "duration": 0,
    "start_time": "2023-05-12T08:13:29.605Z"
   },
   {
    "duration": 0,
    "start_time": "2023-05-12T08:13:29.606Z"
   },
   {
    "duration": 0,
    "start_time": "2023-05-12T08:13:29.607Z"
   },
   {
    "duration": 0,
    "start_time": "2023-05-12T08:13:29.609Z"
   },
   {
    "duration": 0,
    "start_time": "2023-05-12T08:13:29.610Z"
   },
   {
    "duration": 0,
    "start_time": "2023-05-12T08:13:29.611Z"
   },
   {
    "duration": 0,
    "start_time": "2023-05-12T08:13:29.612Z"
   },
   {
    "duration": 0,
    "start_time": "2023-05-12T08:13:29.613Z"
   },
   {
    "duration": 0,
    "start_time": "2023-05-12T08:13:29.614Z"
   },
   {
    "duration": 0,
    "start_time": "2023-05-12T08:13:29.615Z"
   },
   {
    "duration": 12,
    "start_time": "2023-05-12T08:17:22.966Z"
   },
   {
    "duration": 15,
    "start_time": "2023-05-12T08:17:38.734Z"
   },
   {
    "duration": 17,
    "start_time": "2023-05-12T08:18:07.895Z"
   },
   {
    "duration": 59,
    "start_time": "2023-05-12T08:18:15.502Z"
   },
   {
    "duration": 48,
    "start_time": "2023-05-12T08:18:26.046Z"
   },
   {
    "duration": 53,
    "start_time": "2023-05-12T08:18:39.758Z"
   },
   {
    "duration": 65,
    "start_time": "2023-05-12T08:18:55.689Z"
   },
   {
    "duration": 69,
    "start_time": "2023-05-12T08:20:42.694Z"
   },
   {
    "duration": 22,
    "start_time": "2023-05-12T08:20:58.107Z"
   },
   {
    "duration": 107,
    "start_time": "2023-05-12T08:22:01.174Z"
   },
   {
    "duration": 83,
    "start_time": "2023-05-12T08:22:12.294Z"
   },
   {
    "duration": 91,
    "start_time": "2023-05-12T08:22:30.744Z"
   },
   {
    "duration": 89,
    "start_time": "2023-05-12T08:26:30.137Z"
   },
   {
    "duration": 112,
    "start_time": "2023-05-12T08:28:43.480Z"
   },
   {
    "duration": 388,
    "start_time": "2023-05-12T08:29:06.244Z"
   },
   {
    "duration": 77,
    "start_time": "2023-05-12T08:29:19.816Z"
   },
   {
    "duration": 29,
    "start_time": "2023-05-12T08:30:56.993Z"
   },
   {
    "duration": 6,
    "start_time": "2023-05-12T08:31:34.167Z"
   },
   {
    "duration": 10,
    "start_time": "2023-05-12T08:32:06.969Z"
   },
   {
    "duration": 29,
    "start_time": "2023-05-12T08:32:28.896Z"
   },
   {
    "duration": 11,
    "start_time": "2023-05-12T08:33:57.314Z"
   },
   {
    "duration": 37,
    "start_time": "2023-05-12T08:34:15.057Z"
   },
   {
    "duration": 37,
    "start_time": "2023-05-12T08:34:29.112Z"
   },
   {
    "duration": 5,
    "start_time": "2023-05-12T08:34:37.769Z"
   },
   {
    "duration": 4,
    "start_time": "2023-05-12T08:34:46.169Z"
   },
   {
    "duration": 38,
    "start_time": "2023-05-12T08:34:46.175Z"
   },
   {
    "duration": 146,
    "start_time": "2023-05-12T08:34:46.216Z"
   },
   {
    "duration": 15,
    "start_time": "2023-05-12T08:34:46.364Z"
   },
   {
    "duration": 59,
    "start_time": "2023-05-12T08:34:46.381Z"
   },
   {
    "duration": 16,
    "start_time": "2023-05-12T08:34:46.442Z"
   },
   {
    "duration": 55,
    "start_time": "2023-05-12T08:34:46.459Z"
   },
   {
    "duration": 131,
    "start_time": "2023-05-12T08:34:46.516Z"
   },
   {
    "duration": 16,
    "start_time": "2023-05-12T08:34:46.650Z"
   },
   {
    "duration": 62,
    "start_time": "2023-05-12T08:34:46.668Z"
   },
   {
    "duration": 16,
    "start_time": "2023-05-12T08:34:46.732Z"
   },
   {
    "duration": 54,
    "start_time": "2023-05-12T08:34:46.750Z"
   },
   {
    "duration": 141,
    "start_time": "2023-05-12T08:34:46.805Z"
   },
   {
    "duration": 15,
    "start_time": "2023-05-12T08:34:46.947Z"
   },
   {
    "duration": 65,
    "start_time": "2023-05-12T08:34:46.964Z"
   },
   {
    "duration": 19,
    "start_time": "2023-05-12T08:34:47.031Z"
   },
   {
    "duration": 34,
    "start_time": "2023-05-12T08:34:47.053Z"
   },
   {
    "duration": 76,
    "start_time": "2023-05-12T08:34:47.089Z"
   },
   {
    "duration": 120,
    "start_time": "2023-05-12T08:34:47.167Z"
   },
   {
    "duration": 122,
    "start_time": "2023-05-12T08:34:47.290Z"
   },
   {
    "duration": 7,
    "start_time": "2023-05-12T08:34:47.415Z"
   },
   {
    "duration": 21,
    "start_time": "2023-05-12T08:38:04.448Z"
   },
   {
    "duration": 11,
    "start_time": "2023-05-12T08:38:29.457Z"
   },
   {
    "duration": 17,
    "start_time": "2023-05-12T08:39:17.552Z"
   },
   {
    "duration": 26,
    "start_time": "2023-05-12T08:40:38.058Z"
   },
   {
    "duration": 646,
    "start_time": "2023-05-12T08:41:39.873Z"
   },
   {
    "duration": 59,
    "start_time": "2023-05-12T08:41:56.162Z"
   },
   {
    "duration": 51,
    "start_time": "2023-05-12T08:42:24.299Z"
   },
   {
    "duration": 367,
    "start_time": "2023-05-12T08:46:25.682Z"
   },
   {
    "duration": 161,
    "start_time": "2023-05-12T08:46:36.546Z"
   },
   {
    "duration": 119,
    "start_time": "2023-05-12T08:46:44.665Z"
   },
   {
    "duration": 148,
    "start_time": "2023-05-12T08:46:52.851Z"
   },
   {
    "duration": 147,
    "start_time": "2023-05-12T08:47:33.979Z"
   },
   {
    "duration": 169,
    "start_time": "2023-05-12T08:48:07.666Z"
   },
   {
    "duration": 117,
    "start_time": "2023-05-12T08:48:12.507Z"
   },
   {
    "duration": 206,
    "start_time": "2023-05-12T08:48:39.851Z"
   },
   {
    "duration": 16,
    "start_time": "2023-05-12T08:49:07.343Z"
   },
   {
    "duration": 2523,
    "start_time": "2023-05-12T08:53:10.546Z"
   },
   {
    "duration": 0,
    "start_time": "2023-05-12T08:53:13.070Z"
   },
   {
    "duration": 614,
    "start_time": "2023-05-12T08:53:13.794Z"
   },
   {
    "duration": 683,
    "start_time": "2023-05-12T08:53:14.411Z"
   },
   {
    "duration": 830,
    "start_time": "2023-05-12T08:53:15.097Z"
   },
   {
    "duration": 10,
    "start_time": "2023-05-12T08:53:18.906Z"
   },
   {
    "duration": 34,
    "start_time": "2023-05-12T08:53:20.386Z"
   },
   {
    "duration": 5,
    "start_time": "2023-05-12T08:53:41.117Z"
   },
   {
    "duration": 56,
    "start_time": "2023-05-12T08:53:43.747Z"
   },
   {
    "duration": 5,
    "start_time": "2023-05-12T08:54:39.483Z"
   },
   {
    "duration": 14,
    "start_time": "2023-05-12T08:54:40.044Z"
   },
   {
    "duration": 4,
    "start_time": "2023-05-12T08:54:56.987Z"
   },
   {
    "duration": 6,
    "start_time": "2023-05-12T08:54:57.672Z"
   },
   {
    "duration": 23,
    "start_time": "2023-05-12T08:54:58.670Z"
   },
   {
    "duration": 5,
    "start_time": "2023-05-12T08:54:59.651Z"
   },
   {
    "duration": 5,
    "start_time": "2023-05-12T08:55:00.244Z"
   },
   {
    "duration": 19,
    "start_time": "2023-05-12T08:55:01.547Z"
   },
   {
    "duration": 7,
    "start_time": "2023-05-12T08:55:02.107Z"
   },
   {
    "duration": 6,
    "start_time": "2023-05-12T08:55:02.658Z"
   },
   {
    "duration": 4,
    "start_time": "2023-05-12T08:55:04.673Z"
   },
   {
    "duration": 47,
    "start_time": "2023-05-12T08:56:23.483Z"
   },
   {
    "duration": 7,
    "start_time": "2023-05-12T08:56:33.778Z"
   },
   {
    "duration": 5,
    "start_time": "2023-05-12T08:56:34.291Z"
   },
   {
    "duration": 21,
    "start_time": "2023-05-12T08:56:34.645Z"
   },
   {
    "duration": 5,
    "start_time": "2023-05-12T08:56:34.915Z"
   },
   {
    "duration": 5,
    "start_time": "2023-05-12T08:56:35.186Z"
   },
   {
    "duration": 15,
    "start_time": "2023-05-12T08:56:36.283Z"
   },
   {
    "duration": 7,
    "start_time": "2023-05-12T08:56:36.818Z"
   },
   {
    "duration": 5,
    "start_time": "2023-05-12T08:56:37.324Z"
   },
   {
    "duration": 3,
    "start_time": "2023-05-12T08:56:57.830Z"
   },
   {
    "duration": 3,
    "start_time": "2023-05-12T08:56:59.651Z"
   },
   {
    "duration": 4,
    "start_time": "2023-05-12T08:57:00.522Z"
   },
   {
    "duration": 5,
    "start_time": "2023-05-12T08:57:01.053Z"
   },
   {
    "duration": 14,
    "start_time": "2023-05-12T08:57:07.802Z"
   },
   {
    "duration": 4,
    "start_time": "2023-05-12T08:57:08.778Z"
   },
   {
    "duration": 34,
    "start_time": "2023-05-12T08:57:09.571Z"
   },
   {
    "duration": 5,
    "start_time": "2023-05-12T08:57:10.418Z"
   },
   {
    "duration": 30,
    "start_time": "2023-05-12T08:59:21.343Z"
   },
   {
    "duration": 19,
    "start_time": "2023-05-12T09:56:35.242Z"
   },
   {
    "duration": 18,
    "start_time": "2023-05-12T09:56:59.732Z"
   },
   {
    "duration": 19,
    "start_time": "2023-05-12T09:57:11.688Z"
   },
   {
    "duration": 4,
    "start_time": "2023-05-12T10:01:00.980Z"
   },
   {
    "duration": 83,
    "start_time": "2023-05-12T10:01:00.986Z"
   },
   {
    "duration": 180,
    "start_time": "2023-05-12T10:01:01.071Z"
   },
   {
    "duration": 16,
    "start_time": "2023-05-12T10:01:01.252Z"
   },
   {
    "duration": 73,
    "start_time": "2023-05-12T10:01:01.271Z"
   },
   {
    "duration": 15,
    "start_time": "2023-05-12T10:01:01.346Z"
   },
   {
    "duration": 65,
    "start_time": "2023-05-12T10:01:01.363Z"
   },
   {
    "duration": 152,
    "start_time": "2023-05-12T10:01:01.430Z"
   },
   {
    "duration": 18,
    "start_time": "2023-05-12T10:01:01.584Z"
   },
   {
    "duration": 117,
    "start_time": "2023-05-12T10:01:01.604Z"
   },
   {
    "duration": 18,
    "start_time": "2023-05-12T10:01:01.725Z"
   },
   {
    "duration": 57,
    "start_time": "2023-05-12T10:01:01.748Z"
   },
   {
    "duration": 150,
    "start_time": "2023-05-12T10:01:01.807Z"
   },
   {
    "duration": 17,
    "start_time": "2023-05-12T10:01:01.960Z"
   },
   {
    "duration": 81,
    "start_time": "2023-05-12T10:01:01.979Z"
   },
   {
    "duration": 22,
    "start_time": "2023-05-12T10:01:02.062Z"
   },
   {
    "duration": 25,
    "start_time": "2023-05-12T10:01:02.085Z"
   },
   {
    "duration": 42,
    "start_time": "2023-05-12T10:01:02.112Z"
   },
   {
    "duration": 110,
    "start_time": "2023-05-12T10:01:02.155Z"
   },
   {
    "duration": 97,
    "start_time": "2023-05-12T10:01:02.266Z"
   },
   {
    "duration": 172,
    "start_time": "2023-05-12T10:01:02.364Z"
   },
   {
    "duration": 13,
    "start_time": "2023-05-12T10:01:02.538Z"
   },
   {
    "duration": 588,
    "start_time": "2023-05-12T10:01:02.552Z"
   },
   {
    "duration": 568,
    "start_time": "2023-05-12T10:01:03.142Z"
   },
   {
    "duration": 546,
    "start_time": "2023-05-12T10:01:03.712Z"
   },
   {
    "duration": 8,
    "start_time": "2023-05-12T10:01:04.260Z"
   },
   {
    "duration": 45,
    "start_time": "2023-05-12T10:01:04.270Z"
   },
   {
    "duration": 4,
    "start_time": "2023-05-12T10:01:04.317Z"
   },
   {
    "duration": 77,
    "start_time": "2023-05-12T10:01:04.324Z"
   },
   {
    "duration": 96,
    "start_time": "2023-05-12T10:01:04.404Z"
   },
   {
    "duration": 16,
    "start_time": "2023-05-12T10:01:04.502Z"
   },
   {
    "duration": 79,
    "start_time": "2023-05-12T10:01:04.519Z"
   },
   {
    "duration": 103,
    "start_time": "2023-05-12T10:01:04.601Z"
   },
   {
    "duration": 15,
    "start_time": "2023-05-12T10:01:04.707Z"
   },
   {
    "duration": 35,
    "start_time": "2023-05-12T10:01:04.724Z"
   },
   {
    "duration": 99,
    "start_time": "2023-05-12T10:01:04.801Z"
   },
   {
    "duration": 10,
    "start_time": "2023-05-12T10:01:04.902Z"
   },
   {
    "duration": 7,
    "start_time": "2023-05-12T10:01:04.913Z"
   },
   {
    "duration": 9,
    "start_time": "2023-05-12T10:01:04.922Z"
   },
   {
    "duration": 7,
    "start_time": "2023-05-12T10:01:04.933Z"
   },
   {
    "duration": 10,
    "start_time": "2023-05-12T10:01:04.941Z"
   },
   {
    "duration": 10,
    "start_time": "2023-05-12T10:01:41.306Z"
   },
   {
    "duration": 10,
    "start_time": "2023-05-12T10:02:03.889Z"
   },
   {
    "duration": 73,
    "start_time": "2023-05-12T10:02:19.498Z"
   },
   {
    "duration": 5,
    "start_time": "2023-05-12T10:02:24.689Z"
   },
   {
    "duration": 14,
    "start_time": "2023-05-12T10:03:27.185Z"
   },
   {
    "duration": 26,
    "start_time": "2023-05-12T10:10:05.698Z"
   },
   {
    "duration": 52,
    "start_time": "2023-05-12T10:15:52.322Z"
   },
   {
    "duration": 11,
    "start_time": "2023-05-12T10:16:56.018Z"
   },
   {
    "duration": 4,
    "start_time": "2023-05-12T10:17:24.747Z"
   },
   {
    "duration": 50,
    "start_time": "2023-05-12T10:17:25.809Z"
   },
   {
    "duration": 152,
    "start_time": "2023-05-12T10:17:26.675Z"
   },
   {
    "duration": 16,
    "start_time": "2023-05-12T10:17:26.901Z"
   },
   {
    "duration": 47,
    "start_time": "2023-05-12T10:17:27.585Z"
   },
   {
    "duration": 16,
    "start_time": "2023-05-12T10:17:28.634Z"
   },
   {
    "duration": 39,
    "start_time": "2023-05-12T10:17:29.034Z"
   },
   {
    "duration": 164,
    "start_time": "2023-05-12T10:17:29.265Z"
   },
   {
    "duration": 15,
    "start_time": "2023-05-12T10:17:29.633Z"
   },
   {
    "duration": 46,
    "start_time": "2023-05-12T10:17:29.905Z"
   },
   {
    "duration": 17,
    "start_time": "2023-05-12T10:17:30.889Z"
   },
   {
    "duration": 152,
    "start_time": "2023-05-12T10:17:31.105Z"
   },
   {
    "duration": 149,
    "start_time": "2023-05-12T10:17:31.915Z"
   },
   {
    "duration": 18,
    "start_time": "2023-05-12T10:17:32.089Z"
   },
   {
    "duration": 50,
    "start_time": "2023-05-12T10:17:32.281Z"
   },
   {
    "duration": 24,
    "start_time": "2023-05-12T10:17:32.479Z"
   },
   {
    "duration": 17,
    "start_time": "2023-05-12T10:17:33.010Z"
   },
   {
    "duration": 43,
    "start_time": "2023-05-12T10:17:33.377Z"
   },
   {
    "duration": 97,
    "start_time": "2023-05-12T10:17:33.562Z"
   },
   {
    "duration": 81,
    "start_time": "2023-05-12T10:17:33.723Z"
   },
   {
    "duration": 172,
    "start_time": "2023-05-12T10:17:34.098Z"
   },
   {
    "duration": 9,
    "start_time": "2023-05-12T10:17:34.291Z"
   },
   {
    "duration": 554,
    "start_time": "2023-05-12T10:17:34.840Z"
   },
   {
    "duration": 557,
    "start_time": "2023-05-12T10:17:35.397Z"
   },
   {
    "duration": 555,
    "start_time": "2023-05-12T10:17:35.955Z"
   },
   {
    "duration": 8,
    "start_time": "2023-05-12T10:17:36.512Z"
   },
   {
    "duration": 29,
    "start_time": "2023-05-12T10:17:36.522Z"
   },
   {
    "duration": 3,
    "start_time": "2023-05-12T10:17:36.602Z"
   },
   {
    "duration": 24,
    "start_time": "2023-05-12T10:17:36.841Z"
   },
   {
    "duration": 6,
    "start_time": "2023-05-12T10:17:37.436Z"
   },
   {
    "duration": 6,
    "start_time": "2023-05-12T10:17:37.825Z"
   },
   {
    "duration": 22,
    "start_time": "2023-05-12T10:17:38.345Z"
   },
   {
    "duration": 5,
    "start_time": "2023-05-12T10:17:38.545Z"
   },
   {
    "duration": 4,
    "start_time": "2023-05-12T10:17:38.753Z"
   },
   {
    "duration": 22,
    "start_time": "2023-05-12T10:17:39.184Z"
   },
   {
    "duration": 4,
    "start_time": "2023-05-12T10:17:39.398Z"
   },
   {
    "duration": 4,
    "start_time": "2023-05-12T10:17:39.545Z"
   },
   {
    "duration": 4,
    "start_time": "2023-05-12T10:17:41.312Z"
   },
   {
    "duration": 4,
    "start_time": "2023-05-12T10:17:42.800Z"
   },
   {
    "duration": 4,
    "start_time": "2023-05-12T10:17:43.097Z"
   },
   {
    "duration": 6,
    "start_time": "2023-05-12T10:17:43.409Z"
   },
   {
    "duration": 10,
    "start_time": "2023-05-12T10:17:43.955Z"
   },
   {
    "duration": 4,
    "start_time": "2023-05-12T10:17:44.697Z"
   },
   {
    "duration": 27,
    "start_time": "2023-05-12T10:17:45.676Z"
   },
   {
    "duration": 9,
    "start_time": "2023-05-12T10:17:48.369Z"
   },
   {
    "duration": 14,
    "start_time": "2023-05-12T10:17:49.082Z"
   },
   {
    "duration": 11,
    "start_time": "2023-05-12T10:18:23.080Z"
   },
   {
    "duration": 14,
    "start_time": "2023-05-12T10:18:25.090Z"
   },
   {
    "duration": 18,
    "start_time": "2023-05-12T10:18:51.516Z"
   },
   {
    "duration": 20,
    "start_time": "2023-05-12T10:20:05.321Z"
   },
   {
    "duration": 6,
    "start_time": "2023-05-12T10:21:18.890Z"
   },
   {
    "duration": 6,
    "start_time": "2023-05-12T10:21:30.593Z"
   },
   {
    "duration": 6,
    "start_time": "2023-05-12T10:22:59.458Z"
   },
   {
    "duration": 7,
    "start_time": "2023-05-12T10:25:27.237Z"
   },
   {
    "duration": 8,
    "start_time": "2023-05-12T10:27:56.723Z"
   },
   {
    "duration": 12,
    "start_time": "2023-05-12T10:28:10.066Z"
   },
   {
    "duration": 30,
    "start_time": "2023-05-12T10:28:23.098Z"
   },
   {
    "duration": 300,
    "start_time": "2023-05-12T10:28:50.370Z"
   },
   {
    "duration": 391,
    "start_time": "2023-05-12T10:29:02.563Z"
   },
   {
    "duration": 311,
    "start_time": "2023-05-12T10:29:33.186Z"
   },
   {
    "duration": 58,
    "start_time": "2023-05-12T10:31:52.411Z"
   },
   {
    "duration": 338,
    "start_time": "2023-05-12T10:31:58.363Z"
   },
   {
    "duration": 19,
    "start_time": "2023-05-12T10:32:14.323Z"
   },
   {
    "duration": 335,
    "start_time": "2023-05-12T10:32:17.891Z"
   },
   {
    "duration": 323,
    "start_time": "2023-05-12T10:33:09.884Z"
   },
   {
    "duration": 491,
    "start_time": "2023-05-12T10:33:19.438Z"
   },
   {
    "duration": 332,
    "start_time": "2023-05-12T10:33:24.907Z"
   },
   {
    "duration": 378,
    "start_time": "2023-05-12T10:33:35.939Z"
   },
   {
    "duration": 113,
    "start_time": "2023-05-12T10:34:12.412Z"
   },
   {
    "duration": 22,
    "start_time": "2023-05-12T10:34:22.531Z"
   },
   {
    "duration": 23,
    "start_time": "2023-05-12T10:34:41.156Z"
   },
   {
    "duration": 19,
    "start_time": "2023-05-12T10:36:05.772Z"
   },
   {
    "duration": 20,
    "start_time": "2023-05-12T10:36:16.555Z"
   },
   {
    "duration": 22,
    "start_time": "2023-05-12T10:36:31.052Z"
   },
   {
    "duration": 21,
    "start_time": "2023-05-12T10:36:58.310Z"
   },
   {
    "duration": 22,
    "start_time": "2023-05-12T10:37:10.782Z"
   },
   {
    "duration": 522,
    "start_time": "2023-05-12T10:37:21.148Z"
   },
   {
    "duration": 405,
    "start_time": "2023-05-12T10:38:24.622Z"
   },
   {
    "duration": 495,
    "start_time": "2023-05-12T10:38:54.540Z"
   },
   {
    "duration": 5,
    "start_time": "2023-05-12T10:41:00.528Z"
   },
   {
    "duration": 97,
    "start_time": "2023-05-12T10:41:00.535Z"
   },
   {
    "duration": 146,
    "start_time": "2023-05-12T10:41:00.634Z"
   },
   {
    "duration": 24,
    "start_time": "2023-05-12T10:41:00.782Z"
   },
   {
    "duration": 84,
    "start_time": "2023-05-12T10:41:00.808Z"
   },
   {
    "duration": 16,
    "start_time": "2023-05-12T10:41:00.894Z"
   },
   {
    "duration": 70,
    "start_time": "2023-05-12T10:41:00.912Z"
   },
   {
    "duration": 136,
    "start_time": "2023-05-12T10:41:00.983Z"
   },
   {
    "duration": 17,
    "start_time": "2023-05-12T10:41:01.121Z"
   },
   {
    "duration": 63,
    "start_time": "2023-05-12T10:41:01.140Z"
   },
   {
    "duration": 16,
    "start_time": "2023-05-12T10:41:01.206Z"
   },
   {
    "duration": 67,
    "start_time": "2023-05-12T10:41:01.224Z"
   },
   {
    "duration": 149,
    "start_time": "2023-05-12T10:41:01.292Z"
   },
   {
    "duration": 18,
    "start_time": "2023-05-12T10:41:01.444Z"
   },
   {
    "duration": 69,
    "start_time": "2023-05-12T10:41:01.464Z"
   },
   {
    "duration": 21,
    "start_time": "2023-05-12T10:41:01.535Z"
   },
   {
    "duration": 32,
    "start_time": "2023-05-12T10:41:01.559Z"
   },
   {
    "duration": 57,
    "start_time": "2023-05-12T10:41:01.593Z"
   },
   {
    "duration": 99,
    "start_time": "2023-05-12T10:41:01.652Z"
   },
   {
    "duration": 97,
    "start_time": "2023-05-12T10:41:01.753Z"
   },
   {
    "duration": 216,
    "start_time": "2023-05-12T10:41:01.852Z"
   },
   {
    "duration": 10,
    "start_time": "2023-05-12T10:41:02.070Z"
   },
   {
    "duration": 518,
    "start_time": "2023-05-12T10:41:02.081Z"
   },
   {
    "duration": 645,
    "start_time": "2023-05-12T10:41:02.602Z"
   },
   {
    "duration": 556,
    "start_time": "2023-05-12T10:41:03.249Z"
   },
   {
    "duration": 9,
    "start_time": "2023-05-12T10:41:03.806Z"
   },
   {
    "duration": 49,
    "start_time": "2023-05-12T10:41:03.817Z"
   },
   {
    "duration": 4,
    "start_time": "2023-05-12T10:41:03.868Z"
   },
   {
    "duration": 35,
    "start_time": "2023-05-12T10:41:03.876Z"
   },
   {
    "duration": 123,
    "start_time": "2023-05-12T10:41:03.996Z"
   },
   {
    "duration": 27,
    "start_time": "2023-05-12T10:41:04.121Z"
   },
   {
    "duration": 29,
    "start_time": "2023-05-12T10:41:04.150Z"
   },
   {
    "duration": 130,
    "start_time": "2023-05-12T10:41:04.181Z"
   },
   {
    "duration": 34,
    "start_time": "2023-05-12T10:41:04.312Z"
   },
   {
    "duration": 50,
    "start_time": "2023-05-12T10:41:04.349Z"
   },
   {
    "duration": 99,
    "start_time": "2023-05-12T10:41:04.401Z"
   },
   {
    "duration": 11,
    "start_time": "2023-05-12T10:41:04.502Z"
   },
   {
    "duration": 18,
    "start_time": "2023-05-12T10:41:04.515Z"
   },
   {
    "duration": 21,
    "start_time": "2023-05-12T10:41:04.535Z"
   },
   {
    "duration": 14,
    "start_time": "2023-05-12T10:41:04.559Z"
   },
   {
    "duration": 22,
    "start_time": "2023-05-12T10:41:04.575Z"
   },
   {
    "duration": 10,
    "start_time": "2023-05-12T10:41:04.600Z"
   },
   {
    "duration": 14,
    "start_time": "2023-05-12T10:41:04.612Z"
   },
   {
    "duration": 37,
    "start_time": "2023-05-12T10:41:04.628Z"
   },
   {
    "duration": 11,
    "start_time": "2023-05-12T10:41:04.667Z"
   },
   {
    "duration": 26,
    "start_time": "2023-05-12T10:41:04.680Z"
   },
   {
    "duration": 369,
    "start_time": "2023-05-12T10:41:04.708Z"
   },
   {
    "duration": 26,
    "start_time": "2023-05-12T10:41:05.079Z"
   },
   {
    "duration": 104,
    "start_time": "2023-05-12T10:41:05.196Z"
   },
   {
    "duration": 20,
    "start_time": "2023-05-12T10:41:05.302Z"
   },
   {
    "duration": 30,
    "start_time": "2023-05-12T10:41:05.325Z"
   },
   {
    "duration": 40,
    "start_time": "2023-05-12T10:41:05.358Z"
   },
   {
    "duration": 34,
    "start_time": "2023-05-12T10:41:05.400Z"
   },
   {
    "duration": 8,
    "start_time": "2023-05-12T10:41:05.437Z"
   },
   {
    "duration": 47,
    "start_time": "2023-05-12T10:41:05.447Z"
   },
   {
    "duration": 5,
    "start_time": "2023-05-12T10:41:05.496Z"
   },
   {
    "duration": 848,
    "start_time": "2023-05-12T10:41:05.503Z"
   },
   {
    "duration": 1483,
    "start_time": "2023-05-12T10:42:52.451Z"
   },
   {
    "duration": 24,
    "start_time": "2023-05-12T10:42:53.936Z"
   },
   {
    "duration": 164,
    "start_time": "2023-05-12T10:42:53.962Z"
   },
   {
    "duration": 15,
    "start_time": "2023-05-12T10:42:54.129Z"
   },
   {
    "duration": 66,
    "start_time": "2023-05-12T10:42:54.146Z"
   },
   {
    "duration": 18,
    "start_time": "2023-05-12T10:42:54.214Z"
   },
   {
    "duration": 39,
    "start_time": "2023-05-12T10:42:54.234Z"
   },
   {
    "duration": 153,
    "start_time": "2023-05-12T10:42:54.275Z"
   },
   {
    "duration": 15,
    "start_time": "2023-05-12T10:42:54.430Z"
   },
   {
    "duration": 66,
    "start_time": "2023-05-12T10:42:54.448Z"
   },
   {
    "duration": 16,
    "start_time": "2023-05-12T10:42:54.516Z"
   },
   {
    "duration": 43,
    "start_time": "2023-05-12T10:42:54.534Z"
   },
   {
    "duration": 150,
    "start_time": "2023-05-12T10:42:54.579Z"
   },
   {
    "duration": 15,
    "start_time": "2023-05-12T10:42:54.731Z"
   },
   {
    "duration": 68,
    "start_time": "2023-05-12T10:42:54.748Z"
   },
   {
    "duration": 20,
    "start_time": "2023-05-12T10:42:54.818Z"
   },
   {
    "duration": 18,
    "start_time": "2023-05-12T10:42:54.840Z"
   },
   {
    "duration": 70,
    "start_time": "2023-05-12T10:42:54.859Z"
   },
   {
    "duration": 118,
    "start_time": "2023-05-12T10:42:54.931Z"
   },
   {
    "duration": 98,
    "start_time": "2023-05-12T10:42:55.051Z"
   },
   {
    "duration": 193,
    "start_time": "2023-05-12T10:42:55.151Z"
   },
   {
    "duration": 14,
    "start_time": "2023-05-12T10:42:55.346Z"
   },
   {
    "duration": 545,
    "start_time": "2023-05-12T10:42:55.362Z"
   },
   {
    "duration": 641,
    "start_time": "2023-05-12T10:42:55.909Z"
   },
   {
    "duration": 650,
    "start_time": "2023-05-12T10:42:56.552Z"
   },
   {
    "duration": 12,
    "start_time": "2023-05-12T10:42:57.204Z"
   },
   {
    "duration": 46,
    "start_time": "2023-05-12T10:42:57.218Z"
   },
   {
    "duration": 5,
    "start_time": "2023-05-12T10:42:57.268Z"
   },
   {
    "duration": 41,
    "start_time": "2023-05-12T10:42:57.275Z"
   },
   {
    "duration": 197,
    "start_time": "2023-05-12T10:42:57.322Z"
   },
   {
    "duration": 19,
    "start_time": "2023-05-12T10:42:57.521Z"
   },
   {
    "duration": 21,
    "start_time": "2023-05-12T10:42:57.542Z"
   },
   {
    "duration": 141,
    "start_time": "2023-05-12T10:42:57.565Z"
   },
   {
    "duration": 41,
    "start_time": "2023-05-12T10:42:57.708Z"
   },
   {
    "duration": 37,
    "start_time": "2023-05-12T10:42:57.751Z"
   },
   {
    "duration": 103,
    "start_time": "2023-05-12T10:42:57.799Z"
   },
   {
    "duration": 132,
    "start_time": "2023-05-12T10:42:57.906Z"
   },
   {
    "duration": 21,
    "start_time": "2023-05-12T10:42:58.040Z"
   },
   {
    "duration": 27,
    "start_time": "2023-05-12T10:42:58.063Z"
   },
   {
    "duration": 18,
    "start_time": "2023-05-12T10:42:58.092Z"
   },
   {
    "duration": 27,
    "start_time": "2023-05-12T10:42:58.111Z"
   },
   {
    "duration": 29,
    "start_time": "2023-05-12T10:42:58.140Z"
   },
   {
    "duration": 22,
    "start_time": "2023-05-12T10:42:58.170Z"
   },
   {
    "duration": 51,
    "start_time": "2023-05-12T10:42:58.193Z"
   },
   {
    "duration": 13,
    "start_time": "2023-05-12T10:42:58.246Z"
   },
   {
    "duration": 46,
    "start_time": "2023-05-12T10:42:58.260Z"
   },
   {
    "duration": 519,
    "start_time": "2023-05-12T10:42:58.308Z"
   },
   {
    "duration": 70,
    "start_time": "2023-05-12T10:42:58.830Z"
   },
   {
    "duration": 95,
    "start_time": "2023-05-12T10:42:58.903Z"
   },
   {
    "duration": 8,
    "start_time": "2023-05-12T10:42:59.000Z"
   },
   {
    "duration": 27,
    "start_time": "2023-05-12T10:42:59.010Z"
   },
   {
    "duration": 13,
    "start_time": "2023-05-12T10:42:59.039Z"
   },
   {
    "duration": 17,
    "start_time": "2023-05-12T10:42:59.054Z"
   },
   {
    "duration": 6,
    "start_time": "2023-05-12T10:42:59.073Z"
   },
   {
    "duration": 163,
    "start_time": "2023-05-12T10:42:59.081Z"
   },
   {
    "duration": 0,
    "start_time": "2023-05-12T10:42:59.246Z"
   },
   {
    "duration": 0,
    "start_time": "2023-05-12T10:42:59.247Z"
   },
   {
    "duration": 14,
    "start_time": "2023-05-12T10:43:18.958Z"
   },
   {
    "duration": 159,
    "start_time": "2023-05-12T10:44:38.671Z"
   },
   {
    "duration": 178,
    "start_time": "2023-05-12T10:44:59.318Z"
   },
   {
    "duration": 124,
    "start_time": "2023-05-12T10:45:20.566Z"
   },
   {
    "duration": 54,
    "start_time": "2023-05-12T10:46:47.719Z"
   },
   {
    "duration": 12,
    "start_time": "2023-05-12T10:48:43.744Z"
   },
   {
    "duration": 23,
    "start_time": "2023-05-12T11:06:14.660Z"
   },
   {
    "duration": 31,
    "start_time": "2023-05-12T11:06:25.419Z"
   },
   {
    "duration": 24,
    "start_time": "2023-05-12T11:06:31.180Z"
   },
   {
    "duration": 18,
    "start_time": "2023-05-12T11:07:10.684Z"
   },
   {
    "duration": 36,
    "start_time": "2023-05-12T11:07:11.330Z"
   },
   {
    "duration": 6,
    "start_time": "2023-05-12T11:07:13.054Z"
   },
   {
    "duration": 21,
    "start_time": "2023-05-12T11:07:14.066Z"
   },
   {
    "duration": 11,
    "start_time": "2023-05-12T11:08:01.950Z"
   },
   {
    "duration": 7,
    "start_time": "2023-05-12T11:08:15.871Z"
   },
   {
    "duration": 120,
    "start_time": "2023-05-12T11:08:16.522Z"
   },
   {
    "duration": 173,
    "start_time": "2023-05-12T11:08:17.155Z"
   },
   {
    "duration": 17,
    "start_time": "2023-05-12T11:08:17.356Z"
   },
   {
    "duration": 58,
    "start_time": "2023-05-12T11:08:17.921Z"
   },
   {
    "duration": 18,
    "start_time": "2023-05-12T11:08:18.106Z"
   },
   {
    "duration": 43,
    "start_time": "2023-05-12T11:08:18.315Z"
   },
   {
    "duration": 167,
    "start_time": "2023-05-12T11:08:18.508Z"
   },
   {
    "duration": 22,
    "start_time": "2023-05-12T11:08:18.741Z"
   },
   {
    "duration": 55,
    "start_time": "2023-05-12T11:08:18.899Z"
   },
   {
    "duration": 17,
    "start_time": "2023-05-12T11:08:19.523Z"
   },
   {
    "duration": 155,
    "start_time": "2023-05-12T11:08:19.802Z"
   },
   {
    "duration": 162,
    "start_time": "2023-05-12T11:08:20.083Z"
   },
   {
    "duration": 20,
    "start_time": "2023-05-12T11:08:20.357Z"
   },
   {
    "duration": 58,
    "start_time": "2023-05-12T11:08:20.596Z"
   },
   {
    "duration": 26,
    "start_time": "2023-05-12T11:08:20.882Z"
   },
   {
    "duration": 16,
    "start_time": "2023-05-12T11:08:21.131Z"
   },
   {
    "duration": 43,
    "start_time": "2023-05-12T11:08:21.563Z"
   },
   {
    "duration": 112,
    "start_time": "2023-05-12T11:08:22.026Z"
   },
   {
    "duration": 93,
    "start_time": "2023-05-12T11:08:22.604Z"
   },
   {
    "duration": 191,
    "start_time": "2023-05-12T11:08:23.993Z"
   },
   {
    "duration": 563,
    "start_time": "2023-05-12T11:08:26.122Z"
   },
   {
    "duration": 677,
    "start_time": "2023-05-12T11:08:26.688Z"
   },
   {
    "duration": 15,
    "start_time": "2023-05-12T11:08:28.034Z"
   },
   {
    "duration": 53,
    "start_time": "2023-05-12T11:08:28.602Z"
   },
   {
    "duration": 4,
    "start_time": "2023-05-12T11:08:30.619Z"
   },
   {
    "duration": 16,
    "start_time": "2023-05-12T11:08:31.309Z"
   },
   {
    "duration": 39,
    "start_time": "2023-05-12T11:08:32.731Z"
   },
   {
    "duration": 8,
    "start_time": "2023-05-12T11:21:26.981Z"
   },
   {
    "duration": 511,
    "start_time": "2023-05-12T11:21:28.221Z"
   },
   {
    "duration": 526,
    "start_time": "2023-05-12T11:21:28.734Z"
   },
   {
    "duration": 11,
    "start_time": "2023-05-12T11:21:30.389Z"
   },
   {
    "duration": 29,
    "start_time": "2023-05-12T11:21:30.629Z"
   },
   {
    "duration": 6,
    "start_time": "2023-05-12T11:21:31.147Z"
   },
   {
    "duration": 12,
    "start_time": "2023-05-12T11:21:31.357Z"
   },
   {
    "duration": 107,
    "start_time": "2023-05-12T11:21:31.592Z"
   },
   {
    "duration": 4,
    "start_time": "2023-05-12T11:21:32.643Z"
   },
   {
    "duration": 5,
    "start_time": "2023-05-12T11:21:32.923Z"
   },
   {
    "duration": 18,
    "start_time": "2023-05-12T11:21:33.375Z"
   },
   {
    "duration": 5,
    "start_time": "2023-05-12T11:21:33.963Z"
   },
   {
    "duration": 6,
    "start_time": "2023-05-12T11:21:34.556Z"
   },
   {
    "duration": 11,
    "start_time": "2023-05-12T11:23:55.789Z"
   },
   {
    "duration": 9,
    "start_time": "2023-05-12T11:25:14.823Z"
   },
   {
    "duration": 58,
    "start_time": "2023-05-12T11:25:30.741Z"
   },
   {
    "duration": 10,
    "start_time": "2023-05-12T11:25:43.045Z"
   },
   {
    "duration": 81,
    "start_time": "2023-05-12T11:27:38.118Z"
   },
   {
    "duration": 6,
    "start_time": "2023-05-12T11:28:32.558Z"
   },
   {
    "duration": 6,
    "start_time": "2023-05-12T11:29:00.054Z"
   },
   {
    "duration": 9,
    "start_time": "2023-05-12T11:46:34.094Z"
   },
   {
    "duration": 6,
    "start_time": "2023-05-12T11:46:55.046Z"
   },
   {
    "duration": 4,
    "start_time": "2023-05-12T11:56:53.449Z"
   },
   {
    "duration": 26,
    "start_time": "2023-05-12T11:56:53.853Z"
   },
   {
    "duration": 171,
    "start_time": "2023-05-12T11:56:54.450Z"
   },
   {
    "duration": 17,
    "start_time": "2023-05-12T11:56:54.629Z"
   },
   {
    "duration": 63,
    "start_time": "2023-05-12T11:56:55.405Z"
   },
   {
    "duration": 19,
    "start_time": "2023-05-12T11:56:55.607Z"
   },
   {
    "duration": 164,
    "start_time": "2023-05-12T11:56:55.813Z"
   },
   {
    "duration": 246,
    "start_time": "2023-05-12T11:56:56.006Z"
   },
   {
    "duration": 26,
    "start_time": "2023-05-12T11:56:56.254Z"
   },
   {
    "duration": 55,
    "start_time": "2023-05-12T11:56:56.390Z"
   },
   {
    "duration": 16,
    "start_time": "2023-05-12T11:56:57.006Z"
   },
   {
    "duration": 45,
    "start_time": "2023-05-12T11:56:57.222Z"
   },
   {
    "duration": 156,
    "start_time": "2023-05-12T11:56:57.430Z"
   },
   {
    "duration": 16,
    "start_time": "2023-05-12T11:56:57.666Z"
   },
   {
    "duration": 52,
    "start_time": "2023-05-12T11:56:57.854Z"
   },
   {
    "duration": 20,
    "start_time": "2023-05-12T11:56:58.086Z"
   },
   {
    "duration": 19,
    "start_time": "2023-05-12T11:56:58.879Z"
   },
   {
    "duration": 42,
    "start_time": "2023-05-12T11:56:58.900Z"
   },
   {
    "duration": 100,
    "start_time": "2023-05-12T11:56:58.989Z"
   },
   {
    "duration": 86,
    "start_time": "2023-05-12T11:56:59.206Z"
   },
   {
    "duration": 181,
    "start_time": "2023-05-12T11:56:59.765Z"
   },
   {
    "duration": 15,
    "start_time": "2023-05-12T11:57:00.023Z"
   },
   {
    "duration": 536,
    "start_time": "2023-05-12T11:57:02.829Z"
   },
   {
    "duration": 604,
    "start_time": "2023-05-12T11:57:03.366Z"
   },
   {
    "duration": 9,
    "start_time": "2023-05-12T11:57:04.350Z"
   },
   {
    "duration": 28,
    "start_time": "2023-05-12T11:57:04.654Z"
   },
   {
    "duration": 5,
    "start_time": "2023-05-12T11:57:05.291Z"
   },
   {
    "duration": 10,
    "start_time": "2023-05-12T11:57:05.661Z"
   },
   {
    "duration": 1099,
    "start_time": "2023-05-12T11:57:06.197Z"
   },
   {
    "duration": 0,
    "start_time": "2023-05-12T11:57:07.298Z"
   },
   {
    "duration": 7,
    "start_time": "2023-05-12T11:57:07.394Z"
   },
   {
    "duration": 9,
    "start_time": "2023-05-12T11:57:44.286Z"
   },
   {
    "duration": 1001,
    "start_time": "2023-05-12T12:08:43.304Z"
   },
   {
    "duration": 1070,
    "start_time": "2023-05-12T12:08:51.847Z"
   },
   {
    "duration": 17,
    "start_time": "2023-05-12T12:54:01.287Z"
   },
   {
    "duration": 55,
    "start_time": "2023-05-12T12:54:29.517Z"
   },
   {
    "duration": 156,
    "start_time": "2023-05-12T12:54:30.189Z"
   },
   {
    "duration": 16,
    "start_time": "2023-05-12T12:54:30.533Z"
   },
   {
    "duration": 49,
    "start_time": "2023-05-12T12:54:31.125Z"
   },
   {
    "duration": 17,
    "start_time": "2023-05-12T12:54:31.302Z"
   },
   {
    "duration": 39,
    "start_time": "2023-05-12T12:54:31.501Z"
   },
   {
    "duration": 158,
    "start_time": "2023-05-12T12:54:31.712Z"
   },
   {
    "duration": 17,
    "start_time": "2023-05-12T12:54:31.891Z"
   },
   {
    "duration": 48,
    "start_time": "2023-05-12T12:54:32.056Z"
   },
   {
    "duration": 16,
    "start_time": "2023-05-12T12:54:32.645Z"
   },
   {
    "duration": 38,
    "start_time": "2023-05-12T12:54:32.822Z"
   },
   {
    "duration": 147,
    "start_time": "2023-05-12T12:54:33.013Z"
   },
   {
    "duration": 16,
    "start_time": "2023-05-12T12:54:33.183Z"
   },
   {
    "duration": 54,
    "start_time": "2023-05-12T12:54:33.392Z"
   },
   {
    "duration": 21,
    "start_time": "2023-05-12T12:54:33.596Z"
   },
   {
    "duration": 16,
    "start_time": "2023-05-12T12:54:33.798Z"
   },
   {
    "duration": 39,
    "start_time": "2023-05-12T12:54:34.218Z"
   },
   {
    "duration": 103,
    "start_time": "2023-05-12T12:54:34.500Z"
   },
   {
    "duration": 86,
    "start_time": "2023-05-12T12:54:34.955Z"
   },
   {
    "duration": 157,
    "start_time": "2023-05-12T12:54:36.708Z"
   },
   {
    "duration": 13,
    "start_time": "2023-05-12T12:54:37.613Z"
   },
   {
    "duration": 414,
    "start_time": "2023-05-12T12:54:51.198Z"
   },
   {
    "duration": 433,
    "start_time": "2023-05-12T12:55:07.358Z"
   },
   {
    "duration": 599,
    "start_time": "2023-05-12T12:55:15.623Z"
   },
   {
    "duration": 479,
    "start_time": "2023-05-12T12:55:24.005Z"
   },
   {
    "duration": 393,
    "start_time": "2023-05-12T12:55:41.798Z"
   },
   {
    "duration": 433,
    "start_time": "2023-05-12T12:55:51.445Z"
   },
   {
    "duration": 8,
    "start_time": "2023-05-12T12:57:25.596Z"
   },
   {
    "duration": 28,
    "start_time": "2023-05-12T12:57:26.433Z"
   },
   {
    "duration": 4,
    "start_time": "2023-05-12T12:57:27.637Z"
   },
   {
    "duration": 1273,
    "start_time": "2023-05-12T12:57:28.696Z"
   },
   {
    "duration": 16,
    "start_time": "2023-05-12T12:57:44.366Z"
   },
   {
    "duration": 64,
    "start_time": "2023-05-12T12:58:08.038Z"
   },
   {
    "duration": 106,
    "start_time": "2023-05-12T12:59:56.193Z"
   },
   {
    "duration": 7,
    "start_time": "2023-05-12T13:00:15.716Z"
   },
   {
    "duration": 4,
    "start_time": "2023-05-12T13:30:35.589Z"
   },
   {
    "duration": 29,
    "start_time": "2023-05-12T13:31:03.232Z"
   },
   {
    "duration": 19,
    "start_time": "2023-05-12T13:31:24.696Z"
   },
   {
    "duration": 3,
    "start_time": "2023-05-12T13:31:25.695Z"
   },
   {
    "duration": 65,
    "start_time": "2023-05-12T13:31:26.631Z"
   },
   {
    "duration": 4,
    "start_time": "2023-05-12T13:31:41.503Z"
   },
   {
    "duration": 12,
    "start_time": "2023-05-12T13:33:01.417Z"
   },
   {
    "duration": 10,
    "start_time": "2023-05-12T13:33:20.393Z"
   },
   {
    "duration": 10,
    "start_time": "2023-05-12T13:33:28.641Z"
   },
   {
    "duration": 5,
    "start_time": "2023-05-12T13:34:28.368Z"
   },
   {
    "duration": 9,
    "start_time": "2023-05-12T13:34:59.720Z"
   },
   {
    "duration": 8,
    "start_time": "2023-05-12T13:37:34.865Z"
   },
   {
    "duration": 11,
    "start_time": "2023-05-12T13:44:05.617Z"
   },
   {
    "duration": 1956,
    "start_time": "2023-05-12T13:44:15.944Z"
   },
   {
    "duration": 50,
    "start_time": "2023-05-12T13:44:40.456Z"
   },
   {
    "duration": 4,
    "start_time": "2023-05-12T13:44:43.149Z"
   },
   {
    "duration": 19,
    "start_time": "2023-05-12T13:48:01.434Z"
   },
   {
    "duration": 896,
    "start_time": "2023-05-12T13:50:09.417Z"
   },
   {
    "duration": 840,
    "start_time": "2023-05-12T13:53:20.049Z"
   },
   {
    "duration": 878,
    "start_time": "2023-05-12T13:54:55.529Z"
   },
   {
    "duration": 96,
    "start_time": "2023-05-12T13:58:47.642Z"
   },
   {
    "duration": 816,
    "start_time": "2023-05-12T13:59:04.697Z"
   },
   {
    "duration": 910,
    "start_time": "2023-05-12T14:00:04.888Z"
   },
   {
    "duration": 330,
    "start_time": "2023-05-12T14:00:19.522Z"
   },
   {
    "duration": 798,
    "start_time": "2023-05-12T14:00:29.883Z"
   },
   {
    "duration": 801,
    "start_time": "2023-05-12T14:00:38.446Z"
   },
   {
    "duration": 902,
    "start_time": "2023-05-12T14:01:33.130Z"
   },
   {
    "duration": 20,
    "start_time": "2023-05-12T14:02:13.742Z"
   },
   {
    "duration": 10,
    "start_time": "2023-05-12T14:03:21.905Z"
   },
   {
    "duration": 5,
    "start_time": "2023-05-12T14:03:30.687Z"
   },
   {
    "duration": 6,
    "start_time": "2023-05-12T14:03:43.601Z"
   },
   {
    "duration": 1641,
    "start_time": "2023-05-12T14:05:38.683Z"
   },
   {
    "duration": 37,
    "start_time": "2023-05-12T14:05:40.326Z"
   },
   {
    "duration": 192,
    "start_time": "2023-05-12T14:05:40.364Z"
   },
   {
    "duration": 17,
    "start_time": "2023-05-12T14:05:40.558Z"
   },
   {
    "duration": 80,
    "start_time": "2023-05-12T14:05:40.578Z"
   },
   {
    "duration": 16,
    "start_time": "2023-05-12T14:05:40.660Z"
   },
   {
    "duration": 64,
    "start_time": "2023-05-12T14:05:40.678Z"
   },
   {
    "duration": 145,
    "start_time": "2023-05-12T14:05:40.743Z"
   },
   {
    "duration": 20,
    "start_time": "2023-05-12T14:05:40.889Z"
   },
   {
    "duration": 68,
    "start_time": "2023-05-12T14:05:40.911Z"
   },
   {
    "duration": 14,
    "start_time": "2023-05-12T14:05:40.980Z"
   },
   {
    "duration": 72,
    "start_time": "2023-05-12T14:05:40.996Z"
   },
   {
    "duration": 163,
    "start_time": "2023-05-12T14:05:41.070Z"
   },
   {
    "duration": 14,
    "start_time": "2023-05-12T14:05:41.236Z"
   },
   {
    "duration": 47,
    "start_time": "2023-05-12T14:05:41.251Z"
   },
   {
    "duration": 24,
    "start_time": "2023-05-12T14:05:41.299Z"
   },
   {
    "duration": 47,
    "start_time": "2023-05-12T14:05:41.325Z"
   },
   {
    "duration": 51,
    "start_time": "2023-05-12T14:05:41.374Z"
   },
   {
    "duration": 123,
    "start_time": "2023-05-12T14:05:41.427Z"
   },
   {
    "duration": 107,
    "start_time": "2023-05-12T14:05:41.552Z"
   },
   {
    "duration": 262,
    "start_time": "2023-05-12T14:05:41.661Z"
   },
   {
    "duration": 0,
    "start_time": "2023-05-12T14:05:41.926Z"
   },
   {
    "duration": 0,
    "start_time": "2023-05-12T14:05:41.927Z"
   },
   {
    "duration": 0,
    "start_time": "2023-05-12T14:05:41.928Z"
   },
   {
    "duration": 0,
    "start_time": "2023-05-12T14:05:41.929Z"
   },
   {
    "duration": 0,
    "start_time": "2023-05-12T14:05:41.930Z"
   },
   {
    "duration": 0,
    "start_time": "2023-05-12T14:05:41.931Z"
   },
   {
    "duration": 0,
    "start_time": "2023-05-12T14:05:41.933Z"
   },
   {
    "duration": 0,
    "start_time": "2023-05-12T14:05:41.933Z"
   },
   {
    "duration": 0,
    "start_time": "2023-05-12T14:05:41.935Z"
   },
   {
    "duration": 0,
    "start_time": "2023-05-12T14:05:41.936Z"
   },
   {
    "duration": 0,
    "start_time": "2023-05-12T14:05:41.938Z"
   },
   {
    "duration": 0,
    "start_time": "2023-05-12T14:05:41.939Z"
   },
   {
    "duration": 0,
    "start_time": "2023-05-12T14:05:41.940Z"
   },
   {
    "duration": 0,
    "start_time": "2023-05-12T14:05:41.941Z"
   },
   {
    "duration": 0,
    "start_time": "2023-05-12T14:05:41.942Z"
   },
   {
    "duration": 0,
    "start_time": "2023-05-12T14:05:41.943Z"
   },
   {
    "duration": 0,
    "start_time": "2023-05-12T14:05:41.944Z"
   },
   {
    "duration": 0,
    "start_time": "2023-05-12T14:05:41.946Z"
   },
   {
    "duration": 1,
    "start_time": "2023-05-12T14:05:41.947Z"
   },
   {
    "duration": 0,
    "start_time": "2023-05-12T14:05:41.949Z"
   },
   {
    "duration": 0,
    "start_time": "2023-05-12T14:05:41.951Z"
   },
   {
    "duration": 0,
    "start_time": "2023-05-12T14:05:41.952Z"
   },
   {
    "duration": 0,
    "start_time": "2023-05-12T14:05:41.997Z"
   },
   {
    "duration": 0,
    "start_time": "2023-05-12T14:05:41.998Z"
   },
   {
    "duration": 0,
    "start_time": "2023-05-12T14:05:42.000Z"
   },
   {
    "duration": 0,
    "start_time": "2023-05-12T14:05:42.001Z"
   },
   {
    "duration": 0,
    "start_time": "2023-05-12T14:05:42.002Z"
   },
   {
    "duration": 0,
    "start_time": "2023-05-12T14:05:42.003Z"
   },
   {
    "duration": 0,
    "start_time": "2023-05-12T14:05:42.006Z"
   },
   {
    "duration": 0,
    "start_time": "2023-05-12T14:05:42.007Z"
   },
   {
    "duration": 0,
    "start_time": "2023-05-12T14:05:42.008Z"
   },
   {
    "duration": 0,
    "start_time": "2023-05-12T14:05:42.009Z"
   },
   {
    "duration": 0,
    "start_time": "2023-05-12T14:05:42.010Z"
   },
   {
    "duration": 111,
    "start_time": "2023-05-12T14:07:58.849Z"
   },
   {
    "duration": 120,
    "start_time": "2023-05-12T14:11:32.601Z"
   },
   {
    "duration": 15,
    "start_time": "2023-05-12T14:11:33.409Z"
   },
   {
    "duration": 410,
    "start_time": "2023-05-12T14:11:35.217Z"
   },
   {
    "duration": 439,
    "start_time": "2023-05-12T14:11:35.870Z"
   },
   {
    "duration": 415,
    "start_time": "2023-05-12T14:11:36.649Z"
   },
   {
    "duration": 8,
    "start_time": "2023-05-12T14:11:37.729Z"
   },
   {
    "duration": 33,
    "start_time": "2023-05-12T14:11:37.929Z"
   },
   {
    "duration": 5,
    "start_time": "2023-05-12T14:11:38.344Z"
   },
   {
    "duration": 24,
    "start_time": "2023-05-12T14:11:38.593Z"
   },
   {
    "duration": 4,
    "start_time": "2023-05-12T14:11:39.281Z"
   },
   {
    "duration": 5,
    "start_time": "2023-05-12T14:11:39.810Z"
   },
   {
    "duration": 14,
    "start_time": "2023-05-12T14:11:40.017Z"
   },
   {
    "duration": 5,
    "start_time": "2023-05-12T14:11:40.249Z"
   },
   {
    "duration": 4,
    "start_time": "2023-05-12T14:11:40.449Z"
   },
   {
    "duration": 14,
    "start_time": "2023-05-12T14:11:40.896Z"
   },
   {
    "duration": 4,
    "start_time": "2023-05-12T14:11:41.098Z"
   },
   {
    "duration": 5,
    "start_time": "2023-05-12T14:11:41.301Z"
   },
   {
    "duration": 3,
    "start_time": "2023-05-12T14:11:42.537Z"
   },
   {
    "duration": 3,
    "start_time": "2023-05-12T14:11:43.079Z"
   },
   {
    "duration": 4,
    "start_time": "2023-05-12T14:11:43.299Z"
   },
   {
    "duration": 4,
    "start_time": "2023-05-12T14:11:43.649Z"
   },
   {
    "duration": 104,
    "start_time": "2023-05-12T14:11:45.593Z"
   },
   {
    "duration": 18,
    "start_time": "2023-05-12T14:11:45.798Z"
   },
   {
    "duration": 57,
    "start_time": "2023-05-12T14:11:45.995Z"
   },
   {
    "duration": 5,
    "start_time": "2023-05-12T14:11:46.202Z"
   },
   {
    "duration": 749,
    "start_time": "2023-05-12T14:11:49.456Z"
   },
   {
    "duration": 4,
    "start_time": "2023-05-12T14:11:50.207Z"
   },
   {
    "duration": 720,
    "start_time": "2023-05-12T14:11:50.212Z"
   },
   {
    "duration": 751,
    "start_time": "2023-05-12T14:11:50.934Z"
   },
   {
    "duration": 12,
    "start_time": "2023-05-12T14:11:51.686Z"
   },
   {
    "duration": 13,
    "start_time": "2023-05-12T14:11:51.790Z"
   },
   {
    "duration": 335,
    "start_time": "2023-05-12T14:11:51.996Z"
   },
   {
    "duration": 65,
    "start_time": "2023-05-12T14:11:52.334Z"
   },
   {
    "duration": 8,
    "start_time": "2023-05-12T14:11:52.498Z"
   },
   {
    "duration": 12,
    "start_time": "2023-05-12T14:12:07.235Z"
   },
   {
    "duration": 346,
    "start_time": "2023-05-12T14:12:09.057Z"
   },
   {
    "duration": 19,
    "start_time": "2023-05-12T14:12:09.737Z"
   },
   {
    "duration": 5,
    "start_time": "2023-05-12T14:12:49.610Z"
   },
   {
    "duration": 95,
    "start_time": "2023-05-12T14:13:34.428Z"
   },
   {
    "duration": 756,
    "start_time": "2023-05-12T14:13:50.891Z"
   },
   {
    "duration": 786,
    "start_time": "2023-05-12T14:14:44.141Z"
   },
   {
    "duration": 809,
    "start_time": "2023-05-12T14:14:56.050Z"
   },
   {
    "duration": 53,
    "start_time": "2023-05-12T14:15:11.554Z"
   },
   {
    "duration": 54,
    "start_time": "2023-05-12T14:15:18.202Z"
   },
   {
    "duration": 184,
    "start_time": "2023-05-12T14:15:24.793Z"
   },
   {
    "duration": 848,
    "start_time": "2023-05-12T14:15:36.250Z"
   },
   {
    "duration": 853,
    "start_time": "2023-05-12T14:16:04.185Z"
   },
   {
    "duration": 849,
    "start_time": "2023-05-12T14:16:25.522Z"
   },
   {
    "duration": 752,
    "start_time": "2023-05-12T14:17:00.670Z"
   },
   {
    "duration": 862,
    "start_time": "2023-05-12T14:17:25.755Z"
   },
   {
    "duration": 22,
    "start_time": "2023-05-12T14:21:06.715Z"
   },
   {
    "duration": 5,
    "start_time": "2023-05-12T14:21:07.305Z"
   },
   {
    "duration": 11,
    "start_time": "2023-05-12T14:21:07.793Z"
   },
   {
    "duration": 11,
    "start_time": "2023-05-12T14:21:08.387Z"
   },
   {
    "duration": 348,
    "start_time": "2023-05-12T14:21:08.996Z"
   },
   {
    "duration": 20,
    "start_time": "2023-05-12T14:21:09.594Z"
   },
   {
    "duration": 5,
    "start_time": "2023-05-12T14:21:10.685Z"
   },
   {
    "duration": 4,
    "start_time": "2023-05-12T14:21:55.362Z"
   },
   {
    "duration": 4,
    "start_time": "2023-05-12T14:22:13.902Z"
   },
   {
    "duration": 10,
    "start_time": "2023-05-12T14:23:16.874Z"
   },
   {
    "duration": 6,
    "start_time": "2023-05-12T14:23:27.844Z"
   },
   {
    "duration": 10,
    "start_time": "2023-05-12T14:27:46.354Z"
   },
   {
    "duration": 14,
    "start_time": "2023-05-12T14:27:47.156Z"
   },
   {
    "duration": 327,
    "start_time": "2023-05-12T14:27:47.954Z"
   },
   {
    "duration": 14,
    "start_time": "2023-05-12T14:27:48.594Z"
   },
   {
    "duration": 4,
    "start_time": "2023-05-12T14:27:49.392Z"
   },
   {
    "duration": 4,
    "start_time": "2023-05-12T14:27:50.026Z"
   },
   {
    "duration": 4,
    "start_time": "2023-05-12T14:45:58.135Z"
   },
   {
    "duration": 4,
    "start_time": "2023-05-12T14:48:57.176Z"
   },
   {
    "duration": 42,
    "start_time": "2023-05-12T14:48:58.135Z"
   },
   {
    "duration": 5,
    "start_time": "2023-05-12T14:49:00.067Z"
   },
   {
    "duration": 5,
    "start_time": "2023-05-12T14:49:31.651Z"
   },
   {
    "duration": 4,
    "start_time": "2023-05-12T14:57:48.510Z"
   },
   {
    "duration": 40,
    "start_time": "2023-05-12T14:57:49.247Z"
   },
   {
    "duration": 4,
    "start_time": "2023-05-12T14:57:50.415Z"
   },
   {
    "duration": 827,
    "start_time": "2023-05-12T14:58:13.690Z"
   },
   {
    "duration": 5,
    "start_time": "2023-05-12T14:58:14.678Z"
   },
   {
    "duration": 711,
    "start_time": "2023-05-12T14:58:16.889Z"
   },
   {
    "duration": 734,
    "start_time": "2023-05-12T14:58:17.602Z"
   },
   {
    "duration": 812,
    "start_time": "2023-05-12T15:00:08.298Z"
   },
   {
    "duration": 806,
    "start_time": "2023-05-12T15:00:33.222Z"
   },
   {
    "duration": 785,
    "start_time": "2023-05-12T15:01:13.050Z"
   },
   {
    "duration": 782,
    "start_time": "2023-05-12T15:01:59.485Z"
   },
   {
    "duration": 778,
    "start_time": "2023-05-12T15:02:07.919Z"
   },
   {
    "duration": 751,
    "start_time": "2023-05-12T15:02:15.597Z"
   },
   {
    "duration": 797,
    "start_time": "2023-05-12T15:02:36.901Z"
   },
   {
    "duration": 817,
    "start_time": "2023-05-12T15:02:42.934Z"
   },
   {
    "duration": 755,
    "start_time": "2023-05-12T15:02:50.455Z"
   },
   {
    "duration": 732,
    "start_time": "2023-05-12T15:03:28.690Z"
   },
   {
    "duration": 751,
    "start_time": "2023-05-12T15:03:47.705Z"
   },
   {
    "duration": 11,
    "start_time": "2023-05-12T15:06:05.433Z"
   },
   {
    "duration": 23,
    "start_time": "2023-05-12T15:07:34.451Z"
   },
   {
    "duration": 4,
    "start_time": "2023-05-12T15:07:35.231Z"
   },
   {
    "duration": 59,
    "start_time": "2023-05-12T15:07:36.017Z"
   },
   {
    "duration": 3,
    "start_time": "2023-05-12T15:07:40.432Z"
   },
   {
    "duration": 744,
    "start_time": "2023-05-12T15:07:45.625Z"
   },
   {
    "duration": 4,
    "start_time": "2023-05-12T15:07:46.371Z"
   },
   {
    "duration": 786,
    "start_time": "2023-05-12T15:07:46.647Z"
   },
   {
    "duration": 731,
    "start_time": "2023-05-12T15:07:47.435Z"
   },
   {
    "duration": 153,
    "start_time": "2023-05-12T15:35:29.397Z"
   },
   {
    "duration": 198,
    "start_time": "2023-05-12T15:35:40.329Z"
   },
   {
    "duration": 126,
    "start_time": "2023-05-12T15:36:52.835Z"
   },
   {
    "duration": 115,
    "start_time": "2023-05-12T15:37:24.748Z"
   },
   {
    "duration": 287,
    "start_time": "2023-05-12T15:38:44.883Z"
   },
   {
    "duration": 199,
    "start_time": "2023-05-12T15:38:58.951Z"
   },
   {
    "duration": 67,
    "start_time": "2023-05-12T15:39:24.736Z"
   },
   {
    "duration": 221,
    "start_time": "2023-05-12T15:39:46.734Z"
   },
   {
    "duration": 230,
    "start_time": "2023-05-12T15:40:51.004Z"
   },
   {
    "duration": 10,
    "start_time": "2023-05-12T15:41:54.419Z"
   },
   {
    "duration": 10,
    "start_time": "2023-05-12T15:44:26.987Z"
   },
   {
    "duration": 10,
    "start_time": "2023-05-12T15:45:42.806Z"
   },
   {
    "duration": 104,
    "start_time": "2023-05-12T15:50:32.357Z"
   },
   {
    "duration": 4,
    "start_time": "2023-05-12T15:50:43.107Z"
   },
   {
    "duration": 108,
    "start_time": "2023-05-12T15:50:59.943Z"
   },
   {
    "duration": 18880,
    "start_time": "2023-05-12T15:51:09.111Z"
   },
   {
    "duration": 102,
    "start_time": "2023-05-12T15:52:47.558Z"
   },
   {
    "duration": 93,
    "start_time": "2023-05-12T15:53:06.461Z"
   },
   {
    "duration": 83,
    "start_time": "2023-05-12T15:53:59.837Z"
   },
   {
    "duration": 92,
    "start_time": "2023-05-12T15:54:16.491Z"
   },
   {
    "duration": 117,
    "start_time": "2023-05-12T15:55:25.895Z"
   },
   {
    "duration": 9,
    "start_time": "2023-05-12T15:55:59.741Z"
   },
   {
    "duration": 9,
    "start_time": "2023-05-12T15:58:10.190Z"
   },
   {
    "duration": 730,
    "start_time": "2023-05-12T15:58:30.797Z"
   },
   {
    "duration": 201,
    "start_time": "2023-05-12T16:00:10.879Z"
   },
   {
    "duration": 177,
    "start_time": "2023-05-12T16:01:54.721Z"
   },
   {
    "duration": 206,
    "start_time": "2023-05-12T16:02:13.579Z"
   },
   {
    "duration": 275,
    "start_time": "2023-05-12T16:06:02.590Z"
   },
   {
    "duration": 287,
    "start_time": "2023-05-12T16:06:13.453Z"
   },
   {
    "duration": 240,
    "start_time": "2023-05-12T16:06:38.732Z"
   },
   {
    "duration": 250,
    "start_time": "2023-05-12T16:07:02.133Z"
   },
   {
    "duration": 237,
    "start_time": "2023-05-12T16:07:16.335Z"
   },
   {
    "duration": 291,
    "start_time": "2023-05-12T16:07:33.382Z"
   },
   {
    "duration": 300,
    "start_time": "2023-05-12T16:08:31.591Z"
   },
   {
    "duration": 294,
    "start_time": "2023-05-12T16:08:40.246Z"
   },
   {
    "duration": 180,
    "start_time": "2023-05-12T16:09:16.046Z"
   },
   {
    "duration": 171,
    "start_time": "2023-05-12T16:09:27.552Z"
   },
   {
    "duration": 436,
    "start_time": "2023-05-12T16:09:35.127Z"
   },
   {
    "duration": 303,
    "start_time": "2023-05-12T16:09:49.045Z"
   },
   {
    "duration": 292,
    "start_time": "2023-05-12T16:09:54.655Z"
   },
   {
    "duration": 238,
    "start_time": "2023-05-12T16:12:45.534Z"
   },
   {
    "duration": 282,
    "start_time": "2023-05-12T16:12:59.099Z"
   },
   {
    "duration": 4,
    "start_time": "2023-05-12T16:19:52.006Z"
   },
   {
    "duration": 187,
    "start_time": "2023-05-12T16:19:58.310Z"
   },
   {
    "duration": 162,
    "start_time": "2023-05-12T16:20:25.629Z"
   },
   {
    "duration": 197,
    "start_time": "2023-05-12T16:20:36.695Z"
   },
   {
    "duration": 6,
    "start_time": "2023-05-12T16:21:21.947Z"
   },
   {
    "duration": 7,
    "start_time": "2023-05-12T16:21:41.284Z"
   },
   {
    "duration": 239,
    "start_time": "2023-05-12T16:24:40.528Z"
   },
   {
    "duration": 304,
    "start_time": "2023-05-12T16:24:54.463Z"
   },
   {
    "duration": 288,
    "start_time": "2023-05-12T16:25:18.079Z"
   },
   {
    "duration": 291,
    "start_time": "2023-05-12T16:25:34.062Z"
   },
   {
    "duration": 298,
    "start_time": "2023-05-12T16:25:40.607Z"
   },
   {
    "duration": 317,
    "start_time": "2023-05-12T16:27:09.439Z"
   },
   {
    "duration": 290,
    "start_time": "2023-05-12T16:27:30.792Z"
   },
   {
    "duration": 457,
    "start_time": "2023-05-12T16:30:07.272Z"
   },
   {
    "duration": 333,
    "start_time": "2023-05-12T16:30:41.287Z"
   },
   {
    "duration": 313,
    "start_time": "2023-05-12T16:30:49.736Z"
   },
   {
    "duration": 324,
    "start_time": "2023-05-12T16:34:45.496Z"
   },
   {
    "duration": 324,
    "start_time": "2023-05-12T16:34:57.320Z"
   },
   {
    "duration": 484,
    "start_time": "2023-05-12T16:35:06.463Z"
   },
   {
    "duration": 480,
    "start_time": "2023-05-12T16:35:51.423Z"
   },
   {
    "duration": 464,
    "start_time": "2023-05-12T16:37:06.679Z"
   },
   {
    "duration": 566,
    "start_time": "2023-05-12T16:38:24.711Z"
   },
   {
    "duration": 525,
    "start_time": "2023-05-12T16:38:46.678Z"
   },
   {
    "duration": 509,
    "start_time": "2023-05-12T16:41:38.280Z"
   },
   {
    "duration": 547,
    "start_time": "2023-05-12T16:41:44.993Z"
   },
   {
    "duration": 515,
    "start_time": "2023-05-12T16:43:38.328Z"
   },
   {
    "duration": 576,
    "start_time": "2023-05-12T16:43:56.936Z"
   },
   {
    "duration": 541,
    "start_time": "2023-05-12T16:44:17.384Z"
   },
   {
    "duration": 521,
    "start_time": "2023-05-12T16:53:31.250Z"
   },
   {
    "duration": 51,
    "start_time": "2023-05-12T16:54:01.281Z"
   },
   {
    "duration": 505,
    "start_time": "2023-05-12T16:54:08.741Z"
   },
   {
    "duration": 438,
    "start_time": "2023-05-12T16:55:12.990Z"
   },
   {
    "duration": 63,
    "start_time": "2023-05-12T16:58:29.289Z"
   },
   {
    "duration": 1301,
    "start_time": "2023-05-12T17:09:02.213Z"
   },
   {
    "duration": 23,
    "start_time": "2023-05-12T17:09:03.515Z"
   },
   {
    "duration": 141,
    "start_time": "2023-05-12T17:09:03.540Z"
   },
   {
    "duration": 15,
    "start_time": "2023-05-12T17:09:03.682Z"
   },
   {
    "duration": 52,
    "start_time": "2023-05-12T17:09:03.699Z"
   },
   {
    "duration": 15,
    "start_time": "2023-05-12T17:09:03.753Z"
   },
   {
    "duration": 44,
    "start_time": "2023-05-12T17:09:03.769Z"
   },
   {
    "duration": 140,
    "start_time": "2023-05-12T17:09:03.815Z"
   },
   {
    "duration": 16,
    "start_time": "2023-05-12T17:09:03.957Z"
   },
   {
    "duration": 58,
    "start_time": "2023-05-12T17:09:03.975Z"
   },
   {
    "duration": 17,
    "start_time": "2023-05-12T17:09:04.035Z"
   },
   {
    "duration": 59,
    "start_time": "2023-05-12T17:09:04.054Z"
   },
   {
    "duration": 156,
    "start_time": "2023-05-12T17:09:04.115Z"
   },
   {
    "duration": 15,
    "start_time": "2023-05-12T17:09:04.273Z"
   },
   {
    "duration": 57,
    "start_time": "2023-05-12T17:09:04.298Z"
   },
   {
    "duration": 22,
    "start_time": "2023-05-12T17:09:04.358Z"
   },
   {
    "duration": 19,
    "start_time": "2023-05-12T17:09:04.398Z"
   },
   {
    "duration": 42,
    "start_time": "2023-05-12T17:09:04.419Z"
   },
   {
    "duration": 153,
    "start_time": "2023-05-12T17:09:04.463Z"
   },
   {
    "duration": 108,
    "start_time": "2023-05-12T17:09:04.618Z"
   },
   {
    "duration": 206,
    "start_time": "2023-05-12T17:09:04.727Z"
   },
   {
    "duration": 15,
    "start_time": "2023-05-12T17:09:04.935Z"
   },
   {
    "duration": 524,
    "start_time": "2023-05-12T17:09:04.952Z"
   },
   {
    "duration": 486,
    "start_time": "2023-05-12T17:09:05.479Z"
   },
   {
    "duration": 534,
    "start_time": "2023-05-12T17:09:05.967Z"
   },
   {
    "duration": 9,
    "start_time": "2023-05-12T17:09:06.503Z"
   },
   {
    "duration": 58,
    "start_time": "2023-05-12T17:09:06.514Z"
   },
   {
    "duration": 4,
    "start_time": "2023-05-12T17:09:06.576Z"
   },
   {
    "duration": 73,
    "start_time": "2023-05-12T17:09:06.581Z"
   },
   {
    "duration": 101,
    "start_time": "2023-05-12T17:09:06.700Z"
   },
   {
    "duration": 26,
    "start_time": "2023-05-12T17:09:06.803Z"
   },
   {
    "duration": 45,
    "start_time": "2023-05-12T17:09:06.831Z"
   },
   {
    "duration": 120,
    "start_time": "2023-05-12T17:09:06.878Z"
   },
   {
    "duration": 29,
    "start_time": "2023-05-12T17:09:07.000Z"
   },
   {
    "duration": 65,
    "start_time": "2023-05-12T17:09:07.031Z"
   },
   {
    "duration": 104,
    "start_time": "2023-05-12T17:09:07.099Z"
   },
   {
    "duration": 25,
    "start_time": "2023-05-12T17:09:07.205Z"
   },
   {
    "duration": 17,
    "start_time": "2023-05-12T17:09:07.232Z"
   },
   {
    "duration": 39,
    "start_time": "2023-05-12T17:09:07.250Z"
   },
   {
    "duration": 27,
    "start_time": "2023-05-12T17:09:07.291Z"
   },
   {
    "duration": 22,
    "start_time": "2023-05-12T17:09:07.320Z"
   },
   {
    "duration": 183,
    "start_time": "2023-05-12T17:09:07.344Z"
   },
   {
    "duration": 71,
    "start_time": "2023-05-12T17:09:07.529Z"
   },
   {
    "duration": 96,
    "start_time": "2023-05-12T17:09:07.605Z"
   },
   {
    "duration": 147,
    "start_time": "2023-05-12T17:09:07.703Z"
   },
   {
    "duration": 5,
    "start_time": "2023-05-12T17:09:07.852Z"
   },
   {
    "duration": 761,
    "start_time": "2023-05-12T17:09:07.859Z"
   },
   {
    "duration": 475,
    "start_time": "2023-05-12T17:09:08.622Z"
   },
   {
    "duration": 756,
    "start_time": "2023-05-12T17:09:09.099Z"
   },
   {
    "duration": 473,
    "start_time": "2023-05-12T17:09:09.856Z"
   },
   {
    "duration": 793,
    "start_time": "2023-05-12T17:09:10.331Z"
   },
   {
    "duration": 519,
    "start_time": "2023-05-12T17:09:11.125Z"
   },
   {
    "duration": 10,
    "start_time": "2023-05-12T17:09:11.646Z"
   },
   {
    "duration": 12,
    "start_time": "2023-05-12T17:09:11.658Z"
   },
   {
    "duration": 332,
    "start_time": "2023-05-12T17:09:11.671Z"
   },
   {
    "duration": 92,
    "start_time": "2023-05-12T17:09:12.005Z"
   },
   {
    "duration": 100,
    "start_time": "2023-05-12T17:09:12.100Z"
   },
   {
    "duration": 11,
    "start_time": "2023-05-12T17:09:12.201Z"
   },
   {
    "duration": 10,
    "start_time": "2023-05-12T17:09:12.213Z"
   },
   {
    "duration": 14,
    "start_time": "2023-05-12T17:09:12.224Z"
   },
   {
    "duration": 417,
    "start_time": "2023-05-12T17:09:12.240Z"
   },
   {
    "duration": 42,
    "start_time": "2023-05-12T17:09:12.659Z"
   },
   {
    "duration": 96,
    "start_time": "2023-05-12T17:09:12.703Z"
   },
   {
    "duration": 5,
    "start_time": "2023-05-12T17:09:12.801Z"
   },
   {
    "duration": 11,
    "start_time": "2023-05-12T17:09:12.808Z"
   },
   {
    "duration": 10,
    "start_time": "2023-05-12T17:09:12.821Z"
   },
   {
    "duration": 362,
    "start_time": "2023-05-12T17:09:12.832Z"
   },
   {
    "duration": 14,
    "start_time": "2023-05-12T17:09:13.195Z"
   },
   {
    "duration": 191,
    "start_time": "2023-05-12T17:09:13.211Z"
   },
   {
    "duration": 16,
    "start_time": "2023-05-12T17:09:13.403Z"
   },
   {
    "duration": 11,
    "start_time": "2023-05-12T17:09:29.969Z"
   },
   {
    "duration": 82,
    "start_time": "2023-05-13T09:57:15.736Z"
   }
  ],
  "kernelspec": {
   "display_name": "Python 3",
   "language": "python",
   "name": "python3"
  },
  "language_info": {
   "codemirror_mode": {
    "name": "ipython",
    "version": 3
   },
   "file_extension": ".py",
   "mimetype": "text/x-python",
   "name": "python",
   "nbconvert_exporter": "python",
   "pygments_lexer": "ipython3",
   "version": "3.8.5"
  },
  "toc": {
   "base_numbering": 1,
   "nav_menu": {},
   "number_sections": true,
   "sideBar": true,
   "skip_h1_title": true,
   "title_cell": "Table of Contents",
   "title_sidebar": "Contents",
   "toc_cell": false,
   "toc_position": {},
   "toc_section_display": true,
   "toc_window_display": false
  }
 },
 "nbformat": 4,
 "nbformat_minor": 2
}
