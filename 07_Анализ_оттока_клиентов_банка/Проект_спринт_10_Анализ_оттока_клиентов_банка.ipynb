{
 "cells": [
  {
   "cell_type": "markdown",
   "metadata": {},
   "source": [
    "# Проект - Анализ оттока клиентов банка"
   ]
  },
  {
   "cell_type": "markdown",
   "metadata": {},
   "source": [
    "## Задачи проекта\n",
    "- исследовать различные модели классификации \n",
    "- сделать балансировку классов\n",
    "- выбрать лучшую модель с оценкой F1 > 0.59, проверьте F1-меру на тестовой выборке\n"
   ]
  },
  {
   "cell_type": "markdown",
   "metadata": {
    "toc": true
   },
   "source": [
    "<h1>Содержание<span class=\"tocSkip\"></span></h1>\n",
    "<div class=\"toc\"><ul class=\"toc-item\"><li><span><a href=\"#Подготовка-данных\" data-toc-modified-id=\"Подготовка-данных-1\"><span class=\"toc-item-num\">1&nbsp;&nbsp;</span>Подготовка данных</a></span><ul class=\"toc-item\"><li><span><a href=\"#Обработка-пропущенных-значений\" data-toc-modified-id=\"Обработка-пропущенных-значений-1.1\"><span class=\"toc-item-num\">1.1&nbsp;&nbsp;</span>Обработка пропущенных значений</a></span></li><li><span><a href=\"#Итоги,-выводы--п.1\" data-toc-modified-id=\"Итоги,-выводы--п.1-1.2\"><span class=\"toc-item-num\">1.2&nbsp;&nbsp;</span>Итоги, выводы  п.1</a></span></li></ul></li><li><span><a href=\"#Исследование-задачи\" data-toc-modified-id=\"Исследование-задачи-2\"><span class=\"toc-item-num\">2&nbsp;&nbsp;</span>Исследование задачи</a></span><ul class=\"toc-item\"><li><span><a href=\"#Итоги,-выводы--п.2\" data-toc-modified-id=\"Итоги,-выводы--п.2-2.1\"><span class=\"toc-item-num\">2.1&nbsp;&nbsp;</span>Итоги, выводы  п.2</a></span></li></ul></li><li><span><a href=\"#Борьба-с-дисбалансом\" data-toc-modified-id=\"Борьба-с-дисбалансом-3\"><span class=\"toc-item-num\">3&nbsp;&nbsp;</span>Борьба с дисбалансом</a></span><ul class=\"toc-item\"><li><span><a href=\"#Вариант-1---чтобы-убрать-дисбаланс-классов-используем-при-формировании-модели-аргумент-class_weight='balanced'\" data-toc-modified-id=\"Вариант-1---чтобы-убрать-дисбаланс-классов-используем-при-формировании-модели-аргумент-class_weight='balanced'-3.1\"><span class=\"toc-item-num\">3.1&nbsp;&nbsp;</span>Вариант 1 - чтобы убрать дисбаланс классов используем при формировании модели аргумент class_weight='balanced'</a></span></li><li><span><a href=\"#Вариант-2---чтобы-убрать-дисбаланс-классов-используем-при-формировании-модели-метод-upsampling\" data-toc-modified-id=\"Вариант-2---чтобы-убрать-дисбаланс-классов-используем-при-формировании-модели-метод-upsampling-3.2\"><span class=\"toc-item-num\">3.2&nbsp;&nbsp;</span>Вариант 2 - чтобы убрать дисбаланс классов используем при формировании модели метод upsampling</a></span></li><li><span><a href=\"#Вариант-3---чтобы-убрать-дисбаланс-классов-используем-при-формировании-модели-метод-downsampling\" data-toc-modified-id=\"Вариант-3---чтобы-убрать-дисбаланс-классов-используем-при-формировании-модели-метод-downsampling-3.3\"><span class=\"toc-item-num\">3.3&nbsp;&nbsp;</span>Вариант 3 - чтобы убрать дисбаланс классов используем при формировании модели метод downsampling</a></span></li><li><span><a href=\"#Итоги,-выводы--п.3\" data-toc-modified-id=\"Итоги,-выводы--п.3-3.4\"><span class=\"toc-item-num\">3.4&nbsp;&nbsp;</span>Итоги, выводы  п.3</a></span></li></ul></li><li><span><a href=\"#Тестирование-модели\" data-toc-modified-id=\"Тестирование-модели-4\"><span class=\"toc-item-num\">4&nbsp;&nbsp;</span>Тестирование модели</a></span><ul class=\"toc-item\"><li><span><a href=\"#Итоги,-выводы--п.4\" data-toc-modified-id=\"Итоги,-выводы--п.4-4.1\"><span class=\"toc-item-num\">4.1&nbsp;&nbsp;</span>Итоги, выводы  п.4</a></span></li></ul></li><li><span><a href=\"#Чек-лист-готовности-проекта\" data-toc-modified-id=\"Чек-лист-готовности-проекта-5\"><span class=\"toc-item-num\">5&nbsp;&nbsp;</span>Чек-лист готовности проекта</a></span></li><li><span><a href=\"#преобразование-и-исследование-df-data_2\" data-toc-modified-id=\"преобразование-и-исследование-df-data_2-6\"><span class=\"toc-item-num\">6&nbsp;&nbsp;</span>преобразование и исследование df data_2</a></span><ul class=\"toc-item\"><li><span><a href=\"#подготовка-df-data_2\" data-toc-modified-id=\"подготовка-df-data_2-6.1\"><span class=\"toc-item-num\">6.1&nbsp;&nbsp;</span>подготовка df data_2</a></span></li><li><span><a href=\"#Анализ-классов-и-исследование-несбалансированной-модели\" data-toc-modified-id=\"Анализ-классов-и-исследование-несбалансированной-модели-6.2\"><span class=\"toc-item-num\">6.2&nbsp;&nbsp;</span>Анализ классов и исследование несбалансированной модели</a></span></li><li><span><a href=\"#Итоги,-выводы--п.6.1\" data-toc-modified-id=\"Итоги,-выводы--п.6.1-6.3\"><span class=\"toc-item-num\">6.3&nbsp;&nbsp;</span>Итоги, выводы  п.6.1</a></span></li><li><span><a href=\"#чтобы-убрать-дисбаланс-классов-используем-при-формировании-модели-аргумент-class_weight='balanced'\" data-toc-modified-id=\"чтобы-убрать-дисбаланс-классов-используем-при-формировании-модели-аргумент-class_weight='balanced'-6.4\"><span class=\"toc-item-num\">6.4&nbsp;&nbsp;</span>чтобы убрать дисбаланс классов используем при формировании модели аргумент class_weight='balanced'</a></span></li><li><span><a href=\"#Итоги,-выводы-п.6\" data-toc-modified-id=\"Итоги,-выводы-п.6-6.5\"><span class=\"toc-item-num\">6.5&nbsp;&nbsp;</span>Итоги, выводы п.6</a></span></li></ul></li><li><span><a href=\"#Сравнение-метрик-по-df-data-и-data_2\" data-toc-modified-id=\"Сравнение-метрик-по-df-data-и-data_2-7\"><span class=\"toc-item-num\">7&nbsp;&nbsp;</span>Сравнение метрик по df data и data_2</a></span></li><li><span><a href=\"#feature_importances_\" data-toc-modified-id=\"feature_importances_-8\"><span class=\"toc-item-num\">8&nbsp;&nbsp;</span>feature_importances_</a></span></li></ul></div>"
   ]
  },
  {
   "cell_type": "markdown",
   "metadata": {},
   "source": [
    "## Описание проекта\n",
    "\n",
    "- Из «Бета-Банка» стали уходить клиенты. Каждый месяц. Немного, но заметно. Банковские маркетологи посчитали: сохранять текущих клиентов дешевле, чем привлекать новых.\n",
    "\n",
    "- Нужно спрогнозировать, уйдёт клиент из банка в ближайшее время или нет. Вам предоставлены исторические данные о поведении клиентов и расторжении договоров с банком. \n",
    "\n",
    "- Постройте модель с предельно большим значением *F1*-меры. Чтобы сдать проект успешно, нужно довести метрику до 0.59. Проверьте *F1*-меру на тестовой выборке самостоятельно.\n",
    "\n",
    "- Дополнительно измеряйте *AUC-ROC*, сравнивайте её значение с *F1*-мерой.\n",
    "\n",
    "Источник данных: [https://www.kaggle.com/barelydedicated/bank-customer-churn-modeling](https://www.kaggle.com/barelydedicated/bank-customer-churn-modeling)"
   ]
  },
  {
   "cell_type": "markdown",
   "metadata": {},
   "source": [
    "# Описание данных\n",
    "- RowNumber — индекс строки в данных\n",
    "- CustomerId — уникальный идентификатор клиента\n",
    "- Surname — фамилия\n",
    "- CreditScore — кредитный рейтинг\n",
    "- Geography — страна проживания\n",
    "- Gender — пол\n",
    "- Age — возраст\n",
    "- Tenure — сколько лет человек является клиентом банка\n",
    "- Balance — баланс на счёте\n",
    "- NumOfProducts — количество продуктов банка, используемых клиентом\n",
    "- HasCrCard — наличие кредитной карты\n",
    "- IsActiveMember — активность клиента\n",
    "- EstimatedSalary — предполагаемая зарплата\n",
    "\n",
    "# Целевой признак\n",
    "\n",
    "- Exited — факт ухода клиента"
   ]
  },
  {
   "cell_type": "markdown",
   "metadata": {},
   "source": [
    "Инструкция по выполнению проекта\n",
    "1. Загрузите и подготовьте данные. Поясните порядок действий.\n",
    "2. Исследуйте баланс классов, обучите модель без учёта дисбаланса. Кратко опишите выводы.\n",
    "3. Улучшите качество модели, учитывая дисбаланс классов. Обучите разные модели и найдите лучшую. Кратко опишите выводы.\n",
    "4. Проведите финальное тестирование."
   ]
  },
  {
   "cell_type": "code",
   "execution_count": 1,
   "metadata": {},
   "outputs": [],
   "source": [
    "# импорт необходимых библиотек\n",
    "import pandas as pd\n",
    "import numpy as np\n",
    "import random as random\n",
    "\n",
    "from sklearn.model_selection import train_test_split\n",
    "from sklearn.tree import DecisionTreeClassifier\n",
    "from sklearn.ensemble import RandomForestClassifier\n",
    "from sklearn.linear_model import LogisticRegression\n",
    "from sklearn.preprocessing import StandardScaler \n",
    "\n",
    "from sklearn.metrics import accuracy_score \n",
    "from sklearn.metrics import f1_score\n",
    "from sklearn.metrics import roc_auc_score\n",
    "from sklearn.utils import shuffle"
   ]
  },
  {
   "cell_type": "markdown",
   "metadata": {},
   "source": [
    "## 1.Подготовка данных"
   ]
  },
  {
   "cell_type": "code",
   "execution_count": 2,
   "metadata": {
    "scrolled": true
   },
   "outputs": [
    {
     "data": {
      "text/html": [
       "<div>\n",
       "<style scoped>\n",
       "    .dataframe tbody tr th:only-of-type {\n",
       "        vertical-align: middle;\n",
       "    }\n",
       "\n",
       "    .dataframe tbody tr th {\n",
       "        vertical-align: top;\n",
       "    }\n",
       "\n",
       "    .dataframe thead th {\n",
       "        text-align: right;\n",
       "    }\n",
       "</style>\n",
       "<table border=\"1\" class=\"dataframe\">\n",
       "  <thead>\n",
       "    <tr style=\"text-align: right;\">\n",
       "      <th></th>\n",
       "      <th>RowNumber</th>\n",
       "      <th>CustomerId</th>\n",
       "      <th>Surname</th>\n",
       "      <th>CreditScore</th>\n",
       "      <th>Geography</th>\n",
       "      <th>Gender</th>\n",
       "      <th>Age</th>\n",
       "      <th>Tenure</th>\n",
       "      <th>Balance</th>\n",
       "      <th>NumOfProducts</th>\n",
       "      <th>HasCrCard</th>\n",
       "      <th>IsActiveMember</th>\n",
       "      <th>EstimatedSalary</th>\n",
       "      <th>Exited</th>\n",
       "    </tr>\n",
       "  </thead>\n",
       "  <tbody>\n",
       "    <tr>\n",
       "      <th>0</th>\n",
       "      <td>1</td>\n",
       "      <td>15634602</td>\n",
       "      <td>Hargrave</td>\n",
       "      <td>619</td>\n",
       "      <td>France</td>\n",
       "      <td>Female</td>\n",
       "      <td>42</td>\n",
       "      <td>2.0</td>\n",
       "      <td>0.00</td>\n",
       "      <td>1</td>\n",
       "      <td>1</td>\n",
       "      <td>1</td>\n",
       "      <td>101348.88</td>\n",
       "      <td>1</td>\n",
       "    </tr>\n",
       "    <tr>\n",
       "      <th>1</th>\n",
       "      <td>2</td>\n",
       "      <td>15647311</td>\n",
       "      <td>Hill</td>\n",
       "      <td>608</td>\n",
       "      <td>Spain</td>\n",
       "      <td>Female</td>\n",
       "      <td>41</td>\n",
       "      <td>1.0</td>\n",
       "      <td>83807.86</td>\n",
       "      <td>1</td>\n",
       "      <td>0</td>\n",
       "      <td>1</td>\n",
       "      <td>112542.58</td>\n",
       "      <td>0</td>\n",
       "    </tr>\n",
       "    <tr>\n",
       "      <th>2</th>\n",
       "      <td>3</td>\n",
       "      <td>15619304</td>\n",
       "      <td>Onio</td>\n",
       "      <td>502</td>\n",
       "      <td>France</td>\n",
       "      <td>Female</td>\n",
       "      <td>42</td>\n",
       "      <td>8.0</td>\n",
       "      <td>159660.80</td>\n",
       "      <td>3</td>\n",
       "      <td>1</td>\n",
       "      <td>0</td>\n",
       "      <td>113931.57</td>\n",
       "      <td>1</td>\n",
       "    </tr>\n",
       "    <tr>\n",
       "      <th>3</th>\n",
       "      <td>4</td>\n",
       "      <td>15701354</td>\n",
       "      <td>Boni</td>\n",
       "      <td>699</td>\n",
       "      <td>France</td>\n",
       "      <td>Female</td>\n",
       "      <td>39</td>\n",
       "      <td>1.0</td>\n",
       "      <td>0.00</td>\n",
       "      <td>2</td>\n",
       "      <td>0</td>\n",
       "      <td>0</td>\n",
       "      <td>93826.63</td>\n",
       "      <td>0</td>\n",
       "    </tr>\n",
       "    <tr>\n",
       "      <th>4</th>\n",
       "      <td>5</td>\n",
       "      <td>15737888</td>\n",
       "      <td>Mitchell</td>\n",
       "      <td>850</td>\n",
       "      <td>Spain</td>\n",
       "      <td>Female</td>\n",
       "      <td>43</td>\n",
       "      <td>2.0</td>\n",
       "      <td>125510.82</td>\n",
       "      <td>1</td>\n",
       "      <td>1</td>\n",
       "      <td>1</td>\n",
       "      <td>79084.10</td>\n",
       "      <td>0</td>\n",
       "    </tr>\n",
       "  </tbody>\n",
       "</table>\n",
       "</div>"
      ],
      "text/plain": [
       "   RowNumber  CustomerId   Surname  CreditScore Geography  Gender  Age  \\\n",
       "0          1    15634602  Hargrave          619    France  Female   42   \n",
       "1          2    15647311      Hill          608     Spain  Female   41   \n",
       "2          3    15619304      Onio          502    France  Female   42   \n",
       "3          4    15701354      Boni          699    France  Female   39   \n",
       "4          5    15737888  Mitchell          850     Spain  Female   43   \n",
       "\n",
       "   Tenure    Balance  NumOfProducts  HasCrCard  IsActiveMember  \\\n",
       "0     2.0       0.00              1          1               1   \n",
       "1     1.0   83807.86              1          0               1   \n",
       "2     8.0  159660.80              3          1               0   \n",
       "3     1.0       0.00              2          0               0   \n",
       "4     2.0  125510.82              1          1               1   \n",
       "\n",
       "   EstimatedSalary  Exited  \n",
       "0        101348.88       1  \n",
       "1        112542.58       0  \n",
       "2        113931.57       1  \n",
       "3         93826.63       0  \n",
       "4         79084.10       0  "
      ]
     },
     "execution_count": 2,
     "metadata": {},
     "output_type": "execute_result"
    }
   ],
   "source": [
    "# загрузка данных\n",
    "try:\n",
    "    data = pd.read_csv('Churn.csv')\n",
    "except:\n",
    "    data = pd.read_csv('https://www.kaggle.com/barelydedicated/bank-customer-churn-modeling\\Churn.csv')\n",
    "\n",
    "data.head()    "
   ]
  },
  {
   "cell_type": "code",
   "execution_count": 3,
   "metadata": {},
   "outputs": [
    {
     "data": {
      "text/html": [
       "<div>\n",
       "<style scoped>\n",
       "    .dataframe tbody tr th:only-of-type {\n",
       "        vertical-align: middle;\n",
       "    }\n",
       "\n",
       "    .dataframe tbody tr th {\n",
       "        vertical-align: top;\n",
       "    }\n",
       "\n",
       "    .dataframe thead th {\n",
       "        text-align: right;\n",
       "    }\n",
       "</style>\n",
       "<table border=\"1\" class=\"dataframe\">\n",
       "  <thead>\n",
       "    <tr style=\"text-align: right;\">\n",
       "      <th></th>\n",
       "      <th>RowNumber</th>\n",
       "      <th>CustomerId</th>\n",
       "      <th>Surname</th>\n",
       "      <th>CreditScore</th>\n",
       "      <th>Geography</th>\n",
       "      <th>Gender</th>\n",
       "      <th>Age</th>\n",
       "      <th>Tenure</th>\n",
       "      <th>Balance</th>\n",
       "      <th>NumOfProducts</th>\n",
       "      <th>HasCrCard</th>\n",
       "      <th>IsActiveMember</th>\n",
       "      <th>EstimatedSalary</th>\n",
       "      <th>Exited</th>\n",
       "    </tr>\n",
       "  </thead>\n",
       "  <tbody>\n",
       "    <tr>\n",
       "      <th>9995</th>\n",
       "      <td>9996</td>\n",
       "      <td>15606229</td>\n",
       "      <td>Obijiaku</td>\n",
       "      <td>771</td>\n",
       "      <td>France</td>\n",
       "      <td>Male</td>\n",
       "      <td>39</td>\n",
       "      <td>5.0</td>\n",
       "      <td>0.00</td>\n",
       "      <td>2</td>\n",
       "      <td>1</td>\n",
       "      <td>0</td>\n",
       "      <td>96270.64</td>\n",
       "      <td>0</td>\n",
       "    </tr>\n",
       "    <tr>\n",
       "      <th>9996</th>\n",
       "      <td>9997</td>\n",
       "      <td>15569892</td>\n",
       "      <td>Johnstone</td>\n",
       "      <td>516</td>\n",
       "      <td>France</td>\n",
       "      <td>Male</td>\n",
       "      <td>35</td>\n",
       "      <td>10.0</td>\n",
       "      <td>57369.61</td>\n",
       "      <td>1</td>\n",
       "      <td>1</td>\n",
       "      <td>1</td>\n",
       "      <td>101699.77</td>\n",
       "      <td>0</td>\n",
       "    </tr>\n",
       "    <tr>\n",
       "      <th>9997</th>\n",
       "      <td>9998</td>\n",
       "      <td>15584532</td>\n",
       "      <td>Liu</td>\n",
       "      <td>709</td>\n",
       "      <td>France</td>\n",
       "      <td>Female</td>\n",
       "      <td>36</td>\n",
       "      <td>7.0</td>\n",
       "      <td>0.00</td>\n",
       "      <td>1</td>\n",
       "      <td>0</td>\n",
       "      <td>1</td>\n",
       "      <td>42085.58</td>\n",
       "      <td>1</td>\n",
       "    </tr>\n",
       "    <tr>\n",
       "      <th>9998</th>\n",
       "      <td>9999</td>\n",
       "      <td>15682355</td>\n",
       "      <td>Sabbatini</td>\n",
       "      <td>772</td>\n",
       "      <td>Germany</td>\n",
       "      <td>Male</td>\n",
       "      <td>42</td>\n",
       "      <td>3.0</td>\n",
       "      <td>75075.31</td>\n",
       "      <td>2</td>\n",
       "      <td>1</td>\n",
       "      <td>0</td>\n",
       "      <td>92888.52</td>\n",
       "      <td>1</td>\n",
       "    </tr>\n",
       "    <tr>\n",
       "      <th>9999</th>\n",
       "      <td>10000</td>\n",
       "      <td>15628319</td>\n",
       "      <td>Walker</td>\n",
       "      <td>792</td>\n",
       "      <td>France</td>\n",
       "      <td>Female</td>\n",
       "      <td>28</td>\n",
       "      <td>NaN</td>\n",
       "      <td>130142.79</td>\n",
       "      <td>1</td>\n",
       "      <td>1</td>\n",
       "      <td>0</td>\n",
       "      <td>38190.78</td>\n",
       "      <td>0</td>\n",
       "    </tr>\n",
       "  </tbody>\n",
       "</table>\n",
       "</div>"
      ],
      "text/plain": [
       "      RowNumber  CustomerId    Surname  CreditScore Geography  Gender  Age  \\\n",
       "9995       9996    15606229   Obijiaku          771    France    Male   39   \n",
       "9996       9997    15569892  Johnstone          516    France    Male   35   \n",
       "9997       9998    15584532        Liu          709    France  Female   36   \n",
       "9998       9999    15682355  Sabbatini          772   Germany    Male   42   \n",
       "9999      10000    15628319     Walker          792    France  Female   28   \n",
       "\n",
       "      Tenure    Balance  NumOfProducts  HasCrCard  IsActiveMember  \\\n",
       "9995     5.0       0.00              2          1               0   \n",
       "9996    10.0   57369.61              1          1               1   \n",
       "9997     7.0       0.00              1          0               1   \n",
       "9998     3.0   75075.31              2          1               0   \n",
       "9999     NaN  130142.79              1          1               0   \n",
       "\n",
       "      EstimatedSalary  Exited  \n",
       "9995         96270.64       0  \n",
       "9996        101699.77       0  \n",
       "9997         42085.58       1  \n",
       "9998         92888.52       1  \n",
       "9999         38190.78       0  "
      ]
     },
     "execution_count": 3,
     "metadata": {},
     "output_type": "execute_result"
    }
   ],
   "source": [
    "data.tail()  "
   ]
  },
  {
   "cell_type": "code",
   "execution_count": 4,
   "metadata": {},
   "outputs": [
    {
     "name": "stdout",
     "output_type": "stream",
     "text": [
      "<class 'pandas.core.frame.DataFrame'>\n",
      "RangeIndex: 10000 entries, 0 to 9999\n",
      "Data columns (total 14 columns):\n",
      " #   Column           Non-Null Count  Dtype  \n",
      "---  ------           --------------  -----  \n",
      " 0   RowNumber        10000 non-null  int64  \n",
      " 1   CustomerId       10000 non-null  int64  \n",
      " 2   Surname          10000 non-null  object \n",
      " 3   CreditScore      10000 non-null  int64  \n",
      " 4   Geography        10000 non-null  object \n",
      " 5   Gender           10000 non-null  object \n",
      " 6   Age              10000 non-null  int64  \n",
      " 7   Tenure           9091 non-null   float64\n",
      " 8   Balance          10000 non-null  float64\n",
      " 9   NumOfProducts    10000 non-null  int64  \n",
      " 10  HasCrCard        10000 non-null  int64  \n",
      " 11  IsActiveMember   10000 non-null  int64  \n",
      " 12  EstimatedSalary  10000 non-null  float64\n",
      " 13  Exited           10000 non-null  int64  \n",
      "dtypes: float64(3), int64(8), object(3)\n",
      "memory usage: 1.1+ MB\n"
     ]
    }
   ],
   "source": [
    "# вывод информации по df\n",
    "data.info()"
   ]
  },
  {
   "cell_type": "code",
   "execution_count": 5,
   "metadata": {},
   "outputs": [
    {
     "data": {
      "text/plain": [
       "0"
      ]
     },
     "execution_count": 5,
     "metadata": {},
     "output_type": "execute_result"
    }
   ],
   "source": [
    "# проверка на явные дубликаты\n",
    "data.duplicated().sum()"
   ]
  },
  {
   "cell_type": "code",
   "execution_count": 6,
   "metadata": {},
   "outputs": [],
   "source": [
    "# удалим из df (модели) признаки которые не связаны с целевым признаком - индекс строки, ID, Фамилия\n",
    "data = data.drop(['RowNumber', 'CustomerId', 'Surname'], axis=1)"
   ]
  },
  {
   "cell_type": "code",
   "execution_count": 7,
   "metadata": {},
   "outputs": [
    {
     "data": {
      "text/plain": [
       "1    5151\n",
       "0    4849\n",
       "Name: IsActiveMember, dtype: int64"
      ]
     },
     "execution_count": 7,
     "metadata": {},
     "output_type": "execute_result"
    }
   ],
   "source": [
    "# проверка значений в столбце IsActiveMember\n",
    "data['IsActiveMember'].value_counts()"
   ]
  },
  {
   "cell_type": "code",
   "execution_count": 8,
   "metadata": {},
   "outputs": [],
   "source": [
    "# переведем значения столбцов HasCrCard и IsActiveMember в булевый тип\n",
    "data['HasCrCard'] = data['HasCrCard'].astype('bool')\n",
    "data['IsActiveMember'] = data['IsActiveMember'].astype('bool')"
   ]
  },
  {
   "cell_type": "code",
   "execution_count": 9,
   "metadata": {},
   "outputs": [
    {
     "name": "stdout",
     "output_type": "stream",
     "text": [
      "<class 'pandas.core.frame.DataFrame'>\n",
      "RangeIndex: 10000 entries, 0 to 9999\n",
      "Data columns (total 11 columns):\n",
      " #   Column           Non-Null Count  Dtype  \n",
      "---  ------           --------------  -----  \n",
      " 0   CreditScore      10000 non-null  int64  \n",
      " 1   Geography        10000 non-null  object \n",
      " 2   Gender           10000 non-null  object \n",
      " 3   Age              10000 non-null  int64  \n",
      " 4   Tenure           9091 non-null   float64\n",
      " 5   Balance          10000 non-null  float64\n",
      " 6   NumOfProducts    10000 non-null  int64  \n",
      " 7   HasCrCard        10000 non-null  bool   \n",
      " 8   IsActiveMember   10000 non-null  bool   \n",
      " 9   EstimatedSalary  10000 non-null  float64\n",
      " 10  Exited           10000 non-null  int64  \n",
      "dtypes: bool(2), float64(3), int64(4), object(2)\n",
      "memory usage: 722.8+ KB\n"
     ]
    }
   ],
   "source": [
    "# проверка информации по df после преобразований\n",
    "data.info()"
   ]
  },
  {
   "cell_type": "markdown",
   "metadata": {},
   "source": [
    "### Обработка пропущенных значений"
   ]
  },
  {
   "cell_type": "code",
   "execution_count": 10,
   "metadata": {},
   "outputs": [
    {
     "data": {
      "text/plain": [
       "1.0     952\n",
       "2.0     950\n",
       "8.0     933\n",
       "3.0     928\n",
       "5.0     927\n",
       "7.0     925\n",
       "NaN     909\n",
       "4.0     885\n",
       "9.0     882\n",
       "6.0     881\n",
       "10.0    446\n",
       "0.0     382\n",
       "Name: Tenure, dtype: int64"
      ]
     },
     "execution_count": 10,
     "metadata": {},
     "output_type": "execute_result"
    }
   ],
   "source": [
    "# вывод значений признака Tenure (где пропущены значения), сколько лет человек является клиентом банка\n",
    "data['Tenure'].value_counts(dropna=False)"
   ]
  },
  {
   "cell_type": "code",
   "execution_count": 11,
   "metadata": {},
   "outputs": [
    {
     "data": {
      "text/plain": [
       "0.0909"
      ]
     },
     "execution_count": 11,
     "metadata": {},
     "output_type": "execute_result"
    }
   ],
   "source": [
    "# процент пропущенных значений признака Tenure (сколько лет человек является клиентом банка)\n",
    "data['Tenure'].isna().mean()"
   ]
  },
  {
   "cell_type": "markdown",
   "metadata": {},
   "source": [
    "<div class=\"alert alert-block alert-warning\">\n",
    "    \n",
    "в столбце Tenure 9.09% пропущенных значений\n",
    "- данные в столбце Tenure в основном распределены равномерно\n",
    "- явной зависимости значений в столбце Tenure от значений в других признаках - нет, поэтому замену пропущеных значений на основе данных их других столбцов считаю делать не правильно \n",
    "    \n",
    "<b>Изменения:</b> Были внесены следующие изменения:\n",
    "    \n",
    "По обработке пропущенных значений, есть три варианта:\n",
    "- удалить пропущенные значения\n",
    "- заполнить медианным значением\n",
    "- заполнить случайнами значениями\n",
    "\n",
    "реализуем два варианта    \n",
    "- удалить пропущенные значения\n",
    "- заполнить случайнами значениями  \n",
    "\n",
    "вариант с заполнением медианными значениями ( или срежними значениями), считаю, в данном случае будет искажает изначальную структуру данных, а имеенно значительно увеличивает значение мединанные значения Tenure равные 5\n",
    "</div>"
   ]
  },
  {
   "cell_type": "code",
   "execution_count": 12,
   "metadata": {},
   "outputs": [],
   "source": [
    "# сделаем копию df для исследования варианта с решением по пропущеным значениям заполнить случайными значениями\n",
    "data_2 = data.copy()"
   ]
  },
  {
   "cell_type": "code",
   "execution_count": 13,
   "metadata": {},
   "outputs": [],
   "source": [
    "# удалим в df пропущеные значения в столбце Tenure \n",
    "data = data.dropna(subset = ['Tenure'])"
   ]
  },
  {
   "cell_type": "markdown",
   "metadata": {},
   "source": [
    "<div class=\"alert alert-block alert-warning\">\n",
    "<b>Комментарий студента:</b> \n",
    "    \n",
    "- далее идет преобразование и исследование data с удаление пропущеных значений \n",
    "- преобразование и исследование data_2 с обработкой пропущеных значений случайными значениями сделано после всех исследований и выводов по data\n",
    "</div>"
   ]
  },
  {
   "cell_type": "markdown",
   "metadata": {},
   "source": [
    "### Подготовка данных для модели"
   ]
  },
  {
   "cell_type": "code",
   "execution_count": 14,
   "metadata": {
    "scrolled": false
   },
   "outputs": [
    {
     "data": {
      "text/html": [
       "<div>\n",
       "<style scoped>\n",
       "    .dataframe tbody tr th:only-of-type {\n",
       "        vertical-align: middle;\n",
       "    }\n",
       "\n",
       "    .dataframe tbody tr th {\n",
       "        vertical-align: top;\n",
       "    }\n",
       "\n",
       "    .dataframe thead th {\n",
       "        text-align: right;\n",
       "    }\n",
       "</style>\n",
       "<table border=\"1\" class=\"dataframe\">\n",
       "  <thead>\n",
       "    <tr style=\"text-align: right;\">\n",
       "      <th></th>\n",
       "      <th>CreditScore</th>\n",
       "      <th>Age</th>\n",
       "      <th>Tenure</th>\n",
       "      <th>Balance</th>\n",
       "      <th>NumOfProducts</th>\n",
       "      <th>HasCrCard</th>\n",
       "      <th>IsActiveMember</th>\n",
       "      <th>EstimatedSalary</th>\n",
       "      <th>Exited</th>\n",
       "      <th>Geography_Germany</th>\n",
       "      <th>Geography_Spain</th>\n",
       "      <th>Gender_Male</th>\n",
       "    </tr>\n",
       "  </thead>\n",
       "  <tbody>\n",
       "    <tr>\n",
       "      <th>0</th>\n",
       "      <td>619</td>\n",
       "      <td>42</td>\n",
       "      <td>2.0</td>\n",
       "      <td>0.00</td>\n",
       "      <td>1</td>\n",
       "      <td>True</td>\n",
       "      <td>True</td>\n",
       "      <td>101348.88</td>\n",
       "      <td>1</td>\n",
       "      <td>0</td>\n",
       "      <td>0</td>\n",
       "      <td>0</td>\n",
       "    </tr>\n",
       "    <tr>\n",
       "      <th>1</th>\n",
       "      <td>608</td>\n",
       "      <td>41</td>\n",
       "      <td>1.0</td>\n",
       "      <td>83807.86</td>\n",
       "      <td>1</td>\n",
       "      <td>False</td>\n",
       "      <td>True</td>\n",
       "      <td>112542.58</td>\n",
       "      <td>0</td>\n",
       "      <td>0</td>\n",
       "      <td>1</td>\n",
       "      <td>0</td>\n",
       "    </tr>\n",
       "    <tr>\n",
       "      <th>2</th>\n",
       "      <td>502</td>\n",
       "      <td>42</td>\n",
       "      <td>8.0</td>\n",
       "      <td>159660.80</td>\n",
       "      <td>3</td>\n",
       "      <td>True</td>\n",
       "      <td>False</td>\n",
       "      <td>113931.57</td>\n",
       "      <td>1</td>\n",
       "      <td>0</td>\n",
       "      <td>0</td>\n",
       "      <td>0</td>\n",
       "    </tr>\n",
       "    <tr>\n",
       "      <th>3</th>\n",
       "      <td>699</td>\n",
       "      <td>39</td>\n",
       "      <td>1.0</td>\n",
       "      <td>0.00</td>\n",
       "      <td>2</td>\n",
       "      <td>False</td>\n",
       "      <td>False</td>\n",
       "      <td>93826.63</td>\n",
       "      <td>0</td>\n",
       "      <td>0</td>\n",
       "      <td>0</td>\n",
       "      <td>0</td>\n",
       "    </tr>\n",
       "    <tr>\n",
       "      <th>4</th>\n",
       "      <td>850</td>\n",
       "      <td>43</td>\n",
       "      <td>2.0</td>\n",
       "      <td>125510.82</td>\n",
       "      <td>1</td>\n",
       "      <td>True</td>\n",
       "      <td>True</td>\n",
       "      <td>79084.10</td>\n",
       "      <td>0</td>\n",
       "      <td>0</td>\n",
       "      <td>1</td>\n",
       "      <td>0</td>\n",
       "    </tr>\n",
       "  </tbody>\n",
       "</table>\n",
       "</div>"
      ],
      "text/plain": [
       "   CreditScore  Age  Tenure    Balance  NumOfProducts  HasCrCard  \\\n",
       "0          619   42     2.0       0.00              1       True   \n",
       "1          608   41     1.0   83807.86              1      False   \n",
       "2          502   42     8.0  159660.80              3       True   \n",
       "3          699   39     1.0       0.00              2      False   \n",
       "4          850   43     2.0  125510.82              1       True   \n",
       "\n",
       "   IsActiveMember  EstimatedSalary  Exited  Geography_Germany  \\\n",
       "0            True        101348.88       1                  0   \n",
       "1            True        112542.58       0                  0   \n",
       "2           False        113931.57       1                  0   \n",
       "3           False         93826.63       0                  0   \n",
       "4            True         79084.10       0                  0   \n",
       "\n",
       "   Geography_Spain  Gender_Male  \n",
       "0                0            0  \n",
       "1                1            0  \n",
       "2                0            0  \n",
       "3                0            0  \n",
       "4                1            0  "
      ]
     },
     "execution_count": 14,
     "metadata": {},
     "output_type": "execute_result"
    }
   ],
   "source": [
    "# сделаем кодирование категориальных признаков методом OHE(англ. One-Hot Encoding, OHE)\n",
    "data_ohe = pd.get_dummies(data, drop_first=True)\n",
    "data_ohe.head()"
   ]
  },
  {
   "cell_type": "code",
   "execution_count": 15,
   "metadata": {},
   "outputs": [],
   "source": [
    "# разделим данные на выборки: признаки, целевой признак\n",
    "target = data_ohe['Exited']\n",
    "features = data_ohe.drop('Exited', axis=1)"
   ]
  },
  {
   "cell_type": "code",
   "execution_count": 16,
   "metadata": {},
   "outputs": [],
   "source": [
    "# разделим на обучающую и тестовую выборки в пропорции 4 к 1\n",
    "X_train, X_test, y_train, y_test = train_test_split(features, target, test_size=0.20,random_state=12345)"
   ]
  },
  {
   "cell_type": "code",
   "execution_count": 17,
   "metadata": {},
   "outputs": [],
   "source": [
    "# разделим обучающую выборку на обучающую и валидационную выборкив пропорции 3 к 1\n",
    "X_train, X_valid, y_train, y_valid = train_test_split(X_train, y_train, test_size=0.25, random_state=12345)"
   ]
  },
  {
   "cell_type": "code",
   "execution_count": 18,
   "metadata": {},
   "outputs": [
    {
     "name": "stdout",
     "output_type": "stream",
     "text": [
      "размеры признаковых выборок  (5454, 11) (1818, 11) (1819, 11)\n",
      "размеры выборок по целевому признаку  (5454,) (1818,) (1819,)\n"
     ]
    }
   ],
   "source": [
    "# данные о размере выборок\n",
    "print('размеры признаковых выборок ', X_train.shape, X_valid.shape, X_test.shape) \n",
    "print('размеры выборок по целевому признаку ', y_train.shape, y_valid.shape, y_test.shape) "
   ]
  },
  {
   "cell_type": "code",
   "execution_count": 19,
   "metadata": {},
   "outputs": [
    {
     "data": {
      "text/html": [
       "<style>#sk-container-id-1 {color: black;}#sk-container-id-1 pre{padding: 0;}#sk-container-id-1 div.sk-toggleable {background-color: white;}#sk-container-id-1 label.sk-toggleable__label {cursor: pointer;display: block;width: 100%;margin-bottom: 0;padding: 0.3em;box-sizing: border-box;text-align: center;}#sk-container-id-1 label.sk-toggleable__label-arrow:before {content: \"▸\";float: left;margin-right: 0.25em;color: #696969;}#sk-container-id-1 label.sk-toggleable__label-arrow:hover:before {color: black;}#sk-container-id-1 div.sk-estimator:hover label.sk-toggleable__label-arrow:before {color: black;}#sk-container-id-1 div.sk-toggleable__content {max-height: 0;max-width: 0;overflow: hidden;text-align: left;background-color: #f0f8ff;}#sk-container-id-1 div.sk-toggleable__content pre {margin: 0.2em;color: black;border-radius: 0.25em;background-color: #f0f8ff;}#sk-container-id-1 input.sk-toggleable__control:checked~div.sk-toggleable__content {max-height: 200px;max-width: 100%;overflow: auto;}#sk-container-id-1 input.sk-toggleable__control:checked~label.sk-toggleable__label-arrow:before {content: \"▾\";}#sk-container-id-1 div.sk-estimator input.sk-toggleable__control:checked~label.sk-toggleable__label {background-color: #d4ebff;}#sk-container-id-1 div.sk-label input.sk-toggleable__control:checked~label.sk-toggleable__label {background-color: #d4ebff;}#sk-container-id-1 input.sk-hidden--visually {border: 0;clip: rect(1px 1px 1px 1px);clip: rect(1px, 1px, 1px, 1px);height: 1px;margin: -1px;overflow: hidden;padding: 0;position: absolute;width: 1px;}#sk-container-id-1 div.sk-estimator {font-family: monospace;background-color: #f0f8ff;border: 1px dotted black;border-radius: 0.25em;box-sizing: border-box;margin-bottom: 0.5em;}#sk-container-id-1 div.sk-estimator:hover {background-color: #d4ebff;}#sk-container-id-1 div.sk-parallel-item::after {content: \"\";width: 100%;border-bottom: 1px solid gray;flex-grow: 1;}#sk-container-id-1 div.sk-label:hover label.sk-toggleable__label {background-color: #d4ebff;}#sk-container-id-1 div.sk-serial::before {content: \"\";position: absolute;border-left: 1px solid gray;box-sizing: border-box;top: 0;bottom: 0;left: 50%;z-index: 0;}#sk-container-id-1 div.sk-serial {display: flex;flex-direction: column;align-items: center;background-color: white;padding-right: 0.2em;padding-left: 0.2em;position: relative;}#sk-container-id-1 div.sk-item {position: relative;z-index: 1;}#sk-container-id-1 div.sk-parallel {display: flex;align-items: stretch;justify-content: center;background-color: white;position: relative;}#sk-container-id-1 div.sk-item::before, #sk-container-id-1 div.sk-parallel-item::before {content: \"\";position: absolute;border-left: 1px solid gray;box-sizing: border-box;top: 0;bottom: 0;left: 50%;z-index: -1;}#sk-container-id-1 div.sk-parallel-item {display: flex;flex-direction: column;z-index: 1;position: relative;background-color: white;}#sk-container-id-1 div.sk-parallel-item:first-child::after {align-self: flex-end;width: 50%;}#sk-container-id-1 div.sk-parallel-item:last-child::after {align-self: flex-start;width: 50%;}#sk-container-id-1 div.sk-parallel-item:only-child::after {width: 0;}#sk-container-id-1 div.sk-dashed-wrapped {border: 1px dashed gray;margin: 0 0.4em 0.5em 0.4em;box-sizing: border-box;padding-bottom: 0.4em;background-color: white;}#sk-container-id-1 div.sk-label label {font-family: monospace;font-weight: bold;display: inline-block;line-height: 1.2em;}#sk-container-id-1 div.sk-label-container {text-align: center;}#sk-container-id-1 div.sk-container {/* jupyter's `normalize.less` sets `[hidden] { display: none; }` but bootstrap.min.css set `[hidden] { display: none !important; }` so we also need the `!important` here to be able to override the default hidden behavior on the sphinx rendered scikit-learn.org. See: https://github.com/scikit-learn/scikit-learn/issues/21755 */display: inline-block !important;position: relative;}#sk-container-id-1 div.sk-text-repr-fallback {display: none;}</style><div id=\"sk-container-id-1\" class=\"sk-top-container\"><div class=\"sk-text-repr-fallback\"><pre>StandardScaler()</pre><b>In a Jupyter environment, please rerun this cell to show the HTML representation or trust the notebook. <br />On GitHub, the HTML representation is unable to render, please try loading this page with nbviewer.org.</b></div><div class=\"sk-container\" hidden><div class=\"sk-item\"><div class=\"sk-estimator sk-toggleable\"><input class=\"sk-toggleable__control sk-hidden--visually\" id=\"sk-estimator-id-1\" type=\"checkbox\" checked><label for=\"sk-estimator-id-1\" class=\"sk-toggleable__label sk-toggleable__label-arrow\">StandardScaler</label><div class=\"sk-toggleable__content\"><pre>StandardScaler()</pre></div></div></div></div></div>"
      ],
      "text/plain": [
       "StandardScaler()"
      ]
     },
     "execution_count": 19,
     "metadata": {},
     "output_type": "execute_result"
    }
   ],
   "source": [
    "# масштабируем числовые признаки\n",
    "numeric = ['CreditScore', 'Age', 'Tenure', 'Balance', 'NumOfProducts','EstimatedSalary']\n",
    "scaler = StandardScaler()\n",
    "scaler.fit(X_train[numeric])  "
   ]
  },
  {
   "cell_type": "code",
   "execution_count": 20,
   "metadata": {},
   "outputs": [],
   "source": [
    "# преобразуем выборки функцией transform(). \n",
    "X_train[numeric] = scaler.transform(X_train[numeric])\n",
    "X_valid[numeric] = scaler.transform(X_valid[numeric]) \n",
    "X_test[numeric] = scaler.transform(X_test[numeric]) \n",
    "pd.options.mode.chained_assignment = None"
   ]
  },
  {
   "cell_type": "markdown",
   "metadata": {},
   "source": [
    "<div class=\"alert alert-block alert-warning\">\n",
    "\n",
    "### Итоги, выводы  п.1\n",
    "- данные в целом чистые, дубликатов нет\n",
    "- признаки HasCrCard и IsActiveMember переведы в булевый тип\n",
    "- разделен df на обучающую, валидационную и тестовую выборки\n",
    "- доли размеров выборок train/ valid/ test 3:1:1\n",
    "    \n",
    "<b>Изменения:</b> Были внесены следующие изменения ...    \n",
    "- обработанны пропущеные значения в df по столбцу Tenure, выбрано два варианта для дальнейшего исследования:\n",
    "  1. сделан вариант df с удалением пропущеных значений\n",
    "  2. сделан вариант df с заполнением пропущеных значений случайными значеними\n",
    "- вариант с заполнением медианными значениями не использую, т.к. он искажает изначальную структуру данных, а имеенно значительно увеличивает значение Tenure = 5\n",
    "\n",
    "для df data:\n",
    "- сделанно кодирование категориальных данных методом OHE\n",
    "- масштабированы числовые признаки 'CreditScore', 'Age', 'Tenure', 'Balance', 'NumOfProducts','EstimatedSalary' через \n",
    "StandardScaler\n",
    "\n",
    "для df new_data_2 кодирование и масштабирование сделано после исседования по df data\n",
    "\n",
    "- далее решаем задачу Классифиации, используем алгоритмы:\n",
    "   - LogisticRegression\n",
    "   - DecisionTreeClassifier\n",
    "   - RandomForestClassifier\n",
    "    \n",
    "    \n",
    "<b>Поясненние изначального выбора -  удаления пропущенных значений:</b>    \n",
    "Гипотеза - наиболее правильный вариант в данной ситуации, когда нет явной зависимости значений в столбце Tenure от значений в других признаках и не так много пропущенных значений, менее 10%, лучший вариант удалить пропущенные значения, почему? - заполненения средними, медианными или случайными значениями может исказать изначальное распределение. Проверим эту гипотезу сравнением метрик по двум df: data и data_2 \n",
    "</div>"
   ]
  },
  {
   "cell_type": "markdown",
   "metadata": {},
   "source": [
    "## 2.Исследование задачи \n",
    "- Исследуйте баланс классов, обучите модель без учёта дисбаланса. Кратко опишите выводы."
   ]
  },
  {
   "cell_type": "code",
   "execution_count": 21,
   "metadata": {},
   "outputs": [
    {
     "name": "stdout",
     "output_type": "stream",
     "text": [
      "Класс 0 = 4335\n",
      "Класс 1 = 1119\n",
      "Сотношение классов 4 к 1\n"
     ]
    }
   ],
   "source": [
    "# проверка соотношение классов \n",
    "print('Класс 0 =', y_train[y_train == 0].count())\n",
    "print('Класс 1 =', y_train[y_train == 1].count())\n",
    "print('Сотношение классов', round(y_train[y_train == 0].count() / y_train[y_train == 1].count()), 'к 1')"
   ]
  },
  {
   "cell_type": "markdown",
   "metadata": {},
   "source": [
    "промежуточные выводы - т.к. классы не равны по количеству элементов, метрика Accuracy не подходит, оценим качество не сбалансированных моделей метрикой F1 "
   ]
  },
  {
   "cell_type": "markdown",
   "metadata": {},
   "source": [
    "#### Обучение различных моделей на не сбалансировонных данных"
   ]
  },
  {
   "cell_type": "code",
   "execution_count": 22,
   "metadata": {},
   "outputs": [
    {
     "name": "stdout",
     "output_type": "stream",
     "text": [
      "F1: 0.3004115226337448\n"
     ]
    }
   ],
   "source": [
    "# LogisticRegression()\n",
    "model_unbalanced_LR = LogisticRegression(random_state=12345, solver='liblinear').fit(X_train, y_train) \n",
    "predicted_valid = model_unbalanced_LR.predict(X_valid)\n",
    "print(\"F1:\", f1_score(y_valid, predicted_valid))"
   ]
  },
  {
   "cell_type": "code",
   "execution_count": 23,
   "metadata": {},
   "outputs": [
    {
     "name": "stdout",
     "output_type": "stream",
     "text": [
      "F1: 0.4939271255060729\n"
     ]
    }
   ],
   "source": [
    "# DecisionTreeClassifier() с параметрами по умоланию\n",
    "model_unbalanced_DTC = DecisionTreeClassifier(random_state=12345).fit(X_train, y_train)\n",
    "predicted_valid = model_unbalanced_DTC.predict(X_valid)\n",
    "print(\"F1:\", f1_score(y_valid, predicted_valid))"
   ]
  },
  {
   "cell_type": "code",
   "execution_count": 24,
   "metadata": {},
   "outputs": [
    {
     "name": "stdout",
     "output_type": "stream",
     "text": [
      "F1: 0.5507745266781411\n"
     ]
    }
   ],
   "source": [
    "# RandomForestClassifier() с параметрами по умоланию\n",
    "model_unbalanced_RFC = RandomForestClassifier(random_state=12345).fit(X_train, y_train)\n",
    "predicted_valid = model_unbalanced_RFC.predict(X_valid)\n",
    "print(\"F1:\", f1_score(y_valid, predicted_valid))"
   ]
  },
  {
   "cell_type": "code",
   "execution_count": 25,
   "metadata": {},
   "outputs": [
    {
     "name": "stdout",
     "output_type": "stream",
     "text": [
      "auc_roc равна =  0.8329551099670325\n"
     ]
    }
   ],
   "source": [
    "# расчет auc_roc на валидационной выборке по несбалансированной лучшей модели - model_unbalanced_RFC\n",
    "probabilities_valid = model_unbalanced_RFC.predict_proba(X_valid) \n",
    "probabilities_one_valid = probabilities_valid[:, 1]\n",
    "auc_roc = roc_auc_score(y_valid, probabilities_one_valid)\n",
    "print('auc_roc равна = ', auc_roc)"
   ]
  },
  {
   "cell_type": "code",
   "execution_count": 26,
   "metadata": {},
   "outputs": [
    {
     "name": "stdout",
     "output_type": "stream",
     "text": [
      "auc_roc равна =  0.8570199046818054\n"
     ]
    }
   ],
   "source": [
    "# расчет auc_roc на тестовой выборке по несбалансированной лучшей модели - model_unbalanced_RFC\n",
    "probabilities_test = model_unbalanced_RFC.predict_proba(X_test) \n",
    "probabilities_one_test = probabilities_test[:, 1]\n",
    "auc_roc = roc_auc_score(y_test, probabilities_one_test)\n",
    "print('auc_roc равна = ', auc_roc)"
   ]
  },
  {
   "cell_type": "markdown",
   "metadata": {},
   "source": [
    "### Итоги, выводы  п.2\n",
    "- классы не сбалансированы, сооотношение классов 4 к 1\n",
    "- при применение RandomForestClassifier метрика f1 достигает 0.56 < 0.59 \n",
    "- сделан расчет auc_roc на валидационной выборке по несбалансированной лучшей модели - 0.82\n",
    "- сделан расчет auc_roc на тестовой выборке по несбалансированной лучшей модели - 0.86\n",
    "- далее используем различные методы для того чтобы убрать дисбаланс и на сбалансированыз выборках оценить f1\n"
   ]
  },
  {
   "cell_type": "markdown",
   "metadata": {},
   "source": [
    "## 3.Борьба с дисбалансом"
   ]
  },
  {
   "cell_type": "markdown",
   "metadata": {},
   "source": [
    "#### Вариант 1 - чтобы убрать дисбаланс классов используем при формировании модели аргумент class_weight='balanced'"
   ]
  },
  {
   "cell_type": "code",
   "execution_count": 27,
   "metadata": {},
   "outputs": [
    {
     "name": "stdout",
     "output_type": "stream",
     "text": [
      "F1: 0.49506903353057197\n"
     ]
    }
   ],
   "source": [
    "# обучение модели и оценка f1 через LogisticRegression()\n",
    "model_balanced_LR = LogisticRegression(random_state=12345, solver='liblinear', class_weight='balanced').fit(X_train, y_train)\n",
    "predicted_valid = model_balanced_LR.predict(X_valid)\n",
    "print(\"F1:\", f1_score(y_valid, predicted_valid))"
   ]
  },
  {
   "cell_type": "code",
   "execution_count": 28,
   "metadata": {},
   "outputs": [
    {
     "name": "stdout",
     "output_type": "stream",
     "text": [
      "F1 лучшей модели: 0.5555555555555556\n",
      "Лучшая модель: DecisionTreeClassifier(class_weight='balanced', max_depth=7, random_state=12345)\n"
     ]
    }
   ],
   "source": [
    "# обучение модели и оценка f1 через DecisionTreeClassifier() с перебором глубины дерева в цикле\n",
    "best_model_DTC = None\n",
    "best_result_DTC = 0\n",
    "for depth in range(1, 16):\n",
    "    model_balanced_DTC = DecisionTreeClassifier(random_state=12345, max_depth=depth, class_weight='balanced')\n",
    "    model_balanced_DTC.fit(X_train, y_train)\n",
    "    predicted_valid = model_balanced_DTC.predict(X_valid)\n",
    "    res_balanced_DTC = f1_score(y_valid, predicted_valid)\n",
    "    if res_balanced_DTC > best_result_DTC:\n",
    "        best_model_DTC = model_balanced_DTC\n",
    "        best_result_DTC = res_balanced_DTC\n",
    "\n",
    "print(\"F1 лучшей модели:\", best_result_DTC)\n",
    "print('Лучшая модель:', best_model_DTC)"
   ]
  },
  {
   "cell_type": "code",
   "execution_count": 29,
   "metadata": {},
   "outputs": [
    {
     "name": "stdout",
     "output_type": "stream",
     "text": [
      "F1 лучшей модели: 0.6059743954480795\n",
      "Лучшая модель: RandomForestClassifier(class_weight='balanced', max_depth=10, n_estimators=90,\n",
      "                       random_state=12345)\n"
     ]
    }
   ],
   "source": [
    "# обучение модели и оценка f1 через RandomForestClassifier() с переборм глубины дерева и количества деревьев в цикле\n",
    "best_model_RFC = None\n",
    "best_result_RFC = 0\n",
    "for est in range(10, 110, 10):\n",
    "    for i in range(1, 11):\n",
    "        model_balanced_RFC = RandomForestClassifier(random_state=12345, n_estimators=est, max_depth=i, class_weight='balanced')\n",
    "        model_balanced_RFC.fit(X_train, y_train)\n",
    "        predicted_valid = model_balanced_RFC.predict(X_valid)\n",
    "        res_balanced_RFC = f1_score(y_valid, predicted_valid)\n",
    "        if res_balanced_RFC > best_result_RFC:\n",
    "            best_model_RFC = model_balanced_RFC\n",
    "            best_result_RFC = res_balanced_RFC\n",
    "    \n",
    "print(\"F1 лучшей модели:\", best_result_RFC)\n",
    "print('Лучшая модель:', best_model_RFC)"
   ]
  },
  {
   "cell_type": "code",
   "execution_count": 30,
   "metadata": {
    "scrolled": true
   },
   "outputs": [
    {
     "name": "stdout",
     "output_type": "stream",
     "text": [
      "auc_roc равна =  0.8477396920019872\n"
     ]
    }
   ],
   "source": [
    "# расчет auc_roc по лучшей модели на валидационной выборке\n",
    "probabilities_valid = best_model_RFC.predict_proba(X_valid) \n",
    "probabilities_one_valid = probabilities_valid[:, 1]\n",
    "auc_roc_valid_balanced_best_model_RFC = roc_auc_score(y_valid, probabilities_one_valid)\n",
    "print('auc_roc равна = ', auc_roc_valid_balanced_best_model_RFC)"
   ]
  },
  {
   "cell_type": "markdown",
   "metadata": {},
   "source": [
    "#### Вариант 2 - чтобы убрать дисбаланс классов используем при формировании модели метод upsampling "
   ]
  },
  {
   "cell_type": "code",
   "execution_count": 31,
   "metadata": {},
   "outputs": [],
   "source": [
    "# функия преобразования обучающих, признаковой и целевой выборок, методом upsampling \n",
    "def upsample(features, target, repeat):\n",
    "    features_zeros = features[target == 0]\n",
    "    features_ones = features[target == 1]\n",
    "    target_zeros = target[target == 0]\n",
    "    target_ones = target[target == 1]\n",
    "\n",
    "    features_upsampled = pd.concat([features_zeros] + [features_ones] * repeat)\n",
    "    target_upsampled = pd.concat([target_zeros] + [target_ones] * repeat)\n",
    "    \n",
    "    features_upsampled, target_upsampled = shuffle(\n",
    "        features_upsampled, target_upsampled, random_state=12345)\n",
    "    \n",
    "    return features_upsampled, target_upsampled\n",
    "\n",
    "X_upsampled, y_upsampled = upsample(X_train, y_train, 4)"
   ]
  },
  {
   "cell_type": "code",
   "execution_count": 32,
   "metadata": {},
   "outputs": [
    {
     "name": "stdout",
     "output_type": "stream",
     "text": [
      "Класс 0 = 4335\n",
      "Класс 1 = 4476\n"
     ]
    }
   ],
   "source": [
    "# проверка количества значений классов после метода upsampling \n",
    "print('Класс 0 =', y_upsampled[y_upsampled == 0].count())\n",
    "print('Класс 1 =', y_upsampled[y_upsampled == 1].count())"
   ]
  },
  {
   "cell_type": "code",
   "execution_count": 33,
   "metadata": {},
   "outputs": [
    {
     "name": "stdout",
     "output_type": "stream",
     "text": [
      "F1: 0.4956605593056895\n"
     ]
    }
   ],
   "source": [
    "# обучение модели и оценка f1 на LogisticRegression()\n",
    "model_LR_2 = LogisticRegression(random_state=12345, solver='liblinear').fit(X_upsampled, y_upsampled)\n",
    "predicted_valid = model_LR_2.predict(X_valid)\n",
    "print(\"F1:\", f1_score(y_valid, predicted_valid))"
   ]
  },
  {
   "cell_type": "code",
   "execution_count": 34,
   "metadata": {},
   "outputs": [
    {
     "name": "stdout",
     "output_type": "stream",
     "text": [
      "F1 лучшей модели: 0.5555555555555556\n",
      "Лучшая модель: DecisionTreeClassifier(max_depth=7, random_state=12345)\n"
     ]
    }
   ],
   "source": [
    "# обучение модели и оценка f1 на DecisionTreeClassifier() с перебором глубины дерева в цикле\n",
    "best_model_DTC_2 = None\n",
    "best_result_DTC_2 = 0\n",
    "for depth in range(1, 16):\n",
    "    model_balanced_DTC_2 = DecisionTreeClassifier(random_state=12345, max_depth=depth)\n",
    "    model_balanced_DTC_2.fit(X_upsampled, y_upsampled)\n",
    "    predicted_valid = model_balanced_DTC_2.predict(X_valid)\n",
    "    res_balanced_DTC_2 = f1_score(y_valid, predicted_valid)\n",
    "    if res_balanced_DTC_2 > best_result_DTC_2:\n",
    "        best_model_DTC_2 = model_balanced_DTC_2\n",
    "        best_result_DTC_2 = res_balanced_DTC_2\n",
    "\n",
    "print(\"F1 лучшей модели:\", best_result_DTC_2)\n",
    "print('Лучшая модель:', best_model_DTC_2)"
   ]
  },
  {
   "cell_type": "code",
   "execution_count": 35,
   "metadata": {},
   "outputs": [
    {
     "name": "stdout",
     "output_type": "stream",
     "text": [
      "F1 лучшей модели: 0.6037195994277539\n",
      "Лучшая модель: RandomForestClassifier(max_depth=1, n_estimators=10, random_state=12345)\n"
     ]
    }
   ],
   "source": [
    "# обучение модели и оценка f1 на RandomForestClassifier() с переборм глубины дерева и количества деревьев в цикле\n",
    "best_model_RFC_2 = None\n",
    "best_result_RFC_2 = 0\n",
    "for est in range(10, 110, 10):\n",
    "    for i in range(1, 11):\n",
    "        model_balanced_RFC_2 = RandomForestClassifier(random_state=12345, n_estimators=est, max_depth=i)\n",
    "        model_balanced_RFC_2.fit(X_upsampled, y_upsampled)\n",
    "        predicted_valid = model_balanced_RFC.predict(X_valid)\n",
    "        res_balanced_RFC_2 = f1_score(y_valid, predicted_valid)\n",
    "        if res_balanced_RFC_2 > best_result_RFC_2:\n",
    "            best_model_RFC_2 = model_balanced_RFC_2\n",
    "            best_result_RFC_2 = res_balanced_RFC_2\n",
    "    \n",
    "print(\"F1 лучшей модели:\", best_result_RFC_2)\n",
    "print('Лучшая модель:', best_model_RFC_2)"
   ]
  },
  {
   "cell_type": "code",
   "execution_count": 36,
   "metadata": {},
   "outputs": [
    {
     "name": "stdout",
     "output_type": "stream",
     "text": [
      "auc_roc равна =  0.7653566213551309\n"
     ]
    }
   ],
   "source": [
    "# расчет auc_roc по лучшей модели\n",
    "probabilities_valid = best_model_RFC_2.predict_proba(X_valid) \n",
    "probabilities_one_valid = probabilities_valid[:, 1]\n",
    "auc_roc_valid_balanced_best_model_RFC_2 = roc_auc_score(y_valid, probabilities_one_valid)\n",
    "print('auc_roc равна = ', auc_roc_valid_balanced_best_model_RFC_2)"
   ]
  },
  {
   "cell_type": "markdown",
   "metadata": {},
   "source": [
    "#### Вариант 3 - чтобы убрать дисбаланс классов используем при формировании модели метод downsampling"
   ]
  },
  {
   "cell_type": "code",
   "execution_count": 37,
   "metadata": {},
   "outputs": [],
   "source": [
    "# функия преобразования обучающих, признаковой и целевой выборок, методом downsampling\n",
    "def downsample(features, target, fraction):\n",
    "    features_zeros = features[target == 0]\n",
    "    features_ones = features[target == 1]\n",
    "    target_zeros = target[target == 0]\n",
    "    target_ones = target[target == 1]\n",
    "\n",
    "    features_downsampled = pd.concat(\n",
    "        [features_zeros.sample(frac=fraction, random_state=12345)] + [features_ones])\n",
    "    target_downsampled = pd.concat(\n",
    "        [target_zeros.sample(frac=fraction, random_state=12345)] + [target_ones])\n",
    "    \n",
    "    features_downsampled, target_downsampled = shuffle(\n",
    "        features_downsampled, target_downsampled, random_state=12345)\n",
    "    \n",
    "    return features_downsampled, target_downsampled\n",
    "\n",
    "X_downsampled, y_downsampled = downsample(X_train, y_train, 0.25)"
   ]
  },
  {
   "cell_type": "code",
   "execution_count": 38,
   "metadata": {},
   "outputs": [
    {
     "name": "stdout",
     "output_type": "stream",
     "text": [
      "Класс 0 = 1084\n",
      "Класс 1 = 1119\n"
     ]
    }
   ],
   "source": [
    "# проверка количества значений классов после метода downsampling\n",
    "print('Класс 0 =', y_downsampled[y_downsampled == 0].count())\n",
    "print('Класс 1 =', y_downsampled[y_downsampled == 1].count())"
   ]
  },
  {
   "cell_type": "code",
   "execution_count": 39,
   "metadata": {},
   "outputs": [
    {
     "name": "stdout",
     "output_type": "stream",
     "text": [
      "F1: 0.5\n"
     ]
    }
   ],
   "source": [
    "# обучение модели и оценка f1 на LogisticRegression()\n",
    "model_LR_3 = LogisticRegression(random_state=12345, solver='liblinear').fit(X_downsampled, y_downsampled)\n",
    "predicted_valid = model_LR_3.predict(X_valid)\n",
    "print(\"F1:\", f1_score(y_valid, predicted_valid))"
   ]
  },
  {
   "cell_type": "code",
   "execution_count": 40,
   "metadata": {},
   "outputs": [
    {
     "name": "stdout",
     "output_type": "stream",
     "text": [
      "F1 лучшей модели: 0.553191489361702\n",
      "Лучшая модель: DecisionTreeClassifier(max_depth=5, random_state=12345)\n"
     ]
    }
   ],
   "source": [
    "# обучение модели и оценка f1 на DecisionTreeClassifier() с перебором глубины дерева в цикле\n",
    "best_model_DTC_3 = None\n",
    "best_result_DTC_3 = 0\n",
    "for depth in range(1, 16):\n",
    "    model_balanced_DTC_3 = DecisionTreeClassifier(random_state=12345, max_depth=depth)\n",
    "    model_balanced_DTC_3.fit(X_downsampled, y_downsampled)\n",
    "    predicted_valid = model_balanced_DTC_3.predict(X_valid)\n",
    "    res_balanced_DTC_3 = f1_score(y_valid, predicted_valid)\n",
    "    if res_balanced_DTC_3 > best_result_DTC_3:\n",
    "        best_model_DTC_3 = model_balanced_DTC_3\n",
    "        best_result_DTC_3 = res_balanced_DTC_3\n",
    "\n",
    "print(\"F1 лучшей модели:\", best_result_DTC_3)\n",
    "print('Лучшая модель:', best_model_DTC_3)"
   ]
  },
  {
   "cell_type": "code",
   "execution_count": 41,
   "metadata": {},
   "outputs": [
    {
     "name": "stdout",
     "output_type": "stream",
     "text": [
      "F1 лучшей модели: 0.5920177383592018\n",
      "Лучшая модель: RandomForestClassifier(max_depth=9, n_estimators=80, random_state=12345)\n"
     ]
    }
   ],
   "source": [
    "# обучение модели и оценка f1 на RandomForestClassifier() с переборм глубины дерева и количества деревьев в цикле\n",
    "best_model_RFC_3 = None\n",
    "best_result_RFC_3 = 0\n",
    "for est in range(10, 110, 10):\n",
    "    for i in range(1, 11):\n",
    "        model_balanced_RFC_3 = RandomForestClassifier(random_state=12345, n_estimators=est, max_depth=i)\n",
    "        model_balanced_RFC_3.fit(X_downsampled, y_downsampled)\n",
    "        predicted_valid = model_balanced_RFC_3.predict(X_valid)\n",
    "        res_balanced_RFC_3 = f1_score(y_valid, predicted_valid)\n",
    "        if res_balanced_RFC_3 > best_result_RFC_3:\n",
    "            best_model_RFC_3 = model_balanced_RFC_3\n",
    "            best_result_RFC_3 = res_balanced_RFC_3\n",
    "    \n",
    "print(\"F1 лучшей модели:\", best_result_RFC_3)\n",
    "print('Лучшая модель:', best_model_RFC_3)"
   ]
  },
  {
   "cell_type": "code",
   "execution_count": 42,
   "metadata": {},
   "outputs": [
    {
     "name": "stdout",
     "output_type": "stream",
     "text": [
      "auc_roc равна =  0.8570199046818054\n"
     ]
    }
   ],
   "source": [
    "# расчет auc_roc по лучшей модели\n",
    "probabilities_valid = best_model_RFC_3.predict_proba(X_valid) \n",
    "probabilities_one_valid = probabilities_valid[:, 1]\n",
    "auc_roc_balanced_best_model_RFC_2 = roc_auc_score(y_valid, probabilities_one_valid)\n",
    "print('auc_roc равна = ', auc_roc)"
   ]
  },
  {
   "cell_type": "markdown",
   "metadata": {},
   "source": [
    "### Итоги, выводы  п.3\n",
    "- дисбаланс классов исправили тремя методами\n",
    "- во всех трем методах удалось достичь f1 > 0.59 на алгоритме RandomForestClassifier() \n",
    "- лучшая модель: RandomForestClassifier(class_weight='balanced', max_depth=10, n_estimators=90, random_state=12345)\n",
    "- оценка F1 лучшей модели: 0.61\n",
    "- дополнительно рассчитанна метрика auc_roc, лучший показатель auc_roc auc_roc равен 0.85, модель таже \n",
    "- далее идет тестирования моделей показывших f1 > 0.59"
   ]
  },
  {
   "cell_type": "markdown",
   "metadata": {},
   "source": [
    "## 4.Тестирование модели"
   ]
  },
  {
   "cell_type": "markdown",
   "metadata": {},
   "source": [
    "тестирование на моделях показавшие лучшие результаты по метрики f1"
   ]
  },
  {
   "cell_type": "code",
   "execution_count": 43,
   "metadata": {},
   "outputs": [
    {
     "name": "stdout",
     "output_type": "stream",
     "text": [
      "F1: 0.5986206896551723\n"
     ]
    }
   ],
   "source": [
    "# модель с балансировкой классов через аргумент class_weight='balanced'\n",
    "predicted_valid = best_model_RFC.predict(X_test)\n",
    "print(\"F1:\", f1_score(y_test, predicted_valid))"
   ]
  },
  {
   "cell_type": "code",
   "execution_count": 44,
   "metadata": {
    "scrolled": true
   },
   "outputs": [
    {
     "name": "stdout",
     "output_type": "stream",
     "text": [
      "F1: 0.5647058823529412\n"
     ]
    }
   ],
   "source": [
    "# модель с баланисровкой классов методом upsampling\n",
    "predicted_valid = best_model_RFC_2.predict(X_test)\n",
    "print(\"F1:\", f1_score(y_test, predicted_valid))"
   ]
  },
  {
   "cell_type": "code",
   "execution_count": 45,
   "metadata": {},
   "outputs": [
    {
     "name": "stdout",
     "output_type": "stream",
     "text": [
      "F1: 0.5941872981700753\n"
     ]
    }
   ],
   "source": [
    "# модель с баланисровкой классов методом downsampling\n",
    "predicted_valid = best_model_RFC_3.predict(X_test)\n",
    "print(\"F1:\", f1_score(y_test, predicted_valid))"
   ]
  },
  {
   "cell_type": "code",
   "execution_count": 46,
   "metadata": {},
   "outputs": [
    {
     "name": "stdout",
     "output_type": "stream",
     "text": [
      "auc_roc равна =  0.8566134006167648\n"
     ]
    }
   ],
   "source": [
    "# расчет auc_roc по лучшей модели на тестовой выборке \n",
    "probabilities_valid = best_model_RFC.predict_proba(X_test) \n",
    "probabilities_one_valid = probabilities_valid[:, 1]\n",
    "auc_roc = roc_auc_score(y_test, probabilities_one_valid)\n",
    "print('auc_roc равна = ', auc_roc)"
   ]
  },
  {
   "cell_type": "markdown",
   "metadata": {},
   "source": [
    "### Итоги, выводы  п.4\n",
    "лучшая модель - best_model_RFC - проходит тест \n",
    "\n",
    "- f1 модели = 0.60 > 0.59\n",
    "- auc_roc модели на валидационной выборке = 0.85\n",
    "- auc_roc модели на тестовой выборке = 0.86\n",
    "\n",
    "параметры модели:\n",
    "\n",
    "RandomForestClassifier(class_weight='balanced', max_depth=10, n_estimators=90, random_state=12345) \n",
    " "
   ]
  },
  {
   "cell_type": "markdown",
   "metadata": {},
   "source": [
    "## Чек-лист готовности проекта"
   ]
  },
  {
   "cell_type": "markdown",
   "metadata": {},
   "source": [
    "Поставьте 'x' в выполненных пунктах. Далее нажмите Shift+Enter."
   ]
  },
  {
   "cell_type": "markdown",
   "metadata": {},
   "source": [
    "- [x]  Jupyter Notebook открыт\n",
    "- [x]  Весь код выполняется без ошибок\n",
    "- [x]  Ячейки с кодом расположены в порядке исполнения\n",
    "- [x]  Выполнен шаг 1: данные подготовлены\n",
    "- [x]  Выполнен шаг 2: задача исследована\n",
    "    - [x]  Исследован баланс классов\n",
    "    - [x]  Изучены модели без учёта дисбаланса\n",
    "    - [x]  Написаны выводы по результатам исследования\n",
    "- [x]  Выполнен шаг 3: учтён дисбаланс\n",
    "    - [x]  Применено несколько способов борьбы с дисбалансом\n",
    "    - [x]  Написаны выводы по результатам исследования\n",
    "- [x]  Выполнен шаг 4: проведено тестирование\n",
    "- [x]  Удалось достичь *F1*-меры не менее 0.59\n",
    "- [x]  Исследована метрика *AUC-ROC*"
   ]
  },
  {
   "cell_type": "markdown",
   "metadata": {},
   "source": [
    "## 5.преобразование и исследование data_2\n",
    "\n",
    "проведем иcследование:\n",
    "- на несбалансированных классах\n",
    "- на сбалансированных классах, методом взвешивания классов, с аргументом class_weight='balanced', т.к. имеено этот метод показал лучший результат на df data"
   ]
  },
  {
   "cell_type": "markdown",
   "metadata": {},
   "source": [
    "### подготовка data_2"
   ]
  },
  {
   "cell_type": "code",
   "execution_count": 47,
   "metadata": {},
   "outputs": [],
   "source": [
    "# заполним пропущенные значения df data_2 в столбце Tenure случайными значениями\n",
    "data_2['Tenure'] = data_2['Tenure'].fillna(random.choice([0,1,2,3,4,5,7,8,9,10]))"
   ]
  },
  {
   "cell_type": "code",
   "execution_count": 48,
   "metadata": {},
   "outputs": [
    {
     "data": {
      "text/plain": [
       "10.0    1355\n",
       "1.0      952\n",
       "2.0      950\n",
       "8.0      933\n",
       "3.0      928\n",
       "5.0      927\n",
       "7.0      925\n",
       "4.0      885\n",
       "9.0      882\n",
       "6.0      881\n",
       "0.0      382\n",
       "Name: Tenure, dtype: int64"
      ]
     },
     "execution_count": 48,
     "metadata": {},
     "output_type": "execute_result"
    }
   ],
   "source": [
    "data_2['Tenure'].value_counts(dropna=False)"
   ]
  },
  {
   "cell_type": "code",
   "execution_count": 49,
   "metadata": {},
   "outputs": [
    {
     "data": {
      "text/html": [
       "<div>\n",
       "<style scoped>\n",
       "    .dataframe tbody tr th:only-of-type {\n",
       "        vertical-align: middle;\n",
       "    }\n",
       "\n",
       "    .dataframe tbody tr th {\n",
       "        vertical-align: top;\n",
       "    }\n",
       "\n",
       "    .dataframe thead th {\n",
       "        text-align: right;\n",
       "    }\n",
       "</style>\n",
       "<table border=\"1\" class=\"dataframe\">\n",
       "  <thead>\n",
       "    <tr style=\"text-align: right;\">\n",
       "      <th></th>\n",
       "      <th>CreditScore</th>\n",
       "      <th>Age</th>\n",
       "      <th>Tenure</th>\n",
       "      <th>Balance</th>\n",
       "      <th>NumOfProducts</th>\n",
       "      <th>HasCrCard</th>\n",
       "      <th>IsActiveMember</th>\n",
       "      <th>EstimatedSalary</th>\n",
       "      <th>Exited</th>\n",
       "      <th>Geography_Germany</th>\n",
       "      <th>Geography_Spain</th>\n",
       "      <th>Gender_Male</th>\n",
       "    </tr>\n",
       "  </thead>\n",
       "  <tbody>\n",
       "    <tr>\n",
       "      <th>0</th>\n",
       "      <td>619</td>\n",
       "      <td>42</td>\n",
       "      <td>2.0</td>\n",
       "      <td>0.00</td>\n",
       "      <td>1</td>\n",
       "      <td>True</td>\n",
       "      <td>True</td>\n",
       "      <td>101348.88</td>\n",
       "      <td>1</td>\n",
       "      <td>0</td>\n",
       "      <td>0</td>\n",
       "      <td>0</td>\n",
       "    </tr>\n",
       "    <tr>\n",
       "      <th>1</th>\n",
       "      <td>608</td>\n",
       "      <td>41</td>\n",
       "      <td>1.0</td>\n",
       "      <td>83807.86</td>\n",
       "      <td>1</td>\n",
       "      <td>False</td>\n",
       "      <td>True</td>\n",
       "      <td>112542.58</td>\n",
       "      <td>0</td>\n",
       "      <td>0</td>\n",
       "      <td>1</td>\n",
       "      <td>0</td>\n",
       "    </tr>\n",
       "    <tr>\n",
       "      <th>2</th>\n",
       "      <td>502</td>\n",
       "      <td>42</td>\n",
       "      <td>8.0</td>\n",
       "      <td>159660.80</td>\n",
       "      <td>3</td>\n",
       "      <td>True</td>\n",
       "      <td>False</td>\n",
       "      <td>113931.57</td>\n",
       "      <td>1</td>\n",
       "      <td>0</td>\n",
       "      <td>0</td>\n",
       "      <td>0</td>\n",
       "    </tr>\n",
       "    <tr>\n",
       "      <th>3</th>\n",
       "      <td>699</td>\n",
       "      <td>39</td>\n",
       "      <td>1.0</td>\n",
       "      <td>0.00</td>\n",
       "      <td>2</td>\n",
       "      <td>False</td>\n",
       "      <td>False</td>\n",
       "      <td>93826.63</td>\n",
       "      <td>0</td>\n",
       "      <td>0</td>\n",
       "      <td>0</td>\n",
       "      <td>0</td>\n",
       "    </tr>\n",
       "    <tr>\n",
       "      <th>4</th>\n",
       "      <td>850</td>\n",
       "      <td>43</td>\n",
       "      <td>2.0</td>\n",
       "      <td>125510.82</td>\n",
       "      <td>1</td>\n",
       "      <td>True</td>\n",
       "      <td>True</td>\n",
       "      <td>79084.10</td>\n",
       "      <td>0</td>\n",
       "      <td>0</td>\n",
       "      <td>1</td>\n",
       "      <td>0</td>\n",
       "    </tr>\n",
       "  </tbody>\n",
       "</table>\n",
       "</div>"
      ],
      "text/plain": [
       "   CreditScore  Age  Tenure    Balance  NumOfProducts  HasCrCard  \\\n",
       "0          619   42     2.0       0.00              1       True   \n",
       "1          608   41     1.0   83807.86              1      False   \n",
       "2          502   42     8.0  159660.80              3       True   \n",
       "3          699   39     1.0       0.00              2      False   \n",
       "4          850   43     2.0  125510.82              1       True   \n",
       "\n",
       "   IsActiveMember  EstimatedSalary  Exited  Geography_Germany  \\\n",
       "0            True        101348.88       1                  0   \n",
       "1            True        112542.58       0                  0   \n",
       "2           False        113931.57       1                  0   \n",
       "3           False         93826.63       0                  0   \n",
       "4            True         79084.10       0                  0   \n",
       "\n",
       "   Geography_Spain  Gender_Male  \n",
       "0                0            0  \n",
       "1                1            0  \n",
       "2                0            0  \n",
       "3                0            0  \n",
       "4                1            0  "
      ]
     },
     "execution_count": 49,
     "metadata": {},
     "output_type": "execute_result"
    }
   ],
   "source": [
    "# прямое кодирование методом OHE(англ. One-Hot Encoding, OHE)\n",
    "data_ohe_2 = pd.get_dummies(data_2, drop_first=True)\n",
    "data_ohe_2.head()"
   ]
  },
  {
   "cell_type": "code",
   "execution_count": 50,
   "metadata": {},
   "outputs": [],
   "source": [
    "# разделим данные на выборки: признаки, целевой признак\n",
    "target_2 = data_ohe_2['Exited']\n",
    "features_2 = data_ohe_2.drop('Exited', axis=1)"
   ]
  },
  {
   "cell_type": "code",
   "execution_count": 51,
   "metadata": {},
   "outputs": [],
   "source": [
    "# разделим на обучающую и тестовую выборки в пропорции 4 к 1\n",
    "X_train_2, X_test_2, y_train_2, y_test_2 = train_test_split(features_2, target_2, test_size=0.20,random_state=12345)"
   ]
  },
  {
   "cell_type": "code",
   "execution_count": 52,
   "metadata": {},
   "outputs": [],
   "source": [
    "# разделим обучающую выборку на обучающую и валидационную выборкив пропорции 3 к 1\n",
    "X_train_2, X_valid_2, y_train_2, y_valid_2 = train_test_split(X_train_2, y_train_2, test_size=0.25, random_state=12345)"
   ]
  },
  {
   "cell_type": "code",
   "execution_count": 53,
   "metadata": {},
   "outputs": [
    {
     "name": "stdout",
     "output_type": "stream",
     "text": [
      "размеры признаковых выборок  (6000, 11) (2000, 11) (2000, 11)\n",
      "размеры выборок по целевому признаку  (6000,) (2000,) (2000,)\n"
     ]
    }
   ],
   "source": [
    "# данные о размере выборок\n",
    "print('размеры признаковых выборок ', X_train_2.shape, X_valid_2.shape, X_test_2.shape) \n",
    "print('размеры выборок по целевому признаку ', y_train_2.shape, y_valid_2.shape, y_test_2.shape) "
   ]
  },
  {
   "cell_type": "code",
   "execution_count": 54,
   "metadata": {},
   "outputs": [
    {
     "data": {
      "text/html": [
       "<style>#sk-container-id-2 {color: black;}#sk-container-id-2 pre{padding: 0;}#sk-container-id-2 div.sk-toggleable {background-color: white;}#sk-container-id-2 label.sk-toggleable__label {cursor: pointer;display: block;width: 100%;margin-bottom: 0;padding: 0.3em;box-sizing: border-box;text-align: center;}#sk-container-id-2 label.sk-toggleable__label-arrow:before {content: \"▸\";float: left;margin-right: 0.25em;color: #696969;}#sk-container-id-2 label.sk-toggleable__label-arrow:hover:before {color: black;}#sk-container-id-2 div.sk-estimator:hover label.sk-toggleable__label-arrow:before {color: black;}#sk-container-id-2 div.sk-toggleable__content {max-height: 0;max-width: 0;overflow: hidden;text-align: left;background-color: #f0f8ff;}#sk-container-id-2 div.sk-toggleable__content pre {margin: 0.2em;color: black;border-radius: 0.25em;background-color: #f0f8ff;}#sk-container-id-2 input.sk-toggleable__control:checked~div.sk-toggleable__content {max-height: 200px;max-width: 100%;overflow: auto;}#sk-container-id-2 input.sk-toggleable__control:checked~label.sk-toggleable__label-arrow:before {content: \"▾\";}#sk-container-id-2 div.sk-estimator input.sk-toggleable__control:checked~label.sk-toggleable__label {background-color: #d4ebff;}#sk-container-id-2 div.sk-label input.sk-toggleable__control:checked~label.sk-toggleable__label {background-color: #d4ebff;}#sk-container-id-2 input.sk-hidden--visually {border: 0;clip: rect(1px 1px 1px 1px);clip: rect(1px, 1px, 1px, 1px);height: 1px;margin: -1px;overflow: hidden;padding: 0;position: absolute;width: 1px;}#sk-container-id-2 div.sk-estimator {font-family: monospace;background-color: #f0f8ff;border: 1px dotted black;border-radius: 0.25em;box-sizing: border-box;margin-bottom: 0.5em;}#sk-container-id-2 div.sk-estimator:hover {background-color: #d4ebff;}#sk-container-id-2 div.sk-parallel-item::after {content: \"\";width: 100%;border-bottom: 1px solid gray;flex-grow: 1;}#sk-container-id-2 div.sk-label:hover label.sk-toggleable__label {background-color: #d4ebff;}#sk-container-id-2 div.sk-serial::before {content: \"\";position: absolute;border-left: 1px solid gray;box-sizing: border-box;top: 0;bottom: 0;left: 50%;z-index: 0;}#sk-container-id-2 div.sk-serial {display: flex;flex-direction: column;align-items: center;background-color: white;padding-right: 0.2em;padding-left: 0.2em;position: relative;}#sk-container-id-2 div.sk-item {position: relative;z-index: 1;}#sk-container-id-2 div.sk-parallel {display: flex;align-items: stretch;justify-content: center;background-color: white;position: relative;}#sk-container-id-2 div.sk-item::before, #sk-container-id-2 div.sk-parallel-item::before {content: \"\";position: absolute;border-left: 1px solid gray;box-sizing: border-box;top: 0;bottom: 0;left: 50%;z-index: -1;}#sk-container-id-2 div.sk-parallel-item {display: flex;flex-direction: column;z-index: 1;position: relative;background-color: white;}#sk-container-id-2 div.sk-parallel-item:first-child::after {align-self: flex-end;width: 50%;}#sk-container-id-2 div.sk-parallel-item:last-child::after {align-self: flex-start;width: 50%;}#sk-container-id-2 div.sk-parallel-item:only-child::after {width: 0;}#sk-container-id-2 div.sk-dashed-wrapped {border: 1px dashed gray;margin: 0 0.4em 0.5em 0.4em;box-sizing: border-box;padding-bottom: 0.4em;background-color: white;}#sk-container-id-2 div.sk-label label {font-family: monospace;font-weight: bold;display: inline-block;line-height: 1.2em;}#sk-container-id-2 div.sk-label-container {text-align: center;}#sk-container-id-2 div.sk-container {/* jupyter's `normalize.less` sets `[hidden] { display: none; }` but bootstrap.min.css set `[hidden] { display: none !important; }` so we also need the `!important` here to be able to override the default hidden behavior on the sphinx rendered scikit-learn.org. See: https://github.com/scikit-learn/scikit-learn/issues/21755 */display: inline-block !important;position: relative;}#sk-container-id-2 div.sk-text-repr-fallback {display: none;}</style><div id=\"sk-container-id-2\" class=\"sk-top-container\"><div class=\"sk-text-repr-fallback\"><pre>StandardScaler()</pre><b>In a Jupyter environment, please rerun this cell to show the HTML representation or trust the notebook. <br />On GitHub, the HTML representation is unable to render, please try loading this page with nbviewer.org.</b></div><div class=\"sk-container\" hidden><div class=\"sk-item\"><div class=\"sk-estimator sk-toggleable\"><input class=\"sk-toggleable__control sk-hidden--visually\" id=\"sk-estimator-id-2\" type=\"checkbox\" checked><label for=\"sk-estimator-id-2\" class=\"sk-toggleable__label sk-toggleable__label-arrow\">StandardScaler</label><div class=\"sk-toggleable__content\"><pre>StandardScaler()</pre></div></div></div></div></div>"
      ],
      "text/plain": [
       "StandardScaler()"
      ]
     },
     "execution_count": 54,
     "metadata": {},
     "output_type": "execute_result"
    }
   ],
   "source": [
    "# масштабируем числовые признаки\n",
    "numeric = ['CreditScore', 'Age', 'Tenure', 'Balance', 'NumOfProducts','EstimatedSalary']\n",
    "scaler = StandardScaler()\n",
    "scaler.fit(X_train_2[numeric])  "
   ]
  },
  {
   "cell_type": "code",
   "execution_count": 55,
   "metadata": {},
   "outputs": [],
   "source": [
    "# преобразуем выборки функцией transform(). \n",
    "X_train_2[numeric] = scaler.transform(X_train_2[numeric])\n",
    "X_valid_2[numeric] = scaler.transform(X_valid_2[numeric]) \n",
    "X_test_2[numeric] = scaler.transform(X_test_2[numeric]) \n",
    "pd.options.mode.chained_assignment = None"
   ]
  },
  {
   "cell_type": "markdown",
   "metadata": {},
   "source": [
    "### Анализ классов и исследование несбалансированной модели"
   ]
  },
  {
   "cell_type": "code",
   "execution_count": 56,
   "metadata": {},
   "outputs": [
    {
     "name": "stdout",
     "output_type": "stream",
     "text": [
      "Класс 0 = 4781\n",
      "Класс 1 = 1219\n",
      "Сотношение классов 4 к 1\n"
     ]
    }
   ],
   "source": [
    "# проверка соотношение классов \n",
    "print('Класс 0 =', y_train_2[y_train_2 == 0].count())\n",
    "print('Класс 1 =', y_train_2[y_train_2 == 1].count())\n",
    "print('Сотношение классов', round(y_train[y_train == 0].count() / y_train[y_train == 1].count()), 'к 1')"
   ]
  },
  {
   "cell_type": "code",
   "execution_count": 57,
   "metadata": {},
   "outputs": [
    {
     "name": "stdout",
     "output_type": "stream",
     "text": [
      "F1: 0.29378531073446323\n"
     ]
    }
   ],
   "source": [
    "# LogisticRegression()\n",
    "model_unbalanced_LR_2 = LogisticRegression(random_state=12345, solver='liblinear').fit(X_train_2, y_train_2) \n",
    "predicted_valid = model_unbalanced_LR_2.predict(X_valid_2)\n",
    "print(\"F1:\", f1_score(y_valid_2, predicted_valid))"
   ]
  },
  {
   "cell_type": "code",
   "execution_count": 58,
   "metadata": {},
   "outputs": [
    {
     "name": "stdout",
     "output_type": "stream",
     "text": [
      "F1: 0.4900497512437811\n"
     ]
    }
   ],
   "source": [
    "# DecisionTreeClassifier()\n",
    "model_unbalanced_DTC_2 = DecisionTreeClassifier(random_state=12345).fit(X_train_2, y_train_2)\n",
    "predicted_valid = model_unbalanced_DTC_2.predict(X_valid_2)\n",
    "print(\"F1:\", f1_score(y_valid_2, predicted_valid))"
   ]
  },
  {
   "cell_type": "code",
   "execution_count": 59,
   "metadata": {},
   "outputs": [
    {
     "name": "stdout",
     "output_type": "stream",
     "text": [
      "F1: 0.561290322580645\n"
     ]
    }
   ],
   "source": [
    "# RandomForestClassifier()\n",
    "model_unbalanced_RFC_2 = RandomForestClassifier(random_state=12345).fit(X_train_2, y_train_2)\n",
    "predicted_valid = model_unbalanced_RFC_2.predict(X_valid_2)\n",
    "print(\"F1:\", f1_score(y_valid_2, predicted_valid))"
   ]
  },
  {
   "cell_type": "code",
   "execution_count": 60,
   "metadata": {},
   "outputs": [
    {
     "name": "stdout",
     "output_type": "stream",
     "text": [
      "auc_roc равна =  0.8413606964660105\n"
     ]
    }
   ],
   "source": [
    "# расчет auc_roc на валидационной выборке по несбалансированной лучшей модели - model_unbalanced_DTC\n",
    "probabilities_valid = model_unbalanced_RFC_2.predict_proba(X_valid_2) \n",
    "probabilities_one_valid = probabilities_valid[:, 1]\n",
    "auc_roc = roc_auc_score(y_valid_2, probabilities_one_valid)\n",
    "print('auc_roc равна = ', auc_roc)"
   ]
  },
  {
   "cell_type": "code",
   "execution_count": 61,
   "metadata": {},
   "outputs": [
    {
     "name": "stdout",
     "output_type": "stream",
     "text": [
      "auc_roc равна =  0.858091982533115\n"
     ]
    }
   ],
   "source": [
    "# расчет auc_roc на тестовой выборке по несбалансированной лучшей модели - model_unbalanced_DTC\n",
    "probabilities_valid = model_unbalanced_RFC_2.predict_proba(X_test_2) \n",
    "probabilities_one_valid = probabilities_valid[:, 1]\n",
    "auc_roc = roc_auc_score(y_test_2, probabilities_one_valid)\n",
    "print('auc_roc равна = ', auc_roc)"
   ]
  },
  {
   "cell_type": "markdown",
   "metadata": {},
   "source": [
    "### Итоги, выводы  п.6.1\n",
    "- классы не сбалансированы, сооотношение классов 4 к 1\n",
    "- при применение RandomForestClassifier метрика f1 достигает 0.56 < 0.59 \n",
    "- сделан расчет auc_roc на валидационной выборке по несбалансированной лучшей модели - 0.84\n",
    "- сделан расчет auc_roc на тестовой выборке по несбалансированной лучшей модели - 0.86\n",
    "- далее используем различные методы для того чтобы убрать дисбаланс и на сбалансированых выборках оценить f1"
   ]
  },
  {
   "cell_type": "markdown",
   "metadata": {},
   "source": [
    "#### чтобы убрать дисбаланс классов используем при формировании модели аргумент class_weight='balanced'"
   ]
  },
  {
   "cell_type": "code",
   "execution_count": 62,
   "metadata": {},
   "outputs": [
    {
     "name": "stdout",
     "output_type": "stream",
     "text": [
      "F1: 0.47864768683274017\n"
     ]
    }
   ],
   "source": [
    "# обучение модели и оценка f1 через LogisticRegression()\n",
    "model_balanced_LR_data_2 = LogisticRegression(random_state=12345, solver='liblinear', class_weight='balanced').fit(X_train_2, y_train_2)\n",
    "predicted_valid = model_balanced_LR_data_2.predict(X_valid_2)\n",
    "print(\"F1:\", f1_score(y_valid_2, predicted_valid))"
   ]
  },
  {
   "cell_type": "code",
   "execution_count": 63,
   "metadata": {},
   "outputs": [
    {
     "name": "stdout",
     "output_type": "stream",
     "text": [
      "F1 лучшей модели: 0.5587044534412956\n",
      "Лучшая модель: DecisionTreeClassifier(class_weight='balanced', max_depth=6, random_state=12345)\n"
     ]
    }
   ],
   "source": [
    "# обучение модели и оценка f1 через DecisionTreeClassifier() с перебором глубины дерева в цикле\n",
    "best_model_DTC_data_2 = None\n",
    "best_result_DTC_data_2 = 0\n",
    "for depth in range(1, 16):\n",
    "    model_balanced_DTC_data_2 = DecisionTreeClassifier(random_state=12345, max_depth=depth, class_weight='balanced')\n",
    "    model_balanced_DTC_data_2.fit(X_train_2, y_train_2)\n",
    "    predicted_valid = model_balanced_DTC_data_2.predict(X_valid_2)\n",
    "    res_balanced_DTC_data_2 = f1_score(y_valid_2, predicted_valid)\n",
    "    if res_balanced_DTC_data_2 > best_result_DTC_data_2:\n",
    "        best_model_DTC_data_2 = model_balanced_DTC_data_2\n",
    "        best_result_DTC_data_2 = res_balanced_DTC_data_2\n",
    "\n",
    "print(\"F1 лучшей модели:\", best_result_DTC_data_2)\n",
    "print('Лучшая модель:', best_model_DTC_data_2)"
   ]
  },
  {
   "cell_type": "code",
   "execution_count": 64,
   "metadata": {},
   "outputs": [
    {
     "name": "stdout",
     "output_type": "stream",
     "text": [
      "F1 лучшей модели: 0.59846547314578\n",
      "Лучшая модель: RandomForestClassifier(class_weight='balanced', max_depth=10, n_estimators=40,\n",
      "                       random_state=12345)\n"
     ]
    }
   ],
   "source": [
    "# обучение модели и оценка f1 через RandomForestClassifier() с переборм глубины дерева и количества деревьев в цикле\n",
    "best_model_RFC_data_2 = None\n",
    "best_result_RFC_data_2 = 0\n",
    "for est in range(10, 110, 10):\n",
    "    for i in range(1, 11):\n",
    "        model_balanced_RFC_data_2 = RandomForestClassifier(random_state=12345, n_estimators=est, max_depth=i, class_weight='balanced')\n",
    "        model_balanced_RFC_data_2.fit(X_train_2, y_train_2)\n",
    "        predicted_valid = model_balanced_RFC_data_2.predict(X_valid_2)\n",
    "        res_balanced_RFC_data_2 = f1_score(y_valid_2,predicted_valid)\n",
    "        if res_balanced_RFC_data_2 > best_result_RFC_data_2:\n",
    "            best_model_RFC_data_2 = model_balanced_RFC_data_2\n",
    "            best_result_RFC_data_2 = res_balanced_RFC_data_2\n",
    "    \n",
    "print(\"F1 лучшей модели:\", best_result_RFC_data_2)\n",
    "print('Лучшая модель:', best_model_RFC_data_2)"
   ]
  },
  {
   "cell_type": "code",
   "execution_count": 65,
   "metadata": {},
   "outputs": [
    {
     "name": "stdout",
     "output_type": "stream",
     "text": [
      "auc_roc равна =  0.8445763043239831\n"
     ]
    }
   ],
   "source": [
    "# расчет auc_roc по лучшей модели на валидационной выборке \n",
    "probabilities_valid = best_model_RFC_data_2.predict_proba(X_valid_2) \n",
    "probabilities_one_valid = probabilities_valid[:, 1]\n",
    "auc_roc = roc_auc_score(y_valid_2, probabilities_one_valid)\n",
    "print('auc_roc равна = ', auc_roc)"
   ]
  },
  {
   "cell_type": "code",
   "execution_count": 66,
   "metadata": {},
   "outputs": [
    {
     "name": "stdout",
     "output_type": "stream",
     "text": [
      "auc_roc равна =  0.8684742976844317\n"
     ]
    }
   ],
   "source": [
    "# расчет auc_roc по лучшей модели на тестовой выборке \n",
    "probabilities_valid = best_model_RFC_data_2.predict_proba(X_test_2) \n",
    "probabilities_one_valid = probabilities_valid[:, 1]\n",
    "auc_roc = roc_auc_score(y_test_2, probabilities_one_valid)\n",
    "print('auc_roc равна = ', auc_roc)"
   ]
  },
  {
   "cell_type": "markdown",
   "metadata": {},
   "source": [
    "### Итоги, выводы п.6\n",
    "лучшая модель - best_result_RFC_data_2 - проходит тест\n",
    "\n",
    "- f1 модели = 0.60 > 0.59\n",
    "- auc_roc модели на валидационной выборке = 0.85\n",
    "- auc_roc модели на тестовой выборке = 0.87\n",
    "\n",
    "параметры модели:\n",
    "\n",
    "RandomForestClassifier(class_weight='balanced', max_depth=10, n_estimators=40, random_state=12345)"
   ]
  },
  {
   "cell_type": "markdown",
   "metadata": {},
   "source": [
    "##  Сравнение метрик по data и data_2\n",
    "<b> data, удалены пропущеные значения</b> \n",
    "\n",
    "лучшая модель - best_model_RFC - проходит тест \n",
    "    \n",
    "параметры модели: RandomForestClassifier(class_weight='balanced', max_depth=8, n_estimators=40, random_state=12345) \n",
    "    \n",
    "метрики модели:\n",
    "- f1 модели = 0.60\n",
    "- auc_roc модели на валидационной выборке = 0.85\n",
    "- auc_roc модели на тестовой выборке = 0.86\n",
    "\n",
    "<b> data_2, пропущеные значения заменены случайными значениями</b>\n",
    "\n",
    "лучшая модель - best_result_RFC_data_2 - проходит тест\n",
    "\n",
    "параметры модели: RandomForestClassifier(class_weight='balanced', max_depth=8, n_estimators=40, random_state=12345)\n",
    "\n",
    "метрики модели:   \n",
    "- f1 модели = 0.60\n",
    "- auc_roc модели на валидационной выборке = 0.85\n",
    "- auc_roc модели на тестовой выборке = 0.86\n",
    "\n",
    "\n",
    "Выводы:\n",
    "- метрики в обоих исследованиях практически идентичны;\n",
    "- параметры лучших моделй:\n",
    "    - RandomForestClassifier(class_weight='balanced', max_depth=10, n_estimators=90)\n",
    "    - RandomForestClassifier(class_weight='balanced', max_depth=10, n_estimators=40)"
   ]
  },
  {
   "cell_type": "markdown",
   "metadata": {},
   "source": [
    "## feature_importances_"
   ]
  },
  {
   "cell_type": "code",
   "execution_count": 67,
   "metadata": {},
   "outputs": [
    {
     "data": {
      "text/html": [
       "<div>\n",
       "<style scoped>\n",
       "    .dataframe tbody tr th:only-of-type {\n",
       "        vertical-align: middle;\n",
       "    }\n",
       "\n",
       "    .dataframe tbody tr th {\n",
       "        vertical-align: top;\n",
       "    }\n",
       "\n",
       "    .dataframe thead th {\n",
       "        text-align: right;\n",
       "    }\n",
       "</style>\n",
       "<table border=\"1\" class=\"dataframe\">\n",
       "  <thead>\n",
       "    <tr style=\"text-align: right;\">\n",
       "      <th></th>\n",
       "      <th>feature</th>\n",
       "      <th>importance</th>\n",
       "    </tr>\n",
       "  </thead>\n",
       "  <tbody>\n",
       "    <tr>\n",
       "      <th>0</th>\n",
       "      <td>Age</td>\n",
       "      <td>0.313773</td>\n",
       "    </tr>\n",
       "    <tr>\n",
       "      <th>1</th>\n",
       "      <td>NumOfProducts</td>\n",
       "      <td>0.206877</td>\n",
       "    </tr>\n",
       "    <tr>\n",
       "      <th>2</th>\n",
       "      <td>Balance</td>\n",
       "      <td>0.118364</td>\n",
       "    </tr>\n",
       "    <tr>\n",
       "      <th>3</th>\n",
       "      <td>EstimatedSalary</td>\n",
       "      <td>0.096608</td>\n",
       "    </tr>\n",
       "    <tr>\n",
       "      <th>4</th>\n",
       "      <td>CreditScore</td>\n",
       "      <td>0.090893</td>\n",
       "    </tr>\n",
       "    <tr>\n",
       "      <th>5</th>\n",
       "      <td>Tenure</td>\n",
       "      <td>0.051763</td>\n",
       "    </tr>\n",
       "    <tr>\n",
       "      <th>6</th>\n",
       "      <td>IsActiveMember</td>\n",
       "      <td>0.039693</td>\n",
       "    </tr>\n",
       "    <tr>\n",
       "      <th>7</th>\n",
       "      <td>Geography_Germany</td>\n",
       "      <td>0.038312</td>\n",
       "    </tr>\n",
       "    <tr>\n",
       "      <th>8</th>\n",
       "      <td>Gender_Male</td>\n",
       "      <td>0.019813</td>\n",
       "    </tr>\n",
       "    <tr>\n",
       "      <th>9</th>\n",
       "      <td>HasCrCard</td>\n",
       "      <td>0.012477</td>\n",
       "    </tr>\n",
       "  </tbody>\n",
       "</table>\n",
       "</div>"
      ],
      "text/plain": [
       "             feature  importance\n",
       "0                Age    0.313773\n",
       "1      NumOfProducts    0.206877\n",
       "2            Balance    0.118364\n",
       "3    EstimatedSalary    0.096608\n",
       "4        CreditScore    0.090893\n",
       "5             Tenure    0.051763\n",
       "6     IsActiveMember    0.039693\n",
       "7  Geography_Germany    0.038312\n",
       "8        Gender_Male    0.019813\n",
       "9          HasCrCard    0.012477"
      ]
     },
     "execution_count": 67,
     "metadata": {},
     "output_type": "execute_result"
    }
   ],
   "source": [
    "# вывод feature_importances_ по модели best_model_RFC обученой на data\n",
    "importances = best_model_RFC.feature_importances_\n",
    "feature_list = list(X_train.columns)\n",
    "feature_results = pd.DataFrame({'feature': feature_list,'importance': importances})\n",
    "feature_results = feature_results.sort_values('importance',ascending = False).reset_index(drop=True)\n",
    "\n",
    "feature_results.head(10)"
   ]
  },
  {
   "cell_type": "code",
   "execution_count": 90,
   "metadata": {},
   "outputs": [
    {
     "data": {
      "image/png": "[encoded data removed]",
      "text/plain": [
       "<Figure size 720x360 with 1 Axes>"
      ]
     },
     "metadata": {
      "needs_background": "light"
     },
     "output_type": "display_data"
    }
   ],
   "source": [
    "feature_results = feature_results.sort_values(by='importance')\n",
    "feature_results.plot(kind='barh', x='feature', y='importance',\n",
    "                     grid=True, title='feature_importances', figsize=(10,5));"
   ]
  }
 ],
 "metadata": {
  "ExecuteTimeLog": [
   {
    "duration": 1913,
    "start_time": "2023-05-01T07:42:10.585Z"
   },
   {
    "duration": 99,
    "start_time": "2023-05-01T07:45:25.574Z"
   },
   {
    "duration": 148,
    "start_time": "2023-05-01T07:47:30.370Z"
   },
   {
    "duration": 1552,
    "start_time": "2023-05-01T08:25:46.420Z"
   },
   {
    "duration": 84,
    "start_time": "2023-05-01T08:25:47.974Z"
   },
   {
    "duration": 44,
    "start_time": "2023-05-01T08:25:50.537Z"
   },
   {
    "duration": 180,
    "start_time": "2023-05-01T08:27:54.417Z"
   },
   {
    "duration": 28,
    "start_time": "2023-05-01T08:28:02.989Z"
   },
   {
    "duration": 12,
    "start_time": "2023-05-01T08:29:07.579Z"
   },
   {
    "duration": 8,
    "start_time": "2023-05-01T08:29:30.604Z"
   },
   {
    "duration": 20,
    "start_time": "2023-05-01T08:38:38.733Z"
   },
   {
    "duration": 1431,
    "start_time": "2023-05-01T08:41:39.167Z"
   },
   {
    "duration": 138,
    "start_time": "2023-05-01T08:42:44.322Z"
   },
   {
    "duration": 156,
    "start_time": "2023-05-01T08:43:09.055Z"
   },
   {
    "duration": 8,
    "start_time": "2023-05-01T08:43:19.814Z"
   },
   {
    "duration": 43,
    "start_time": "2023-05-01T08:43:36.566Z"
   },
   {
    "duration": 18,
    "start_time": "2023-05-01T08:44:21.570Z"
   },
   {
    "duration": 11,
    "start_time": "2023-05-01T08:50:53.428Z"
   },
   {
    "duration": 10,
    "start_time": "2023-05-01T08:51:47.410Z"
   },
   {
    "duration": 5,
    "start_time": "2023-05-01T08:52:24.810Z"
   },
   {
    "duration": 84,
    "start_time": "2023-05-01T08:52:26.775Z"
   },
   {
    "duration": 32,
    "start_time": "2023-05-01T08:52:26.968Z"
   },
   {
    "duration": 18,
    "start_time": "2023-05-01T08:52:27.189Z"
   },
   {
    "duration": 19,
    "start_time": "2023-05-01T08:52:27.435Z"
   },
   {
    "duration": 6,
    "start_time": "2023-05-01T08:52:27.724Z"
   },
   {
    "duration": 13,
    "start_time": "2023-05-01T08:52:28.292Z"
   },
   {
    "duration": 13,
    "start_time": "2023-05-01T08:52:28.675Z"
   },
   {
    "duration": 279,
    "start_time": "2023-05-01T08:52:55.220Z"
   },
   {
    "duration": 8,
    "start_time": "2023-05-01T08:57:32.757Z"
   },
   {
    "duration": 17,
    "start_time": "2023-05-01T09:03:52.216Z"
   },
   {
    "duration": 10,
    "start_time": "2023-05-01T09:08:30.935Z"
   },
   {
    "duration": 8,
    "start_time": "2023-05-01T09:08:45.739Z"
   },
   {
    "duration": 28,
    "start_time": "2023-05-01T09:09:37.561Z"
   },
   {
    "duration": 32,
    "start_time": "2023-05-01T09:09:46.534Z"
   },
   {
    "duration": 10,
    "start_time": "2023-05-01T09:09:55.265Z"
   },
   {
    "duration": 59,
    "start_time": "2023-05-01T09:09:55.763Z"
   },
   {
    "duration": 14,
    "start_time": "2023-05-01T09:09:56.420Z"
   },
   {
    "duration": 21,
    "start_time": "2023-05-01T09:09:57.132Z"
   },
   {
    "duration": 14,
    "start_time": "2023-05-01T09:09:57.883Z"
   },
   {
    "duration": 9,
    "start_time": "2023-05-01T09:09:59.384Z"
   },
   {
    "duration": 15,
    "start_time": "2023-05-01T09:10:00.635Z"
   },
   {
    "duration": 6,
    "start_time": "2023-05-01T09:10:20.028Z"
   },
   {
    "duration": 8,
    "start_time": "2023-05-01T09:10:38.323Z"
   },
   {
    "duration": 6,
    "start_time": "2023-05-01T09:10:49.395Z"
   },
   {
    "duration": 23,
    "start_time": "2023-05-01T09:13:58.836Z"
   },
   {
    "duration": 15,
    "start_time": "2023-05-01T09:15:51.183Z"
   },
   {
    "duration": 18,
    "start_time": "2023-05-01T09:16:24.189Z"
   },
   {
    "duration": 212,
    "start_time": "2023-05-01T09:16:28.179Z"
   },
   {
    "duration": 115,
    "start_time": "2023-05-01T09:16:29.078Z"
   },
   {
    "duration": 12,
    "start_time": "2023-05-01T09:16:30.027Z"
   },
   {
    "duration": 96,
    "start_time": "2023-05-01T09:36:56.744Z"
   },
   {
    "duration": 53,
    "start_time": "2023-05-01T09:36:57.550Z"
   },
   {
    "duration": 5,
    "start_time": "2023-05-01T09:37:39.255Z"
   },
   {
    "duration": 14,
    "start_time": "2023-05-01T09:38:12.179Z"
   },
   {
    "duration": 69,
    "start_time": "2023-05-01T09:38:26.207Z"
   },
   {
    "duration": 50,
    "start_time": "2023-05-01T09:38:26.822Z"
   },
   {
    "duration": 6,
    "start_time": "2023-05-01T09:38:27.422Z"
   },
   {
    "duration": 6,
    "start_time": "2023-05-01T09:39:28.989Z"
   },
   {
    "duration": 4,
    "start_time": "2023-05-01T09:52:18.016Z"
   },
   {
    "duration": 51,
    "start_time": "2023-05-01T09:52:19.408Z"
   },
   {
    "duration": 14,
    "start_time": "2023-05-01T09:52:19.607Z"
   },
   {
    "duration": 16,
    "start_time": "2023-05-01T09:52:19.759Z"
   },
   {
    "duration": 20,
    "start_time": "2023-05-01T09:52:19.927Z"
   },
   {
    "duration": 9,
    "start_time": "2023-05-01T09:52:20.105Z"
   },
   {
    "duration": 5,
    "start_time": "2023-05-01T09:52:20.605Z"
   },
   {
    "duration": 17,
    "start_time": "2023-05-01T09:52:20.935Z"
   },
   {
    "duration": 217,
    "start_time": "2023-05-01T09:52:21.128Z"
   },
   {
    "duration": 49,
    "start_time": "2023-05-01T09:52:21.347Z"
   },
   {
    "duration": 56,
    "start_time": "2023-05-01T09:52:21.511Z"
   },
   {
    "duration": 49,
    "start_time": "2023-05-01T09:52:21.730Z"
   },
   {
    "duration": 5,
    "start_time": "2023-05-01T09:52:21.920Z"
   },
   {
    "duration": 12,
    "start_time": "2023-05-01T09:52:22.119Z"
   },
   {
    "duration": 12,
    "start_time": "2023-05-01T09:52:54.999Z"
   },
   {
    "duration": 17,
    "start_time": "2023-05-01T09:53:04.208Z"
   },
   {
    "duration": 134,
    "start_time": "2023-05-01T09:56:16.271Z"
   },
   {
    "duration": 17,
    "start_time": "2023-05-01T09:57:38.233Z"
   },
   {
    "duration": 11,
    "start_time": "2023-05-01T09:58:26.518Z"
   },
   {
    "duration": 19,
    "start_time": "2023-05-01T09:58:27.336Z"
   },
   {
    "duration": 6,
    "start_time": "2023-05-01T10:02:16.312Z"
   },
   {
    "duration": 11,
    "start_time": "2023-05-01T10:02:16.936Z"
   },
   {
    "duration": 16,
    "start_time": "2023-05-01T10:02:17.715Z"
   },
   {
    "duration": 1278,
    "start_time": "2023-05-01T10:02:26.101Z"
   },
   {
    "duration": 64,
    "start_time": "2023-05-01T10:02:27.382Z"
   },
   {
    "duration": 16,
    "start_time": "2023-05-01T10:02:27.448Z"
   },
   {
    "duration": 21,
    "start_time": "2023-05-01T10:02:27.466Z"
   },
   {
    "duration": 22,
    "start_time": "2023-05-01T10:02:27.490Z"
   },
   {
    "duration": 28,
    "start_time": "2023-05-01T10:02:27.514Z"
   },
   {
    "duration": 7,
    "start_time": "2023-05-01T10:02:27.545Z"
   },
   {
    "duration": 42,
    "start_time": "2023-05-01T10:02:27.554Z"
   },
   {
    "duration": 223,
    "start_time": "2023-05-01T10:02:27.598Z"
   },
   {
    "duration": 78,
    "start_time": "2023-05-01T10:02:27.823Z"
   },
   {
    "duration": 100,
    "start_time": "2023-05-01T10:02:27.903Z"
   },
   {
    "duration": 63,
    "start_time": "2023-05-01T10:02:28.005Z"
   },
   {
    "duration": 6,
    "start_time": "2023-05-01T10:02:28.070Z"
   },
   {
    "duration": 34,
    "start_time": "2023-05-01T10:02:28.080Z"
   },
   {
    "duration": 133,
    "start_time": "2023-05-01T10:02:28.116Z"
   },
   {
    "duration": 28,
    "start_time": "2023-05-01T10:04:36.730Z"
   },
   {
    "duration": 9,
    "start_time": "2023-05-01T10:05:39.304Z"
   },
   {
    "duration": 26,
    "start_time": "2023-05-01T10:07:06.541Z"
   },
   {
    "duration": 10,
    "start_time": "2023-05-01T10:12:25.402Z"
   },
   {
    "duration": 10,
    "start_time": "2023-05-01T10:12:26.005Z"
   },
   {
    "duration": 25,
    "start_time": "2023-05-01T10:12:26.546Z"
   },
   {
    "duration": 14,
    "start_time": "2023-05-01T10:17:01.747Z"
   },
   {
    "duration": 8,
    "start_time": "2023-05-01T10:17:25.804Z"
   },
   {
    "duration": 8,
    "start_time": "2023-05-01T10:17:57.603Z"
   },
   {
    "duration": 7,
    "start_time": "2023-05-01T10:18:15.451Z"
   },
   {
    "duration": 6,
    "start_time": "2023-05-01T10:18:22.243Z"
   },
   {
    "duration": 6,
    "start_time": "2023-05-01T10:18:29.652Z"
   },
   {
    "duration": 6,
    "start_time": "2023-05-01T10:18:49.000Z"
   },
   {
    "duration": 1039,
    "start_time": "2023-05-01T15:09:22.713Z"
   },
   {
    "duration": 92,
    "start_time": "2023-05-01T15:09:23.754Z"
   },
   {
    "duration": 11,
    "start_time": "2023-05-01T15:09:23.847Z"
   },
   {
    "duration": 16,
    "start_time": "2023-05-01T15:09:23.860Z"
   },
   {
    "duration": 10,
    "start_time": "2023-05-01T15:09:23.878Z"
   },
   {
    "duration": 17,
    "start_time": "2023-05-01T15:09:23.890Z"
   },
   {
    "duration": 10,
    "start_time": "2023-05-01T15:09:23.909Z"
   },
   {
    "duration": 20,
    "start_time": "2023-05-01T15:09:23.921Z"
   },
   {
    "duration": 188,
    "start_time": "2023-05-01T15:09:23.943Z"
   },
   {
    "duration": 67,
    "start_time": "2023-05-01T15:09:24.134Z"
   },
   {
    "duration": 59,
    "start_time": "2023-05-01T15:09:24.203Z"
   },
   {
    "duration": 59,
    "start_time": "2023-05-01T15:09:24.264Z"
   },
   {
    "duration": 4,
    "start_time": "2023-05-01T15:09:24.325Z"
   },
   {
    "duration": 34,
    "start_time": "2023-05-01T15:09:24.330Z"
   },
   {
    "duration": 26,
    "start_time": "2023-05-01T15:09:24.366Z"
   },
   {
    "duration": 4,
    "start_time": "2023-05-01T15:09:24.394Z"
   },
   {
    "duration": 1496,
    "start_time": "2023-05-01T15:09:24.399Z"
   },
   {
    "duration": 18,
    "start_time": "2023-05-01T15:10:08.521Z"
   },
   {
    "duration": 5,
    "start_time": "2023-05-01T15:10:17.702Z"
   },
   {
    "duration": 1849,
    "start_time": "2023-05-01T15:10:18.344Z"
   },
   {
    "duration": 290,
    "start_time": "2023-05-01T15:14:07.673Z"
   },
   {
    "duration": 3,
    "start_time": "2023-05-01T15:14:36.146Z"
   },
   {
    "duration": 36,
    "start_time": "2023-05-01T15:14:47.249Z"
   },
   {
    "duration": 6,
    "start_time": "2023-05-01T15:15:49.500Z"
   },
   {
    "duration": 6,
    "start_time": "2023-05-01T15:16:47.536Z"
   },
   {
    "duration": 6,
    "start_time": "2023-05-01T15:16:55.345Z"
   },
   {
    "duration": 322,
    "start_time": "2023-05-01T15:22:58.682Z"
   },
   {
    "duration": 79,
    "start_time": "2023-05-01T15:26:23.968Z"
   },
   {
    "duration": 363,
    "start_time": "2023-05-01T15:26:43.746Z"
   },
   {
    "duration": 8,
    "start_time": "2023-05-01T15:27:22.114Z"
   },
   {
    "duration": 69,
    "start_time": "2023-05-01T15:28:12.122Z"
   },
   {
    "duration": 572,
    "start_time": "2023-05-01T15:28:31.042Z"
   },
   {
    "duration": 2,
    "start_time": "2023-05-01T15:30:36.922Z"
   },
   {
    "duration": 3,
    "start_time": "2023-05-01T15:36:44.755Z"
   },
   {
    "duration": 385,
    "start_time": "2023-05-01T15:39:39.011Z"
   },
   {
    "duration": 419,
    "start_time": "2023-05-01T15:40:53.472Z"
   },
   {
    "duration": 5476,
    "start_time": "2023-05-01T15:41:51.148Z"
   },
   {
    "duration": 2654,
    "start_time": "2023-05-01T15:50:35.796Z"
   },
   {
    "duration": 12,
    "start_time": "2023-05-01T16:02:13.254Z"
   },
   {
    "duration": 3988,
    "start_time": "2023-05-01T16:03:26.165Z"
   },
   {
    "duration": 39583,
    "start_time": "2023-05-01T16:05:36.157Z"
   },
   {
    "duration": 8,
    "start_time": "2023-05-01T16:10:40.887Z"
   },
   {
    "duration": 6,
    "start_time": "2023-05-01T16:10:50.877Z"
   },
   {
    "duration": 48,
    "start_time": "2023-05-01T16:13:50.630Z"
   },
   {
    "duration": 3,
    "start_time": "2023-05-01T16:14:22.575Z"
   },
   {
    "duration": 97,
    "start_time": "2023-05-01T16:14:27.910Z"
   },
   {
    "duration": 578,
    "start_time": "2023-05-01T16:14:29.718Z"
   },
   {
    "duration": 4459,
    "start_time": "2023-05-01T16:15:25.622Z"
   },
   {
    "duration": 491,
    "start_time": "2023-05-01T16:16:23.207Z"
   },
   {
    "duration": 6739,
    "start_time": "2023-05-01T16:17:27.943Z"
   },
   {
    "duration": 12,
    "start_time": "2023-05-01T16:18:25.768Z"
   },
   {
    "duration": 7,
    "start_time": "2023-05-01T16:18:34.087Z"
   },
   {
    "duration": 4,
    "start_time": "2023-05-01T16:19:02.279Z"
   },
   {
    "duration": 6513,
    "start_time": "2023-05-01T16:22:10.983Z"
   },
   {
    "duration": 219,
    "start_time": "2023-05-01T16:23:45.135Z"
   },
   {
    "duration": 56519,
    "start_time": "2023-05-01T16:24:38.520Z"
   },
   {
    "duration": 9,
    "start_time": "2023-05-01T16:35:37.231Z"
   },
   {
    "duration": 504,
    "start_time": "2023-05-01T16:35:45.992Z"
   },
   {
    "duration": 26,
    "start_time": "2023-05-01T16:36:07.500Z"
   },
   {
    "duration": 1047,
    "start_time": "2023-05-01T16:37:32.224Z"
   },
   {
    "duration": 51,
    "start_time": "2023-05-01T16:37:33.272Z"
   },
   {
    "duration": 11,
    "start_time": "2023-05-01T16:37:33.325Z"
   },
   {
    "duration": 11,
    "start_time": "2023-05-01T16:37:33.338Z"
   },
   {
    "duration": 9,
    "start_time": "2023-05-01T16:37:33.350Z"
   },
   {
    "duration": 5,
    "start_time": "2023-05-01T16:37:33.360Z"
   },
   {
    "duration": 28,
    "start_time": "2023-05-01T16:37:33.366Z"
   },
   {
    "duration": 17,
    "start_time": "2023-05-01T16:37:33.396Z"
   },
   {
    "duration": 189,
    "start_time": "2023-05-01T16:37:33.414Z"
   },
   {
    "duration": 56,
    "start_time": "2023-05-01T16:37:33.605Z"
   },
   {
    "duration": 60,
    "start_time": "2023-05-01T16:37:33.663Z"
   },
   {
    "duration": 41,
    "start_time": "2023-05-01T16:37:33.725Z"
   },
   {
    "duration": 4,
    "start_time": "2023-05-01T16:37:33.767Z"
   },
   {
    "duration": 26,
    "start_time": "2023-05-01T16:37:33.772Z"
   },
   {
    "duration": 20,
    "start_time": "2023-05-01T16:37:33.799Z"
   },
   {
    "duration": 6,
    "start_time": "2023-05-01T16:37:33.820Z"
   },
   {
    "duration": 369,
    "start_time": "2023-05-01T16:37:33.827Z"
   },
   {
    "duration": 705,
    "start_time": "2023-05-01T16:37:34.198Z"
   },
   {
    "duration": 336,
    "start_time": "2023-05-01T16:37:34.904Z"
   },
   {
    "duration": 4549,
    "start_time": "2023-05-01T16:37:35.295Z"
   },
   {
    "duration": 38476,
    "start_time": "2023-05-01T16:37:39.846Z"
   },
   {
    "duration": 94,
    "start_time": "2023-05-01T16:38:18.324Z"
   },
   {
    "duration": 5,
    "start_time": "2023-05-01T16:38:18.420Z"
   },
   {
    "duration": 525,
    "start_time": "2023-05-01T16:38:18.426Z"
   },
   {
    "duration": 6787,
    "start_time": "2023-05-01T16:38:18.995Z"
   },
   {
    "duration": 58365,
    "start_time": "2023-05-01T16:38:25.783Z"
   },
   {
    "duration": 49,
    "start_time": "2023-05-01T16:39:24.150Z"
   },
   {
    "duration": 40,
    "start_time": "2023-05-01T16:42:11.484Z"
   },
   {
    "duration": 52,
    "start_time": "2023-05-01T16:44:29.938Z"
   },
   {
    "duration": 6,
    "start_time": "2023-05-01T16:44:31.378Z"
   },
   {
    "duration": 90,
    "start_time": "2023-05-01T16:45:29.138Z"
   },
   {
    "duration": 49,
    "start_time": "2023-05-01T16:45:32.306Z"
   },
   {
    "duration": 5,
    "start_time": "2023-05-01T16:45:33.289Z"
   },
   {
    "duration": 193,
    "start_time": "2023-05-01T16:46:19.305Z"
   },
   {
    "duration": 1718,
    "start_time": "2023-05-01T16:47:25.786Z"
   },
   {
    "duration": 57412,
    "start_time": "2023-05-01T16:52:56.122Z"
   },
   {
    "duration": 21672,
    "start_time": "2023-05-01T16:54:29.547Z"
   },
   {
    "duration": 18,
    "start_time": "2023-05-01T17:10:24.307Z"
   },
   {
    "duration": 1011,
    "start_time": "2023-05-01T17:14:57.135Z"
   },
   {
    "duration": 52,
    "start_time": "2023-05-01T17:14:58.148Z"
   },
   {
    "duration": 10,
    "start_time": "2023-05-01T17:14:58.202Z"
   },
   {
    "duration": 12,
    "start_time": "2023-05-01T17:14:58.215Z"
   },
   {
    "duration": 11,
    "start_time": "2023-05-01T17:14:58.228Z"
   },
   {
    "duration": 6,
    "start_time": "2023-05-01T17:14:58.240Z"
   },
   {
    "duration": 7,
    "start_time": "2023-05-01T17:14:58.248Z"
   },
   {
    "duration": 248,
    "start_time": "2023-05-01T17:14:58.256Z"
   },
   {
    "duration": 65,
    "start_time": "2023-05-01T17:14:58.505Z"
   },
   {
    "duration": 68,
    "start_time": "2023-05-01T17:14:58.573Z"
   },
   {
    "duration": 57,
    "start_time": "2023-05-01T17:14:58.642Z"
   },
   {
    "duration": 4,
    "start_time": "2023-05-01T17:14:58.700Z"
   },
   {
    "duration": 8,
    "start_time": "2023-05-01T17:14:58.706Z"
   },
   {
    "duration": 20,
    "start_time": "2023-05-01T17:14:58.716Z"
   },
   {
    "duration": 8,
    "start_time": "2023-05-01T17:14:58.738Z"
   },
   {
    "duration": 398,
    "start_time": "2023-05-01T17:14:58.747Z"
   },
   {
    "duration": 0,
    "start_time": "2023-05-01T17:14:59.147Z"
   },
   {
    "duration": 0,
    "start_time": "2023-05-01T17:14:59.148Z"
   },
   {
    "duration": 0,
    "start_time": "2023-05-01T17:14:59.149Z"
   },
   {
    "duration": 0,
    "start_time": "2023-05-01T17:14:59.150Z"
   },
   {
    "duration": 0,
    "start_time": "2023-05-01T17:14:59.150Z"
   },
   {
    "duration": 0,
    "start_time": "2023-05-01T17:14:59.151Z"
   },
   {
    "duration": 0,
    "start_time": "2023-05-01T17:14:59.152Z"
   },
   {
    "duration": 0,
    "start_time": "2023-05-01T17:14:59.153Z"
   },
   {
    "duration": 0,
    "start_time": "2023-05-01T17:14:59.154Z"
   },
   {
    "duration": 0,
    "start_time": "2023-05-01T17:14:59.154Z"
   },
   {
    "duration": 0,
    "start_time": "2023-05-01T17:14:59.155Z"
   },
   {
    "duration": 0,
    "start_time": "2023-05-01T17:14:59.156Z"
   },
   {
    "duration": 0,
    "start_time": "2023-05-01T17:14:59.157Z"
   },
   {
    "duration": 0,
    "start_time": "2023-05-01T17:14:59.158Z"
   },
   {
    "duration": 0,
    "start_time": "2023-05-01T17:14:59.159Z"
   },
   {
    "duration": 20,
    "start_time": "2023-05-01T17:17:47.428Z"
   },
   {
    "duration": 6,
    "start_time": "2023-05-01T17:17:52.372Z"
   },
   {
    "duration": 13,
    "start_time": "2023-05-01T17:18:45.540Z"
   },
   {
    "duration": 1023,
    "start_time": "2023-05-01T17:24:59.556Z"
   },
   {
    "duration": 57,
    "start_time": "2023-05-01T17:25:00.581Z"
   },
   {
    "duration": 16,
    "start_time": "2023-05-01T17:25:00.640Z"
   },
   {
    "duration": 33,
    "start_time": "2023-05-01T17:25:00.658Z"
   },
   {
    "duration": 26,
    "start_time": "2023-05-01T17:25:00.693Z"
   },
   {
    "duration": 16,
    "start_time": "2023-05-01T17:25:00.721Z"
   },
   {
    "duration": 33,
    "start_time": "2023-05-01T17:25:00.739Z"
   },
   {
    "duration": 16,
    "start_time": "2023-05-01T17:25:00.774Z"
   },
   {
    "duration": 108,
    "start_time": "2023-05-01T17:25:00.791Z"
   },
   {
    "duration": 0,
    "start_time": "2023-05-01T17:25:00.901Z"
   },
   {
    "duration": 0,
    "start_time": "2023-05-01T17:25:00.902Z"
   },
   {
    "duration": 0,
    "start_time": "2023-05-01T17:25:00.904Z"
   },
   {
    "duration": 0,
    "start_time": "2023-05-01T17:25:00.904Z"
   },
   {
    "duration": 0,
    "start_time": "2023-05-01T17:25:00.906Z"
   },
   {
    "duration": 0,
    "start_time": "2023-05-01T17:25:00.907Z"
   },
   {
    "duration": 0,
    "start_time": "2023-05-01T17:25:00.908Z"
   },
   {
    "duration": 0,
    "start_time": "2023-05-01T17:25:00.908Z"
   },
   {
    "duration": 0,
    "start_time": "2023-05-01T17:25:00.910Z"
   },
   {
    "duration": 0,
    "start_time": "2023-05-01T17:25:00.911Z"
   },
   {
    "duration": 0,
    "start_time": "2023-05-01T17:25:00.912Z"
   },
   {
    "duration": 0,
    "start_time": "2023-05-01T17:25:00.913Z"
   },
   {
    "duration": 0,
    "start_time": "2023-05-01T17:25:00.914Z"
   },
   {
    "duration": 0,
    "start_time": "2023-05-01T17:25:00.915Z"
   },
   {
    "duration": 0,
    "start_time": "2023-05-01T17:25:00.916Z"
   },
   {
    "duration": 0,
    "start_time": "2023-05-01T17:25:00.917Z"
   },
   {
    "duration": 0,
    "start_time": "2023-05-01T17:25:00.918Z"
   },
   {
    "duration": 0,
    "start_time": "2023-05-01T17:25:00.919Z"
   },
   {
    "duration": 0,
    "start_time": "2023-05-01T17:25:00.920Z"
   },
   {
    "duration": 0,
    "start_time": "2023-05-01T17:25:00.921Z"
   },
   {
    "duration": 0,
    "start_time": "2023-05-01T17:25:00.922Z"
   },
   {
    "duration": 0,
    "start_time": "2023-05-01T17:25:00.923Z"
   },
   {
    "duration": 0,
    "start_time": "2023-05-01T17:25:00.925Z"
   },
   {
    "duration": 0,
    "start_time": "2023-05-01T17:25:00.926Z"
   },
   {
    "duration": 0,
    "start_time": "2023-05-01T17:25:00.927Z"
   },
   {
    "duration": 5,
    "start_time": "2023-05-01T17:29:38.003Z"
   },
   {
    "duration": 10,
    "start_time": "2023-05-01T17:29:39.868Z"
   },
   {
    "duration": 18,
    "start_time": "2023-05-01T17:29:44.809Z"
   },
   {
    "duration": 6,
    "start_time": "2023-05-01T17:29:45.316Z"
   },
   {
    "duration": 6,
    "start_time": "2023-05-01T17:29:45.885Z"
   },
   {
    "duration": 7,
    "start_time": "2023-05-01T17:29:46.511Z"
   },
   {
    "duration": 5,
    "start_time": "2023-05-01T17:29:48.308Z"
   },
   {
    "duration": 9,
    "start_time": "2023-05-01T17:29:48.908Z"
   },
   {
    "duration": 20,
    "start_time": "2023-05-01T17:29:51.733Z"
   },
   {
    "duration": 21,
    "start_time": "2023-05-01T17:29:56.399Z"
   },
   {
    "duration": 7,
    "start_time": "2023-05-01T17:30:00.285Z"
   },
   {
    "duration": 81,
    "start_time": "2023-05-01T17:30:13.413Z"
   },
   {
    "duration": 31,
    "start_time": "2023-05-01T17:30:14.045Z"
   },
   {
    "duration": 26,
    "start_time": "2023-05-01T17:30:18.949Z"
   },
   {
    "duration": 245,
    "start_time": "2023-05-01T17:30:20.501Z"
   },
   {
    "duration": 17494,
    "start_time": "2023-05-01T17:30:23.341Z"
   },
   {
    "duration": 12,
    "start_time": "2023-05-01T17:30:46.190Z"
   },
   {
    "duration": 6,
    "start_time": "2023-05-01T17:30:47.406Z"
   },
   {
    "duration": 32,
    "start_time": "2023-05-01T17:30:48.618Z"
   },
   {
    "duration": 289,
    "start_time": "2023-05-01T17:30:49.237Z"
   },
   {
    "duration": 25256,
    "start_time": "2023-05-01T17:30:49.877Z"
   },
   {
    "duration": 9,
    "start_time": "2023-05-01T17:31:15.135Z"
   },
   {
    "duration": 4,
    "start_time": "2023-05-01T17:31:15.146Z"
   },
   {
    "duration": 44,
    "start_time": "2023-05-01T17:31:15.152Z"
   },
   {
    "duration": 240,
    "start_time": "2023-05-01T17:31:15.197Z"
   },
   {
    "duration": 11987,
    "start_time": "2023-05-01T17:31:15.439Z"
   },
   {
    "duration": 7,
    "start_time": "2023-05-01T17:31:27.427Z"
   },
   {
    "duration": 21,
    "start_time": "2023-05-01T17:38:55.342Z"
   },
   {
    "duration": 6,
    "start_time": "2023-05-01T17:42:32.631Z"
   },
   {
    "duration": 11,
    "start_time": "2023-05-01T17:42:41.262Z"
   },
   {
    "duration": 4,
    "start_time": "2023-05-01T17:43:39.151Z"
   },
   {
    "duration": 10,
    "start_time": "2023-05-01T17:43:41.543Z"
   },
   {
    "duration": 6,
    "start_time": "2023-05-01T17:44:34.943Z"
   },
   {
    "duration": 1082,
    "start_time": "2023-05-01T17:45:33.435Z"
   },
   {
    "duration": 49,
    "start_time": "2023-05-01T17:45:34.519Z"
   },
   {
    "duration": 10,
    "start_time": "2023-05-01T17:45:34.570Z"
   },
   {
    "duration": 13,
    "start_time": "2023-05-01T17:45:34.581Z"
   },
   {
    "duration": 11,
    "start_time": "2023-05-01T17:45:34.595Z"
   },
   {
    "duration": 5,
    "start_time": "2023-05-01T17:45:34.607Z"
   },
   {
    "duration": 18,
    "start_time": "2023-05-01T17:45:34.613Z"
   },
   {
    "duration": 10,
    "start_time": "2023-05-01T17:45:34.633Z"
   },
   {
    "duration": 4,
    "start_time": "2023-05-01T17:45:34.644Z"
   },
   {
    "duration": 6,
    "start_time": "2023-05-01T17:45:34.649Z"
   },
   {
    "duration": 7,
    "start_time": "2023-05-01T17:45:34.657Z"
   },
   {
    "duration": 12,
    "start_time": "2023-05-01T17:45:34.665Z"
   },
   {
    "duration": 18,
    "start_time": "2023-05-01T17:45:34.693Z"
   },
   {
    "duration": 5,
    "start_time": "2023-05-01T17:45:34.713Z"
   },
   {
    "duration": 8,
    "start_time": "2023-05-01T17:45:34.719Z"
   },
   {
    "duration": 7,
    "start_time": "2023-05-01T17:45:34.728Z"
   },
   {
    "duration": 4,
    "start_time": "2023-05-01T17:45:34.736Z"
   },
   {
    "duration": 8,
    "start_time": "2023-05-01T17:45:34.741Z"
   },
   {
    "duration": 50,
    "start_time": "2023-05-01T17:45:34.750Z"
   },
   {
    "duration": 8,
    "start_time": "2023-05-01T17:45:34.802Z"
   },
   {
    "duration": 23,
    "start_time": "2023-05-01T17:45:34.811Z"
   },
   {
    "duration": 179,
    "start_time": "2023-05-01T17:45:34.835Z"
   },
   {
    "duration": 22,
    "start_time": "2023-05-01T17:45:35.015Z"
   },
   {
    "duration": 461,
    "start_time": "2023-05-01T17:45:35.038Z"
   },
   {
    "duration": 20,
    "start_time": "2023-05-01T17:46:37.136Z"
   },
   {
    "duration": 7,
    "start_time": "2023-05-01T17:46:37.157Z"
   },
   {
    "duration": 54,
    "start_time": "2023-05-01T17:46:37.166Z"
   },
   {
    "duration": 186,
    "start_time": "2023-05-01T17:46:37.222Z"
   },
   {
    "duration": 28,
    "start_time": "2023-05-01T17:46:37.410Z"
   },
   {
    "duration": 370,
    "start_time": "2023-05-01T17:46:37.496Z"
   },
   {
    "duration": 17615,
    "start_time": "2023-05-01T17:46:37.868Z"
   },
   {
    "duration": 15,
    "start_time": "2023-05-01T17:46:55.485Z"
   },
   {
    "duration": 6,
    "start_time": "2023-05-01T17:46:55.501Z"
   },
   {
    "duration": 32,
    "start_time": "2023-05-01T17:46:55.508Z"
   },
   {
    "duration": 459,
    "start_time": "2023-05-01T17:46:55.595Z"
   },
   {
    "duration": 25391,
    "start_time": "2023-05-01T17:46:56.056Z"
   },
   {
    "duration": 12,
    "start_time": "2023-05-01T17:47:21.449Z"
   },
   {
    "duration": 10,
    "start_time": "2023-05-01T17:47:21.463Z"
   },
   {
    "duration": 26,
    "start_time": "2023-05-01T17:47:21.475Z"
   },
   {
    "duration": 340,
    "start_time": "2023-05-01T17:47:21.503Z"
   },
   {
    "duration": 11933,
    "start_time": "2023-05-01T17:47:21.845Z"
   },
   {
    "duration": 23,
    "start_time": "2023-05-01T17:47:33.780Z"
   },
   {
    "duration": 11,
    "start_time": "2023-05-01T17:49:37.959Z"
   },
   {
    "duration": 89,
    "start_time": "2023-05-01T17:52:39.800Z"
   },
   {
    "duration": 9,
    "start_time": "2023-05-01T17:52:41.801Z"
   },
   {
    "duration": 20,
    "start_time": "2023-05-01T17:53:36.168Z"
   },
   {
    "duration": 8,
    "start_time": "2023-05-01T17:53:38.403Z"
   },
   {
    "duration": 11906,
    "start_time": "2023-05-01T17:53:53.161Z"
   },
   {
    "duration": 8,
    "start_time": "2023-05-01T17:54:12.416Z"
   },
   {
    "duration": 1095,
    "start_time": "2023-05-01T17:56:18.306Z"
   },
   {
    "duration": 52,
    "start_time": "2023-05-01T17:56:19.404Z"
   },
   {
    "duration": 12,
    "start_time": "2023-05-01T17:56:19.457Z"
   },
   {
    "duration": 17,
    "start_time": "2023-05-01T17:56:19.471Z"
   },
   {
    "duration": 9,
    "start_time": "2023-05-01T17:56:19.490Z"
   },
   {
    "duration": 9,
    "start_time": "2023-05-01T17:56:19.500Z"
   },
   {
    "duration": 14,
    "start_time": "2023-05-01T17:56:19.510Z"
   },
   {
    "duration": 20,
    "start_time": "2023-05-01T17:56:19.525Z"
   },
   {
    "duration": 18,
    "start_time": "2023-05-01T17:56:19.546Z"
   },
   {
    "duration": 14,
    "start_time": "2023-05-01T17:56:19.567Z"
   },
   {
    "duration": 6,
    "start_time": "2023-05-01T17:56:19.582Z"
   },
   {
    "duration": 12,
    "start_time": "2023-05-01T17:56:19.589Z"
   },
   {
    "duration": 20,
    "start_time": "2023-05-01T17:56:19.602Z"
   },
   {
    "duration": 5,
    "start_time": "2023-05-01T17:56:19.623Z"
   },
   {
    "duration": 11,
    "start_time": "2023-05-01T17:56:19.629Z"
   },
   {
    "duration": 7,
    "start_time": "2023-05-01T17:56:19.642Z"
   },
   {
    "duration": 4,
    "start_time": "2023-05-01T17:56:19.650Z"
   },
   {
    "duration": 10,
    "start_time": "2023-05-01T17:56:19.655Z"
   },
   {
    "duration": 42,
    "start_time": "2023-05-01T17:56:19.667Z"
   },
   {
    "duration": 7,
    "start_time": "2023-05-01T17:56:19.710Z"
   },
   {
    "duration": 25,
    "start_time": "2023-05-01T17:56:19.719Z"
   },
   {
    "duration": 124,
    "start_time": "2023-05-01T17:56:19.794Z"
   },
   {
    "duration": 22,
    "start_time": "2023-05-01T17:56:19.919Z"
   },
   {
    "duration": 412,
    "start_time": "2023-05-01T17:56:19.995Z"
   },
   {
    "duration": 19325,
    "start_time": "2023-05-01T17:56:20.408Z"
   },
   {
    "duration": 11,
    "start_time": "2023-05-01T17:56:39.735Z"
   },
   {
    "duration": 5,
    "start_time": "2023-05-01T17:56:39.748Z"
   },
   {
    "duration": 48,
    "start_time": "2023-05-01T17:56:39.756Z"
   },
   {
    "duration": 582,
    "start_time": "2023-05-01T17:56:39.806Z"
   },
   {
    "duration": 28211,
    "start_time": "2023-05-01T17:56:40.389Z"
   },
   {
    "duration": 9,
    "start_time": "2023-05-01T17:57:08.602Z"
   },
   {
    "duration": 5,
    "start_time": "2023-05-01T17:57:08.612Z"
   },
   {
    "duration": 77,
    "start_time": "2023-05-01T17:57:08.618Z"
   },
   {
    "duration": 255,
    "start_time": "2023-05-01T17:57:08.697Z"
   },
   {
    "duration": 12165,
    "start_time": "2023-05-01T17:57:08.954Z"
   },
   {
    "duration": 41,
    "start_time": "2023-05-01T17:57:21.120Z"
   },
   {
    "duration": 110,
    "start_time": "2023-05-01T17:57:21.163Z"
   },
   {
    "duration": 0,
    "start_time": "2023-05-01T17:57:21.275Z"
   },
   {
    "duration": 0,
    "start_time": "2023-05-01T17:57:21.277Z"
   },
   {
    "duration": 0,
    "start_time": "2023-05-01T17:57:21.278Z"
   },
   {
    "duration": 0,
    "start_time": "2023-05-01T17:57:21.279Z"
   },
   {
    "duration": 0,
    "start_time": "2023-05-01T17:57:21.280Z"
   },
   {
    "duration": 0,
    "start_time": "2023-05-01T17:57:21.281Z"
   },
   {
    "duration": 0,
    "start_time": "2023-05-01T17:57:21.282Z"
   },
   {
    "duration": 0,
    "start_time": "2023-05-01T17:57:21.295Z"
   },
   {
    "duration": 0,
    "start_time": "2023-05-01T17:57:21.296Z"
   },
   {
    "duration": 0,
    "start_time": "2023-05-01T17:57:21.297Z"
   },
   {
    "duration": 0,
    "start_time": "2023-05-01T17:57:21.298Z"
   },
   {
    "duration": 0,
    "start_time": "2023-05-01T17:57:21.299Z"
   },
   {
    "duration": 0,
    "start_time": "2023-05-01T17:57:21.300Z"
   },
   {
    "duration": 0,
    "start_time": "2023-05-01T17:57:21.301Z"
   },
   {
    "duration": 0,
    "start_time": "2023-05-01T17:57:21.303Z"
   },
   {
    "duration": 0,
    "start_time": "2023-05-01T17:57:21.304Z"
   },
   {
    "duration": 0,
    "start_time": "2023-05-01T17:57:21.305Z"
   },
   {
    "duration": 12337,
    "start_time": "2023-05-01T17:57:21.311Z"
   },
   {
    "duration": 44,
    "start_time": "2023-05-01T17:57:33.650Z"
   },
   {
    "duration": 8,
    "start_time": "2023-05-01T17:57:33.696Z"
   },
   {
    "duration": 0,
    "start_time": "2023-05-01T17:57:33.706Z"
   },
   {
    "duration": 19,
    "start_time": "2023-05-01T17:57:58.816Z"
   },
   {
    "duration": 6,
    "start_time": "2023-05-01T17:58:02.609Z"
   },
   {
    "duration": 30,
    "start_time": "2023-05-01T17:58:05.024Z"
   },
   {
    "duration": 29,
    "start_time": "2023-05-01T17:58:06.336Z"
   },
   {
    "duration": 21,
    "start_time": "2023-05-01T17:58:20.249Z"
   },
   {
    "duration": 293,
    "start_time": "2023-05-01T17:58:21.553Z"
   },
   {
    "duration": 17736,
    "start_time": "2023-05-01T17:58:24.456Z"
   },
   {
    "duration": 11,
    "start_time": "2023-05-01T17:58:42.194Z"
   },
   {
    "duration": 5,
    "start_time": "2023-05-01T17:58:42.207Z"
   },
   {
    "duration": 33,
    "start_time": "2023-05-01T17:58:42.214Z"
   },
   {
    "duration": 466,
    "start_time": "2023-05-01T17:58:42.297Z"
   },
   {
    "duration": 25168,
    "start_time": "2023-05-01T17:58:42.765Z"
   },
   {
    "duration": 10,
    "start_time": "2023-05-01T17:59:07.934Z"
   },
   {
    "duration": 4,
    "start_time": "2023-05-01T17:59:07.946Z"
   },
   {
    "duration": 43,
    "start_time": "2023-05-01T17:59:07.952Z"
   },
   {
    "duration": 296,
    "start_time": "2023-05-01T17:59:07.998Z"
   },
   {
    "duration": 11820,
    "start_time": "2023-05-01T17:59:08.296Z"
   },
   {
    "duration": 21,
    "start_time": "2023-05-01T18:04:21.057Z"
   },
   {
    "duration": 10,
    "start_time": "2023-05-01T18:04:21.961Z"
   },
   {
    "duration": 8,
    "start_time": "2023-05-01T18:04:22.754Z"
   },
   {
    "duration": 8,
    "start_time": "2023-05-01T18:04:46.386Z"
   },
   {
    "duration": 9,
    "start_time": "2023-05-01T18:04:53.331Z"
   },
   {
    "duration": 9,
    "start_time": "2023-05-01T18:06:02.145Z"
   },
   {
    "duration": 11,
    "start_time": "2023-05-01T18:06:33.250Z"
   },
   {
    "duration": 29,
    "start_time": "2023-05-01T18:06:34.794Z"
   },
   {
    "duration": 73,
    "start_time": "2023-05-01T18:10:54.028Z"
   },
   {
    "duration": 25,
    "start_time": "2023-05-01T18:14:47.195Z"
   },
   {
    "duration": 21,
    "start_time": "2023-05-01T18:15:09.930Z"
   },
   {
    "duration": 11,
    "start_time": "2023-05-01T18:18:31.178Z"
   },
   {
    "duration": 29,
    "start_time": "2023-05-01T18:18:49.853Z"
   },
   {
    "duration": 22,
    "start_time": "2023-05-01T18:19:14.731Z"
   },
   {
    "duration": 21,
    "start_time": "2023-05-01T18:20:07.035Z"
   },
   {
    "duration": 10,
    "start_time": "2023-05-01T18:20:45.843Z"
   },
   {
    "duration": 27,
    "start_time": "2023-05-01T18:20:52.875Z"
   },
   {
    "duration": 612,
    "start_time": "2023-05-01T18:31:38.437Z"
   },
   {
    "duration": 2,
    "start_time": "2023-05-01T18:35:43.164Z"
   },
   {
    "duration": 1125,
    "start_time": "2023-05-01T18:55:00.924Z"
   },
   {
    "duration": 58,
    "start_time": "2023-05-01T18:55:02.051Z"
   },
   {
    "duration": 17,
    "start_time": "2023-05-01T18:55:02.110Z"
   },
   {
    "duration": 19,
    "start_time": "2023-05-01T18:55:02.130Z"
   },
   {
    "duration": 36,
    "start_time": "2023-05-01T18:55:02.151Z"
   },
   {
    "duration": 16,
    "start_time": "2023-05-01T18:55:02.189Z"
   },
   {
    "duration": 24,
    "start_time": "2023-05-01T18:55:02.207Z"
   },
   {
    "duration": 17,
    "start_time": "2023-05-01T18:55:02.232Z"
   },
   {
    "duration": 24,
    "start_time": "2023-05-01T18:55:02.250Z"
   },
   {
    "duration": 45,
    "start_time": "2023-05-01T18:55:02.276Z"
   },
   {
    "duration": 32,
    "start_time": "2023-05-01T18:55:02.322Z"
   },
   {
    "duration": 36,
    "start_time": "2023-05-01T18:55:02.355Z"
   },
   {
    "duration": 34,
    "start_time": "2023-05-01T18:55:02.393Z"
   },
   {
    "duration": 6,
    "start_time": "2023-05-01T18:55:02.429Z"
   },
   {
    "duration": 27,
    "start_time": "2023-05-01T18:55:02.437Z"
   },
   {
    "duration": 10,
    "start_time": "2023-05-01T18:55:02.465Z"
   },
   {
    "duration": 13,
    "start_time": "2023-05-01T18:55:02.476Z"
   },
   {
    "duration": 34,
    "start_time": "2023-05-01T18:55:02.490Z"
   },
   {
    "duration": 36,
    "start_time": "2023-05-01T18:55:02.526Z"
   },
   {
    "duration": 10,
    "start_time": "2023-05-01T18:55:02.564Z"
   },
   {
    "duration": 122,
    "start_time": "2023-05-01T18:55:02.576Z"
   },
   {
    "duration": 128,
    "start_time": "2023-05-01T18:55:02.700Z"
   },
   {
    "duration": 697,
    "start_time": "2023-05-01T18:55:02.830Z"
   },
   {
    "duration": 61,
    "start_time": "2023-05-01T18:55:03.537Z"
   },
   {
    "duration": 433,
    "start_time": "2023-05-01T18:55:03.600Z"
   },
   {
    "duration": 20697,
    "start_time": "2023-05-01T18:55:04.035Z"
   },
   {
    "duration": 40,
    "start_time": "2023-05-01T18:55:24.734Z"
   },
   {
    "duration": 26,
    "start_time": "2023-05-01T18:55:24.778Z"
   },
   {
    "duration": 11,
    "start_time": "2023-05-01T18:55:24.806Z"
   },
   {
    "duration": 179,
    "start_time": "2023-05-01T18:55:24.819Z"
   },
   {
    "duration": 457,
    "start_time": "2023-05-01T18:55:25.000Z"
   },
   {
    "duration": 29122,
    "start_time": "2023-05-01T18:55:25.459Z"
   },
   {
    "duration": 18,
    "start_time": "2023-05-01T18:55:54.584Z"
   },
   {
    "duration": 11,
    "start_time": "2023-05-01T18:55:54.604Z"
   },
   {
    "duration": 6,
    "start_time": "2023-05-01T18:55:54.617Z"
   },
   {
    "duration": 95,
    "start_time": "2023-05-01T18:55:54.624Z"
   },
   {
    "duration": 295,
    "start_time": "2023-05-01T18:55:54.721Z"
   },
   {
    "duration": 12804,
    "start_time": "2023-05-01T18:55:55.018Z"
   },
   {
    "duration": 47,
    "start_time": "2023-05-01T18:56:07.824Z"
   },
   {
    "duration": 64,
    "start_time": "2023-05-01T18:56:07.873Z"
   },
   {
    "duration": 13,
    "start_time": "2023-05-01T18:56:07.940Z"
   },
   {
    "duration": 52,
    "start_time": "2023-05-01T18:56:07.955Z"
   },
   {
    "duration": 18,
    "start_time": "2023-05-01T18:56:08.010Z"
   },
   {
    "duration": 66,
    "start_time": "2023-05-02T10:52:29.325Z"
   },
   {
    "duration": 1135,
    "start_time": "2023-05-02T10:52:38.738Z"
   },
   {
    "duration": 195,
    "start_time": "2023-05-02T10:52:39.874Z"
   },
   {
    "duration": 18,
    "start_time": "2023-05-02T10:52:40.071Z"
   },
   {
    "duration": 40,
    "start_time": "2023-05-02T10:52:40.091Z"
   },
   {
    "duration": 13,
    "start_time": "2023-05-02T10:52:40.134Z"
   },
   {
    "duration": 33,
    "start_time": "2023-05-02T10:52:40.149Z"
   },
   {
    "duration": 22,
    "start_time": "2023-05-02T10:52:40.183Z"
   },
   {
    "duration": 38,
    "start_time": "2023-05-02T10:52:40.207Z"
   },
   {
    "duration": 16,
    "start_time": "2023-05-02T10:52:45.879Z"
   },
   {
    "duration": 19,
    "start_time": "2023-05-02T10:53:32.117Z"
   },
   {
    "duration": 24,
    "start_time": "2023-05-02T10:53:55.084Z"
   },
   {
    "duration": 5,
    "start_time": "2023-05-02T10:54:37.177Z"
   },
   {
    "duration": 82,
    "start_time": "2023-05-02T10:54:37.184Z"
   },
   {
    "duration": 13,
    "start_time": "2023-05-02T10:54:37.267Z"
   },
   {
    "duration": 38,
    "start_time": "2023-05-02T10:54:37.282Z"
   },
   {
    "duration": 19,
    "start_time": "2023-05-02T10:54:37.323Z"
   },
   {
    "duration": 14,
    "start_time": "2023-05-02T10:54:37.344Z"
   },
   {
    "duration": 24,
    "start_time": "2023-05-02T10:54:37.360Z"
   },
   {
    "duration": 28,
    "start_time": "2023-05-02T10:54:42.219Z"
   },
   {
    "duration": 6,
    "start_time": "2023-05-02T11:00:05.859Z"
   },
   {
    "duration": 28,
    "start_time": "2023-05-02T11:01:27.141Z"
   },
   {
    "duration": 7,
    "start_time": "2023-05-02T11:01:33.033Z"
   },
   {
    "duration": 34,
    "start_time": "2023-05-02T11:01:49.481Z"
   },
   {
    "duration": 6,
    "start_time": "2023-05-02T11:01:50.835Z"
   },
   {
    "duration": 2993,
    "start_time": "2023-05-02T11:05:03.530Z"
   },
   {
    "duration": 13,
    "start_time": "2023-05-02T11:05:36.313Z"
   },
   {
    "duration": 16,
    "start_time": "2023-05-02T11:05:58.571Z"
   },
   {
    "duration": 6,
    "start_time": "2023-05-02T11:06:14.483Z"
   },
   {
    "duration": 14,
    "start_time": "2023-05-02T11:06:31.570Z"
   },
   {
    "duration": 7,
    "start_time": "2023-05-02T11:07:05.778Z"
   },
   {
    "duration": 15,
    "start_time": "2023-05-02T11:08:07.912Z"
   },
   {
    "duration": 8,
    "start_time": "2023-05-02T11:08:12.509Z"
   },
   {
    "duration": 4,
    "start_time": "2023-05-02T11:16:10.275Z"
   },
   {
    "duration": 4,
    "start_time": "2023-05-02T11:16:24.932Z"
   },
   {
    "duration": 6,
    "start_time": "2023-05-02T11:16:29.434Z"
   },
   {
    "duration": 11,
    "start_time": "2023-05-02T11:17:50.381Z"
   },
   {
    "duration": 26,
    "start_time": "2023-05-02T11:18:05.682Z"
   },
   {
    "duration": 15,
    "start_time": "2023-05-02T11:21:33.808Z"
   },
   {
    "duration": 5,
    "start_time": "2023-05-02T11:21:44.260Z"
   },
   {
    "duration": 60,
    "start_time": "2023-05-02T11:21:57.955Z"
   },
   {
    "duration": 17,
    "start_time": "2023-05-02T11:22:09.660Z"
   },
   {
    "duration": 8,
    "start_time": "2023-05-02T11:22:15.815Z"
   },
   {
    "duration": 20,
    "start_time": "2023-05-02T11:26:41.844Z"
   },
   {
    "duration": 9,
    "start_time": "2023-05-02T11:26:43.126Z"
   },
   {
    "duration": 15,
    "start_time": "2023-05-02T11:32:36.813Z"
   },
   {
    "duration": 3,
    "start_time": "2023-05-02T11:32:42.340Z"
   },
   {
    "duration": 13,
    "start_time": "2023-05-02T11:32:44.837Z"
   },
   {
    "duration": 8,
    "start_time": "2023-05-02T11:32:45.208Z"
   },
   {
    "duration": 10,
    "start_time": "2023-05-02T11:32:46.949Z"
   },
   {
    "duration": 10,
    "start_time": "2023-05-02T11:33:17.349Z"
   },
   {
    "duration": 19,
    "start_time": "2023-05-02T11:33:48.269Z"
   },
   {
    "duration": 3,
    "start_time": "2023-05-02T11:34:21.789Z"
   },
   {
    "duration": 57,
    "start_time": "2023-05-02T11:34:21.795Z"
   },
   {
    "duration": 13,
    "start_time": "2023-05-02T11:34:21.855Z"
   },
   {
    "duration": 15,
    "start_time": "2023-05-02T11:34:21.869Z"
   },
   {
    "duration": 27,
    "start_time": "2023-05-02T11:34:21.886Z"
   },
   {
    "duration": 6,
    "start_time": "2023-05-02T11:34:21.937Z"
   },
   {
    "duration": 41,
    "start_time": "2023-05-02T11:34:21.944Z"
   },
   {
    "duration": 51,
    "start_time": "2023-05-02T11:34:21.986Z"
   },
   {
    "duration": 26,
    "start_time": "2023-05-02T11:34:22.039Z"
   },
   {
    "duration": 23,
    "start_time": "2023-05-02T11:34:22.067Z"
   },
   {
    "duration": 20,
    "start_time": "2023-05-02T11:34:22.092Z"
   },
   {
    "duration": 14,
    "start_time": "2023-05-02T11:34:22.114Z"
   },
   {
    "duration": 22,
    "start_time": "2023-05-02T11:34:22.130Z"
   },
   {
    "duration": 26,
    "start_time": "2023-05-02T11:34:22.153Z"
   },
   {
    "duration": 20,
    "start_time": "2023-05-02T11:34:22.183Z"
   },
   {
    "duration": 16,
    "start_time": "2023-05-02T11:34:22.204Z"
   },
   {
    "duration": 10,
    "start_time": "2023-05-02T11:34:22.221Z"
   },
   {
    "duration": 50,
    "start_time": "2023-05-02T11:34:22.233Z"
   },
   {
    "duration": 36,
    "start_time": "2023-05-02T11:34:22.285Z"
   },
   {
    "duration": 18,
    "start_time": "2023-05-02T11:34:22.323Z"
   },
   {
    "duration": 23,
    "start_time": "2023-05-02T11:34:22.343Z"
   },
   {
    "duration": 21,
    "start_time": "2023-05-02T11:34:22.368Z"
   },
   {
    "duration": 0,
    "start_time": "2023-05-02T11:34:22.391Z"
   },
   {
    "duration": 0,
    "start_time": "2023-05-02T11:34:22.392Z"
   },
   {
    "duration": 0,
    "start_time": "2023-05-02T11:34:22.394Z"
   },
   {
    "duration": 0,
    "start_time": "2023-05-02T11:34:22.395Z"
   },
   {
    "duration": 0,
    "start_time": "2023-05-02T11:34:22.396Z"
   },
   {
    "duration": 0,
    "start_time": "2023-05-02T11:34:22.396Z"
   },
   {
    "duration": 0,
    "start_time": "2023-05-02T11:34:22.397Z"
   },
   {
    "duration": 0,
    "start_time": "2023-05-02T11:34:22.399Z"
   },
   {
    "duration": 0,
    "start_time": "2023-05-02T11:34:22.400Z"
   },
   {
    "duration": 0,
    "start_time": "2023-05-02T11:34:22.400Z"
   },
   {
    "duration": 0,
    "start_time": "2023-05-02T11:34:22.401Z"
   },
   {
    "duration": 0,
    "start_time": "2023-05-02T11:34:22.402Z"
   },
   {
    "duration": 0,
    "start_time": "2023-05-02T11:34:22.405Z"
   },
   {
    "duration": 0,
    "start_time": "2023-05-02T11:34:22.406Z"
   },
   {
    "duration": 0,
    "start_time": "2023-05-02T11:34:22.407Z"
   },
   {
    "duration": 0,
    "start_time": "2023-05-02T11:34:22.408Z"
   },
   {
    "duration": 0,
    "start_time": "2023-05-02T11:34:22.409Z"
   },
   {
    "duration": 0,
    "start_time": "2023-05-02T11:34:22.410Z"
   },
   {
    "duration": 0,
    "start_time": "2023-05-02T11:34:22.435Z"
   },
   {
    "duration": 0,
    "start_time": "2023-05-02T11:34:22.437Z"
   },
   {
    "duration": 0,
    "start_time": "2023-05-02T11:34:22.438Z"
   },
   {
    "duration": 0,
    "start_time": "2023-05-02T11:34:22.439Z"
   },
   {
    "duration": 0,
    "start_time": "2023-05-02T11:34:22.440Z"
   },
   {
    "duration": 0,
    "start_time": "2023-05-02T11:34:22.441Z"
   },
   {
    "duration": 0,
    "start_time": "2023-05-02T11:34:22.443Z"
   },
   {
    "duration": 0,
    "start_time": "2023-05-02T11:34:22.444Z"
   },
   {
    "duration": 0,
    "start_time": "2023-05-02T11:34:22.445Z"
   },
   {
    "duration": 15,
    "start_time": "2023-05-02T11:35:20.966Z"
   },
   {
    "duration": 6,
    "start_time": "2023-05-02T11:35:22.358Z"
   },
   {
    "duration": 3,
    "start_time": "2023-05-02T11:35:31.084Z"
   },
   {
    "duration": 12,
    "start_time": "2023-05-02T11:35:31.750Z"
   },
   {
    "duration": 5,
    "start_time": "2023-05-02T11:35:37.614Z"
   },
   {
    "duration": 10,
    "start_time": "2023-05-02T11:35:39.718Z"
   },
   {
    "duration": 19,
    "start_time": "2023-05-02T11:35:49.166Z"
   },
   {
    "duration": 5,
    "start_time": "2023-05-02T11:35:54.309Z"
   },
   {
    "duration": 3,
    "start_time": "2023-05-02T11:37:37.430Z"
   },
   {
    "duration": 52,
    "start_time": "2023-05-02T11:37:37.918Z"
   },
   {
    "duration": 12,
    "start_time": "2023-05-02T11:37:38.106Z"
   },
   {
    "duration": 10,
    "start_time": "2023-05-02T11:37:38.270Z"
   },
   {
    "duration": 15,
    "start_time": "2023-05-02T11:37:38.448Z"
   },
   {
    "duration": 8,
    "start_time": "2023-05-02T11:37:38.605Z"
   },
   {
    "duration": 6,
    "start_time": "2023-05-02T11:37:38.781Z"
   },
   {
    "duration": 2,
    "start_time": "2023-05-02T11:37:40.310Z"
   },
   {
    "duration": 15,
    "start_time": "2023-05-02T11:37:43.752Z"
   },
   {
    "duration": 8,
    "start_time": "2023-05-02T11:38:04.374Z"
   },
   {
    "duration": 18,
    "start_time": "2023-05-02T11:38:14.021Z"
   },
   {
    "duration": 7,
    "start_time": "2023-05-02T11:38:23.861Z"
   },
   {
    "duration": 14,
    "start_time": "2023-05-02T11:38:33.166Z"
   },
   {
    "duration": 9,
    "start_time": "2023-05-02T11:38:44.030Z"
   },
   {
    "duration": 18,
    "start_time": "2023-05-02T11:39:05.918Z"
   },
   {
    "duration": 6,
    "start_time": "2023-05-02T11:39:07.367Z"
   },
   {
    "duration": 14,
    "start_time": "2023-05-02T11:41:28.518Z"
   },
   {
    "duration": 8,
    "start_time": "2023-05-02T11:41:29.574Z"
   },
   {
    "duration": 3,
    "start_time": "2023-05-02T11:44:44.558Z"
   },
   {
    "duration": 27,
    "start_time": "2023-05-02T11:44:48.237Z"
   },
   {
    "duration": 6,
    "start_time": "2023-05-02T11:44:48.712Z"
   },
   {
    "duration": 17,
    "start_time": "2023-05-02T11:44:49.342Z"
   },
   {
    "duration": 9,
    "start_time": "2023-05-02T11:44:50.542Z"
   },
   {
    "duration": 18,
    "start_time": "2023-05-02T11:44:54.533Z"
   },
   {
    "duration": 55,
    "start_time": "2023-05-02T11:45:43.415Z"
   },
   {
    "duration": 14,
    "start_time": "2023-05-02T11:45:43.933Z"
   },
   {
    "duration": 14,
    "start_time": "2023-05-02T11:45:44.150Z"
   },
   {
    "duration": 17,
    "start_time": "2023-05-02T11:45:44.613Z"
   },
   {
    "duration": 7,
    "start_time": "2023-05-02T11:45:45.106Z"
   },
   {
    "duration": 6,
    "start_time": "2023-05-02T11:45:45.638Z"
   },
   {
    "duration": 3,
    "start_time": "2023-05-02T11:45:47.012Z"
   },
   {
    "duration": 23,
    "start_time": "2023-05-02T11:45:47.917Z"
   },
   {
    "duration": 8,
    "start_time": "2023-05-02T11:45:50.610Z"
   },
   {
    "duration": 21,
    "start_time": "2023-05-02T11:45:52.230Z"
   },
   {
    "duration": 8,
    "start_time": "2023-05-02T11:45:53.111Z"
   },
   {
    "duration": 20,
    "start_time": "2023-05-02T11:45:54.808Z"
   },
   {
    "duration": 7,
    "start_time": "2023-05-02T11:45:56.511Z"
   },
   {
    "duration": 21,
    "start_time": "2023-05-02T11:51:34.798Z"
   },
   {
    "duration": 7,
    "start_time": "2023-05-02T11:51:38.500Z"
   },
   {
    "duration": 13,
    "start_time": "2023-05-02T11:52:42.142Z"
   },
   {
    "duration": 7,
    "start_time": "2023-05-02T11:52:47.830Z"
   },
   {
    "duration": 20,
    "start_time": "2023-05-02T11:53:45.601Z"
   },
   {
    "duration": 6,
    "start_time": "2023-05-02T11:53:47.637Z"
   },
   {
    "duration": 13,
    "start_time": "2023-05-02T12:01:47.230Z"
   },
   {
    "duration": 13,
    "start_time": "2023-05-02T12:02:03.506Z"
   },
   {
    "duration": 6,
    "start_time": "2023-05-02T12:02:05.207Z"
   },
   {
    "duration": 16,
    "start_time": "2023-05-02T12:02:18.752Z"
   },
   {
    "duration": 7,
    "start_time": "2023-05-02T12:02:20.235Z"
   },
   {
    "duration": 2,
    "start_time": "2023-05-02T12:02:34.874Z"
   },
   {
    "duration": 19,
    "start_time": "2023-05-02T12:02:42.074Z"
   },
   {
    "duration": 8,
    "start_time": "2023-05-02T12:02:43.206Z"
   },
   {
    "duration": 13,
    "start_time": "2023-05-02T12:05:39.622Z"
   },
   {
    "duration": 12,
    "start_time": "2023-05-02T12:06:04.136Z"
   },
   {
    "duration": 2,
    "start_time": "2023-05-02T12:06:22.959Z"
   },
   {
    "duration": 13,
    "start_time": "2023-05-02T12:06:23.742Z"
   },
   {
    "duration": 10,
    "start_time": "2023-05-02T12:06:24.670Z"
   },
   {
    "duration": 2,
    "start_time": "2023-05-02T12:06:42.936Z"
   },
   {
    "duration": 3,
    "start_time": "2023-05-02T12:06:44.920Z"
   },
   {
    "duration": 13,
    "start_time": "2023-05-02T12:06:55.535Z"
   },
   {
    "duration": 11,
    "start_time": "2023-05-02T12:07:02.441Z"
   },
   {
    "duration": 51,
    "start_time": "2023-05-02T12:07:19.608Z"
   },
   {
    "duration": 13,
    "start_time": "2023-05-02T12:07:20.553Z"
   },
   {
    "duration": 12,
    "start_time": "2023-05-02T12:07:21.604Z"
   },
   {
    "duration": 12,
    "start_time": "2023-05-02T12:07:21.807Z"
   },
   {
    "duration": 8,
    "start_time": "2023-05-02T12:07:22.004Z"
   },
   {
    "duration": 4,
    "start_time": "2023-05-02T12:07:22.204Z"
   },
   {
    "duration": 3,
    "start_time": "2023-05-02T12:07:22.543Z"
   },
   {
    "duration": 21,
    "start_time": "2023-05-02T12:07:22.751Z"
   },
   {
    "duration": 6,
    "start_time": "2023-05-02T12:07:22.970Z"
   },
   {
    "duration": 14,
    "start_time": "2023-05-02T12:07:23.550Z"
   },
   {
    "duration": 8,
    "start_time": "2023-05-02T12:07:23.874Z"
   },
   {
    "duration": 17,
    "start_time": "2023-05-02T12:07:24.119Z"
   },
   {
    "duration": 15,
    "start_time": "2023-05-02T12:07:24.408Z"
   },
   {
    "duration": 8,
    "start_time": "2023-05-02T12:07:25.031Z"
   },
   {
    "duration": 7,
    "start_time": "2023-05-02T12:09:34.601Z"
   },
   {
    "duration": 1985,
    "start_time": "2023-05-02T12:10:25.408Z"
   },
   {
    "duration": 1104,
    "start_time": "2023-05-02T12:10:42.360Z"
   },
   {
    "duration": 1582,
    "start_time": "2023-05-02T12:11:23.327Z"
   },
   {
    "duration": 8,
    "start_time": "2023-05-02T12:12:48.025Z"
   },
   {
    "duration": 3,
    "start_time": "2023-05-02T12:12:57.175Z"
   },
   {
    "duration": 4,
    "start_time": "2023-05-02T12:13:51.135Z"
   },
   {
    "duration": 10,
    "start_time": "2023-05-02T12:14:55.247Z"
   },
   {
    "duration": 10,
    "start_time": "2023-05-02T12:15:37.107Z"
   },
   {
    "duration": 10,
    "start_time": "2023-05-02T12:15:51.478Z"
   },
   {
    "duration": 9,
    "start_time": "2023-05-02T12:16:05.519Z"
   },
   {
    "duration": 5,
    "start_time": "2023-05-02T12:16:18.375Z"
   },
   {
    "duration": 14,
    "start_time": "2023-05-02T12:16:22.449Z"
   },
   {
    "duration": 6,
    "start_time": "2023-05-02T12:16:25.012Z"
   },
   {
    "duration": 5,
    "start_time": "2023-05-02T12:16:30.032Z"
   },
   {
    "duration": 5,
    "start_time": "2023-05-02T12:16:37.215Z"
   },
   {
    "duration": 5,
    "start_time": "2023-05-02T12:16:40.536Z"
   },
   {
    "duration": 6,
    "start_time": "2023-05-02T12:16:47.135Z"
   },
   {
    "duration": 3226,
    "start_time": "2023-05-02T12:17:14.827Z"
   },
   {
    "duration": 3,
    "start_time": "2023-05-02T12:17:47.774Z"
   },
   {
    "duration": 5,
    "start_time": "2023-05-02T12:18:05.536Z"
   },
   {
    "duration": 3449,
    "start_time": "2023-05-02T12:18:19.707Z"
   },
   {
    "duration": 12,
    "start_time": "2023-05-02T12:19:12.936Z"
   },
   {
    "duration": 25,
    "start_time": "2023-05-02T12:19:35.912Z"
   },
   {
    "duration": 12,
    "start_time": "2023-05-02T12:19:52.404Z"
   },
   {
    "duration": 14,
    "start_time": "2023-05-02T12:19:57.744Z"
   },
   {
    "duration": 50,
    "start_time": "2023-05-02T12:20:06.202Z"
   },
   {
    "duration": 12,
    "start_time": "2023-05-02T12:20:06.810Z"
   },
   {
    "duration": 12,
    "start_time": "2023-05-02T12:20:07.015Z"
   },
   {
    "duration": 10,
    "start_time": "2023-05-02T12:20:07.215Z"
   },
   {
    "duration": 7,
    "start_time": "2023-05-02T12:20:07.385Z"
   },
   {
    "duration": 5,
    "start_time": "2023-05-02T12:20:07.542Z"
   },
   {
    "duration": 2,
    "start_time": "2023-05-02T12:20:07.839Z"
   },
   {
    "duration": 13,
    "start_time": "2023-05-02T12:20:08.313Z"
   },
   {
    "duration": 6,
    "start_time": "2023-05-02T12:20:08.479Z"
   },
   {
    "duration": 14,
    "start_time": "2023-05-02T12:20:08.944Z"
   },
   {
    "duration": 5,
    "start_time": "2023-05-02T12:20:09.472Z"
   },
   {
    "duration": 13,
    "start_time": "2023-05-02T12:20:10.174Z"
   },
   {
    "duration": 14,
    "start_time": "2023-05-02T12:20:10.911Z"
   },
   {
    "duration": 6,
    "start_time": "2023-05-02T12:20:12.010Z"
   },
   {
    "duration": 13,
    "start_time": "2023-05-02T12:20:37.873Z"
   },
   {
    "duration": 5,
    "start_time": "2023-05-02T12:20:40.144Z"
   },
   {
    "duration": 3,
    "start_time": "2023-05-02T12:21:02.173Z"
   },
   {
    "duration": 47,
    "start_time": "2023-05-02T12:21:02.672Z"
   },
   {
    "duration": 11,
    "start_time": "2023-05-02T12:21:02.859Z"
   },
   {
    "duration": 11,
    "start_time": "2023-05-02T12:21:03.048Z"
   },
   {
    "duration": 11,
    "start_time": "2023-05-02T12:21:03.240Z"
   },
   {
    "duration": 7,
    "start_time": "2023-05-02T12:21:03.404Z"
   },
   {
    "duration": 5,
    "start_time": "2023-05-02T12:21:03.562Z"
   },
   {
    "duration": 3,
    "start_time": "2023-05-02T12:21:03.928Z"
   },
   {
    "duration": 16,
    "start_time": "2023-05-02T12:21:04.115Z"
   },
   {
    "duration": 6,
    "start_time": "2023-05-02T12:21:04.309Z"
   },
   {
    "duration": 17,
    "start_time": "2023-05-02T12:21:04.656Z"
   },
   {
    "duration": 6,
    "start_time": "2023-05-02T12:21:04.839Z"
   },
   {
    "duration": 12,
    "start_time": "2023-05-02T12:21:05.026Z"
   },
   {
    "duration": 12,
    "start_time": "2023-05-02T12:21:05.215Z"
   },
   {
    "duration": 6,
    "start_time": "2023-05-02T12:21:05.578Z"
   },
   {
    "duration": 3,
    "start_time": "2023-05-02T12:22:25.528Z"
   },
   {
    "duration": 15,
    "start_time": "2023-05-02T12:22:26.104Z"
   },
   {
    "duration": 6,
    "start_time": "2023-05-02T12:22:26.708Z"
   },
   {
    "duration": 12,
    "start_time": "2023-05-02T12:22:31.065Z"
   },
   {
    "duration": 5,
    "start_time": "2023-05-02T12:22:32.712Z"
   },
   {
    "duration": 11,
    "start_time": "2023-05-02T12:22:34.470Z"
   },
   {
    "duration": 11,
    "start_time": "2023-05-02T12:22:42.571Z"
   },
   {
    "duration": 7,
    "start_time": "2023-05-02T12:22:47.576Z"
   },
   {
    "duration": 47,
    "start_time": "2023-05-02T12:23:49.167Z"
   },
   {
    "duration": 11,
    "start_time": "2023-05-02T12:23:49.700Z"
   },
   {
    "duration": 12,
    "start_time": "2023-05-02T12:23:50.055Z"
   },
   {
    "duration": 10,
    "start_time": "2023-05-02T12:23:50.377Z"
   },
   {
    "duration": 6,
    "start_time": "2023-05-02T12:23:50.720Z"
   },
   {
    "duration": 5,
    "start_time": "2023-05-02T12:23:51.211Z"
   },
   {
    "duration": 4,
    "start_time": "2023-05-02T12:23:52.535Z"
   },
   {
    "duration": 14,
    "start_time": "2023-05-02T12:23:53.168Z"
   },
   {
    "duration": 6,
    "start_time": "2023-05-02T12:23:56.507Z"
   },
   {
    "duration": 12,
    "start_time": "2023-05-02T12:24:01.971Z"
   },
   {
    "duration": 6,
    "start_time": "2023-05-02T12:24:04.233Z"
   },
   {
    "duration": 12,
    "start_time": "2023-05-02T12:24:05.240Z"
   },
   {
    "duration": 12,
    "start_time": "2023-05-02T12:24:06.812Z"
   },
   {
    "duration": 5,
    "start_time": "2023-05-02T12:24:08.640Z"
   },
   {
    "duration": 1270,
    "start_time": "2023-05-02T17:01:52.445Z"
   },
   {
    "duration": 137,
    "start_time": "2023-05-02T17:01:53.717Z"
   },
   {
    "duration": 18,
    "start_time": "2023-05-02T17:01:53.855Z"
   },
   {
    "duration": 46,
    "start_time": "2023-05-02T17:01:53.875Z"
   },
   {
    "duration": 15,
    "start_time": "2023-05-02T17:01:54.003Z"
   },
   {
    "duration": 6,
    "start_time": "2023-05-02T17:01:54.165Z"
   },
   {
    "duration": 5,
    "start_time": "2023-05-02T17:01:54.341Z"
   },
   {
    "duration": 7,
    "start_time": "2023-05-02T17:01:54.707Z"
   },
   {
    "duration": 19,
    "start_time": "2023-05-02T17:01:54.869Z"
   },
   {
    "duration": 7,
    "start_time": "2023-05-02T17:01:55.051Z"
   },
   {
    "duration": 16,
    "start_time": "2023-05-02T17:01:55.389Z"
   },
   {
    "duration": 9,
    "start_time": "2023-05-02T17:01:55.567Z"
   },
   {
    "duration": 14,
    "start_time": "2023-05-02T17:01:55.741Z"
   },
   {
    "duration": 14,
    "start_time": "2023-05-02T17:01:55.928Z"
   },
   {
    "duration": 6,
    "start_time": "2023-05-02T17:01:56.072Z"
   },
   {
    "duration": 13,
    "start_time": "2023-05-02T17:02:10.733Z"
   },
   {
    "duration": 7,
    "start_time": "2023-05-02T17:02:11.357Z"
   },
   {
    "duration": 17,
    "start_time": "2023-05-02T17:02:29.038Z"
   },
   {
    "duration": 7,
    "start_time": "2023-05-02T17:02:29.729Z"
   },
   {
    "duration": 3,
    "start_time": "2023-05-02T17:02:56.328Z"
   },
   {
    "duration": 58,
    "start_time": "2023-05-02T17:02:56.333Z"
   },
   {
    "duration": 13,
    "start_time": "2023-05-02T17:02:56.393Z"
   },
   {
    "duration": 27,
    "start_time": "2023-05-02T17:02:56.408Z"
   },
   {
    "duration": 12,
    "start_time": "2023-05-02T17:02:56.437Z"
   },
   {
    "duration": 7,
    "start_time": "2023-05-02T17:02:56.451Z"
   },
   {
    "duration": 31,
    "start_time": "2023-05-02T17:02:56.459Z"
   },
   {
    "duration": 5,
    "start_time": "2023-05-02T17:02:56.492Z"
   },
   {
    "duration": 33,
    "start_time": "2023-05-02T17:02:56.499Z"
   },
   {
    "duration": 6,
    "start_time": "2023-05-02T17:02:56.534Z"
   },
   {
    "duration": 16,
    "start_time": "2023-05-02T17:02:56.543Z"
   },
   {
    "duration": 7,
    "start_time": "2023-05-02T17:02:56.561Z"
   },
   {
    "duration": 45,
    "start_time": "2023-05-02T17:02:56.569Z"
   },
   {
    "duration": 18,
    "start_time": "2023-05-02T17:02:56.617Z"
   },
   {
    "duration": 7,
    "start_time": "2023-05-02T17:02:56.636Z"
   },
   {
    "duration": 11,
    "start_time": "2023-05-02T17:02:56.645Z"
   },
   {
    "duration": 8,
    "start_time": "2023-05-02T17:02:56.658Z"
   },
   {
    "duration": 6,
    "start_time": "2023-05-02T17:02:56.668Z"
   },
   {
    "duration": 39,
    "start_time": "2023-05-02T17:02:56.676Z"
   },
   {
    "duration": 16,
    "start_time": "2023-05-02T17:02:56.717Z"
   },
   {
    "duration": 30,
    "start_time": "2023-05-02T17:02:56.735Z"
   },
   {
    "duration": 6,
    "start_time": "2023-05-02T17:02:56.768Z"
   },
   {
    "duration": 19,
    "start_time": "2023-05-02T17:02:56.776Z"
   },
   {
    "duration": 26,
    "start_time": "2023-05-02T17:02:56.797Z"
   },
   {
    "duration": 9,
    "start_time": "2023-05-02T17:02:56.824Z"
   },
   {
    "duration": 16,
    "start_time": "2023-05-02T17:02:56.835Z"
   },
   {
    "duration": 32,
    "start_time": "2023-05-02T17:02:56.853Z"
   },
   {
    "duration": 7,
    "start_time": "2023-05-02T17:02:56.887Z"
   },
   {
    "duration": 103,
    "start_time": "2023-05-02T17:02:56.913Z"
   },
   {
    "duration": 125,
    "start_time": "2023-05-02T17:02:57.018Z"
   },
   {
    "duration": 736,
    "start_time": "2023-05-02T17:02:57.144Z"
   },
   {
    "duration": 49,
    "start_time": "2023-05-02T17:02:57.882Z"
   },
   {
    "duration": 598,
    "start_time": "2023-05-02T17:02:57.933Z"
   },
   {
    "duration": 25558,
    "start_time": "2023-05-02T17:02:58.533Z"
   },
   {
    "duration": 58,
    "start_time": "2023-05-02T17:03:24.092Z"
   },
   {
    "duration": 13,
    "start_time": "2023-05-02T17:03:24.152Z"
   },
   {
    "duration": 7,
    "start_time": "2023-05-02T17:03:24.166Z"
   },
   {
    "duration": 76,
    "start_time": "2023-05-02T17:03:24.176Z"
   },
   {
    "duration": 665,
    "start_time": "2023-05-02T17:03:24.311Z"
   },
   {
    "duration": 38172,
    "start_time": "2023-05-02T17:03:24.978Z"
   },
   {
    "duration": 14,
    "start_time": "2023-05-02T17:04:03.151Z"
   },
   {
    "duration": 13,
    "start_time": "2023-05-02T17:04:03.167Z"
   },
   {
    "duration": 40,
    "start_time": "2023-05-02T17:04:03.182Z"
   },
   {
    "duration": 36,
    "start_time": "2023-05-02T17:04:03.224Z"
   },
   {
    "duration": 367,
    "start_time": "2023-05-02T17:04:03.314Z"
   },
   {
    "duration": 16146,
    "start_time": "2023-05-02T17:04:03.683Z"
   },
   {
    "duration": 38,
    "start_time": "2023-05-02T17:04:19.830Z"
   },
   {
    "duration": 62,
    "start_time": "2023-05-02T17:04:19.870Z"
   },
   {
    "duration": 11,
    "start_time": "2023-05-02T17:04:19.934Z"
   },
   {
    "duration": 40,
    "start_time": "2023-05-02T17:04:19.946Z"
   },
   {
    "duration": 5,
    "start_time": "2023-05-02T17:07:42.838Z"
   },
   {
    "duration": 59,
    "start_time": "2023-05-02T17:07:42.844Z"
   },
   {
    "duration": 26,
    "start_time": "2023-05-02T17:07:42.905Z"
   },
   {
    "duration": 17,
    "start_time": "2023-05-02T17:07:42.940Z"
   },
   {
    "duration": 15,
    "start_time": "2023-05-02T17:07:42.960Z"
   },
   {
    "duration": 7,
    "start_time": "2023-05-02T17:07:42.977Z"
   },
   {
    "duration": 6,
    "start_time": "2023-05-02T17:07:43.016Z"
   },
   {
    "duration": 13,
    "start_time": "2023-05-02T17:07:43.023Z"
   },
   {
    "duration": 21,
    "start_time": "2023-05-02T17:07:43.039Z"
   },
   {
    "duration": 6,
    "start_time": "2023-05-02T17:07:43.062Z"
   },
   {
    "duration": 17,
    "start_time": "2023-05-02T17:07:43.069Z"
   },
   {
    "duration": 10,
    "start_time": "2023-05-02T17:07:43.115Z"
   },
   {
    "duration": 20,
    "start_time": "2023-05-02T17:07:43.128Z"
   },
   {
    "duration": 13,
    "start_time": "2023-05-02T17:07:43.153Z"
   },
   {
    "duration": 6,
    "start_time": "2023-05-02T17:07:43.167Z"
   },
   {
    "duration": 23,
    "start_time": "2023-05-02T17:07:43.174Z"
   },
   {
    "duration": 15,
    "start_time": "2023-05-02T17:07:43.198Z"
   },
   {
    "duration": 16,
    "start_time": "2023-05-02T17:07:43.217Z"
   },
   {
    "duration": 17,
    "start_time": "2023-05-02T17:07:43.235Z"
   },
   {
    "duration": 22,
    "start_time": "2023-05-02T17:07:43.253Z"
   },
   {
    "duration": 21,
    "start_time": "2023-05-02T17:07:43.278Z"
   },
   {
    "duration": 5,
    "start_time": "2023-05-02T17:07:43.301Z"
   },
   {
    "duration": 16,
    "start_time": "2023-05-02T17:07:43.313Z"
   },
   {
    "duration": 14,
    "start_time": "2023-05-02T17:07:43.332Z"
   },
   {
    "duration": 5,
    "start_time": "2023-05-02T17:07:43.350Z"
   },
   {
    "duration": 11,
    "start_time": "2023-05-02T17:07:43.357Z"
   },
   {
    "duration": 44,
    "start_time": "2023-05-02T17:07:43.370Z"
   },
   {
    "duration": 8,
    "start_time": "2023-05-02T17:07:43.416Z"
   },
   {
    "duration": 90,
    "start_time": "2023-05-02T17:07:43.425Z"
   },
   {
    "duration": 134,
    "start_time": "2023-05-02T17:07:43.518Z"
   },
   {
    "duration": 772,
    "start_time": "2023-05-02T17:07:43.653Z"
   },
   {
    "duration": 86,
    "start_time": "2023-05-02T17:07:44.427Z"
   },
   {
    "duration": 499,
    "start_time": "2023-05-02T17:07:44.515Z"
   },
   {
    "duration": 25571,
    "start_time": "2023-05-02T17:07:45.018Z"
   },
   {
    "duration": 58,
    "start_time": "2023-05-02T17:08:10.591Z"
   },
   {
    "duration": 12,
    "start_time": "2023-05-02T17:08:10.652Z"
   },
   {
    "duration": 8,
    "start_time": "2023-05-02T17:08:10.666Z"
   },
   {
    "duration": 137,
    "start_time": "2023-05-02T17:08:10.676Z"
   },
   {
    "duration": 657,
    "start_time": "2023-05-02T17:08:10.816Z"
   },
   {
    "duration": 36845,
    "start_time": "2023-05-02T17:08:11.474Z"
   },
   {
    "duration": 12,
    "start_time": "2023-05-02T17:08:48.323Z"
   },
   {
    "duration": 13,
    "start_time": "2023-05-02T17:08:48.337Z"
   },
   {
    "duration": 10,
    "start_time": "2023-05-02T17:08:48.352Z"
   },
   {
    "duration": 70,
    "start_time": "2023-05-02T17:08:48.363Z"
   },
   {
    "duration": 239,
    "start_time": "2023-05-02T17:08:48.516Z"
   },
   {
    "duration": 16767,
    "start_time": "2023-05-02T17:08:48.757Z"
   },
   {
    "duration": 46,
    "start_time": "2023-05-02T17:09:05.528Z"
   },
   {
    "duration": 56,
    "start_time": "2023-05-02T17:09:05.576Z"
   },
   {
    "duration": 12,
    "start_time": "2023-05-02T17:09:05.634Z"
   },
   {
    "duration": 45,
    "start_time": "2023-05-02T17:09:05.648Z"
   },
   {
    "duration": 4,
    "start_time": "2023-05-02T17:09:21.454Z"
   },
   {
    "duration": 4,
    "start_time": "2023-05-02T17:09:24.350Z"
   },
   {
    "duration": 8,
    "start_time": "2023-05-02T17:09:26.637Z"
   },
   {
    "duration": 5,
    "start_time": "2023-05-02T17:09:28.539Z"
   },
   {
    "duration": 5,
    "start_time": "2023-05-02T17:13:42.104Z"
   },
   {
    "duration": 5,
    "start_time": "2023-05-02T17:13:44.551Z"
   },
   {
    "duration": 5,
    "start_time": "2023-05-02T17:13:48.178Z"
   },
   {
    "duration": 5,
    "start_time": "2023-05-02T17:13:49.190Z"
   },
   {
    "duration": 153,
    "start_time": "2023-05-02T17:15:44.729Z"
   },
   {
    "duration": 4,
    "start_time": "2023-05-02T17:15:49.975Z"
   },
   {
    "duration": 9,
    "start_time": "2023-05-02T17:15:57.229Z"
   },
   {
    "duration": 29,
    "start_time": "2023-05-02T17:19:13.432Z"
   },
   {
    "duration": 7,
    "start_time": "2023-05-02T17:19:18.244Z"
   },
   {
    "duration": 6,
    "start_time": "2023-05-02T17:19:23.810Z"
   },
   {
    "duration": 69,
    "start_time": "2023-05-02T17:19:23.818Z"
   },
   {
    "duration": 19,
    "start_time": "2023-05-02T17:19:23.889Z"
   },
   {
    "duration": 37,
    "start_time": "2023-05-02T17:19:23.910Z"
   },
   {
    "duration": 15,
    "start_time": "2023-05-02T17:19:23.950Z"
   },
   {
    "duration": 7,
    "start_time": "2023-05-02T17:19:23.966Z"
   },
   {
    "duration": 5,
    "start_time": "2023-05-02T17:19:23.975Z"
   },
   {
    "duration": 6,
    "start_time": "2023-05-02T17:19:23.981Z"
   },
   {
    "duration": 58,
    "start_time": "2023-05-02T17:19:23.989Z"
   },
   {
    "duration": 7,
    "start_time": "2023-05-02T17:19:24.049Z"
   },
   {
    "duration": 21,
    "start_time": "2023-05-02T17:19:24.058Z"
   },
   {
    "duration": 6,
    "start_time": "2023-05-02T17:19:24.082Z"
   },
   {
    "duration": 29,
    "start_time": "2023-05-02T17:19:24.119Z"
   },
   {
    "duration": 5,
    "start_time": "2023-05-02T17:19:24.150Z"
   },
   {
    "duration": 13,
    "start_time": "2023-05-02T17:19:24.157Z"
   },
   {
    "duration": 6,
    "start_time": "2023-05-02T17:19:24.172Z"
   },
   {
    "duration": 5,
    "start_time": "2023-05-02T17:19:24.180Z"
   },
   {
    "duration": 35,
    "start_time": "2023-05-02T17:19:24.187Z"
   },
   {
    "duration": 8,
    "start_time": "2023-05-02T17:19:24.226Z"
   },
   {
    "duration": 6,
    "start_time": "2023-05-02T17:19:24.236Z"
   },
   {
    "duration": 16,
    "start_time": "2023-05-02T17:19:24.244Z"
   },
   {
    "duration": 20,
    "start_time": "2023-05-02T17:19:24.262Z"
   },
   {
    "duration": 36,
    "start_time": "2023-05-02T17:19:24.284Z"
   },
   {
    "duration": 17,
    "start_time": "2023-05-02T17:19:24.322Z"
   },
   {
    "duration": 7,
    "start_time": "2023-05-02T17:19:24.344Z"
   },
   {
    "duration": 5,
    "start_time": "2023-05-02T17:19:24.353Z"
   },
   {
    "duration": 11,
    "start_time": "2023-05-02T17:19:24.360Z"
   },
   {
    "duration": 48,
    "start_time": "2023-05-02T17:19:24.373Z"
   },
   {
    "duration": 9,
    "start_time": "2023-05-02T17:19:24.422Z"
   },
   {
    "duration": 90,
    "start_time": "2023-05-02T17:19:24.433Z"
   },
   {
    "duration": 137,
    "start_time": "2023-05-02T17:19:24.536Z"
   },
   {
    "duration": 933,
    "start_time": "2023-05-02T17:19:24.676Z"
   },
   {
    "duration": 107,
    "start_time": "2023-05-02T17:19:25.611Z"
   },
   {
    "duration": 572,
    "start_time": "2023-05-02T17:19:25.725Z"
   },
   {
    "duration": 28708,
    "start_time": "2023-05-02T17:19:26.299Z"
   },
   {
    "duration": 68,
    "start_time": "2023-05-02T17:19:55.008Z"
   },
   {
    "duration": 16,
    "start_time": "2023-05-02T17:19:55.082Z"
   },
   {
    "duration": 28,
    "start_time": "2023-05-02T17:19:55.100Z"
   },
   {
    "duration": 116,
    "start_time": "2023-05-02T17:19:55.131Z"
   },
   {
    "duration": 719,
    "start_time": "2023-05-02T17:19:55.315Z"
   },
   {
    "duration": 40482,
    "start_time": "2023-05-02T17:19:56.037Z"
   },
   {
    "duration": 20,
    "start_time": "2023-05-02T17:20:36.520Z"
   },
   {
    "duration": 15,
    "start_time": "2023-05-02T17:20:36.543Z"
   },
   {
    "duration": 12,
    "start_time": "2023-05-02T17:20:36.560Z"
   },
   {
    "duration": 40,
    "start_time": "2023-05-02T17:20:36.574Z"
   },
   {
    "duration": 341,
    "start_time": "2023-05-02T17:20:36.617Z"
   },
   {
    "duration": 18629,
    "start_time": "2023-05-02T17:20:36.960Z"
   },
   {
    "duration": 59,
    "start_time": "2023-05-02T17:20:55.591Z"
   },
   {
    "duration": 63,
    "start_time": "2023-05-02T17:20:55.652Z"
   },
   {
    "duration": 18,
    "start_time": "2023-05-02T17:20:55.717Z"
   },
   {
    "duration": 45,
    "start_time": "2023-05-02T17:20:55.736Z"
   },
   {
    "duration": 43,
    "start_time": "2023-05-02T17:20:55.785Z"
   },
   {
    "duration": 10,
    "start_time": "2023-05-02T17:20:55.830Z"
   },
   {
    "duration": 7,
    "start_time": "2023-05-02T17:22:49.471Z"
   },
   {
    "duration": 16,
    "start_time": "2023-05-02T17:23:09.207Z"
   },
   {
    "duration": 17,
    "start_time": "2023-05-02T17:23:51.255Z"
   },
   {
    "duration": 9,
    "start_time": "2023-05-02T17:24:31.784Z"
   },
   {
    "duration": 18,
    "start_time": "2023-05-02T17:24:49.571Z"
   },
   {
    "duration": 22,
    "start_time": "2023-05-02T17:25:15.487Z"
   },
   {
    "duration": 6,
    "start_time": "2023-05-02T17:25:28.143Z"
   },
   {
    "duration": 12,
    "start_time": "2023-05-02T17:26:57.000Z"
   },
   {
    "duration": 13,
    "start_time": "2023-05-02T17:27:14.008Z"
   },
   {
    "duration": 75,
    "start_time": "2023-05-02T17:28:18.831Z"
   },
   {
    "duration": 23,
    "start_time": "2023-05-02T17:28:27.343Z"
   },
   {
    "duration": 8,
    "start_time": "2023-05-02T17:28:38.840Z"
   },
   {
    "duration": 124,
    "start_time": "2023-05-02T17:29:06.000Z"
   },
   {
    "duration": 1351,
    "start_time": "2023-05-02T17:29:27.306Z"
   },
   {
    "duration": 8,
    "start_time": "2023-05-02T17:29:40.061Z"
   },
   {
    "duration": 4,
    "start_time": "2023-05-02T17:30:08.903Z"
   },
   {
    "duration": 62,
    "start_time": "2023-05-02T17:30:08.908Z"
   },
   {
    "duration": 14,
    "start_time": "2023-05-02T17:30:08.972Z"
   },
   {
    "duration": 21,
    "start_time": "2023-05-02T17:30:08.987Z"
   },
   {
    "duration": 20,
    "start_time": "2023-05-02T17:30:09.010Z"
   },
   {
    "duration": 7,
    "start_time": "2023-05-02T17:30:09.032Z"
   },
   {
    "duration": 15,
    "start_time": "2023-05-02T17:30:09.041Z"
   },
   {
    "duration": 21,
    "start_time": "2023-05-02T17:30:09.058Z"
   },
   {
    "duration": 47,
    "start_time": "2023-05-02T17:30:09.081Z"
   },
   {
    "duration": 9,
    "start_time": "2023-05-02T17:30:09.130Z"
   },
   {
    "duration": 29,
    "start_time": "2023-05-02T17:30:09.141Z"
   },
   {
    "duration": 8,
    "start_time": "2023-05-02T17:30:09.172Z"
   },
   {
    "duration": 45,
    "start_time": "2023-05-02T17:30:09.183Z"
   },
   {
    "duration": 1395,
    "start_time": "2023-05-02T17:30:09.234Z"
   },
   {
    "duration": 6,
    "start_time": "2023-05-02T17:30:10.631Z"
   },
   {
    "duration": 7,
    "start_time": "2023-05-02T17:30:10.638Z"
   },
   {
    "duration": 4,
    "start_time": "2023-05-02T17:30:10.647Z"
   },
   {
    "duration": 18,
    "start_time": "2023-05-02T17:30:10.652Z"
   },
   {
    "duration": 5,
    "start_time": "2023-05-02T17:30:10.672Z"
   },
   {
    "duration": 39,
    "start_time": "2023-05-02T17:30:10.678Z"
   },
   {
    "duration": 28,
    "start_time": "2023-05-02T17:30:10.718Z"
   },
   {
    "duration": 7,
    "start_time": "2023-05-02T17:30:10.748Z"
   },
   {
    "duration": 15,
    "start_time": "2023-05-02T17:30:10.756Z"
   },
   {
    "duration": 12,
    "start_time": "2023-05-02T17:30:10.773Z"
   },
   {
    "duration": 4,
    "start_time": "2023-05-02T17:30:10.786Z"
   },
   {
    "duration": 39,
    "start_time": "2023-05-02T17:30:10.792Z"
   },
   {
    "duration": 26,
    "start_time": "2023-05-02T17:30:10.833Z"
   },
   {
    "duration": 7,
    "start_time": "2023-05-02T17:30:10.861Z"
   },
   {
    "duration": 57,
    "start_time": "2023-05-02T17:30:10.870Z"
   },
   {
    "duration": 133,
    "start_time": "2023-05-02T17:30:10.928Z"
   },
   {
    "duration": 752,
    "start_time": "2023-05-02T17:30:11.063Z"
   },
   {
    "duration": 89,
    "start_time": "2023-05-02T17:30:11.824Z"
   },
   {
    "duration": 506,
    "start_time": "2023-05-02T17:30:11.918Z"
   },
   {
    "duration": 24018,
    "start_time": "2023-05-02T17:30:12.427Z"
   },
   {
    "duration": 45,
    "start_time": "2023-05-02T17:30:36.447Z"
   },
   {
    "duration": 29,
    "start_time": "2023-05-02T17:30:36.494Z"
   },
   {
    "duration": 19,
    "start_time": "2023-05-02T17:30:36.524Z"
   },
   {
    "duration": 70,
    "start_time": "2023-05-02T17:30:36.544Z"
   },
   {
    "duration": 611,
    "start_time": "2023-05-02T17:30:36.616Z"
   },
   {
    "duration": 34484,
    "start_time": "2023-05-02T17:30:37.229Z"
   },
   {
    "duration": 14,
    "start_time": "2023-05-02T17:31:11.720Z"
   },
   {
    "duration": 11,
    "start_time": "2023-05-02T17:31:11.735Z"
   },
   {
    "duration": 5,
    "start_time": "2023-05-02T17:31:11.748Z"
   },
   {
    "duration": 61,
    "start_time": "2023-05-02T17:31:11.754Z"
   },
   {
    "duration": 312,
    "start_time": "2023-05-02T17:31:11.817Z"
   },
   {
    "duration": 15159,
    "start_time": "2023-05-02T17:31:12.130Z"
   },
   {
    "duration": 49,
    "start_time": "2023-05-02T17:31:27.291Z"
   },
   {
    "duration": 43,
    "start_time": "2023-05-02T17:31:27.342Z"
   },
   {
    "duration": 40,
    "start_time": "2023-05-02T17:31:27.387Z"
   },
   {
    "duration": 45,
    "start_time": "2023-05-02T17:31:27.429Z"
   },
   {
    "duration": 556,
    "start_time": "2023-05-02T17:31:27.476Z"
   },
   {
    "duration": 7,
    "start_time": "2023-05-02T17:31:36.935Z"
   },
   {
    "duration": 41,
    "start_time": "2023-05-02T17:32:08.706Z"
   },
   {
    "duration": 21,
    "start_time": "2023-05-02T17:32:21.136Z"
   },
   {
    "duration": 5,
    "start_time": "2023-05-02T17:33:01.228Z"
   },
   {
    "duration": 96,
    "start_time": "2023-05-02T17:33:01.234Z"
   },
   {
    "duration": 17,
    "start_time": "2023-05-02T17:33:01.332Z"
   },
   {
    "duration": 47,
    "start_time": "2023-05-02T17:33:01.352Z"
   },
   {
    "duration": 37,
    "start_time": "2023-05-02T17:33:01.401Z"
   },
   {
    "duration": 32,
    "start_time": "2023-05-02T17:33:01.440Z"
   },
   {
    "duration": 29,
    "start_time": "2023-05-02T17:33:01.474Z"
   },
   {
    "duration": 35,
    "start_time": "2023-05-02T17:33:01.505Z"
   },
   {
    "duration": 38,
    "start_time": "2023-05-02T17:33:01.543Z"
   },
   {
    "duration": 21,
    "start_time": "2023-05-02T17:33:01.584Z"
   },
   {
    "duration": 53,
    "start_time": "2023-05-02T17:33:01.607Z"
   },
   {
    "duration": 21,
    "start_time": "2023-05-02T17:33:01.662Z"
   },
   {
    "duration": 38,
    "start_time": "2023-05-02T17:33:01.685Z"
   },
   {
    "duration": 710,
    "start_time": "2023-05-02T17:33:01.725Z"
   },
   {
    "duration": 17,
    "start_time": "2023-05-02T17:33:02.437Z"
   },
   {
    "duration": 35,
    "start_time": "2023-05-02T17:33:02.456Z"
   },
   {
    "duration": 15,
    "start_time": "2023-05-02T17:33:02.493Z"
   },
   {
    "duration": 22,
    "start_time": "2023-05-02T17:33:02.510Z"
   },
   {
    "duration": 21,
    "start_time": "2023-05-02T17:33:02.534Z"
   },
   {
    "duration": 25,
    "start_time": "2023-05-02T17:33:02.557Z"
   },
   {
    "duration": 23,
    "start_time": "2023-05-02T17:33:02.584Z"
   },
   {
    "duration": 38,
    "start_time": "2023-05-02T17:33:02.608Z"
   },
   {
    "duration": 5,
    "start_time": "2023-05-02T17:33:02.648Z"
   },
   {
    "duration": 36,
    "start_time": "2023-05-02T17:33:02.656Z"
   },
   {
    "duration": 21,
    "start_time": "2023-05-02T17:33:02.694Z"
   },
   {
    "duration": 27,
    "start_time": "2023-05-02T17:33:02.718Z"
   },
   {
    "duration": 25,
    "start_time": "2023-05-02T17:33:02.747Z"
   },
   {
    "duration": 86,
    "start_time": "2023-05-02T17:33:02.774Z"
   },
   {
    "duration": 8,
    "start_time": "2023-05-02T17:33:02.862Z"
   },
   {
    "duration": 76,
    "start_time": "2023-05-02T17:33:02.872Z"
   },
   {
    "duration": 209,
    "start_time": "2023-05-02T17:33:02.950Z"
   },
   {
    "duration": 809,
    "start_time": "2023-05-02T17:33:03.161Z"
   },
   {
    "duration": 49,
    "start_time": "2023-05-02T17:33:03.972Z"
   },
   {
    "duration": 541,
    "start_time": "2023-05-02T17:33:04.027Z"
   },
   {
    "duration": 27077,
    "start_time": "2023-05-02T17:33:04.570Z"
   },
   {
    "duration": 56,
    "start_time": "2023-05-02T17:33:31.649Z"
   },
   {
    "duration": 25,
    "start_time": "2023-05-02T17:33:31.708Z"
   },
   {
    "duration": 35,
    "start_time": "2023-05-02T17:33:31.735Z"
   },
   {
    "duration": 148,
    "start_time": "2023-05-02T17:33:31.772Z"
   },
   {
    "duration": 752,
    "start_time": "2023-05-02T17:33:31.923Z"
   },
   {
    "duration": 40754,
    "start_time": "2023-05-02T17:33:32.678Z"
   },
   {
    "duration": 18,
    "start_time": "2023-05-02T17:34:13.434Z"
   },
   {
    "duration": 17,
    "start_time": "2023-05-02T17:34:13.454Z"
   },
   {
    "duration": 7,
    "start_time": "2023-05-02T17:34:13.473Z"
   },
   {
    "duration": 136,
    "start_time": "2023-05-02T17:34:13.482Z"
   },
   {
    "duration": 409,
    "start_time": "2023-05-02T17:34:13.622Z"
   },
   {
    "duration": 17386,
    "start_time": "2023-05-02T17:34:14.037Z"
   },
   {
    "duration": 54,
    "start_time": "2023-05-02T17:34:31.425Z"
   },
   {
    "duration": 52,
    "start_time": "2023-05-02T17:34:31.481Z"
   },
   {
    "duration": 15,
    "start_time": "2023-05-02T17:34:31.536Z"
   },
   {
    "duration": 75,
    "start_time": "2023-05-02T17:34:31.553Z"
   },
   {
    "duration": 6,
    "start_time": "2023-05-02T17:48:11.429Z"
   },
   {
    "duration": 54,
    "start_time": "2023-05-02T17:48:11.437Z"
   },
   {
    "duration": 12,
    "start_time": "2023-05-02T17:48:11.493Z"
   },
   {
    "duration": 27,
    "start_time": "2023-05-02T17:48:11.507Z"
   },
   {
    "duration": 11,
    "start_time": "2023-05-02T17:48:11.551Z"
   },
   {
    "duration": 4,
    "start_time": "2023-05-02T17:48:11.564Z"
   },
   {
    "duration": 5,
    "start_time": "2023-05-02T17:48:11.570Z"
   },
   {
    "duration": 18,
    "start_time": "2023-05-02T17:48:11.577Z"
   },
   {
    "duration": 12,
    "start_time": "2023-05-02T17:48:11.597Z"
   },
   {
    "duration": 10,
    "start_time": "2023-05-02T17:48:11.611Z"
   },
   {
    "duration": 22,
    "start_time": "2023-05-02T17:48:11.623Z"
   },
   {
    "duration": 10,
    "start_time": "2023-05-02T17:48:11.647Z"
   },
   {
    "duration": 9,
    "start_time": "2023-05-02T17:48:11.660Z"
   },
   {
    "duration": 9,
    "start_time": "2023-05-02T17:48:11.671Z"
   },
   {
    "duration": 39,
    "start_time": "2023-05-02T17:48:11.681Z"
   },
   {
    "duration": 36,
    "start_time": "2023-05-02T17:48:11.721Z"
   },
   {
    "duration": 5,
    "start_time": "2023-05-02T17:48:11.759Z"
   },
   {
    "duration": 5,
    "start_time": "2023-05-02T17:48:11.766Z"
   },
   {
    "duration": 5,
    "start_time": "2023-05-02T17:48:11.772Z"
   },
   {
    "duration": 5,
    "start_time": "2023-05-02T17:48:11.778Z"
   },
   {
    "duration": 37,
    "start_time": "2023-05-02T17:48:11.784Z"
   },
   {
    "duration": 38,
    "start_time": "2023-05-02T17:48:11.823Z"
   },
   {
    "duration": 6,
    "start_time": "2023-05-02T17:48:11.865Z"
   },
   {
    "duration": 44,
    "start_time": "2023-05-02T17:48:11.873Z"
   },
   {
    "duration": 148,
    "start_time": "2023-05-02T17:48:11.919Z"
   },
   {
    "duration": 785,
    "start_time": "2023-05-02T17:48:12.069Z"
   },
   {
    "duration": 58,
    "start_time": "2023-05-02T17:48:12.856Z"
   },
   {
    "duration": 549,
    "start_time": "2023-05-02T17:48:12.918Z"
   },
   {
    "duration": 27353,
    "start_time": "2023-05-02T17:48:13.468Z"
   },
   {
    "duration": 49,
    "start_time": "2023-05-02T17:48:40.832Z"
   },
   {
    "duration": 12,
    "start_time": "2023-05-02T17:48:40.882Z"
   },
   {
    "duration": 6,
    "start_time": "2023-05-02T17:48:40.895Z"
   },
   {
    "duration": 133,
    "start_time": "2023-05-02T17:48:40.903Z"
   },
   {
    "duration": 543,
    "start_time": "2023-05-02T17:48:41.116Z"
   },
   {
    "duration": 38911,
    "start_time": "2023-05-02T17:48:41.662Z"
   },
   {
    "duration": 12,
    "start_time": "2023-05-02T17:49:20.575Z"
   },
   {
    "duration": 35,
    "start_time": "2023-05-02T17:49:20.589Z"
   },
   {
    "duration": 7,
    "start_time": "2023-05-02T17:49:20.626Z"
   },
   {
    "duration": 91,
    "start_time": "2023-05-02T17:49:20.634Z"
   },
   {
    "duration": 317,
    "start_time": "2023-05-02T17:49:20.732Z"
   },
   {
    "duration": 16250,
    "start_time": "2023-05-02T17:49:21.052Z"
   },
   {
    "duration": 51,
    "start_time": "2023-05-02T17:49:37.304Z"
   },
   {
    "duration": 57,
    "start_time": "2023-05-02T17:49:37.357Z"
   },
   {
    "duration": 18,
    "start_time": "2023-05-02T17:49:37.416Z"
   },
   {
    "duration": 43,
    "start_time": "2023-05-02T17:49:37.439Z"
   },
   {
    "duration": 198,
    "start_time": "2023-05-02T17:51:26.562Z"
   },
   {
    "duration": 25,
    "start_time": "2023-05-02T17:51:34.953Z"
   },
   {
    "duration": 16,
    "start_time": "2023-05-02T17:51:45.248Z"
   },
   {
    "duration": 5,
    "start_time": "2023-05-02T17:52:22.108Z"
   },
   {
    "duration": 6,
    "start_time": "2023-05-02T17:52:22.681Z"
   },
   {
    "duration": 9,
    "start_time": "2023-05-02T17:52:24.185Z"
   },
   {
    "duration": 11,
    "start_time": "2023-05-02T17:52:24.707Z"
   },
   {
    "duration": 18,
    "start_time": "2023-05-02T17:52:46.701Z"
   },
   {
    "duration": 4,
    "start_time": "2023-05-02T17:53:18.182Z"
   },
   {
    "duration": 89,
    "start_time": "2023-05-02T17:53:18.189Z"
   },
   {
    "duration": 13,
    "start_time": "2023-05-02T17:53:18.280Z"
   },
   {
    "duration": 14,
    "start_time": "2023-05-02T17:53:18.295Z"
   },
   {
    "duration": 27,
    "start_time": "2023-05-02T17:53:18.310Z"
   },
   {
    "duration": 6,
    "start_time": "2023-05-02T17:53:18.339Z"
   },
   {
    "duration": 19,
    "start_time": "2023-05-02T17:53:18.346Z"
   },
   {
    "duration": 4,
    "start_time": "2023-05-02T17:53:18.367Z"
   },
   {
    "duration": 12,
    "start_time": "2023-05-02T17:53:18.374Z"
   },
   {
    "duration": 6,
    "start_time": "2023-05-02T17:53:18.388Z"
   },
   {
    "duration": 27,
    "start_time": "2023-05-02T17:53:18.395Z"
   },
   {
    "duration": 6,
    "start_time": "2023-05-02T17:53:18.424Z"
   },
   {
    "duration": 23,
    "start_time": "2023-05-02T17:53:18.432Z"
   },
   {
    "duration": 17,
    "start_time": "2023-05-02T17:53:18.456Z"
   },
   {
    "duration": 17,
    "start_time": "2023-05-02T17:53:18.475Z"
   },
   {
    "duration": 43,
    "start_time": "2023-05-02T17:53:18.494Z"
   },
   {
    "duration": 28,
    "start_time": "2023-05-02T17:53:18.541Z"
   },
   {
    "duration": 5,
    "start_time": "2023-05-02T17:53:18.571Z"
   },
   {
    "duration": 40,
    "start_time": "2023-05-02T17:53:18.577Z"
   },
   {
    "duration": 25,
    "start_time": "2023-05-02T17:53:18.621Z"
   },
   {
    "duration": 10,
    "start_time": "2023-05-02T17:53:18.650Z"
   },
   {
    "duration": 15,
    "start_time": "2023-05-02T17:53:18.662Z"
   },
   {
    "duration": 42,
    "start_time": "2023-05-02T17:53:18.679Z"
   },
   {
    "duration": 18,
    "start_time": "2023-05-02T17:53:18.732Z"
   },
   {
    "duration": 36,
    "start_time": "2023-05-02T17:53:18.755Z"
   },
   {
    "duration": 64,
    "start_time": "2023-05-02T17:53:18.916Z"
   },
   {
    "duration": 885,
    "start_time": "2023-05-02T17:53:18.982Z"
   },
   {
    "duration": 46,
    "start_time": "2023-05-02T17:53:19.869Z"
   },
   {
    "duration": 581,
    "start_time": "2023-05-02T17:53:19.917Z"
   },
   {
    "duration": 27159,
    "start_time": "2023-05-02T17:53:20.500Z"
   },
   {
    "duration": 44,
    "start_time": "2023-05-02T17:53:47.661Z"
   },
   {
    "duration": 14,
    "start_time": "2023-05-02T17:53:47.713Z"
   },
   {
    "duration": 6,
    "start_time": "2023-05-02T17:53:47.729Z"
   },
   {
    "duration": 82,
    "start_time": "2023-05-02T17:53:47.737Z"
   },
   {
    "duration": 677,
    "start_time": "2023-05-02T17:53:47.832Z"
   },
   {
    "duration": 38209,
    "start_time": "2023-05-02T17:53:48.511Z"
   },
   {
    "duration": 37,
    "start_time": "2023-05-02T17:54:26.726Z"
   },
   {
    "duration": 16,
    "start_time": "2023-05-02T17:54:26.768Z"
   },
   {
    "duration": 6,
    "start_time": "2023-05-02T17:54:26.785Z"
   },
   {
    "duration": 54,
    "start_time": "2023-05-02T17:54:26.793Z"
   },
   {
    "duration": 388,
    "start_time": "2023-05-02T17:54:26.852Z"
   },
   {
    "duration": 17897,
    "start_time": "2023-05-02T17:54:27.244Z"
   },
   {
    "duration": 62,
    "start_time": "2023-05-02T17:54:45.144Z"
   },
   {
    "duration": 73,
    "start_time": "2023-05-02T17:54:45.208Z"
   },
   {
    "duration": 13,
    "start_time": "2023-05-02T17:54:45.283Z"
   },
   {
    "duration": 77,
    "start_time": "2023-05-02T17:54:45.298Z"
   },
   {
    "duration": 113,
    "start_time": "2023-05-02T17:55:32.964Z"
   },
   {
    "duration": 13,
    "start_time": "2023-05-02T17:55:41.154Z"
   },
   {
    "duration": 257,
    "start_time": "2023-05-02T17:56:05.915Z"
   },
   {
    "duration": 12,
    "start_time": "2023-05-02T17:56:09.674Z"
   },
   {
    "duration": 48,
    "start_time": "2023-05-03T07:06:38.876Z"
   },
   {
    "duration": 1082,
    "start_time": "2023-05-03T07:07:02.622Z"
   },
   {
    "duration": 91,
    "start_time": "2023-05-03T07:07:03.706Z"
   },
   {
    "duration": 13,
    "start_time": "2023-05-03T07:07:03.799Z"
   },
   {
    "duration": 19,
    "start_time": "2023-05-03T07:07:03.813Z"
   },
   {
    "duration": 10,
    "start_time": "2023-05-03T07:07:03.834Z"
   },
   {
    "duration": 4,
    "start_time": "2023-05-03T07:07:03.845Z"
   },
   {
    "duration": 18,
    "start_time": "2023-05-03T07:07:03.850Z"
   },
   {
    "duration": 4,
    "start_time": "2023-05-03T07:07:03.870Z"
   },
   {
    "duration": 25,
    "start_time": "2023-05-03T07:07:03.876Z"
   },
   {
    "duration": 5,
    "start_time": "2023-05-03T07:07:03.904Z"
   },
   {
    "duration": 5,
    "start_time": "2023-05-03T07:07:03.911Z"
   },
   {
    "duration": 4,
    "start_time": "2023-05-03T07:07:03.918Z"
   },
   {
    "duration": 8,
    "start_time": "2023-05-03T07:07:03.923Z"
   },
   {
    "duration": 8,
    "start_time": "2023-05-03T07:07:03.932Z"
   },
   {
    "duration": 202,
    "start_time": "2023-05-03T07:07:03.941Z"
   },
   {
    "duration": 11,
    "start_time": "2023-05-03T07:07:04.145Z"
   },
   {
    "duration": 19,
    "start_time": "2023-05-03T07:07:04.158Z"
   },
   {
    "duration": 5,
    "start_time": "2023-05-03T07:07:04.192Z"
   },
   {
    "duration": 5,
    "start_time": "2023-05-03T07:07:04.198Z"
   },
   {
    "duration": 7,
    "start_time": "2023-05-03T07:07:04.204Z"
   },
   {
    "duration": 4,
    "start_time": "2023-05-03T07:07:04.212Z"
   },
   {
    "duration": 8,
    "start_time": "2023-05-03T07:07:04.218Z"
   },
   {
    "duration": 23,
    "start_time": "2023-05-03T07:07:04.227Z"
   },
   {
    "duration": 5,
    "start_time": "2023-05-03T07:07:04.252Z"
   },
   {
    "duration": 101,
    "start_time": "2023-05-03T07:07:04.292Z"
   },
   {
    "duration": 126,
    "start_time": "2023-05-03T07:07:04.395Z"
   },
   {
    "duration": 658,
    "start_time": "2023-05-03T07:07:04.524Z"
   },
   {
    "duration": 54,
    "start_time": "2023-05-03T07:07:05.191Z"
   },
   {
    "duration": 48,
    "start_time": "2023-05-03T07:07:05.246Z"
   },
   {
    "duration": 462,
    "start_time": "2023-05-03T07:07:05.295Z"
   },
   {
    "duration": 21361,
    "start_time": "2023-05-03T07:07:05.759Z"
   },
   {
    "duration": 45,
    "start_time": "2023-05-03T07:07:27.122Z"
   },
   {
    "duration": 30,
    "start_time": "2023-05-03T07:07:27.169Z"
   },
   {
    "duration": 5,
    "start_time": "2023-05-03T07:07:27.201Z"
   },
   {
    "duration": 40,
    "start_time": "2023-05-03T07:07:27.208Z"
   },
   {
    "duration": 572,
    "start_time": "2023-05-03T07:07:27.294Z"
   },
   {
    "duration": 31218,
    "start_time": "2023-05-03T07:07:27.868Z"
   },
   {
    "duration": 12,
    "start_time": "2023-05-03T07:07:59.092Z"
   },
   {
    "duration": 12,
    "start_time": "2023-05-03T07:07:59.106Z"
   },
   {
    "duration": 5,
    "start_time": "2023-05-03T07:07:59.120Z"
   },
   {
    "duration": 70,
    "start_time": "2023-05-03T07:07:59.126Z"
   },
   {
    "duration": 322,
    "start_time": "2023-05-03T07:07:59.198Z"
   },
   {
    "duration": 13822,
    "start_time": "2023-05-03T07:07:59.521Z"
   },
   {
    "duration": 47,
    "start_time": "2023-05-03T07:08:13.346Z"
   },
   {
    "duration": 43,
    "start_time": "2023-05-03T07:08:13.395Z"
   },
   {
    "duration": 10,
    "start_time": "2023-05-03T07:08:13.440Z"
   },
   {
    "duration": 62,
    "start_time": "2023-05-03T07:08:13.452Z"
   },
   {
    "duration": 21,
    "start_time": "2023-05-03T07:08:13.518Z"
   },
   {
    "duration": 30,
    "start_time": "2023-05-03T07:08:52.656Z"
   },
   {
    "duration": 4,
    "start_time": "2023-05-03T07:09:57.744Z"
   },
   {
    "duration": 45,
    "start_time": "2023-05-03T07:09:57.750Z"
   },
   {
    "duration": 12,
    "start_time": "2023-05-03T07:09:57.797Z"
   },
   {
    "duration": 11,
    "start_time": "2023-05-03T07:09:57.810Z"
   },
   {
    "duration": 11,
    "start_time": "2023-05-03T07:09:57.822Z"
   },
   {
    "duration": 3,
    "start_time": "2023-05-03T07:09:57.834Z"
   },
   {
    "duration": 22,
    "start_time": "2023-05-03T07:09:57.838Z"
   },
   {
    "duration": 31,
    "start_time": "2023-05-03T07:09:57.861Z"
   },
   {
    "duration": 12,
    "start_time": "2023-05-03T07:09:57.893Z"
   },
   {
    "duration": 6,
    "start_time": "2023-05-03T07:09:57.906Z"
   },
   {
    "duration": 7,
    "start_time": "2023-05-03T07:09:57.915Z"
   },
   {
    "duration": 5,
    "start_time": "2023-05-03T07:09:57.923Z"
   },
   {
    "duration": 6,
    "start_time": "2023-05-03T07:09:57.929Z"
   },
   {
    "duration": 20,
    "start_time": "2023-05-03T07:09:57.936Z"
   },
   {
    "duration": 192,
    "start_time": "2023-05-03T07:09:57.958Z"
   },
   {
    "duration": 11,
    "start_time": "2023-05-03T07:09:58.151Z"
   },
   {
    "duration": 31,
    "start_time": "2023-05-03T07:09:58.164Z"
   },
   {
    "duration": 5,
    "start_time": "2023-05-03T07:09:58.197Z"
   },
   {
    "duration": 5,
    "start_time": "2023-05-03T07:09:58.203Z"
   },
   {
    "duration": 6,
    "start_time": "2023-05-03T07:09:58.210Z"
   },
   {
    "duration": 5,
    "start_time": "2023-05-03T07:09:58.218Z"
   },
   {
    "duration": 9,
    "start_time": "2023-05-03T07:09:58.225Z"
   },
   {
    "duration": 59,
    "start_time": "2023-05-03T07:09:58.235Z"
   },
   {
    "duration": 6,
    "start_time": "2023-05-03T07:09:58.295Z"
   },
   {
    "duration": 90,
    "start_time": "2023-05-03T07:09:58.303Z"
   },
   {
    "duration": 124,
    "start_time": "2023-05-03T07:09:58.395Z"
   },
   {
    "duration": 652,
    "start_time": "2023-05-03T07:09:58.520Z"
   },
   {
    "duration": 62,
    "start_time": "2023-05-03T07:09:59.173Z"
   },
   {
    "duration": 54,
    "start_time": "2023-05-03T07:09:59.239Z"
   },
   {
    "duration": 427,
    "start_time": "2023-05-03T07:09:59.294Z"
   },
   {
    "duration": 21490,
    "start_time": "2023-05-03T07:09:59.722Z"
   },
   {
    "duration": 40,
    "start_time": "2023-05-03T07:10:21.214Z"
   },
   {
    "duration": 10,
    "start_time": "2023-05-03T07:10:21.256Z"
   },
   {
    "duration": 24,
    "start_time": "2023-05-03T07:10:21.267Z"
   },
   {
    "duration": 27,
    "start_time": "2023-05-03T07:10:21.293Z"
   },
   {
    "duration": 564,
    "start_time": "2023-05-03T07:10:21.391Z"
   },
   {
    "duration": 31293,
    "start_time": "2023-05-03T07:10:21.957Z"
   },
   {
    "duration": 12,
    "start_time": "2023-05-03T07:10:53.253Z"
   },
   {
    "duration": 29,
    "start_time": "2023-05-03T07:10:53.267Z"
   },
   {
    "duration": 6,
    "start_time": "2023-05-03T07:10:53.297Z"
   },
   {
    "duration": 19,
    "start_time": "2023-05-03T07:10:53.305Z"
   },
   {
    "duration": 357,
    "start_time": "2023-05-03T07:10:53.326Z"
   },
   {
    "duration": 13967,
    "start_time": "2023-05-03T07:10:53.685Z"
   },
   {
    "duration": 56,
    "start_time": "2023-05-03T07:11:07.655Z"
   },
   {
    "duration": 53,
    "start_time": "2023-05-03T07:11:07.714Z"
   },
   {
    "duration": 27,
    "start_time": "2023-05-03T07:11:07.769Z"
   },
   {
    "duration": 39,
    "start_time": "2023-05-03T07:11:07.798Z"
   },
   {
    "duration": 71,
    "start_time": "2023-05-03T07:12:17.415Z"
   },
   {
    "duration": 55,
    "start_time": "2023-05-03T07:16:07.017Z"
   },
   {
    "duration": 27,
    "start_time": "2023-05-03T07:17:38.410Z"
   },
   {
    "duration": 360,
    "start_time": "2023-05-03T07:17:38.593Z"
   },
   {
    "duration": 21376,
    "start_time": "2023-05-03T07:17:38.955Z"
   },
   {
    "duration": 42,
    "start_time": "2023-05-03T07:18:00.333Z"
   },
   {
    "duration": 25,
    "start_time": "2023-05-03T07:18:00.377Z"
   },
   {
    "duration": 7,
    "start_time": "2023-05-03T07:18:00.404Z"
   },
   {
    "duration": 81,
    "start_time": "2023-05-03T07:18:00.412Z"
   },
   {
    "duration": 543,
    "start_time": "2023-05-03T07:18:00.495Z"
   },
   {
    "duration": 31136,
    "start_time": "2023-05-03T07:18:01.040Z"
   },
   {
    "duration": 15,
    "start_time": "2023-05-03T07:18:32.179Z"
   },
   {
    "duration": 13,
    "start_time": "2023-05-03T07:18:32.196Z"
   },
   {
    "duration": 5,
    "start_time": "2023-05-03T07:18:32.210Z"
   },
   {
    "duration": 80,
    "start_time": "2023-05-03T07:18:32.217Z"
   },
   {
    "duration": 330,
    "start_time": "2023-05-03T07:18:32.299Z"
   },
   {
    "duration": 13889,
    "start_time": "2023-05-03T07:18:32.631Z"
   },
   {
    "duration": 37,
    "start_time": "2023-05-03T07:18:46.522Z"
   },
   {
    "duration": 58,
    "start_time": "2023-05-03T07:18:46.561Z"
   },
   {
    "duration": 11,
    "start_time": "2023-05-03T07:18:46.621Z"
   },
   {
    "duration": 37,
    "start_time": "2023-05-03T07:18:46.634Z"
   },
   {
    "duration": 44,
    "start_time": "2023-05-03T07:18:46.692Z"
   },
   {
    "duration": 1178,
    "start_time": "2023-05-03T07:28:06.805Z"
   },
   {
    "duration": 51,
    "start_time": "2023-05-03T07:28:07.985Z"
   },
   {
    "duration": 12,
    "start_time": "2023-05-03T07:28:08.038Z"
   },
   {
    "duration": 13,
    "start_time": "2023-05-03T07:28:08.052Z"
   },
   {
    "duration": 10,
    "start_time": "2023-05-03T07:28:08.068Z"
   },
   {
    "duration": 12,
    "start_time": "2023-05-03T07:28:08.080Z"
   },
   {
    "duration": 8,
    "start_time": "2023-05-03T07:28:08.094Z"
   },
   {
    "duration": 4,
    "start_time": "2023-05-03T07:28:08.104Z"
   },
   {
    "duration": 15,
    "start_time": "2023-05-03T07:28:08.109Z"
   },
   {
    "duration": 6,
    "start_time": "2023-05-03T07:28:08.125Z"
   },
   {
    "duration": 40,
    "start_time": "2023-05-03T07:28:08.133Z"
   },
   {
    "duration": 11,
    "start_time": "2023-05-03T07:28:08.175Z"
   },
   {
    "duration": 28,
    "start_time": "2023-05-03T07:28:08.188Z"
   },
   {
    "duration": 102,
    "start_time": "2023-05-03T07:28:08.219Z"
   },
   {
    "duration": 0,
    "start_time": "2023-05-03T07:28:08.323Z"
   },
   {
    "duration": 0,
    "start_time": "2023-05-03T07:28:08.324Z"
   },
   {
    "duration": 0,
    "start_time": "2023-05-03T07:28:08.325Z"
   },
   {
    "duration": 0,
    "start_time": "2023-05-03T07:28:08.326Z"
   },
   {
    "duration": 0,
    "start_time": "2023-05-03T07:28:08.327Z"
   },
   {
    "duration": 0,
    "start_time": "2023-05-03T07:28:08.328Z"
   },
   {
    "duration": 0,
    "start_time": "2023-05-03T07:28:08.330Z"
   },
   {
    "duration": 0,
    "start_time": "2023-05-03T07:28:08.330Z"
   },
   {
    "duration": 0,
    "start_time": "2023-05-03T07:28:08.332Z"
   },
   {
    "duration": 0,
    "start_time": "2023-05-03T07:28:08.333Z"
   },
   {
    "duration": 0,
    "start_time": "2023-05-03T07:28:08.334Z"
   },
   {
    "duration": 0,
    "start_time": "2023-05-03T07:28:08.335Z"
   },
   {
    "duration": 0,
    "start_time": "2023-05-03T07:28:08.336Z"
   },
   {
    "duration": 0,
    "start_time": "2023-05-03T07:28:08.337Z"
   },
   {
    "duration": 0,
    "start_time": "2023-05-03T07:28:08.338Z"
   },
   {
    "duration": 0,
    "start_time": "2023-05-03T07:28:08.339Z"
   },
   {
    "duration": 0,
    "start_time": "2023-05-03T07:28:08.340Z"
   },
   {
    "duration": 0,
    "start_time": "2023-05-03T07:28:08.341Z"
   },
   {
    "duration": 0,
    "start_time": "2023-05-03T07:28:08.342Z"
   },
   {
    "duration": 0,
    "start_time": "2023-05-03T07:28:08.343Z"
   },
   {
    "duration": 0,
    "start_time": "2023-05-03T07:28:08.344Z"
   },
   {
    "duration": 0,
    "start_time": "2023-05-03T07:28:08.345Z"
   },
   {
    "duration": 0,
    "start_time": "2023-05-03T07:28:08.346Z"
   },
   {
    "duration": 0,
    "start_time": "2023-05-03T07:28:08.347Z"
   },
   {
    "duration": 0,
    "start_time": "2023-05-03T07:28:08.348Z"
   },
   {
    "duration": 0,
    "start_time": "2023-05-03T07:28:08.392Z"
   },
   {
    "duration": 0,
    "start_time": "2023-05-03T07:28:08.393Z"
   },
   {
    "duration": 0,
    "start_time": "2023-05-03T07:28:08.395Z"
   },
   {
    "duration": 0,
    "start_time": "2023-05-03T07:28:08.396Z"
   },
   {
    "duration": 0,
    "start_time": "2023-05-03T07:28:08.397Z"
   },
   {
    "duration": 0,
    "start_time": "2023-05-03T07:28:08.398Z"
   },
   {
    "duration": 0,
    "start_time": "2023-05-03T07:28:08.399Z"
   },
   {
    "duration": 0,
    "start_time": "2023-05-03T07:28:08.400Z"
   },
   {
    "duration": 0,
    "start_time": "2023-05-03T07:28:08.401Z"
   },
   {
    "duration": 0,
    "start_time": "2023-05-03T07:28:08.402Z"
   },
   {
    "duration": 0,
    "start_time": "2023-05-03T07:28:08.403Z"
   },
   {
    "duration": 10,
    "start_time": "2023-05-03T07:28:25.034Z"
   },
   {
    "duration": 10,
    "start_time": "2023-05-03T07:28:38.018Z"
   },
   {
    "duration": 193,
    "start_time": "2023-05-03T07:28:38.029Z"
   },
   {
    "duration": 13,
    "start_time": "2023-05-03T07:28:38.224Z"
   },
   {
    "duration": 21,
    "start_time": "2023-05-03T07:28:38.239Z"
   },
   {
    "duration": 5,
    "start_time": "2023-05-03T07:28:38.262Z"
   },
   {
    "duration": 7,
    "start_time": "2023-05-03T07:28:38.291Z"
   },
   {
    "duration": 7,
    "start_time": "2023-05-03T07:28:38.300Z"
   },
   {
    "duration": 5,
    "start_time": "2023-05-03T07:28:38.309Z"
   },
   {
    "duration": 20,
    "start_time": "2023-05-03T07:28:38.315Z"
   },
   {
    "duration": 27,
    "start_time": "2023-05-03T07:28:38.338Z"
   },
   {
    "duration": 31,
    "start_time": "2023-05-03T07:28:38.366Z"
   },
   {
    "duration": 95,
    "start_time": "2023-05-03T07:28:38.399Z"
   },
   {
    "duration": 125,
    "start_time": "2023-05-03T07:28:38.496Z"
   },
   {
    "duration": 694,
    "start_time": "2023-05-03T07:28:38.623Z"
   },
   {
    "duration": 53,
    "start_time": "2023-05-03T07:28:39.319Z"
   },
   {
    "duration": 60,
    "start_time": "2023-05-03T07:28:39.374Z"
   },
   {
    "duration": 58,
    "start_time": "2023-05-03T07:28:39.435Z"
   },
   {
    "duration": 460,
    "start_time": "2023-05-03T07:28:39.496Z"
   },
   {
    "duration": 21614,
    "start_time": "2023-05-03T07:28:39.958Z"
   },
   {
    "duration": 45,
    "start_time": "2023-05-03T07:29:01.574Z"
   },
   {
    "duration": 12,
    "start_time": "2023-05-03T07:29:01.620Z"
   },
   {
    "duration": 34,
    "start_time": "2023-05-03T07:29:01.634Z"
   },
   {
    "duration": 75,
    "start_time": "2023-05-03T07:29:01.670Z"
   },
   {
    "duration": 588,
    "start_time": "2023-05-03T07:29:01.747Z"
   },
   {
    "duration": 30830,
    "start_time": "2023-05-03T07:29:02.337Z"
   },
   {
    "duration": 11,
    "start_time": "2023-05-03T07:29:33.168Z"
   },
   {
    "duration": 25,
    "start_time": "2023-05-03T07:29:33.180Z"
   },
   {
    "duration": 6,
    "start_time": "2023-05-03T07:29:33.209Z"
   },
   {
    "duration": 34,
    "start_time": "2023-05-03T07:29:33.216Z"
   },
   {
    "duration": 305,
    "start_time": "2023-05-03T07:29:33.252Z"
   },
   {
    "duration": 13807,
    "start_time": "2023-05-03T07:29:33.559Z"
   },
   {
    "duration": 45,
    "start_time": "2023-05-03T07:29:47.368Z"
   },
   {
    "duration": 49,
    "start_time": "2023-05-03T07:29:47.415Z"
   },
   {
    "duration": 33,
    "start_time": "2023-05-03T07:29:47.466Z"
   },
   {
    "duration": 47,
    "start_time": "2023-05-03T07:29:47.501Z"
   },
   {
    "duration": 72,
    "start_time": "2023-05-03T07:29:47.550Z"
   },
   {
    "duration": 44,
    "start_time": "2023-05-03T07:29:47.654Z"
   },
   {
    "duration": 7,
    "start_time": "2023-05-03T07:29:47.700Z"
   },
   {
    "duration": 5,
    "start_time": "2023-05-03T07:31:06.316Z"
   },
   {
    "duration": 7,
    "start_time": "2023-05-03T07:31:06.979Z"
   },
   {
    "duration": 23,
    "start_time": "2023-05-03T07:31:46.164Z"
   },
   {
    "duration": 5,
    "start_time": "2023-05-03T07:33:49.460Z"
   },
   {
    "duration": 12,
    "start_time": "2023-05-03T07:33:50.051Z"
   },
   {
    "duration": 9,
    "start_time": "2023-05-03T07:33:51.083Z"
   },
   {
    "duration": 22,
    "start_time": "2023-05-03T07:33:51.891Z"
   },
   {
    "duration": 5,
    "start_time": "2023-05-03T07:34:06.692Z"
   },
   {
    "duration": 9,
    "start_time": "2023-05-03T07:34:12.570Z"
   },
   {
    "duration": 23,
    "start_time": "2023-05-03T07:34:13.275Z"
   },
   {
    "duration": 88,
    "start_time": "2023-05-03T07:35:14.739Z"
   },
   {
    "duration": 8,
    "start_time": "2023-05-03T07:38:41.468Z"
   },
   {
    "duration": 598,
    "start_time": "2023-05-03T07:41:56.690Z"
   },
   {
    "duration": 53,
    "start_time": "2023-05-03T07:42:35.126Z"
   },
   {
    "duration": 51,
    "start_time": "2023-05-03T07:42:36.103Z"
   },
   {
    "duration": 24,
    "start_time": "2023-05-03T07:43:18.557Z"
   },
   {
    "duration": 84,
    "start_time": "2023-05-03T07:43:19.534Z"
   },
   {
    "duration": 690,
    "start_time": "2023-05-03T07:43:20.381Z"
   },
   {
    "duration": 25,
    "start_time": "2023-05-03T07:44:29.957Z"
   },
   {
    "duration": 39,
    "start_time": "2023-05-03T07:44:30.957Z"
   },
   {
    "duration": 758,
    "start_time": "2023-05-03T07:44:32.002Z"
   },
   {
    "duration": 55,
    "start_time": "2023-05-03T07:45:18.925Z"
   },
   {
    "duration": 59,
    "start_time": "2023-05-03T07:45:20.381Z"
   },
   {
    "duration": 76,
    "start_time": "2023-05-03T07:50:32.150Z"
   },
   {
    "duration": 118,
    "start_time": "2023-05-03T07:52:29.478Z"
   },
   {
    "duration": 84,
    "start_time": "2023-05-03T07:53:00.107Z"
   },
   {
    "duration": 3,
    "start_time": "2023-05-03T07:53:49.806Z"
   },
   {
    "duration": 34,
    "start_time": "2023-05-03T07:54:36.258Z"
   },
   {
    "duration": 397,
    "start_time": "2023-05-03T07:56:02.975Z"
   },
   {
    "duration": 384,
    "start_time": "2023-05-03T07:57:48.359Z"
   },
   {
    "duration": 87,
    "start_time": "2023-05-03T07:58:22.193Z"
   },
   {
    "duration": 25651,
    "start_time": "2023-05-03T07:58:45.503Z"
   },
   {
    "duration": 23691,
    "start_time": "2023-05-03T08:00:33.839Z"
   },
   {
    "duration": 42,
    "start_time": "2023-05-03T08:01:03.059Z"
   },
   {
    "duration": 31,
    "start_time": "2023-05-03T08:04:35.447Z"
   },
   {
    "duration": 412,
    "start_time": "2023-05-03T08:05:49.168Z"
   },
   {
    "duration": 23380,
    "start_time": "2023-05-03T08:06:51.744Z"
   },
   {
    "duration": 44,
    "start_time": "2023-05-03T08:08:17.045Z"
   },
   {
    "duration": 74,
    "start_time": "2023-05-03T08:14:22.396Z"
   },
   {
    "duration": 2,
    "start_time": "2023-05-03T08:15:21.657Z"
   },
   {
    "duration": 3,
    "start_time": "2023-05-03T08:26:02.505Z"
   },
   {
    "duration": 13,
    "start_time": "2023-05-03T09:42:43.091Z"
   },
   {
    "duration": 20,
    "start_time": "2023-05-03T09:49:59.515Z"
   },
   {
    "duration": 29,
    "start_time": "2023-05-03T09:50:37.919Z"
   },
   {
    "duration": 19,
    "start_time": "2023-05-03T09:51:23.228Z"
   },
   {
    "duration": 574,
    "start_time": "2023-05-03T09:55:41.293Z"
   },
   {
    "duration": 242,
    "start_time": "2023-05-03T09:56:03.749Z"
   },
   {
    "duration": 1282,
    "start_time": "2023-05-03T09:59:45.710Z"
   },
   {
    "duration": 186,
    "start_time": "2023-05-03T09:59:54.905Z"
   },
   {
    "duration": 179,
    "start_time": "2023-05-03T10:00:27.973Z"
   },
   {
    "duration": 191,
    "start_time": "2023-05-03T10:02:25.092Z"
   },
   {
    "duration": 23,
    "start_time": "2023-05-03T10:02:52.525Z"
   },
   {
    "duration": 205,
    "start_time": "2023-05-03T10:03:55.487Z"
   },
   {
    "duration": 1119,
    "start_time": "2023-05-03T10:04:32.794Z"
   },
   {
    "duration": 51,
    "start_time": "2023-05-03T10:04:33.915Z"
   },
   {
    "duration": 12,
    "start_time": "2023-05-03T10:04:33.968Z"
   },
   {
    "duration": 19,
    "start_time": "2023-05-03T10:04:33.981Z"
   },
   {
    "duration": 11,
    "start_time": "2023-05-03T10:04:34.003Z"
   },
   {
    "duration": 4,
    "start_time": "2023-05-03T10:04:34.015Z"
   },
   {
    "duration": 14,
    "start_time": "2023-05-03T10:04:34.020Z"
   },
   {
    "duration": 14,
    "start_time": "2023-05-03T10:04:34.035Z"
   },
   {
    "duration": 11,
    "start_time": "2023-05-03T10:04:34.050Z"
   },
   {
    "duration": 6,
    "start_time": "2023-05-03T10:04:34.063Z"
   },
   {
    "duration": 24,
    "start_time": "2023-05-03T10:04:34.071Z"
   },
   {
    "duration": 11,
    "start_time": "2023-05-03T10:04:34.097Z"
   },
   {
    "duration": 40,
    "start_time": "2023-05-03T10:04:34.109Z"
   },
   {
    "duration": 31,
    "start_time": "2023-05-03T10:04:34.152Z"
   },
   {
    "duration": 214,
    "start_time": "2023-05-03T10:04:34.185Z"
   },
   {
    "duration": 13,
    "start_time": "2023-05-03T10:04:34.401Z"
   },
   {
    "duration": 21,
    "start_time": "2023-05-03T10:04:34.416Z"
   },
   {
    "duration": 5,
    "start_time": "2023-05-03T10:04:34.439Z"
   },
   {
    "duration": 23,
    "start_time": "2023-05-03T10:04:34.446Z"
   },
   {
    "duration": 23,
    "start_time": "2023-05-03T10:04:34.472Z"
   },
   {
    "duration": 5,
    "start_time": "2023-05-03T10:04:34.498Z"
   },
   {
    "duration": 28,
    "start_time": "2023-05-03T10:04:34.504Z"
   },
   {
    "duration": 28,
    "start_time": "2023-05-03T10:04:34.533Z"
   },
   {
    "duration": 7,
    "start_time": "2023-05-03T10:04:34.563Z"
   },
   {
    "duration": 44,
    "start_time": "2023-05-03T10:04:34.572Z"
   },
   {
    "duration": 195,
    "start_time": "2023-05-03T10:04:34.618Z"
   },
   {
    "duration": 629,
    "start_time": "2023-05-03T10:04:34.814Z"
   },
   {
    "duration": 60,
    "start_time": "2023-05-03T10:04:35.445Z"
   },
   {
    "duration": 55,
    "start_time": "2023-05-03T10:04:35.506Z"
   },
   {
    "duration": 42,
    "start_time": "2023-05-03T10:04:35.562Z"
   },
   {
    "duration": 521,
    "start_time": "2023-05-03T10:04:35.606Z"
   },
   {
    "duration": 22816,
    "start_time": "2023-05-03T10:04:36.128Z"
   },
   {
    "duration": 67,
    "start_time": "2023-05-03T10:04:58.946Z"
   },
   {
    "duration": 13,
    "start_time": "2023-05-03T10:04:59.015Z"
   },
   {
    "duration": 7,
    "start_time": "2023-05-03T10:04:59.029Z"
   },
   {
    "duration": 56,
    "start_time": "2023-05-03T10:04:59.037Z"
   },
   {
    "duration": 725,
    "start_time": "2023-05-03T10:04:59.094Z"
   },
   {
    "duration": 31342,
    "start_time": "2023-05-03T10:04:59.820Z"
   },
   {
    "duration": 12,
    "start_time": "2023-05-03T10:05:31.164Z"
   },
   {
    "duration": 42,
    "start_time": "2023-05-03T10:05:31.178Z"
   },
   {
    "duration": 27,
    "start_time": "2023-05-03T10:05:31.226Z"
   },
   {
    "duration": 85,
    "start_time": "2023-05-03T10:05:31.255Z"
   },
   {
    "duration": 387,
    "start_time": "2023-05-03T10:05:31.343Z"
   },
   {
    "duration": 14684,
    "start_time": "2023-05-03T10:05:31.732Z"
   },
   {
    "duration": 48,
    "start_time": "2023-05-03T10:05:46.417Z"
   },
   {
    "duration": 74,
    "start_time": "2023-05-03T10:05:46.467Z"
   },
   {
    "duration": 12,
    "start_time": "2023-05-03T10:05:46.544Z"
   },
   {
    "duration": 62,
    "start_time": "2023-05-03T10:05:46.558Z"
   },
   {
    "duration": 48,
    "start_time": "2023-05-03T10:05:46.623Z"
   },
   {
    "duration": 22,
    "start_time": "2023-05-03T10:05:46.692Z"
   },
   {
    "duration": 6,
    "start_time": "2023-05-03T10:05:46.716Z"
   },
   {
    "duration": 16,
    "start_time": "2023-05-03T10:05:46.724Z"
   },
   {
    "duration": 7,
    "start_time": "2023-05-03T10:05:46.742Z"
   },
   {
    "duration": 5,
    "start_time": "2023-05-03T10:05:46.750Z"
   },
   {
    "duration": 43,
    "start_time": "2023-05-03T10:05:46.757Z"
   },
   {
    "duration": 37,
    "start_time": "2023-05-03T10:05:46.803Z"
   },
   {
    "duration": 10,
    "start_time": "2023-05-03T10:05:46.842Z"
   },
   {
    "duration": 140,
    "start_time": "2023-05-03T10:05:46.853Z"
   },
   {
    "duration": 132,
    "start_time": "2023-05-03T10:05:46.995Z"
   },
   {
    "duration": 743,
    "start_time": "2023-05-03T10:05:47.129Z"
   },
   {
    "duration": 69,
    "start_time": "2023-05-03T10:05:47.874Z"
   },
   {
    "duration": 73,
    "start_time": "2023-05-03T10:05:47.944Z"
   },
   {
    "duration": 80,
    "start_time": "2023-05-03T10:05:48.019Z"
   },
   {
    "duration": 596,
    "start_time": "2023-05-03T10:05:48.101Z"
   },
   {
    "duration": 23415,
    "start_time": "2023-05-03T10:05:48.699Z"
   },
   {
    "duration": 31,
    "start_time": "2023-05-03T10:06:12.115Z"
   },
   {
    "duration": 45,
    "start_time": "2023-05-03T10:06:12.147Z"
   },
   {
    "duration": 18,
    "start_time": "2023-05-03T10:06:12.194Z"
   },
   {
    "duration": 391,
    "start_time": "2023-05-03T10:06:12.214Z"
   },
   {
    "duration": 128,
    "start_time": "2023-05-03T15:10:03.933Z"
   }
  ],
  "kernelspec": {
   "display_name": "Python 3",
   "language": "python",
   "name": "python3"
  },
  "language_info": {
   "codemirror_mode": {
    "name": "ipython",
    "version": 3
   },
   "file_extension": ".py",
   "mimetype": "text/x-python",
   "name": "python",
   "nbconvert_exporter": "python",
   "pygments_lexer": "ipython3",
   "version": "3.8.5"
  },
  "toc": {
   "base_numbering": 1,
   "nav_menu": {},
   "number_sections": true,
   "sideBar": true,
   "skip_h1_title": true,
   "title_cell": "Содержание",
   "title_sidebar": "Contents",
   "toc_cell": true,
   "toc_position": {
    "height": "calc(100% - 180px)",
    "left": "10px",
    "top": "150px",
    "width": "165px"
   },
   "toc_section_display": true,
   "toc_window_display": false
  }
 },
 "nbformat": 4,
 "nbformat_minor": 2
}
