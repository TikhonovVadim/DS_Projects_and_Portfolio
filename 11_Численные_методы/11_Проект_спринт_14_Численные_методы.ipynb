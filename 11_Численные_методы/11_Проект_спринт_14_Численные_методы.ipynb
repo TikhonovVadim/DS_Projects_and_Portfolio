{
 "cells": [
  {
   "cell_type": "markdown",
   "metadata": {},
   "source": [
    "# Проект - Определение стоимости автомобилей"
   ]
  },
  {
   "cell_type": "markdown",
   "metadata": {},
   "source": [
    "Сервис по продаже автомобилей с пробегом «Не бит, не крашен» разрабатывает приложение для привлечения новых клиентов. В нём можно быстро узнать рыночную стоимость своего автомобиля. В вашем распоряжении исторические данные: технические характеристики, комплектации и цены автомобилей. Вам нужно построить модель для определения стоимости. \n",
    "\n",
    "Заказчику важны:\n",
    "- качество предсказания;\n",
    "- скорость предсказания;\n",
    "- время обучения."
   ]
  },
  {
   "cell_type": "markdown",
   "metadata": {},
   "source": [
    "**Инструкция по выполнению проекта**\n",
    "\n",
    "- Для оценки качества моделей применяйте метрику RMSE.\n",
    "- Значение метрики RMSE должно быть меньше 2500.\n",
    "- Самостоятельно освойте библиотеку LightGBM и её средствами постройте модели градиентного бустинга.\n",
    "- Модель градиентного бустинга может долго обучаться, поэтому измените у неё только два-три параметра.\n",
    "\n",
    "- Чтобы усилить исследование, не ограничивайтесь градиентным бустингом. Попробуйте более простые модели — иногда они работают лучше. Эти редкие случаи легко пропустить, если всегда применять только бустинг. \n",
    "- Поэкспериментируйте и сравните характеристики моделей: время обучения, время предсказания, точность результата."
   ]
  },
  {
   "cell_type": "markdown",
   "metadata": {},
   "source": [
    "**Основные шаги:**\n",
    "1.  Загрузите данные, путь к файлу: /datasets/autos.csv. Изучите данные. Заполните пропущенные значения и обработайте аномалии в столбцах. Если среди признаков имеются неинформативные, удалите их.\n",
    "2.\tПодготовьте выборки для обучения моделей.\n",
    "3.\tОбучите разные модели, одна из которых — LightGBM, как минимум одна — не бустинг. Для каждой модели попробуйте разные гиперпараметры.\n",
    "4.\tПроанализируйте время обучения, время предсказания и качество моделей.\n",
    "5.\tОпираясь на критерии заказчика, выберете лучшую модель, проверьте её качество на тестовой выборке.\n"
   ]
  },
  {
   "cell_type": "markdown",
   "metadata": {},
   "source": [
    "**Признаки**\n",
    "- DateCrawled — дата скачивания анкеты из базы\n",
    "- VehicleType — тип автомобильного кузова\n",
    "- RegistrationYear — год регистрации автомобиля\n",
    "- Gearbox — тип коробки передач\n",
    "- Power — мощность (л. с.)\n",
    "- Model — модель автомобиля\n",
    "- Kilometer — пробег (км)\n",
    "- RegistrationMonth — месяц регистрации автомобиля\n",
    "- FuelType — тип топлива\n",
    "- Brand — марка автомобиля\n",
    "- Repaired — была машина в ремонте или нет\n",
    "- DateCreated — дата создания анкеты\n",
    "- NumberOfPictures — количество фотографий автомобиля\n",
    "- PostalCode — почтовый индекс владельца анкеты (пользователя)\n",
    "- LastSeen — дата последней активности пользователя\n",
    "\n",
    "Целевой признак - Price — цена (евро)\n"
   ]
  },
  {
   "cell_type": "markdown",
   "metadata": {},
   "source": [
    "## Подготовка данных"
   ]
  },
  {
   "cell_type": "code",
   "execution_count": 1,
   "metadata": {},
   "outputs": [],
   "source": [
    "import pandas as pd\n",
    "import numpy as np\n",
    "import matplotlib.pyplot as plt\n",
    "import seaborn as sns\n",
    "import time\n",
    "import lightgbm as lgb\n",
    "\n",
    "from sklearn.model_selection import train_test_split\n",
    "from sklearn.preprocessing import StandardScaler \n",
    "from catboost import CatBoostRegressor\n",
    "from xgboost import XGBRegressor\n",
    "from sklearn.linear_model import LinearRegression\n",
    "from sklearn.metrics import mean_squared_error\n",
    "\n",
    "from IPython.core.display import display, HTML\n",
    "display(HTML(\"<style>.container { width:95% !important; }</style>\"))\n",
    "pd.set_option('max_columns', None) # показывать все столбцы df\n",
    "pd.set_option('max_rows', None) # показывать все строки df\n",
    "pd.options.display.float_format = '{:,.2f}'.format  # округление чисел до 2 знаков после точки"
   ]
  },
  {
   "cell_type": "code",
   "execution_count": 2,
   "metadata": {},
   "outputs": [
    {
     "data": {
      "text/html": [
       "<div>\n",
       "<style scoped>\n",
       "    .dataframe tbody tr th:only-of-type {\n",
       "        vertical-align: middle;\n",
       "    }\n",
       "\n",
       "    .dataframe tbody tr th {\n",
       "        vertical-align: top;\n",
       "    }\n",
       "\n",
       "    .dataframe thead th {\n",
       "        text-align: right;\n",
       "    }\n",
       "</style>\n",
       "<table border=\"1\" class=\"dataframe\">\n",
       "  <thead>\n",
       "    <tr style=\"text-align: right;\">\n",
       "      <th></th>\n",
       "      <th>DateCrawled</th>\n",
       "      <th>Price</th>\n",
       "      <th>VehicleType</th>\n",
       "      <th>RegistrationYear</th>\n",
       "      <th>Gearbox</th>\n",
       "      <th>Power</th>\n",
       "      <th>Model</th>\n",
       "      <th>Kilometer</th>\n",
       "      <th>RegistrationMonth</th>\n",
       "      <th>FuelType</th>\n",
       "      <th>Brand</th>\n",
       "      <th>Repaired</th>\n",
       "      <th>DateCreated</th>\n",
       "      <th>NumberOfPictures</th>\n",
       "      <th>PostalCode</th>\n",
       "      <th>LastSeen</th>\n",
       "    </tr>\n",
       "  </thead>\n",
       "  <tbody>\n",
       "    <tr>\n",
       "      <th>0</th>\n",
       "      <td>2016-03-24 11:52:17</td>\n",
       "      <td>480</td>\n",
       "      <td>NaN</td>\n",
       "      <td>1993</td>\n",
       "      <td>manual</td>\n",
       "      <td>0</td>\n",
       "      <td>golf</td>\n",
       "      <td>150000</td>\n",
       "      <td>0</td>\n",
       "      <td>petrol</td>\n",
       "      <td>volkswagen</td>\n",
       "      <td>NaN</td>\n",
       "      <td>2016-03-24 00:00:00</td>\n",
       "      <td>0</td>\n",
       "      <td>70435</td>\n",
       "      <td>2016-04-07 03:16:57</td>\n",
       "    </tr>\n",
       "    <tr>\n",
       "      <th>1</th>\n",
       "      <td>2016-03-24 10:58:45</td>\n",
       "      <td>18300</td>\n",
       "      <td>coupe</td>\n",
       "      <td>2011</td>\n",
       "      <td>manual</td>\n",
       "      <td>190</td>\n",
       "      <td>NaN</td>\n",
       "      <td>125000</td>\n",
       "      <td>5</td>\n",
       "      <td>gasoline</td>\n",
       "      <td>audi</td>\n",
       "      <td>yes</td>\n",
       "      <td>2016-03-24 00:00:00</td>\n",
       "      <td>0</td>\n",
       "      <td>66954</td>\n",
       "      <td>2016-04-07 01:46:50</td>\n",
       "    </tr>\n",
       "    <tr>\n",
       "      <th>2</th>\n",
       "      <td>2016-03-14 12:52:21</td>\n",
       "      <td>9800</td>\n",
       "      <td>suv</td>\n",
       "      <td>2004</td>\n",
       "      <td>auto</td>\n",
       "      <td>163</td>\n",
       "      <td>grand</td>\n",
       "      <td>125000</td>\n",
       "      <td>8</td>\n",
       "      <td>gasoline</td>\n",
       "      <td>jeep</td>\n",
       "      <td>NaN</td>\n",
       "      <td>2016-03-14 00:00:00</td>\n",
       "      <td>0</td>\n",
       "      <td>90480</td>\n",
       "      <td>2016-04-05 12:47:46</td>\n",
       "    </tr>\n",
       "    <tr>\n",
       "      <th>3</th>\n",
       "      <td>2016-03-17 16:54:04</td>\n",
       "      <td>1500</td>\n",
       "      <td>small</td>\n",
       "      <td>2001</td>\n",
       "      <td>manual</td>\n",
       "      <td>75</td>\n",
       "      <td>golf</td>\n",
       "      <td>150000</td>\n",
       "      <td>6</td>\n",
       "      <td>petrol</td>\n",
       "      <td>volkswagen</td>\n",
       "      <td>no</td>\n",
       "      <td>2016-03-17 00:00:00</td>\n",
       "      <td>0</td>\n",
       "      <td>91074</td>\n",
       "      <td>2016-03-17 17:40:17</td>\n",
       "    </tr>\n",
       "    <tr>\n",
       "      <th>4</th>\n",
       "      <td>2016-03-31 17:25:20</td>\n",
       "      <td>3600</td>\n",
       "      <td>small</td>\n",
       "      <td>2008</td>\n",
       "      <td>manual</td>\n",
       "      <td>69</td>\n",
       "      <td>fabia</td>\n",
       "      <td>90000</td>\n",
       "      <td>7</td>\n",
       "      <td>gasoline</td>\n",
       "      <td>skoda</td>\n",
       "      <td>no</td>\n",
       "      <td>2016-03-31 00:00:00</td>\n",
       "      <td>0</td>\n",
       "      <td>60437</td>\n",
       "      <td>2016-04-06 10:17:21</td>\n",
       "    </tr>\n",
       "  </tbody>\n",
       "</table>\n",
       "</div>"
      ],
      "text/plain": [
       "           DateCrawled  Price VehicleType  RegistrationYear Gearbox  Power  \\\n",
       "0  2016-03-24 11:52:17    480         NaN              1993  manual      0   \n",
       "1  2016-03-24 10:58:45  18300       coupe              2011  manual    190   \n",
       "2  2016-03-14 12:52:21   9800         suv              2004    auto    163   \n",
       "3  2016-03-17 16:54:04   1500       small              2001  manual     75   \n",
       "4  2016-03-31 17:25:20   3600       small              2008  manual     69   \n",
       "\n",
       "   Model  Kilometer  RegistrationMonth  FuelType       Brand Repaired  \\\n",
       "0   golf     150000                  0    petrol  volkswagen      NaN   \n",
       "1    NaN     125000                  5  gasoline        audi      yes   \n",
       "2  grand     125000                  8  gasoline        jeep      NaN   \n",
       "3   golf     150000                  6    petrol  volkswagen       no   \n",
       "4  fabia      90000                  7  gasoline       skoda       no   \n",
       "\n",
       "           DateCreated  NumberOfPictures  PostalCode             LastSeen  \n",
       "0  2016-03-24 00:00:00                 0       70435  2016-04-07 03:16:57  \n",
       "1  2016-03-24 00:00:00                 0       66954  2016-04-07 01:46:50  \n",
       "2  2016-03-14 00:00:00                 0       90480  2016-04-05 12:47:46  \n",
       "3  2016-03-17 00:00:00                 0       91074  2016-03-17 17:40:17  \n",
       "4  2016-03-31 00:00:00                 0       60437  2016-04-06 10:17:21  "
      ]
     },
     "execution_count": 2,
     "metadata": {},
     "output_type": "execute_result"
    }
   ],
   "source": [
    "try:\n",
    "    data = pd.read_csv('/datasets/autos.csv')\n",
    "except:\n",
    "    data = pd.read_csv('autos.csv')\n",
    "\n",
    "data.head()"
   ]
  },
  {
   "cell_type": "code",
   "execution_count": 3,
   "metadata": {},
   "outputs": [
    {
     "data": {
      "text/html": [
       "<div>\n",
       "<style scoped>\n",
       "    .dataframe tbody tr th:only-of-type {\n",
       "        vertical-align: middle;\n",
       "    }\n",
       "\n",
       "    .dataframe tbody tr th {\n",
       "        vertical-align: top;\n",
       "    }\n",
       "\n",
       "    .dataframe thead th {\n",
       "        text-align: right;\n",
       "    }\n",
       "</style>\n",
       "<table border=\"1\" class=\"dataframe\">\n",
       "  <thead>\n",
       "    <tr style=\"text-align: right;\">\n",
       "      <th></th>\n",
       "      <th>DateCrawled</th>\n",
       "      <th>Price</th>\n",
       "      <th>VehicleType</th>\n",
       "      <th>RegistrationYear</th>\n",
       "      <th>Gearbox</th>\n",
       "      <th>Power</th>\n",
       "      <th>Model</th>\n",
       "      <th>Kilometer</th>\n",
       "      <th>RegistrationMonth</th>\n",
       "      <th>FuelType</th>\n",
       "      <th>Brand</th>\n",
       "      <th>Repaired</th>\n",
       "      <th>DateCreated</th>\n",
       "      <th>NumberOfPictures</th>\n",
       "      <th>PostalCode</th>\n",
       "      <th>LastSeen</th>\n",
       "    </tr>\n",
       "  </thead>\n",
       "  <tbody>\n",
       "    <tr>\n",
       "      <th>354364</th>\n",
       "      <td>2016-03-21 09:50:58</td>\n",
       "      <td>0</td>\n",
       "      <td>NaN</td>\n",
       "      <td>2005</td>\n",
       "      <td>manual</td>\n",
       "      <td>0</td>\n",
       "      <td>colt</td>\n",
       "      <td>150000</td>\n",
       "      <td>7</td>\n",
       "      <td>petrol</td>\n",
       "      <td>mitsubishi</td>\n",
       "      <td>yes</td>\n",
       "      <td>2016-03-21 00:00:00</td>\n",
       "      <td>0</td>\n",
       "      <td>2694</td>\n",
       "      <td>2016-03-21 10:42:49</td>\n",
       "    </tr>\n",
       "    <tr>\n",
       "      <th>354365</th>\n",
       "      <td>2016-03-14 17:48:27</td>\n",
       "      <td>2200</td>\n",
       "      <td>NaN</td>\n",
       "      <td>2005</td>\n",
       "      <td>NaN</td>\n",
       "      <td>0</td>\n",
       "      <td>NaN</td>\n",
       "      <td>20000</td>\n",
       "      <td>1</td>\n",
       "      <td>NaN</td>\n",
       "      <td>sonstige_autos</td>\n",
       "      <td>NaN</td>\n",
       "      <td>2016-03-14 00:00:00</td>\n",
       "      <td>0</td>\n",
       "      <td>39576</td>\n",
       "      <td>2016-04-06 00:46:52</td>\n",
       "    </tr>\n",
       "    <tr>\n",
       "      <th>354366</th>\n",
       "      <td>2016-03-05 19:56:21</td>\n",
       "      <td>1199</td>\n",
       "      <td>convertible</td>\n",
       "      <td>2000</td>\n",
       "      <td>auto</td>\n",
       "      <td>101</td>\n",
       "      <td>fortwo</td>\n",
       "      <td>125000</td>\n",
       "      <td>3</td>\n",
       "      <td>petrol</td>\n",
       "      <td>smart</td>\n",
       "      <td>no</td>\n",
       "      <td>2016-03-05 00:00:00</td>\n",
       "      <td>0</td>\n",
       "      <td>26135</td>\n",
       "      <td>2016-03-11 18:17:12</td>\n",
       "    </tr>\n",
       "    <tr>\n",
       "      <th>354367</th>\n",
       "      <td>2016-03-19 18:57:12</td>\n",
       "      <td>9200</td>\n",
       "      <td>bus</td>\n",
       "      <td>1996</td>\n",
       "      <td>manual</td>\n",
       "      <td>102</td>\n",
       "      <td>transporter</td>\n",
       "      <td>150000</td>\n",
       "      <td>3</td>\n",
       "      <td>gasoline</td>\n",
       "      <td>volkswagen</td>\n",
       "      <td>no</td>\n",
       "      <td>2016-03-19 00:00:00</td>\n",
       "      <td>0</td>\n",
       "      <td>87439</td>\n",
       "      <td>2016-04-07 07:15:26</td>\n",
       "    </tr>\n",
       "    <tr>\n",
       "      <th>354368</th>\n",
       "      <td>2016-03-20 19:41:08</td>\n",
       "      <td>3400</td>\n",
       "      <td>wagon</td>\n",
       "      <td>2002</td>\n",
       "      <td>manual</td>\n",
       "      <td>100</td>\n",
       "      <td>golf</td>\n",
       "      <td>150000</td>\n",
       "      <td>6</td>\n",
       "      <td>gasoline</td>\n",
       "      <td>volkswagen</td>\n",
       "      <td>NaN</td>\n",
       "      <td>2016-03-20 00:00:00</td>\n",
       "      <td>0</td>\n",
       "      <td>40764</td>\n",
       "      <td>2016-03-24 12:45:21</td>\n",
       "    </tr>\n",
       "  </tbody>\n",
       "</table>\n",
       "</div>"
      ],
      "text/plain": [
       "                DateCrawled  Price  VehicleType  RegistrationYear Gearbox  \\\n",
       "354364  2016-03-21 09:50:58      0          NaN              2005  manual   \n",
       "354365  2016-03-14 17:48:27   2200          NaN              2005     NaN   \n",
       "354366  2016-03-05 19:56:21   1199  convertible              2000    auto   \n",
       "354367  2016-03-19 18:57:12   9200          bus              1996  manual   \n",
       "354368  2016-03-20 19:41:08   3400        wagon              2002  manual   \n",
       "\n",
       "        Power        Model  Kilometer  RegistrationMonth  FuelType  \\\n",
       "354364      0         colt     150000                  7    petrol   \n",
       "354365      0          NaN      20000                  1       NaN   \n",
       "354366    101       fortwo     125000                  3    petrol   \n",
       "354367    102  transporter     150000                  3  gasoline   \n",
       "354368    100         golf     150000                  6  gasoline   \n",
       "\n",
       "                 Brand Repaired          DateCreated  NumberOfPictures  \\\n",
       "354364      mitsubishi      yes  2016-03-21 00:00:00                 0   \n",
       "354365  sonstige_autos      NaN  2016-03-14 00:00:00                 0   \n",
       "354366           smart       no  2016-03-05 00:00:00                 0   \n",
       "354367      volkswagen       no  2016-03-19 00:00:00                 0   \n",
       "354368      volkswagen      NaN  2016-03-20 00:00:00                 0   \n",
       "\n",
       "        PostalCode             LastSeen  \n",
       "354364        2694  2016-03-21 10:42:49  \n",
       "354365       39576  2016-04-06 00:46:52  \n",
       "354366       26135  2016-03-11 18:17:12  \n",
       "354367       87439  2016-04-07 07:15:26  \n",
       "354368       40764  2016-03-24 12:45:21  "
      ]
     },
     "execution_count": 3,
     "metadata": {},
     "output_type": "execute_result"
    }
   ],
   "source": [
    "data.tail()"
   ]
  },
  {
   "cell_type": "code",
   "execution_count": 4,
   "metadata": {},
   "outputs": [
    {
     "name": "stdout",
     "output_type": "stream",
     "text": [
      "<class 'pandas.core.frame.DataFrame'>\n",
      "RangeIndex: 354369 entries, 0 to 354368\n",
      "Data columns (total 16 columns):\n",
      " #   Column             Non-Null Count   Dtype \n",
      "---  ------             --------------   ----- \n",
      " 0   DateCrawled        354369 non-null  object\n",
      " 1   Price              354369 non-null  int64 \n",
      " 2   VehicleType        316879 non-null  object\n",
      " 3   RegistrationYear   354369 non-null  int64 \n",
      " 4   Gearbox            334536 non-null  object\n",
      " 5   Power              354369 non-null  int64 \n",
      " 6   Model              334664 non-null  object\n",
      " 7   Kilometer          354369 non-null  int64 \n",
      " 8   RegistrationMonth  354369 non-null  int64 \n",
      " 9   FuelType           321474 non-null  object\n",
      " 10  Brand              354369 non-null  object\n",
      " 11  Repaired           283215 non-null  object\n",
      " 12  DateCreated        354369 non-null  object\n",
      " 13  NumberOfPictures   354369 non-null  int64 \n",
      " 14  PostalCode         354369 non-null  int64 \n",
      " 15  LastSeen           354369 non-null  object\n",
      "dtypes: int64(7), object(9)\n",
      "memory usage: 43.3+ MB\n"
     ]
    }
   ],
   "source": [
    "# общая информация по df\n",
    "data.info()"
   ]
  },
  {
   "cell_type": "code",
   "execution_count": 5,
   "metadata": {},
   "outputs": [
    {
     "data": {
      "text/plain": [
       "(354369, 16)"
      ]
     },
     "execution_count": 5,
     "metadata": {},
     "output_type": "execute_result"
    }
   ],
   "source": [
    "# сохранил в переменнной изначальный размер df\n",
    "shape_data = data.shape\n",
    "shape_data "
   ]
  },
  {
   "cell_type": "code",
   "execution_count": 6,
   "metadata": {},
   "outputs": [
    {
     "data": {
      "text/plain": [
       "DateCrawled          0.00\n",
       "Price                0.00\n",
       "VehicleType         10.58\n",
       "RegistrationYear     0.00\n",
       "Gearbox              5.60\n",
       "Power                0.00\n",
       "Model                5.56\n",
       "Kilometer            0.00\n",
       "RegistrationMonth    0.00\n",
       "FuelType             9.28\n",
       "Brand                0.00\n",
       "Repaired            20.08\n",
       "DateCreated          0.00\n",
       "NumberOfPictures     0.00\n",
       "PostalCode           0.00\n",
       "LastSeen             0.00\n",
       "dtype: float64"
      ]
     },
     "execution_count": 6,
     "metadata": {},
     "output_type": "execute_result"
    }
   ],
   "source": [
    "# выведем долю пропусков в признаках\n",
    "data.isna().mean() * 100"
   ]
  },
  {
   "cell_type": "code",
   "execution_count": 7,
   "metadata": {},
   "outputs": [
    {
     "data": {
      "text/plain": [
       "4"
      ]
     },
     "execution_count": 7,
     "metadata": {},
     "output_type": "execute_result"
    }
   ],
   "source": [
    "# выведем количество явных дубликатов\n",
    "data.duplicated().sum()"
   ]
  },
  {
   "cell_type": "code",
   "execution_count": 9,
   "metadata": {},
   "outputs": [
    {
     "data": {
      "text/html": [
       "<div>\n",
       "<style scoped>\n",
       "    .dataframe tbody tr th:only-of-type {\n",
       "        vertical-align: middle;\n",
       "    }\n",
       "\n",
       "    .dataframe tbody tr th {\n",
       "        vertical-align: top;\n",
       "    }\n",
       "\n",
       "    .dataframe thead th {\n",
       "        text-align: right;\n",
       "    }\n",
       "</style>\n",
       "<table border=\"1\" class=\"dataframe\">\n",
       "  <thead>\n",
       "    <tr style=\"text-align: right;\">\n",
       "      <th></th>\n",
       "      <th>DateCrawled</th>\n",
       "      <th>Price</th>\n",
       "      <th>VehicleType</th>\n",
       "      <th>RegistrationYear</th>\n",
       "      <th>Gearbox</th>\n",
       "      <th>Power</th>\n",
       "      <th>Model</th>\n",
       "      <th>Kilometer</th>\n",
       "      <th>RegistrationMonth</th>\n",
       "      <th>FuelType</th>\n",
       "      <th>Brand</th>\n",
       "      <th>Repaired</th>\n",
       "      <th>DateCreated</th>\n",
       "      <th>NumberOfPictures</th>\n",
       "      <th>PostalCode</th>\n",
       "      <th>LastSeen</th>\n",
       "    </tr>\n",
       "  </thead>\n",
       "  <tbody>\n",
       "    <tr>\n",
       "      <th>88087</th>\n",
       "      <td>2016-03-08 18:42:48</td>\n",
       "      <td>1799</td>\n",
       "      <td>coupe</td>\n",
       "      <td>1999</td>\n",
       "      <td>auto</td>\n",
       "      <td>193</td>\n",
       "      <td>clk</td>\n",
       "      <td>20000</td>\n",
       "      <td>7</td>\n",
       "      <td>petrol</td>\n",
       "      <td>mercedes_benz</td>\n",
       "      <td>no</td>\n",
       "      <td>2016-03-08 00:00:00</td>\n",
       "      <td>0</td>\n",
       "      <td>89518</td>\n",
       "      <td>2016-03-09 09:46:57</td>\n",
       "    </tr>\n",
       "    <tr>\n",
       "      <th>171088</th>\n",
       "      <td>2016-03-08 18:42:48</td>\n",
       "      <td>1799</td>\n",
       "      <td>coupe</td>\n",
       "      <td>1999</td>\n",
       "      <td>auto</td>\n",
       "      <td>193</td>\n",
       "      <td>clk</td>\n",
       "      <td>20000</td>\n",
       "      <td>7</td>\n",
       "      <td>petrol</td>\n",
       "      <td>mercedes_benz</td>\n",
       "      <td>no</td>\n",
       "      <td>2016-03-08 00:00:00</td>\n",
       "      <td>0</td>\n",
       "      <td>89518</td>\n",
       "      <td>2016-03-09 09:46:57</td>\n",
       "    </tr>\n",
       "    <tr>\n",
       "      <th>41529</th>\n",
       "      <td>2016-03-18 18:46:15</td>\n",
       "      <td>1999</td>\n",
       "      <td>wagon</td>\n",
       "      <td>2001</td>\n",
       "      <td>manual</td>\n",
       "      <td>131</td>\n",
       "      <td>passat</td>\n",
       "      <td>150000</td>\n",
       "      <td>7</td>\n",
       "      <td>gasoline</td>\n",
       "      <td>volkswagen</td>\n",
       "      <td>no</td>\n",
       "      <td>2016-03-18 00:00:00</td>\n",
       "      <td>0</td>\n",
       "      <td>36391</td>\n",
       "      <td>2016-03-18 18:46:15</td>\n",
       "    </tr>\n",
       "    <tr>\n",
       "      <th>325651</th>\n",
       "      <td>2016-03-18 18:46:15</td>\n",
       "      <td>1999</td>\n",
       "      <td>wagon</td>\n",
       "      <td>2001</td>\n",
       "      <td>manual</td>\n",
       "      <td>131</td>\n",
       "      <td>passat</td>\n",
       "      <td>150000</td>\n",
       "      <td>7</td>\n",
       "      <td>gasoline</td>\n",
       "      <td>volkswagen</td>\n",
       "      <td>no</td>\n",
       "      <td>2016-03-18 00:00:00</td>\n",
       "      <td>0</td>\n",
       "      <td>36391</td>\n",
       "      <td>2016-03-18 18:46:15</td>\n",
       "    </tr>\n",
       "    <tr>\n",
       "      <th>90964</th>\n",
       "      <td>2016-03-28 00:56:10</td>\n",
       "      <td>1000</td>\n",
       "      <td>small</td>\n",
       "      <td>2002</td>\n",
       "      <td>manual</td>\n",
       "      <td>83</td>\n",
       "      <td>other</td>\n",
       "      <td>150000</td>\n",
       "      <td>1</td>\n",
       "      <td>petrol</td>\n",
       "      <td>suzuki</td>\n",
       "      <td>no</td>\n",
       "      <td>2016-03-28 00:00:00</td>\n",
       "      <td>0</td>\n",
       "      <td>66589</td>\n",
       "      <td>2016-03-28 08:46:21</td>\n",
       "    </tr>\n",
       "    <tr>\n",
       "      <th>231258</th>\n",
       "      <td>2016-03-28 00:56:10</td>\n",
       "      <td>1000</td>\n",
       "      <td>small</td>\n",
       "      <td>2002</td>\n",
       "      <td>manual</td>\n",
       "      <td>83</td>\n",
       "      <td>other</td>\n",
       "      <td>150000</td>\n",
       "      <td>1</td>\n",
       "      <td>petrol</td>\n",
       "      <td>suzuki</td>\n",
       "      <td>no</td>\n",
       "      <td>2016-03-28 00:00:00</td>\n",
       "      <td>0</td>\n",
       "      <td>66589</td>\n",
       "      <td>2016-03-28 08:46:21</td>\n",
       "    </tr>\n",
       "    <tr>\n",
       "      <th>187735</th>\n",
       "      <td>2016-04-03 09:01:15</td>\n",
       "      <td>4699</td>\n",
       "      <td>coupe</td>\n",
       "      <td>2003</td>\n",
       "      <td>auto</td>\n",
       "      <td>218</td>\n",
       "      <td>clk</td>\n",
       "      <td>125000</td>\n",
       "      <td>6</td>\n",
       "      <td>petrol</td>\n",
       "      <td>mercedes_benz</td>\n",
       "      <td>yes</td>\n",
       "      <td>2016-04-03 00:00:00</td>\n",
       "      <td>0</td>\n",
       "      <td>75196</td>\n",
       "      <td>2016-04-07 09:44:54</td>\n",
       "    </tr>\n",
       "    <tr>\n",
       "      <th>258109</th>\n",
       "      <td>2016-04-03 09:01:15</td>\n",
       "      <td>4699</td>\n",
       "      <td>coupe</td>\n",
       "      <td>2003</td>\n",
       "      <td>auto</td>\n",
       "      <td>218</td>\n",
       "      <td>clk</td>\n",
       "      <td>125000</td>\n",
       "      <td>6</td>\n",
       "      <td>petrol</td>\n",
       "      <td>mercedes_benz</td>\n",
       "      <td>yes</td>\n",
       "      <td>2016-04-03 00:00:00</td>\n",
       "      <td>0</td>\n",
       "      <td>75196</td>\n",
       "      <td>2016-04-07 09:44:54</td>\n",
       "    </tr>\n",
       "  </tbody>\n",
       "</table>\n",
       "</div>"
      ],
      "text/plain": [
       "                DateCrawled  Price VehicleType  RegistrationYear Gearbox  \\\n",
       "88087   2016-03-08 18:42:48   1799       coupe              1999    auto   \n",
       "171088  2016-03-08 18:42:48   1799       coupe              1999    auto   \n",
       "41529   2016-03-18 18:46:15   1999       wagon              2001  manual   \n",
       "325651  2016-03-18 18:46:15   1999       wagon              2001  manual   \n",
       "90964   2016-03-28 00:56:10   1000       small              2002  manual   \n",
       "231258  2016-03-28 00:56:10   1000       small              2002  manual   \n",
       "187735  2016-04-03 09:01:15   4699       coupe              2003    auto   \n",
       "258109  2016-04-03 09:01:15   4699       coupe              2003    auto   \n",
       "\n",
       "        Power   Model  Kilometer  RegistrationMonth  FuelType          Brand  \\\n",
       "88087     193     clk      20000                  7    petrol  mercedes_benz   \n",
       "171088    193     clk      20000                  7    petrol  mercedes_benz   \n",
       "41529     131  passat     150000                  7  gasoline     volkswagen   \n",
       "325651    131  passat     150000                  7  gasoline     volkswagen   \n",
       "90964      83   other     150000                  1    petrol         suzuki   \n",
       "231258     83   other     150000                  1    petrol         suzuki   \n",
       "187735    218     clk     125000                  6    petrol  mercedes_benz   \n",
       "258109    218     clk     125000                  6    petrol  mercedes_benz   \n",
       "\n",
       "       Repaired          DateCreated  NumberOfPictures  PostalCode  \\\n",
       "88087        no  2016-03-08 00:00:00                 0       89518   \n",
       "171088       no  2016-03-08 00:00:00                 0       89518   \n",
       "41529        no  2016-03-18 00:00:00                 0       36391   \n",
       "325651       no  2016-03-18 00:00:00                 0       36391   \n",
       "90964        no  2016-03-28 00:00:00                 0       66589   \n",
       "231258       no  2016-03-28 00:00:00                 0       66589   \n",
       "187735      yes  2016-04-03 00:00:00                 0       75196   \n",
       "258109      yes  2016-04-03 00:00:00                 0       75196   \n",
       "\n",
       "                   LastSeen  \n",
       "88087   2016-03-09 09:46:57  \n",
       "171088  2016-03-09 09:46:57  \n",
       "41529   2016-03-18 18:46:15  \n",
       "325651  2016-03-18 18:46:15  \n",
       "90964   2016-03-28 08:46:21  \n",
       "231258  2016-03-28 08:46:21  \n",
       "187735  2016-04-07 09:44:54  \n",
       "258109  2016-04-07 09:44:54  "
      ]
     },
     "execution_count": 9,
     "metadata": {},
     "output_type": "execute_result"
    }
   ],
   "source": [
    "data[data.duplicated(keep=False)].sort_values(by='RegistrationYear')"
   ]
  },
  {
   "cell_type": "code",
   "execution_count": 10,
   "metadata": {},
   "outputs": [],
   "source": [
    "data = data.drop_duplicates().reset_index(drop=True)"
   ]
  },
  {
   "cell_type": "code",
   "execution_count": 11,
   "metadata": {},
   "outputs": [
    {
     "data": {
      "text/html": [
       "<div>\n",
       "<style scoped>\n",
       "    .dataframe tbody tr th:only-of-type {\n",
       "        vertical-align: middle;\n",
       "    }\n",
       "\n",
       "    .dataframe tbody tr th {\n",
       "        vertical-align: top;\n",
       "    }\n",
       "\n",
       "    .dataframe thead th {\n",
       "        text-align: right;\n",
       "    }\n",
       "</style>\n",
       "<table border=\"1\" class=\"dataframe\">\n",
       "  <thead>\n",
       "    <tr style=\"text-align: right;\">\n",
       "      <th></th>\n",
       "      <th>Price</th>\n",
       "      <th>RegistrationYear</th>\n",
       "      <th>Power</th>\n",
       "      <th>Kilometer</th>\n",
       "      <th>RegistrationMonth</th>\n",
       "      <th>NumberOfPictures</th>\n",
       "      <th>PostalCode</th>\n",
       "    </tr>\n",
       "  </thead>\n",
       "  <tbody>\n",
       "    <tr>\n",
       "      <th>count</th>\n",
       "      <td>354,365.00</td>\n",
       "      <td>354,365.00</td>\n",
       "      <td>354,365.00</td>\n",
       "      <td>354,365.00</td>\n",
       "      <td>354,365.00</td>\n",
       "      <td>354,365.00</td>\n",
       "      <td>354,365.00</td>\n",
       "    </tr>\n",
       "    <tr>\n",
       "      <th>mean</th>\n",
       "      <td>4,416.68</td>\n",
       "      <td>2,004.23</td>\n",
       "      <td>110.09</td>\n",
       "      <td>128,211.36</td>\n",
       "      <td>5.71</td>\n",
       "      <td>0.00</td>\n",
       "      <td>50,508.50</td>\n",
       "    </tr>\n",
       "    <tr>\n",
       "      <th>std</th>\n",
       "      <td>4,514.18</td>\n",
       "      <td>90.23</td>\n",
       "      <td>189.85</td>\n",
       "      <td>37,905.08</td>\n",
       "      <td>3.73</td>\n",
       "      <td>0.00</td>\n",
       "      <td>25,783.10</td>\n",
       "    </tr>\n",
       "    <tr>\n",
       "      <th>min</th>\n",
       "      <td>0.00</td>\n",
       "      <td>1,000.00</td>\n",
       "      <td>0.00</td>\n",
       "      <td>5,000.00</td>\n",
       "      <td>0.00</td>\n",
       "      <td>0.00</td>\n",
       "      <td>1,067.00</td>\n",
       "    </tr>\n",
       "    <tr>\n",
       "      <th>25%</th>\n",
       "      <td>1,050.00</td>\n",
       "      <td>1,999.00</td>\n",
       "      <td>69.00</td>\n",
       "      <td>125,000.00</td>\n",
       "      <td>3.00</td>\n",
       "      <td>0.00</td>\n",
       "      <td>30,165.00</td>\n",
       "    </tr>\n",
       "    <tr>\n",
       "      <th>50%</th>\n",
       "      <td>2,700.00</td>\n",
       "      <td>2,003.00</td>\n",
       "      <td>105.00</td>\n",
       "      <td>150,000.00</td>\n",
       "      <td>6.00</td>\n",
       "      <td>0.00</td>\n",
       "      <td>49,413.00</td>\n",
       "    </tr>\n",
       "    <tr>\n",
       "      <th>75%</th>\n",
       "      <td>6,400.00</td>\n",
       "      <td>2,008.00</td>\n",
       "      <td>143.00</td>\n",
       "      <td>150,000.00</td>\n",
       "      <td>9.00</td>\n",
       "      <td>0.00</td>\n",
       "      <td>71,083.00</td>\n",
       "    </tr>\n",
       "    <tr>\n",
       "      <th>max</th>\n",
       "      <td>20,000.00</td>\n",
       "      <td>9,999.00</td>\n",
       "      <td>20,000.00</td>\n",
       "      <td>150,000.00</td>\n",
       "      <td>12.00</td>\n",
       "      <td>0.00</td>\n",
       "      <td>99,998.00</td>\n",
       "    </tr>\n",
       "  </tbody>\n",
       "</table>\n",
       "</div>"
      ],
      "text/plain": [
       "           Price  RegistrationYear      Power  Kilometer  RegistrationMonth  \\\n",
       "count 354,365.00        354,365.00 354,365.00 354,365.00         354,365.00   \n",
       "mean    4,416.68          2,004.23     110.09 128,211.36               5.71   \n",
       "std     4,514.18             90.23     189.85  37,905.08               3.73   \n",
       "min         0.00          1,000.00       0.00   5,000.00               0.00   \n",
       "25%     1,050.00          1,999.00      69.00 125,000.00               3.00   \n",
       "50%     2,700.00          2,003.00     105.00 150,000.00               6.00   \n",
       "75%     6,400.00          2,008.00     143.00 150,000.00               9.00   \n",
       "max    20,000.00          9,999.00  20,000.00 150,000.00              12.00   \n",
       "\n",
       "       NumberOfPictures  PostalCode  \n",
       "count        354,365.00  354,365.00  \n",
       "mean               0.00   50,508.50  \n",
       "std                0.00   25,783.10  \n",
       "min                0.00    1,067.00  \n",
       "25%                0.00   30,165.00  \n",
       "50%                0.00   49,413.00  \n",
       "75%                0.00   71,083.00  \n",
       "max                0.00   99,998.00  "
      ]
     },
     "execution_count": 11,
     "metadata": {},
     "output_type": "execute_result"
    }
   ],
   "source": [
    "# описательная статистика по df\n",
    "data.describe()"
   ]
  },
  {
   "cell_type": "code",
   "execution_count": 12,
   "metadata": {},
   "outputs": [
    {
     "data": {
      "text/html": [
       "<div>\n",
       "<style scoped>\n",
       "    .dataframe tbody tr th:only-of-type {\n",
       "        vertical-align: middle;\n",
       "    }\n",
       "\n",
       "    .dataframe tbody tr th {\n",
       "        vertical-align: top;\n",
       "    }\n",
       "\n",
       "    .dataframe thead th {\n",
       "        text-align: right;\n",
       "    }\n",
       "</style>\n",
       "<table border=\"1\" class=\"dataframe\">\n",
       "  <thead>\n",
       "    <tr style=\"text-align: right;\">\n",
       "      <th></th>\n",
       "      <th>Price</th>\n",
       "      <th>RegistrationYear</th>\n",
       "      <th>Power</th>\n",
       "      <th>Kilometer</th>\n",
       "      <th>RegistrationMonth</th>\n",
       "      <th>NumberOfPictures</th>\n",
       "      <th>PostalCode</th>\n",
       "    </tr>\n",
       "  </thead>\n",
       "  <tbody>\n",
       "    <tr>\n",
       "      <th>Price</th>\n",
       "      <td>1.00</td>\n",
       "      <td>0.03</td>\n",
       "      <td>0.16</td>\n",
       "      <td>-0.33</td>\n",
       "      <td>0.11</td>\n",
       "      <td>NaN</td>\n",
       "      <td>0.08</td>\n",
       "    </tr>\n",
       "    <tr>\n",
       "      <th>RegistrationYear</th>\n",
       "      <td>0.03</td>\n",
       "      <td>1.00</td>\n",
       "      <td>-0.00</td>\n",
       "      <td>-0.05</td>\n",
       "      <td>-0.01</td>\n",
       "      <td>NaN</td>\n",
       "      <td>-0.00</td>\n",
       "    </tr>\n",
       "    <tr>\n",
       "      <th>Power</th>\n",
       "      <td>0.16</td>\n",
       "      <td>-0.00</td>\n",
       "      <td>1.00</td>\n",
       "      <td>0.02</td>\n",
       "      <td>0.04</td>\n",
       "      <td>NaN</td>\n",
       "      <td>0.02</td>\n",
       "    </tr>\n",
       "    <tr>\n",
       "      <th>Kilometer</th>\n",
       "      <td>-0.33</td>\n",
       "      <td>-0.05</td>\n",
       "      <td>0.02</td>\n",
       "      <td>1.00</td>\n",
       "      <td>0.01</td>\n",
       "      <td>NaN</td>\n",
       "      <td>-0.01</td>\n",
       "    </tr>\n",
       "    <tr>\n",
       "      <th>RegistrationMonth</th>\n",
       "      <td>0.11</td>\n",
       "      <td>-0.01</td>\n",
       "      <td>0.04</td>\n",
       "      <td>0.01</td>\n",
       "      <td>1.00</td>\n",
       "      <td>NaN</td>\n",
       "      <td>0.01</td>\n",
       "    </tr>\n",
       "    <tr>\n",
       "      <th>NumberOfPictures</th>\n",
       "      <td>NaN</td>\n",
       "      <td>NaN</td>\n",
       "      <td>NaN</td>\n",
       "      <td>NaN</td>\n",
       "      <td>NaN</td>\n",
       "      <td>NaN</td>\n",
       "      <td>NaN</td>\n",
       "    </tr>\n",
       "    <tr>\n",
       "      <th>PostalCode</th>\n",
       "      <td>0.08</td>\n",
       "      <td>-0.00</td>\n",
       "      <td>0.02</td>\n",
       "      <td>-0.01</td>\n",
       "      <td>0.01</td>\n",
       "      <td>NaN</td>\n",
       "      <td>1.00</td>\n",
       "    </tr>\n",
       "  </tbody>\n",
       "</table>\n",
       "</div>"
      ],
      "text/plain": [
       "                   Price  RegistrationYear  Power  Kilometer  \\\n",
       "Price               1.00              0.03   0.16      -0.33   \n",
       "RegistrationYear    0.03              1.00  -0.00      -0.05   \n",
       "Power               0.16             -0.00   1.00       0.02   \n",
       "Kilometer          -0.33             -0.05   0.02       1.00   \n",
       "RegistrationMonth   0.11             -0.01   0.04       0.01   \n",
       "NumberOfPictures     NaN               NaN    NaN        NaN   \n",
       "PostalCode          0.08             -0.00   0.02      -0.01   \n",
       "\n",
       "                   RegistrationMonth  NumberOfPictures  PostalCode  \n",
       "Price                           0.11               NaN        0.08  \n",
       "RegistrationYear               -0.01               NaN       -0.00  \n",
       "Power                           0.04               NaN        0.02  \n",
       "Kilometer                       0.01               NaN       -0.01  \n",
       "RegistrationMonth               1.00               NaN        0.01  \n",
       "NumberOfPictures                 NaN               NaN         NaN  \n",
       "PostalCode                      0.01               NaN        1.00  "
      ]
     },
     "execution_count": 12,
     "metadata": {},
     "output_type": "execute_result"
    }
   ],
   "source": [
    "# корреляция данных\n",
    "data.corr()"
   ]
  },
  {
   "cell_type": "markdown",
   "metadata": {},
   "source": [
    "### удаление неинформативных признаков"
   ]
  },
  {
   "cell_type": "code",
   "execution_count": 13,
   "metadata": {},
   "outputs": [
    {
     "data": {
      "text/plain": [
       "0    354365\n",
       "Name: NumberOfPictures, dtype: int64"
      ]
     },
     "execution_count": 13,
     "metadata": {},
     "output_type": "execute_result"
    }
   ],
   "source": [
    "# проверим значения в признаке NumberOfPictures  - все 0\n",
    "data['NumberOfPictures'].value_counts()"
   ]
  },
  {
   "cell_type": "markdown",
   "metadata": {},
   "source": [
    "**можно удалить признаки**\n",
    "- дата создания, дата последнего просмотра (активности), дата скачивания анкеты, месяц регистрации, количество фотографий автомобиля, почтовый индекс владельца анкеты \n",
    "- эти данные могут повторяться (не уникальны) и бесполезны с точки зрения построения моделей машинного обучения"
   ]
  },
  {
   "cell_type": "code",
   "execution_count": 14,
   "metadata": {},
   "outputs": [
    {
     "data": {
      "text/html": [
       "<div>\n",
       "<style scoped>\n",
       "    .dataframe tbody tr th:only-of-type {\n",
       "        vertical-align: middle;\n",
       "    }\n",
       "\n",
       "    .dataframe tbody tr th {\n",
       "        vertical-align: top;\n",
       "    }\n",
       "\n",
       "    .dataframe thead th {\n",
       "        text-align: right;\n",
       "    }\n",
       "</style>\n",
       "<table border=\"1\" class=\"dataframe\">\n",
       "  <thead>\n",
       "    <tr style=\"text-align: right;\">\n",
       "      <th></th>\n",
       "      <th>Price</th>\n",
       "      <th>VehicleType</th>\n",
       "      <th>RegistrationYear</th>\n",
       "      <th>Gearbox</th>\n",
       "      <th>Power</th>\n",
       "      <th>Model</th>\n",
       "      <th>Kilometer</th>\n",
       "      <th>FuelType</th>\n",
       "      <th>Brand</th>\n",
       "      <th>Repaired</th>\n",
       "    </tr>\n",
       "  </thead>\n",
       "  <tbody>\n",
       "    <tr>\n",
       "      <th>0</th>\n",
       "      <td>480</td>\n",
       "      <td>NaN</td>\n",
       "      <td>1993</td>\n",
       "      <td>manual</td>\n",
       "      <td>0</td>\n",
       "      <td>golf</td>\n",
       "      <td>150000</td>\n",
       "      <td>petrol</td>\n",
       "      <td>volkswagen</td>\n",
       "      <td>NaN</td>\n",
       "    </tr>\n",
       "    <tr>\n",
       "      <th>1</th>\n",
       "      <td>18300</td>\n",
       "      <td>coupe</td>\n",
       "      <td>2011</td>\n",
       "      <td>manual</td>\n",
       "      <td>190</td>\n",
       "      <td>NaN</td>\n",
       "      <td>125000</td>\n",
       "      <td>gasoline</td>\n",
       "      <td>audi</td>\n",
       "      <td>yes</td>\n",
       "    </tr>\n",
       "    <tr>\n",
       "      <th>2</th>\n",
       "      <td>9800</td>\n",
       "      <td>suv</td>\n",
       "      <td>2004</td>\n",
       "      <td>auto</td>\n",
       "      <td>163</td>\n",
       "      <td>grand</td>\n",
       "      <td>125000</td>\n",
       "      <td>gasoline</td>\n",
       "      <td>jeep</td>\n",
       "      <td>NaN</td>\n",
       "    </tr>\n",
       "    <tr>\n",
       "      <th>3</th>\n",
       "      <td>1500</td>\n",
       "      <td>small</td>\n",
       "      <td>2001</td>\n",
       "      <td>manual</td>\n",
       "      <td>75</td>\n",
       "      <td>golf</td>\n",
       "      <td>150000</td>\n",
       "      <td>petrol</td>\n",
       "      <td>volkswagen</td>\n",
       "      <td>no</td>\n",
       "    </tr>\n",
       "    <tr>\n",
       "      <th>4</th>\n",
       "      <td>3600</td>\n",
       "      <td>small</td>\n",
       "      <td>2008</td>\n",
       "      <td>manual</td>\n",
       "      <td>69</td>\n",
       "      <td>fabia</td>\n",
       "      <td>90000</td>\n",
       "      <td>gasoline</td>\n",
       "      <td>skoda</td>\n",
       "      <td>no</td>\n",
       "    </tr>\n",
       "  </tbody>\n",
       "</table>\n",
       "</div>"
      ],
      "text/plain": [
       "   Price VehicleType  RegistrationYear Gearbox  Power  Model  Kilometer  \\\n",
       "0    480         NaN              1993  manual      0   golf     150000   \n",
       "1  18300       coupe              2011  manual    190    NaN     125000   \n",
       "2   9800         suv              2004    auto    163  grand     125000   \n",
       "3   1500       small              2001  manual     75   golf     150000   \n",
       "4   3600       small              2008  manual     69  fabia      90000   \n",
       "\n",
       "   FuelType       Brand Repaired  \n",
       "0    petrol  volkswagen      NaN  \n",
       "1  gasoline        audi      yes  \n",
       "2  gasoline        jeep      NaN  \n",
       "3    petrol  volkswagen       no  \n",
       "4  gasoline       skoda       no  "
      ]
     },
     "execution_count": 14,
     "metadata": {},
     "output_type": "execute_result"
    }
   ],
   "source": [
    "# удалим не информативные признаки, перед этим сохраним df в другой переменной\n",
    "data_old = data.copy()\n",
    "data = data.drop(['DateCrawled', 'RegistrationMonth', 'DateCreated', 'NumberOfPictures', 'PostalCode', 'LastSeen'], \n",
    "                 axis=1)\n",
    "data.head()"
   ]
  },
  {
   "cell_type": "markdown",
   "metadata": {},
   "source": [
    "### обработка пропусков и аномалий"
   ]
  },
  {
   "cell_type": "code",
   "execution_count": 15,
   "metadata": {},
   "outputs": [
    {
     "data": {
      "text/plain": [
       "Price               0.00\n",
       "VehicleType        10.58\n",
       "RegistrationYear    0.00\n",
       "Gearbox             5.60\n",
       "Power               0.00\n",
       "Model               5.56\n",
       "Kilometer           0.00\n",
       "FuelType            9.28\n",
       "Brand               0.00\n",
       "Repaired           20.08\n",
       "dtype: float64"
      ]
     },
     "execution_count": 15,
     "metadata": {},
     "output_type": "execute_result"
    }
   ],
   "source": [
    "# выведем долю пропусков в признаках\n",
    "data.isna().mean() * 100"
   ]
  },
  {
   "cell_type": "code",
   "execution_count": 16,
   "metadata": {},
   "outputs": [
    {
     "data": {
      "text/plain": [
       "0       10772\n",
       "500      5670\n",
       "1500     5394\n",
       "1000     4648\n",
       "1200     4594\n",
       "Name: Price, dtype: int64"
      ]
     },
     "execution_count": 16,
     "metadata": {},
     "output_type": "execute_result"
    }
   ],
   "source": [
    "# выведем уникальные значения признака 'Price'\n",
    "data['Price'].value_counts().head()"
   ]
  },
  {
   "cell_type": "markdown",
   "metadata": {},
   "source": [
    "**удалим значения с нулевой ценой**\n",
    "\n",
    "- yеобычные цены до 100-200 евро в данном случае оставим, т.к. из информации в df сложно понять причины таких цен. Ниже вывел ряд данных. Есть авто с низкой ценой и при этом не самые старые по году выпуска машины;\n",
    "    \n",
    "- могут быть разные варианты:\n",
    "    - ошибка при загрузке данных \n",
    "    - битые или в плохом состояние машины на запчасти \n",
    "    \n",
    "для решения нужна дополнительная информация от составителей базы данных."
   ]
  },
  {
   "cell_type": "code",
   "execution_count": 17,
   "metadata": {},
   "outputs": [],
   "source": [
    "# удалим значения с нулевой ценой\n",
    "data = data[data['Price'] > 0]"
   ]
  },
  {
   "cell_type": "code",
   "execution_count": 18,
   "metadata": {
    "scrolled": true
   },
   "outputs": [
    {
     "data": {
      "image/png": "[encoded data removed]",
      "text/plain": [
       "<Figure size 1440x288 with 1 Axes>"
      ]
     },
     "metadata": {
      "needs_background": "light"
     },
     "output_type": "display_data"
    }
   ],
   "source": [
    "data['Price'].hist(bins=200, figsize=(20,4));"
   ]
  },
  {
   "cell_type": "code",
   "execution_count": 19,
   "metadata": {},
   "outputs": [
    {
     "data": {
      "text/plain": [
       "2542"
      ]
     },
     "execution_count": 19,
     "metadata": {},
     "output_type": "execute_result"
    }
   ],
   "source": [
    "# количество авто с ценой меньше 100 евро\n",
    "len(data[data['Price'] < 100])"
   ]
  },
  {
   "cell_type": "code",
   "execution_count": 20,
   "metadata": {},
   "outputs": [
    {
     "data": {
      "text/plain": [
       "6690"
      ]
     },
     "execution_count": 20,
     "metadata": {},
     "output_type": "execute_result"
    }
   ],
   "source": [
    "# количество авто с ценой меньше 200 евро\n",
    "len(data[data['Price'] < 200])"
   ]
  },
  {
   "cell_type": "code",
   "execution_count": 21,
   "metadata": {},
   "outputs": [
    {
     "data": {
      "text/html": [
       "<div>\n",
       "<style scoped>\n",
       "    .dataframe tbody tr th:only-of-type {\n",
       "        vertical-align: middle;\n",
       "    }\n",
       "\n",
       "    .dataframe tbody tr th {\n",
       "        vertical-align: top;\n",
       "    }\n",
       "\n",
       "    .dataframe thead th {\n",
       "        text-align: right;\n",
       "    }\n",
       "</style>\n",
       "<table border=\"1\" class=\"dataframe\">\n",
       "  <thead>\n",
       "    <tr style=\"text-align: right;\">\n",
       "      <th></th>\n",
       "      <th>Price</th>\n",
       "      <th>VehicleType</th>\n",
       "      <th>RegistrationYear</th>\n",
       "      <th>Gearbox</th>\n",
       "      <th>Power</th>\n",
       "      <th>Model</th>\n",
       "      <th>Kilometer</th>\n",
       "      <th>FuelType</th>\n",
       "      <th>Brand</th>\n",
       "      <th>Repaired</th>\n",
       "    </tr>\n",
       "  </thead>\n",
       "  <tbody>\n",
       "    <tr>\n",
       "      <th>59</th>\n",
       "      <td>1</td>\n",
       "      <td>suv</td>\n",
       "      <td>1994</td>\n",
       "      <td>manual</td>\n",
       "      <td>286</td>\n",
       "      <td>NaN</td>\n",
       "      <td>150000</td>\n",
       "      <td>NaN</td>\n",
       "      <td>sonstige_autos</td>\n",
       "      <td>NaN</td>\n",
       "    </tr>\n",
       "    <tr>\n",
       "      <th>89</th>\n",
       "      <td>1</td>\n",
       "      <td>sedan</td>\n",
       "      <td>1995</td>\n",
       "      <td>manual</td>\n",
       "      <td>113</td>\n",
       "      <td>e_klasse</td>\n",
       "      <td>150000</td>\n",
       "      <td>gasoline</td>\n",
       "      <td>mercedes_benz</td>\n",
       "      <td>no</td>\n",
       "    </tr>\n",
       "    <tr>\n",
       "      <th>268</th>\n",
       "      <td>1</td>\n",
       "      <td>sedan</td>\n",
       "      <td>1990</td>\n",
       "      <td>manual</td>\n",
       "      <td>90</td>\n",
       "      <td>80</td>\n",
       "      <td>70000</td>\n",
       "      <td>petrol</td>\n",
       "      <td>audi</td>\n",
       "      <td>no</td>\n",
       "    </tr>\n",
       "    <tr>\n",
       "      <th>408</th>\n",
       "      <td>1</td>\n",
       "      <td>NaN</td>\n",
       "      <td>2000</td>\n",
       "      <td>NaN</td>\n",
       "      <td>75</td>\n",
       "      <td>golf</td>\n",
       "      <td>90000</td>\n",
       "      <td>petrol</td>\n",
       "      <td>volkswagen</td>\n",
       "      <td>NaN</td>\n",
       "    </tr>\n",
       "    <tr>\n",
       "      <th>552</th>\n",
       "      <td>50</td>\n",
       "      <td>NaN</td>\n",
       "      <td>1985</td>\n",
       "      <td>NaN</td>\n",
       "      <td>0</td>\n",
       "      <td>NaN</td>\n",
       "      <td>150000</td>\n",
       "      <td>NaN</td>\n",
       "      <td>trabant</td>\n",
       "      <td>NaN</td>\n",
       "    </tr>\n",
       "    <tr>\n",
       "      <th>901</th>\n",
       "      <td>1</td>\n",
       "      <td>NaN</td>\n",
       "      <td>1990</td>\n",
       "      <td>manual</td>\n",
       "      <td>0</td>\n",
       "      <td>other</td>\n",
       "      <td>150000</td>\n",
       "      <td>NaN</td>\n",
       "      <td>porsche</td>\n",
       "      <td>NaN</td>\n",
       "    </tr>\n",
       "    <tr>\n",
       "      <th>943</th>\n",
       "      <td>98</td>\n",
       "      <td>small</td>\n",
       "      <td>1997</td>\n",
       "      <td>manual</td>\n",
       "      <td>53</td>\n",
       "      <td>swift</td>\n",
       "      <td>150000</td>\n",
       "      <td>petrol</td>\n",
       "      <td>suzuki</td>\n",
       "      <td>no</td>\n",
       "    </tr>\n",
       "    <tr>\n",
       "      <th>967</th>\n",
       "      <td>1</td>\n",
       "      <td>wagon</td>\n",
       "      <td>1998</td>\n",
       "      <td>manual</td>\n",
       "      <td>136</td>\n",
       "      <td>omega</td>\n",
       "      <td>150000</td>\n",
       "      <td>petrol</td>\n",
       "      <td>opel</td>\n",
       "      <td>no</td>\n",
       "    </tr>\n",
       "    <tr>\n",
       "      <th>1025</th>\n",
       "      <td>3</td>\n",
       "      <td>convertible</td>\n",
       "      <td>1998</td>\n",
       "      <td>manual</td>\n",
       "      <td>110</td>\n",
       "      <td>mx_reihe</td>\n",
       "      <td>150000</td>\n",
       "      <td>NaN</td>\n",
       "      <td>mazda</td>\n",
       "      <td>yes</td>\n",
       "    </tr>\n",
       "    <tr>\n",
       "      <th>1076</th>\n",
       "      <td>45</td>\n",
       "      <td>NaN</td>\n",
       "      <td>2015</td>\n",
       "      <td>NaN</td>\n",
       "      <td>0</td>\n",
       "      <td>other</td>\n",
       "      <td>5000</td>\n",
       "      <td>NaN</td>\n",
       "      <td>mini</td>\n",
       "      <td>NaN</td>\n",
       "    </tr>\n",
       "    <tr>\n",
       "      <th>1247</th>\n",
       "      <td>1</td>\n",
       "      <td>sedan</td>\n",
       "      <td>1983</td>\n",
       "      <td>manual</td>\n",
       "      <td>0</td>\n",
       "      <td>NaN</td>\n",
       "      <td>150000</td>\n",
       "      <td>petrol</td>\n",
       "      <td>mercedes_benz</td>\n",
       "      <td>no</td>\n",
       "    </tr>\n",
       "    <tr>\n",
       "      <th>1340</th>\n",
       "      <td>1</td>\n",
       "      <td>NaN</td>\n",
       "      <td>2016</td>\n",
       "      <td>manual</td>\n",
       "      <td>0</td>\n",
       "      <td>golf</td>\n",
       "      <td>150000</td>\n",
       "      <td>gasoline</td>\n",
       "      <td>volkswagen</td>\n",
       "      <td>yes</td>\n",
       "    </tr>\n",
       "    <tr>\n",
       "      <th>1459</th>\n",
       "      <td>30</td>\n",
       "      <td>NaN</td>\n",
       "      <td>2015</td>\n",
       "      <td>NaN</td>\n",
       "      <td>0</td>\n",
       "      <td>NaN</td>\n",
       "      <td>5000</td>\n",
       "      <td>NaN</td>\n",
       "      <td>seat</td>\n",
       "      <td>NaN</td>\n",
       "    </tr>\n",
       "    <tr>\n",
       "      <th>1542</th>\n",
       "      <td>1</td>\n",
       "      <td>NaN</td>\n",
       "      <td>2000</td>\n",
       "      <td>NaN</td>\n",
       "      <td>0</td>\n",
       "      <td>astra</td>\n",
       "      <td>150000</td>\n",
       "      <td>NaN</td>\n",
       "      <td>opel</td>\n",
       "      <td>NaN</td>\n",
       "    </tr>\n",
       "    <tr>\n",
       "      <th>1634</th>\n",
       "      <td>2</td>\n",
       "      <td>bus</td>\n",
       "      <td>2004</td>\n",
       "      <td>manual</td>\n",
       "      <td>135</td>\n",
       "      <td>scenic</td>\n",
       "      <td>150000</td>\n",
       "      <td>petrol</td>\n",
       "      <td>renault</td>\n",
       "      <td>NaN</td>\n",
       "    </tr>\n",
       "    <tr>\n",
       "      <th>1788</th>\n",
       "      <td>80</td>\n",
       "      <td>NaN</td>\n",
       "      <td>2016</td>\n",
       "      <td>NaN</td>\n",
       "      <td>0</td>\n",
       "      <td>fiesta</td>\n",
       "      <td>5000</td>\n",
       "      <td>NaN</td>\n",
       "      <td>ford</td>\n",
       "      <td>yes</td>\n",
       "    </tr>\n",
       "    <tr>\n",
       "      <th>1907</th>\n",
       "      <td>1</td>\n",
       "      <td>sedan</td>\n",
       "      <td>2013</td>\n",
       "      <td>auto</td>\n",
       "      <td>241</td>\n",
       "      <td>x_type</td>\n",
       "      <td>30000</td>\n",
       "      <td>gasoline</td>\n",
       "      <td>jaguar</td>\n",
       "      <td>no</td>\n",
       "    </tr>\n",
       "    <tr>\n",
       "      <th>2179</th>\n",
       "      <td>1</td>\n",
       "      <td>small</td>\n",
       "      <td>2002</td>\n",
       "      <td>manual</td>\n",
       "      <td>150</td>\n",
       "      <td>3er</td>\n",
       "      <td>150000</td>\n",
       "      <td>gasoline</td>\n",
       "      <td>bmw</td>\n",
       "      <td>NaN</td>\n",
       "    </tr>\n",
       "    <tr>\n",
       "      <th>2204</th>\n",
       "      <td>1</td>\n",
       "      <td>NaN</td>\n",
       "      <td>2006</td>\n",
       "      <td>NaN</td>\n",
       "      <td>0</td>\n",
       "      <td>other</td>\n",
       "      <td>5000</td>\n",
       "      <td>NaN</td>\n",
       "      <td>jaguar</td>\n",
       "      <td>NaN</td>\n",
       "    </tr>\n",
       "    <tr>\n",
       "      <th>2503</th>\n",
       "      <td>99</td>\n",
       "      <td>NaN</td>\n",
       "      <td>2008</td>\n",
       "      <td>NaN</td>\n",
       "      <td>0</td>\n",
       "      <td>NaN</td>\n",
       "      <td>20000</td>\n",
       "      <td>NaN</td>\n",
       "      <td>sonstige_autos</td>\n",
       "      <td>NaN</td>\n",
       "    </tr>\n",
       "    <tr>\n",
       "      <th>2633</th>\n",
       "      <td>1</td>\n",
       "      <td>small</td>\n",
       "      <td>1998</td>\n",
       "      <td>manual</td>\n",
       "      <td>75</td>\n",
       "      <td>golf</td>\n",
       "      <td>150000</td>\n",
       "      <td>petrol</td>\n",
       "      <td>volkswagen</td>\n",
       "      <td>no</td>\n",
       "    </tr>\n",
       "    <tr>\n",
       "      <th>2687</th>\n",
       "      <td>90</td>\n",
       "      <td>small</td>\n",
       "      <td>2001</td>\n",
       "      <td>manual</td>\n",
       "      <td>0</td>\n",
       "      <td>twingo</td>\n",
       "      <td>150000</td>\n",
       "      <td>petrol</td>\n",
       "      <td>renault</td>\n",
       "      <td>yes</td>\n",
       "    </tr>\n",
       "    <tr>\n",
       "      <th>2702</th>\n",
       "      <td>80</td>\n",
       "      <td>small</td>\n",
       "      <td>2001</td>\n",
       "      <td>manual</td>\n",
       "      <td>98</td>\n",
       "      <td>rio</td>\n",
       "      <td>150000</td>\n",
       "      <td>petrol</td>\n",
       "      <td>kia</td>\n",
       "      <td>NaN</td>\n",
       "    </tr>\n",
       "    <tr>\n",
       "      <th>2804</th>\n",
       "      <td>1</td>\n",
       "      <td>wagon</td>\n",
       "      <td>1999</td>\n",
       "      <td>manual</td>\n",
       "      <td>118</td>\n",
       "      <td>focus</td>\n",
       "      <td>150000</td>\n",
       "      <td>NaN</td>\n",
       "      <td>ford</td>\n",
       "      <td>NaN</td>\n",
       "    </tr>\n",
       "    <tr>\n",
       "      <th>3071</th>\n",
       "      <td>30</td>\n",
       "      <td>sedan</td>\n",
       "      <td>1995</td>\n",
       "      <td>manual</td>\n",
       "      <td>75</td>\n",
       "      <td>polo</td>\n",
       "      <td>150000</td>\n",
       "      <td>petrol</td>\n",
       "      <td>volkswagen</td>\n",
       "      <td>no</td>\n",
       "    </tr>\n",
       "    <tr>\n",
       "      <th>3274</th>\n",
       "      <td>12</td>\n",
       "      <td>NaN</td>\n",
       "      <td>2015</td>\n",
       "      <td>NaN</td>\n",
       "      <td>0</td>\n",
       "      <td>5er</td>\n",
       "      <td>5000</td>\n",
       "      <td>NaN</td>\n",
       "      <td>bmw</td>\n",
       "      <td>NaN</td>\n",
       "    </tr>\n",
       "    <tr>\n",
       "      <th>3460</th>\n",
       "      <td>99</td>\n",
       "      <td>wagon</td>\n",
       "      <td>1999</td>\n",
       "      <td>manual</td>\n",
       "      <td>90</td>\n",
       "      <td>3_reihe</td>\n",
       "      <td>150000</td>\n",
       "      <td>NaN</td>\n",
       "      <td>peugeot</td>\n",
       "      <td>NaN</td>\n",
       "    </tr>\n",
       "    <tr>\n",
       "      <th>3462</th>\n",
       "      <td>1</td>\n",
       "      <td>wagon</td>\n",
       "      <td>2011</td>\n",
       "      <td>auto</td>\n",
       "      <td>0</td>\n",
       "      <td>NaN</td>\n",
       "      <td>5000</td>\n",
       "      <td>gasoline</td>\n",
       "      <td>bmw</td>\n",
       "      <td>NaN</td>\n",
       "    </tr>\n",
       "    <tr>\n",
       "      <th>3553</th>\n",
       "      <td>75</td>\n",
       "      <td>small</td>\n",
       "      <td>1997</td>\n",
       "      <td>manual</td>\n",
       "      <td>45</td>\n",
       "      <td>corsa</td>\n",
       "      <td>150000</td>\n",
       "      <td>petrol</td>\n",
       "      <td>opel</td>\n",
       "      <td>NaN</td>\n",
       "    </tr>\n",
       "    <tr>\n",
       "      <th>3678</th>\n",
       "      <td>1</td>\n",
       "      <td>wagon</td>\n",
       "      <td>2003</td>\n",
       "      <td>manual</td>\n",
       "      <td>130</td>\n",
       "      <td>mondeo</td>\n",
       "      <td>150000</td>\n",
       "      <td>gasoline</td>\n",
       "      <td>ford</td>\n",
       "      <td>no</td>\n",
       "    </tr>\n",
       "    <tr>\n",
       "      <th>3742</th>\n",
       "      <td>2</td>\n",
       "      <td>sedan</td>\n",
       "      <td>2002</td>\n",
       "      <td>auto</td>\n",
       "      <td>272</td>\n",
       "      <td>7er</td>\n",
       "      <td>5000</td>\n",
       "      <td>petrol</td>\n",
       "      <td>bmw</td>\n",
       "      <td>NaN</td>\n",
       "    </tr>\n",
       "    <tr>\n",
       "      <th>3967</th>\n",
       "      <td>1</td>\n",
       "      <td>small</td>\n",
       "      <td>2001</td>\n",
       "      <td>manual</td>\n",
       "      <td>55</td>\n",
       "      <td>lupo</td>\n",
       "      <td>150000</td>\n",
       "      <td>petrol</td>\n",
       "      <td>volkswagen</td>\n",
       "      <td>yes</td>\n",
       "    </tr>\n",
       "    <tr>\n",
       "      <th>4481</th>\n",
       "      <td>1</td>\n",
       "      <td>sedan</td>\n",
       "      <td>1996</td>\n",
       "      <td>manual</td>\n",
       "      <td>0</td>\n",
       "      <td>NaN</td>\n",
       "      <td>150000</td>\n",
       "      <td>petrol</td>\n",
       "      <td>bmw</td>\n",
       "      <td>NaN</td>\n",
       "    </tr>\n",
       "    <tr>\n",
       "      <th>4534</th>\n",
       "      <td>80</td>\n",
       "      <td>NaN</td>\n",
       "      <td>2016</td>\n",
       "      <td>NaN</td>\n",
       "      <td>45</td>\n",
       "      <td>polo</td>\n",
       "      <td>150000</td>\n",
       "      <td>petrol</td>\n",
       "      <td>volkswagen</td>\n",
       "      <td>no</td>\n",
       "    </tr>\n",
       "    <tr>\n",
       "      <th>4565</th>\n",
       "      <td>80</td>\n",
       "      <td>NaN</td>\n",
       "      <td>1990</td>\n",
       "      <td>NaN</td>\n",
       "      <td>0</td>\n",
       "      <td>other</td>\n",
       "      <td>150000</td>\n",
       "      <td>NaN</td>\n",
       "      <td>mercedes_benz</td>\n",
       "      <td>NaN</td>\n",
       "    </tr>\n",
       "    <tr>\n",
       "      <th>4746</th>\n",
       "      <td>1</td>\n",
       "      <td>bus</td>\n",
       "      <td>1995</td>\n",
       "      <td>manual</td>\n",
       "      <td>75</td>\n",
       "      <td>transporter</td>\n",
       "      <td>150000</td>\n",
       "      <td>gasoline</td>\n",
       "      <td>volkswagen</td>\n",
       "      <td>yes</td>\n",
       "    </tr>\n",
       "    <tr>\n",
       "      <th>5091</th>\n",
       "      <td>60</td>\n",
       "      <td>small</td>\n",
       "      <td>1994</td>\n",
       "      <td>manual</td>\n",
       "      <td>0</td>\n",
       "      <td>micra</td>\n",
       "      <td>150000</td>\n",
       "      <td>petrol</td>\n",
       "      <td>nissan</td>\n",
       "      <td>yes</td>\n",
       "    </tr>\n",
       "    <tr>\n",
       "      <th>5184</th>\n",
       "      <td>1</td>\n",
       "      <td>NaN</td>\n",
       "      <td>1990</td>\n",
       "      <td>NaN</td>\n",
       "      <td>0</td>\n",
       "      <td>golf</td>\n",
       "      <td>150000</td>\n",
       "      <td>NaN</td>\n",
       "      <td>volkswagen</td>\n",
       "      <td>NaN</td>\n",
       "    </tr>\n",
       "    <tr>\n",
       "      <th>5214</th>\n",
       "      <td>40</td>\n",
       "      <td>NaN</td>\n",
       "      <td>2014</td>\n",
       "      <td>NaN</td>\n",
       "      <td>0</td>\n",
       "      <td>other</td>\n",
       "      <td>5000</td>\n",
       "      <td>NaN</td>\n",
       "      <td>bmw</td>\n",
       "      <td>NaN</td>\n",
       "    </tr>\n",
       "    <tr>\n",
       "      <th>5276</th>\n",
       "      <td>1</td>\n",
       "      <td>sedan</td>\n",
       "      <td>1999</td>\n",
       "      <td>auto</td>\n",
       "      <td>150</td>\n",
       "      <td>galant</td>\n",
       "      <td>150000</td>\n",
       "      <td>petrol</td>\n",
       "      <td>mitsubishi</td>\n",
       "      <td>NaN</td>\n",
       "    </tr>\n",
       "    <tr>\n",
       "      <th>5289</th>\n",
       "      <td>75</td>\n",
       "      <td>sedan</td>\n",
       "      <td>1998</td>\n",
       "      <td>manual</td>\n",
       "      <td>75</td>\n",
       "      <td>escort</td>\n",
       "      <td>150000</td>\n",
       "      <td>petrol</td>\n",
       "      <td>ford</td>\n",
       "      <td>yes</td>\n",
       "    </tr>\n",
       "    <tr>\n",
       "      <th>5460</th>\n",
       "      <td>50</td>\n",
       "      <td>small</td>\n",
       "      <td>1994</td>\n",
       "      <td>manual</td>\n",
       "      <td>45</td>\n",
       "      <td>other</td>\n",
       "      <td>100000</td>\n",
       "      <td>petrol</td>\n",
       "      <td>citroen</td>\n",
       "      <td>yes</td>\n",
       "    </tr>\n",
       "    <tr>\n",
       "      <th>5552</th>\n",
       "      <td>1</td>\n",
       "      <td>small</td>\n",
       "      <td>1999</td>\n",
       "      <td>manual</td>\n",
       "      <td>75</td>\n",
       "      <td>fiesta</td>\n",
       "      <td>5000</td>\n",
       "      <td>petrol</td>\n",
       "      <td>ford</td>\n",
       "      <td>NaN</td>\n",
       "    </tr>\n",
       "    <tr>\n",
       "      <th>5781</th>\n",
       "      <td>1</td>\n",
       "      <td>small</td>\n",
       "      <td>1997</td>\n",
       "      <td>manual</td>\n",
       "      <td>101</td>\n",
       "      <td>a3</td>\n",
       "      <td>150000</td>\n",
       "      <td>petrol</td>\n",
       "      <td>audi</td>\n",
       "      <td>yes</td>\n",
       "    </tr>\n",
       "    <tr>\n",
       "      <th>6071</th>\n",
       "      <td>1</td>\n",
       "      <td>convertible</td>\n",
       "      <td>1990</td>\n",
       "      <td>manual</td>\n",
       "      <td>115</td>\n",
       "      <td>mx_reihe</td>\n",
       "      <td>150000</td>\n",
       "      <td>petrol</td>\n",
       "      <td>mazda</td>\n",
       "      <td>no</td>\n",
       "    </tr>\n",
       "    <tr>\n",
       "      <th>6209</th>\n",
       "      <td>50</td>\n",
       "      <td>wagon</td>\n",
       "      <td>2009</td>\n",
       "      <td>NaN</td>\n",
       "      <td>0</td>\n",
       "      <td>passat</td>\n",
       "      <td>5000</td>\n",
       "      <td>NaN</td>\n",
       "      <td>volkswagen</td>\n",
       "      <td>NaN</td>\n",
       "    </tr>\n",
       "    <tr>\n",
       "      <th>6669</th>\n",
       "      <td>9</td>\n",
       "      <td>small</td>\n",
       "      <td>1994</td>\n",
       "      <td>manual</td>\n",
       "      <td>90</td>\n",
       "      <td>golf</td>\n",
       "      <td>150000</td>\n",
       "      <td>petrol</td>\n",
       "      <td>volkswagen</td>\n",
       "      <td>no</td>\n",
       "    </tr>\n",
       "    <tr>\n",
       "      <th>6733</th>\n",
       "      <td>1</td>\n",
       "      <td>convertible</td>\n",
       "      <td>1997</td>\n",
       "      <td>NaN</td>\n",
       "      <td>66</td>\n",
       "      <td>escort</td>\n",
       "      <td>150000</td>\n",
       "      <td>petrol</td>\n",
       "      <td>ford</td>\n",
       "      <td>NaN</td>\n",
       "    </tr>\n",
       "    <tr>\n",
       "      <th>7334</th>\n",
       "      <td>30</td>\n",
       "      <td>small</td>\n",
       "      <td>1995</td>\n",
       "      <td>manual</td>\n",
       "      <td>75</td>\n",
       "      <td>golf</td>\n",
       "      <td>150000</td>\n",
       "      <td>petrol</td>\n",
       "      <td>volkswagen</td>\n",
       "      <td>NaN</td>\n",
       "    </tr>\n",
       "    <tr>\n",
       "      <th>7335</th>\n",
       "      <td>49</td>\n",
       "      <td>NaN</td>\n",
       "      <td>1995</td>\n",
       "      <td>NaN</td>\n",
       "      <td>0</td>\n",
       "      <td>passat</td>\n",
       "      <td>150000</td>\n",
       "      <td>NaN</td>\n",
       "      <td>volkswagen</td>\n",
       "      <td>NaN</td>\n",
       "    </tr>\n",
       "    <tr>\n",
       "      <th>7629</th>\n",
       "      <td>70</td>\n",
       "      <td>NaN</td>\n",
       "      <td>2010</td>\n",
       "      <td>NaN</td>\n",
       "      <td>0</td>\n",
       "      <td>insignia</td>\n",
       "      <td>5000</td>\n",
       "      <td>NaN</td>\n",
       "      <td>opel</td>\n",
       "      <td>NaN</td>\n",
       "    </tr>\n",
       "    <tr>\n",
       "      <th>7635</th>\n",
       "      <td>55</td>\n",
       "      <td>NaN</td>\n",
       "      <td>2000</td>\n",
       "      <td>NaN</td>\n",
       "      <td>0</td>\n",
       "      <td>astra</td>\n",
       "      <td>5000</td>\n",
       "      <td>NaN</td>\n",
       "      <td>opel</td>\n",
       "      <td>NaN</td>\n",
       "    </tr>\n",
       "    <tr>\n",
       "      <th>7655</th>\n",
       "      <td>80</td>\n",
       "      <td>small</td>\n",
       "      <td>1999</td>\n",
       "      <td>manual</td>\n",
       "      <td>54</td>\n",
       "      <td>corsa</td>\n",
       "      <td>125000</td>\n",
       "      <td>NaN</td>\n",
       "      <td>opel</td>\n",
       "      <td>yes</td>\n",
       "    </tr>\n",
       "    <tr>\n",
       "      <th>7861</th>\n",
       "      <td>1</td>\n",
       "      <td>NaN</td>\n",
       "      <td>2000</td>\n",
       "      <td>NaN</td>\n",
       "      <td>0</td>\n",
       "      <td>polo</td>\n",
       "      <td>5000</td>\n",
       "      <td>NaN</td>\n",
       "      <td>volkswagen</td>\n",
       "      <td>NaN</td>\n",
       "    </tr>\n",
       "    <tr>\n",
       "      <th>8013</th>\n",
       "      <td>50</td>\n",
       "      <td>sedan</td>\n",
       "      <td>1993</td>\n",
       "      <td>manual</td>\n",
       "      <td>100</td>\n",
       "      <td>80</td>\n",
       "      <td>150000</td>\n",
       "      <td>NaN</td>\n",
       "      <td>audi</td>\n",
       "      <td>yes</td>\n",
       "    </tr>\n",
       "    <tr>\n",
       "      <th>8240</th>\n",
       "      <td>14</td>\n",
       "      <td>NaN</td>\n",
       "      <td>2000</td>\n",
       "      <td>NaN</td>\n",
       "      <td>0</td>\n",
       "      <td>s_klasse</td>\n",
       "      <td>5000</td>\n",
       "      <td>NaN</td>\n",
       "      <td>mercedes_benz</td>\n",
       "      <td>NaN</td>\n",
       "    </tr>\n",
       "    <tr>\n",
       "      <th>8344</th>\n",
       "      <td>1</td>\n",
       "      <td>sedan</td>\n",
       "      <td>1997</td>\n",
       "      <td>manual</td>\n",
       "      <td>170</td>\n",
       "      <td>a6</td>\n",
       "      <td>150000</td>\n",
       "      <td>gasoline</td>\n",
       "      <td>audi</td>\n",
       "      <td>yes</td>\n",
       "    </tr>\n",
       "    <tr>\n",
       "      <th>8777</th>\n",
       "      <td>50</td>\n",
       "      <td>small</td>\n",
       "      <td>1995</td>\n",
       "      <td>manual</td>\n",
       "      <td>45</td>\n",
       "      <td>corsa</td>\n",
       "      <td>150000</td>\n",
       "      <td>petrol</td>\n",
       "      <td>opel</td>\n",
       "      <td>no</td>\n",
       "    </tr>\n",
       "    <tr>\n",
       "      <th>9289</th>\n",
       "      <td>20</td>\n",
       "      <td>coupe</td>\n",
       "      <td>2000</td>\n",
       "      <td>manual</td>\n",
       "      <td>101</td>\n",
       "      <td>astra</td>\n",
       "      <td>150000</td>\n",
       "      <td>NaN</td>\n",
       "      <td>opel</td>\n",
       "      <td>yes</td>\n",
       "    </tr>\n",
       "    <tr>\n",
       "      <th>9428</th>\n",
       "      <td>99</td>\n",
       "      <td>small</td>\n",
       "      <td>1997</td>\n",
       "      <td>NaN</td>\n",
       "      <td>45</td>\n",
       "      <td>corsa</td>\n",
       "      <td>150000</td>\n",
       "      <td>petrol</td>\n",
       "      <td>opel</td>\n",
       "      <td>no</td>\n",
       "    </tr>\n",
       "    <tr>\n",
       "      <th>9602</th>\n",
       "      <td>35</td>\n",
       "      <td>small</td>\n",
       "      <td>1997</td>\n",
       "      <td>manual</td>\n",
       "      <td>55</td>\n",
       "      <td>micra</td>\n",
       "      <td>150000</td>\n",
       "      <td>petrol</td>\n",
       "      <td>nissan</td>\n",
       "      <td>no</td>\n",
       "    </tr>\n",
       "    <tr>\n",
       "      <th>9638</th>\n",
       "      <td>80</td>\n",
       "      <td>wagon</td>\n",
       "      <td>2000</td>\n",
       "      <td>manual</td>\n",
       "      <td>0</td>\n",
       "      <td>focus</td>\n",
       "      <td>150000</td>\n",
       "      <td>gasoline</td>\n",
       "      <td>ford</td>\n",
       "      <td>NaN</td>\n",
       "    </tr>\n",
       "    <tr>\n",
       "      <th>9677</th>\n",
       "      <td>1</td>\n",
       "      <td>NaN</td>\n",
       "      <td>2000</td>\n",
       "      <td>manual</td>\n",
       "      <td>75</td>\n",
       "      <td>bravo</td>\n",
       "      <td>125000</td>\n",
       "      <td>NaN</td>\n",
       "      <td>fiat</td>\n",
       "      <td>yes</td>\n",
       "    </tr>\n",
       "    <tr>\n",
       "      <th>10119</th>\n",
       "      <td>60</td>\n",
       "      <td>small</td>\n",
       "      <td>1998</td>\n",
       "      <td>manual</td>\n",
       "      <td>0</td>\n",
       "      <td>fiesta</td>\n",
       "      <td>150000</td>\n",
       "      <td>petrol</td>\n",
       "      <td>ford</td>\n",
       "      <td>NaN</td>\n",
       "    </tr>\n",
       "    <tr>\n",
       "      <th>10158</th>\n",
       "      <td>80</td>\n",
       "      <td>NaN</td>\n",
       "      <td>2000</td>\n",
       "      <td>manual</td>\n",
       "      <td>0</td>\n",
       "      <td>145</td>\n",
       "      <td>150000</td>\n",
       "      <td>petrol</td>\n",
       "      <td>alfa_romeo</td>\n",
       "      <td>NaN</td>\n",
       "    </tr>\n",
       "    <tr>\n",
       "      <th>10216</th>\n",
       "      <td>70</td>\n",
       "      <td>other</td>\n",
       "      <td>1976</td>\n",
       "      <td>NaN</td>\n",
       "      <td>0</td>\n",
       "      <td>kaefer</td>\n",
       "      <td>150000</td>\n",
       "      <td>petrol</td>\n",
       "      <td>volkswagen</td>\n",
       "      <td>NaN</td>\n",
       "    </tr>\n",
       "    <tr>\n",
       "      <th>10251</th>\n",
       "      <td>1</td>\n",
       "      <td>bus</td>\n",
       "      <td>2000</td>\n",
       "      <td>NaN</td>\n",
       "      <td>0</td>\n",
       "      <td>zafira</td>\n",
       "      <td>150000</td>\n",
       "      <td>petrol</td>\n",
       "      <td>opel</td>\n",
       "      <td>NaN</td>\n",
       "    </tr>\n",
       "    <tr>\n",
       "      <th>10518</th>\n",
       "      <td>1</td>\n",
       "      <td>sedan</td>\n",
       "      <td>2000</td>\n",
       "      <td>manual</td>\n",
       "      <td>105</td>\n",
       "      <td>NaN</td>\n",
       "      <td>150000</td>\n",
       "      <td>NaN</td>\n",
       "      <td>alfa_romeo</td>\n",
       "      <td>yes</td>\n",
       "    </tr>\n",
       "    <tr>\n",
       "      <th>10533</th>\n",
       "      <td>70</td>\n",
       "      <td>NaN</td>\n",
       "      <td>2016</td>\n",
       "      <td>manual</td>\n",
       "      <td>0</td>\n",
       "      <td>megane</td>\n",
       "      <td>150000</td>\n",
       "      <td>petrol</td>\n",
       "      <td>renault</td>\n",
       "      <td>NaN</td>\n",
       "    </tr>\n",
       "    <tr>\n",
       "      <th>10542</th>\n",
       "      <td>80</td>\n",
       "      <td>small</td>\n",
       "      <td>2000</td>\n",
       "      <td>NaN</td>\n",
       "      <td>60</td>\n",
       "      <td>corsa</td>\n",
       "      <td>150000</td>\n",
       "      <td>petrol</td>\n",
       "      <td>opel</td>\n",
       "      <td>no</td>\n",
       "    </tr>\n",
       "    <tr>\n",
       "      <th>10553</th>\n",
       "      <td>45</td>\n",
       "      <td>NaN</td>\n",
       "      <td>1990</td>\n",
       "      <td>NaN</td>\n",
       "      <td>0</td>\n",
       "      <td>other</td>\n",
       "      <td>5000</td>\n",
       "      <td>NaN</td>\n",
       "      <td>volkswagen</td>\n",
       "      <td>NaN</td>\n",
       "    </tr>\n",
       "    <tr>\n",
       "      <th>10587</th>\n",
       "      <td>1</td>\n",
       "      <td>coupe</td>\n",
       "      <td>2003</td>\n",
       "      <td>NaN</td>\n",
       "      <td>0</td>\n",
       "      <td>civic</td>\n",
       "      <td>125000</td>\n",
       "      <td>petrol</td>\n",
       "      <td>honda</td>\n",
       "      <td>NaN</td>\n",
       "    </tr>\n",
       "    <tr>\n",
       "      <th>10816</th>\n",
       "      <td>8</td>\n",
       "      <td>NaN</td>\n",
       "      <td>2015</td>\n",
       "      <td>NaN</td>\n",
       "      <td>0</td>\n",
       "      <td>NaN</td>\n",
       "      <td>125000</td>\n",
       "      <td>NaN</td>\n",
       "      <td>porsche</td>\n",
       "      <td>NaN</td>\n",
       "    </tr>\n",
       "    <tr>\n",
       "      <th>10819</th>\n",
       "      <td>1</td>\n",
       "      <td>NaN</td>\n",
       "      <td>2000</td>\n",
       "      <td>NaN</td>\n",
       "      <td>0</td>\n",
       "      <td>NaN</td>\n",
       "      <td>150000</td>\n",
       "      <td>NaN</td>\n",
       "      <td>smart</td>\n",
       "      <td>NaN</td>\n",
       "    </tr>\n",
       "    <tr>\n",
       "      <th>10832</th>\n",
       "      <td>50</td>\n",
       "      <td>sedan</td>\n",
       "      <td>2005</td>\n",
       "      <td>manual</td>\n",
       "      <td>0</td>\n",
       "      <td>other</td>\n",
       "      <td>70000</td>\n",
       "      <td>petrol</td>\n",
       "      <td>kia</td>\n",
       "      <td>NaN</td>\n",
       "    </tr>\n",
       "    <tr>\n",
       "      <th>10935</th>\n",
       "      <td>50</td>\n",
       "      <td>sedan</td>\n",
       "      <td>1981</td>\n",
       "      <td>manual</td>\n",
       "      <td>50</td>\n",
       "      <td>NaN</td>\n",
       "      <td>10000</td>\n",
       "      <td>petrol</td>\n",
       "      <td>sonstige_autos</td>\n",
       "      <td>no</td>\n",
       "    </tr>\n",
       "    <tr>\n",
       "      <th>11140</th>\n",
       "      <td>1</td>\n",
       "      <td>NaN</td>\n",
       "      <td>2000</td>\n",
       "      <td>NaN</td>\n",
       "      <td>0</td>\n",
       "      <td>NaN</td>\n",
       "      <td>5000</td>\n",
       "      <td>NaN</td>\n",
       "      <td>sonstige_autos</td>\n",
       "      <td>NaN</td>\n",
       "    </tr>\n",
       "    <tr>\n",
       "      <th>11275</th>\n",
       "      <td>1</td>\n",
       "      <td>NaN</td>\n",
       "      <td>2015</td>\n",
       "      <td>NaN</td>\n",
       "      <td>0</td>\n",
       "      <td>NaN</td>\n",
       "      <td>5000</td>\n",
       "      <td>NaN</td>\n",
       "      <td>sonstige_autos</td>\n",
       "      <td>NaN</td>\n",
       "    </tr>\n",
       "    <tr>\n",
       "      <th>11312</th>\n",
       "      <td>1</td>\n",
       "      <td>sedan</td>\n",
       "      <td>1997</td>\n",
       "      <td>auto</td>\n",
       "      <td>279</td>\n",
       "      <td>e_klasse</td>\n",
       "      <td>150000</td>\n",
       "      <td>petrol</td>\n",
       "      <td>mercedes_benz</td>\n",
       "      <td>yes</td>\n",
       "    </tr>\n",
       "    <tr>\n",
       "      <th>11386</th>\n",
       "      <td>17</td>\n",
       "      <td>NaN</td>\n",
       "      <td>2005</td>\n",
       "      <td>NaN</td>\n",
       "      <td>0</td>\n",
       "      <td>tt</td>\n",
       "      <td>5000</td>\n",
       "      <td>NaN</td>\n",
       "      <td>audi</td>\n",
       "      <td>NaN</td>\n",
       "    </tr>\n",
       "    <tr>\n",
       "      <th>11528</th>\n",
       "      <td>90</td>\n",
       "      <td>small</td>\n",
       "      <td>1994</td>\n",
       "      <td>manual</td>\n",
       "      <td>60</td>\n",
       "      <td>astra</td>\n",
       "      <td>150000</td>\n",
       "      <td>petrol</td>\n",
       "      <td>opel</td>\n",
       "      <td>no</td>\n",
       "    </tr>\n",
       "    <tr>\n",
       "      <th>11821</th>\n",
       "      <td>80</td>\n",
       "      <td>NaN</td>\n",
       "      <td>1995</td>\n",
       "      <td>manual</td>\n",
       "      <td>55</td>\n",
       "      <td>twingo</td>\n",
       "      <td>150000</td>\n",
       "      <td>NaN</td>\n",
       "      <td>renault</td>\n",
       "      <td>NaN</td>\n",
       "    </tr>\n",
       "    <tr>\n",
       "      <th>12095</th>\n",
       "      <td>1</td>\n",
       "      <td>coupe</td>\n",
       "      <td>1985</td>\n",
       "      <td>manual</td>\n",
       "      <td>220</td>\n",
       "      <td>other</td>\n",
       "      <td>150000</td>\n",
       "      <td>petrol</td>\n",
       "      <td>porsche</td>\n",
       "      <td>no</td>\n",
       "    </tr>\n",
       "    <tr>\n",
       "      <th>12154</th>\n",
       "      <td>1</td>\n",
       "      <td>sedan</td>\n",
       "      <td>1996</td>\n",
       "      <td>auto</td>\n",
       "      <td>0</td>\n",
       "      <td>other</td>\n",
       "      <td>80000</td>\n",
       "      <td>petrol</td>\n",
       "      <td>nissan</td>\n",
       "      <td>no</td>\n",
       "    </tr>\n",
       "    <tr>\n",
       "      <th>12240</th>\n",
       "      <td>50</td>\n",
       "      <td>small</td>\n",
       "      <td>1999</td>\n",
       "      <td>manual</td>\n",
       "      <td>60</td>\n",
       "      <td>polo</td>\n",
       "      <td>150000</td>\n",
       "      <td>petrol</td>\n",
       "      <td>volkswagen</td>\n",
       "      <td>yes</td>\n",
       "    </tr>\n",
       "    <tr>\n",
       "      <th>12458</th>\n",
       "      <td>99</td>\n",
       "      <td>NaN</td>\n",
       "      <td>2000</td>\n",
       "      <td>NaN</td>\n",
       "      <td>0</td>\n",
       "      <td>astra</td>\n",
       "      <td>150000</td>\n",
       "      <td>NaN</td>\n",
       "      <td>opel</td>\n",
       "      <td>yes</td>\n",
       "    </tr>\n",
       "    <tr>\n",
       "      <th>12527</th>\n",
       "      <td>50</td>\n",
       "      <td>NaN</td>\n",
       "      <td>2005</td>\n",
       "      <td>NaN</td>\n",
       "      <td>0</td>\n",
       "      <td>other</td>\n",
       "      <td>5000</td>\n",
       "      <td>NaN</td>\n",
       "      <td>hyundai</td>\n",
       "      <td>NaN</td>\n",
       "    </tr>\n",
       "    <tr>\n",
       "      <th>12552</th>\n",
       "      <td>1</td>\n",
       "      <td>NaN</td>\n",
       "      <td>2017</td>\n",
       "      <td>manual</td>\n",
       "      <td>122</td>\n",
       "      <td>1er</td>\n",
       "      <td>125000</td>\n",
       "      <td>petrol</td>\n",
       "      <td>bmw</td>\n",
       "      <td>no</td>\n",
       "    </tr>\n",
       "    <tr>\n",
       "      <th>12584</th>\n",
       "      <td>50</td>\n",
       "      <td>small</td>\n",
       "      <td>2016</td>\n",
       "      <td>NaN</td>\n",
       "      <td>0</td>\n",
       "      <td>twingo</td>\n",
       "      <td>5000</td>\n",
       "      <td>NaN</td>\n",
       "      <td>renault</td>\n",
       "      <td>no</td>\n",
       "    </tr>\n",
       "    <tr>\n",
       "      <th>12946</th>\n",
       "      <td>49</td>\n",
       "      <td>NaN</td>\n",
       "      <td>5000</td>\n",
       "      <td>NaN</td>\n",
       "      <td>0</td>\n",
       "      <td>golf</td>\n",
       "      <td>5000</td>\n",
       "      <td>NaN</td>\n",
       "      <td>volkswagen</td>\n",
       "      <td>NaN</td>\n",
       "    </tr>\n",
       "    <tr>\n",
       "      <th>13019</th>\n",
       "      <td>5</td>\n",
       "      <td>small</td>\n",
       "      <td>1998</td>\n",
       "      <td>NaN</td>\n",
       "      <td>0</td>\n",
       "      <td>polo</td>\n",
       "      <td>150000</td>\n",
       "      <td>petrol</td>\n",
       "      <td>volkswagen</td>\n",
       "      <td>yes</td>\n",
       "    </tr>\n",
       "    <tr>\n",
       "      <th>13292</th>\n",
       "      <td>1</td>\n",
       "      <td>convertible</td>\n",
       "      <td>1989</td>\n",
       "      <td>manual</td>\n",
       "      <td>90</td>\n",
       "      <td>escort</td>\n",
       "      <td>150000</td>\n",
       "      <td>petrol</td>\n",
       "      <td>ford</td>\n",
       "      <td>NaN</td>\n",
       "    </tr>\n",
       "    <tr>\n",
       "      <th>13376</th>\n",
       "      <td>1</td>\n",
       "      <td>suv</td>\n",
       "      <td>2005</td>\n",
       "      <td>auto</td>\n",
       "      <td>218</td>\n",
       "      <td>grand</td>\n",
       "      <td>150000</td>\n",
       "      <td>gasoline</td>\n",
       "      <td>jeep</td>\n",
       "      <td>NaN</td>\n",
       "    </tr>\n",
       "    <tr>\n",
       "      <th>13393</th>\n",
       "      <td>50</td>\n",
       "      <td>wagon</td>\n",
       "      <td>1996</td>\n",
       "      <td>manual</td>\n",
       "      <td>150</td>\n",
       "      <td>v40</td>\n",
       "      <td>150000</td>\n",
       "      <td>petrol</td>\n",
       "      <td>volvo</td>\n",
       "      <td>yes</td>\n",
       "    </tr>\n",
       "    <tr>\n",
       "      <th>13775</th>\n",
       "      <td>60</td>\n",
       "      <td>sedan</td>\n",
       "      <td>1995</td>\n",
       "      <td>manual</td>\n",
       "      <td>75</td>\n",
       "      <td>golf</td>\n",
       "      <td>150000</td>\n",
       "      <td>petrol</td>\n",
       "      <td>volkswagen</td>\n",
       "      <td>yes</td>\n",
       "    </tr>\n",
       "    <tr>\n",
       "      <th>14344</th>\n",
       "      <td>1</td>\n",
       "      <td>coupe</td>\n",
       "      <td>1997</td>\n",
       "      <td>NaN</td>\n",
       "      <td>0</td>\n",
       "      <td>NaN</td>\n",
       "      <td>150000</td>\n",
       "      <td>petrol</td>\n",
       "      <td>opel</td>\n",
       "      <td>yes</td>\n",
       "    </tr>\n",
       "    <tr>\n",
       "      <th>14418</th>\n",
       "      <td>47</td>\n",
       "      <td>sedan</td>\n",
       "      <td>1999</td>\n",
       "      <td>manual</td>\n",
       "      <td>193</td>\n",
       "      <td>3er</td>\n",
       "      <td>125000</td>\n",
       "      <td>petrol</td>\n",
       "      <td>bmw</td>\n",
       "      <td>yes</td>\n",
       "    </tr>\n",
       "    <tr>\n",
       "      <th>14471</th>\n",
       "      <td>13</td>\n",
       "      <td>small</td>\n",
       "      <td>1997</td>\n",
       "      <td>manual</td>\n",
       "      <td>45</td>\n",
       "      <td>corsa</td>\n",
       "      <td>150000</td>\n",
       "      <td>petrol</td>\n",
       "      <td>opel</td>\n",
       "      <td>yes</td>\n",
       "    </tr>\n",
       "    <tr>\n",
       "      <th>14486</th>\n",
       "      <td>1</td>\n",
       "      <td>coupe</td>\n",
       "      <td>2003</td>\n",
       "      <td>auto</td>\n",
       "      <td>307</td>\n",
       "      <td>clk</td>\n",
       "      <td>5000</td>\n",
       "      <td>petrol</td>\n",
       "      <td>mercedes_benz</td>\n",
       "      <td>NaN</td>\n",
       "    </tr>\n",
       "    <tr>\n",
       "      <th>14571</th>\n",
       "      <td>1</td>\n",
       "      <td>wagon</td>\n",
       "      <td>1987</td>\n",
       "      <td>manual</td>\n",
       "      <td>0</td>\n",
       "      <td>passat</td>\n",
       "      <td>150000</td>\n",
       "      <td>NaN</td>\n",
       "      <td>volkswagen</td>\n",
       "      <td>NaN</td>\n",
       "    </tr>\n",
       "  </tbody>\n",
       "</table>\n",
       "</div>"
      ],
      "text/plain": [
       "       Price  VehicleType  RegistrationYear Gearbox  Power        Model  \\\n",
       "59         1          suv              1994  manual    286          NaN   \n",
       "89         1        sedan              1995  manual    113     e_klasse   \n",
       "268        1        sedan              1990  manual     90           80   \n",
       "408        1          NaN              2000     NaN     75         golf   \n",
       "552       50          NaN              1985     NaN      0          NaN   \n",
       "901        1          NaN              1990  manual      0        other   \n",
       "943       98        small              1997  manual     53        swift   \n",
       "967        1        wagon              1998  manual    136        omega   \n",
       "1025       3  convertible              1998  manual    110     mx_reihe   \n",
       "1076      45          NaN              2015     NaN      0        other   \n",
       "1247       1        sedan              1983  manual      0          NaN   \n",
       "1340       1          NaN              2016  manual      0         golf   \n",
       "1459      30          NaN              2015     NaN      0          NaN   \n",
       "1542       1          NaN              2000     NaN      0        astra   \n",
       "1634       2          bus              2004  manual    135       scenic   \n",
       "1788      80          NaN              2016     NaN      0       fiesta   \n",
       "1907       1        sedan              2013    auto    241       x_type   \n",
       "2179       1        small              2002  manual    150          3er   \n",
       "2204       1          NaN              2006     NaN      0        other   \n",
       "2503      99          NaN              2008     NaN      0          NaN   \n",
       "2633       1        small              1998  manual     75         golf   \n",
       "2687      90        small              2001  manual      0       twingo   \n",
       "2702      80        small              2001  manual     98          rio   \n",
       "2804       1        wagon              1999  manual    118        focus   \n",
       "3071      30        sedan              1995  manual     75         polo   \n",
       "3274      12          NaN              2015     NaN      0          5er   \n",
       "3460      99        wagon              1999  manual     90      3_reihe   \n",
       "3462       1        wagon              2011    auto      0          NaN   \n",
       "3553      75        small              1997  manual     45        corsa   \n",
       "3678       1        wagon              2003  manual    130       mondeo   \n",
       "3742       2        sedan              2002    auto    272          7er   \n",
       "3967       1        small              2001  manual     55         lupo   \n",
       "4481       1        sedan              1996  manual      0          NaN   \n",
       "4534      80          NaN              2016     NaN     45         polo   \n",
       "4565      80          NaN              1990     NaN      0        other   \n",
       "4746       1          bus              1995  manual     75  transporter   \n",
       "5091      60        small              1994  manual      0        micra   \n",
       "5184       1          NaN              1990     NaN      0         golf   \n",
       "5214      40          NaN              2014     NaN      0        other   \n",
       "5276       1        sedan              1999    auto    150       galant   \n",
       "5289      75        sedan              1998  manual     75       escort   \n",
       "5460      50        small              1994  manual     45        other   \n",
       "5552       1        small              1999  manual     75       fiesta   \n",
       "5781       1        small              1997  manual    101           a3   \n",
       "6071       1  convertible              1990  manual    115     mx_reihe   \n",
       "6209      50        wagon              2009     NaN      0       passat   \n",
       "6669       9        small              1994  manual     90         golf   \n",
       "6733       1  convertible              1997     NaN     66       escort   \n",
       "7334      30        small              1995  manual     75         golf   \n",
       "7335      49          NaN              1995     NaN      0       passat   \n",
       "7629      70          NaN              2010     NaN      0     insignia   \n",
       "7635      55          NaN              2000     NaN      0        astra   \n",
       "7655      80        small              1999  manual     54        corsa   \n",
       "7861       1          NaN              2000     NaN      0         polo   \n",
       "8013      50        sedan              1993  manual    100           80   \n",
       "8240      14          NaN              2000     NaN      0     s_klasse   \n",
       "8344       1        sedan              1997  manual    170           a6   \n",
       "8777      50        small              1995  manual     45        corsa   \n",
       "9289      20        coupe              2000  manual    101        astra   \n",
       "9428      99        small              1997     NaN     45        corsa   \n",
       "9602      35        small              1997  manual     55        micra   \n",
       "9638      80        wagon              2000  manual      0        focus   \n",
       "9677       1          NaN              2000  manual     75        bravo   \n",
       "10119     60        small              1998  manual      0       fiesta   \n",
       "10158     80          NaN              2000  manual      0          145   \n",
       "10216     70        other              1976     NaN      0       kaefer   \n",
       "10251      1          bus              2000     NaN      0       zafira   \n",
       "10518      1        sedan              2000  manual    105          NaN   \n",
       "10533     70          NaN              2016  manual      0       megane   \n",
       "10542     80        small              2000     NaN     60        corsa   \n",
       "10553     45          NaN              1990     NaN      0        other   \n",
       "10587      1        coupe              2003     NaN      0        civic   \n",
       "10816      8          NaN              2015     NaN      0          NaN   \n",
       "10819      1          NaN              2000     NaN      0          NaN   \n",
       "10832     50        sedan              2005  manual      0        other   \n",
       "10935     50        sedan              1981  manual     50          NaN   \n",
       "11140      1          NaN              2000     NaN      0          NaN   \n",
       "11275      1          NaN              2015     NaN      0          NaN   \n",
       "11312      1        sedan              1997    auto    279     e_klasse   \n",
       "11386     17          NaN              2005     NaN      0           tt   \n",
       "11528     90        small              1994  manual     60        astra   \n",
       "11821     80          NaN              1995  manual     55       twingo   \n",
       "12095      1        coupe              1985  manual    220        other   \n",
       "12154      1        sedan              1996    auto      0        other   \n",
       "12240     50        small              1999  manual     60         polo   \n",
       "12458     99          NaN              2000     NaN      0        astra   \n",
       "12527     50          NaN              2005     NaN      0        other   \n",
       "12552      1          NaN              2017  manual    122          1er   \n",
       "12584     50        small              2016     NaN      0       twingo   \n",
       "12946     49          NaN              5000     NaN      0         golf   \n",
       "13019      5        small              1998     NaN      0         polo   \n",
       "13292      1  convertible              1989  manual     90       escort   \n",
       "13376      1          suv              2005    auto    218        grand   \n",
       "13393     50        wagon              1996  manual    150          v40   \n",
       "13775     60        sedan              1995  manual     75         golf   \n",
       "14344      1        coupe              1997     NaN      0          NaN   \n",
       "14418     47        sedan              1999  manual    193          3er   \n",
       "14471     13        small              1997  manual     45        corsa   \n",
       "14486      1        coupe              2003    auto    307          clk   \n",
       "14571      1        wagon              1987  manual      0       passat   \n",
       "\n",
       "       Kilometer  FuelType           Brand Repaired  \n",
       "59        150000       NaN  sonstige_autos      NaN  \n",
       "89        150000  gasoline   mercedes_benz       no  \n",
       "268        70000    petrol            audi       no  \n",
       "408        90000    petrol      volkswagen      NaN  \n",
       "552       150000       NaN         trabant      NaN  \n",
       "901       150000       NaN         porsche      NaN  \n",
       "943       150000    petrol          suzuki       no  \n",
       "967       150000    petrol            opel       no  \n",
       "1025      150000       NaN           mazda      yes  \n",
       "1076        5000       NaN            mini      NaN  \n",
       "1247      150000    petrol   mercedes_benz       no  \n",
       "1340      150000  gasoline      volkswagen      yes  \n",
       "1459        5000       NaN            seat      NaN  \n",
       "1542      150000       NaN            opel      NaN  \n",
       "1634      150000    petrol         renault      NaN  \n",
       "1788        5000       NaN            ford      yes  \n",
       "1907       30000  gasoline          jaguar       no  \n",
       "2179      150000  gasoline             bmw      NaN  \n",
       "2204        5000       NaN          jaguar      NaN  \n",
       "2503       20000       NaN  sonstige_autos      NaN  \n",
       "2633      150000    petrol      volkswagen       no  \n",
       "2687      150000    petrol         renault      yes  \n",
       "2702      150000    petrol             kia      NaN  \n",
       "2804      150000       NaN            ford      NaN  \n",
       "3071      150000    petrol      volkswagen       no  \n",
       "3274        5000       NaN             bmw      NaN  \n",
       "3460      150000       NaN         peugeot      NaN  \n",
       "3462        5000  gasoline             bmw      NaN  \n",
       "3553      150000    petrol            opel      NaN  \n",
       "3678      150000  gasoline            ford       no  \n",
       "3742        5000    petrol             bmw      NaN  \n",
       "3967      150000    petrol      volkswagen      yes  \n",
       "4481      150000    petrol             bmw      NaN  \n",
       "4534      150000    petrol      volkswagen       no  \n",
       "4565      150000       NaN   mercedes_benz      NaN  \n",
       "4746      150000  gasoline      volkswagen      yes  \n",
       "5091      150000    petrol          nissan      yes  \n",
       "5184      150000       NaN      volkswagen      NaN  \n",
       "5214        5000       NaN             bmw      NaN  \n",
       "5276      150000    petrol      mitsubishi      NaN  \n",
       "5289      150000    petrol            ford      yes  \n",
       "5460      100000    petrol         citroen      yes  \n",
       "5552        5000    petrol            ford      NaN  \n",
       "5781      150000    petrol            audi      yes  \n",
       "6071      150000    petrol           mazda       no  \n",
       "6209        5000       NaN      volkswagen      NaN  \n",
       "6669      150000    petrol      volkswagen       no  \n",
       "6733      150000    petrol            ford      NaN  \n",
       "7334      150000    petrol      volkswagen      NaN  \n",
       "7335      150000       NaN      volkswagen      NaN  \n",
       "7629        5000       NaN            opel      NaN  \n",
       "7635        5000       NaN            opel      NaN  \n",
       "7655      125000       NaN            opel      yes  \n",
       "7861        5000       NaN      volkswagen      NaN  \n",
       "8013      150000       NaN            audi      yes  \n",
       "8240        5000       NaN   mercedes_benz      NaN  \n",
       "8344      150000  gasoline            audi      yes  \n",
       "8777      150000    petrol            opel       no  \n",
       "9289      150000       NaN            opel      yes  \n",
       "9428      150000    petrol            opel       no  \n",
       "9602      150000    petrol          nissan       no  \n",
       "9638      150000  gasoline            ford      NaN  \n",
       "9677      125000       NaN            fiat      yes  \n",
       "10119     150000    petrol            ford      NaN  \n",
       "10158     150000    petrol      alfa_romeo      NaN  \n",
       "10216     150000    petrol      volkswagen      NaN  \n",
       "10251     150000    petrol            opel      NaN  \n",
       "10518     150000       NaN      alfa_romeo      yes  \n",
       "10533     150000    petrol         renault      NaN  \n",
       "10542     150000    petrol            opel       no  \n",
       "10553       5000       NaN      volkswagen      NaN  \n",
       "10587     125000    petrol           honda      NaN  \n",
       "10816     125000       NaN         porsche      NaN  \n",
       "10819     150000       NaN           smart      NaN  \n",
       "10832      70000    petrol             kia      NaN  \n",
       "10935      10000    petrol  sonstige_autos       no  \n",
       "11140       5000       NaN  sonstige_autos      NaN  \n",
       "11275       5000       NaN  sonstige_autos      NaN  \n",
       "11312     150000    petrol   mercedes_benz      yes  \n",
       "11386       5000       NaN            audi      NaN  \n",
       "11528     150000    petrol            opel       no  \n",
       "11821     150000       NaN         renault      NaN  \n",
       "12095     150000    petrol         porsche       no  \n",
       "12154      80000    petrol          nissan       no  \n",
       "12240     150000    petrol      volkswagen      yes  \n",
       "12458     150000       NaN            opel      yes  \n",
       "12527       5000       NaN         hyundai      NaN  \n",
       "12552     125000    petrol             bmw       no  \n",
       "12584       5000       NaN         renault       no  \n",
       "12946       5000       NaN      volkswagen      NaN  \n",
       "13019     150000    petrol      volkswagen      yes  \n",
       "13292     150000    petrol            ford      NaN  \n",
       "13376     150000  gasoline            jeep      NaN  \n",
       "13393     150000    petrol           volvo      yes  \n",
       "13775     150000    petrol      volkswagen      yes  \n",
       "14344     150000    petrol            opel      yes  \n",
       "14418     125000    petrol             bmw      yes  \n",
       "14471     150000    petrol            opel      yes  \n",
       "14486       5000    petrol   mercedes_benz      NaN  \n",
       "14571     150000       NaN      volkswagen      NaN  "
      ]
     },
     "execution_count": 21,
     "metadata": {},
     "output_type": "execute_result"
    }
   ],
   "source": [
    "data[data['Price'] < 100].head(100)"
   ]
  },
  {
   "cell_type": "code",
   "execution_count": 22,
   "metadata": {},
   "outputs": [
    {
     "data": {
      "text/plain": [
       "sedan          89405\n",
       "small          78017\n",
       "wagon          63700\n",
       "NaN            33750\n",
       "bus            28345\n",
       "convertible    19865\n",
       "coupe          15634\n",
       "suv            11791\n",
       "other           3086\n",
       "Name: VehicleType, dtype: int64"
      ]
     },
     "execution_count": 22,
     "metadata": {},
     "output_type": "execute_result"
    }
   ],
   "source": [
    "# выведем уникальные значения признака 'VehicleType'\n",
    "data['VehicleType'].value_counts(dropna=False)"
   ]
  },
  {
   "cell_type": "code",
   "execution_count": 23,
   "metadata": {},
   "outputs": [
    {
     "data": {
      "text/plain": [
       "array(['other', 'coupe', 'suv', 'small', 'sedan', 'convertible', 'bus',\n",
       "       'wagon'], dtype=object)"
      ]
     },
     "execution_count": 23,
     "metadata": {},
     "output_type": "execute_result"
    }
   ],
   "source": [
    "# т.к. определить тип кузова по данным в df не возможно, заменим значение 'nan' на 'other'\n",
    "data['VehicleType'] = data['VehicleType'].fillna('other')\n",
    "data['VehicleType'].unique()"
   ]
  },
  {
   "cell_type": "code",
   "execution_count": 24,
   "metadata": {},
   "outputs": [
    {
     "data": {
      "text/plain": [
       "array([1000, 1001, 1039, 1111, 1234, 1255, 1300, 1400, 1500, 1600, 1602,\n",
       "       1800, 1910, 1923, 1925, 1927, 1928, 1929, 1930, 1931, 1932, 1933,\n",
       "       1934, 1935, 1936, 1937, 1938, 1940, 1941, 1942, 1943, 1944, 1945,\n",
       "       1946, 1947, 1948, 1949, 1950, 1951, 1952, 1953, 1954, 1955, 1956,\n",
       "       1957, 1958, 1959, 1960, 1961, 1962, 1963, 1964, 1965, 1966, 1967,\n",
       "       1968, 1969, 1970, 1971, 1972, 1973, 1974, 1975, 1976, 1977, 1978,\n",
       "       1979, 1980, 1981, 1982, 1983, 1984, 1985, 1986, 1987, 1988, 1989,\n",
       "       1990, 1991, 1992, 1993, 1994, 1995, 1996, 1997, 1998, 1999, 2000,\n",
       "       2001, 2002, 2003, 2004, 2005, 2006, 2007, 2008, 2009, 2010, 2011,\n",
       "       2012, 2013, 2014, 2015, 2016, 2017, 2018, 2019, 2066, 2200, 2222,\n",
       "       2290, 2500, 2800, 2900, 3000, 3200, 3700, 3800, 4000, 4100, 4500,\n",
       "       4800, 5000, 5300, 5555, 5600, 5900, 5911, 6000, 6500, 7000, 7100,\n",
       "       7800, 8000, 8200, 8500, 8888, 9000, 9450, 9999])"
      ]
     },
     "execution_count": 24,
     "metadata": {},
     "output_type": "execute_result"
    }
   ],
   "source": [
    "# выведем уникальные значения признака 'RegistrationYear'\n",
    "data['RegistrationYear'].sort_values().unique()"
   ]
  },
  {
   "cell_type": "code",
   "execution_count": 25,
   "metadata": {},
   "outputs": [
    {
     "data": {
      "image/png": "[encoded data removed]",
      "text/plain": [
       "<Figure size 1440x216 with 1 Axes>"
      ]
     },
     "metadata": {
      "needs_background": "light"
     },
     "output_type": "display_data"
    }
   ],
   "source": [
    "# также построим boxplot для признака 'RegistrationYear'\n",
    "plt.figure(figsize=(20,3))\n",
    "plt.boxplot(x = data['RegistrationYear'], vert=False)\n",
    "plt.show()"
   ]
  },
  {
   "cell_type": "code",
   "execution_count": 26,
   "metadata": {},
   "outputs": [
    {
     "data": {
      "text/plain": [
       "array([1980, 1981, 1982, 1983, 1984, 1985, 1986, 1987, 1988, 1989, 1990,\n",
       "       1991, 1992, 1993, 1994, 1995, 1996, 1997, 1998, 1999, 2000, 2001,\n",
       "       2002, 2003, 2004, 2005, 2006, 2007, 2008, 2009, 2010, 2011, 2012,\n",
       "       2013, 2014, 2015, 2016, 2017, 2018, 2019])"
      ]
     },
     "execution_count": 26,
     "metadata": {},
     "output_type": "execute_result"
    }
   ],
   "source": [
    "# удалим значения признака год выпуска менее 1980 и старше 2023, т.к они скорее всего аномальные\n",
    "data = data[(data['RegistrationYear'] >= 1980) & (data['RegistrationYear'] <= 2023)]\n",
    "data['RegistrationYear'].sort_values().unique()"
   ]
  },
  {
   "cell_type": "code",
   "execution_count": 27,
   "metadata": {},
   "outputs": [
    {
     "data": {
      "text/plain": [
       "array(['2016-03-05 14:06:22', '2016-03-05 14:06:23',\n",
       "       '2016-03-05 14:06:24', ..., '2016-04-07 14:36:55',\n",
       "       '2016-04-07 14:36:56', '2016-04-07 14:36:58'], dtype=object)"
      ]
     },
     "execution_count": 27,
     "metadata": {},
     "output_type": "execute_result"
    }
   ],
   "source": [
    "# уникальные значения признака 'DateCrawled'\n",
    "data['DateCrawled'].sort_values().unique()"
   ]
  },
  {
   "cell_type": "code",
   "execution_count": 28,
   "metadata": {},
   "outputs": [
    {
     "data": {
      "text/plain": [
       "array([1980, 1981, 1982, 1983, 1984, 1985, 1986, 1987, 1988, 1989, 1990,\n",
       "       1991, 1992, 1993, 1994, 1995, 1996, 1997, 1998, 1999, 2000, 2001,\n",
       "       2002, 2003, 2004, 2005, 2006, 2007, 2008, 2009, 2010, 2011, 2012,\n",
       "       2013, 2014, 2015, 2016])"
      ]
     },
     "execution_count": 28,
     "metadata": {},
     "output_type": "execute_result"
    }
   ],
   "source": [
    "# удалим значения признака год выпуска менее 1980 и более 2016 включительно, т.к они скорее всего аномальные\n",
    "data = data[(data['RegistrationYear'] >= 1980) & (data['RegistrationYear'] <= 2016)]\n",
    "data['RegistrationYear'].sort_values().unique()"
   ]
  },
  {
   "cell_type": "code",
   "execution_count": 29,
   "metadata": {},
   "outputs": [
    {
     "data": {
      "text/plain": [
       "manual    249217\n",
       "auto       62377\n",
       "NaN        15054\n",
       "Name: Gearbox, dtype: int64"
      ]
     },
     "execution_count": 29,
     "metadata": {},
     "output_type": "execute_result"
    }
   ],
   "source": [
    "# выведем уникальные значения признака 'Gearbox'\n",
    "data['Gearbox'].value_counts(dropna=False)"
   ]
  },
  {
   "cell_type": "code",
   "execution_count": 30,
   "metadata": {},
   "outputs": [
    {
     "data": {
      "text/plain": [
       "array(['manual', 'auto', 'unknown'], dtype=object)"
      ]
     },
     "execution_count": 30,
     "metadata": {},
     "output_type": "execute_result"
    }
   ],
   "source": [
    "# т.к. определить тип трансмиссии по данным не возможно заменим значение 'nan' на 'unknown'\n",
    "data['Gearbox'] = data['Gearbox'].fillna('unknown')\n",
    "data['Gearbox'].unique()"
   ]
  },
  {
   "cell_type": "code",
   "execution_count": 31,
   "metadata": {},
   "outputs": [],
   "source": [
    "# также в признаке модель 'nan' на 'unknown'\n",
    "data['Model'] = data['Model'].fillna('unknown')"
   ]
  },
  {
   "cell_type": "markdown",
   "metadata": {},
   "source": [
    "<div class=\"alert alert-warning\">\n",
    "<b>Комментарий 👉</b>\n",
    "\n",
    "По результатам проверки примерно 2,8 тысяч проектов за крайние 12 месяцев у меня родилось небольшое эссе на тему \"удаления vs. спасения\" данных, как раз на основе тех ситуаций и вопросов, которые мне коллеги задавали, которые мы обсуждали, уточняли и исправляли ... \n",
    "\n",
    "Желание уменьшить количество пропусков в данных (если такое желание конечно возникает ... но в рабочих проектах, \"в жизни\" оно как правило возникает) - можно только приветствовать. Приветствовать по 3-м минимум причинам:\n",
    "\n",
    "1. это тренировка\n",
    "    \n",
    "2. это попытка сохранить данные (\"данных много не бывает\")\n",
    "    \n",
    "3. самое главное на мой взгляд - развитие аналитического мышления, желания \"проникать\" в секреты, которые скрывают данные. Когда вначале рождается гипотеза, потом эта гипотеза проверяется на данных (может ли такое быть? подтверждается?) и в финале уже гипотеза облекается в код.\n",
    "\n",
    "Однако заполнение пропусков в данных не такая простая задача, как кажется ... простого ответа на вопросы: заполнять? удалить? чем заполнять? подходящего под все сценарии, нет ни в одной умной книжке ...\n",
    "\n",
    "Самый идеальный случай - когда у тебя под рукой есть эксперт в предметной области. Если такой есть - советуйся с ним. Как правило это человек из бизнеса, который знает суть бизнес-процесса и вот именно он даст тебе точный и аргументированный совет - что в данной, конкретной задаче делать с \"битыми\" полями в строках датафрейма. Ты скажешь ему какой процент пропусков в данных, а он тебе ответит что делать: можно/нельзя удалить и/или даст рекомендации по заполнению. Вообще, как правило такой человек \"на любой работе\" есть. Для примера, финансовый директор думаю всегда даст рекомендации по финансовым данным, прочие профильные спецы - по своей сфере компетенций. Наверное только в зарождающемся стартапе может не быть каких-то компетенций, но тут уже можно и через фриланс (и т.п.) попробовать найти спеца и просить совета.\n",
    "\n",
    "Теперь, что делать, если такого человека нет. Я бы ответил так: **ПОПЫТАТЬСЯ** вникнуть в бизнес-проблему самому. Наверное это сложно, если предметная область ну совсем незнакома. Но в общем случае, если бизнес совсем незнаком, то заполнение пропусков в данных наверное, не получиться. В таком случае попробуй ориентироваться на такое правило: если записи с пропусками в ключевых для твоего анализа столбцах составляют 1-3-5-ну может до 10% строк, то попробуй эти записи из оригинального датафрейма вырезать (но сохрани бы в некий df, к которому ты при необходимости можешь всегда обратиться).\n",
    "\n",
    "В жизни, МНЕ КАЖЕТСЯ, как правило по всему датафрейму заполнять медианой/средним - ну вообще не вариант. Почему? Я бы ответил так - потому, что реальные датафреймы имеют миллионы строк и горизонт в несколько (десятков) лет, и если в 90-2000-е года всё было как-то более -менее стабильно/прогнозируемо, то в нынешней реальности события раскручиваются гораздо быстрее и не прогнозируемо. Пример: ты аналитик в автобизнесе. У тебя есть данные с пропусками в цене для машин в 2005-2007 года. Можно заполнить их средними основываясь на данных 2020-2021?\n",
    "\n",
    "Может быть и такой вариант, что без заполнения некоторых столбцов некоторые записи по сути **НЕ** имеют смысла, но если их (записи с пропусками удалить), то и данных-то не останется. Ну тогда я бы такой совет дал - всё же заполнять медианой (она к скачкам выбросов более устойчива), но не по всему глобальному датафрейму, а выбрать простые группы (например, группы по интервалу лет - чтобы сгладить турбулентность нынешних лет) или выбрать более сложные группы (например, группы по интервалу лет и одновременно марке автопроизводителя (это я про вымышленный пример с автобизнесом)).\n",
    "\n",
    "Теперь предположим, что мы выбрали какую-то стратегию заполнения \"пропусков\", не суть какую (оставить NaN или заполнить \"заглушкой\"). И в том и в другом случае придётся помнить этот выбор. Ты спросишь почему? Отвечу - потому, что инструменты, применяемые тобой в Питон/Пандас в каких-то случаях могут спокойно пропускать твой выбор, а в каких-то случаях тебе придется этот твой выбор обрабатывать.\n",
    "\n",
    "Пример 1: мы заполнили пропуски \"заглушкой\". В этом случае: 1. расчет корреляций значение \"заглушку\" будет \"ловить\" (надо отфильтровать!), 2. расчет гипотез также будет \"сбивать\" правильный вывод (надо отфильтровать!) 3. графики, которые ты будешь строить - будут \"заглушку\" отображать на осях (нужно фильтровать), 4. в группировках также по-видимому \"заглушку\" надо будет убирать.\n",
    "\n",
    "Пример 2: мы оставили пропуски как NaN. В этом случае: 1. метод .corr NaN'ы пропускает (отфильтровать не надо), 2. в расчет гипотез всё равно пропуски отфильтровать 3. графики, которые ты будешь строить могут отображать, а могут не отображать, 4. в группировках NaN'ы по sum() видны не будут, а по count() будут.\n",
    "\n",
    "Ну и напоследок совсем уже жёсткий пример: додумывать \"от себя\", бездумно проставлять в пропуски медианные/средние значения - это НЕ верно. Давай же опять \"про жизнь\". Я писал выше, что в медицине работаю, да? **Предположим** мне принесли данные из онкологического диспансера. Задача: построить модель, которая по некоторым маркерным анализам будет прогнозировать наличие онкологии. **По-простому, ответить, что стоит за строчкой в данных: жизнь или смерть.** Уууууух … аж мороз по коже продирает, правда? \n",
    "\n",
    "Итак, 1.000.000 записей и 70 столбцов. Данные за 25 лет. 70 столбцов - это поля, с результатами конкретных и очень специфичных анализов. В \"начале\" данных, 15-20 лет назад, есть пропуски (много), но и в принципе, в данных есть пропуски. Как думаешь - имею я моральное право перед людьми, которые фактически доверяют мне в виде данных свою жизнь огульно подойти к заполнению пропусков?\n",
    "</div>"
   ]
  },
  {
   "cell_type": "code",
   "execution_count": 32,
   "metadata": {},
   "outputs": [
    {
     "data": {
      "text/plain": [
       "array([  0,   1,   2,   3,   4,   5,   6,   7,   8,   9,  10,  11,  12,\n",
       "        13,  14,  15,  16,  17,  18,  19,  20,  21,  22,  23,  24,  25,\n",
       "        26,  27,  28,  29,  30,  31,  32,  33,  34,  35,  36,  37,  38,\n",
       "        39,  40,  41,  42,  43,  44,  45,  46,  47,  48,  49,  50,  51,\n",
       "        52,  53,  54,  55,  56,  57,  58,  59,  60,  61,  62,  63,  64,\n",
       "        65,  66,  67,  68,  69,  70,  71,  72,  73,  74,  75,  76,  77,\n",
       "        78,  79,  80,  81,  82,  83,  84,  85,  86,  87,  88,  89,  90,\n",
       "        91,  92,  93,  94,  95,  96,  97,  98,  99, 100, 101, 102, 103,\n",
       "       104, 105, 106, 107, 108, 109, 110, 111, 112, 113, 114, 115, 116,\n",
       "       117, 118, 119, 120, 121, 122, 123, 124, 125, 126, 127, 128, 129,\n",
       "       130, 131, 132, 133, 134, 135, 136, 137, 138, 139, 140, 141, 142,\n",
       "       143, 144, 145, 146, 147, 148, 149, 150, 151, 152, 153, 154, 155,\n",
       "       156, 157, 158, 159, 160, 161, 162, 163, 164, 165, 166, 167, 168,\n",
       "       169, 170, 171, 172, 173, 174, 175, 176, 177, 178, 179, 180, 181,\n",
       "       182, 183, 184, 185, 186, 187, 188, 189, 190, 191, 192, 193, 194,\n",
       "       195, 196, 197, 198, 199])"
      ]
     },
     "execution_count": 32,
     "metadata": {},
     "output_type": "execute_result"
    }
   ],
   "source": [
    "# выведем уникальные значения признака 'Power', первые 200\n",
    "data['Power'].sort_values().unique()[:200]"
   ]
  },
  {
   "cell_type": "code",
   "execution_count": 33,
   "metadata": {},
   "outputs": [
    {
     "data": {
      "text/plain": [
       "0      31968\n",
       "75     22073\n",
       "60     14671\n",
       "150    13710\n",
       "101    12394\n",
       "140    12328\n",
       "90     11689\n",
       "116    11374\n",
       "105     9844\n",
       "170     9671\n",
       "Name: Power, dtype: int64"
      ]
     },
     "execution_count": 33,
     "metadata": {},
     "output_type": "execute_result"
    }
   ],
   "source": [
    "# выведем количество уникальных значений признака 'Power', первые 10 \n",
    "data['Power'].value_counts(dropna=False).head(10)"
   ]
  },
  {
   "cell_type": "code",
   "execution_count": 34,
   "metadata": {
    "scrolled": true
   },
   "outputs": [
    {
     "data": {
      "image/png": "[encoded data removed]",
      "text/plain": [
       "<Figure size 1440x216 with 1 Axes>"
      ]
     },
     "metadata": {
      "needs_background": "light"
     },
     "output_type": "display_data"
    }
   ],
   "source": [
    "# построим boxplot и гистограмму для признака 'Power'\n",
    "plt.figure(figsize=(20,3))\n",
    "plt.boxplot(x = data['Power'], vert=False)\n",
    "plt.show()"
   ]
  },
  {
   "cell_type": "code",
   "execution_count": 35,
   "metadata": {},
   "outputs": [
    {
     "data": {
      "image/png": "[encoded data removed]",
      "text/plain": [
       "<Figure size 720x288 with 1 Axes>"
      ]
     },
     "metadata": {
      "needs_background": "light"
     },
     "output_type": "display_data"
    }
   ],
   "source": [
    "data['Power'].hist(bins=200, figsize=(10,4));"
   ]
  },
  {
   "cell_type": "markdown",
   "metadata": {},
   "source": [
    "**удалим значения признака мощность ('Power') более 1000, т.к они скорее всего аномальные \n",
    "и заменим значения от 0 до 50 на медианные** \n",
    "\n",
    "- Верхний порог мощности в 1000 определял а) из общей информации по рынку - подавляющее большинство авто в РФ с мощностью 90-120 л.с. и менее 50 л.с. современных машин в массовом сегементе нет б) из данных распределения в данном df\n",
    "\n",
    "- \"Средняя мощность автомобилей в России составляет 117 лошадиных сил. Такой вывод сделали эксперты портала Auto.ru, проанализировав данные о парке машин в стране.\" https://rg.ru/2019/10/18/reg-skfo/eksperty-nazvali-sredniuiu-moshchnost-avtomobilej-v-rossii.html"
   ]
  },
  {
   "cell_type": "code",
   "execution_count": 36,
   "metadata": {},
   "outputs": [],
   "source": [
    "data = data[(data['Power'] <= 1000)]\n",
    "power_median = data['Power'].median()\n",
    "power_false = [i for i in range(50)]\n",
    "data['Power'] = data['Power'].replace(power_false, power_median)"
   ]
  },
  {
   "cell_type": "code",
   "execution_count": 37,
   "metadata": {},
   "outputs": [
    {
     "data": {
      "image/png": "[encoded data removed]",
      "text/plain": [
       "<Figure size 720x288 with 1 Axes>"
      ]
     },
     "metadata": {
      "needs_background": "light"
     },
     "output_type": "display_data"
    }
   ],
   "source": [
    "# посмотрим распредление признака мощность - оно стало более реальным, основные значения мощности 50-200 л.с.\n",
    "data['Power'].hist(bins=200, figsize=(10,4));"
   ]
  },
  {
   "cell_type": "code",
   "execution_count": 38,
   "metadata": {},
   "outputs": [
    {
     "data": {
      "image/png": "[encoded data removed]",
      "text/plain": [
       "<Figure size 1440x216 with 1 Axes>"
      ]
     },
     "metadata": {
      "needs_background": "light"
     },
     "output_type": "display_data"
    }
   ],
   "source": [
    "plt.figure(figsize=(20,3))\n",
    "plt.boxplot(x = data['Power'], vert=False)\n",
    "plt.show()"
   ]
  },
  {
   "cell_type": "code",
   "execution_count": 39,
   "metadata": {},
   "outputs": [
    {
     "data": {
      "text/plain": [
       "petrol      202175\n",
       "gasoline     94660\n",
       "NaN          23584\n",
       "lpg           5000\n",
       "cng            528\n",
       "hybrid         220\n",
       "other          137\n",
       "electric        86\n",
       "Name: FuelType, dtype: int64"
      ]
     },
     "execution_count": 39,
     "metadata": {},
     "output_type": "execute_result"
    }
   ],
   "source": [
    "# выведем уникальные значения признака 'FuelType'\n",
    "data['FuelType'].value_counts(dropna=False)"
   ]
  },
  {
   "cell_type": "code",
   "execution_count": 40,
   "metadata": {},
   "outputs": [],
   "source": [
    "# в признаке топливо заменим gasoline на petrol т.к. это одинаковое обозначение бензина и 'nan' на 'unknow'\n",
    "data['FuelType'] = data['FuelType'].replace('gasoline', 'petrol')\n",
    "data['FuelType'] = data['FuelType'].fillna('unknown')"
   ]
  },
  {
   "cell_type": "code",
   "execution_count": 41,
   "metadata": {},
   "outputs": [
    {
     "data": {
      "text/plain": [
       "no     234838\n",
       "NaN     58904\n",
       "yes     32648\n",
       "Name: Repaired, dtype: int64"
      ]
     },
     "execution_count": 41,
     "metadata": {},
     "output_type": "execute_result"
    }
   ],
   "source": [
    "# выведем уникальные значения признака 'Repaired'\n",
    "data['Repaired'].value_counts(dropna=False)"
   ]
  },
  {
   "cell_type": "code",
   "execution_count": 42,
   "metadata": {},
   "outputs": [],
   "source": [
    "# в признаке после ремонта заменим 'nan' на 'unknow'\n",
    "data['Repaired'] = data['Repaired'].fillna('unknown')"
   ]
  },
  {
   "cell_type": "code",
   "execution_count": 43,
   "metadata": {},
   "outputs": [
    {
     "name": "stdout",
     "output_type": "stream",
     "text": [
      "<class 'pandas.core.frame.DataFrame'>\n",
      "Int64Index: 326390 entries, 0 to 354364\n",
      "Data columns (total 10 columns):\n",
      " #   Column            Non-Null Count   Dtype  \n",
      "---  ------            --------------   -----  \n",
      " 0   Price             326390 non-null  int64  \n",
      " 1   VehicleType       326390 non-null  object \n",
      " 2   RegistrationYear  326390 non-null  int64  \n",
      " 3   Gearbox           326390 non-null  object \n",
      " 4   Power             326390 non-null  float64\n",
      " 5   Model             326390 non-null  object \n",
      " 6   Kilometer         326390 non-null  int64  \n",
      " 7   FuelType          326390 non-null  object \n",
      " 8   Brand             326390 non-null  object \n",
      " 9   Repaired          326390 non-null  object \n",
      "dtypes: float64(1), int64(3), object(6)\n",
      "memory usage: 27.4+ MB\n"
     ]
    }
   ],
   "source": [
    "# выведем информацию по измененому df\n",
    "data.info()"
   ]
  },
  {
   "cell_type": "code",
   "execution_count": 44,
   "metadata": {},
   "outputs": [
    {
     "data": {
      "text/plain": [
       "43495"
      ]
     },
     "execution_count": 44,
     "metadata": {},
     "output_type": "execute_result"
    }
   ],
   "source": [
    "# количнство дубликатов по измененому df\n",
    "data.duplicated().sum()"
   ]
  },
  {
   "cell_type": "code",
   "execution_count": 45,
   "metadata": {},
   "outputs": [
    {
     "data": {
      "text/html": [
       "<div>\n",
       "<style scoped>\n",
       "    .dataframe tbody tr th:only-of-type {\n",
       "        vertical-align: middle;\n",
       "    }\n",
       "\n",
       "    .dataframe tbody tr th {\n",
       "        vertical-align: top;\n",
       "    }\n",
       "\n",
       "    .dataframe thead th {\n",
       "        text-align: right;\n",
       "    }\n",
       "</style>\n",
       "<table border=\"1\" class=\"dataframe\">\n",
       "  <thead>\n",
       "    <tr style=\"text-align: right;\">\n",
       "      <th></th>\n",
       "      <th>Price</th>\n",
       "      <th>VehicleType</th>\n",
       "      <th>RegistrationYear</th>\n",
       "      <th>Gearbox</th>\n",
       "      <th>Power</th>\n",
       "      <th>Model</th>\n",
       "      <th>Kilometer</th>\n",
       "      <th>FuelType</th>\n",
       "      <th>Brand</th>\n",
       "      <th>Repaired</th>\n",
       "    </tr>\n",
       "  </thead>\n",
       "  <tbody>\n",
       "    <tr>\n",
       "      <th>20161</th>\n",
       "      <td>550</td>\n",
       "      <td>small</td>\n",
       "      <td>1998</td>\n",
       "      <td>manual</td>\n",
       "      <td>50.00</td>\n",
       "      <td>polo</td>\n",
       "      <td>150000</td>\n",
       "      <td>petrol</td>\n",
       "      <td>volkswagen</td>\n",
       "      <td>unknown</td>\n",
       "    </tr>\n",
       "    <tr>\n",
       "      <th>87315</th>\n",
       "      <td>1000</td>\n",
       "      <td>small</td>\n",
       "      <td>2000</td>\n",
       "      <td>manual</td>\n",
       "      <td>50.00</td>\n",
       "      <td>polo</td>\n",
       "      <td>150000</td>\n",
       "      <td>petrol</td>\n",
       "      <td>volkswagen</td>\n",
       "      <td>no</td>\n",
       "    </tr>\n",
       "    <tr>\n",
       "      <th>209210</th>\n",
       "      <td>999</td>\n",
       "      <td>small</td>\n",
       "      <td>1999</td>\n",
       "      <td>manual</td>\n",
       "      <td>50.00</td>\n",
       "      <td>lupo</td>\n",
       "      <td>150000</td>\n",
       "      <td>petrol</td>\n",
       "      <td>volkswagen</td>\n",
       "      <td>no</td>\n",
       "    </tr>\n",
       "    <tr>\n",
       "      <th>180814</th>\n",
       "      <td>300</td>\n",
       "      <td>other</td>\n",
       "      <td>2016</td>\n",
       "      <td>manual</td>\n",
       "      <td>50.00</td>\n",
       "      <td>polo</td>\n",
       "      <td>150000</td>\n",
       "      <td>petrol</td>\n",
       "      <td>volkswagen</td>\n",
       "      <td>unknown</td>\n",
       "    </tr>\n",
       "    <tr>\n",
       "      <th>12978</th>\n",
       "      <td>1250</td>\n",
       "      <td>small</td>\n",
       "      <td>2000</td>\n",
       "      <td>manual</td>\n",
       "      <td>50.00</td>\n",
       "      <td>lupo</td>\n",
       "      <td>150000</td>\n",
       "      <td>petrol</td>\n",
       "      <td>volkswagen</td>\n",
       "      <td>no</td>\n",
       "    </tr>\n",
       "    <tr>\n",
       "      <th>240761</th>\n",
       "      <td>1299</td>\n",
       "      <td>small</td>\n",
       "      <td>2001</td>\n",
       "      <td>manual</td>\n",
       "      <td>50.00</td>\n",
       "      <td>polo</td>\n",
       "      <td>150000</td>\n",
       "      <td>petrol</td>\n",
       "      <td>volkswagen</td>\n",
       "      <td>no</td>\n",
       "    </tr>\n",
       "    <tr>\n",
       "      <th>188910</th>\n",
       "      <td>1150</td>\n",
       "      <td>small</td>\n",
       "      <td>1997</td>\n",
       "      <td>manual</td>\n",
       "      <td>50.00</td>\n",
       "      <td>polo</td>\n",
       "      <td>125000</td>\n",
       "      <td>petrol</td>\n",
       "      <td>volkswagen</td>\n",
       "      <td>no</td>\n",
       "    </tr>\n",
       "    <tr>\n",
       "      <th>240843</th>\n",
       "      <td>890</td>\n",
       "      <td>small</td>\n",
       "      <td>1999</td>\n",
       "      <td>manual</td>\n",
       "      <td>50.00</td>\n",
       "      <td>lupo</td>\n",
       "      <td>150000</td>\n",
       "      <td>petrol</td>\n",
       "      <td>volkswagen</td>\n",
       "      <td>no</td>\n",
       "    </tr>\n",
       "    <tr>\n",
       "      <th>188915</th>\n",
       "      <td>750</td>\n",
       "      <td>small</td>\n",
       "      <td>1998</td>\n",
       "      <td>manual</td>\n",
       "      <td>50.00</td>\n",
       "      <td>ka</td>\n",
       "      <td>80000</td>\n",
       "      <td>petrol</td>\n",
       "      <td>ford</td>\n",
       "      <td>no</td>\n",
       "    </tr>\n",
       "    <tr>\n",
       "      <th>180764</th>\n",
       "      <td>1150</td>\n",
       "      <td>small</td>\n",
       "      <td>1999</td>\n",
       "      <td>manual</td>\n",
       "      <td>50.00</td>\n",
       "      <td>lupo</td>\n",
       "      <td>150000</td>\n",
       "      <td>petrol</td>\n",
       "      <td>volkswagen</td>\n",
       "      <td>no</td>\n",
       "    </tr>\n",
       "    <tr>\n",
       "      <th>63090</th>\n",
       "      <td>1280</td>\n",
       "      <td>small</td>\n",
       "      <td>2000</td>\n",
       "      <td>manual</td>\n",
       "      <td>50.00</td>\n",
       "      <td>lupo</td>\n",
       "      <td>150000</td>\n",
       "      <td>petrol</td>\n",
       "      <td>volkswagen</td>\n",
       "      <td>unknown</td>\n",
       "    </tr>\n",
       "    <tr>\n",
       "      <th>6400</th>\n",
       "      <td>1599</td>\n",
       "      <td>small</td>\n",
       "      <td>2003</td>\n",
       "      <td>manual</td>\n",
       "      <td>50.00</td>\n",
       "      <td>lupo</td>\n",
       "      <td>150000</td>\n",
       "      <td>petrol</td>\n",
       "      <td>volkswagen</td>\n",
       "      <td>no</td>\n",
       "    </tr>\n",
       "    <tr>\n",
       "      <th>279443</th>\n",
       "      <td>1350</td>\n",
       "      <td>small</td>\n",
       "      <td>2001</td>\n",
       "      <td>manual</td>\n",
       "      <td>50.00</td>\n",
       "      <td>lupo</td>\n",
       "      <td>150000</td>\n",
       "      <td>petrol</td>\n",
       "      <td>volkswagen</td>\n",
       "      <td>no</td>\n",
       "    </tr>\n",
       "    <tr>\n",
       "      <th>147068</th>\n",
       "      <td>600</td>\n",
       "      <td>small</td>\n",
       "      <td>1999</td>\n",
       "      <td>manual</td>\n",
       "      <td>50.00</td>\n",
       "      <td>lupo</td>\n",
       "      <td>150000</td>\n",
       "      <td>petrol</td>\n",
       "      <td>volkswagen</td>\n",
       "      <td>no</td>\n",
       "    </tr>\n",
       "    <tr>\n",
       "      <th>87165</th>\n",
       "      <td>300</td>\n",
       "      <td>small</td>\n",
       "      <td>1999</td>\n",
       "      <td>manual</td>\n",
       "      <td>50.00</td>\n",
       "      <td>lupo</td>\n",
       "      <td>150000</td>\n",
       "      <td>petrol</td>\n",
       "      <td>volkswagen</td>\n",
       "      <td>yes</td>\n",
       "    </tr>\n",
       "    <tr>\n",
       "      <th>53838</th>\n",
       "      <td>1850</td>\n",
       "      <td>small</td>\n",
       "      <td>2001</td>\n",
       "      <td>manual</td>\n",
       "      <td>50.00</td>\n",
       "      <td>polo</td>\n",
       "      <td>150000</td>\n",
       "      <td>petrol</td>\n",
       "      <td>volkswagen</td>\n",
       "      <td>no</td>\n",
       "    </tr>\n",
       "    <tr>\n",
       "      <th>279357</th>\n",
       "      <td>999</td>\n",
       "      <td>small</td>\n",
       "      <td>2000</td>\n",
       "      <td>manual</td>\n",
       "      <td>50.00</td>\n",
       "      <td>arosa</td>\n",
       "      <td>150000</td>\n",
       "      <td>petrol</td>\n",
       "      <td>seat</td>\n",
       "      <td>no</td>\n",
       "    </tr>\n",
       "    <tr>\n",
       "      <th>297505</th>\n",
       "      <td>550</td>\n",
       "      <td>small</td>\n",
       "      <td>2001</td>\n",
       "      <td>manual</td>\n",
       "      <td>50.00</td>\n",
       "      <td>lupo</td>\n",
       "      <td>150000</td>\n",
       "      <td>petrol</td>\n",
       "      <td>volkswagen</td>\n",
       "      <td>yes</td>\n",
       "    </tr>\n",
       "    <tr>\n",
       "      <th>44921</th>\n",
       "      <td>1199</td>\n",
       "      <td>small</td>\n",
       "      <td>2002</td>\n",
       "      <td>manual</td>\n",
       "      <td>50.00</td>\n",
       "      <td>lupo</td>\n",
       "      <td>150000</td>\n",
       "      <td>petrol</td>\n",
       "      <td>volkswagen</td>\n",
       "      <td>no</td>\n",
       "    </tr>\n",
       "    <tr>\n",
       "      <th>230054</th>\n",
       "      <td>1750</td>\n",
       "      <td>small</td>\n",
       "      <td>2001</td>\n",
       "      <td>manual</td>\n",
       "      <td>50.00</td>\n",
       "      <td>lupo</td>\n",
       "      <td>150000</td>\n",
       "      <td>petrol</td>\n",
       "      <td>volkswagen</td>\n",
       "      <td>no</td>\n",
       "    </tr>\n",
       "    <tr>\n",
       "      <th>323761</th>\n",
       "      <td>990</td>\n",
       "      <td>small</td>\n",
       "      <td>1998</td>\n",
       "      <td>manual</td>\n",
       "      <td>50.00</td>\n",
       "      <td>arosa</td>\n",
       "      <td>150000</td>\n",
       "      <td>petrol</td>\n",
       "      <td>seat</td>\n",
       "      <td>no</td>\n",
       "    </tr>\n",
       "    <tr>\n",
       "      <th>107390</th>\n",
       "      <td>650</td>\n",
       "      <td>small</td>\n",
       "      <td>1999</td>\n",
       "      <td>manual</td>\n",
       "      <td>50.00</td>\n",
       "      <td>polo</td>\n",
       "      <td>150000</td>\n",
       "      <td>petrol</td>\n",
       "      <td>volkswagen</td>\n",
       "      <td>unknown</td>\n",
       "    </tr>\n",
       "    <tr>\n",
       "      <th>241019</th>\n",
       "      <td>1500</td>\n",
       "      <td>small</td>\n",
       "      <td>1999</td>\n",
       "      <td>manual</td>\n",
       "      <td>50.00</td>\n",
       "      <td>polo</td>\n",
       "      <td>125000</td>\n",
       "      <td>petrol</td>\n",
       "      <td>volkswagen</td>\n",
       "      <td>no</td>\n",
       "    </tr>\n",
       "    <tr>\n",
       "      <th>44840</th>\n",
       "      <td>990</td>\n",
       "      <td>small</td>\n",
       "      <td>1997</td>\n",
       "      <td>manual</td>\n",
       "      <td>50.00</td>\n",
       "      <td>fiesta</td>\n",
       "      <td>90000</td>\n",
       "      <td>petrol</td>\n",
       "      <td>ford</td>\n",
       "      <td>no</td>\n",
       "    </tr>\n",
       "    <tr>\n",
       "      <th>117833</th>\n",
       "      <td>650</td>\n",
       "      <td>small</td>\n",
       "      <td>1999</td>\n",
       "      <td>manual</td>\n",
       "      <td>50.00</td>\n",
       "      <td>polo</td>\n",
       "      <td>150000</td>\n",
       "      <td>petrol</td>\n",
       "      <td>volkswagen</td>\n",
       "      <td>no</td>\n",
       "    </tr>\n",
       "    <tr>\n",
       "      <th>306769</th>\n",
       "      <td>300</td>\n",
       "      <td>small</td>\n",
       "      <td>1998</td>\n",
       "      <td>manual</td>\n",
       "      <td>50.00</td>\n",
       "      <td>fiesta</td>\n",
       "      <td>150000</td>\n",
       "      <td>petrol</td>\n",
       "      <td>ford</td>\n",
       "      <td>unknown</td>\n",
       "    </tr>\n",
       "    <tr>\n",
       "      <th>13074</th>\n",
       "      <td>1000</td>\n",
       "      <td>small</td>\n",
       "      <td>1998</td>\n",
       "      <td>manual</td>\n",
       "      <td>50.00</td>\n",
       "      <td>lupo</td>\n",
       "      <td>150000</td>\n",
       "      <td>petrol</td>\n",
       "      <td>volkswagen</td>\n",
       "      <td>no</td>\n",
       "    </tr>\n",
       "    <tr>\n",
       "      <th>53687</th>\n",
       "      <td>1250</td>\n",
       "      <td>small</td>\n",
       "      <td>1999</td>\n",
       "      <td>manual</td>\n",
       "      <td>50.00</td>\n",
       "      <td>polo</td>\n",
       "      <td>150000</td>\n",
       "      <td>petrol</td>\n",
       "      <td>volkswagen</td>\n",
       "      <td>no</td>\n",
       "    </tr>\n",
       "    <tr>\n",
       "      <th>279476</th>\n",
       "      <td>650</td>\n",
       "      <td>small</td>\n",
       "      <td>1999</td>\n",
       "      <td>manual</td>\n",
       "      <td>50.00</td>\n",
       "      <td>arosa</td>\n",
       "      <td>150000</td>\n",
       "      <td>petrol</td>\n",
       "      <td>seat</td>\n",
       "      <td>no</td>\n",
       "    </tr>\n",
       "    <tr>\n",
       "      <th>306236</th>\n",
       "      <td>500</td>\n",
       "      <td>small</td>\n",
       "      <td>2002</td>\n",
       "      <td>manual</td>\n",
       "      <td>50.00</td>\n",
       "      <td>lupo</td>\n",
       "      <td>150000</td>\n",
       "      <td>petrol</td>\n",
       "      <td>volkswagen</td>\n",
       "      <td>yes</td>\n",
       "    </tr>\n",
       "    <tr>\n",
       "      <th>70744</th>\n",
       "      <td>1250</td>\n",
       "      <td>small</td>\n",
       "      <td>1999</td>\n",
       "      <td>manual</td>\n",
       "      <td>50.00</td>\n",
       "      <td>lupo</td>\n",
       "      <td>150000</td>\n",
       "      <td>petrol</td>\n",
       "      <td>volkswagen</td>\n",
       "      <td>no</td>\n",
       "    </tr>\n",
       "    <tr>\n",
       "      <th>324198</th>\n",
       "      <td>890</td>\n",
       "      <td>small</td>\n",
       "      <td>1996</td>\n",
       "      <td>manual</td>\n",
       "      <td>50.00</td>\n",
       "      <td>polo</td>\n",
       "      <td>150000</td>\n",
       "      <td>petrol</td>\n",
       "      <td>volkswagen</td>\n",
       "      <td>no</td>\n",
       "    </tr>\n",
       "    <tr>\n",
       "      <th>45302</th>\n",
       "      <td>1000</td>\n",
       "      <td>small</td>\n",
       "      <td>1999</td>\n",
       "      <td>manual</td>\n",
       "      <td>50.00</td>\n",
       "      <td>polo</td>\n",
       "      <td>150000</td>\n",
       "      <td>petrol</td>\n",
       "      <td>volkswagen</td>\n",
       "      <td>no</td>\n",
       "    </tr>\n",
       "    <tr>\n",
       "      <th>199739</th>\n",
       "      <td>1900</td>\n",
       "      <td>small</td>\n",
       "      <td>2001</td>\n",
       "      <td>manual</td>\n",
       "      <td>50.00</td>\n",
       "      <td>lupo</td>\n",
       "      <td>125000</td>\n",
       "      <td>petrol</td>\n",
       "      <td>volkswagen</td>\n",
       "      <td>no</td>\n",
       "    </tr>\n",
       "    <tr>\n",
       "      <th>117430</th>\n",
       "      <td>999</td>\n",
       "      <td>small</td>\n",
       "      <td>1999</td>\n",
       "      <td>manual</td>\n",
       "      <td>50.00</td>\n",
       "      <td>lupo</td>\n",
       "      <td>150000</td>\n",
       "      <td>petrol</td>\n",
       "      <td>volkswagen</td>\n",
       "      <td>no</td>\n",
       "    </tr>\n",
       "    <tr>\n",
       "      <th>87570</th>\n",
       "      <td>1999</td>\n",
       "      <td>small</td>\n",
       "      <td>2004</td>\n",
       "      <td>manual</td>\n",
       "      <td>50.00</td>\n",
       "      <td>arosa</td>\n",
       "      <td>150000</td>\n",
       "      <td>petrol</td>\n",
       "      <td>seat</td>\n",
       "      <td>no</td>\n",
       "    </tr>\n",
       "    <tr>\n",
       "      <th>87531</th>\n",
       "      <td>1200</td>\n",
       "      <td>small</td>\n",
       "      <td>2001</td>\n",
       "      <td>manual</td>\n",
       "      <td>50.00</td>\n",
       "      <td>polo</td>\n",
       "      <td>150000</td>\n",
       "      <td>petrol</td>\n",
       "      <td>volkswagen</td>\n",
       "      <td>no</td>\n",
       "    </tr>\n",
       "    <tr>\n",
       "      <th>199722</th>\n",
       "      <td>900</td>\n",
       "      <td>small</td>\n",
       "      <td>2000</td>\n",
       "      <td>manual</td>\n",
       "      <td>50.00</td>\n",
       "      <td>lupo</td>\n",
       "      <td>150000</td>\n",
       "      <td>petrol</td>\n",
       "      <td>volkswagen</td>\n",
       "      <td>unknown</td>\n",
       "    </tr>\n",
       "    <tr>\n",
       "      <th>6592</th>\n",
       "      <td>1600</td>\n",
       "      <td>small</td>\n",
       "      <td>2000</td>\n",
       "      <td>manual</td>\n",
       "      <td>50.00</td>\n",
       "      <td>polo</td>\n",
       "      <td>150000</td>\n",
       "      <td>petrol</td>\n",
       "      <td>volkswagen</td>\n",
       "      <td>no</td>\n",
       "    </tr>\n",
       "    <tr>\n",
       "      <th>63233</th>\n",
       "      <td>800</td>\n",
       "      <td>small</td>\n",
       "      <td>2001</td>\n",
       "      <td>manual</td>\n",
       "      <td>50.00</td>\n",
       "      <td>lupo</td>\n",
       "      <td>150000</td>\n",
       "      <td>petrol</td>\n",
       "      <td>volkswagen</td>\n",
       "      <td>yes</td>\n",
       "    </tr>\n",
       "    <tr>\n",
       "      <th>230296</th>\n",
       "      <td>1500</td>\n",
       "      <td>small</td>\n",
       "      <td>2001</td>\n",
       "      <td>manual</td>\n",
       "      <td>50.00</td>\n",
       "      <td>polo</td>\n",
       "      <td>150000</td>\n",
       "      <td>petrol</td>\n",
       "      <td>volkswagen</td>\n",
       "      <td>no</td>\n",
       "    </tr>\n",
       "    <tr>\n",
       "      <th>188798</th>\n",
       "      <td>100</td>\n",
       "      <td>small</td>\n",
       "      <td>1998</td>\n",
       "      <td>manual</td>\n",
       "      <td>50.00</td>\n",
       "      <td>polo</td>\n",
       "      <td>150000</td>\n",
       "      <td>petrol</td>\n",
       "      <td>volkswagen</td>\n",
       "      <td>unknown</td>\n",
       "    </tr>\n",
       "    <tr>\n",
       "      <th>117510</th>\n",
       "      <td>1300</td>\n",
       "      <td>small</td>\n",
       "      <td>1999</td>\n",
       "      <td>manual</td>\n",
       "      <td>50.00</td>\n",
       "      <td>lupo</td>\n",
       "      <td>150000</td>\n",
       "      <td>petrol</td>\n",
       "      <td>volkswagen</td>\n",
       "      <td>unknown</td>\n",
       "    </tr>\n",
       "    <tr>\n",
       "      <th>164634</th>\n",
       "      <td>1100</td>\n",
       "      <td>small</td>\n",
       "      <td>2001</td>\n",
       "      <td>manual</td>\n",
       "      <td>50.00</td>\n",
       "      <td>polo</td>\n",
       "      <td>150000</td>\n",
       "      <td>petrol</td>\n",
       "      <td>volkswagen</td>\n",
       "      <td>no</td>\n",
       "    </tr>\n",
       "    <tr>\n",
       "      <th>96621</th>\n",
       "      <td>4800</td>\n",
       "      <td>other</td>\n",
       "      <td>1980</td>\n",
       "      <td>unknown</td>\n",
       "      <td>50.00</td>\n",
       "      <td>transporter</td>\n",
       "      <td>150000</td>\n",
       "      <td>unknown</td>\n",
       "      <td>volkswagen</td>\n",
       "      <td>unknown</td>\n",
       "    </tr>\n",
       "    <tr>\n",
       "      <th>261588</th>\n",
       "      <td>1950</td>\n",
       "      <td>small</td>\n",
       "      <td>2000</td>\n",
       "      <td>manual</td>\n",
       "      <td>50.00</td>\n",
       "      <td>polo</td>\n",
       "      <td>150000</td>\n",
       "      <td>petrol</td>\n",
       "      <td>volkswagen</td>\n",
       "      <td>no</td>\n",
       "    </tr>\n",
       "    <tr>\n",
       "      <th>20879</th>\n",
       "      <td>800</td>\n",
       "      <td>small</td>\n",
       "      <td>2001</td>\n",
       "      <td>manual</td>\n",
       "      <td>50.00</td>\n",
       "      <td>fiesta</td>\n",
       "      <td>150000</td>\n",
       "      <td>petrol</td>\n",
       "      <td>ford</td>\n",
       "      <td>no</td>\n",
       "    </tr>\n",
       "    <tr>\n",
       "      <th>347761</th>\n",
       "      <td>850</td>\n",
       "      <td>small</td>\n",
       "      <td>2001</td>\n",
       "      <td>manual</td>\n",
       "      <td>50.00</td>\n",
       "      <td>polo</td>\n",
       "      <td>150000</td>\n",
       "      <td>petrol</td>\n",
       "      <td>volkswagen</td>\n",
       "      <td>no</td>\n",
       "    </tr>\n",
       "    <tr>\n",
       "      <th>261637</th>\n",
       "      <td>1000</td>\n",
       "      <td>small</td>\n",
       "      <td>2002</td>\n",
       "      <td>manual</td>\n",
       "      <td>50.00</td>\n",
       "      <td>arosa</td>\n",
       "      <td>150000</td>\n",
       "      <td>petrol</td>\n",
       "      <td>seat</td>\n",
       "      <td>no</td>\n",
       "    </tr>\n",
       "    <tr>\n",
       "      <th>6524</th>\n",
       "      <td>500</td>\n",
       "      <td>small</td>\n",
       "      <td>1999</td>\n",
       "      <td>manual</td>\n",
       "      <td>50.00</td>\n",
       "      <td>polo</td>\n",
       "      <td>150000</td>\n",
       "      <td>petrol</td>\n",
       "      <td>volkswagen</td>\n",
       "      <td>yes</td>\n",
       "    </tr>\n",
       "    <tr>\n",
       "      <th>45093</th>\n",
       "      <td>690</td>\n",
       "      <td>small</td>\n",
       "      <td>1998</td>\n",
       "      <td>manual</td>\n",
       "      <td>50.00</td>\n",
       "      <td>fiesta</td>\n",
       "      <td>150000</td>\n",
       "      <td>petrol</td>\n",
       "      <td>ford</td>\n",
       "      <td>no</td>\n",
       "    </tr>\n",
       "    <tr>\n",
       "      <th>180903</th>\n",
       "      <td>650</td>\n",
       "      <td>small</td>\n",
       "      <td>1999</td>\n",
       "      <td>manual</td>\n",
       "      <td>50.00</td>\n",
       "      <td>arosa</td>\n",
       "      <td>150000</td>\n",
       "      <td>petrol</td>\n",
       "      <td>seat</td>\n",
       "      <td>yes</td>\n",
       "    </tr>\n",
       "    <tr>\n",
       "      <th>137771</th>\n",
       "      <td>1000</td>\n",
       "      <td>small</td>\n",
       "      <td>1997</td>\n",
       "      <td>manual</td>\n",
       "      <td>50.00</td>\n",
       "      <td>polo</td>\n",
       "      <td>150000</td>\n",
       "      <td>petrol</td>\n",
       "      <td>volkswagen</td>\n",
       "      <td>no</td>\n",
       "    </tr>\n",
       "    <tr>\n",
       "      <th>279551</th>\n",
       "      <td>890</td>\n",
       "      <td>small</td>\n",
       "      <td>1999</td>\n",
       "      <td>manual</td>\n",
       "      <td>50.00</td>\n",
       "      <td>polo</td>\n",
       "      <td>150000</td>\n",
       "      <td>petrol</td>\n",
       "      <td>volkswagen</td>\n",
       "      <td>unknown</td>\n",
       "    </tr>\n",
       "    <tr>\n",
       "      <th>306880</th>\n",
       "      <td>1250</td>\n",
       "      <td>small</td>\n",
       "      <td>2001</td>\n",
       "      <td>manual</td>\n",
       "      <td>50.00</td>\n",
       "      <td>lupo</td>\n",
       "      <td>150000</td>\n",
       "      <td>petrol</td>\n",
       "      <td>volkswagen</td>\n",
       "      <td>no</td>\n",
       "    </tr>\n",
       "    <tr>\n",
       "      <th>229972</th>\n",
       "      <td>700</td>\n",
       "      <td>small</td>\n",
       "      <td>1999</td>\n",
       "      <td>manual</td>\n",
       "      <td>50.00</td>\n",
       "      <td>arosa</td>\n",
       "      <td>150000</td>\n",
       "      <td>petrol</td>\n",
       "      <td>seat</td>\n",
       "      <td>no</td>\n",
       "    </tr>\n",
       "    <tr>\n",
       "      <th>87033</th>\n",
       "      <td>950</td>\n",
       "      <td>small</td>\n",
       "      <td>1999</td>\n",
       "      <td>manual</td>\n",
       "      <td>50.00</td>\n",
       "      <td>lupo</td>\n",
       "      <td>150000</td>\n",
       "      <td>petrol</td>\n",
       "      <td>volkswagen</td>\n",
       "      <td>yes</td>\n",
       "    </tr>\n",
       "    <tr>\n",
       "      <th>147405</th>\n",
       "      <td>850</td>\n",
       "      <td>small</td>\n",
       "      <td>1998</td>\n",
       "      <td>manual</td>\n",
       "      <td>50.00</td>\n",
       "      <td>lupo</td>\n",
       "      <td>150000</td>\n",
       "      <td>petrol</td>\n",
       "      <td>volkswagen</td>\n",
       "      <td>no</td>\n",
       "    </tr>\n",
       "    <tr>\n",
       "      <th>118380</th>\n",
       "      <td>1200</td>\n",
       "      <td>small</td>\n",
       "      <td>2000</td>\n",
       "      <td>manual</td>\n",
       "      <td>50.00</td>\n",
       "      <td>polo</td>\n",
       "      <td>150000</td>\n",
       "      <td>petrol</td>\n",
       "      <td>volkswagen</td>\n",
       "      <td>no</td>\n",
       "    </tr>\n",
       "    <tr>\n",
       "      <th>323390</th>\n",
       "      <td>550</td>\n",
       "      <td>small</td>\n",
       "      <td>1998</td>\n",
       "      <td>manual</td>\n",
       "      <td>50.00</td>\n",
       "      <td>polo</td>\n",
       "      <td>150000</td>\n",
       "      <td>petrol</td>\n",
       "      <td>volkswagen</td>\n",
       "      <td>unknown</td>\n",
       "    </tr>\n",
       "    <tr>\n",
       "      <th>118393</th>\n",
       "      <td>1780</td>\n",
       "      <td>small</td>\n",
       "      <td>2000</td>\n",
       "      <td>manual</td>\n",
       "      <td>50.00</td>\n",
       "      <td>polo</td>\n",
       "      <td>150000</td>\n",
       "      <td>petrol</td>\n",
       "      <td>volkswagen</td>\n",
       "      <td>no</td>\n",
       "    </tr>\n",
       "    <tr>\n",
       "      <th>180305</th>\n",
       "      <td>1690</td>\n",
       "      <td>small</td>\n",
       "      <td>2002</td>\n",
       "      <td>manual</td>\n",
       "      <td>50.00</td>\n",
       "      <td>lupo</td>\n",
       "      <td>150000</td>\n",
       "      <td>petrol</td>\n",
       "      <td>volkswagen</td>\n",
       "      <td>no</td>\n",
       "    </tr>\n",
       "    <tr>\n",
       "      <th>44318</th>\n",
       "      <td>999</td>\n",
       "      <td>small</td>\n",
       "      <td>2000</td>\n",
       "      <td>manual</td>\n",
       "      <td>50.00</td>\n",
       "      <td>lupo</td>\n",
       "      <td>150000</td>\n",
       "      <td>petrol</td>\n",
       "      <td>volkswagen</td>\n",
       "      <td>no</td>\n",
       "    </tr>\n",
       "    <tr>\n",
       "      <th>332807</th>\n",
       "      <td>1150</td>\n",
       "      <td>small</td>\n",
       "      <td>1999</td>\n",
       "      <td>manual</td>\n",
       "      <td>50.00</td>\n",
       "      <td>lupo</td>\n",
       "      <td>150000</td>\n",
       "      <td>petrol</td>\n",
       "      <td>volkswagen</td>\n",
       "      <td>unknown</td>\n",
       "    </tr>\n",
       "    <tr>\n",
       "      <th>54165</th>\n",
       "      <td>1250</td>\n",
       "      <td>small</td>\n",
       "      <td>2000</td>\n",
       "      <td>manual</td>\n",
       "      <td>50.00</td>\n",
       "      <td>polo</td>\n",
       "      <td>150000</td>\n",
       "      <td>petrol</td>\n",
       "      <td>volkswagen</td>\n",
       "      <td>no</td>\n",
       "    </tr>\n",
       "    <tr>\n",
       "      <th>307424</th>\n",
       "      <td>1300</td>\n",
       "      <td>small</td>\n",
       "      <td>2002</td>\n",
       "      <td>manual</td>\n",
       "      <td>50.00</td>\n",
       "      <td>lupo</td>\n",
       "      <td>150000</td>\n",
       "      <td>petrol</td>\n",
       "      <td>volkswagen</td>\n",
       "      <td>yes</td>\n",
       "    </tr>\n",
       "    <tr>\n",
       "      <th>262408</th>\n",
       "      <td>900</td>\n",
       "      <td>small</td>\n",
       "      <td>2001</td>\n",
       "      <td>manual</td>\n",
       "      <td>50.00</td>\n",
       "      <td>lupo</td>\n",
       "      <td>150000</td>\n",
       "      <td>petrol</td>\n",
       "      <td>volkswagen</td>\n",
       "      <td>no</td>\n",
       "    </tr>\n",
       "    <tr>\n",
       "      <th>189226</th>\n",
       "      <td>1049</td>\n",
       "      <td>small</td>\n",
       "      <td>1998</td>\n",
       "      <td>manual</td>\n",
       "      <td>50.00</td>\n",
       "      <td>arosa</td>\n",
       "      <td>150000</td>\n",
       "      <td>petrol</td>\n",
       "      <td>seat</td>\n",
       "      <td>unknown</td>\n",
       "    </tr>\n",
       "    <tr>\n",
       "      <th>28704</th>\n",
       "      <td>1700</td>\n",
       "      <td>small</td>\n",
       "      <td>2000</td>\n",
       "      <td>manual</td>\n",
       "      <td>50.00</td>\n",
       "      <td>lupo</td>\n",
       "      <td>150000</td>\n",
       "      <td>petrol</td>\n",
       "      <td>volkswagen</td>\n",
       "      <td>no</td>\n",
       "    </tr>\n",
       "    <tr>\n",
       "      <th>13250</th>\n",
       "      <td>850</td>\n",
       "      <td>small</td>\n",
       "      <td>1999</td>\n",
       "      <td>manual</td>\n",
       "      <td>50.00</td>\n",
       "      <td>lupo</td>\n",
       "      <td>150000</td>\n",
       "      <td>petrol</td>\n",
       "      <td>volkswagen</td>\n",
       "      <td>no</td>\n",
       "    </tr>\n",
       "    <tr>\n",
       "      <th>323202</th>\n",
       "      <td>290</td>\n",
       "      <td>small</td>\n",
       "      <td>2000</td>\n",
       "      <td>manual</td>\n",
       "      <td>50.00</td>\n",
       "      <td>lupo</td>\n",
       "      <td>150000</td>\n",
       "      <td>petrol</td>\n",
       "      <td>volkswagen</td>\n",
       "      <td>yes</td>\n",
       "    </tr>\n",
       "    <tr>\n",
       "      <th>348373</th>\n",
       "      <td>1200</td>\n",
       "      <td>small</td>\n",
       "      <td>2000</td>\n",
       "      <td>manual</td>\n",
       "      <td>50.00</td>\n",
       "      <td>lupo</td>\n",
       "      <td>150000</td>\n",
       "      <td>petrol</td>\n",
       "      <td>volkswagen</td>\n",
       "      <td>no</td>\n",
       "    </tr>\n",
       "    <tr>\n",
       "      <th>323173</th>\n",
       "      <td>950</td>\n",
       "      <td>small</td>\n",
       "      <td>1997</td>\n",
       "      <td>manual</td>\n",
       "      <td>50.00</td>\n",
       "      <td>polo</td>\n",
       "      <td>125000</td>\n",
       "      <td>petrol</td>\n",
       "      <td>volkswagen</td>\n",
       "      <td>no</td>\n",
       "    </tr>\n",
       "    <tr>\n",
       "      <th>86652</th>\n",
       "      <td>750</td>\n",
       "      <td>small</td>\n",
       "      <td>2002</td>\n",
       "      <td>manual</td>\n",
       "      <td>50.00</td>\n",
       "      <td>fiesta</td>\n",
       "      <td>150000</td>\n",
       "      <td>petrol</td>\n",
       "      <td>ford</td>\n",
       "      <td>no</td>\n",
       "    </tr>\n",
       "    <tr>\n",
       "      <th>28871</th>\n",
       "      <td>750</td>\n",
       "      <td>small</td>\n",
       "      <td>1992</td>\n",
       "      <td>manual</td>\n",
       "      <td>50.00</td>\n",
       "      <td>fiesta</td>\n",
       "      <td>150000</td>\n",
       "      <td>unknown</td>\n",
       "      <td>ford</td>\n",
       "      <td>unknown</td>\n",
       "    </tr>\n",
       "    <tr>\n",
       "      <th>165405</th>\n",
       "      <td>700</td>\n",
       "      <td>small</td>\n",
       "      <td>2000</td>\n",
       "      <td>manual</td>\n",
       "      <td>50.00</td>\n",
       "      <td>polo</td>\n",
       "      <td>150000</td>\n",
       "      <td>petrol</td>\n",
       "      <td>volkswagen</td>\n",
       "      <td>no</td>\n",
       "    </tr>\n",
       "    <tr>\n",
       "      <th>28895</th>\n",
       "      <td>1600</td>\n",
       "      <td>small</td>\n",
       "      <td>2000</td>\n",
       "      <td>manual</td>\n",
       "      <td>50.00</td>\n",
       "      <td>lupo</td>\n",
       "      <td>150000</td>\n",
       "      <td>petrol</td>\n",
       "      <td>volkswagen</td>\n",
       "      <td>no</td>\n",
       "    </tr>\n",
       "    <tr>\n",
       "      <th>297118</th>\n",
       "      <td>999</td>\n",
       "      <td>small</td>\n",
       "      <td>2000</td>\n",
       "      <td>manual</td>\n",
       "      <td>50.00</td>\n",
       "      <td>polo</td>\n",
       "      <td>150000</td>\n",
       "      <td>petrol</td>\n",
       "      <td>volkswagen</td>\n",
       "      <td>no</td>\n",
       "    </tr>\n",
       "    <tr>\n",
       "      <th>241427</th>\n",
       "      <td>450</td>\n",
       "      <td>small</td>\n",
       "      <td>1997</td>\n",
       "      <td>manual</td>\n",
       "      <td>50.00</td>\n",
       "      <td>polo</td>\n",
       "      <td>150000</td>\n",
       "      <td>petrol</td>\n",
       "      <td>volkswagen</td>\n",
       "      <td>no</td>\n",
       "    </tr>\n",
       "    <tr>\n",
       "      <th>278716</th>\n",
       "      <td>1999</td>\n",
       "      <td>small</td>\n",
       "      <td>2004</td>\n",
       "      <td>manual</td>\n",
       "      <td>50.00</td>\n",
       "      <td>arosa</td>\n",
       "      <td>150000</td>\n",
       "      <td>petrol</td>\n",
       "      <td>seat</td>\n",
       "      <td>no</td>\n",
       "    </tr>\n",
       "    <tr>\n",
       "      <th>229200</th>\n",
       "      <td>1100</td>\n",
       "      <td>small</td>\n",
       "      <td>1999</td>\n",
       "      <td>manual</td>\n",
       "      <td>50.00</td>\n",
       "      <td>lupo</td>\n",
       "      <td>150000</td>\n",
       "      <td>petrol</td>\n",
       "      <td>volkswagen</td>\n",
       "      <td>no</td>\n",
       "    </tr>\n",
       "    <tr>\n",
       "      <th>189229</th>\n",
       "      <td>1850</td>\n",
       "      <td>small</td>\n",
       "      <td>2001</td>\n",
       "      <td>manual</td>\n",
       "      <td>50.00</td>\n",
       "      <td>polo</td>\n",
       "      <td>150000</td>\n",
       "      <td>petrol</td>\n",
       "      <td>volkswagen</td>\n",
       "      <td>no</td>\n",
       "    </tr>\n",
       "    <tr>\n",
       "      <th>287665</th>\n",
       "      <td>750</td>\n",
       "      <td>small</td>\n",
       "      <td>2001</td>\n",
       "      <td>manual</td>\n",
       "      <td>50.00</td>\n",
       "      <td>arosa</td>\n",
       "      <td>150000</td>\n",
       "      <td>petrol</td>\n",
       "      <td>seat</td>\n",
       "      <td>no</td>\n",
       "    </tr>\n",
       "    <tr>\n",
       "      <th>147397</th>\n",
       "      <td>750</td>\n",
       "      <td>small</td>\n",
       "      <td>1999</td>\n",
       "      <td>manual</td>\n",
       "      <td>50.00</td>\n",
       "      <td>polo</td>\n",
       "      <td>150000</td>\n",
       "      <td>petrol</td>\n",
       "      <td>volkswagen</td>\n",
       "      <td>no</td>\n",
       "    </tr>\n",
       "    <tr>\n",
       "      <th>118258</th>\n",
       "      <td>1499</td>\n",
       "      <td>small</td>\n",
       "      <td>1996</td>\n",
       "      <td>manual</td>\n",
       "      <td>50.00</td>\n",
       "      <td>polo</td>\n",
       "      <td>150000</td>\n",
       "      <td>petrol</td>\n",
       "      <td>volkswagen</td>\n",
       "      <td>no</td>\n",
       "    </tr>\n",
       "    <tr>\n",
       "      <th>180604</th>\n",
       "      <td>399</td>\n",
       "      <td>small</td>\n",
       "      <td>2000</td>\n",
       "      <td>manual</td>\n",
       "      <td>50.00</td>\n",
       "      <td>polo</td>\n",
       "      <td>150000</td>\n",
       "      <td>petrol</td>\n",
       "      <td>volkswagen</td>\n",
       "      <td>yes</td>\n",
       "    </tr>\n",
       "    <tr>\n",
       "      <th>199310</th>\n",
       "      <td>850</td>\n",
       "      <td>small</td>\n",
       "      <td>1999</td>\n",
       "      <td>manual</td>\n",
       "      <td>50.00</td>\n",
       "      <td>lupo</td>\n",
       "      <td>150000</td>\n",
       "      <td>petrol</td>\n",
       "      <td>volkswagen</td>\n",
       "      <td>no</td>\n",
       "    </tr>\n",
       "    <tr>\n",
       "      <th>157074</th>\n",
       "      <td>1800</td>\n",
       "      <td>small</td>\n",
       "      <td>2004</td>\n",
       "      <td>manual</td>\n",
       "      <td>50.00</td>\n",
       "      <td>arosa</td>\n",
       "      <td>125000</td>\n",
       "      <td>petrol</td>\n",
       "      <td>seat</td>\n",
       "      <td>unknown</td>\n",
       "    </tr>\n",
       "    <tr>\n",
       "      <th>306924</th>\n",
       "      <td>1150</td>\n",
       "      <td>small</td>\n",
       "      <td>2002</td>\n",
       "      <td>manual</td>\n",
       "      <td>50.00</td>\n",
       "      <td>fiesta</td>\n",
       "      <td>150000</td>\n",
       "      <td>petrol</td>\n",
       "      <td>ford</td>\n",
       "      <td>no</td>\n",
       "    </tr>\n",
       "    <tr>\n",
       "      <th>307000</th>\n",
       "      <td>1599</td>\n",
       "      <td>small</td>\n",
       "      <td>2003</td>\n",
       "      <td>manual</td>\n",
       "      <td>50.00</td>\n",
       "      <td>arosa</td>\n",
       "      <td>150000</td>\n",
       "      <td>petrol</td>\n",
       "      <td>seat</td>\n",
       "      <td>no</td>\n",
       "    </tr>\n",
       "    <tr>\n",
       "      <th>209611</th>\n",
       "      <td>850</td>\n",
       "      <td>small</td>\n",
       "      <td>1999</td>\n",
       "      <td>manual</td>\n",
       "      <td>50.00</td>\n",
       "      <td>arosa</td>\n",
       "      <td>150000</td>\n",
       "      <td>petrol</td>\n",
       "      <td>seat</td>\n",
       "      <td>no</td>\n",
       "    </tr>\n",
       "    <tr>\n",
       "      <th>241127</th>\n",
       "      <td>1200</td>\n",
       "      <td>small</td>\n",
       "      <td>1999</td>\n",
       "      <td>manual</td>\n",
       "      <td>50.00</td>\n",
       "      <td>polo</td>\n",
       "      <td>150000</td>\n",
       "      <td>petrol</td>\n",
       "      <td>volkswagen</td>\n",
       "      <td>no</td>\n",
       "    </tr>\n",
       "    <tr>\n",
       "      <th>13105</th>\n",
       "      <td>1550</td>\n",
       "      <td>small</td>\n",
       "      <td>2000</td>\n",
       "      <td>manual</td>\n",
       "      <td>50.00</td>\n",
       "      <td>polo</td>\n",
       "      <td>150000</td>\n",
       "      <td>petrol</td>\n",
       "      <td>volkswagen</td>\n",
       "      <td>no</td>\n",
       "    </tr>\n",
       "    <tr>\n",
       "      <th>229787</th>\n",
       "      <td>1350</td>\n",
       "      <td>small</td>\n",
       "      <td>2001</td>\n",
       "      <td>manual</td>\n",
       "      <td>50.00</td>\n",
       "      <td>lupo</td>\n",
       "      <td>150000</td>\n",
       "      <td>petrol</td>\n",
       "      <td>volkswagen</td>\n",
       "      <td>no</td>\n",
       "    </tr>\n",
       "    <tr>\n",
       "      <th>118153</th>\n",
       "      <td>550</td>\n",
       "      <td>small</td>\n",
       "      <td>1997</td>\n",
       "      <td>manual</td>\n",
       "      <td>50.00</td>\n",
       "      <td>polo</td>\n",
       "      <td>150000</td>\n",
       "      <td>petrol</td>\n",
       "      <td>volkswagen</td>\n",
       "      <td>no</td>\n",
       "    </tr>\n",
       "    <tr>\n",
       "      <th>86944</th>\n",
       "      <td>890</td>\n",
       "      <td>small</td>\n",
       "      <td>1997</td>\n",
       "      <td>manual</td>\n",
       "      <td>50.00</td>\n",
       "      <td>polo</td>\n",
       "      <td>150000</td>\n",
       "      <td>petrol</td>\n",
       "      <td>volkswagen</td>\n",
       "      <td>no</td>\n",
       "    </tr>\n",
       "    <tr>\n",
       "      <th>279110</th>\n",
       "      <td>2690</td>\n",
       "      <td>small</td>\n",
       "      <td>2006</td>\n",
       "      <td>auto</td>\n",
       "      <td>50.00</td>\n",
       "      <td>fortwo</td>\n",
       "      <td>80000</td>\n",
       "      <td>petrol</td>\n",
       "      <td>smart</td>\n",
       "      <td>unknown</td>\n",
       "    </tr>\n",
       "    <tr>\n",
       "      <th>229758</th>\n",
       "      <td>1850</td>\n",
       "      <td>small</td>\n",
       "      <td>2000</td>\n",
       "      <td>manual</td>\n",
       "      <td>50.00</td>\n",
       "      <td>polo</td>\n",
       "      <td>150000</td>\n",
       "      <td>petrol</td>\n",
       "      <td>volkswagen</td>\n",
       "      <td>unknown</td>\n",
       "    </tr>\n",
       "    <tr>\n",
       "      <th>13144</th>\n",
       "      <td>1500</td>\n",
       "      <td>small</td>\n",
       "      <td>2000</td>\n",
       "      <td>manual</td>\n",
       "      <td>50.00</td>\n",
       "      <td>polo</td>\n",
       "      <td>150000</td>\n",
       "      <td>petrol</td>\n",
       "      <td>volkswagen</td>\n",
       "      <td>no</td>\n",
       "    </tr>\n",
       "    <tr>\n",
       "      <th>199142</th>\n",
       "      <td>1500</td>\n",
       "      <td>small</td>\n",
       "      <td>2000</td>\n",
       "      <td>manual</td>\n",
       "      <td>50.00</td>\n",
       "      <td>lupo</td>\n",
       "      <td>150000</td>\n",
       "      <td>petrol</td>\n",
       "      <td>volkswagen</td>\n",
       "      <td>no</td>\n",
       "    </tr>\n",
       "  </tbody>\n",
       "</table>\n",
       "</div>"
      ],
      "text/plain": [
       "        Price VehicleType  RegistrationYear  Gearbox  Power        Model  \\\n",
       "20161     550       small              1998   manual  50.00         polo   \n",
       "87315    1000       small              2000   manual  50.00         polo   \n",
       "209210    999       small              1999   manual  50.00         lupo   \n",
       "180814    300       other              2016   manual  50.00         polo   \n",
       "12978    1250       small              2000   manual  50.00         lupo   \n",
       "240761   1299       small              2001   manual  50.00         polo   \n",
       "188910   1150       small              1997   manual  50.00         polo   \n",
       "240843    890       small              1999   manual  50.00         lupo   \n",
       "188915    750       small              1998   manual  50.00           ka   \n",
       "180764   1150       small              1999   manual  50.00         lupo   \n",
       "63090    1280       small              2000   manual  50.00         lupo   \n",
       "6400     1599       small              2003   manual  50.00         lupo   \n",
       "279443   1350       small              2001   manual  50.00         lupo   \n",
       "147068    600       small              1999   manual  50.00         lupo   \n",
       "87165     300       small              1999   manual  50.00         lupo   \n",
       "53838    1850       small              2001   manual  50.00         polo   \n",
       "279357    999       small              2000   manual  50.00        arosa   \n",
       "297505    550       small              2001   manual  50.00         lupo   \n",
       "44921    1199       small              2002   manual  50.00         lupo   \n",
       "230054   1750       small              2001   manual  50.00         lupo   \n",
       "323761    990       small              1998   manual  50.00        arosa   \n",
       "107390    650       small              1999   manual  50.00         polo   \n",
       "241019   1500       small              1999   manual  50.00         polo   \n",
       "44840     990       small              1997   manual  50.00       fiesta   \n",
       "117833    650       small              1999   manual  50.00         polo   \n",
       "306769    300       small              1998   manual  50.00       fiesta   \n",
       "13074    1000       small              1998   manual  50.00         lupo   \n",
       "53687    1250       small              1999   manual  50.00         polo   \n",
       "279476    650       small              1999   manual  50.00        arosa   \n",
       "306236    500       small              2002   manual  50.00         lupo   \n",
       "70744    1250       small              1999   manual  50.00         lupo   \n",
       "324198    890       small              1996   manual  50.00         polo   \n",
       "45302    1000       small              1999   manual  50.00         polo   \n",
       "199739   1900       small              2001   manual  50.00         lupo   \n",
       "117430    999       small              1999   manual  50.00         lupo   \n",
       "87570    1999       small              2004   manual  50.00        arosa   \n",
       "87531    1200       small              2001   manual  50.00         polo   \n",
       "199722    900       small              2000   manual  50.00         lupo   \n",
       "6592     1600       small              2000   manual  50.00         polo   \n",
       "63233     800       small              2001   manual  50.00         lupo   \n",
       "230296   1500       small              2001   manual  50.00         polo   \n",
       "188798    100       small              1998   manual  50.00         polo   \n",
       "117510   1300       small              1999   manual  50.00         lupo   \n",
       "164634   1100       small              2001   manual  50.00         polo   \n",
       "96621    4800       other              1980  unknown  50.00  transporter   \n",
       "261588   1950       small              2000   manual  50.00         polo   \n",
       "20879     800       small              2001   manual  50.00       fiesta   \n",
       "347761    850       small              2001   manual  50.00         polo   \n",
       "261637   1000       small              2002   manual  50.00        arosa   \n",
       "6524      500       small              1999   manual  50.00         polo   \n",
       "45093     690       small              1998   manual  50.00       fiesta   \n",
       "180903    650       small              1999   manual  50.00        arosa   \n",
       "137771   1000       small              1997   manual  50.00         polo   \n",
       "279551    890       small              1999   manual  50.00         polo   \n",
       "306880   1250       small              2001   manual  50.00         lupo   \n",
       "229972    700       small              1999   manual  50.00        arosa   \n",
       "87033     950       small              1999   manual  50.00         lupo   \n",
       "147405    850       small              1998   manual  50.00         lupo   \n",
       "118380   1200       small              2000   manual  50.00         polo   \n",
       "323390    550       small              1998   manual  50.00         polo   \n",
       "118393   1780       small              2000   manual  50.00         polo   \n",
       "180305   1690       small              2002   manual  50.00         lupo   \n",
       "44318     999       small              2000   manual  50.00         lupo   \n",
       "332807   1150       small              1999   manual  50.00         lupo   \n",
       "54165    1250       small              2000   manual  50.00         polo   \n",
       "307424   1300       small              2002   manual  50.00         lupo   \n",
       "262408    900       small              2001   manual  50.00         lupo   \n",
       "189226   1049       small              1998   manual  50.00        arosa   \n",
       "28704    1700       small              2000   manual  50.00         lupo   \n",
       "13250     850       small              1999   manual  50.00         lupo   \n",
       "323202    290       small              2000   manual  50.00         lupo   \n",
       "348373   1200       small              2000   manual  50.00         lupo   \n",
       "323173    950       small              1997   manual  50.00         polo   \n",
       "86652     750       small              2002   manual  50.00       fiesta   \n",
       "28871     750       small              1992   manual  50.00       fiesta   \n",
       "165405    700       small              2000   manual  50.00         polo   \n",
       "28895    1600       small              2000   manual  50.00         lupo   \n",
       "297118    999       small              2000   manual  50.00         polo   \n",
       "241427    450       small              1997   manual  50.00         polo   \n",
       "278716   1999       small              2004   manual  50.00        arosa   \n",
       "229200   1100       small              1999   manual  50.00         lupo   \n",
       "189229   1850       small              2001   manual  50.00         polo   \n",
       "287665    750       small              2001   manual  50.00        arosa   \n",
       "147397    750       small              1999   manual  50.00         polo   \n",
       "118258   1499       small              1996   manual  50.00         polo   \n",
       "180604    399       small              2000   manual  50.00         polo   \n",
       "199310    850       small              1999   manual  50.00         lupo   \n",
       "157074   1800       small              2004   manual  50.00        arosa   \n",
       "306924   1150       small              2002   manual  50.00       fiesta   \n",
       "307000   1599       small              2003   manual  50.00        arosa   \n",
       "209611    850       small              1999   manual  50.00        arosa   \n",
       "241127   1200       small              1999   manual  50.00         polo   \n",
       "13105    1550       small              2000   manual  50.00         polo   \n",
       "229787   1350       small              2001   manual  50.00         lupo   \n",
       "118153    550       small              1997   manual  50.00         polo   \n",
       "86944     890       small              1997   manual  50.00         polo   \n",
       "279110   2690       small              2006     auto  50.00       fortwo   \n",
       "229758   1850       small              2000   manual  50.00         polo   \n",
       "13144    1500       small              2000   manual  50.00         polo   \n",
       "199142   1500       small              2000   manual  50.00         lupo   \n",
       "\n",
       "        Kilometer FuelType       Brand Repaired  \n",
       "20161      150000   petrol  volkswagen  unknown  \n",
       "87315      150000   petrol  volkswagen       no  \n",
       "209210     150000   petrol  volkswagen       no  \n",
       "180814     150000   petrol  volkswagen  unknown  \n",
       "12978      150000   petrol  volkswagen       no  \n",
       "240761     150000   petrol  volkswagen       no  \n",
       "188910     125000   petrol  volkswagen       no  \n",
       "240843     150000   petrol  volkswagen       no  \n",
       "188915      80000   petrol        ford       no  \n",
       "180764     150000   petrol  volkswagen       no  \n",
       "63090      150000   petrol  volkswagen  unknown  \n",
       "6400       150000   petrol  volkswagen       no  \n",
       "279443     150000   petrol  volkswagen       no  \n",
       "147068     150000   petrol  volkswagen       no  \n",
       "87165      150000   petrol  volkswagen      yes  \n",
       "53838      150000   petrol  volkswagen       no  \n",
       "279357     150000   petrol        seat       no  \n",
       "297505     150000   petrol  volkswagen      yes  \n",
       "44921      150000   petrol  volkswagen       no  \n",
       "230054     150000   petrol  volkswagen       no  \n",
       "323761     150000   petrol        seat       no  \n",
       "107390     150000   petrol  volkswagen  unknown  \n",
       "241019     125000   petrol  volkswagen       no  \n",
       "44840       90000   petrol        ford       no  \n",
       "117833     150000   petrol  volkswagen       no  \n",
       "306769     150000   petrol        ford  unknown  \n",
       "13074      150000   petrol  volkswagen       no  \n",
       "53687      150000   petrol  volkswagen       no  \n",
       "279476     150000   petrol        seat       no  \n",
       "306236     150000   petrol  volkswagen      yes  \n",
       "70744      150000   petrol  volkswagen       no  \n",
       "324198     150000   petrol  volkswagen       no  \n",
       "45302      150000   petrol  volkswagen       no  \n",
       "199739     125000   petrol  volkswagen       no  \n",
       "117430     150000   petrol  volkswagen       no  \n",
       "87570      150000   petrol        seat       no  \n",
       "87531      150000   petrol  volkswagen       no  \n",
       "199722     150000   petrol  volkswagen  unknown  \n",
       "6592       150000   petrol  volkswagen       no  \n",
       "63233      150000   petrol  volkswagen      yes  \n",
       "230296     150000   petrol  volkswagen       no  \n",
       "188798     150000   petrol  volkswagen  unknown  \n",
       "117510     150000   petrol  volkswagen  unknown  \n",
       "164634     150000   petrol  volkswagen       no  \n",
       "96621      150000  unknown  volkswagen  unknown  \n",
       "261588     150000   petrol  volkswagen       no  \n",
       "20879      150000   petrol        ford       no  \n",
       "347761     150000   petrol  volkswagen       no  \n",
       "261637     150000   petrol        seat       no  \n",
       "6524       150000   petrol  volkswagen      yes  \n",
       "45093      150000   petrol        ford       no  \n",
       "180903     150000   petrol        seat      yes  \n",
       "137771     150000   petrol  volkswagen       no  \n",
       "279551     150000   petrol  volkswagen  unknown  \n",
       "306880     150000   petrol  volkswagen       no  \n",
       "229972     150000   petrol        seat       no  \n",
       "87033      150000   petrol  volkswagen      yes  \n",
       "147405     150000   petrol  volkswagen       no  \n",
       "118380     150000   petrol  volkswagen       no  \n",
       "323390     150000   petrol  volkswagen  unknown  \n",
       "118393     150000   petrol  volkswagen       no  \n",
       "180305     150000   petrol  volkswagen       no  \n",
       "44318      150000   petrol  volkswagen       no  \n",
       "332807     150000   petrol  volkswagen  unknown  \n",
       "54165      150000   petrol  volkswagen       no  \n",
       "307424     150000   petrol  volkswagen      yes  \n",
       "262408     150000   petrol  volkswagen       no  \n",
       "189226     150000   petrol        seat  unknown  \n",
       "28704      150000   petrol  volkswagen       no  \n",
       "13250      150000   petrol  volkswagen       no  \n",
       "323202     150000   petrol  volkswagen      yes  \n",
       "348373     150000   petrol  volkswagen       no  \n",
       "323173     125000   petrol  volkswagen       no  \n",
       "86652      150000   petrol        ford       no  \n",
       "28871      150000  unknown        ford  unknown  \n",
       "165405     150000   petrol  volkswagen       no  \n",
       "28895      150000   petrol  volkswagen       no  \n",
       "297118     150000   petrol  volkswagen       no  \n",
       "241427     150000   petrol  volkswagen       no  \n",
       "278716     150000   petrol        seat       no  \n",
       "229200     150000   petrol  volkswagen       no  \n",
       "189229     150000   petrol  volkswagen       no  \n",
       "287665     150000   petrol        seat       no  \n",
       "147397     150000   petrol  volkswagen       no  \n",
       "118258     150000   petrol  volkswagen       no  \n",
       "180604     150000   petrol  volkswagen      yes  \n",
       "199310     150000   petrol  volkswagen       no  \n",
       "157074     125000   petrol        seat  unknown  \n",
       "306924     150000   petrol        ford       no  \n",
       "307000     150000   petrol        seat       no  \n",
       "209611     150000   petrol        seat       no  \n",
       "241127     150000   petrol  volkswagen       no  \n",
       "13105      150000   petrol  volkswagen       no  \n",
       "229787     150000   petrol  volkswagen       no  \n",
       "118153     150000   petrol  volkswagen       no  \n",
       "86944      150000   petrol  volkswagen       no  \n",
       "279110      80000   petrol       smart  unknown  \n",
       "229758     150000   petrol  volkswagen  unknown  \n",
       "13144      150000   petrol  volkswagen       no  \n",
       "199142     150000   petrol  volkswagen       no  "
      ]
     },
     "execution_count": 45,
     "metadata": {},
     "output_type": "execute_result"
    }
   ],
   "source": [
    "data[data.duplicated(keep=False)].sort_values(by='Power').head(100)"
   ]
  },
  {
   "cell_type": "code",
   "execution_count": 46,
   "metadata": {},
   "outputs": [],
   "source": [
    "# удалим дубликаты\n",
    "data_2 = data.drop_duplicates().reset_index(drop=True)"
   ]
  },
  {
   "cell_type": "code",
   "execution_count": 47,
   "metadata": {},
   "outputs": [
    {
     "data": {
      "text/plain": [
       "(282895, 10)"
      ]
     },
     "execution_count": 47,
     "metadata": {},
     "output_type": "execute_result"
    }
   ],
   "source": [
    "# размер df после обработки\n",
    "data_2.shape"
   ]
  },
  {
   "cell_type": "code",
   "execution_count": 48,
   "metadata": {},
   "outputs": [
    {
     "data": {
      "text/html": [
       "<div>\n",
       "<style scoped>\n",
       "    .dataframe tbody tr th:only-of-type {\n",
       "        vertical-align: middle;\n",
       "    }\n",
       "\n",
       "    .dataframe tbody tr th {\n",
       "        vertical-align: top;\n",
       "    }\n",
       "\n",
       "    .dataframe thead th {\n",
       "        text-align: right;\n",
       "    }\n",
       "</style>\n",
       "<table border=\"1\" class=\"dataframe\">\n",
       "  <thead>\n",
       "    <tr style=\"text-align: right;\">\n",
       "      <th></th>\n",
       "      <th>Price</th>\n",
       "      <th>VehicleType</th>\n",
       "      <th>RegistrationYear</th>\n",
       "      <th>Gearbox</th>\n",
       "      <th>Power</th>\n",
       "      <th>Model</th>\n",
       "      <th>Kilometer</th>\n",
       "      <th>FuelType</th>\n",
       "      <th>Brand</th>\n",
       "      <th>Repaired</th>\n",
       "    </tr>\n",
       "  </thead>\n",
       "  <tbody>\n",
       "    <tr>\n",
       "      <th>0</th>\n",
       "      <td>480</td>\n",
       "      <td>other</td>\n",
       "      <td>1993</td>\n",
       "      <td>manual</td>\n",
       "      <td>105.00</td>\n",
       "      <td>golf</td>\n",
       "      <td>150000</td>\n",
       "      <td>petrol</td>\n",
       "      <td>volkswagen</td>\n",
       "      <td>unknown</td>\n",
       "    </tr>\n",
       "    <tr>\n",
       "      <th>1</th>\n",
       "      <td>18300</td>\n",
       "      <td>coupe</td>\n",
       "      <td>2011</td>\n",
       "      <td>manual</td>\n",
       "      <td>190.00</td>\n",
       "      <td>unknown</td>\n",
       "      <td>125000</td>\n",
       "      <td>petrol</td>\n",
       "      <td>audi</td>\n",
       "      <td>yes</td>\n",
       "    </tr>\n",
       "    <tr>\n",
       "      <th>2</th>\n",
       "      <td>9800</td>\n",
       "      <td>suv</td>\n",
       "      <td>2004</td>\n",
       "      <td>auto</td>\n",
       "      <td>163.00</td>\n",
       "      <td>grand</td>\n",
       "      <td>125000</td>\n",
       "      <td>petrol</td>\n",
       "      <td>jeep</td>\n",
       "      <td>unknown</td>\n",
       "    </tr>\n",
       "    <tr>\n",
       "      <th>3</th>\n",
       "      <td>1500</td>\n",
       "      <td>small</td>\n",
       "      <td>2001</td>\n",
       "      <td>manual</td>\n",
       "      <td>75.00</td>\n",
       "      <td>golf</td>\n",
       "      <td>150000</td>\n",
       "      <td>petrol</td>\n",
       "      <td>volkswagen</td>\n",
       "      <td>no</td>\n",
       "    </tr>\n",
       "    <tr>\n",
       "      <th>4</th>\n",
       "      <td>3600</td>\n",
       "      <td>small</td>\n",
       "      <td>2008</td>\n",
       "      <td>manual</td>\n",
       "      <td>69.00</td>\n",
       "      <td>fabia</td>\n",
       "      <td>90000</td>\n",
       "      <td>petrol</td>\n",
       "      <td>skoda</td>\n",
       "      <td>no</td>\n",
       "    </tr>\n",
       "  </tbody>\n",
       "</table>\n",
       "</div>"
      ],
      "text/plain": [
       "   Price VehicleType  RegistrationYear Gearbox  Power    Model  Kilometer  \\\n",
       "0    480       other              1993  manual 105.00     golf     150000   \n",
       "1  18300       coupe              2011  manual 190.00  unknown     125000   \n",
       "2   9800         suv              2004    auto 163.00    grand     125000   \n",
       "3   1500       small              2001  manual  75.00     golf     150000   \n",
       "4   3600       small              2008  manual  69.00    fabia      90000   \n",
       "\n",
       "  FuelType       Brand Repaired  \n",
       "0   petrol  volkswagen  unknown  \n",
       "1   petrol        audi      yes  \n",
       "2   petrol        jeep  unknown  \n",
       "3   petrol  volkswagen       no  \n",
       "4   petrol       skoda       no  "
      ]
     },
     "execution_count": 48,
     "metadata": {},
     "output_type": "execute_result"
    }
   ],
   "source": [
    "data.head()"
   ]
  },
  {
   "cell_type": "code",
   "execution_count": 49,
   "metadata": {},
   "outputs": [
    {
     "data": {
      "text/html": [
       "<div>\n",
       "<style scoped>\n",
       "    .dataframe tbody tr th:only-of-type {\n",
       "        vertical-align: middle;\n",
       "    }\n",
       "\n",
       "    .dataframe tbody tr th {\n",
       "        vertical-align: top;\n",
       "    }\n",
       "\n",
       "    .dataframe thead th {\n",
       "        text-align: right;\n",
       "    }\n",
       "</style>\n",
       "<table border=\"1\" class=\"dataframe\">\n",
       "  <thead>\n",
       "    <tr style=\"text-align: right;\">\n",
       "      <th></th>\n",
       "      <th>Price</th>\n",
       "      <th>VehicleType</th>\n",
       "      <th>RegistrationYear</th>\n",
       "      <th>Gearbox</th>\n",
       "      <th>Power</th>\n",
       "      <th>Model</th>\n",
       "      <th>Kilometer</th>\n",
       "      <th>FuelType</th>\n",
       "      <th>Brand</th>\n",
       "      <th>Repaired</th>\n",
       "    </tr>\n",
       "  </thead>\n",
       "  <tbody>\n",
       "    <tr>\n",
       "      <th>354359</th>\n",
       "      <td>1150</td>\n",
       "      <td>bus</td>\n",
       "      <td>2000</td>\n",
       "      <td>manual</td>\n",
       "      <td>105.00</td>\n",
       "      <td>zafira</td>\n",
       "      <td>150000</td>\n",
       "      <td>petrol</td>\n",
       "      <td>opel</td>\n",
       "      <td>no</td>\n",
       "    </tr>\n",
       "    <tr>\n",
       "      <th>354361</th>\n",
       "      <td>2200</td>\n",
       "      <td>other</td>\n",
       "      <td>2005</td>\n",
       "      <td>unknown</td>\n",
       "      <td>105.00</td>\n",
       "      <td>unknown</td>\n",
       "      <td>20000</td>\n",
       "      <td>unknown</td>\n",
       "      <td>sonstige_autos</td>\n",
       "      <td>unknown</td>\n",
       "    </tr>\n",
       "    <tr>\n",
       "      <th>354362</th>\n",
       "      <td>1199</td>\n",
       "      <td>convertible</td>\n",
       "      <td>2000</td>\n",
       "      <td>auto</td>\n",
       "      <td>101.00</td>\n",
       "      <td>fortwo</td>\n",
       "      <td>125000</td>\n",
       "      <td>petrol</td>\n",
       "      <td>smart</td>\n",
       "      <td>no</td>\n",
       "    </tr>\n",
       "    <tr>\n",
       "      <th>354363</th>\n",
       "      <td>9200</td>\n",
       "      <td>bus</td>\n",
       "      <td>1996</td>\n",
       "      <td>manual</td>\n",
       "      <td>102.00</td>\n",
       "      <td>transporter</td>\n",
       "      <td>150000</td>\n",
       "      <td>petrol</td>\n",
       "      <td>volkswagen</td>\n",
       "      <td>no</td>\n",
       "    </tr>\n",
       "    <tr>\n",
       "      <th>354364</th>\n",
       "      <td>3400</td>\n",
       "      <td>wagon</td>\n",
       "      <td>2002</td>\n",
       "      <td>manual</td>\n",
       "      <td>100.00</td>\n",
       "      <td>golf</td>\n",
       "      <td>150000</td>\n",
       "      <td>petrol</td>\n",
       "      <td>volkswagen</td>\n",
       "      <td>unknown</td>\n",
       "    </tr>\n",
       "  </tbody>\n",
       "</table>\n",
       "</div>"
      ],
      "text/plain": [
       "        Price  VehicleType  RegistrationYear  Gearbox  Power        Model  \\\n",
       "354359   1150          bus              2000   manual 105.00       zafira   \n",
       "354361   2200        other              2005  unknown 105.00      unknown   \n",
       "354362   1199  convertible              2000     auto 101.00       fortwo   \n",
       "354363   9200          bus              1996   manual 102.00  transporter   \n",
       "354364   3400        wagon              2002   manual 100.00         golf   \n",
       "\n",
       "        Kilometer FuelType           Brand Repaired  \n",
       "354359     150000   petrol            opel       no  \n",
       "354361      20000  unknown  sonstige_autos  unknown  \n",
       "354362     125000   petrol           smart       no  \n",
       "354363     150000   petrol      volkswagen       no  \n",
       "354364     150000   petrol      volkswagen  unknown  "
      ]
     },
     "execution_count": 49,
     "metadata": {},
     "output_type": "execute_result"
    }
   ],
   "source": [
    "data.tail()"
   ]
  },
  {
   "cell_type": "markdown",
   "metadata": {},
   "source": [
    "<div class=\"alert alert-warning\">\n",
    "<b>Комментарий 👉</b>\n",
    "\n",
    "Несколько моментов \"на будущее\" (сейчас забегаю чуть вперед, но будущем это будет важно) которые я хотел озвучить перед переходом к собственно исследованию (некоторые из этих моментов в твоем проекте реализованы):\n",
    "    \n",
    "- имеет смысл критично посмотреть на данные с точки зрения наличия пропусков в признаках (вопрос: все ли ml-модели \"любят\" пропуски?) и обработать или удалить их \n",
    "    \n",
    "- имеет смысл явно обозначить какую задачу мы будем решать: с учителем / без учителя, классификации / регрессии ...\n",
    "    \n",
    "- в моделях бинарной классификации (если бы это был бы наш случай!) имеет смысл смотреть на баланс классов. Два взгляда (с разных сторон) на эту проблему тут: https://alexanderdyakonov.wordpress.com/2021/05/27/imbalance/ и https://habr.com/ru/post/349078/\n",
    "    \n",
    "- имеет смысл смотреть на корреляцию признаков. При высокой их степени коррелированности возникает проблема  мультиколлиниарность признаков. Проблема \"мультиколлинеарности\" это и про переобучение модели и про её интерпретируемость и про сложность модели (содержание в модели избыточного количества переменных). В чем негативный эффект сложной модели? Вот в чем: усложняется интерпретация параметров, оценки параметров ненадежны – получаются большие стандартные ошибки, которые меняются с изменением объема наблюдений, что делает модель регрессии непригодной для прогнозирования.\n",
    "\n",
    "Вот несколько причин, почему проблема мультиколлинеарности (МК) важна:\n",
    "\n",
    "1. Неоднозначность коэффициентов: МК делает оценку коэффициентов модели неустойчивой. Когда существует сильная корреляция между признаками, модель становится неспособной разделить влияние каждого признака на целевую переменную. Это может привести к неоднозначным и неправильным оценкам коэффициентов, что затрудняет интерпретацию важности каждого признака. Согласись - это важно, чтобы результат, который выдает модель можно было бы понять и объяснить с точки зрения предметной области. В случае включения в модель высокоскоррелированных признаков - может случиться так, что коэффициенты (да, проблема присуща моделям линейным ... регрессия среди них!) могут менять знаки и попытка объяснения предметной области с помощью этих коэффициентов будет противоречить здравому смыслу.\n",
    "\n",
    "2. Плохая обобщающая способность: МК может снизить способность модели обобщаться на новые данные. Когда сильно коррелированные признаки присутствуют в модели, модель может стать \"перегенерированной\" и склонной к переобучению на обучающих данных. В результате модель может показывать хорошую производительность на обучающих данных, но плохо обобщаться на новые данные.\n",
    "\n",
    "3. Ухудшение точности и устойчивости модели: МК может привести к численным проблемам при решении линейных уравнений, используемых для оценки коэффициентов модели. Это может привести к нестабильности и неточности оценок. Кроме того, небольшие изменения в данных могут привести к большим изменениям в оценках коэффициентов модели, что делает модель неустойчивой.\n",
    "\n",
    "4. Избыточность информации: Когда признаки сильно коррелированы, они предоставляют практически одинаковую информацию о целевой переменной. Такая избыточность может привести к неэффективности модели и увеличению сложности модели без значительного улучшения производительности.\n",
    "\n",
    "В целом, МК может иметь отрицательное влияние на производительность, стабильность, интерпретируемость и обобщающую способность.\n",
    "    \n",
    "---\n",
    "Для деревянных моделей и моделей градиентного бустинга проблема МК  не является такой критической, как для линейных моделей. Вот несколько причин:\n",
    "\n",
    "1. Нелинейность: Деревянные модели и модели градиентного бустинга являются нелинейными моделями. Они способны обрабатывать сложные взаимодействия между признаками и целевой переменной. В отличие от линейных моделей, они могут более гибко адаптироваться к наличию мультиколлинеарности в данных.\n",
    "\n",
    "2. Рекурсивное разбиение: Деревья принятия решений в деревянных моделях и моделях градиентного бустинга используют рекурсивное разбиение для разделения данных на более чистые группы. Это означает, что деревья могут независимо выбирать разные признаки для разделения, даже если они сильно коррелированы. Таким образом, деревья могут игнорировать мультиколлинеарность и использовать другие признаки для принятия решений.\n",
    "\n",
    "3. Ансамбль деревьев: Модели градиентного бустинга строятся на основе ансамбля слабых деревьев решений. Каждое дерево добавляется постепенно для уменьшения ошибки предыдущих деревьев. Это позволяет модели градиентного бустинга восстанавливать ошибки, вызванные мультиколлинеарностью, поэтапно улучшая прогнозы.\n",
    "\n",
    "Хотя мультиколлинеарность не является проблемой в деревянных моделях и моделях градиентного бустинга в той же степени, что и в линейных моделях, она все еще может оказывать влияние на производительность и интерпретируемость модели. Сильно коррелированные признаки могут вносить избыточность в модель и увеличивать сложность, не принося значительного улучшения в прогнозах. Поэтому, хотя деревья могут быть более устойчивыми к мультиколлинеарности, все же рекомендуется выполнять анализ корреляции признаков и, при необходимости, применять методы снижения размерности или регуляризации для улучшения модели.\n",
    "    \n",
    "Вот классная статья. Простым языком, на примере показана проблема. А также, что важно - разобраны варианты как её (проблему) победить. Статья: https://habr.com/ru/company/akbarsdigital/blog/592493/ \n",
    "</div>"
   ]
  },
  {
   "cell_type": "markdown",
   "metadata": {},
   "source": [
    "## 2.Подготовка данных "
   ]
  },
  {
   "cell_type": "markdown",
   "metadata": {},
   "source": [
    "**переведем признаки с типом данных в object в категориальные данные с кодированием** "
   ]
  },
  {
   "cell_type": "code",
   "execution_count": 50,
   "metadata": {},
   "outputs": [],
   "source": [
    "for i in data.columns:\n",
    "   col_type = data[i].dtype\n",
    "   if col_type == 'object':\n",
    "      data[i] = data[i].astype('category').cat.codes"
   ]
  },
  {
   "cell_type": "markdown",
   "metadata": {},
   "source": [
    "**разделим выборку train и test**"
   ]
  },
  {
   "cell_type": "code",
   "execution_count": 51,
   "metadata": {},
   "outputs": [],
   "source": [
    "# разделим данные на выборки: признаки, целевой признак\n",
    "features = data.drop('Price', axis=1)\n",
    "target = data['Price']\n",
    "\n",
    "# разделим на обучающую и тестовую выборки в пропорции 4 к 1\n",
    "X_train, X_test, y_train, y_test = train_test_split(features, target, test_size=0.20, random_state=12345)\n",
    "\n",
    "# разделим на обучающую выборку на обучающую и тестовую в пропорции 3 к 1\n",
    "X_train, X_valid, y_train, y_valid = train_test_split(X_train, y_train, test_size=0.25, random_state=12345)"
   ]
  },
  {
   "cell_type": "code",
   "execution_count": 52,
   "metadata": {},
   "outputs": [
    {
     "name": "stdout",
     "output_type": "stream",
     "text": [
      "размеры выборок на train:  (195834, 9) (195834,)\n",
      "размеры выборок на valid:  (65278, 9) (65278,)\n",
      "размеры выборок на test:  (65278, 9) (65278,)\n"
     ]
    }
   ],
   "source": [
    "# данные о размере выборок\n",
    "print('размеры выборок на train: ', X_train.shape, y_train.shape) \n",
    "print('размеры выборок на valid: ', X_valid.shape, y_valid.shape) \n",
    "print('размеры выборок на test: ', X_test.shape, y_test.shape) "
   ]
  },
  {
   "cell_type": "markdown",
   "metadata": {},
   "source": [
    "**масштабируем признаки**"
   ]
  },
  {
   "cell_type": "code",
   "execution_count": 53,
   "metadata": {},
   "outputs": [
    {
     "data": {
      "text/plain": [
       "StandardScaler()"
      ]
     },
     "execution_count": 53,
     "metadata": {},
     "output_type": "execute_result"
    }
   ],
   "source": [
    "# инициализируем и обучим scaler \n",
    "numeric = ['RegistrationYear', 'Power', 'Kilometer']\n",
    "scaler = StandardScaler()\n",
    "scaler.fit(X_train[numeric]) "
   ]
  },
  {
   "cell_type": "code",
   "execution_count": 54,
   "metadata": {},
   "outputs": [
    {
     "name": "stderr",
     "output_type": "stream",
     "text": [
      "/tmp/ipykernel_48/3613493287.py:4: SettingWithCopyWarning: \n",
      "A value is trying to be set on a copy of a slice from a DataFrame.\n",
      "Try using .loc[row_indexer,col_indexer] = value instead\n",
      "\n",
      "See the caveats in the documentation: https://pandas.pydata.org/pandas-docs/stable/user_guide/indexing.html#returning-a-view-versus-a-copy\n",
      "  X_test[numeric] = scaler.transform(X_test[numeric])\n",
      "/opt/conda/lib/python3.9/site-packages/pandas/core/indexing.py:1738: SettingWithCopyWarning: \n",
      "A value is trying to be set on a copy of a slice from a DataFrame.\n",
      "Try using .loc[row_indexer,col_indexer] = value instead\n",
      "\n",
      "See the caveats in the documentation: https://pandas.pydata.org/pandas-docs/stable/user_guide/indexing.html#returning-a-view-versus-a-copy\n",
      "  self._setitem_single_column(loc, value[:, i].tolist(), pi)\n"
     ]
    }
   ],
   "source": [
    "# преобразуем выборки функцией transform()\n",
    "X_train[numeric] = scaler.transform(X_train[numeric])\n",
    "X_valid[numeric] = scaler.transform(X_valid[numeric])\n",
    "X_test[numeric] = scaler.transform(X_test[numeric]) \n",
    "pd.options.mode.chained_assignment = None"
   ]
  },
  {
   "cell_type": "code",
   "execution_count": 55,
   "metadata": {},
   "outputs": [
    {
     "data": {
      "text/html": [
       "<div>\n",
       "<style scoped>\n",
       "    .dataframe tbody tr th:only-of-type {\n",
       "        vertical-align: middle;\n",
       "    }\n",
       "\n",
       "    .dataframe tbody tr th {\n",
       "        vertical-align: top;\n",
       "    }\n",
       "\n",
       "    .dataframe thead th {\n",
       "        text-align: right;\n",
       "    }\n",
       "</style>\n",
       "<table border=\"1\" class=\"dataframe\">\n",
       "  <thead>\n",
       "    <tr style=\"text-align: right;\">\n",
       "      <th></th>\n",
       "      <th>VehicleType</th>\n",
       "      <th>RegistrationYear</th>\n",
       "      <th>Gearbox</th>\n",
       "      <th>Power</th>\n",
       "      <th>Model</th>\n",
       "      <th>Kilometer</th>\n",
       "      <th>FuelType</th>\n",
       "      <th>Brand</th>\n",
       "      <th>Repaired</th>\n",
       "    </tr>\n",
       "  </thead>\n",
       "  <tbody>\n",
       "    <tr>\n",
       "      <th>254570</th>\n",
       "      <td>5</td>\n",
       "      <td>-0.82</td>\n",
       "      <td>2</td>\n",
       "      <td>-0.30</td>\n",
       "      <td>166</td>\n",
       "      <td>-0.10</td>\n",
       "      <td>6</td>\n",
       "      <td>31</td>\n",
       "      <td>1</td>\n",
       "    </tr>\n",
       "    <tr>\n",
       "      <th>127182</th>\n",
       "      <td>6</td>\n",
       "      <td>0.84</td>\n",
       "      <td>1</td>\n",
       "      <td>0.38</td>\n",
       "      <td>170</td>\n",
       "      <td>0.58</td>\n",
       "      <td>5</td>\n",
       "      <td>38</td>\n",
       "      <td>0</td>\n",
       "    </tr>\n",
       "    <tr>\n",
       "      <th>288247</th>\n",
       "      <td>4</td>\n",
       "      <td>-1.31</td>\n",
       "      <td>1</td>\n",
       "      <td>-0.59</td>\n",
       "      <td>154</td>\n",
       "      <td>-0.10</td>\n",
       "      <td>5</td>\n",
       "      <td>10</td>\n",
       "      <td>0</td>\n",
       "    </tr>\n",
       "    <tr>\n",
       "      <th>154394</th>\n",
       "      <td>7</td>\n",
       "      <td>-0.98</td>\n",
       "      <td>1</td>\n",
       "      <td>-0.20</td>\n",
       "      <td>170</td>\n",
       "      <td>0.58</td>\n",
       "      <td>5</td>\n",
       "      <td>38</td>\n",
       "      <td>0</td>\n",
       "    </tr>\n",
       "    <tr>\n",
       "      <th>322449</th>\n",
       "      <td>4</td>\n",
       "      <td>-1.64</td>\n",
       "      <td>1</td>\n",
       "      <td>-0.59</td>\n",
       "      <td>116</td>\n",
       "      <td>0.58</td>\n",
       "      <td>5</td>\n",
       "      <td>38</td>\n",
       "      <td>2</td>\n",
       "    </tr>\n",
       "  </tbody>\n",
       "</table>\n",
       "</div>"
      ],
      "text/plain": [
       "        VehicleType  RegistrationYear  Gearbox  Power  Model  Kilometer  \\\n",
       "254570            5             -0.82        2  -0.30    166      -0.10   \n",
       "127182            6              0.84        1   0.38    170       0.58   \n",
       "288247            4             -1.31        1  -0.59    154      -0.10   \n",
       "154394            7             -0.98        1  -0.20    170       0.58   \n",
       "322449            4             -1.64        1  -0.59    116       0.58   \n",
       "\n",
       "        FuelType  Brand  Repaired  \n",
       "254570         6     31         1  \n",
       "127182         5     38         0  \n",
       "288247         5     10         0  \n",
       "154394         5     38         0  \n",
       "322449         5     38         2  "
      ]
     },
     "execution_count": 55,
     "metadata": {},
     "output_type": "execute_result"
    }
   ],
   "source": [
    "X_train.head(5)"
   ]
  },
  {
   "cell_type": "markdown",
   "metadata": {},
   "source": [
    "**Выводы, Информация п.1,2**\n",
    "1. Загружены, изучены данные, информация по df:\n",
    "    - 354 369 строк,  16 столбцов.\n",
    "    - есть пропущеные данные\n",
    "2. Удалены не информативные признаки;\n",
    "3. Обработаны пропущеные и аномальные значения;\n",
    "4. Кодированны категориальные данные;\n",
    "5. Выборка разделена на выборки train и test\n",
    "6. Масштабированы признаки методом StandardScaler()\n",
    "\n",
    "Итоговый DataFrame с учетом оптимизации аномальных значений и не инфоративных признаков = 326 380 строк,  9 столбцов.\n",
    "- размеры выборок на train:  (195834, 9) (195834,)\n",
    "- размеры выборок на valid:  (65278, 9) (65278,)\n",
    "- размеры выборок на test:  (65278, 9) (65278,)\n",
    "\n",
    "В итоге:\n",
    "- изначальный df = 354 369 строк\n",
    "- изменененый df = 326 380 строк\n",
    "- удалено из df 27 989 - 7.9%\n",
    "\n",
    "Далее решаем задачу регресии, обучение c учителем (предсказание цены авто).\n",
    "Делаем обучения на моделях бустинга и линейной регрессии, проверяем качество обучения и скорость работы"
   ]
  },
  {
   "cell_type": "markdown",
   "metadata": {},
   "source": [
    "<div class=\"alert alert-success\">\n",
    "<b>КОММЕНТАРИЙ V2</b> \t\n",
    "\n",
    "Вот пример ЧЕРНОВИКА шаблона пайплайна обработки данных для машинного обучения, включающий деление данных на выборки, кодирование категориальных переменных и масштабирование числовых переменных:\n",
    "    \n",
    "    from sklearn.model_selection import train_test_split\n",
    "    from sklearn.compose import ColumnTransformer\n",
    "    from sklearn.pipeline import Pipeline\n",
    "    from sklearn.preprocessing import StandardScaler, OneHotEncoder\n",
    "\n",
    "    # 1. Загрузка и подготовка данных\n",
    "    # Загрузка данных\n",
    "    data = ...\n",
    "\n",
    "    # Разделение на признаки (X) и целевую переменную (y)\n",
    "    X = data.drop(columns=['target'])\n",
    "    y = data['target']\n",
    "\n",
    "    # 2. Разделение данных на обучающую, валидационную и тестовую выборки\n",
    "    X_train, X_test, y_train, y_test = train_test_split(X, y, test_size=0.2, random_state=42)\n",
    "    X_train, X_val, y_train, y_val = train_test_split(X_train, y_train, test_size=0.2, random_state=42)\n",
    "\n",
    "    # 3. Создание пайплайна обработки данных\n",
    "    # Предобработка числовых переменных\n",
    "    numeric_features = [...]  # список числовых переменных\n",
    "\n",
    "    numeric_transformer = StandardScaler()\n",
    "\n",
    "    # Предобработка категориальных переменных\n",
    "    categorical_features = [...]  # список категориальных переменных\n",
    "\n",
    "    categorical_transformer = OneHotEncoder()\n",
    "\n",
    "    # Комбинированный препроцессор для числовых и категориальных переменных\n",
    "    preprocessor = ColumnTransformer(\n",
    "        transformers=[\n",
    "            ('num', numeric_transformer, numeric_features),\n",
    "            ('cat', categorical_transformer, categorical_features)\n",
    "        ])\n",
    "\n",
    "    # 4. Создание пайплайна для обучения модели\n",
    "    from sklearn.linear_model import LinearRegression\n",
    "\n",
    "    model = Pipeline(steps=[('preprocessor', preprocessor),\n",
    "                            ('regressor', LinearRegression())])\n",
    "\n",
    "    # 5. Обучение модели\n",
    "    model.fit(X_train, y_train)\n",
    "\n",
    "    # 6. Оценка модели\n",
    "    train_score = model.score(X_train, y_train)\n",
    "    val_score = model.score(X_val, y_val)\n",
    "    test_score = model.score(X_test, y_test)\n",
    "\n",
    "    # Вывод результатов\n",
    "    print('Train Score:', train_score)\n",
    "    print('Validation Score:', val_score)\n",
    "    print('Test Score:', test_score)\n",
    "    \n",
    "    \n",
    "В данном примере:\n",
    "\n",
    "Шаг 1: Загружаются и подготавливаются данные.\n",
    "    \n",
    "Шаг 2: Данные разделяются на обучающую, валидационную и тестовую выборки с помощью функции train_test_split().\n",
    "    \n",
    "Шаг 3: Создается пайплайн обработки данных с использованием ColumnTransformer, который применяет соответствующие преобразования к числовым и категориальным переменным.\n",
    "    \n",
    "Шаг 4: Создается пайплайн для обучения модели, включающий предобработку данных и модель.\n",
    "    \n",
    "Шаг 5: Модель обучается на обучающих данных с помощью метода fit().\n",
    "    \n",
    "Шаг 6: Оценивается производительность модели на обучающей, валидационной и тестовой выборках с помощью метода score().    \n",
    "</div>"
   ]
  },
  {
   "cell_type": "markdown",
   "metadata": {},
   "source": [
    "**проверим корреляцию на измененных данных**"
   ]
  },
  {
   "cell_type": "code",
   "execution_count": 56,
   "metadata": {},
   "outputs": [
    {
     "data": {
      "text/html": [
       "<div>\n",
       "<style scoped>\n",
       "    .dataframe tbody tr th:only-of-type {\n",
       "        vertical-align: middle;\n",
       "    }\n",
       "\n",
       "    .dataframe tbody tr th {\n",
       "        vertical-align: top;\n",
       "    }\n",
       "\n",
       "    .dataframe thead th {\n",
       "        text-align: right;\n",
       "    }\n",
       "</style>\n",
       "<table border=\"1\" class=\"dataframe\">\n",
       "  <thead>\n",
       "    <tr style=\"text-align: right;\">\n",
       "      <th></th>\n",
       "      <th>Price</th>\n",
       "      <th>VehicleType</th>\n",
       "      <th>RegistrationYear</th>\n",
       "      <th>Gearbox</th>\n",
       "      <th>Power</th>\n",
       "      <th>Model</th>\n",
       "      <th>Kilometer</th>\n",
       "      <th>FuelType</th>\n",
       "      <th>Brand</th>\n",
       "      <th>Repaired</th>\n",
       "    </tr>\n",
       "  </thead>\n",
       "  <tbody>\n",
       "    <tr>\n",
       "      <th>Price</th>\n",
       "      <td>1.00</td>\n",
       "      <td>-0.06</td>\n",
       "      <td>0.54</td>\n",
       "      <td>-0.27</td>\n",
       "      <td>0.49</td>\n",
       "      <td>-0.05</td>\n",
       "      <td>-0.36</td>\n",
       "      <td>-0.08</td>\n",
       "      <td>-0.11</td>\n",
       "      <td>-0.28</td>\n",
       "    </tr>\n",
       "    <tr>\n",
       "      <th>VehicleType</th>\n",
       "      <td>-0.06</td>\n",
       "      <td>1.00</td>\n",
       "      <td>0.00</td>\n",
       "      <td>-0.06</td>\n",
       "      <td>-0.01</td>\n",
       "      <td>-0.14</td>\n",
       "      <td>0.04</td>\n",
       "      <td>-0.02</td>\n",
       "      <td>-0.05</td>\n",
       "      <td>0.00</td>\n",
       "    </tr>\n",
       "    <tr>\n",
       "      <th>RegistrationYear</th>\n",
       "      <td>0.54</td>\n",
       "      <td>0.00</td>\n",
       "      <td>1.00</td>\n",
       "      <td>-0.05</td>\n",
       "      <td>0.12</td>\n",
       "      <td>-0.02</td>\n",
       "      <td>-0.32</td>\n",
       "      <td>-0.02</td>\n",
       "      <td>-0.02</td>\n",
       "      <td>-0.15</td>\n",
       "    </tr>\n",
       "    <tr>\n",
       "      <th>Gearbox</th>\n",
       "      <td>-0.27</td>\n",
       "      <td>-0.06</td>\n",
       "      <td>-0.05</td>\n",
       "      <td>1.00</td>\n",
       "      <td>-0.38</td>\n",
       "      <td>0.07</td>\n",
       "      <td>-0.03</td>\n",
       "      <td>0.14</td>\n",
       "      <td>0.11</td>\n",
       "      <td>0.10</td>\n",
       "    </tr>\n",
       "    <tr>\n",
       "      <th>Power</th>\n",
       "      <td>0.49</td>\n",
       "      <td>-0.01</td>\n",
       "      <td>0.12</td>\n",
       "      <td>-0.38</td>\n",
       "      <td>1.00</td>\n",
       "      <td>-0.12</td>\n",
       "      <td>0.09</td>\n",
       "      <td>-0.07</td>\n",
       "      <td>-0.30</td>\n",
       "      <td>-0.08</td>\n",
       "    </tr>\n",
       "    <tr>\n",
       "      <th>Model</th>\n",
       "      <td>-0.05</td>\n",
       "      <td>-0.14</td>\n",
       "      <td>-0.02</td>\n",
       "      <td>0.07</td>\n",
       "      <td>-0.12</td>\n",
       "      <td>1.00</td>\n",
       "      <td>-0.03</td>\n",
       "      <td>0.04</td>\n",
       "      <td>0.44</td>\n",
       "      <td>0.05</td>\n",
       "    </tr>\n",
       "    <tr>\n",
       "      <th>Kilometer</th>\n",
       "      <td>-0.36</td>\n",
       "      <td>0.04</td>\n",
       "      <td>-0.32</td>\n",
       "      <td>-0.03</td>\n",
       "      <td>0.09</td>\n",
       "      <td>-0.03</td>\n",
       "      <td>1.00</td>\n",
       "      <td>-0.02</td>\n",
       "      <td>-0.05</td>\n",
       "      <td>0.09</td>\n",
       "    </tr>\n",
       "    <tr>\n",
       "      <th>FuelType</th>\n",
       "      <td>-0.08</td>\n",
       "      <td>-0.02</td>\n",
       "      <td>-0.02</td>\n",
       "      <td>0.14</td>\n",
       "      <td>-0.07</td>\n",
       "      <td>0.04</td>\n",
       "      <td>-0.02</td>\n",
       "      <td>1.00</td>\n",
       "      <td>0.02</td>\n",
       "      <td>0.10</td>\n",
       "    </tr>\n",
       "    <tr>\n",
       "      <th>Brand</th>\n",
       "      <td>-0.11</td>\n",
       "      <td>-0.05</td>\n",
       "      <td>-0.02</td>\n",
       "      <td>0.11</td>\n",
       "      <td>-0.30</td>\n",
       "      <td>0.44</td>\n",
       "      <td>-0.05</td>\n",
       "      <td>0.02</td>\n",
       "      <td>1.00</td>\n",
       "      <td>0.01</td>\n",
       "    </tr>\n",
       "    <tr>\n",
       "      <th>Repaired</th>\n",
       "      <td>-0.28</td>\n",
       "      <td>0.00</td>\n",
       "      <td>-0.15</td>\n",
       "      <td>0.10</td>\n",
       "      <td>-0.08</td>\n",
       "      <td>0.05</td>\n",
       "      <td>0.09</td>\n",
       "      <td>0.10</td>\n",
       "      <td>0.01</td>\n",
       "      <td>1.00</td>\n",
       "    </tr>\n",
       "  </tbody>\n",
       "</table>\n",
       "</div>"
      ],
      "text/plain": [
       "                  Price  VehicleType  RegistrationYear  Gearbox  Power  Model  \\\n",
       "Price              1.00        -0.06              0.54    -0.27   0.49  -0.05   \n",
       "VehicleType       -0.06         1.00              0.00    -0.06  -0.01  -0.14   \n",
       "RegistrationYear   0.54         0.00              1.00    -0.05   0.12  -0.02   \n",
       "Gearbox           -0.27        -0.06             -0.05     1.00  -0.38   0.07   \n",
       "Power              0.49        -0.01              0.12    -0.38   1.00  -0.12   \n",
       "Model             -0.05        -0.14             -0.02     0.07  -0.12   1.00   \n",
       "Kilometer         -0.36         0.04             -0.32    -0.03   0.09  -0.03   \n",
       "FuelType          -0.08        -0.02             -0.02     0.14  -0.07   0.04   \n",
       "Brand             -0.11        -0.05             -0.02     0.11  -0.30   0.44   \n",
       "Repaired          -0.28         0.00             -0.15     0.10  -0.08   0.05   \n",
       "\n",
       "                  Kilometer  FuelType  Brand  Repaired  \n",
       "Price                 -0.36     -0.08  -0.11     -0.28  \n",
       "VehicleType            0.04     -0.02  -0.05      0.00  \n",
       "RegistrationYear      -0.32     -0.02  -0.02     -0.15  \n",
       "Gearbox               -0.03      0.14   0.11      0.10  \n",
       "Power                  0.09     -0.07  -0.30     -0.08  \n",
       "Model                 -0.03      0.04   0.44      0.05  \n",
       "Kilometer              1.00     -0.02  -0.05      0.09  \n",
       "FuelType              -0.02      1.00   0.02      0.10  \n",
       "Brand                 -0.05      0.02   1.00      0.01  \n",
       "Repaired               0.09      0.10   0.01      1.00  "
      ]
     },
     "execution_count": 56,
     "metadata": {},
     "output_type": "execute_result"
    }
   ],
   "source": [
    "# по этим данным четко видно, target коррелирет наиболее сильно с 'RegistrationYear', 'Power', 'Kilometer', 'Repaired'\n",
    "data.corr()"
   ]
  },
  {
   "cell_type": "markdown",
   "metadata": {},
   "source": [
    "## 4.Обучение моделей"
   ]
  },
  {
   "cell_type": "markdown",
   "metadata": {},
   "source": [
    "### lightgbm"
   ]
  },
  {
   "cell_type": "code",
   "execution_count": 57,
   "metadata": {},
   "outputs": [
    {
     "name": "stdout",
     "output_type": "stream",
     "text": [
      "3.3.1\n"
     ]
    }
   ],
   "source": [
    "print(lgb.__version__)"
   ]
  },
  {
   "cell_type": "markdown",
   "metadata": {},
   "source": [
    "провел изучени модели lightgbm, источники:\n",
    "-    https://lightgbm.readthedocs.io/en/latest/index.html\n",
    "-    https://pythonru.com/biblioteki/lightgbm\n",
    "-    https://habr.com/ru/companies/skillfactory/articles/530594/"
   ]
  },
  {
   "cell_type": "markdown",
   "metadata": {},
   "source": [
    "**комментари по  lightgbm**\n",
    "\n",
    "- в params вывел параметры, в том числе которые со значениями по умолчанию, для изучения\n",
    "\n",
    "- по ошибке 'verbose_eval' пишет, что нужно использовать параметр calback и передать \n",
    "ему список функций, которые ответчают за вывод запись Логов. Често пытался разобраться, смотрел в трех источниках в том числе \n",
    "в первоисточнике - как передать функции разобрался, но как вывести Логи нет. М.б. ты знаешь. Если да напиши пжл или м.б. \n",
    "есть статья хорошая по  этой теме. Хочется разобраться.\n",
    "    \n",
    "\"verbose_eval - почему-то выдает ошибку: \"/opt/conda/lib/python3.9/site-packages/lightgbm/engine.py:239: UserWarning: 'verbose_eval' argument is deprecated and will be removed in a future release of LightGBM. Pass 'log_evaluation()' callback via 'callbacks' argument instead.\"\"\n",
    "\n",
    "параметр   - callbacks=[lgb.log_evaluation(10), lgb.record_evaluation({'metric':'rmse'})]"
   ]
  },
  {
   "cell_type": "markdown",
   "metadata": {},
   "source": [
    "**модель lightgbm_1 с числом деревьев в ансамбле = 100**"
   ]
  },
  {
   "cell_type": "code",
   "execution_count": 68,
   "metadata": {},
   "outputs": [
    {
     "name": "stderr",
     "output_type": "stream",
     "text": [
      "/opt/conda/lib/python3.9/site-packages/lightgbm/engine.py:239: UserWarning: 'verbose_eval' argument is deprecated and will be removed in a future release of LightGBM. Pass 'log_evaluation()' callback via 'callbacks' argument instead.\n",
      "  _log_warning(\"'verbose_eval' argument is deprecated and will be removed in a future release of LightGBM. \"\n"
     ]
    },
    {
     "name": "stdout",
     "output_type": "stream",
     "text": [
      "[LightGBM] [Debug] Dataset::GetMultiBinFromAllFeatures: sparse rate 0.276045\n",
      "[LightGBM] [Info] Total Bins 610\n",
      "[LightGBM] [Info] Number of data points in the train set: 195834, number of used features: 9\n",
      "[LightGBM] [Info] Start training from score 4579.399915\n",
      "[LightGBM] [Debug] Trained a tree with leaves = 31 and depth = 7\n",
      "[LightGBM] [Debug] Trained a tree with leaves = 31 and depth = 7\n",
      "[LightGBM] [Debug] Trained a tree with leaves = 31 and depth = 8\n",
      "[LightGBM] [Debug] Trained a tree with leaves = 31 and depth = 7\n",
      "[LightGBM] [Debug] Trained a tree with leaves = 31 and depth = 7\n",
      "[LightGBM] [Debug] Trained a tree with leaves = 31 and depth = 8\n",
      "[LightGBM] [Debug] Trained a tree with leaves = 31 and depth = 7\n",
      "[LightGBM] [Debug] Trained a tree with leaves = 31 and depth = 7\n",
      "[LightGBM] [Debug] Trained a tree with leaves = 31 and depth = 7\n",
      "[LightGBM] [Debug] Trained a tree with leaves = 31 and depth = 7\n",
      "[LightGBM] [Debug] Trained a tree with leaves = 31 and depth = 6\n",
      "[LightGBM] [Debug] Trained a tree with leaves = 31 and depth = 7\n",
      "[LightGBM] [Debug] Trained a tree with leaves = 31 and depth = 7\n",
      "[LightGBM] [Debug] Trained a tree with leaves = 31 and depth = 8\n",
      "[LightGBM] [Debug] Trained a tree with leaves = 31 and depth = 9\n",
      "[LightGBM] [Debug] Trained a tree with leaves = 31 and depth = 7\n",
      "[LightGBM] [Debug] Trained a tree with leaves = 31 and depth = 11\n",
      "[LightGBM] [Debug] Trained a tree with leaves = 31 and depth = 9\n",
      "[LightGBM] [Debug] Trained a tree with leaves = 31 and depth = 8\n",
      "[LightGBM] [Debug] Trained a tree with leaves = 31 and depth = 9\n",
      "[LightGBM] [Debug] Trained a tree with leaves = 31 and depth = 9\n",
      "[LightGBM] [Debug] Trained a tree with leaves = 31 and depth = 9\n",
      "[LightGBM] [Debug] Trained a tree with leaves = 31 and depth = 10\n",
      "[LightGBM] [Debug] Trained a tree with leaves = 31 and depth = 9\n",
      "[LightGBM] [Debug] Trained a tree with leaves = 31 and depth = 8\n",
      "[LightGBM] [Debug] Trained a tree with leaves = 31 and depth = 8\n",
      "[LightGBM] [Debug] Trained a tree with leaves = 31 and depth = 9\n",
      "[LightGBM] [Debug] Trained a tree with leaves = 31 and depth = 10\n",
      "[LightGBM] [Debug] Trained a tree with leaves = 31 and depth = 11\n",
      "[LightGBM] [Debug] Trained a tree with leaves = 31 and depth = 11\n",
      "[LightGBM] [Debug] Trained a tree with leaves = 31 and depth = 12\n",
      "[LightGBM] [Debug] Trained a tree with leaves = 31 and depth = 9\n",
      "[LightGBM] [Debug] Trained a tree with leaves = 31 and depth = 9\n",
      "[LightGBM] [Debug] Trained a tree with leaves = 31 and depth = 12\n",
      "[LightGBM] [Debug] Trained a tree with leaves = 31 and depth = 8\n",
      "[LightGBM] [Debug] Trained a tree with leaves = 31 and depth = 8\n",
      "[LightGBM] [Debug] Trained a tree with leaves = 31 and depth = 10\n",
      "[LightGBM] [Debug] Trained a tree with leaves = 31 and depth = 10\n",
      "[LightGBM] [Debug] Trained a tree with leaves = 31 and depth = 9\n",
      "[LightGBM] [Debug] Trained a tree with leaves = 31 and depth = 9\n",
      "[LightGBM] [Debug] Trained a tree with leaves = 31 and depth = 10\n",
      "[LightGBM] [Debug] Trained a tree with leaves = 31 and depth = 10\n",
      "[LightGBM] [Debug] Trained a tree with leaves = 31 and depth = 10\n",
      "[LightGBM] [Debug] Trained a tree with leaves = 31 and depth = 12\n",
      "[LightGBM] [Debug] Trained a tree with leaves = 31 and depth = 10\n",
      "[LightGBM] [Debug] Trained a tree with leaves = 31 and depth = 12\n",
      "[LightGBM] [Debug] Trained a tree with leaves = 31 and depth = 13\n",
      "[LightGBM] [Debug] Trained a tree with leaves = 31 and depth = 13\n",
      "[LightGBM] [Debug] Trained a tree with leaves = 31 and depth = 13\n",
      "[LightGBM] [Debug] Trained a tree with leaves = 31 and depth = 12\n",
      "Время обучения lightgbm_1: 212.36 секунд\n",
      "Время предсказания lightgbm_1: 0.41 секунд\n",
      "RMSE lightgbm_1 на валидационной выборке: 1787.66\n"
     ]
    }
   ],
   "source": [
    "start_time = time.time()\n",
    "\n",
    "params = {\n",
    "    'boosting': 'gbdt',\n",
    "    'objective': 'regression',\n",
    "    'metric': 'rmse',\n",
    "    'num_leaves': 31,\n",
    "    'learning_rate': 0.1,\n",
    "    'force_row_wise':True,\n",
    "    'n_jobs': -1\n",
    "}\n",
    "\n",
    "model_lgb_1 = lgb.train(params, lgb.Dataset(X_train, y_train), num_boost_round=100, verbose_eval=10,\n",
    "                                callbacks=[lgb.log_evaluation(10), lgb.record_evaluation({'metric':'rmse'})])\n",
    "\n",
    "end_time = time.time()\n",
    "training_time_lgb_1 = end_time - start_time\n",
    "\n",
    "# время обучения модели lightgbm_1\n",
    "print(f'Время обучения lightgbm_1: {training_time_lgb_1:.2f} секунд')\n",
    "\n",
    "# время предсказания модели lightgbm_1 на валидационной выборке\n",
    "start_time = time.time()\n",
    "predict_lgb_1 = model_lgb_1.predict(X_valid)\n",
    "end_time = time.time()\n",
    "prediction_time_lgb_1 = end_time - start_time\n",
    "print(f'Время предсказания lightgbm_1: {prediction_time_lgb_1:.2f} секунд')\n",
    "\n",
    "# оценка качества модели lightgbm на валидационной выборке\n",
    "rmse_lgb_1 = mean_squared_error(y_valid, predict_lgb_1, squared=False)\n",
    "print(f'RMSE lightgbm_1 на валидационной выборке: {rmse_lgb_1:.2f}')"
   ]
  },
  {
   "cell_type": "markdown",
   "metadata": {},
   "source": [
    "**модель lightgbm_2 с числом деревьев в ансамбле = 500**"
   ]
  },
  {
   "cell_type": "code",
   "execution_count": 59,
   "metadata": {},
   "outputs": [
    {
     "name": "stdout",
     "output_type": "stream",
     "text": [
      "[LightGBM] [Info] Total Bins 610\n",
      "[LightGBM] [Info] Number of data points in the train set: 195834, number of used features: 9\n",
      "[LightGBM] [Info] Start training from score 4579.399915\n",
      "Время обучения lightgbm_2: 19.40 секунд\n",
      "Время предсказания lightgbm_2: 1.80 секунд\n",
      "RMSE lightgbm_3 на валидационной выборке: 1578.10\n"
     ]
    }
   ],
   "source": [
    "start_time = time.time()\n",
    "\n",
    "params = {\n",
    "    'boosting': 'gbdt',\n",
    "    'objective': 'regression',\n",
    "    'metric': 'rmse',\n",
    "    'num_leaves': 31,\n",
    "    'learning_rate': 0.1,\n",
    "    'force_row_wise':True,\n",
    "    'n_jobs': -1\n",
    "}\n",
    "\n",
    "model_lgb_2 = lgb.train(params, lgb.Dataset(X_train, y_train), num_boost_round=500)\n",
    "\n",
    "end_time = time.time()\n",
    "training_time_lgb_2 = end_time - start_time\n",
    "\n",
    "# время обучения модели lightgbm_2\n",
    "print(f'Время обучения lightgbm_2: {training_time_lgb_2:.2f} секунд')\n",
    "\n",
    "# время предсказания модели lightgbm_2 на валидационной выборке\n",
    "start_time = time.time()\n",
    "predict_lgb_2 = model_lgb_2.predict(X_valid)\n",
    "end_time = time.time()\n",
    "prediction_time_lgb_2 = end_time - start_time\n",
    "print(f'Время предсказания lightgbm_2: {prediction_time_lgb_2:.2f} секунд')\n",
    "\n",
    "# оценка качества модели lightgbm_2 на валидационной выборке\n",
    "rmse_lgb_2 = mean_squared_error(y_valid, predict_lgb_2, squared=False)\n",
    "print(f'RMSE lightgbm_3 на валидационной выборке: {rmse_lgb_2:.2f}')"
   ]
  },
  {
   "cell_type": "markdown",
   "metadata": {},
   "source": [
    "**модель lightgbm_3 с числом деревьев в ансамбле = 1000**"
   ]
  },
  {
   "cell_type": "code",
   "execution_count": 60,
   "metadata": {},
   "outputs": [
    {
     "name": "stdout",
     "output_type": "stream",
     "text": [
      "[LightGBM] [Info] Total Bins 610\n",
      "[LightGBM] [Info] Number of data points in the train set: 195834, number of used features: 9\n",
      "[LightGBM] [Info] Start training from score 4579.399915\n",
      "Время обучения lightgbm_3: 43.39 секунд\n",
      "Время предсказания lightgbm_3: 4.51 секунд\n",
      "RMSE lightgbm_3 на валидационной выборке: 1545.20\n"
     ]
    }
   ],
   "source": [
    "start_time = time.time()\n",
    "\n",
    "params = {\n",
    "    'boosting': 'gbdt',\n",
    "    'objective': 'regression',\n",
    "    'metric': 'rmse',\n",
    "    'num_leaves': 31,\n",
    "    'learning_rate': 0.1,\n",
    "    'force_row_wise':True,\n",
    "    'n_jobs': -1\n",
    "}\n",
    "\n",
    "model_lgb_3 = lgb.train(params, lgb.Dataset(X_train, y_train), num_boost_round=1000)\n",
    "\n",
    "end_time = time.time()\n",
    "training_time_lgb_3 = end_time - start_time\n",
    "\n",
    "# время обучения модели lightgbm_3\n",
    "print(f'Время обучения lightgbm_3: {training_time_lgb_3:.2f} секунд')\n",
    "\n",
    "# время предсказания модели lightgbm_3 на валидационной выборке\n",
    "start_time = time.time()\n",
    "\n",
    "predict_lgb_3 = model_lgb_3.predict(X_valid)\n",
    "end_time = time.time()\n",
    "prediction_time_lgb_3 = end_time - start_time\n",
    "print(f'Время предсказания lightgbm_3: {prediction_time_lgb_3:.2f} секунд')\n",
    "\n",
    "# оценка качества модели lightgbm_3 на валидационной выборке\n",
    "rmse_lgb_3 = mean_squared_error(y_valid, predict_lgb_3, squared=False)\n",
    "print(f'RMSE lightgbm_3 на валидационной выборке: {rmse_lgb_3:.2f}')"
   ]
  },
  {
   "cell_type": "code",
   "execution_count": 61,
   "metadata": {},
   "outputs": [
    {
     "data": {
      "image/png": "[encoded data removed]",
      "text/plain": [
       "<Figure size 720x360 with 1 Axes>"
      ]
     },
     "metadata": {
      "needs_background": "light"
     },
     "output_type": "display_data"
    }
   ],
   "source": [
    "lgb.plot_importance(model_lgb_3, figsize=(10,5));"
   ]
  },
  {
   "cell_type": "markdown",
   "metadata": {},
   "source": [
    "<div class=\"alert alert-success\">\n",
    "<b>ОТЛИЧНО!</b>\n",
    "\n",
    "про визуализацию признаков, которые модель \"посчитала\" важными. Почему их анализ важен и полезен (несколько причин, почему важно тщательно \"рассматривать\" признаки:\n",
    "\n",
    "1. **Информативность**: Признаки содержат информацию, которая помогает модели делать предсказания. Некоторые признаки могут быть более информативными, чем другие, и могут иметь сильное влияние на результаты модели. Понимание, какие признаки являются наиболее информативными, поможет сосредоточить усилия на сборе и анализе этих признаков, что в конечном итоге может привести к лучшим предсказаниям модели.\n",
    "\n",
    "2. **Устранение шума и избыточности**: Некоторые признаки могут содержать шумовую или избыточную информацию, которая может негативно повлиять на работу модели. Анализ и отсев таких признаков помогут улучшить качество модели, устранить возможное переобучение и улучшить ее способность обобщать данные.\n",
    "\n",
    "3. **Раскрытие взаимосвязей**: Изучение признаков может помочь обнаружить скрытые взаимосвязи и зависимости в данных. Например, два признака могут быть слабо информативными сами по себе, но в комбинации могут образовывать сильный предиктор. Исследование и понимание взаимосвязей между признаками может привести к созданию более сложных, но более мощных моделей.\n",
    "\n",
    "4. **Сокращение размерности**: Некоторые наборы данных могут содержать большое количество признаков, и это может стать проблемой для обучения моделей. Сокращение размерности путем отбора наиболее важных признаков позволяет сократить вычислительную сложность, снизить вероятность переобучения и улучшить интерпретируемость модели.\n",
    "\n",
    "5. **Интерпретируемость**: Понимание важности признаков также помогает интерпретировать результаты модели. Если мы знаем, какие признаки оказывают наибольшее влияние на предсказания, мы можем сделать более осознанные выводы и принимать меры на основе результатов   \n",
    "</div>\n"
   ]
  },
  {
   "cell_type": "markdown",
   "metadata": {},
   "source": [
    "**модель CatBoostRegressor**"
   ]
  },
  {
   "cell_type": "code",
   "execution_count": 62,
   "metadata": {
    "scrolled": true
   },
   "outputs": [
    {
     "name": "stdout",
     "output_type": "stream",
     "text": [
      "0:\tlearn: 4206.5801190\ttotal: 98.5ms\tremaining: 1m 38s\n",
      "100:\tlearn: 1662.7906662\ttotal: 4.77s\tremaining: 42.4s\n",
      "200:\tlearn: 1565.0033117\ttotal: 9.58s\tremaining: 38.1s\n",
      "300:\tlearn: 1509.5934381\ttotal: 14.4s\tremaining: 33.4s\n",
      "400:\tlearn: 1466.7101026\ttotal: 19.2s\tremaining: 28.7s\n",
      "500:\tlearn: 1434.2491428\ttotal: 24.2s\tremaining: 24.2s\n",
      "600:\tlearn: 1408.3268129\ttotal: 29.4s\tremaining: 19.5s\n",
      "700:\tlearn: 1386.6808936\ttotal: 34.6s\tremaining: 14.7s\n",
      "800:\tlearn: 1368.9985278\ttotal: 39.9s\tremaining: 9.9s\n",
      "900:\tlearn: 1352.6781443\ttotal: 45.1s\tremaining: 4.96s\n",
      "999:\tlearn: 1338.4109088\ttotal: 50.2s\tremaining: 0us\n",
      "время обучения CatBoostRegressor: 52.38 секунд\n",
      "время предсказания CatBoostRegressor: 0.27 секунд\n",
      "RMSE CatBoostRegressor на валидационной выборке: 1533.94\n"
     ]
    }
   ],
   "source": [
    "start_time = time.time()\n",
    "\n",
    "model_catboost = CatBoostRegressor(iterations=1000, learning_rate=0.1, depth=10, loss_function='RMSE', \n",
    "                                   random_state=12345)\n",
    "model_catboost.fit(X_train, y_train, verbose=100)\n",
    "\n",
    "end_time = time.time()\n",
    "training_time_cbr = end_time - start_time\n",
    "\n",
    "# время обучения модели CatBoostRegressor\n",
    "print(f'время обучения CatBoostRegressor: {training_time_cbr:.2f} секунд')\n",
    "\n",
    "# Время предсказания модели CatBoostRegressor на валидационной выборке\n",
    "start_time = time.time()\n",
    "predict_catboost = model_catboost.predict(X_valid)\n",
    "end_time = time.time()\n",
    "prediction_time_cbr = end_time - start_time\n",
    "print(f'время предсказания CatBoostRegressor: {prediction_time_cbr:.2f} секунд')\n",
    "\n",
    "# Оценка качества модели CatBoostRegressor на валидационной выборке\n",
    "rmse_catboost = mean_squared_error(y_valid, predict_catboost, squared=False)\n",
    "print(f'RMSE CatBoostRegressor на валидационной выборке: {rmse_catboost:.2f}')"
   ]
  },
  {
   "cell_type": "markdown",
   "metadata": {},
   "source": [
    "**модель XGBRegressor**"
   ]
  },
  {
   "cell_type": "code",
   "execution_count": 63,
   "metadata": {},
   "outputs": [
    {
     "name": "stdout",
     "output_type": "stream",
     "text": [
      "[0]\tvalidation_0-rmse:5876.20752\n",
      "[100]\tvalidation_0-rmse:1551.76892\n",
      "[200]\tvalidation_0-rmse:1530.26904\n",
      "[300]\tvalidation_0-rmse:1523.52661\n",
      "[400]\tvalidation_0-rmse:1520.79639\n",
      "[500]\tvalidation_0-rmse:1519.33826\n",
      "[560]\tvalidation_0-rmse:1519.73218\n",
      "время обучения XGBRegressor: 2759.91 секунд\n",
      "время предсказания XGBRegressor: 2.30 секунд\n",
      "RMSE XGBRegressor на валидационной выборке: 1519.33\n"
     ]
    }
   ],
   "source": [
    "start_time = time.time()\n",
    "\n",
    "model_xgb = XGBRegressor(n_estimators=1000, learning_rate=0.1, max_depth=10, random_state=12345)\n",
    "\n",
    "model_xgb.fit(X_train, y_train, eval_set=[(X_valid, y_valid)], early_stopping_rounds=50, verbose=100)\n",
    "\n",
    "end_time = time.time()\n",
    "training_time_xgb = end_time - start_time\n",
    "\n",
    "# время обучения модели XGBRegressor\n",
    "print(f'время обучения XGBRegressor: {training_time_xgb:.2f} секунд')\n",
    "\n",
    "# Время предсказания модели XGBRegressor на валидационной выборке\n",
    "start_time = time.time()\n",
    "predict_xgb = model_xgb.predict(X_valid)\n",
    "end_time = time.time()\n",
    "prediction_time_xgb = end_time - start_time\n",
    "print(f'время предсказания XGBRegressor: {prediction_time_xgb:.2f} секунд')\n",
    "\n",
    "# оценка качества модели XGBRegressor на валидационной выборке\n",
    "rmse_xgb = mean_squared_error(y_valid, predict_xgb, squared=False)\n",
    "print(f'RMSE XGBRegressor на валидационной выборке: {rmse_xgb:.2f}')"
   ]
  },
  {
   "cell_type": "markdown",
   "metadata": {},
   "source": [
    "**модель LinearRegression**"
   ]
  },
  {
   "cell_type": "code",
   "execution_count": 64,
   "metadata": {},
   "outputs": [
    {
     "name": "stdout",
     "output_type": "stream",
     "text": [
      "Время обучения LinearRegression: 0.09 секунд\n",
      "Время предсказания LinearRegression: 0.06 секунд\n",
      "RMSE LR на валидационной выборке: 2943.84\n"
     ]
    }
   ],
   "source": [
    "model_LR = LinearRegression()\n",
    "\n",
    "start_time = time.time()\n",
    "\n",
    "model_LR.fit(X_train, y_train)\n",
    "end_time = time.time()\n",
    "training_time_lr = end_time - start_time\n",
    "\n",
    "# время обучения модели LinearRegression\n",
    "print(f'Время обучения LinearRegression: {training_time_lr:.2f} секунд')\n",
    "\n",
    "# время предсказания модели LinearRegression на валидационной выборке:\n",
    "start_time = time.time()\n",
    "predict_LR = model_LR.predict(X_valid)\n",
    "end_time = time.time()\n",
    "prediction_time_lr = end_time - start_time\n",
    "print(f'Время предсказания LinearRegression: {prediction_time_lr:.2f} секунд')\n",
    "\n",
    "# оценка качества модели LR на валидационной выборке:\n",
    "rmse_lr = mean_squared_error(y_valid, predict_LR, squared=False)\n",
    "print(f'RMSE LR на валидационной выборке: {rmse_lr:.2f}')"
   ]
  },
  {
   "cell_type": "markdown",
   "metadata": {},
   "source": [
    "## Анализ моделей"
   ]
  },
  {
   "cell_type": "code",
   "execution_count": 74,
   "metadata": {},
   "outputs": [
    {
     "data": {
      "text/html": [
       "<div>\n",
       "<style scoped>\n",
       "    .dataframe tbody tr th:only-of-type {\n",
       "        vertical-align: middle;\n",
       "    }\n",
       "\n",
       "    .dataframe tbody tr th {\n",
       "        vertical-align: top;\n",
       "    }\n",
       "\n",
       "    .dataframe thead th {\n",
       "        text-align: right;\n",
       "    }\n",
       "</style>\n",
       "<table border=\"1\" class=\"dataframe\">\n",
       "  <thead>\n",
       "    <tr style=\"text-align: right;\">\n",
       "      <th></th>\n",
       "      <th>Модель</th>\n",
       "      <th>Количество деревьев в ансамбле</th>\n",
       "      <th>Время обучения,сек</th>\n",
       "      <th>Время предсказания,сек</th>\n",
       "      <th>RMSE</th>\n",
       "    </tr>\n",
       "  </thead>\n",
       "  <tbody>\n",
       "    <tr>\n",
       "      <th>0</th>\n",
       "      <td>Linear Regression</td>\n",
       "      <td>-</td>\n",
       "      <td>0.09</td>\n",
       "      <td>0.06</td>\n",
       "      <td>2,943.84</td>\n",
       "    </tr>\n",
       "    <tr>\n",
       "      <th>1</th>\n",
       "      <td>lightgbm_1</td>\n",
       "      <td>100</td>\n",
       "      <td>212.36</td>\n",
       "      <td>0.41</td>\n",
       "      <td>1,787.66</td>\n",
       "    </tr>\n",
       "    <tr>\n",
       "      <th>2</th>\n",
       "      <td>lightgbm_2</td>\n",
       "      <td>500</td>\n",
       "      <td>19.40</td>\n",
       "      <td>1.80</td>\n",
       "      <td>1,578.10</td>\n",
       "    </tr>\n",
       "    <tr>\n",
       "      <th>3</th>\n",
       "      <td>lightgbm_3</td>\n",
       "      <td>1000</td>\n",
       "      <td>43.39</td>\n",
       "      <td>4.51</td>\n",
       "      <td>1,545.20</td>\n",
       "    </tr>\n",
       "    <tr>\n",
       "      <th>4</th>\n",
       "      <td>CatBoostRegressor_1000</td>\n",
       "      <td>1000</td>\n",
       "      <td>52.38</td>\n",
       "      <td>0.27</td>\n",
       "      <td>1,533.94</td>\n",
       "    </tr>\n",
       "    <tr>\n",
       "      <th>5</th>\n",
       "      <td>XGBRegressor_1000</td>\n",
       "      <td>1000</td>\n",
       "      <td>2,759.91</td>\n",
       "      <td>2.30</td>\n",
       "      <td>1,519.33</td>\n",
       "    </tr>\n",
       "  </tbody>\n",
       "</table>\n",
       "</div>"
      ],
      "text/plain": [
       "                   Модель Количество деревьев в ансамбле  Время обучения,сек  \\\n",
       "0       Linear Regression                              -                0.09   \n",
       "1              lightgbm_1                            100              212.36   \n",
       "2              lightgbm_2                            500               19.40   \n",
       "3              lightgbm_3                           1000               43.39   \n",
       "4  CatBoostRegressor_1000                           1000               52.38   \n",
       "5       XGBRegressor_1000                           1000            2,759.91   \n",
       "\n",
       "   Время предсказания,сек     RMSE  \n",
       "0                    0.06 2,943.84  \n",
       "1                    0.41 1,787.66  \n",
       "2                    1.80 1,578.10  \n",
       "3                    4.51 1,545.20  \n",
       "4                    0.27 1,533.94  \n",
       "5                    2.30 1,519.33  "
      ]
     },
     "execution_count": 74,
     "metadata": {},
     "output_type": "execute_result"
    }
   ],
   "source": [
    "# сравнительная таблица с результатами\n",
    "comparative_table = pd.DataFrame(\n",
    "    {'Модель': \n",
    "     ['Linear Regression', 'lightgbm_1', 'lightgbm_2', 'lightgbm_3', 'CatBoostRegressor_1000', 'XGBRegressor_1000'],\n",
    "     'Количество деревьев в ансамбле': \n",
    "     ['-', '100', '500', '1000', '1000', '1000'],\n",
    "     'Время обучения,сек': \n",
    "     [training_time_lr, training_time_lgb_1, training_time_lgb_2, training_time_lgb_3, training_time_cbr, training_time_xgb] ,\n",
    "     'Время предсказания,сек': \n",
    "     [prediction_time_lr, prediction_time_lgb_1, prediction_time_lgb_2, prediction_time_lgb_3, prediction_time_cbr, prediction_time_xgb ],\n",
    "     'RMSE': \n",
    "     [rmse_lr, rmse_lgb_1, rmse_lgb_2, rmse_lgb_3, rmse_catboost, rmse_xgb]})\n",
    "\n",
    "comparative_table"
   ]
  },
  {
   "cell_type": "markdown",
   "metadata": {},
   "source": [
    "**по критерию - оценка качества - лучшая модель XGBRegressor с количеством деревьев 1000**"
   ]
  },
  {
   "cell_type": "code",
   "execution_count": 70,
   "metadata": {},
   "outputs": [
    {
     "name": "stdout",
     "output_type": "stream",
     "text": [
      "лучшая модель - XGBRegressor с числом деревьев в ансамбле 1000\n",
      "RMSE XGBRegressor на тестовой выборке: 1517.91\n"
     ]
    }
   ],
   "source": [
    "# оценка лучшей модели на тестовой выборке\n",
    "print(f'лучшая модель - XGBRegressor с числом деревьев в ансамбле 1000')\n",
    "rmse_test = mean_squared_error(y_test, model_xgb.predict(X_test), squared=False)\n",
    "print(f'RMSE XGBRegressor на тестовой выборке: {rmse_test:.2f}')"
   ]
  },
  {
   "cell_type": "code",
   "execution_count": 73,
   "metadata": {},
   "outputs": [
    {
     "name": "stdout",
     "output_type": "stream",
     "text": [
      "RMSE CatBoostRegressor на тестовой выборке: 1533.20\n"
     ]
    }
   ],
   "source": [
    "# добавлю оценку модели CatBoostRegressor_1000 на тестовой выборке\n",
    "rmse_test = mean_squared_error(y_test, model_catboost.predict(X_test), squared=False)\n",
    "print(f'RMSE CatBoostRegressor на тестовой выборке: {rmse_test:.2f}')"
   ]
  },
  {
   "cell_type": "markdown",
   "metadata": {},
   "source": [
    "**Выводы, Информация п.4,5**\n",
    "\n",
    "1. Проведено обучение, предсказание на моделях Lightgmb, Linear Regression, CatBoostRegressor;\n",
    "2. Обучение Lightgmb обучение с разным числом деревьев в ансамбле - 100, 500, 1000;\n",
    "3. Составлена таблица сравнения моделей - время обучения, время предсказания, качество моделей;\n",
    "4. Выбрана лучшая модель;\n",
    "\n",
    "Все бустинговые модели прощли минимальное требование заказчика RMSE > 2500\n",
    "\n",
    "Лучшая модель -  XGBRegressor с числом деревьев в ансамбле 1000 \n",
    "\n",
    "RMSE лучшей модели на тестовой выборке - 1517.91 \n",
    "\n",
    "Значительный минус XGBRegressor - время обучения - почти 45 минут.\n"
   ]
  },
  {
   "cell_type": "markdown",
   "metadata": {},
   "source": [
    "## Чек-лист проверки"
   ]
  },
  {
   "cell_type": "markdown",
   "metadata": {},
   "source": [
    "Поставьте 'x' в выполненных пунктах. Далее нажмите Shift+Enter."
   ]
  },
  {
   "cell_type": "markdown",
   "metadata": {},
   "source": [
    "- [x]  Jupyter Notebook открыт\n",
    "- [x]  Весь код выполняется без ошибок\n",
    "- [x]  Ячейки с кодом расположены в порядке исполнения\n",
    "- [x]  Выполнена загрузка и подготовка данных\n",
    "- [x]  Выполнено обучение моделей\n",
    "- [x]  Есть анализ скорости работы и качества моделей"
   ]
  }
 ],
 "metadata": {
  "ExecuteTimeLog": [
   {
    "duration": 51,
    "start_time": "2023-06-26T09:00:35.830Z"
   },
   {
    "duration": 1362,
    "start_time": "2023-06-26T09:00:39.863Z"
   },
   {
    "duration": 2942,
    "start_time": "2023-06-26T09:00:41.227Z"
   },
   {
    "duration": 130,
    "start_time": "2023-06-26T09:01:14.274Z"
   },
   {
    "duration": 14,
    "start_time": "2023-06-26T09:02:43.543Z"
   },
   {
    "duration": 1241,
    "start_time": "2023-06-26T09:08:35.294Z"
   },
   {
    "duration": 832,
    "start_time": "2023-06-26T09:08:36.537Z"
   },
   {
    "duration": 15,
    "start_time": "2023-06-26T09:08:37.371Z"
   },
   {
    "duration": 138,
    "start_time": "2023-06-26T09:08:37.388Z"
   },
   {
    "duration": 1292,
    "start_time": "2023-06-26T09:09:24.445Z"
   },
   {
    "duration": 884,
    "start_time": "2023-06-26T09:09:25.739Z"
   },
   {
    "duration": 15,
    "start_time": "2023-06-26T09:09:26.625Z"
   },
   {
    "duration": 138,
    "start_time": "2023-06-26T09:09:26.642Z"
   },
   {
    "duration": 120,
    "start_time": "2023-06-26T09:09:26.783Z"
   },
   {
    "duration": 125,
    "start_time": "2023-06-26T09:09:26.905Z"
   },
   {
    "duration": 3628,
    "start_time": "2023-06-26T09:10:19.506Z"
   },
   {
    "duration": 492,
    "start_time": "2023-06-26T09:10:32.848Z"
   },
   {
    "duration": 457,
    "start_time": "2023-06-26T09:11:46.571Z"
   },
   {
    "duration": 116,
    "start_time": "2023-06-26T09:15:26.905Z"
   },
   {
    "duration": 116,
    "start_time": "2023-06-26T09:15:45.161Z"
   },
   {
    "duration": 121,
    "start_time": "2023-06-26T09:16:01.634Z"
   },
   {
    "duration": 105,
    "start_time": "2023-06-26T09:16:11.925Z"
   },
   {
    "duration": 98,
    "start_time": "2023-06-26T09:21:49.051Z"
   },
   {
    "duration": 78,
    "start_time": "2023-06-26T09:25:54.313Z"
   },
   {
    "duration": 30,
    "start_time": "2023-06-26T09:56:18.213Z"
   },
   {
    "duration": 7,
    "start_time": "2023-06-26T10:30:36.294Z"
   },
   {
    "duration": 778,
    "start_time": "2023-06-26T10:38:03.828Z"
   },
   {
    "duration": 734,
    "start_time": "2023-06-26T10:38:20.559Z"
   },
   {
    "duration": 127,
    "start_time": "2023-06-26T10:38:43.662Z"
   },
   {
    "duration": 8,
    "start_time": "2023-06-26T10:39:23.536Z"
   },
   {
    "duration": 57,
    "start_time": "2023-06-26T10:55:38.248Z"
   },
   {
    "duration": 25,
    "start_time": "2023-06-26T10:56:09.218Z"
   },
   {
    "duration": 10,
    "start_time": "2023-06-26T11:00:22.035Z"
   },
   {
    "duration": 63,
    "start_time": "2023-06-26T11:01:00.369Z"
   },
   {
    "duration": 64,
    "start_time": "2023-06-26T11:09:10.831Z"
   },
   {
    "duration": 75,
    "start_time": "2023-06-26T11:09:30.242Z"
   },
   {
    "duration": 81,
    "start_time": "2023-06-26T11:09:53.797Z"
   },
   {
    "duration": 103,
    "start_time": "2023-06-26T11:13:19.348Z"
   },
   {
    "duration": 74,
    "start_time": "2023-06-26T11:13:51.722Z"
   },
   {
    "duration": 81,
    "start_time": "2023-06-26T11:14:33.260Z"
   },
   {
    "duration": 79,
    "start_time": "2023-06-26T11:15:53.935Z"
   },
   {
    "duration": 72,
    "start_time": "2023-06-26T11:16:23.041Z"
   },
   {
    "duration": 79,
    "start_time": "2023-06-26T11:16:40.123Z"
   },
   {
    "duration": 71,
    "start_time": "2023-06-26T11:17:36.513Z"
   },
   {
    "duration": 81,
    "start_time": "2023-06-26T11:17:54.259Z"
   },
   {
    "duration": 73,
    "start_time": "2023-06-26T11:18:24.353Z"
   },
   {
    "duration": 13,
    "start_time": "2023-06-26T11:23:35.628Z"
   },
   {
    "duration": 8,
    "start_time": "2023-06-26T11:23:43.605Z"
   },
   {
    "duration": 11,
    "start_time": "2023-06-26T11:24:07.012Z"
   },
   {
    "duration": 11,
    "start_time": "2023-06-26T11:24:16.228Z"
   },
   {
    "duration": 10,
    "start_time": "2023-06-26T11:24:58.702Z"
   },
   {
    "duration": 48,
    "start_time": "2023-06-26T11:25:55.704Z"
   },
   {
    "duration": 1817,
    "start_time": "2023-06-26T12:05:45.940Z"
   },
   {
    "duration": 44,
    "start_time": "2023-06-26T12:06:04.742Z"
   },
   {
    "duration": 11,
    "start_time": "2023-06-26T12:06:38.303Z"
   },
   {
    "duration": 54,
    "start_time": "2023-06-26T12:06:44.207Z"
   },
   {
    "duration": 365,
    "start_time": "2023-06-26T12:09:34.155Z"
   },
   {
    "duration": 176,
    "start_time": "2023-06-26T12:10:39.769Z"
   },
   {
    "duration": 8,
    "start_time": "2023-06-26T12:11:01.015Z"
   },
   {
    "duration": 1368,
    "start_time": "2023-06-26T12:11:16.832Z"
   },
   {
    "duration": 973,
    "start_time": "2023-06-26T12:11:18.202Z"
   },
   {
    "duration": 14,
    "start_time": "2023-06-26T12:11:19.177Z"
   },
   {
    "duration": 167,
    "start_time": "2023-06-26T12:11:19.192Z"
   },
   {
    "duration": 597,
    "start_time": "2023-06-26T12:11:19.362Z"
   },
   {
    "duration": 561,
    "start_time": "2023-06-26T12:11:19.961Z"
   },
   {
    "duration": 116,
    "start_time": "2023-06-26T12:11:20.523Z"
   },
   {
    "duration": 9,
    "start_time": "2023-06-26T12:11:20.641Z"
   },
   {
    "duration": 92,
    "start_time": "2023-06-26T12:11:20.652Z"
   },
   {
    "duration": 79,
    "start_time": "2023-06-26T12:11:20.747Z"
   },
   {
    "duration": 30,
    "start_time": "2023-06-26T12:11:20.829Z"
   },
   {
    "duration": 65,
    "start_time": "2023-06-26T12:11:20.861Z"
   },
   {
    "duration": 38,
    "start_time": "2023-06-26T12:11:20.928Z"
   },
   {
    "duration": 155,
    "start_time": "2023-06-26T12:11:20.968Z"
   },
   {
    "duration": 37,
    "start_time": "2023-06-26T12:11:21.124Z"
   },
   {
    "duration": 29,
    "start_time": "2023-06-26T12:13:02.564Z"
   },
   {
    "duration": 37,
    "start_time": "2023-06-26T12:13:43.862Z"
   },
   {
    "duration": 33,
    "start_time": "2023-06-26T12:14:30.457Z"
   },
   {
    "duration": 182,
    "start_time": "2023-06-26T12:22:53.507Z"
   },
   {
    "duration": 169,
    "start_time": "2023-06-26T12:23:21.458Z"
   },
   {
    "duration": 139,
    "start_time": "2023-06-26T12:23:45.832Z"
   },
   {
    "duration": 18,
    "start_time": "2023-06-26T12:24:04.013Z"
   },
   {
    "duration": 6270,
    "start_time": "2023-06-26T12:24:48.955Z"
   },
   {
    "duration": 6280,
    "start_time": "2023-06-26T12:26:28.831Z"
   },
   {
    "duration": 299,
    "start_time": "2023-06-26T12:26:49.742Z"
   },
   {
    "duration": 186,
    "start_time": "2023-06-26T12:26:57.057Z"
   },
   {
    "duration": 1637,
    "start_time": "2023-06-26T12:28:01.610Z"
   },
   {
    "duration": 14,
    "start_time": "2023-06-26T12:28:44.033Z"
   },
   {
    "duration": 9,
    "start_time": "2023-06-26T12:33:15.601Z"
   },
   {
    "duration": 9837,
    "start_time": "2023-06-26T12:33:24.158Z"
   },
   {
    "duration": 166,
    "start_time": "2023-06-26T12:34:42.300Z"
   },
   {
    "duration": 75,
    "start_time": "2023-06-26T12:35:53.441Z"
   },
   {
    "duration": 6,
    "start_time": "2023-06-26T12:42:37.127Z"
   },
   {
    "duration": 15,
    "start_time": "2023-06-26T12:42:54.436Z"
   },
   {
    "duration": 18,
    "start_time": "2023-06-26T12:43:30.819Z"
   },
   {
    "duration": 68,
    "start_time": "2023-06-26T12:46:22.073Z"
   },
   {
    "duration": 15,
    "start_time": "2023-06-26T12:52:19.220Z"
   },
   {
    "duration": 21,
    "start_time": "2023-06-26T12:53:41.692Z"
   },
   {
    "duration": 32,
    "start_time": "2023-06-26T12:56:25.026Z"
   },
   {
    "duration": 39,
    "start_time": "2023-06-26T13:00:57.608Z"
   },
   {
    "duration": 31,
    "start_time": "2023-06-26T13:01:50.710Z"
   },
   {
    "duration": 33,
    "start_time": "2023-06-26T13:02:01.091Z"
   },
   {
    "duration": 70,
    "start_time": "2023-06-26T13:04:04.897Z"
   },
   {
    "duration": 39,
    "start_time": "2023-06-26T13:08:28.720Z"
   },
   {
    "duration": 39,
    "start_time": "2023-06-26T13:08:43.935Z"
   },
   {
    "duration": 59,
    "start_time": "2023-06-26T13:23:48.755Z"
   },
   {
    "duration": 35,
    "start_time": "2023-06-26T13:23:49.966Z"
   },
   {
    "duration": 100,
    "start_time": "2023-06-26T13:28:24.023Z"
   },
   {
    "duration": 13,
    "start_time": "2023-06-26T13:29:26.735Z"
   },
   {
    "duration": 7,
    "start_time": "2023-06-26T13:30:19.227Z"
   },
   {
    "duration": 182,
    "start_time": "2023-06-26T13:30:35.980Z"
   },
   {
    "duration": 19,
    "start_time": "2023-06-26T13:32:13.310Z"
   },
   {
    "duration": 36,
    "start_time": "2023-06-26T13:32:45.451Z"
   },
   {
    "duration": 10,
    "start_time": "2023-06-26T13:33:42.273Z"
   },
   {
    "duration": 173,
    "start_time": "2023-06-26T13:33:46.754Z"
   },
   {
    "duration": 18,
    "start_time": "2023-06-26T13:34:12.610Z"
   },
   {
    "duration": 139,
    "start_time": "2023-06-26T13:34:30.355Z"
   },
   {
    "duration": 154,
    "start_time": "2023-06-26T13:35:38.301Z"
   },
   {
    "duration": 138,
    "start_time": "2023-06-26T13:36:34.687Z"
   },
   {
    "duration": 110,
    "start_time": "2023-06-26T13:37:01.058Z"
   },
   {
    "duration": 102,
    "start_time": "2023-06-26T13:37:07.604Z"
   },
   {
    "duration": 212,
    "start_time": "2023-06-26T13:37:18.348Z"
   },
   {
    "duration": 160,
    "start_time": "2023-06-26T13:38:02.503Z"
   },
   {
    "duration": 152,
    "start_time": "2023-06-26T13:38:10.954Z"
   },
   {
    "duration": 162,
    "start_time": "2023-06-26T13:38:16.763Z"
   },
   {
    "duration": 165,
    "start_time": "2023-06-26T13:38:31.688Z"
   },
   {
    "duration": 155,
    "start_time": "2023-06-26T13:40:30.549Z"
   },
   {
    "duration": 169,
    "start_time": "2023-06-26T13:43:08.667Z"
   },
   {
    "duration": 547,
    "start_time": "2023-06-26T13:44:09.102Z"
   },
   {
    "duration": 84,
    "start_time": "2023-06-26T13:44:27.355Z"
   },
   {
    "duration": 148,
    "start_time": "2023-06-26T13:44:32.755Z"
   },
   {
    "duration": 128,
    "start_time": "2023-06-26T13:46:25.032Z"
   },
   {
    "duration": 162,
    "start_time": "2023-06-26T13:47:24.744Z"
   },
   {
    "duration": 179,
    "start_time": "2023-06-26T13:47:34.557Z"
   },
   {
    "duration": 134,
    "start_time": "2023-06-26T13:50:11.140Z"
   },
   {
    "duration": 180,
    "start_time": "2023-06-26T13:50:26.431Z"
   },
   {
    "duration": 165,
    "start_time": "2023-06-26T13:50:48.566Z"
   },
   {
    "duration": 207,
    "start_time": "2023-06-26T13:51:09.042Z"
   },
   {
    "duration": 301,
    "start_time": "2023-06-26T13:52:42.882Z"
   },
   {
    "duration": 10,
    "start_time": "2023-06-26T13:53:04.867Z"
   },
   {
    "duration": 154,
    "start_time": "2023-06-26T13:54:28.270Z"
   },
   {
    "duration": 118,
    "start_time": "2023-06-26T13:54:49.342Z"
   },
   {
    "duration": 162,
    "start_time": "2023-06-26T13:54:59.637Z"
   },
   {
    "duration": 143,
    "start_time": "2023-06-26T13:55:09.155Z"
   },
   {
    "duration": 126,
    "start_time": "2023-06-26T13:55:24.435Z"
   },
   {
    "duration": 115,
    "start_time": "2023-06-26T13:55:31.815Z"
   },
   {
    "duration": 130,
    "start_time": "2023-06-26T13:55:44.671Z"
   },
   {
    "duration": 130,
    "start_time": "2023-06-26T13:55:50.706Z"
   },
   {
    "duration": 10,
    "start_time": "2023-06-26T13:55:58.297Z"
   },
   {
    "duration": 182,
    "start_time": "2023-06-26T13:56:11.910Z"
   },
   {
    "duration": 151,
    "start_time": "2023-06-26T13:56:18.068Z"
   },
   {
    "duration": 192,
    "start_time": "2023-06-26T13:56:24.280Z"
   },
   {
    "duration": 128,
    "start_time": "2023-06-26T13:56:54.765Z"
   },
   {
    "duration": 180,
    "start_time": "2023-06-26T13:57:03.597Z"
   },
   {
    "duration": 156,
    "start_time": "2023-06-26T13:57:12.894Z"
   },
   {
    "duration": 210,
    "start_time": "2023-06-26T13:59:27.554Z"
   },
   {
    "duration": 162,
    "start_time": "2023-06-26T13:59:37.691Z"
   },
   {
    "duration": 311,
    "start_time": "2023-06-26T14:03:51.295Z"
   },
   {
    "duration": 168,
    "start_time": "2023-06-26T14:04:12.409Z"
   },
   {
    "duration": 184,
    "start_time": "2023-06-26T14:06:30.443Z"
   },
   {
    "duration": 200,
    "start_time": "2023-06-26T14:08:45.856Z"
   },
   {
    "duration": 2188,
    "start_time": "2023-06-26T14:12:08.743Z"
   },
   {
    "duration": 58,
    "start_time": "2023-06-26T14:12:19.032Z"
   },
   {
    "duration": 22,
    "start_time": "2023-06-26T14:12:44.139Z"
   },
   {
    "duration": 60,
    "start_time": "2023-06-26T14:18:30.705Z"
   },
   {
    "duration": 117,
    "start_time": "2023-06-26T14:19:23.930Z"
   },
   {
    "duration": 38,
    "start_time": "2023-06-26T14:23:38.505Z"
   },
   {
    "duration": 26,
    "start_time": "2023-06-26T14:23:51.439Z"
   },
   {
    "duration": 13,
    "start_time": "2023-06-26T14:26:23.768Z"
   },
   {
    "duration": 9,
    "start_time": "2023-06-26T14:26:31.145Z"
   },
   {
    "duration": 177,
    "start_time": "2023-06-26T14:27:57.860Z"
   },
   {
    "duration": 11,
    "start_time": "2023-06-26T14:28:25.095Z"
   },
   {
    "duration": 187,
    "start_time": "2023-06-26T14:28:25.793Z"
   },
   {
    "duration": 9,
    "start_time": "2023-06-26T14:29:38.155Z"
   },
   {
    "duration": 1646,
    "start_time": "2023-06-26T14:30:03.305Z"
   },
   {
    "duration": 1053,
    "start_time": "2023-06-26T14:30:04.957Z"
   },
   {
    "duration": 24,
    "start_time": "2023-06-26T14:30:06.012Z"
   },
   {
    "duration": 179,
    "start_time": "2023-06-26T14:30:06.045Z"
   },
   {
    "duration": 165,
    "start_time": "2023-06-26T14:30:06.226Z"
   },
   {
    "duration": 691,
    "start_time": "2023-06-26T14:30:06.394Z"
   },
   {
    "duration": 720,
    "start_time": "2023-06-26T14:30:07.087Z"
   },
   {
    "duration": 154,
    "start_time": "2023-06-26T14:30:07.818Z"
   },
   {
    "duration": 11,
    "start_time": "2023-06-26T14:30:07.977Z"
   },
   {
    "duration": 61,
    "start_time": "2023-06-26T14:30:07.992Z"
   },
   {
    "duration": 143,
    "start_time": "2023-06-26T14:30:08.055Z"
   },
   {
    "duration": 58,
    "start_time": "2023-06-26T14:30:08.205Z"
   },
   {
    "duration": 69,
    "start_time": "2023-06-26T14:30:08.269Z"
   },
   {
    "duration": 51,
    "start_time": "2023-06-26T14:30:08.345Z"
   },
   {
    "duration": 185,
    "start_time": "2023-06-26T14:30:08.404Z"
   },
   {
    "duration": 105,
    "start_time": "2023-06-26T14:30:08.592Z"
   },
   {
    "duration": 48,
    "start_time": "2023-06-26T14:30:08.699Z"
   },
   {
    "duration": 73,
    "start_time": "2023-06-26T14:30:08.749Z"
   },
   {
    "duration": 51,
    "start_time": "2023-06-26T14:30:08.824Z"
   },
   {
    "duration": 18,
    "start_time": "2023-06-26T14:30:08.880Z"
   },
   {
    "duration": 213,
    "start_time": "2023-06-26T14:30:08.900Z"
   },
   {
    "duration": 55,
    "start_time": "2023-06-26T14:30:09.115Z"
   },
   {
    "duration": 206,
    "start_time": "2023-06-26T14:30:09.172Z"
   },
   {
    "duration": 47,
    "start_time": "2023-06-26T14:30:09.382Z"
   },
   {
    "duration": 74,
    "start_time": "2023-06-26T14:30:09.431Z"
   },
   {
    "duration": 31,
    "start_time": "2023-06-26T14:34:22.771Z"
   },
   {
    "duration": 60,
    "start_time": "2023-06-26T14:41:10.328Z"
   },
   {
    "duration": 53,
    "start_time": "2023-06-26T14:41:26.490Z"
   },
   {
    "duration": 60,
    "start_time": "2023-06-26T14:44:29.199Z"
   },
   {
    "duration": 158,
    "start_time": "2023-06-26T14:44:41.604Z"
   },
   {
    "duration": 26,
    "start_time": "2023-06-26T14:48:23.431Z"
   },
   {
    "duration": 62,
    "start_time": "2023-06-26T14:48:39.969Z"
   },
   {
    "duration": 177,
    "start_time": "2023-06-26T14:48:40.841Z"
   },
   {
    "duration": 19,
    "start_time": "2023-06-26T14:48:43.456Z"
   },
   {
    "duration": 48,
    "start_time": "2023-06-26T14:49:22.359Z"
   },
   {
    "duration": 180,
    "start_time": "2023-06-26T14:49:23.779Z"
   },
   {
    "duration": 34,
    "start_time": "2023-06-26T14:49:25.038Z"
   },
   {
    "duration": 162,
    "start_time": "2023-06-26T14:51:15.059Z"
   },
   {
    "duration": 175,
    "start_time": "2023-06-26T14:51:15.862Z"
   },
   {
    "duration": 26,
    "start_time": "2023-06-26T14:51:17.364Z"
   },
   {
    "duration": 282,
    "start_time": "2023-06-26T14:52:19.890Z"
   },
   {
    "duration": 162,
    "start_time": "2023-06-26T14:52:29.271Z"
   },
   {
    "duration": 28,
    "start_time": "2023-06-26T14:53:33.845Z"
   },
   {
    "duration": 32,
    "start_time": "2023-06-26T14:53:41.231Z"
   },
   {
    "duration": 62,
    "start_time": "2023-06-26T14:56:39.649Z"
   },
   {
    "duration": 85,
    "start_time": "2023-06-26T14:57:12.616Z"
   },
   {
    "duration": 42,
    "start_time": "2023-06-26T14:57:57.173Z"
   },
   {
    "duration": 301,
    "start_time": "2023-06-26T14:59:27.828Z"
   },
   {
    "duration": 173,
    "start_time": "2023-06-26T15:00:15.733Z"
   },
   {
    "duration": 1693,
    "start_time": "2023-06-26T15:03:51.451Z"
   },
   {
    "duration": 1142,
    "start_time": "2023-06-26T15:03:53.152Z"
   },
   {
    "duration": 29,
    "start_time": "2023-06-26T15:03:54.296Z"
   },
   {
    "duration": 202,
    "start_time": "2023-06-26T15:03:54.328Z"
   },
   {
    "duration": 189,
    "start_time": "2023-06-26T15:03:54.533Z"
   },
   {
    "duration": 654,
    "start_time": "2023-06-26T15:03:54.724Z"
   },
   {
    "duration": 683,
    "start_time": "2023-06-26T15:03:55.384Z"
   },
   {
    "duration": 125,
    "start_time": "2023-06-26T15:03:56.072Z"
   },
   {
    "duration": 13,
    "start_time": "2023-06-26T15:03:56.203Z"
   },
   {
    "duration": 62,
    "start_time": "2023-06-26T15:03:56.223Z"
   },
   {
    "duration": 122,
    "start_time": "2023-06-26T15:03:56.291Z"
   },
   {
    "duration": 80,
    "start_time": "2023-06-26T15:03:56.416Z"
   },
   {
    "duration": 81,
    "start_time": "2023-06-26T15:03:56.500Z"
   },
   {
    "duration": 39,
    "start_time": "2023-06-26T15:03:56.583Z"
   },
   {
    "duration": 173,
    "start_time": "2023-06-26T15:03:56.624Z"
   },
   {
    "duration": 111,
    "start_time": "2023-06-26T15:03:56.800Z"
   },
   {
    "duration": 54,
    "start_time": "2023-06-26T15:03:56.927Z"
   },
   {
    "duration": 51,
    "start_time": "2023-06-26T15:03:56.983Z"
   },
   {
    "duration": 37,
    "start_time": "2023-06-26T15:03:57.036Z"
   },
   {
    "duration": 12,
    "start_time": "2023-06-26T15:03:57.078Z"
   },
   {
    "duration": 217,
    "start_time": "2023-06-26T15:03:57.092Z"
   },
   {
    "duration": 199,
    "start_time": "2023-06-26T15:03:57.312Z"
   },
   {
    "duration": 227,
    "start_time": "2023-06-26T15:03:57.512Z"
   },
   {
    "duration": 70,
    "start_time": "2023-06-26T15:03:57.741Z"
   },
   {
    "duration": 71,
    "start_time": "2023-06-26T15:03:57.813Z"
   },
   {
    "duration": 45,
    "start_time": "2023-06-26T15:03:57.891Z"
   },
   {
    "duration": 41,
    "start_time": "2023-06-26T15:03:57.942Z"
   },
   {
    "duration": 128,
    "start_time": "2023-06-26T15:03:57.989Z"
   },
   {
    "duration": 3137,
    "start_time": "2023-06-26T15:05:10.141Z"
   },
   {
    "duration": 67,
    "start_time": "2023-06-26T15:05:28.043Z"
   },
   {
    "duration": 26,
    "start_time": "2023-06-26T15:05:53.562Z"
   },
   {
    "duration": 329,
    "start_time": "2023-06-26T15:08:22.434Z"
   },
   {
    "duration": 156,
    "start_time": "2023-06-26T15:08:23.210Z"
   },
   {
    "duration": 143,
    "start_time": "2023-06-26T15:09:00.300Z"
   },
   {
    "duration": 152,
    "start_time": "2023-06-26T15:09:01.185Z"
   },
   {
    "duration": 73,
    "start_time": "2023-06-26T15:10:02.579Z"
   },
   {
    "duration": 1557,
    "start_time": "2023-06-26T15:11:22.241Z"
   },
   {
    "duration": 1292,
    "start_time": "2023-06-26T15:11:23.800Z"
   },
   {
    "duration": 48,
    "start_time": "2023-06-26T15:11:25.094Z"
   },
   {
    "duration": 202,
    "start_time": "2023-06-26T15:11:25.150Z"
   },
   {
    "duration": 157,
    "start_time": "2023-06-26T15:11:25.354Z"
   },
   {
    "duration": 736,
    "start_time": "2023-06-26T15:11:25.513Z"
   },
   {
    "duration": 630,
    "start_time": "2023-06-26T15:11:26.255Z"
   },
   {
    "duration": 138,
    "start_time": "2023-06-26T15:11:26.887Z"
   },
   {
    "duration": 18,
    "start_time": "2023-06-26T15:11:27.035Z"
   },
   {
    "duration": 41,
    "start_time": "2023-06-26T15:11:27.056Z"
   },
   {
    "duration": 113,
    "start_time": "2023-06-26T15:11:27.098Z"
   },
   {
    "duration": 40,
    "start_time": "2023-06-26T15:11:27.218Z"
   },
   {
    "duration": 39,
    "start_time": "2023-06-26T15:11:27.260Z"
   },
   {
    "duration": 68,
    "start_time": "2023-06-26T15:11:27.303Z"
   },
   {
    "duration": 45,
    "start_time": "2023-06-26T15:11:27.373Z"
   },
   {
    "duration": 56,
    "start_time": "2023-06-26T15:11:27.420Z"
   },
   {
    "duration": 185,
    "start_time": "2023-06-26T15:11:27.479Z"
   },
   {
    "duration": 73,
    "start_time": "2023-06-26T15:11:27.666Z"
   },
   {
    "duration": 50,
    "start_time": "2023-06-26T15:11:27.741Z"
   },
   {
    "duration": 78,
    "start_time": "2023-06-26T15:11:27.793Z"
   },
   {
    "duration": 23,
    "start_time": "2023-06-26T15:11:27.877Z"
   },
   {
    "duration": 41,
    "start_time": "2023-06-26T15:11:27.903Z"
   },
   {
    "duration": 160,
    "start_time": "2023-06-26T15:11:27.955Z"
   },
   {
    "duration": 144,
    "start_time": "2023-06-26T15:11:28.117Z"
   },
   {
    "duration": 201,
    "start_time": "2023-06-26T15:11:28.263Z"
   },
   {
    "duration": 53,
    "start_time": "2023-06-26T15:11:28.466Z"
   },
   {
    "duration": 47,
    "start_time": "2023-06-26T15:11:28.521Z"
   },
   {
    "duration": 48,
    "start_time": "2023-06-26T15:11:28.571Z"
   },
   {
    "duration": 41,
    "start_time": "2023-06-26T15:11:28.630Z"
   },
   {
    "duration": 119,
    "start_time": "2023-06-26T15:11:28.674Z"
   },
   {
    "duration": 20,
    "start_time": "2023-06-26T15:15:04.138Z"
   },
   {
    "duration": 31,
    "start_time": "2023-06-26T15:15:12.152Z"
   },
   {
    "duration": 18,
    "start_time": "2023-06-26T15:15:36.083Z"
   },
   {
    "duration": 48,
    "start_time": "2023-06-26T15:16:45.951Z"
   },
   {
    "duration": 34,
    "start_time": "2023-06-26T15:16:46.597Z"
   },
   {
    "duration": 23,
    "start_time": "2023-06-26T15:16:51.403Z"
   },
   {
    "duration": 17,
    "start_time": "2023-06-26T15:16:51.982Z"
   },
   {
    "duration": 87,
    "start_time": "2023-06-26T15:17:46.805Z"
   },
   {
    "duration": 31,
    "start_time": "2023-06-26T15:17:47.367Z"
   },
   {
    "duration": 32,
    "start_time": "2023-06-26T15:17:48.243Z"
   },
   {
    "duration": 204,
    "start_time": "2023-06-26T15:18:20.805Z"
   },
   {
    "duration": 42,
    "start_time": "2023-06-26T15:18:21.325Z"
   },
   {
    "duration": 26,
    "start_time": "2023-06-26T15:18:21.863Z"
   },
   {
    "duration": 1768,
    "start_time": "2023-06-26T15:18:40.481Z"
   },
   {
    "duration": 1473,
    "start_time": "2023-06-26T15:18:42.267Z"
   },
   {
    "duration": 31,
    "start_time": "2023-06-26T15:18:43.743Z"
   },
   {
    "duration": 403,
    "start_time": "2023-06-26T15:18:43.780Z"
   },
   {
    "duration": 340,
    "start_time": "2023-06-26T15:18:44.190Z"
   },
   {
    "duration": 776,
    "start_time": "2023-06-26T15:18:44.537Z"
   },
   {
    "duration": 778,
    "start_time": "2023-06-26T15:18:45.320Z"
   },
   {
    "duration": 154,
    "start_time": "2023-06-26T15:18:46.101Z"
   },
   {
    "duration": 18,
    "start_time": "2023-06-26T15:18:46.261Z"
   },
   {
    "duration": 64,
    "start_time": "2023-06-26T15:18:46.287Z"
   },
   {
    "duration": 132,
    "start_time": "2023-06-26T15:18:46.353Z"
   },
   {
    "duration": 17,
    "start_time": "2023-06-26T15:18:46.490Z"
   },
   {
    "duration": 81,
    "start_time": "2023-06-26T15:18:46.509Z"
   },
   {
    "duration": 51,
    "start_time": "2023-06-26T15:18:46.592Z"
   },
   {
    "duration": 71,
    "start_time": "2023-06-26T15:18:46.647Z"
   },
   {
    "duration": 56,
    "start_time": "2023-06-26T15:18:46.721Z"
   },
   {
    "duration": 187,
    "start_time": "2023-06-26T15:18:46.783Z"
   },
   {
    "duration": 90,
    "start_time": "2023-06-26T15:18:46.977Z"
   },
   {
    "duration": 96,
    "start_time": "2023-06-26T15:18:47.076Z"
   },
   {
    "duration": 83,
    "start_time": "2023-06-26T15:18:47.183Z"
   },
   {
    "duration": 35,
    "start_time": "2023-06-26T15:18:47.274Z"
   },
   {
    "duration": 34,
    "start_time": "2023-06-26T15:18:47.312Z"
   },
   {
    "duration": 217,
    "start_time": "2023-06-26T15:18:47.366Z"
   },
   {
    "duration": 181,
    "start_time": "2023-06-26T15:18:47.588Z"
   },
   {
    "duration": 297,
    "start_time": "2023-06-26T15:18:47.772Z"
   },
   {
    "duration": 55,
    "start_time": "2023-06-26T15:18:48.079Z"
   },
   {
    "duration": 55,
    "start_time": "2023-06-26T15:18:48.138Z"
   },
   {
    "duration": 55,
    "start_time": "2023-06-26T15:18:48.202Z"
   },
   {
    "duration": 33,
    "start_time": "2023-06-26T15:18:48.263Z"
   },
   {
    "duration": 138,
    "start_time": "2023-06-26T15:18:48.304Z"
   },
   {
    "duration": 21,
    "start_time": "2023-06-26T15:18:48.448Z"
   },
   {
    "duration": 26,
    "start_time": "2023-06-26T15:18:48.477Z"
   },
   {
    "duration": 1770,
    "start_time": "2023-06-26T15:20:29.555Z"
   },
   {
    "duration": 215,
    "start_time": "2023-06-26T16:41:54.436Z"
   },
   {
    "duration": 131,
    "start_time": "2023-06-26T16:41:55.050Z"
   },
   {
    "duration": 506,
    "start_time": "2023-06-26T16:42:53.538Z"
   },
   {
    "duration": 371,
    "start_time": "2023-06-26T16:43:10.732Z"
   },
   {
    "duration": 5,
    "start_time": "2023-06-26T16:44:31.530Z"
   },
   {
    "duration": 6,
    "start_time": "2023-06-26T16:44:53.892Z"
   },
   {
    "duration": 3738,
    "start_time": "2023-06-26T16:56:37.732Z"
   },
   {
    "duration": 37,
    "start_time": "2023-06-26T16:57:17.950Z"
   },
   {
    "duration": 907,
    "start_time": "2023-06-26T16:57:56.430Z"
   },
   {
    "duration": 1313,
    "start_time": "2023-06-26T17:03:09.929Z"
   },
   {
    "duration": 14,
    "start_time": "2023-06-26T17:06:30.173Z"
   },
   {
    "duration": 15,
    "start_time": "2023-06-26T17:06:35.294Z"
   },
   {
    "duration": 18,
    "start_time": "2023-06-26T17:06:35.941Z"
   },
   {
    "duration": 37,
    "start_time": "2023-06-26T17:07:37.636Z"
   },
   {
    "duration": 21,
    "start_time": "2023-06-26T17:07:38.901Z"
   },
   {
    "duration": 14,
    "start_time": "2023-06-26T17:08:40.286Z"
   },
   {
    "duration": 146,
    "start_time": "2023-06-26T17:08:45.059Z"
   },
   {
    "duration": 490,
    "start_time": "2023-06-26T17:08:45.686Z"
   },
   {
    "duration": 6,
    "start_time": "2023-06-26T17:08:46.256Z"
   },
   {
    "duration": 197,
    "start_time": "2023-06-26T17:08:46.890Z"
   },
   {
    "duration": 27,
    "start_time": "2023-06-26T17:10:04.440Z"
   },
   {
    "duration": 248,
    "start_time": "2023-06-26T17:10:06.860Z"
   },
   {
    "duration": 246,
    "start_time": "2023-06-26T17:10:12.750Z"
   },
   {
    "duration": 160,
    "start_time": "2023-06-26T17:10:16.942Z"
   },
   {
    "duration": 249,
    "start_time": "2023-06-26T17:14:12.997Z"
   },
   {
    "duration": 152,
    "start_time": "2023-06-26T17:14:18.069Z"
   },
   {
    "duration": 335,
    "start_time": "2023-06-26T17:14:27.765Z"
   },
   {
    "duration": 5294,
    "start_time": "2023-06-26T17:15:20.312Z"
   },
   {
    "duration": 2182,
    "start_time": "2023-06-26T17:15:52.882Z"
   },
   {
    "duration": 4408,
    "start_time": "2023-06-26T17:15:55.070Z"
   },
   {
    "duration": 22,
    "start_time": "2023-06-26T17:15:59.480Z"
   },
   {
    "duration": 308,
    "start_time": "2023-06-26T17:15:59.505Z"
   },
   {
    "duration": 223,
    "start_time": "2023-06-26T17:15:59.826Z"
   },
   {
    "duration": 907,
    "start_time": "2023-06-26T17:16:00.056Z"
   },
   {
    "duration": 743,
    "start_time": "2023-06-26T17:16:00.970Z"
   },
   {
    "duration": 118,
    "start_time": "2023-06-26T17:16:01.725Z"
   },
   {
    "duration": 105,
    "start_time": "2023-06-26T17:16:01.850Z"
   },
   {
    "duration": 135,
    "start_time": "2023-06-26T17:16:01.958Z"
   },
   {
    "duration": 241,
    "start_time": "2023-06-26T17:16:02.096Z"
   },
   {
    "duration": 110,
    "start_time": "2023-06-26T17:16:02.346Z"
   },
   {
    "duration": 133,
    "start_time": "2023-06-26T17:16:02.463Z"
   },
   {
    "duration": 66,
    "start_time": "2023-06-26T17:16:02.600Z"
   },
   {
    "duration": 84,
    "start_time": "2023-06-26T17:16:02.672Z"
   },
   {
    "duration": 62,
    "start_time": "2023-06-26T17:16:02.759Z"
   },
   {
    "duration": 201,
    "start_time": "2023-06-26T17:16:02.824Z"
   },
   {
    "duration": 96,
    "start_time": "2023-06-26T17:16:03.027Z"
   },
   {
    "duration": 55,
    "start_time": "2023-06-26T17:16:03.126Z"
   },
   {
    "duration": 95,
    "start_time": "2023-06-26T17:16:03.187Z"
   },
   {
    "duration": 63,
    "start_time": "2023-06-26T17:16:03.284Z"
   },
   {
    "duration": 100,
    "start_time": "2023-06-26T17:16:03.349Z"
   },
   {
    "duration": 225,
    "start_time": "2023-06-26T17:16:03.460Z"
   },
   {
    "duration": 152,
    "start_time": "2023-06-26T17:16:03.695Z"
   },
   {
    "duration": 239,
    "start_time": "2023-06-26T17:16:03.852Z"
   },
   {
    "duration": 67,
    "start_time": "2023-06-26T17:16:04.094Z"
   },
   {
    "duration": 60,
    "start_time": "2023-06-26T17:16:04.167Z"
   },
   {
    "duration": 54,
    "start_time": "2023-06-26T17:16:04.230Z"
   },
   {
    "duration": 43,
    "start_time": "2023-06-26T17:16:04.286Z"
   },
   {
    "duration": 159,
    "start_time": "2023-06-26T17:16:04.332Z"
   },
   {
    "duration": 53,
    "start_time": "2023-06-26T17:16:04.493Z"
   },
   {
    "duration": 40,
    "start_time": "2023-06-26T17:16:04.550Z"
   },
   {
    "duration": 1331,
    "start_time": "2023-06-26T17:16:04.592Z"
   },
   {
    "duration": 237,
    "start_time": "2023-06-26T17:16:05.925Z"
   },
   {
    "duration": 497,
    "start_time": "2023-06-26T17:16:06.164Z"
   },
   {
    "duration": 5,
    "start_time": "2023-06-26T17:16:06.663Z"
   },
   {
    "duration": 384,
    "start_time": "2023-06-26T17:16:06.670Z"
   },
   {
    "duration": 1883,
    "start_time": "2023-06-26T17:16:07.056Z"
   },
   {
    "duration": 2179,
    "start_time": "2023-06-26T17:19:25.887Z"
   },
   {
    "duration": 200,
    "start_time": "2023-06-26T17:19:28.070Z"
   },
   {
    "duration": 0,
    "start_time": "2023-06-26T17:19:28.277Z"
   },
   {
    "duration": 0,
    "start_time": "2023-06-26T17:19:28.278Z"
   },
   {
    "duration": 0,
    "start_time": "2023-06-26T17:19:28.279Z"
   },
   {
    "duration": 0,
    "start_time": "2023-06-26T17:19:28.280Z"
   },
   {
    "duration": 0,
    "start_time": "2023-06-26T17:19:28.281Z"
   },
   {
    "duration": 0,
    "start_time": "2023-06-26T17:19:28.282Z"
   },
   {
    "duration": 1,
    "start_time": "2023-06-26T17:19:28.282Z"
   },
   {
    "duration": 0,
    "start_time": "2023-06-26T17:19:28.283Z"
   },
   {
    "duration": 0,
    "start_time": "2023-06-26T17:19:28.284Z"
   },
   {
    "duration": 0,
    "start_time": "2023-06-26T17:19:28.285Z"
   },
   {
    "duration": 0,
    "start_time": "2023-06-26T17:19:28.295Z"
   },
   {
    "duration": 0,
    "start_time": "2023-06-26T17:19:28.296Z"
   },
   {
    "duration": 0,
    "start_time": "2023-06-26T17:19:28.298Z"
   },
   {
    "duration": 0,
    "start_time": "2023-06-26T17:19:28.299Z"
   },
   {
    "duration": 0,
    "start_time": "2023-06-26T17:19:28.300Z"
   },
   {
    "duration": 0,
    "start_time": "2023-06-26T17:19:28.322Z"
   },
   {
    "duration": 0,
    "start_time": "2023-06-26T17:19:28.324Z"
   },
   {
    "duration": 0,
    "start_time": "2023-06-26T17:19:28.325Z"
   },
   {
    "duration": 0,
    "start_time": "2023-06-26T17:19:28.327Z"
   },
   {
    "duration": 0,
    "start_time": "2023-06-26T17:19:28.328Z"
   },
   {
    "duration": 0,
    "start_time": "2023-06-26T17:19:28.339Z"
   },
   {
    "duration": 0,
    "start_time": "2023-06-26T17:19:28.341Z"
   },
   {
    "duration": 0,
    "start_time": "2023-06-26T17:19:28.342Z"
   },
   {
    "duration": 0,
    "start_time": "2023-06-26T17:19:28.344Z"
   },
   {
    "duration": 0,
    "start_time": "2023-06-26T17:19:28.346Z"
   },
   {
    "duration": 0,
    "start_time": "2023-06-26T17:19:28.347Z"
   },
   {
    "duration": 0,
    "start_time": "2023-06-26T17:19:28.349Z"
   },
   {
    "duration": 0,
    "start_time": "2023-06-26T17:19:28.350Z"
   },
   {
    "duration": 0,
    "start_time": "2023-06-26T17:19:28.352Z"
   },
   {
    "duration": 0,
    "start_time": "2023-06-26T17:19:28.353Z"
   },
   {
    "duration": 0,
    "start_time": "2023-06-26T17:19:28.355Z"
   },
   {
    "duration": 0,
    "start_time": "2023-06-26T17:19:28.356Z"
   },
   {
    "duration": 0,
    "start_time": "2023-06-26T17:19:28.358Z"
   },
   {
    "duration": 0,
    "start_time": "2023-06-26T17:19:28.360Z"
   },
   {
    "duration": 0,
    "start_time": "2023-06-26T17:19:28.361Z"
   },
   {
    "duration": 0,
    "start_time": "2023-06-26T17:19:28.363Z"
   },
   {
    "duration": 0,
    "start_time": "2023-06-26T17:19:28.364Z"
   },
   {
    "duration": 0,
    "start_time": "2023-06-26T17:19:28.366Z"
   },
   {
    "duration": 0,
    "start_time": "2023-06-26T17:19:28.367Z"
   },
   {
    "duration": 4021,
    "start_time": "2023-06-26T17:19:49.056Z"
   },
   {
    "duration": 19,
    "start_time": "2023-06-26T17:19:53.080Z"
   },
   {
    "duration": 256,
    "start_time": "2023-06-26T17:19:53.102Z"
   },
   {
    "duration": 217,
    "start_time": "2023-06-26T17:19:53.362Z"
   },
   {
    "duration": 767,
    "start_time": "2023-06-26T17:19:53.581Z"
   },
   {
    "duration": 798,
    "start_time": "2023-06-26T17:19:54.350Z"
   },
   {
    "duration": 143,
    "start_time": "2023-06-26T17:19:55.151Z"
   },
   {
    "duration": 23,
    "start_time": "2023-06-26T17:19:55.296Z"
   },
   {
    "duration": 59,
    "start_time": "2023-06-26T17:19:55.321Z"
   },
   {
    "duration": 140,
    "start_time": "2023-06-26T17:19:55.384Z"
   },
   {
    "duration": 16,
    "start_time": "2023-06-26T17:19:55.528Z"
   },
   {
    "duration": 38,
    "start_time": "2023-06-26T17:19:55.546Z"
   },
   {
    "duration": 75,
    "start_time": "2023-06-26T17:19:55.587Z"
   },
   {
    "duration": 79,
    "start_time": "2023-06-26T17:19:55.667Z"
   },
   {
    "duration": 50,
    "start_time": "2023-06-26T17:19:55.748Z"
   },
   {
    "duration": 195,
    "start_time": "2023-06-26T17:19:55.800Z"
   },
   {
    "duration": 95,
    "start_time": "2023-06-26T17:19:55.998Z"
   },
   {
    "duration": 56,
    "start_time": "2023-06-26T17:19:56.096Z"
   },
   {
    "duration": 89,
    "start_time": "2023-06-26T17:19:56.155Z"
   },
   {
    "duration": 29,
    "start_time": "2023-06-26T17:19:56.247Z"
   },
   {
    "duration": 13,
    "start_time": "2023-06-26T17:19:56.278Z"
   },
   {
    "duration": 212,
    "start_time": "2023-06-26T17:19:56.293Z"
   },
   {
    "duration": 156,
    "start_time": "2023-06-26T17:19:56.521Z"
   },
   {
    "duration": 241,
    "start_time": "2023-06-26T17:19:56.680Z"
   },
   {
    "duration": 61,
    "start_time": "2023-06-26T17:19:56.923Z"
   },
   {
    "duration": 158,
    "start_time": "2023-06-26T17:19:56.987Z"
   },
   {
    "duration": 87,
    "start_time": "2023-06-26T17:19:57.147Z"
   },
   {
    "duration": 65,
    "start_time": "2023-06-26T17:19:57.238Z"
   },
   {
    "duration": 144,
    "start_time": "2023-06-26T17:19:57.305Z"
   },
   {
    "duration": 36,
    "start_time": "2023-06-26T17:19:57.452Z"
   },
   {
    "duration": 59,
    "start_time": "2023-06-26T17:19:57.490Z"
   },
   {
    "duration": 1498,
    "start_time": "2023-06-26T17:19:57.559Z"
   },
   {
    "duration": 248,
    "start_time": "2023-06-26T17:19:59.060Z"
   },
   {
    "duration": 526,
    "start_time": "2023-06-26T17:19:59.310Z"
   },
   {
    "duration": 13,
    "start_time": "2023-06-26T17:19:59.840Z"
   },
   {
    "duration": 227,
    "start_time": "2023-06-26T17:19:59.860Z"
   },
   {
    "duration": 2057,
    "start_time": "2023-06-26T17:20:00.090Z"
   },
   {
    "duration": 2023,
    "start_time": "2023-06-26T17:36:51.842Z"
   },
   {
    "duration": 3835,
    "start_time": "2023-06-26T17:36:53.867Z"
   },
   {
    "duration": 29,
    "start_time": "2023-06-26T17:36:57.704Z"
   },
   {
    "duration": 152,
    "start_time": "2023-06-26T17:36:57.743Z"
   },
   {
    "duration": 148,
    "start_time": "2023-06-26T17:36:57.896Z"
   },
   {
    "duration": 613,
    "start_time": "2023-06-26T17:36:58.046Z"
   },
   {
    "duration": 542,
    "start_time": "2023-06-26T17:36:58.661Z"
   },
   {
    "duration": 141,
    "start_time": "2023-06-26T17:36:59.205Z"
   },
   {
    "duration": 11,
    "start_time": "2023-06-26T17:36:59.348Z"
   },
   {
    "duration": 62,
    "start_time": "2023-06-26T17:36:59.363Z"
   },
   {
    "duration": 129,
    "start_time": "2023-06-26T17:36:59.427Z"
   },
   {
    "duration": 19,
    "start_time": "2023-06-26T17:36:59.559Z"
   },
   {
    "duration": 55,
    "start_time": "2023-06-26T17:36:59.580Z"
   },
   {
    "duration": 56,
    "start_time": "2023-06-26T17:36:59.638Z"
   },
   {
    "duration": 53,
    "start_time": "2023-06-26T17:36:59.696Z"
   },
   {
    "duration": 57,
    "start_time": "2023-06-26T17:36:59.755Z"
   },
   {
    "duration": 187,
    "start_time": "2023-06-26T17:36:59.817Z"
   },
   {
    "duration": 90,
    "start_time": "2023-06-26T17:37:00.007Z"
   },
   {
    "duration": 64,
    "start_time": "2023-06-26T17:37:00.099Z"
   },
   {
    "duration": 92,
    "start_time": "2023-06-26T17:37:00.165Z"
   },
   {
    "duration": 73,
    "start_time": "2023-06-26T17:37:00.259Z"
   },
   {
    "duration": 297,
    "start_time": "2023-06-26T17:37:00.341Z"
   },
   {
    "duration": 180,
    "start_time": "2023-06-26T17:37:00.640Z"
   },
   {
    "duration": 116,
    "start_time": "2023-06-26T17:37:00.824Z"
   },
   {
    "duration": 171,
    "start_time": "2023-06-26T17:37:00.942Z"
   },
   {
    "duration": 44,
    "start_time": "2023-06-26T17:37:01.115Z"
   },
   {
    "duration": 65,
    "start_time": "2023-06-26T17:37:01.161Z"
   },
   {
    "duration": 35,
    "start_time": "2023-06-26T17:37:01.230Z"
   },
   {
    "duration": 83,
    "start_time": "2023-06-26T17:37:01.267Z"
   },
   {
    "duration": 125,
    "start_time": "2023-06-26T17:37:01.360Z"
   },
   {
    "duration": 13,
    "start_time": "2023-06-26T17:37:01.487Z"
   },
   {
    "duration": 44,
    "start_time": "2023-06-26T17:37:01.502Z"
   },
   {
    "duration": 1166,
    "start_time": "2023-06-26T17:37:01.548Z"
   },
   {
    "duration": 218,
    "start_time": "2023-06-26T17:37:02.716Z"
   },
   {
    "duration": 376,
    "start_time": "2023-06-26T17:37:02.936Z"
   },
   {
    "duration": 23,
    "start_time": "2023-06-26T17:37:03.319Z"
   },
   {
    "duration": 198,
    "start_time": "2023-06-26T17:37:03.345Z"
   },
   {
    "duration": 1759,
    "start_time": "2023-06-26T17:37:03.546Z"
   },
   {
    "duration": 90,
    "start_time": "2023-06-26T17:39:40.506Z"
   },
   {
    "duration": 2258,
    "start_time": "2023-06-26T17:40:05.013Z"
   },
   {
    "duration": 4161,
    "start_time": "2023-06-26T17:40:07.274Z"
   },
   {
    "duration": 24,
    "start_time": "2023-06-26T17:40:11.442Z"
   },
   {
    "duration": 240,
    "start_time": "2023-06-26T17:40:11.469Z"
   },
   {
    "duration": 174,
    "start_time": "2023-06-26T17:40:11.716Z"
   },
   {
    "duration": 758,
    "start_time": "2023-06-26T17:40:11.892Z"
   },
   {
    "duration": 730,
    "start_time": "2023-06-26T17:40:12.653Z"
   },
   {
    "duration": 163,
    "start_time": "2023-06-26T17:40:13.385Z"
   },
   {
    "duration": 12,
    "start_time": "2023-06-26T17:40:13.551Z"
   },
   {
    "duration": 105,
    "start_time": "2023-06-26T17:40:13.568Z"
   },
   {
    "duration": 144,
    "start_time": "2023-06-26T17:40:13.676Z"
   },
   {
    "duration": 14,
    "start_time": "2023-06-26T17:40:13.822Z"
   },
   {
    "duration": 48,
    "start_time": "2023-06-26T17:40:13.838Z"
   },
   {
    "duration": 63,
    "start_time": "2023-06-26T17:40:13.889Z"
   },
   {
    "duration": 69,
    "start_time": "2023-06-26T17:40:13.955Z"
   },
   {
    "duration": 55,
    "start_time": "2023-06-26T17:40:14.031Z"
   },
   {
    "duration": 201,
    "start_time": "2023-06-26T17:40:14.088Z"
   },
   {
    "duration": 104,
    "start_time": "2023-06-26T17:40:14.292Z"
   },
   {
    "duration": 56,
    "start_time": "2023-06-26T17:40:14.403Z"
   },
   {
    "duration": 73,
    "start_time": "2023-06-26T17:40:14.461Z"
   },
   {
    "duration": 28,
    "start_time": "2023-06-26T17:40:14.536Z"
   },
   {
    "duration": 13,
    "start_time": "2023-06-26T17:40:14.567Z"
   },
   {
    "duration": 219,
    "start_time": "2023-06-26T17:40:14.583Z"
   },
   {
    "duration": 185,
    "start_time": "2023-06-26T17:40:14.805Z"
   },
   {
    "duration": 243,
    "start_time": "2023-06-26T17:40:14.992Z"
   },
   {
    "duration": 51,
    "start_time": "2023-06-26T17:40:15.238Z"
   },
   {
    "duration": 63,
    "start_time": "2023-06-26T17:40:15.292Z"
   },
   {
    "duration": 52,
    "start_time": "2023-06-26T17:40:15.365Z"
   },
   {
    "duration": 29,
    "start_time": "2023-06-26T17:40:15.421Z"
   },
   {
    "duration": 162,
    "start_time": "2023-06-26T17:40:15.453Z"
   },
   {
    "duration": 29,
    "start_time": "2023-06-26T17:40:15.616Z"
   },
   {
    "duration": 19,
    "start_time": "2023-06-26T17:40:15.647Z"
   },
   {
    "duration": 1390,
    "start_time": "2023-06-26T17:40:15.668Z"
   },
   {
    "duration": 238,
    "start_time": "2023-06-26T17:40:17.061Z"
   },
   {
    "duration": 497,
    "start_time": "2023-06-26T17:40:17.301Z"
   },
   {
    "duration": 19,
    "start_time": "2023-06-26T17:40:17.802Z"
   },
   {
    "duration": 237,
    "start_time": "2023-06-26T17:40:17.826Z"
   },
   {
    "duration": 7,
    "start_time": "2023-06-26T17:40:18.066Z"
   },
   {
    "duration": 230,
    "start_time": "2023-06-26T17:40:18.075Z"
   },
   {
    "duration": 10,
    "start_time": "2023-06-26T17:41:38.873Z"
   },
   {
    "duration": 1832,
    "start_time": "2023-06-26T17:41:53.304Z"
   },
   {
    "duration": 81,
    "start_time": "2023-06-26T17:42:28.792Z"
   },
   {
    "duration": 9,
    "start_time": "2023-06-26T17:43:38.840Z"
   },
   {
    "duration": 10,
    "start_time": "2023-06-26T17:43:47.850Z"
   },
   {
    "duration": 4,
    "start_time": "2023-06-26T17:43:59.282Z"
   },
   {
    "duration": 9,
    "start_time": "2023-06-26T17:44:07.273Z"
   },
   {
    "duration": 2241,
    "start_time": "2023-06-26T17:50:49.560Z"
   },
   {
    "duration": 4220,
    "start_time": "2023-06-26T17:50:51.803Z"
   },
   {
    "duration": 30,
    "start_time": "2023-06-26T17:50:56.031Z"
   },
   {
    "duration": 172,
    "start_time": "2023-06-26T17:50:56.063Z"
   },
   {
    "duration": 172,
    "start_time": "2023-06-26T17:50:56.254Z"
   },
   {
    "duration": 604,
    "start_time": "2023-06-26T17:50:56.432Z"
   },
   {
    "duration": 691,
    "start_time": "2023-06-26T17:50:57.042Z"
   },
   {
    "duration": 123,
    "start_time": "2023-06-26T17:50:57.736Z"
   },
   {
    "duration": 11,
    "start_time": "2023-06-26T17:50:57.861Z"
   },
   {
    "duration": 68,
    "start_time": "2023-06-26T17:50:57.878Z"
   },
   {
    "duration": 122,
    "start_time": "2023-06-26T17:50:57.948Z"
   },
   {
    "duration": 16,
    "start_time": "2023-06-26T17:50:58.073Z"
   },
   {
    "duration": 65,
    "start_time": "2023-06-26T17:50:58.091Z"
   },
   {
    "duration": 57,
    "start_time": "2023-06-26T17:50:58.159Z"
   },
   {
    "duration": 66,
    "start_time": "2023-06-26T17:50:58.218Z"
   },
   {
    "duration": 44,
    "start_time": "2023-06-26T17:50:58.286Z"
   },
   {
    "duration": 155,
    "start_time": "2023-06-26T17:50:58.333Z"
   },
   {
    "duration": 80,
    "start_time": "2023-06-26T17:50:58.491Z"
   },
   {
    "duration": 71,
    "start_time": "2023-06-26T17:50:58.573Z"
   },
   {
    "duration": 165,
    "start_time": "2023-06-26T17:50:58.655Z"
   },
   {
    "duration": 60,
    "start_time": "2023-06-26T17:50:58.823Z"
   },
   {
    "duration": 51,
    "start_time": "2023-06-26T17:50:58.885Z"
   },
   {
    "duration": 185,
    "start_time": "2023-06-26T17:50:58.938Z"
   },
   {
    "duration": 125,
    "start_time": "2023-06-26T17:50:59.133Z"
   },
   {
    "duration": 241,
    "start_time": "2023-06-26T17:50:59.263Z"
   },
   {
    "duration": 68,
    "start_time": "2023-06-26T17:50:59.506Z"
   },
   {
    "duration": 127,
    "start_time": "2023-06-26T17:50:59.582Z"
   },
   {
    "duration": 85,
    "start_time": "2023-06-26T17:50:59.727Z"
   },
   {
    "duration": 83,
    "start_time": "2023-06-26T17:50:59.814Z"
   },
   {
    "duration": 124,
    "start_time": "2023-06-26T17:50:59.903Z"
   },
   {
    "duration": 16,
    "start_time": "2023-06-26T17:51:00.029Z"
   },
   {
    "duration": 69,
    "start_time": "2023-06-26T17:51:00.048Z"
   },
   {
    "duration": 1509,
    "start_time": "2023-06-26T17:51:00.120Z"
   },
   {
    "duration": 265,
    "start_time": "2023-06-26T17:51:01.637Z"
   },
   {
    "duration": 515,
    "start_time": "2023-06-26T17:51:01.910Z"
   },
   {
    "duration": 12,
    "start_time": "2023-06-26T17:51:02.433Z"
   },
   {
    "duration": 248,
    "start_time": "2023-06-26T17:51:02.452Z"
   },
   {
    "duration": 139,
    "start_time": "2023-06-26T17:51:02.702Z"
   },
   {
    "duration": 1982,
    "start_time": "2023-06-26T17:51:02.851Z"
   },
   {
    "duration": 23,
    "start_time": "2023-06-26T17:51:04.839Z"
   },
   {
    "duration": 15,
    "start_time": "2023-06-26T17:51:04.864Z"
   },
   {
    "duration": 23,
    "start_time": "2023-06-26T17:51:47.613Z"
   },
   {
    "duration": 2093,
    "start_time": "2023-06-26T17:55:48.787Z"
   },
   {
    "duration": 3975,
    "start_time": "2023-06-26T17:55:50.883Z"
   },
   {
    "duration": 21,
    "start_time": "2023-06-26T17:55:54.860Z"
   },
   {
    "duration": 237,
    "start_time": "2023-06-26T17:55:54.884Z"
   },
   {
    "duration": 247,
    "start_time": "2023-06-26T17:55:55.124Z"
   },
   {
    "duration": 827,
    "start_time": "2023-06-26T17:55:55.374Z"
   },
   {
    "duration": 787,
    "start_time": "2023-06-26T17:55:56.205Z"
   },
   {
    "duration": 150,
    "start_time": "2023-06-26T17:55:56.994Z"
   },
   {
    "duration": 13,
    "start_time": "2023-06-26T17:55:57.147Z"
   },
   {
    "duration": 65,
    "start_time": "2023-06-26T17:55:57.164Z"
   },
   {
    "duration": 137,
    "start_time": "2023-06-26T17:55:57.232Z"
   },
   {
    "duration": 16,
    "start_time": "2023-06-26T17:55:57.371Z"
   },
   {
    "duration": 60,
    "start_time": "2023-06-26T17:55:57.389Z"
   },
   {
    "duration": 48,
    "start_time": "2023-06-26T17:55:57.451Z"
   },
   {
    "duration": 75,
    "start_time": "2023-06-26T17:55:57.522Z"
   },
   {
    "duration": 49,
    "start_time": "2023-06-26T17:55:57.600Z"
   },
   {
    "duration": 202,
    "start_time": "2023-06-26T17:55:57.651Z"
   },
   {
    "duration": 96,
    "start_time": "2023-06-26T17:55:57.855Z"
   },
   {
    "duration": 70,
    "start_time": "2023-06-26T17:55:57.953Z"
   },
   {
    "duration": 53,
    "start_time": "2023-06-26T17:55:58.033Z"
   },
   {
    "duration": 44,
    "start_time": "2023-06-26T17:55:58.088Z"
   },
   {
    "duration": 39,
    "start_time": "2023-06-26T17:55:58.134Z"
   },
   {
    "duration": 189,
    "start_time": "2023-06-26T17:55:58.178Z"
   },
   {
    "duration": 180,
    "start_time": "2023-06-26T17:55:58.370Z"
   },
   {
    "duration": 240,
    "start_time": "2023-06-26T17:55:58.553Z"
   },
   {
    "duration": 61,
    "start_time": "2023-06-26T17:55:58.796Z"
   },
   {
    "duration": 71,
    "start_time": "2023-06-26T17:55:58.860Z"
   },
   {
    "duration": 56,
    "start_time": "2023-06-26T17:55:58.936Z"
   },
   {
    "duration": 74,
    "start_time": "2023-06-26T17:55:58.996Z"
   },
   {
    "duration": 174,
    "start_time": "2023-06-26T17:55:59.073Z"
   },
   {
    "duration": 18,
    "start_time": "2023-06-26T17:55:59.249Z"
   },
   {
    "duration": 42,
    "start_time": "2023-06-26T17:55:59.270Z"
   },
   {
    "duration": 1446,
    "start_time": "2023-06-26T17:55:59.315Z"
   },
   {
    "duration": 257,
    "start_time": "2023-06-26T17:56:00.765Z"
   },
   {
    "duration": 488,
    "start_time": "2023-06-26T17:56:01.031Z"
   },
   {
    "duration": 6,
    "start_time": "2023-06-26T17:56:01.521Z"
   },
   {
    "duration": 245,
    "start_time": "2023-06-26T17:56:01.534Z"
   },
   {
    "duration": 151,
    "start_time": "2023-06-26T17:56:01.782Z"
   },
   {
    "duration": 29,
    "start_time": "2023-06-26T17:56:01.936Z"
   },
   {
    "duration": 5,
    "start_time": "2023-06-26T17:56:01.967Z"
   },
   {
    "duration": 279,
    "start_time": "2023-06-26T17:56:01.975Z"
   },
   {
    "duration": 175,
    "start_time": "2023-06-26T17:56:02.257Z"
   },
   {
    "duration": 258,
    "start_time": "2023-06-26T17:56:16.550Z"
   },
   {
    "duration": 244,
    "start_time": "2023-06-26T17:57:37.679Z"
   },
   {
    "duration": 149,
    "start_time": "2023-06-26T17:57:41.803Z"
   },
   {
    "duration": 223,
    "start_time": "2023-06-26T17:57:52.708Z"
   },
   {
    "duration": 152,
    "start_time": "2023-06-26T17:57:54.183Z"
   },
   {
    "duration": 136,
    "start_time": "2023-06-26T17:58:05.441Z"
   },
   {
    "duration": 506,
    "start_time": "2023-06-26T17:58:06.172Z"
   },
   {
    "duration": 5,
    "start_time": "2023-06-26T17:58:06.773Z"
   },
   {
    "duration": 143,
    "start_time": "2023-06-26T17:58:07.574Z"
   },
   {
    "duration": 154,
    "start_time": "2023-06-26T17:58:08.250Z"
   },
   {
    "duration": 149,
    "start_time": "2023-06-26T17:58:16.645Z"
   },
   {
    "duration": 26,
    "start_time": "2023-06-26T17:58:20.360Z"
   },
   {
    "duration": 10,
    "start_time": "2023-06-26T17:58:21.941Z"
   },
   {
    "duration": 253,
    "start_time": "2023-06-26T17:58:23.103Z"
   },
   {
    "duration": 157,
    "start_time": "2023-06-26T17:58:24.857Z"
   },
   {
    "duration": 222,
    "start_time": "2023-06-26T18:06:31.150Z"
   },
   {
    "duration": 1988,
    "start_time": "2023-06-27T09:29:58.448Z"
   },
   {
    "duration": 2873,
    "start_time": "2023-06-27T09:30:00.438Z"
   },
   {
    "duration": 14,
    "start_time": "2023-06-27T09:30:03.312Z"
   },
   {
    "duration": 294,
    "start_time": "2023-06-27T09:30:03.328Z"
   },
   {
    "duration": 114,
    "start_time": "2023-06-27T09:30:03.624Z"
   },
   {
    "duration": 503,
    "start_time": "2023-06-27T09:30:03.740Z"
   },
   {
    "duration": 457,
    "start_time": "2023-06-27T09:30:04.246Z"
   },
   {
    "duration": 96,
    "start_time": "2023-06-27T09:30:04.705Z"
   },
   {
    "duration": 6,
    "start_time": "2023-06-27T09:30:04.803Z"
   },
   {
    "duration": 32,
    "start_time": "2023-06-27T09:30:04.811Z"
   },
   {
    "duration": 75,
    "start_time": "2023-06-27T09:30:04.856Z"
   },
   {
    "duration": 16,
    "start_time": "2023-06-27T09:30:04.933Z"
   },
   {
    "duration": 29,
    "start_time": "2023-06-27T09:30:04.956Z"
   },
   {
    "duration": 29,
    "start_time": "2023-06-27T09:30:04.987Z"
   },
   {
    "duration": 52,
    "start_time": "2023-06-27T09:30:05.017Z"
   },
   {
    "duration": 32,
    "start_time": "2023-06-27T09:30:05.071Z"
   },
   {
    "duration": 130,
    "start_time": "2023-06-27T09:30:05.104Z"
   },
   {
    "duration": 67,
    "start_time": "2023-06-27T09:30:05.236Z"
   },
   {
    "duration": 28,
    "start_time": "2023-06-27T09:30:05.304Z"
   },
   {
    "duration": 61,
    "start_time": "2023-06-27T09:30:05.333Z"
   },
   {
    "duration": 17,
    "start_time": "2023-06-27T09:30:05.396Z"
   },
   {
    "duration": 17,
    "start_time": "2023-06-27T09:30:05.414Z"
   },
   {
    "duration": 125,
    "start_time": "2023-06-27T09:30:05.433Z"
   },
   {
    "duration": 101,
    "start_time": "2023-06-27T09:30:05.560Z"
   },
   {
    "duration": 146,
    "start_time": "2023-06-27T09:30:05.663Z"
   },
   {
    "duration": 29,
    "start_time": "2023-06-27T09:30:05.811Z"
   },
   {
    "duration": 70,
    "start_time": "2023-06-27T09:30:05.842Z"
   },
   {
    "duration": 29,
    "start_time": "2023-06-27T09:30:05.916Z"
   },
   {
    "duration": 24,
    "start_time": "2023-06-27T09:30:05.947Z"
   },
   {
    "duration": 73,
    "start_time": "2023-06-27T09:30:05.973Z"
   },
   {
    "duration": 12,
    "start_time": "2023-06-27T09:30:06.048Z"
   },
   {
    "duration": 23,
    "start_time": "2023-06-27T09:30:06.061Z"
   },
   {
    "duration": 1049,
    "start_time": "2023-06-27T09:30:06.086Z"
   },
   {
    "duration": 229,
    "start_time": "2023-06-27T09:30:07.137Z"
   },
   {
    "duration": 358,
    "start_time": "2023-06-27T09:30:07.368Z"
   },
   {
    "duration": 5,
    "start_time": "2023-06-27T09:30:07.728Z"
   },
   {
    "duration": 38,
    "start_time": "2023-06-27T09:30:07.735Z"
   },
   {
    "duration": 152,
    "start_time": "2023-06-27T09:30:07.776Z"
   },
   {
    "duration": 103,
    "start_time": "2023-06-27T09:30:07.930Z"
   },
   {
    "duration": 148,
    "start_time": "2023-06-27T09:34:35.995Z"
   },
   {
    "duration": 50,
    "start_time": "2023-06-27T09:50:13.800Z"
   },
   {
    "duration": 270,
    "start_time": "2023-06-27T10:08:11.566Z"
   },
   {
    "duration": 192,
    "start_time": "2023-06-27T11:03:51.943Z"
   },
   {
    "duration": 696,
    "start_time": "2023-06-27T11:04:38.778Z"
   },
   {
    "duration": 4,
    "start_time": "2023-06-27T11:04:39.477Z"
   },
   {
    "duration": 27,
    "start_time": "2023-06-27T11:05:00.729Z"
   },
   {
    "duration": 153,
    "start_time": "2023-06-27T11:05:01.474Z"
   },
   {
    "duration": 91,
    "start_time": "2023-06-27T11:05:02.390Z"
   },
   {
    "duration": 1709,
    "start_time": "2023-06-27T11:05:25.081Z"
   },
   {
    "duration": 0,
    "start_time": "2023-06-27T11:05:26.793Z"
   },
   {
    "duration": 1,
    "start_time": "2023-06-27T11:05:26.794Z"
   },
   {
    "duration": 0,
    "start_time": "2023-06-27T11:05:26.796Z"
   },
   {
    "duration": 0,
    "start_time": "2023-06-27T11:05:26.797Z"
   },
   {
    "duration": 0,
    "start_time": "2023-06-27T11:05:26.799Z"
   },
   {
    "duration": 0,
    "start_time": "2023-06-27T11:05:26.800Z"
   },
   {
    "duration": 0,
    "start_time": "2023-06-27T11:05:26.802Z"
   },
   {
    "duration": 0,
    "start_time": "2023-06-27T11:05:26.803Z"
   },
   {
    "duration": 0,
    "start_time": "2023-06-27T11:05:26.804Z"
   },
   {
    "duration": 0,
    "start_time": "2023-06-27T11:05:26.805Z"
   },
   {
    "duration": 0,
    "start_time": "2023-06-27T11:05:26.807Z"
   },
   {
    "duration": 0,
    "start_time": "2023-06-27T11:05:26.808Z"
   },
   {
    "duration": 0,
    "start_time": "2023-06-27T11:05:26.810Z"
   },
   {
    "duration": 0,
    "start_time": "2023-06-27T11:05:26.811Z"
   },
   {
    "duration": 0,
    "start_time": "2023-06-27T11:05:26.813Z"
   },
   {
    "duration": 0,
    "start_time": "2023-06-27T11:05:26.814Z"
   },
   {
    "duration": 0,
    "start_time": "2023-06-27T11:05:26.816Z"
   },
   {
    "duration": 0,
    "start_time": "2023-06-27T11:05:26.817Z"
   },
   {
    "duration": 0,
    "start_time": "2023-06-27T11:05:26.819Z"
   },
   {
    "duration": 0,
    "start_time": "2023-06-27T11:05:26.856Z"
   },
   {
    "duration": 0,
    "start_time": "2023-06-27T11:05:26.858Z"
   },
   {
    "duration": 0,
    "start_time": "2023-06-27T11:05:26.860Z"
   },
   {
    "duration": 0,
    "start_time": "2023-06-27T11:05:26.861Z"
   },
   {
    "duration": 0,
    "start_time": "2023-06-27T11:05:26.863Z"
   },
   {
    "duration": 0,
    "start_time": "2023-06-27T11:05:26.865Z"
   },
   {
    "duration": 0,
    "start_time": "2023-06-27T11:05:26.867Z"
   },
   {
    "duration": 0,
    "start_time": "2023-06-27T11:05:26.868Z"
   },
   {
    "duration": 0,
    "start_time": "2023-06-27T11:05:26.869Z"
   },
   {
    "duration": 0,
    "start_time": "2023-06-27T11:05:26.870Z"
   },
   {
    "duration": 0,
    "start_time": "2023-06-27T11:05:26.872Z"
   },
   {
    "duration": 0,
    "start_time": "2023-06-27T11:05:26.874Z"
   },
   {
    "duration": 0,
    "start_time": "2023-06-27T11:05:26.874Z"
   },
   {
    "duration": 0,
    "start_time": "2023-06-27T11:05:26.875Z"
   },
   {
    "duration": 0,
    "start_time": "2023-06-27T11:05:26.877Z"
   },
   {
    "duration": 0,
    "start_time": "2023-06-27T11:05:26.878Z"
   },
   {
    "duration": 0,
    "start_time": "2023-06-27T11:05:26.879Z"
   },
   {
    "duration": 0,
    "start_time": "2023-06-27T11:05:26.880Z"
   },
   {
    "duration": 92,
    "start_time": "2023-06-27T11:10:45.244Z"
   },
   {
    "duration": 909,
    "start_time": "2023-06-27T11:10:50.295Z"
   },
   {
    "duration": 14,
    "start_time": "2023-06-27T11:10:51.205Z"
   },
   {
    "duration": 135,
    "start_time": "2023-06-27T11:10:51.221Z"
   },
   {
    "duration": 112,
    "start_time": "2023-06-27T11:10:51.359Z"
   },
   {
    "duration": 515,
    "start_time": "2023-06-27T11:10:51.473Z"
   },
   {
    "duration": 507,
    "start_time": "2023-06-27T11:10:51.990Z"
   },
   {
    "duration": 107,
    "start_time": "2023-06-27T11:10:52.499Z"
   },
   {
    "duration": 7,
    "start_time": "2023-06-27T11:10:52.607Z"
   },
   {
    "duration": 44,
    "start_time": "2023-06-27T11:10:52.616Z"
   },
   {
    "duration": 77,
    "start_time": "2023-06-27T11:10:52.662Z"
   },
   {
    "duration": 56,
    "start_time": "2023-06-27T11:10:52.741Z"
   },
   {
    "duration": 33,
    "start_time": "2023-06-27T11:10:52.800Z"
   },
   {
    "duration": 33,
    "start_time": "2023-06-27T11:10:52.835Z"
   },
   {
    "duration": 47,
    "start_time": "2023-06-27T11:10:52.870Z"
   },
   {
    "duration": 44,
    "start_time": "2023-06-27T11:10:52.918Z"
   },
   {
    "duration": 134,
    "start_time": "2023-06-27T11:10:52.964Z"
   },
   {
    "duration": 74,
    "start_time": "2023-06-27T11:10:53.100Z"
   },
   {
    "duration": 30,
    "start_time": "2023-06-27T11:10:53.176Z"
   },
   {
    "duration": 55,
    "start_time": "2023-06-27T11:10:53.208Z"
   },
   {
    "duration": 19,
    "start_time": "2023-06-27T11:10:53.265Z"
   },
   {
    "duration": 21,
    "start_time": "2023-06-27T11:10:53.286Z"
   },
   {
    "duration": 151,
    "start_time": "2023-06-27T11:10:53.309Z"
   },
   {
    "duration": 100,
    "start_time": "2023-06-27T11:10:53.461Z"
   },
   {
    "duration": 266,
    "start_time": "2023-06-27T11:10:53.563Z"
   },
   {
    "duration": 35,
    "start_time": "2023-06-27T11:10:53.831Z"
   },
   {
    "duration": 36,
    "start_time": "2023-06-27T11:10:53.868Z"
   },
   {
    "duration": 51,
    "start_time": "2023-06-27T11:10:53.906Z"
   },
   {
    "duration": 20,
    "start_time": "2023-06-27T11:10:53.961Z"
   },
   {
    "duration": 83,
    "start_time": "2023-06-27T11:10:53.983Z"
   },
   {
    "duration": 11,
    "start_time": "2023-06-27T11:10:54.068Z"
   },
   {
    "duration": 16,
    "start_time": "2023-06-27T11:10:54.081Z"
   },
   {
    "duration": 159,
    "start_time": "2023-06-27T11:10:54.099Z"
   },
   {
    "duration": 17,
    "start_time": "2023-06-27T11:10:54.260Z"
   },
   {
    "duration": 0,
    "start_time": "2023-06-27T11:10:54.278Z"
   },
   {
    "duration": 0,
    "start_time": "2023-06-27T11:10:54.280Z"
   },
   {
    "duration": 0,
    "start_time": "2023-06-27T11:10:54.281Z"
   },
   {
    "duration": 0,
    "start_time": "2023-06-27T11:10:54.282Z"
   },
   {
    "duration": 47,
    "start_time": "2023-06-27T11:12:11.080Z"
   },
   {
    "duration": 4,
    "start_time": "2023-06-27T11:12:13.583Z"
   },
   {
    "duration": 24,
    "start_time": "2023-06-27T11:12:23.270Z"
   },
   {
    "duration": 136,
    "start_time": "2023-06-27T11:12:24.889Z"
   },
   {
    "duration": 9,
    "start_time": "2023-06-27T11:12:26.488Z"
   },
   {
    "duration": 147,
    "start_time": "2023-06-27T11:12:37.928Z"
   },
   {
    "duration": 70,
    "start_time": "2023-06-27T12:45:54.653Z"
   },
   {
    "duration": 149,
    "start_time": "2023-06-27T13:17:28.774Z"
   },
   {
    "duration": 5351,
    "start_time": "2023-06-27T13:33:37.633Z"
   },
   {
    "duration": 0,
    "start_time": "2023-06-27T13:40:22.256Z"
   },
   {
    "duration": 0,
    "start_time": "2023-06-27T13:40:22.258Z"
   },
   {
    "duration": 834,
    "start_time": "2023-06-27T13:40:22.268Z"
   },
   {
    "duration": 45,
    "start_time": "2023-06-27T17:02:15.399Z"
   },
   {
    "duration": 1943,
    "start_time": "2023-06-27T17:02:27.811Z"
   },
   {
    "duration": 2885,
    "start_time": "2023-06-27T17:02:29.757Z"
   },
   {
    "duration": 12,
    "start_time": "2023-06-27T17:02:32.643Z"
   },
   {
    "duration": 143,
    "start_time": "2023-06-27T17:02:32.657Z"
   },
   {
    "duration": 120,
    "start_time": "2023-06-27T17:02:32.802Z"
   },
   {
    "duration": 456,
    "start_time": "2023-06-27T17:02:32.923Z"
   },
   {
    "duration": 429,
    "start_time": "2023-06-27T17:02:33.381Z"
   },
   {
    "duration": 92,
    "start_time": "2023-06-27T17:02:33.812Z"
   },
   {
    "duration": 7,
    "start_time": "2023-06-27T17:02:33.906Z"
   },
   {
    "duration": 35,
    "start_time": "2023-06-27T17:02:33.914Z"
   },
   {
    "duration": 132,
    "start_time": "2023-06-27T17:02:33.950Z"
   },
   {
    "duration": 11,
    "start_time": "2023-06-27T17:02:34.084Z"
   },
   {
    "duration": 30,
    "start_time": "2023-06-27T17:02:34.097Z"
   },
   {
    "duration": 65,
    "start_time": "2023-06-27T17:02:34.131Z"
   },
   {
    "duration": 41,
    "start_time": "2023-06-27T17:02:34.198Z"
   },
   {
    "duration": 44,
    "start_time": "2023-06-27T17:02:34.241Z"
   },
   {
    "duration": 127,
    "start_time": "2023-06-27T17:02:34.287Z"
   },
   {
    "duration": 69,
    "start_time": "2023-06-27T17:02:34.416Z"
   },
   {
    "duration": 31,
    "start_time": "2023-06-27T17:02:34.486Z"
   },
   {
    "duration": 50,
    "start_time": "2023-06-27T17:02:34.519Z"
   },
   {
    "duration": 18,
    "start_time": "2023-06-27T17:02:34.570Z"
   },
   {
    "duration": 9,
    "start_time": "2023-06-27T17:02:34.589Z"
   },
   {
    "duration": 206,
    "start_time": "2023-06-27T17:02:34.599Z"
   },
   {
    "duration": 100,
    "start_time": "2023-06-27T17:02:34.807Z"
   },
   {
    "duration": 146,
    "start_time": "2023-06-27T17:02:34.908Z"
   },
   {
    "duration": 46,
    "start_time": "2023-06-27T17:02:35.056Z"
   },
   {
    "duration": 32,
    "start_time": "2023-06-27T17:02:35.104Z"
   },
   {
    "duration": 46,
    "start_time": "2023-06-27T17:02:35.138Z"
   },
   {
    "duration": 36,
    "start_time": "2023-06-27T17:02:35.186Z"
   },
   {
    "duration": 91,
    "start_time": "2023-06-27T17:02:35.224Z"
   },
   {
    "duration": 12,
    "start_time": "2023-06-27T17:02:35.317Z"
   },
   {
    "duration": 18,
    "start_time": "2023-06-27T17:02:35.331Z"
   },
   {
    "duration": 165,
    "start_time": "2023-06-27T17:02:35.351Z"
   },
   {
    "duration": 50,
    "start_time": "2023-06-27T17:02:35.518Z"
   },
   {
    "duration": 4,
    "start_time": "2023-06-27T17:02:35.570Z"
   },
   {
    "duration": 34,
    "start_time": "2023-06-27T17:02:35.576Z"
   },
   {
    "duration": 177,
    "start_time": "2023-06-27T17:02:35.612Z"
   },
   {
    "duration": 12,
    "start_time": "2023-06-27T17:02:35.791Z"
   },
   {
    "duration": 145,
    "start_time": "2023-06-27T17:02:35.805Z"
   },
   {
    "duration": 4,
    "start_time": "2023-06-27T17:04:44.380Z"
   },
   {
    "duration": 8,
    "start_time": "2023-06-27T17:05:32.844Z"
   },
   {
    "duration": 9,
    "start_time": "2023-06-27T17:08:22.295Z"
   },
   {
    "duration": 1020,
    "start_time": "2023-06-27T17:19:50.254Z"
   },
   {
    "duration": 1106,
    "start_time": "2023-06-27T17:20:36.671Z"
   },
   {
    "duration": 3903,
    "start_time": "2023-06-27T17:22:03.278Z"
   },
   {
    "duration": 11,
    "start_time": "2023-06-27T17:23:31.421Z"
   },
   {
    "duration": 12,
    "start_time": "2023-06-27T17:23:39.079Z"
   },
   {
    "duration": 3894,
    "start_time": "2023-06-27T17:24:16.888Z"
   },
   {
    "duration": 68,
    "start_time": "2023-06-27T17:29:23.401Z"
   },
   {
    "duration": 55719,
    "start_time": "2023-06-27T17:30:02.861Z"
   },
   {
    "duration": 11,
    "start_time": "2023-06-27T17:32:08.326Z"
   },
   {
    "duration": 55803,
    "start_time": "2023-06-27T17:32:33.171Z"
   },
   {
    "duration": 60463,
    "start_time": "2023-06-27T17:33:36.924Z"
   },
   {
    "duration": 61413,
    "start_time": "2023-06-27T17:39:02.674Z"
   },
   {
    "duration": 7,
    "start_time": "2023-06-27T17:40:04.089Z"
   },
   {
    "duration": 4,
    "start_time": "2023-06-27T17:40:59.760Z"
   },
   {
    "duration": 3,
    "start_time": "2023-06-27T17:41:04.634Z"
   },
   {
    "duration": 3,
    "start_time": "2023-06-27T17:41:11.752Z"
   },
   {
    "duration": 3,
    "start_time": "2023-06-27T17:41:20.512Z"
   },
   {
    "duration": 8,
    "start_time": "2023-06-27T17:41:26.456Z"
   },
   {
    "duration": 5,
    "start_time": "2023-06-27T17:41:33.281Z"
   },
   {
    "duration": 9,
    "start_time": "2023-06-27T17:41:39.682Z"
   },
   {
    "duration": 4,
    "start_time": "2023-06-27T17:41:44.178Z"
   },
   {
    "duration": 61318,
    "start_time": "2023-06-27T17:44:19.457Z"
   },
   {
    "duration": 100468,
    "start_time": "2023-06-27T17:48:57.601Z"
   },
   {
    "duration": 4634,
    "start_time": "2023-06-27T17:56:09.650Z"
   },
   {
    "duration": 4027,
    "start_time": "2023-06-27T18:00:22.443Z"
   },
   {
    "duration": 15,
    "start_time": "2023-06-27T18:03:04.145Z"
   },
   {
    "duration": 12,
    "start_time": "2023-06-27T18:06:49.476Z"
   },
   {
    "duration": 12,
    "start_time": "2023-06-27T18:07:01.701Z"
   },
   {
    "duration": 11,
    "start_time": "2023-06-27T18:08:26.148Z"
   },
   {
    "duration": 94,
    "start_time": "2023-06-27T18:08:35.828Z"
   },
   {
    "duration": 10,
    "start_time": "2023-06-27T18:11:53.558Z"
   },
   {
    "duration": 3990,
    "start_time": "2023-06-27T18:12:13.893Z"
   },
   {
    "duration": 104,
    "start_time": "2023-06-27T18:12:55.618Z"
   },
   {
    "duration": 13,
    "start_time": "2023-06-27T18:13:09.050Z"
   },
   {
    "duration": 13,
    "start_time": "2023-06-27T18:14:15.814Z"
   },
   {
    "duration": 12,
    "start_time": "2023-06-27T18:15:35.998Z"
   },
   {
    "duration": 10,
    "start_time": "2023-06-27T18:18:26.036Z"
   },
   {
    "duration": 36736,
    "start_time": "2023-06-27T18:18:43.453Z"
   },
   {
    "duration": 62551,
    "start_time": "2023-06-27T18:20:14.918Z"
   },
   {
    "duration": 158,
    "start_time": "2023-06-27T18:25:17.044Z"
   },
   {
    "duration": 3,
    "start_time": "2023-06-27T18:33:13.568Z"
   },
   {
    "duration": 44460,
    "start_time": "2023-06-27T18:33:31.628Z"
   },
   {
    "duration": 45788,
    "start_time": "2023-06-27T18:37:40.289Z"
   },
   {
    "duration": 10,
    "start_time": "2023-06-27T18:38:30.783Z"
   },
   {
    "duration": 14,
    "start_time": "2023-06-27T18:40:43.824Z"
   },
   {
    "duration": 57077,
    "start_time": "2023-06-27T18:41:06.618Z"
   },
   {
    "duration": 190,
    "start_time": "2023-06-27T18:44:10.519Z"
   },
   {
    "duration": 8,
    "start_time": "2023-06-28T07:19:46.082Z"
   },
   {
    "duration": 1873,
    "start_time": "2023-06-28T07:22:08.423Z"
   },
   {
    "duration": 1117,
    "start_time": "2023-06-28T07:22:10.298Z"
   },
   {
    "duration": 11,
    "start_time": "2023-06-28T07:22:11.417Z"
   },
   {
    "duration": 139,
    "start_time": "2023-06-28T07:22:11.430Z"
   },
   {
    "duration": 175,
    "start_time": "2023-06-28T07:22:11.575Z"
   },
   {
    "duration": 536,
    "start_time": "2023-06-28T07:22:11.752Z"
   },
   {
    "duration": 449,
    "start_time": "2023-06-28T07:22:12.293Z"
   },
   {
    "duration": 104,
    "start_time": "2023-06-28T07:22:12.743Z"
   },
   {
    "duration": 6,
    "start_time": "2023-06-28T07:22:12.849Z"
   },
   {
    "duration": 44,
    "start_time": "2023-06-28T07:22:12.858Z"
   },
   {
    "duration": 109,
    "start_time": "2023-06-28T07:22:12.904Z"
   },
   {
    "duration": 10,
    "start_time": "2023-06-28T07:22:13.014Z"
   },
   {
    "duration": 38,
    "start_time": "2023-06-28T07:22:13.026Z"
   },
   {
    "duration": 46,
    "start_time": "2023-06-28T07:22:13.066Z"
   },
   {
    "duration": 46,
    "start_time": "2023-06-28T07:22:13.114Z"
   },
   {
    "duration": 45,
    "start_time": "2023-06-28T07:22:13.162Z"
   },
   {
    "duration": 169,
    "start_time": "2023-06-28T07:22:13.209Z"
   },
   {
    "duration": 63,
    "start_time": "2023-06-28T07:22:13.380Z"
   },
   {
    "duration": 44,
    "start_time": "2023-06-28T07:22:13.444Z"
   },
   {
    "duration": 60,
    "start_time": "2023-06-28T07:22:13.489Z"
   },
   {
    "duration": 22,
    "start_time": "2023-06-28T07:22:13.551Z"
   },
   {
    "duration": 55,
    "start_time": "2023-06-28T07:22:13.577Z"
   },
   {
    "duration": 127,
    "start_time": "2023-06-28T07:22:13.634Z"
   },
   {
    "duration": 146,
    "start_time": "2023-06-28T07:22:13.763Z"
   },
   {
    "duration": 222,
    "start_time": "2023-06-28T07:22:13.915Z"
   },
   {
    "duration": 64,
    "start_time": "2023-06-28T07:22:14.141Z"
   },
   {
    "duration": 67,
    "start_time": "2023-06-28T07:22:14.206Z"
   },
   {
    "duration": 45,
    "start_time": "2023-06-28T07:22:14.277Z"
   },
   {
    "duration": 25,
    "start_time": "2023-06-28T07:22:14.324Z"
   },
   {
    "duration": 100,
    "start_time": "2023-06-28T07:22:14.351Z"
   },
   {
    "duration": 31,
    "start_time": "2023-06-28T07:22:14.452Z"
   },
   {
    "duration": 29,
    "start_time": "2023-06-28T07:22:14.485Z"
   },
   {
    "duration": 149,
    "start_time": "2023-06-28T07:22:14.516Z"
   },
   {
    "duration": 45,
    "start_time": "2023-06-28T07:22:14.667Z"
   },
   {
    "duration": 4,
    "start_time": "2023-06-28T07:22:14.713Z"
   },
   {
    "duration": 38,
    "start_time": "2023-06-28T07:22:14.718Z"
   },
   {
    "duration": 156,
    "start_time": "2023-06-28T07:22:14.757Z"
   },
   {
    "duration": 8,
    "start_time": "2023-06-28T07:22:14.915Z"
   },
   {
    "duration": 35,
    "start_time": "2023-06-28T07:22:14.924Z"
   },
   {
    "duration": 32,
    "start_time": "2023-06-28T07:22:14.960Z"
   },
   {
    "duration": 93180,
    "start_time": "2023-06-28T07:22:14.996Z"
   },
   {
    "duration": 42902,
    "start_time": "2023-06-28T07:23:48.180Z"
   },
   {
    "duration": 147619,
    "start_time": "2023-06-28T07:24:31.084Z"
   },
   {
    "duration": 248,
    "start_time": "2023-06-28T07:26:58.705Z"
   },
   {
    "duration": 577266,
    "start_time": "2023-06-28T07:27:16.235Z"
   },
   {
    "duration": 3151615,
    "start_time": "2023-06-28T07:36:53.503Z"
   },
   {
    "duration": 0,
    "start_time": "2023-06-28T08:29:25.932Z"
   },
   {
    "duration": 0,
    "start_time": "2023-06-28T08:29:25.933Z"
   },
   {
    "duration": 0,
    "start_time": "2023-06-28T08:29:25.971Z"
   },
   {
    "duration": 0,
    "start_time": "2023-06-28T08:29:25.972Z"
   },
   {
    "duration": 355,
    "start_time": "2023-06-28T08:44:51.091Z"
   },
   {
    "duration": 161,
    "start_time": "2023-06-28T08:48:06.288Z"
   },
   {
    "duration": 12,
    "start_time": "2023-06-28T08:49:00.435Z"
   },
   {
    "duration": 156,
    "start_time": "2023-06-28T08:49:27.904Z"
   },
   {
    "duration": 11,
    "start_time": "2023-06-28T08:50:07.155Z"
   },
   {
    "duration": 11,
    "start_time": "2023-06-28T08:50:18.541Z"
   },
   {
    "duration": 5099,
    "start_time": "2023-06-28T08:53:46.725Z"
   },
   {
    "duration": 566,
    "start_time": "2023-06-28T08:57:43.039Z"
   },
   {
    "duration": 12,
    "start_time": "2023-06-28T08:57:57.526Z"
   },
   {
    "duration": 16,
    "start_time": "2023-06-28T08:58:21.607Z"
   },
   {
    "duration": 11,
    "start_time": "2023-06-28T09:01:06.143Z"
   },
   {
    "duration": 16,
    "start_time": "2023-06-28T09:01:15.061Z"
   },
   {
    "duration": 118603,
    "start_time": "2023-06-28T09:04:30.623Z"
   },
   {
    "duration": 226,
    "start_time": "2023-06-28T09:06:29.230Z"
   },
   {
    "duration": 12,
    "start_time": "2023-06-28T09:06:29.457Z"
   },
   {
    "duration": 0,
    "start_time": "2023-06-28T09:06:29.482Z"
   },
   {
    "duration": 248,
    "start_time": "2023-06-28T09:08:06.407Z"
   },
   {
    "duration": 10,
    "start_time": "2023-06-28T09:08:51.416Z"
   },
   {
    "duration": 5,
    "start_time": "2023-06-28T09:10:17.624Z"
   },
   {
    "duration": 11,
    "start_time": "2023-06-28T09:10:40.737Z"
   },
   {
    "duration": 19,
    "start_time": "2023-06-28T09:12:50.975Z"
   },
   {
    "duration": 224266,
    "start_time": "2023-06-28T09:13:24.250Z"
   },
   {
    "duration": 11,
    "start_time": "2023-06-28T09:17:08.522Z"
   },
   {
    "duration": 11,
    "start_time": "2023-06-28T09:17:52.928Z"
   },
   {
    "duration": 19,
    "start_time": "2023-06-28T09:18:17.474Z"
   },
   {
    "duration": 139,
    "start_time": "2023-06-28T09:18:49.215Z"
   },
   {
    "duration": 5,
    "start_time": "2023-06-28T09:19:20.423Z"
   },
   {
    "duration": 6,
    "start_time": "2023-06-28T09:19:32.145Z"
   },
   {
    "duration": 16,
    "start_time": "2023-06-28T09:19:46.456Z"
   },
   {
    "duration": 1782,
    "start_time": "2023-06-28T09:20:02.907Z"
   },
   {
    "duration": 43742,
    "start_time": "2023-06-28T09:20:43.244Z"
   },
   {
    "duration": 10,
    "start_time": "2023-06-28T09:23:36.985Z"
   },
   {
    "duration": 11,
    "start_time": "2023-06-28T09:23:56.679Z"
   },
   {
    "duration": 10,
    "start_time": "2023-06-28T09:24:19.235Z"
   },
   {
    "duration": 10,
    "start_time": "2023-06-28T09:25:15.248Z"
   },
   {
    "duration": 8,
    "start_time": "2023-06-28T09:25:22.906Z"
   },
   {
    "duration": 4,
    "start_time": "2023-06-28T09:26:04.996Z"
   },
   {
    "duration": 9,
    "start_time": "2023-06-28T09:26:26.585Z"
   },
   {
    "duration": 9,
    "start_time": "2023-06-28T09:27:10.388Z"
   },
   {
    "duration": 9,
    "start_time": "2023-06-28T09:27:23.852Z"
   },
   {
    "duration": 10,
    "start_time": "2023-06-28T09:27:32.920Z"
   },
   {
    "duration": 9,
    "start_time": "2023-06-28T09:28:07.714Z"
   },
   {
    "duration": 3,
    "start_time": "2023-06-28T09:28:16.632Z"
   },
   {
    "duration": 163,
    "start_time": "2023-06-28T09:28:26.514Z"
   },
   {
    "duration": 11,
    "start_time": "2023-06-28T09:28:31.202Z"
   },
   {
    "duration": 154,
    "start_time": "2023-06-28T09:28:55.713Z"
   },
   {
    "duration": 166,
    "start_time": "2023-06-28T09:29:03.034Z"
   },
   {
    "duration": 11,
    "start_time": "2023-06-28T09:29:51.801Z"
   },
   {
    "duration": 9,
    "start_time": "2023-06-28T09:29:58.698Z"
   },
   {
    "duration": 165,
    "start_time": "2023-06-28T09:33:31.747Z"
   },
   {
    "duration": 428,
    "start_time": "2023-06-28T09:34:14.979Z"
   },
   {
    "duration": 9,
    "start_time": "2023-06-28T09:34:27.522Z"
   },
   {
    "duration": 162,
    "start_time": "2023-06-28T09:34:45.229Z"
   },
   {
    "duration": 15,
    "start_time": "2023-06-28T09:36:14.707Z"
   },
   {
    "duration": 8,
    "start_time": "2023-06-28T09:36:23.931Z"
   },
   {
    "duration": 8,
    "start_time": "2023-06-28T09:36:30.883Z"
   },
   {
    "duration": 89,
    "start_time": "2023-06-28T09:38:22.838Z"
   },
   {
    "duration": 9,
    "start_time": "2023-06-28T09:38:29.198Z"
   },
   {
    "duration": 9,
    "start_time": "2023-06-28T09:38:54.987Z"
   },
   {
    "duration": 4,
    "start_time": "2023-06-28T09:43:11.522Z"
   },
   {
    "duration": 180,
    "start_time": "2023-06-28T09:43:35.172Z"
   },
   {
    "duration": 251,
    "start_time": "2023-06-28T09:43:54.540Z"
   },
   {
    "duration": 179,
    "start_time": "2023-06-28T09:44:03.018Z"
   },
   {
    "duration": 12,
    "start_time": "2023-06-28T09:45:43.197Z"
   },
   {
    "duration": 158,
    "start_time": "2023-06-28T09:46:20.988Z"
   },
   {
    "duration": 4,
    "start_time": "2023-06-28T09:46:42.076Z"
   },
   {
    "duration": 10,
    "start_time": "2023-06-28T09:51:04.421Z"
   },
   {
    "duration": 204,
    "start_time": "2023-06-28T09:51:24.780Z"
   },
   {
    "duration": 4,
    "start_time": "2023-06-28T10:52:57.227Z"
   },
   {
    "duration": 144,
    "start_time": "2023-06-28T11:09:28.150Z"
   },
   {
    "duration": 9620,
    "start_time": "2023-06-28T11:47:14.964Z"
   },
   {
    "duration": 114,
    "start_time": "2023-06-28T11:49:43.843Z"
   },
   {
    "duration": 5499,
    "start_time": "2023-06-28T11:50:47.824Z"
   },
   {
    "duration": 6496,
    "start_time": "2023-06-28T11:52:01.876Z"
   },
   {
    "duration": 39848,
    "start_time": "2023-06-28T11:52:59.467Z"
   },
   {
    "duration": 11,
    "start_time": "2023-06-28T11:57:13.052Z"
   },
   {
    "duration": 145090,
    "start_time": "2023-06-28T11:57:36.201Z"
   },
   {
    "duration": 71080,
    "start_time": "2023-06-28T12:00:52.306Z"
   },
   {
    "duration": 105,
    "start_time": "2023-06-28T12:02:40.931Z"
   },
   {
    "duration": 80926,
    "start_time": "2023-06-28T12:02:49.052Z"
   },
   {
    "duration": 29129,
    "start_time": "2023-06-28T12:04:09.983Z"
   },
   {
    "duration": 10,
    "start_time": "2023-06-28T12:04:39.114Z"
   },
   {
    "duration": 83112,
    "start_time": "2023-06-28T12:07:47.508Z"
   },
   {
    "duration": 9,
    "start_time": "2023-06-28T12:12:10.661Z"
   },
   {
    "duration": 77683,
    "start_time": "2023-06-28T12:16:09.022Z"
   },
   {
    "duration": 135,
    "start_time": "2023-06-28T12:22:32.150Z"
   },
   {
    "duration": 74784,
    "start_time": "2023-06-28T12:24:47.595Z"
   },
   {
    "duration": 11,
    "start_time": "2023-06-28T12:27:44.167Z"
   },
   {
    "duration": 402348,
    "start_time": "2023-06-28T12:28:44.055Z"
   },
   {
    "duration": 65,
    "start_time": "2023-06-28T12:35:26.404Z"
   },
   {
    "duration": 14,
    "start_time": "2023-06-28T12:36:30.026Z"
   },
   {
    "duration": 29352,
    "start_time": "2023-06-28T12:36:56.936Z"
   },
   {
    "duration": 21,
    "start_time": "2023-06-28T12:37:26.290Z"
   },
   {
    "duration": 11,
    "start_time": "2023-06-28T12:37:50.913Z"
   },
   {
    "duration": 10,
    "start_time": "2023-06-28T12:39:10.964Z"
   },
   {
    "duration": 135,
    "start_time": "2023-06-28T12:39:16.768Z"
   },
   {
    "duration": 14,
    "start_time": "2023-06-28T12:39:19.617Z"
   },
   {
    "duration": 10,
    "start_time": "2023-06-28T12:40:10.839Z"
   },
   {
    "duration": 107,
    "start_time": "2023-06-28T12:46:15.139Z"
   },
   {
    "duration": 5,
    "start_time": "2023-06-28T12:46:16.129Z"
   },
   {
    "duration": 55,
    "start_time": "2023-06-28T12:46:53.235Z"
   },
   {
    "duration": 64,
    "start_time": "2023-06-28T12:48:01.085Z"
   },
   {
    "duration": 4,
    "start_time": "2023-06-28T12:48:01.839Z"
   },
   {
    "duration": 123,
    "start_time": "2023-06-28T12:54:56.184Z"
   },
   {
    "duration": 9,
    "start_time": "2023-06-28T12:54:56.744Z"
   },
   {
    "duration": 15,
    "start_time": "2023-06-28T12:55:14.703Z"
   },
   {
    "duration": 120,
    "start_time": "2023-06-28T12:55:15.412Z"
   },
   {
    "duration": 9,
    "start_time": "2023-06-28T12:55:16.705Z"
   },
   {
    "duration": 144,
    "start_time": "2023-06-28T12:55:38.682Z"
   },
   {
    "duration": 9,
    "start_time": "2023-06-28T12:55:39.994Z"
   },
   {
    "duration": 3170,
    "start_time": "2023-06-28T12:56:30.115Z"
   },
   {
    "duration": 16788,
    "start_time": "2023-06-28T13:00:10.897Z"
   },
   {
    "duration": 21985,
    "start_time": "2023-06-28T13:01:53.819Z"
   },
   {
    "duration": 76,
    "start_time": "2023-06-28T13:02:15.807Z"
   },
   {
    "duration": 190,
    "start_time": "2023-06-28T13:02:15.885Z"
   },
   {
    "duration": 3078,
    "start_time": "2023-06-28T13:02:39.907Z"
   },
   {
    "duration": 2006,
    "start_time": "2023-06-28T13:03:46.239Z"
   },
   {
    "duration": 898,
    "start_time": "2023-06-28T13:03:48.247Z"
   },
   {
    "duration": 14,
    "start_time": "2023-06-28T13:03:49.147Z"
   },
   {
    "duration": 152,
    "start_time": "2023-06-28T13:03:49.163Z"
   },
   {
    "duration": 130,
    "start_time": "2023-06-28T13:03:49.316Z"
   },
   {
    "duration": 451,
    "start_time": "2023-06-28T13:03:49.447Z"
   },
   {
    "duration": 455,
    "start_time": "2023-06-28T13:03:49.899Z"
   },
   {
    "duration": 89,
    "start_time": "2023-06-28T13:03:50.356Z"
   },
   {
    "duration": 6,
    "start_time": "2023-06-28T13:03:50.446Z"
   },
   {
    "duration": 41,
    "start_time": "2023-06-28T13:03:50.454Z"
   },
   {
    "duration": 89,
    "start_time": "2023-06-28T13:03:50.497Z"
   },
   {
    "duration": 13,
    "start_time": "2023-06-28T13:03:50.588Z"
   },
   {
    "duration": 28,
    "start_time": "2023-06-28T13:03:50.603Z"
   },
   {
    "duration": 47,
    "start_time": "2023-06-28T13:03:50.632Z"
   },
   {
    "duration": 42,
    "start_time": "2023-06-28T13:03:50.681Z"
   },
   {
    "duration": 28,
    "start_time": "2023-06-28T13:03:50.725Z"
   },
   {
    "duration": 132,
    "start_time": "2023-06-28T13:03:50.754Z"
   },
   {
    "duration": 52,
    "start_time": "2023-06-28T13:03:50.888Z"
   },
   {
    "duration": 48,
    "start_time": "2023-06-28T13:03:50.941Z"
   },
   {
    "duration": 47,
    "start_time": "2023-06-28T13:03:50.991Z"
   },
   {
    "duration": 20,
    "start_time": "2023-06-28T13:03:51.040Z"
   },
   {
    "duration": 18,
    "start_time": "2023-06-28T13:03:51.062Z"
   },
   {
    "duration": 125,
    "start_time": "2023-06-28T13:03:51.081Z"
   },
   {
    "duration": 95,
    "start_time": "2023-06-28T13:03:51.208Z"
   },
   {
    "duration": 206,
    "start_time": "2023-06-28T13:03:51.304Z"
   },
   {
    "duration": 40,
    "start_time": "2023-06-28T13:03:51.512Z"
   },
   {
    "duration": 50,
    "start_time": "2023-06-28T13:03:51.554Z"
   },
   {
    "duration": 33,
    "start_time": "2023-06-28T13:03:51.608Z"
   },
   {
    "duration": 42,
    "start_time": "2023-06-28T13:03:51.643Z"
   },
   {
    "duration": 108,
    "start_time": "2023-06-28T13:03:51.688Z"
   },
   {
    "duration": 13,
    "start_time": "2023-06-28T13:03:51.798Z"
   },
   {
    "duration": 15,
    "start_time": "2023-06-28T13:03:51.812Z"
   },
   {
    "duration": 149,
    "start_time": "2023-06-28T13:03:51.828Z"
   },
   {
    "duration": 66,
    "start_time": "2023-06-28T13:03:51.979Z"
   },
   {
    "duration": 5,
    "start_time": "2023-06-28T13:03:52.047Z"
   },
   {
    "duration": 35,
    "start_time": "2023-06-28T13:03:52.054Z"
   },
   {
    "duration": 157,
    "start_time": "2023-06-28T13:03:52.092Z"
   },
   {
    "duration": 9,
    "start_time": "2023-06-28T13:03:52.251Z"
   },
   {
    "duration": 14,
    "start_time": "2023-06-28T13:03:52.262Z"
   },
   {
    "duration": 176216,
    "start_time": "2023-06-28T13:03:52.278Z"
   },
   {
    "duration": 68081,
    "start_time": "2023-06-28T13:06:48.495Z"
   },
   {
    "duration": 176,
    "start_time": "2023-06-28T13:07:56.578Z"
   },
   {
    "duration": 176,
    "start_time": "2023-06-28T13:07:56.756Z"
   },
   {
    "duration": 118,
    "start_time": "2023-06-28T13:07:56.934Z"
   },
   {
    "duration": 0,
    "start_time": "2023-06-28T13:07:57.055Z"
   },
   {
    "duration": 0,
    "start_time": "2023-06-28T13:07:57.056Z"
   },
   {
    "duration": 12,
    "start_time": "2023-06-28T13:15:48.340Z"
   },
   {
    "duration": 12,
    "start_time": "2023-06-28T13:15:51.805Z"
   },
   {
    "duration": 73,
    "start_time": "2023-06-28T13:17:16.368Z"
   },
   {
    "duration": 145,
    "start_time": "2023-06-28T13:17:28.823Z"
   },
   {
    "duration": 20566,
    "start_time": "2023-06-28T13:17:42.012Z"
   },
   {
    "duration": 100,
    "start_time": "2023-06-28T13:18:02.580Z"
   },
   {
    "duration": 10,
    "start_time": "2023-06-28T13:19:34.682Z"
   },
   {
    "duration": 51344,
    "start_time": "2023-06-28T13:19:54.878Z"
   },
   {
    "duration": 279000,
    "start_time": "2023-06-28T13:24:58.685Z"
   },
   {
    "duration": 11,
    "start_time": "2023-06-28T13:29:37.687Z"
   },
   {
    "duration": 15,
    "start_time": "2023-06-28T13:29:37.700Z"
   },
   {
    "duration": 506832,
    "start_time": "2023-06-28T13:33:54.246Z"
   },
   {
    "duration": 13,
    "start_time": "2023-06-28T13:42:21.081Z"
   },
   {
    "duration": 643,
    "start_time": "2023-06-28T13:50:32.823Z"
   },
   {
    "duration": 56003,
    "start_time": "2023-06-28T13:52:21.416Z"
   },
   {
    "duration": 1198765,
    "start_time": "2023-06-28T13:53:45.918Z"
   },
   {
    "duration": 264,
    "start_time": "2023-06-28T14:13:44.686Z"
   },
   {
    "duration": 0,
    "start_time": "2023-06-28T14:13:44.952Z"
   },
   {
    "duration": 290,
    "start_time": "2023-06-28T14:14:48.717Z"
   },
   {
    "duration": 16,
    "start_time": "2023-06-28T14:15:02.922Z"
   },
   {
    "duration": 12,
    "start_time": "2023-06-28T14:15:26.801Z"
   },
   {
    "duration": 5,
    "start_time": "2023-06-28T14:15:31.931Z"
   },
   {
    "duration": 2280,
    "start_time": "2023-06-28T14:17:11.443Z"
   },
   {
    "duration": 4313,
    "start_time": "2023-06-29T11:31:04.449Z"
   },
   {
    "duration": 740,
    "start_time": "2023-06-29T11:31:08.764Z"
   },
   {
    "duration": 11,
    "start_time": "2023-06-29T11:31:09.506Z"
   },
   {
    "duration": 151,
    "start_time": "2023-06-29T11:31:09.519Z"
   },
   {
    "duration": 121,
    "start_time": "2023-06-29T11:31:09.676Z"
   },
   {
    "duration": 394,
    "start_time": "2023-06-29T11:31:09.799Z"
   },
   {
    "duration": 414,
    "start_time": "2023-06-29T11:31:10.195Z"
   },
   {
    "duration": 94,
    "start_time": "2023-06-29T11:31:10.610Z"
   },
   {
    "duration": 6,
    "start_time": "2023-06-29T11:31:10.706Z"
   },
   {
    "duration": 28,
    "start_time": "2023-06-29T11:31:10.713Z"
   },
   {
    "duration": 94,
    "start_time": "2023-06-29T11:31:10.742Z"
   },
   {
    "duration": 9,
    "start_time": "2023-06-29T11:31:10.837Z"
   },
   {
    "duration": 36,
    "start_time": "2023-06-29T11:31:10.847Z"
   },
   {
    "duration": 29,
    "start_time": "2023-06-29T11:31:10.886Z"
   },
   {
    "duration": 45,
    "start_time": "2023-06-29T11:31:10.916Z"
   },
   {
    "duration": 34,
    "start_time": "2023-06-29T11:31:10.963Z"
   },
   {
    "duration": 113,
    "start_time": "2023-06-29T11:31:10.999Z"
   },
   {
    "duration": 63,
    "start_time": "2023-06-29T11:31:11.113Z"
   },
   {
    "duration": 37,
    "start_time": "2023-06-29T11:31:11.178Z"
   },
   {
    "duration": 46,
    "start_time": "2023-06-29T11:31:11.217Z"
   },
   {
    "duration": 17,
    "start_time": "2023-06-29T11:31:11.265Z"
   },
   {
    "duration": 13,
    "start_time": "2023-06-29T11:31:11.284Z"
   },
   {
    "duration": 114,
    "start_time": "2023-06-29T11:31:11.299Z"
   },
   {
    "duration": 94,
    "start_time": "2023-06-29T11:31:11.414Z"
   },
   {
    "duration": 197,
    "start_time": "2023-06-29T11:31:11.510Z"
   },
   {
    "duration": 30,
    "start_time": "2023-06-29T11:31:11.708Z"
   },
   {
    "duration": 43,
    "start_time": "2023-06-29T11:31:11.739Z"
   },
   {
    "duration": 30,
    "start_time": "2023-06-29T11:31:11.784Z"
   },
   {
    "duration": 20,
    "start_time": "2023-06-29T11:31:11.815Z"
   },
   {
    "duration": 89,
    "start_time": "2023-06-29T11:31:11.837Z"
   },
   {
    "duration": 9,
    "start_time": "2023-06-29T11:31:11.928Z"
   },
   {
    "duration": 11,
    "start_time": "2023-06-29T11:31:11.939Z"
   },
   {
    "duration": 152,
    "start_time": "2023-06-29T11:31:11.951Z"
   },
   {
    "duration": 56,
    "start_time": "2023-06-29T11:31:12.105Z"
   },
   {
    "duration": 14,
    "start_time": "2023-06-29T11:31:12.163Z"
   },
   {
    "duration": 24,
    "start_time": "2023-06-29T11:31:12.178Z"
   },
   {
    "duration": 137,
    "start_time": "2023-06-29T11:31:12.203Z"
   },
   {
    "duration": 9,
    "start_time": "2023-06-29T11:31:12.342Z"
   },
   {
    "duration": 13,
    "start_time": "2023-06-29T11:31:12.353Z"
   },
   {
    "duration": 6920,
    "start_time": "2023-06-29T11:31:12.374Z"
   },
   {
    "duration": 29797,
    "start_time": "2023-06-29T11:31:19.297Z"
   },
   {
    "duration": 33382,
    "start_time": "2023-06-29T11:31:49.095Z"
   },
   {
    "duration": 192,
    "start_time": "2023-06-29T11:32:22.479Z"
   },
   {
    "duration": 51187,
    "start_time": "2023-06-29T11:32:22.676Z"
   },
   {
    "duration": 353134,
    "start_time": "2023-06-29T11:33:13.865Z"
   },
   {
    "duration": 174,
    "start_time": "2023-06-29T11:39:07.001Z"
   },
   {
    "duration": 102,
    "start_time": "2023-06-29T11:39:07.178Z"
   },
   {
    "duration": 1912,
    "start_time": "2023-06-29T11:39:07.281Z"
   },
   {
    "duration": 1945,
    "start_time": "2023-06-29T12:15:59.048Z"
   },
   {
    "duration": 1572,
    "start_time": "2023-06-29T14:48:49.087Z"
   },
   {
    "duration": 3083,
    "start_time": "2023-06-29T14:48:50.661Z"
   },
   {
    "duration": 13,
    "start_time": "2023-06-29T14:48:53.745Z"
   },
   {
    "duration": 155,
    "start_time": "2023-06-29T14:48:53.761Z"
   },
   {
    "duration": 177,
    "start_time": "2023-06-29T14:48:53.918Z"
   },
   {
    "duration": 513,
    "start_time": "2023-06-29T14:48:54.097Z"
   },
   {
    "duration": 501,
    "start_time": "2023-06-29T14:48:54.612Z"
   },
   {
    "duration": 98,
    "start_time": "2023-06-29T14:48:55.115Z"
   },
   {
    "duration": 10,
    "start_time": "2023-06-29T14:48:55.216Z"
   },
   {
    "duration": 46,
    "start_time": "2023-06-29T14:48:55.228Z"
   },
   {
    "duration": 107,
    "start_time": "2023-06-29T14:48:55.276Z"
   },
   {
    "duration": 40,
    "start_time": "2023-06-29T14:48:55.385Z"
   },
   {
    "duration": 57,
    "start_time": "2023-06-29T14:48:55.427Z"
   },
   {
    "duration": 49,
    "start_time": "2023-06-29T14:48:55.487Z"
   },
   {
    "duration": 70,
    "start_time": "2023-06-29T14:48:55.538Z"
   },
   {
    "duration": 41,
    "start_time": "2023-06-29T14:48:55.609Z"
   },
   {
    "duration": 150,
    "start_time": "2023-06-29T14:48:55.652Z"
   },
   {
    "duration": 550,
    "start_time": "2023-06-29T14:48:55.804Z"
   },
   {
    "duration": 36,
    "start_time": "2023-06-29T14:48:56.356Z"
   },
   {
    "duration": 46,
    "start_time": "2023-06-29T14:48:56.394Z"
   },
   {
    "duration": 29,
    "start_time": "2023-06-29T14:48:56.443Z"
   },
   {
    "duration": 23,
    "start_time": "2023-06-29T14:48:56.473Z"
   },
   {
    "duration": 145,
    "start_time": "2023-06-29T14:48:56.498Z"
   },
   {
    "duration": 112,
    "start_time": "2023-06-29T14:48:56.644Z"
   },
   {
    "duration": 155,
    "start_time": "2023-06-29T14:48:56.758Z"
   },
   {
    "duration": 32,
    "start_time": "2023-06-29T14:48:56.914Z"
   },
   {
    "duration": 55,
    "start_time": "2023-06-29T14:48:56.947Z"
   },
   {
    "duration": 29,
    "start_time": "2023-06-29T14:48:57.005Z"
   },
   {
    "duration": 42,
    "start_time": "2023-06-29T14:48:57.036Z"
   },
   {
    "duration": 106,
    "start_time": "2023-06-29T14:48:57.085Z"
   },
   {
    "duration": 13,
    "start_time": "2023-06-29T14:48:57.193Z"
   },
   {
    "duration": 16,
    "start_time": "2023-06-29T14:48:57.208Z"
   },
   {
    "duration": 183,
    "start_time": "2023-06-29T14:48:57.225Z"
   },
   {
    "duration": 82,
    "start_time": "2023-06-29T14:48:57.410Z"
   },
   {
    "duration": 5,
    "start_time": "2023-06-29T14:48:57.494Z"
   },
   {
    "duration": 99,
    "start_time": "2023-06-29T14:48:57.500Z"
   },
   {
    "duration": 154,
    "start_time": "2023-06-29T14:48:57.601Z"
   },
   {
    "duration": 21,
    "start_time": "2023-06-29T14:48:57.756Z"
   },
   {
    "duration": 12,
    "start_time": "2023-06-29T14:48:57.779Z"
   },
   {
    "duration": 101592,
    "start_time": "2023-06-29T14:48:57.793Z"
   },
   {
    "duration": 729223,
    "start_time": "2023-06-29T14:50:39.386Z"
   },
   {
    "duration": 767776,
    "start_time": "2023-06-29T15:02:48.610Z"
   },
   {
    "duration": 219,
    "start_time": "2023-06-29T15:15:36.388Z"
   },
   {
    "duration": 55224,
    "start_time": "2023-06-29T15:15:36.608Z"
   },
   {
    "duration": 1054581,
    "start_time": "2023-06-29T15:16:31.834Z"
   },
   {
    "duration": 73,
    "start_time": "2023-06-29T15:34:06.417Z"
   },
   {
    "duration": 98,
    "start_time": "2023-06-29T15:34:06.494Z"
   },
   {
    "duration": 2611,
    "start_time": "2023-06-29T15:34:06.597Z"
   },
   {
    "duration": 10249,
    "start_time": "2023-06-29T15:34:09.211Z"
   },
   {
    "duration": 0,
    "start_time": "2023-06-29T15:34:30.463Z"
   },
   {
    "duration": 0,
    "start_time": "2023-06-29T15:34:30.465Z"
   },
   {
    "duration": 0,
    "start_time": "2023-06-29T15:34:30.466Z"
   },
   {
    "duration": 0,
    "start_time": "2023-06-29T15:34:30.467Z"
   },
   {
    "duration": 158,
    "start_time": "2023-06-29T15:44:52.405Z"
   },
   {
    "duration": 4,
    "start_time": "2023-06-29T15:45:58.410Z"
   },
   {
    "duration": 898,
    "start_time": "2023-06-29T15:45:59.519Z"
   },
   {
    "duration": 12,
    "start_time": "2023-06-29T15:46:08.713Z"
   },
   {
    "duration": 188,
    "start_time": "2023-06-29T15:46:21.712Z"
   },
   {
    "duration": 166,
    "start_time": "2023-06-29T15:46:37.296Z"
   },
   {
    "duration": 530,
    "start_time": "2023-06-29T15:46:47.223Z"
   },
   {
    "duration": 470,
    "start_time": "2023-06-29T15:46:53.563Z"
   },
   {
    "duration": 483,
    "start_time": "2023-06-29T15:47:22.811Z"
   },
   {
    "duration": 148,
    "start_time": "2023-06-29T15:56:59.864Z"
   },
   {
    "duration": 113556,
    "start_time": "2023-06-29T15:57:20.997Z"
   },
   {
    "duration": 603,
    "start_time": "2023-06-29T16:02:44.928Z"
   },
   {
    "duration": 2003,
    "start_time": "2023-06-29T16:09:12.327Z"
   },
   {
    "duration": 1164,
    "start_time": "2023-06-29T16:09:14.339Z"
   },
   {
    "duration": 15,
    "start_time": "2023-06-29T16:09:19.423Z"
   },
   {
    "duration": 193,
    "start_time": "2023-06-29T16:09:20.594Z"
   },
   {
    "duration": 175,
    "start_time": "2023-06-29T16:09:22.217Z"
   },
   {
    "duration": 624,
    "start_time": "2023-06-29T16:09:23.152Z"
   },
   {
    "duration": 665,
    "start_time": "2023-06-29T16:09:23.882Z"
   },
   {
    "duration": 627,
    "start_time": "2023-06-29T16:09:26.734Z"
   },
   {
    "duration": 695,
    "start_time": "2023-06-29T16:09:28.046Z"
   },
   {
    "duration": 156,
    "start_time": "2023-06-29T16:09:37.055Z"
   },
   {
    "duration": 20,
    "start_time": "2023-06-29T16:10:03.014Z"
   },
   {
    "duration": 132,
    "start_time": "2023-06-29T16:10:04.016Z"
   },
   {
    "duration": 141,
    "start_time": "2023-06-29T16:10:12.285Z"
   },
   {
    "duration": 9,
    "start_time": "2023-06-29T16:10:24.254Z"
   },
   {
    "duration": 8,
    "start_time": "2023-06-29T16:11:01.847Z"
   },
   {
    "duration": 12,
    "start_time": "2023-06-29T16:11:33.837Z"
   },
   {
    "duration": 12,
    "start_time": "2023-06-29T16:11:49.986Z"
   },
   {
    "duration": 12,
    "start_time": "2023-06-29T16:12:12.862Z"
   },
   {
    "duration": 14,
    "start_time": "2023-06-29T16:12:31.490Z"
   },
   {
    "duration": 31,
    "start_time": "2023-06-29T16:13:33.002Z"
   },
   {
    "duration": 53,
    "start_time": "2023-06-29T16:13:47.494Z"
   },
   {
    "duration": 20,
    "start_time": "2023-06-29T16:13:51.810Z"
   },
   {
    "duration": 22,
    "start_time": "2023-06-29T16:15:36.921Z"
   },
   {
    "duration": 206,
    "start_time": "2023-06-29T16:16:38.483Z"
   },
   {
    "duration": 7,
    "start_time": "2023-06-29T16:16:49.657Z"
   },
   {
    "duration": 19,
    "start_time": "2023-06-29T16:16:59.826Z"
   },
   {
    "duration": 18,
    "start_time": "2023-06-29T16:17:12.966Z"
   },
   {
    "duration": 217,
    "start_time": "2023-06-29T16:17:49.795Z"
   },
   {
    "duration": 421,
    "start_time": "2023-06-29T16:18:22.257Z"
   },
   {
    "duration": 139,
    "start_time": "2023-06-29T16:18:44.642Z"
   },
   {
    "duration": 346,
    "start_time": "2023-06-29T16:18:50.117Z"
   },
   {
    "duration": 413,
    "start_time": "2023-06-29T16:19:00.221Z"
   },
   {
    "duration": 9117,
    "start_time": "2023-06-29T16:22:12.437Z"
   },
   {
    "duration": 116,
    "start_time": "2023-06-29T16:30:53.801Z"
   },
   {
    "duration": 1100,
    "start_time": "2023-06-29T16:31:22.558Z"
   },
   {
    "duration": 79,
    "start_time": "2023-06-29T16:33:39.766Z"
   },
   {
    "duration": 75,
    "start_time": "2023-06-29T16:33:48.265Z"
   },
   {
    "duration": 58,
    "start_time": "2023-06-29T16:33:51.127Z"
   },
   {
    "duration": 168,
    "start_time": "2023-06-29T16:35:08.440Z"
   },
   {
    "duration": 48,
    "start_time": "2023-06-29T16:37:45.601Z"
   },
   {
    "duration": 47,
    "start_time": "2023-06-29T16:37:59.412Z"
   },
   {
    "duration": 19,
    "start_time": "2023-06-29T16:38:02.331Z"
   },
   {
    "duration": 8,
    "start_time": "2023-06-29T16:38:20.655Z"
   },
   {
    "duration": 155,
    "start_time": "2023-06-29T16:38:30.653Z"
   },
   {
    "duration": 159,
    "start_time": "2023-06-29T16:42:31.314Z"
   },
   {
    "duration": 213,
    "start_time": "2023-06-29T16:44:38.088Z"
   },
   {
    "duration": 192,
    "start_time": "2023-06-29T16:44:52.345Z"
   },
   {
    "duration": 185,
    "start_time": "2023-06-29T16:44:57.795Z"
   },
   {
    "duration": 51,
    "start_time": "2023-06-29T16:45:00.847Z"
   },
   {
    "duration": 134,
    "start_time": "2023-06-29T16:46:02.536Z"
   },
   {
    "duration": 60,
    "start_time": "2023-06-29T17:04:51.478Z"
   },
   {
    "duration": 246,
    "start_time": "2023-06-29T17:05:02.568Z"
   },
   {
    "duration": 170,
    "start_time": "2023-06-29T17:05:06.971Z"
   },
   {
    "duration": 37,
    "start_time": "2023-06-29T17:06:30.206Z"
   },
   {
    "duration": 42,
    "start_time": "2023-06-29T17:06:44.220Z"
   },
   {
    "duration": 39,
    "start_time": "2023-06-29T17:06:49.498Z"
   },
   {
    "duration": 140,
    "start_time": "2023-06-29T17:07:31.995Z"
   },
   {
    "duration": 84,
    "start_time": "2023-06-29T17:21:55.932Z"
   },
   {
    "duration": 39,
    "start_time": "2023-06-29T17:22:04.711Z"
   },
   {
    "duration": 129,
    "start_time": "2023-06-29T17:22:12.424Z"
   },
   {
    "duration": 165,
    "start_time": "2023-06-29T17:22:14.995Z"
   },
   {
    "duration": 158,
    "start_time": "2023-06-29T17:28:10.242Z"
   },
   {
    "duration": 137,
    "start_time": "2023-06-29T17:28:13.106Z"
   },
   {
    "duration": 38,
    "start_time": "2023-06-29T17:28:15.597Z"
   },
   {
    "duration": 30,
    "start_time": "2023-06-29T17:28:16.937Z"
   },
   {
    "duration": 55,
    "start_time": "2023-06-29T17:28:27.357Z"
   },
   {
    "duration": 29,
    "start_time": "2023-06-29T17:28:30.233Z"
   },
   {
    "duration": 105,
    "start_time": "2023-06-29T17:28:32.536Z"
   },
   {
    "duration": 14,
    "start_time": "2023-06-29T17:28:52.190Z"
   },
   {
    "duration": 17,
    "start_time": "2023-06-29T17:28:54.311Z"
   },
   {
    "duration": 4,
    "start_time": "2023-06-29T17:47:36.580Z"
   },
   {
    "duration": 804,
    "start_time": "2023-06-29T17:47:38.494Z"
   },
   {
    "duration": 13,
    "start_time": "2023-06-29T17:48:02.461Z"
   },
   {
    "duration": 161,
    "start_time": "2023-06-29T17:48:02.475Z"
   },
   {
    "duration": 119,
    "start_time": "2023-06-29T17:48:04.309Z"
   },
   {
    "duration": 401,
    "start_time": "2023-06-29T17:48:05.525Z"
   },
   {
    "duration": 407,
    "start_time": "2023-06-29T17:48:06.686Z"
   },
   {
    "duration": 411,
    "start_time": "2023-06-29T17:48:08.788Z"
   },
   {
    "duration": 448,
    "start_time": "2023-06-29T17:48:10.484Z"
   },
   {
    "duration": 76,
    "start_time": "2023-06-29T17:48:13.581Z"
   },
   {
    "duration": 7,
    "start_time": "2023-06-29T17:48:22.567Z"
   },
   {
    "duration": 67,
    "start_time": "2023-06-29T17:48:25.354Z"
   },
   {
    "duration": 79,
    "start_time": "2023-06-29T17:48:36.740Z"
   },
   {
    "duration": 9,
    "start_time": "2023-06-29T17:48:42.824Z"
   },
   {
    "duration": 21,
    "start_time": "2023-06-29T17:48:45.254Z"
   },
   {
    "duration": 291,
    "start_time": "2023-06-29T17:48:54.383Z"
   },
   {
    "duration": 457,
    "start_time": "2023-06-29T17:53:09.628Z"
   },
   {
    "duration": 9,
    "start_time": "2023-06-29T17:53:12.774Z"
   },
   {
    "duration": 37,
    "start_time": "2023-06-29T17:53:15.824Z"
   },
   {
    "duration": 63,
    "start_time": "2023-06-29T17:53:18.001Z"
   },
   {
    "duration": 36,
    "start_time": "2023-06-29T17:53:19.127Z"
   },
   {
    "duration": 216,
    "start_time": "2023-06-29T17:53:21.737Z"
   },
   {
    "duration": 54,
    "start_time": "2023-06-29T17:53:25.334Z"
   },
   {
    "duration": 805,
    "start_time": "2023-06-29T17:53:36.145Z"
   },
   {
    "duration": 62,
    "start_time": "2023-06-29T17:53:40.668Z"
   },
   {
    "duration": 53,
    "start_time": "2023-06-29T17:53:44.661Z"
   },
   {
    "duration": 58,
    "start_time": "2023-06-29T17:53:49.079Z"
   },
   {
    "duration": 28,
    "start_time": "2023-06-29T17:53:53.084Z"
   },
   {
    "duration": 12,
    "start_time": "2023-06-29T17:54:02.556Z"
   },
   {
    "duration": 38,
    "start_time": "2023-06-29T17:54:07.392Z"
   },
   {
    "duration": 45,
    "start_time": "2023-06-29T17:54:42.773Z"
   },
   {
    "duration": 38,
    "start_time": "2023-06-29T17:54:56.277Z"
   },
   {
    "duration": 32,
    "start_time": "2023-06-29T17:55:07.847Z"
   },
   {
    "duration": 39,
    "start_time": "2023-06-29T17:56:45.669Z"
   },
   {
    "duration": 148,
    "start_time": "2023-06-29T17:57:09.989Z"
   },
   {
    "duration": 146,
    "start_time": "2023-06-29T17:57:13.558Z"
   },
   {
    "duration": 72,
    "start_time": "2023-06-29T17:57:32.640Z"
   },
   {
    "duration": 58,
    "start_time": "2023-06-29T17:57:51.359Z"
   },
   {
    "duration": 122,
    "start_time": "2023-06-29T17:57:55.320Z"
   },
   {
    "duration": 259,
    "start_time": "2023-06-29T17:58:58.840Z"
   },
   {
    "duration": 234,
    "start_time": "2023-06-29T17:59:12.696Z"
   },
   {
    "duration": 245,
    "start_time": "2023-06-29T17:59:28.784Z"
   },
   {
    "duration": 462,
    "start_time": "2023-06-29T17:59:54.710Z"
   },
   {
    "duration": 338,
    "start_time": "2023-06-29T18:00:14.408Z"
   },
   {
    "duration": 395,
    "start_time": "2023-06-29T18:01:13.800Z"
   },
   {
    "duration": 112,
    "start_time": "2023-06-29T18:01:16.438Z"
   },
   {
    "duration": 32,
    "start_time": "2023-06-29T18:01:20.601Z"
   },
   {
    "duration": 39,
    "start_time": "2023-06-29T18:01:25.310Z"
   },
   {
    "duration": 28,
    "start_time": "2023-06-29T18:01:29.535Z"
   },
   {
    "duration": 31,
    "start_time": "2023-06-29T18:01:32.863Z"
   },
   {
    "duration": 89,
    "start_time": "2023-06-29T18:01:34.532Z"
   },
   {
    "duration": 11,
    "start_time": "2023-06-29T18:01:42.292Z"
   },
   {
    "duration": 12,
    "start_time": "2023-06-29T18:01:45.730Z"
   },
   {
    "duration": 147,
    "start_time": "2023-06-29T18:04:57.527Z"
   },
   {
    "duration": 95,
    "start_time": "2023-06-29T18:07:06.256Z"
   },
   {
    "duration": 306,
    "start_time": "2023-06-29T18:11:05.695Z"
   },
   {
    "duration": 5,
    "start_time": "2023-06-29T18:13:25.976Z"
   },
   {
    "duration": 4,
    "start_time": "2023-06-29T18:14:36.310Z"
   },
   {
    "duration": 14,
    "start_time": "2023-06-29T18:21:23.078Z"
   },
   {
    "duration": 8,
    "start_time": "2023-06-29T18:23:16.309Z"
   },
   {
    "duration": 436,
    "start_time": "2023-06-29T18:23:38.272Z"
   },
   {
    "duration": 29,
    "start_time": "2023-06-29T18:25:42.340Z"
   },
   {
    "duration": 29,
    "start_time": "2023-06-29T18:28:09.963Z"
   },
   {
    "duration": 26,
    "start_time": "2023-06-29T18:29:58.017Z"
   },
   {
    "duration": 110,
    "start_time": "2023-06-29T18:32:48.345Z"
   },
   {
    "duration": 1491,
    "start_time": "2023-06-29T18:33:24.597Z"
   },
   {
    "duration": 834,
    "start_time": "2023-06-29T18:33:26.090Z"
   },
   {
    "duration": 12,
    "start_time": "2023-06-29T18:33:26.925Z"
   },
   {
    "duration": 141,
    "start_time": "2023-06-29T18:33:26.939Z"
   },
   {
    "duration": 4,
    "start_time": "2023-06-29T18:33:27.081Z"
   },
   {
    "duration": 136,
    "start_time": "2023-06-29T18:33:27.086Z"
   },
   {
    "duration": 488,
    "start_time": "2023-06-29T18:33:27.224Z"
   },
   {
    "duration": 475,
    "start_time": "2023-06-29T18:33:27.713Z"
   },
   {
    "duration": 535,
    "start_time": "2023-06-29T18:33:28.189Z"
   },
   {
    "duration": 695,
    "start_time": "2023-06-29T18:33:28.726Z"
   },
   {
    "duration": 96,
    "start_time": "2023-06-29T18:33:29.422Z"
   },
   {
    "duration": 81,
    "start_time": "2023-06-29T18:33:29.519Z"
   },
   {
    "duration": 7,
    "start_time": "2023-06-29T18:33:29.601Z"
   },
   {
    "duration": 81,
    "start_time": "2023-06-29T18:33:29.609Z"
   },
   {
    "duration": 84,
    "start_time": "2023-06-29T18:33:29.692Z"
   },
   {
    "duration": 10,
    "start_time": "2023-06-29T18:33:29.778Z"
   },
   {
    "duration": 29,
    "start_time": "2023-06-29T18:33:29.789Z"
   },
   {
    "duration": 479,
    "start_time": "2023-06-29T18:33:29.820Z"
   },
   {
    "duration": 8,
    "start_time": "2023-06-29T18:33:30.301Z"
   },
   {
    "duration": 50,
    "start_time": "2023-06-29T18:33:30.311Z"
   },
   {
    "duration": 55,
    "start_time": "2023-06-29T18:33:30.363Z"
   },
   {
    "duration": 53,
    "start_time": "2023-06-29T18:33:30.420Z"
   },
   {
    "duration": 84,
    "start_time": "2023-06-29T18:33:30.475Z"
   },
   {
    "duration": 43,
    "start_time": "2023-06-29T18:33:30.561Z"
   },
   {
    "duration": 115,
    "start_time": "2023-06-29T18:33:30.606Z"
   },
   {
    "duration": 56,
    "start_time": "2023-06-29T18:33:30.723Z"
   },
   {
    "duration": 817,
    "start_time": "2023-06-29T18:33:30.781Z"
   },
   {
    "duration": 53,
    "start_time": "2023-06-29T18:33:31.601Z"
   },
   {
    "duration": 38,
    "start_time": "2023-06-29T18:33:31.656Z"
   },
   {
    "duration": 142,
    "start_time": "2023-06-29T18:33:31.696Z"
   },
   {
    "duration": 23,
    "start_time": "2023-06-29T18:33:31.840Z"
   },
   {
    "duration": 67,
    "start_time": "2023-06-29T18:33:31.865Z"
   },
   {
    "duration": 9,
    "start_time": "2023-06-29T18:33:31.934Z"
   },
   {
    "duration": 151,
    "start_time": "2023-06-29T18:33:31.945Z"
   },
   {
    "duration": 424,
    "start_time": "2023-06-29T18:33:32.098Z"
   },
   {
    "duration": 75,
    "start_time": "2023-06-29T18:33:32.524Z"
   },
   {
    "duration": 361,
    "start_time": "2023-06-29T18:33:32.601Z"
   },
   {
    "duration": 116,
    "start_time": "2023-06-29T18:33:32.963Z"
   },
   {
    "duration": 31,
    "start_time": "2023-06-29T18:33:33.081Z"
   },
   {
    "duration": 30,
    "start_time": "2023-06-29T18:33:33.114Z"
   },
   {
    "duration": 41,
    "start_time": "2023-06-29T18:33:33.146Z"
   },
   {
    "duration": 18,
    "start_time": "2023-06-29T18:33:33.189Z"
   },
   {
    "duration": 93,
    "start_time": "2023-06-29T18:33:33.209Z"
   },
   {
    "duration": 132,
    "start_time": "2023-06-29T18:33:33.304Z"
   },
   {
    "duration": 130,
    "start_time": "2023-06-29T18:33:40.044Z"
   },
   {
    "duration": 11,
    "start_time": "2023-06-29T18:33:40.965Z"
   },
   {
    "duration": 26,
    "start_time": "2023-06-29T18:37:38.103Z"
   },
   {
    "duration": 90,
    "start_time": "2023-06-29T18:39:04.161Z"
   },
   {
    "duration": 155,
    "start_time": "2023-06-29T18:45:57.029Z"
   },
   {
    "duration": 160,
    "start_time": "2023-06-29T18:47:42.393Z"
   },
   {
    "duration": 179,
    "start_time": "2023-06-29T18:56:36.466Z"
   },
   {
    "duration": 4,
    "start_time": "2023-06-29T18:58:57.410Z"
   },
   {
    "duration": 821,
    "start_time": "2023-06-29T18:58:59.974Z"
   },
   {
    "duration": 12,
    "start_time": "2023-06-29T18:59:06.903Z"
   },
   {
    "duration": 124,
    "start_time": "2023-06-29T18:59:07.870Z"
   },
   {
    "duration": 4,
    "start_time": "2023-06-29T18:59:10.270Z"
   },
   {
    "duration": 143,
    "start_time": "2023-06-29T18:59:14.136Z"
   },
   {
    "duration": 394,
    "start_time": "2023-06-29T18:59:15.127Z"
   },
   {
    "duration": 386,
    "start_time": "2023-06-29T18:59:17.241Z"
   },
   {
    "duration": 443,
    "start_time": "2023-06-29T18:59:40.063Z"
   },
   {
    "duration": 493,
    "start_time": "2023-06-29T18:59:44.904Z"
   },
   {
    "duration": 81,
    "start_time": "2023-06-29T18:59:49.453Z"
   },
   {
    "duration": 61,
    "start_time": "2023-06-29T18:59:49.679Z"
   },
   {
    "duration": 7,
    "start_time": "2023-06-29T18:59:50.143Z"
   },
   {
    "duration": 57,
    "start_time": "2023-06-29T18:59:50.369Z"
   },
   {
    "duration": 83,
    "start_time": "2023-06-29T18:59:51.812Z"
   },
   {
    "duration": 12,
    "start_time": "2023-06-29T18:59:52.130Z"
   },
   {
    "duration": 19,
    "start_time": "2023-06-29T18:59:52.590Z"
   },
   {
    "duration": 555,
    "start_time": "2023-06-29T18:59:53.565Z"
   },
   {
    "duration": 11,
    "start_time": "2023-06-29T18:59:54.122Z"
   },
   {
    "duration": 9,
    "start_time": "2023-06-29T18:59:54.271Z"
   },
   {
    "duration": 28,
    "start_time": "2023-06-29T18:59:54.560Z"
   },
   {
    "duration": 31,
    "start_time": "2023-06-29T18:59:55.294Z"
   },
   {
    "duration": 36,
    "start_time": "2023-06-29T18:59:55.585Z"
   },
   {
    "duration": 26,
    "start_time": "2023-06-29T18:59:56.591Z"
   },
   {
    "duration": 97,
    "start_time": "2023-06-29T18:59:57.709Z"
   },
   {
    "duration": 45,
    "start_time": "2023-06-29T18:59:58.927Z"
   },
   {
    "duration": 118,
    "start_time": "2023-06-29T19:00:04.455Z"
   },
   {
    "duration": 53,
    "start_time": "2023-06-29T19:00:37.857Z"
   },
   {
    "duration": 679,
    "start_time": "2023-06-29T19:00:43.119Z"
   },
   {
    "duration": 62,
    "start_time": "2023-06-29T19:00:44.787Z"
   },
   {
    "duration": 44,
    "start_time": "2023-06-29T19:00:48.056Z"
   },
   {
    "duration": 33,
    "start_time": "2023-06-29T19:00:48.928Z"
   },
   {
    "duration": 17,
    "start_time": "2023-06-29T19:00:50.238Z"
   },
   {
    "duration": 28,
    "start_time": "2023-06-29T19:01:06.199Z"
   },
   {
    "duration": 9,
    "start_time": "2023-06-29T19:01:09.673Z"
   },
   {
    "duration": 111,
    "start_time": "2023-06-29T19:01:11.197Z"
   },
   {
    "duration": 411,
    "start_time": "2023-06-29T19:01:13.768Z"
   },
   {
    "duration": 81,
    "start_time": "2023-06-29T19:01:33.239Z"
   },
   {
    "duration": 309,
    "start_time": "2023-06-29T19:01:34.573Z"
   },
   {
    "duration": 202,
    "start_time": "2023-06-29T19:01:35.334Z"
   },
   {
    "duration": 30,
    "start_time": "2023-06-29T19:01:36.420Z"
   },
   {
    "duration": 29,
    "start_time": "2023-06-29T19:01:37.102Z"
   },
   {
    "duration": 28,
    "start_time": "2023-06-29T19:01:38.430Z"
   },
   {
    "duration": 18,
    "start_time": "2023-06-29T19:01:39.224Z"
   },
   {
    "duration": 75,
    "start_time": "2023-06-29T19:01:40.109Z"
   },
   {
    "duration": 128,
    "start_time": "2023-06-29T19:01:42.905Z"
   },
   {
    "duration": 161,
    "start_time": "2023-06-29T19:01:44.953Z"
   },
   {
    "duration": 10,
    "start_time": "2023-06-29T19:01:46.536Z"
   },
   {
    "duration": 160,
    "start_time": "2023-06-29T19:05:07.018Z"
   },
   {
    "duration": 4,
    "start_time": "2023-06-29T19:05:22.274Z"
   },
   {
    "duration": 78,
    "start_time": "2023-06-29T19:35:15.693Z"
   },
   {
    "duration": 148,
    "start_time": "2023-06-29T19:36:32.906Z"
   },
   {
    "duration": 168,
    "start_time": "2023-06-29T19:37:00.653Z"
   },
   {
    "duration": 201,
    "start_time": "2023-06-29T19:37:24.247Z"
   },
   {
    "duration": 213,
    "start_time": "2023-06-29T19:40:33.828Z"
   },
   {
    "duration": 187,
    "start_time": "2023-06-29T19:41:59.598Z"
   },
   {
    "duration": 87,
    "start_time": "2023-06-29T19:56:12.395Z"
   },
   {
    "duration": 110,
    "start_time": "2023-06-29T19:58:05.118Z"
   },
   {
    "duration": 1602,
    "start_time": "2023-06-29T20:04:48.421Z"
   },
   {
    "duration": 950,
    "start_time": "2023-06-29T20:04:50.025Z"
   },
   {
    "duration": 22,
    "start_time": "2023-06-29T20:04:50.983Z"
   },
   {
    "duration": 167,
    "start_time": "2023-06-29T20:04:51.007Z"
   },
   {
    "duration": 4,
    "start_time": "2023-06-29T20:04:51.180Z"
   },
   {
    "duration": 147,
    "start_time": "2023-06-29T20:04:51.186Z"
   },
   {
    "duration": 569,
    "start_time": "2023-06-29T20:04:51.335Z"
   },
   {
    "duration": 520,
    "start_time": "2023-06-29T20:04:51.906Z"
   },
   {
    "duration": 532,
    "start_time": "2023-06-29T20:04:52.427Z"
   },
   {
    "duration": 661,
    "start_time": "2023-06-29T20:04:52.961Z"
   },
   {
    "duration": 110,
    "start_time": "2023-06-29T20:04:53.624Z"
   },
   {
    "duration": 84,
    "start_time": "2023-06-29T20:04:53.736Z"
   },
   {
    "duration": 6,
    "start_time": "2023-06-29T20:04:53.822Z"
   },
   {
    "duration": 98,
    "start_time": "2023-06-29T20:04:53.831Z"
   },
   {
    "duration": 120,
    "start_time": "2023-06-29T20:04:53.931Z"
   },
   {
    "duration": 33,
    "start_time": "2023-06-29T20:04:54.053Z"
   },
   {
    "duration": 33,
    "start_time": "2023-06-29T20:04:54.097Z"
   },
   {
    "duration": 612,
    "start_time": "2023-06-29T20:04:54.133Z"
   },
   {
    "duration": 8,
    "start_time": "2023-06-29T20:04:54.747Z"
   },
   {
    "duration": 28,
    "start_time": "2023-06-29T20:04:54.757Z"
   },
   {
    "duration": 36,
    "start_time": "2023-06-29T20:04:54.794Z"
   },
   {
    "duration": 42,
    "start_time": "2023-06-29T20:04:54.831Z"
   },
   {
    "duration": 61,
    "start_time": "2023-06-29T20:04:54.874Z"
   },
   {
    "duration": 28,
    "start_time": "2023-06-29T20:04:54.937Z"
   },
   {
    "duration": 133,
    "start_time": "2023-06-29T20:04:54.969Z"
   },
   {
    "duration": 79,
    "start_time": "2023-06-29T20:04:55.108Z"
   },
   {
    "duration": 842,
    "start_time": "2023-06-29T20:04:55.195Z"
   },
   {
    "duration": 67,
    "start_time": "2023-06-29T20:04:56.039Z"
   },
   {
    "duration": 29,
    "start_time": "2023-06-29T20:04:56.107Z"
   },
   {
    "duration": 65,
    "start_time": "2023-06-29T20:04:56.138Z"
   },
   {
    "duration": 17,
    "start_time": "2023-06-29T20:04:56.205Z"
   },
   {
    "duration": 28,
    "start_time": "2023-06-29T20:04:56.223Z"
   },
   {
    "duration": 25,
    "start_time": "2023-06-29T20:04:56.253Z"
   },
   {
    "duration": 143,
    "start_time": "2023-06-29T20:04:56.280Z"
   },
   {
    "duration": 411,
    "start_time": "2023-06-29T20:04:56.424Z"
   },
   {
    "duration": 91,
    "start_time": "2023-06-29T20:04:56.836Z"
   },
   {
    "duration": 413,
    "start_time": "2023-06-29T20:04:56.928Z"
   },
   {
    "duration": 116,
    "start_time": "2023-06-29T20:04:57.342Z"
   },
   {
    "duration": 55,
    "start_time": "2023-06-29T20:04:57.459Z"
   },
   {
    "duration": 28,
    "start_time": "2023-06-29T20:04:57.516Z"
   },
   {
    "duration": 53,
    "start_time": "2023-06-29T20:04:57.548Z"
   },
   {
    "duration": 19,
    "start_time": "2023-06-29T20:04:57.606Z"
   },
   {
    "duration": 104,
    "start_time": "2023-06-29T20:04:57.627Z"
   },
   {
    "duration": 173,
    "start_time": "2023-06-29T20:04:57.733Z"
   },
   {
    "duration": 211,
    "start_time": "2023-06-29T20:04:57.908Z"
   },
   {
    "duration": 206,
    "start_time": "2023-06-29T20:04:58.121Z"
   },
   {
    "duration": 4,
    "start_time": "2023-06-29T20:04:58.329Z"
   },
   {
    "duration": 12,
    "start_time": "2023-06-29T20:04:58.335Z"
   },
   {
    "duration": 30,
    "start_time": "2023-06-29T20:04:58.349Z"
   },
   {
    "duration": 165,
    "start_time": "2023-06-29T20:04:58.382Z"
   },
   {
    "duration": 84,
    "start_time": "2023-06-29T20:04:58.548Z"
   },
   {
    "duration": 5,
    "start_time": "2023-06-29T20:04:58.634Z"
   },
   {
    "duration": 31,
    "start_time": "2023-06-29T20:04:58.641Z"
   },
   {
    "duration": 166,
    "start_time": "2023-06-29T20:04:58.679Z"
   },
   {
    "duration": 9,
    "start_time": "2023-06-29T20:04:58.847Z"
   },
   {
    "duration": 126,
    "start_time": "2023-06-29T20:04:58.857Z"
   },
   {
    "duration": 4,
    "start_time": "2023-06-29T20:04:58.985Z"
   },
   {
    "duration": 191691,
    "start_time": "2023-06-29T20:04:58.991Z"
   },
   {
    "duration": 1905,
    "start_time": "2023-06-30T08:54:15.845Z"
   },
   {
    "duration": 967,
    "start_time": "2023-06-30T08:54:17.752Z"
   },
   {
    "duration": 11,
    "start_time": "2023-06-30T08:54:18.721Z"
   },
   {
    "duration": 106,
    "start_time": "2023-06-30T08:54:18.733Z"
   },
   {
    "duration": 4,
    "start_time": "2023-06-30T08:54:18.840Z"
   },
   {
    "duration": 147,
    "start_time": "2023-06-30T08:54:18.845Z"
   },
   {
    "duration": 365,
    "start_time": "2023-06-30T08:54:18.994Z"
   },
   {
    "duration": 373,
    "start_time": "2023-06-30T08:54:19.360Z"
   },
   {
    "duration": 368,
    "start_time": "2023-06-30T08:54:19.734Z"
   },
   {
    "duration": 471,
    "start_time": "2023-06-30T08:54:20.104Z"
   },
   {
    "duration": 84,
    "start_time": "2023-06-30T08:54:20.576Z"
   },
   {
    "duration": 71,
    "start_time": "2023-06-30T08:54:20.662Z"
   },
   {
    "duration": 7,
    "start_time": "2023-06-30T08:54:20.734Z"
   },
   {
    "duration": 75,
    "start_time": "2023-06-30T08:54:20.742Z"
   },
   {
    "duration": 66,
    "start_time": "2023-06-30T08:54:20.818Z"
   },
   {
    "duration": 19,
    "start_time": "2023-06-30T08:54:20.886Z"
   },
   {
    "duration": 25,
    "start_time": "2023-06-30T08:54:20.906Z"
   },
   {
    "duration": 413,
    "start_time": "2023-06-30T08:54:20.932Z"
   },
   {
    "duration": 5,
    "start_time": "2023-06-30T08:54:21.347Z"
   },
   {
    "duration": 10,
    "start_time": "2023-06-30T08:54:21.354Z"
   },
   {
    "duration": 50,
    "start_time": "2023-06-30T08:54:21.366Z"
   },
   {
    "duration": 26,
    "start_time": "2023-06-30T08:54:21.418Z"
   },
   {
    "duration": 38,
    "start_time": "2023-06-30T08:54:21.446Z"
   },
   {
    "duration": 29,
    "start_time": "2023-06-30T08:54:21.500Z"
   },
   {
    "duration": 107,
    "start_time": "2023-06-30T08:54:21.530Z"
   },
   {
    "duration": 50,
    "start_time": "2023-06-30T08:54:21.638Z"
   },
   {
    "duration": 521,
    "start_time": "2023-06-30T08:54:21.689Z"
   },
   {
    "duration": 47,
    "start_time": "2023-06-30T08:54:22.214Z"
   },
   {
    "duration": 25,
    "start_time": "2023-06-30T08:54:22.262Z"
   },
   {
    "duration": 41,
    "start_time": "2023-06-30T08:54:22.300Z"
   },
   {
    "duration": 24,
    "start_time": "2023-06-30T08:54:22.343Z"
   },
   {
    "duration": 30,
    "start_time": "2023-06-30T08:54:22.369Z"
   },
   {
    "duration": 6,
    "start_time": "2023-06-30T08:54:22.401Z"
   },
   {
    "duration": 118,
    "start_time": "2023-06-30T08:54:22.409Z"
   },
   {
    "duration": 308,
    "start_time": "2023-06-30T08:54:22.528Z"
   },
   {
    "duration": 68,
    "start_time": "2023-06-30T08:54:22.837Z"
   },
   {
    "duration": 292,
    "start_time": "2023-06-30T08:54:22.907Z"
   },
   {
    "duration": 105,
    "start_time": "2023-06-30T08:54:23.201Z"
   },
   {
    "duration": 27,
    "start_time": "2023-06-30T08:54:23.307Z"
   },
   {
    "duration": 44,
    "start_time": "2023-06-30T08:54:23.335Z"
   },
   {
    "duration": 25,
    "start_time": "2023-06-30T08:54:23.381Z"
   },
   {
    "duration": 25,
    "start_time": "2023-06-30T08:54:23.407Z"
   },
   {
    "duration": 71,
    "start_time": "2023-06-30T08:54:23.433Z"
   },
   {
    "duration": 130,
    "start_time": "2023-06-30T08:54:23.506Z"
   },
   {
    "duration": 173,
    "start_time": "2023-06-30T08:54:23.638Z"
   },
   {
    "duration": 165,
    "start_time": "2023-06-30T08:54:23.813Z"
   },
   {
    "duration": 4,
    "start_time": "2023-06-30T08:54:23.979Z"
   },
   {
    "duration": 18,
    "start_time": "2023-06-30T08:54:23.984Z"
   },
   {
    "duration": 13,
    "start_time": "2023-06-30T08:54:24.003Z"
   },
   {
    "duration": 140,
    "start_time": "2023-06-30T08:54:24.017Z"
   },
   {
    "duration": 57,
    "start_time": "2023-06-30T08:54:24.159Z"
   },
   {
    "duration": 4,
    "start_time": "2023-06-30T08:54:24.218Z"
   },
   {
    "duration": 26,
    "start_time": "2023-06-30T08:54:24.224Z"
   },
   {
    "duration": 128,
    "start_time": "2023-06-30T08:54:24.251Z"
   },
   {
    "duration": 7,
    "start_time": "2023-06-30T08:54:24.380Z"
   },
   {
    "duration": 121,
    "start_time": "2023-06-30T08:54:24.388Z"
   },
   {
    "duration": 3,
    "start_time": "2023-06-30T08:54:24.511Z"
   },
   {
    "duration": 3693,
    "start_time": "2023-06-30T08:54:24.515Z"
   },
   {
    "duration": 21211,
    "start_time": "2023-06-30T08:54:28.209Z"
   },
   {
    "duration": 47908,
    "start_time": "2023-06-30T08:54:49.421Z"
   },
   {
    "duration": 236,
    "start_time": "2023-06-30T08:55:37.331Z"
   },
   {
    "duration": 52660,
    "start_time": "2023-06-30T08:55:37.568Z"
   },
   {
    "duration": 2762219,
    "start_time": "2023-06-30T08:56:30.230Z"
   },
   {
    "duration": 162,
    "start_time": "2023-06-30T09:42:32.451Z"
   },
   {
    "duration": 95,
    "start_time": "2023-06-30T09:42:32.614Z"
   },
   {
    "duration": 2394,
    "start_time": "2023-06-30T09:42:32.710Z"
   },
   {
    "duration": 0,
    "start_time": "2023-06-30T09:42:35.192Z"
   },
   {
    "duration": 0,
    "start_time": "2023-06-30T09:42:35.194Z"
   },
   {
    "duration": 212859,
    "start_time": "2023-06-30T09:43:44.546Z"
   },
   {
    "duration": 15,
    "start_time": "2023-06-30T09:48:07.254Z"
   },
   {
    "duration": 2077,
    "start_time": "2023-06-30T09:48:41.536Z"
   },
   {
    "duration": 248,
    "start_time": "2023-06-30T09:55:59.717Z"
   },
   {
    "duration": 10,
    "start_time": "2023-06-30T09:57:17.518Z"
   }
  ],
  "kernelspec": {
   "display_name": "Python 3",
   "language": "python",
   "name": "python3"
  },
  "language_info": {
   "codemirror_mode": {
    "name": "ipython",
    "version": 3
   },
   "file_extension": ".py",
   "mimetype": "text/x-python",
   "name": "python",
   "nbconvert_exporter": "python",
   "pygments_lexer": "ipython3",
   "version": "3.8.5"
  },
  "toc": {
   "base_numbering": 1,
   "nav_menu": {},
   "number_sections": true,
   "sideBar": true,
   "skip_h1_title": true,
   "title_cell": "Table of Contents",
   "title_sidebar": "Contents",
   "toc_cell": false,
   "toc_position": {
    "height": "calc(100% - 180px)",
    "left": "10px",
    "top": "150px",
    "width": "165px"
   },
   "toc_section_display": true,
   "toc_window_display": false
  }
 },
 "nbformat": 4,
 "nbformat_minor": 2
}
