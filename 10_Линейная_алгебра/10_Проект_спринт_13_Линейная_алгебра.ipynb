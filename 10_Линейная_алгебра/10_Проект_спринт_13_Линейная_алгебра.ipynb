{
 "cells": [
  {
   "cell_type": "markdown",
   "metadata": {},
   "source": [
    "# Проект - Защита персональных данных клиентов"
   ]
  },
  {
   "cell_type": "markdown",
   "metadata": {},
   "source": [
    "## Описание проекта\n",
    "\n",
    "Вам нужно защитить данные клиентов страховой компании «Хоть потоп». Разработайте такой метод преобразования данных, чтобы по ним было сложно восстановить персональную информацию. Обоснуйте корректность его работы.\n",
    "\n",
    "Нужно защитить данные, чтобы при преобразовании качество моделей машинного обучения не ухудшилось. Подбирать наилучшую модель не требуется."
   ]
  },
  {
   "cell_type": "markdown",
   "metadata": {},
   "source": [
    "## Задачи проекта\n",
    "1.\tЗагрузите и изучите данные.\n",
    "2.\tОтветьте на вопрос и обоснуйте решение. \n",
    "Признаки умножают на обратимую матрицу. Изменится ли качество линейной регрессии? \n",
    "- a) Изменится. Приведите примеры матриц.\n",
    "- b) Не изменится. Укажите, как связаны параметры линейной регрессии в исходной задаче и в преобразованной.\n",
    "3.\tПредложите алгоритм преобразования данных для решения задачи. Обоснуйте, почему качество линейной регрессии не поменяется.\n",
    "4.\tЗапрограммируйте этот алгоритм, применив матричные операции. Проверьте, что качество линейной регрессии из sklearn не отличается до и после преобразования. Примените метрику R2.\n"
   ]
  },
  {
   "cell_type": "markdown",
   "metadata": {},
   "source": [
    "## Описание данных\n",
    "\n",
    "- Признаки: пол, возраст и зарплата застрахованного, количество членов его семьи.\n",
    "- Целевой признак: количество страховых выплат клиенту за последние 5 лет.\n"
   ]
  },
  {
   "cell_type": "code",
   "execution_count": 1,
   "metadata": {},
   "outputs": [],
   "source": [
    "import pandas as pd\n",
    "import numpy as np\n",
    "import matplotlib.pyplot as plt\n",
    "import seaborn as sns\n",
    "\n",
    "pd.set_option('max_columns', None) # показывать все столбцы df\n",
    "pd.set_option('max_rows', None) # показывать все строки df\n",
    "\n",
    "from sklearn.linear_model import LinearRegression\n",
    "from sklearn.metrics import r2_score\n",
    "from sklearn.preprocessing import StandardScaler\n",
    "from sklearn.model_selection import train_test_split\n",
    "import random"
   ]
  },
  {
   "cell_type": "markdown",
   "metadata": {},
   "source": [
    "### 1. Загрузите и изучите данные."
   ]
  },
  {
   "cell_type": "code",
   "execution_count": 2,
   "metadata": {},
   "outputs": [
    {
     "data": {
      "text/html": [
       "<div>\n",
       "<style scoped>\n",
       "    .dataframe tbody tr th:only-of-type {\n",
       "        vertical-align: middle;\n",
       "    }\n",
       "\n",
       "    .dataframe tbody tr th {\n",
       "        vertical-align: top;\n",
       "    }\n",
       "\n",
       "    .dataframe thead th {\n",
       "        text-align: right;\n",
       "    }\n",
       "</style>\n",
       "<table border=\"1\" class=\"dataframe\">\n",
       "  <thead>\n",
       "    <tr style=\"text-align: right;\">\n",
       "      <th></th>\n",
       "      <th>Пол</th>\n",
       "      <th>Возраст</th>\n",
       "      <th>Зарплата</th>\n",
       "      <th>Члены семьи</th>\n",
       "      <th>Страховые выплаты</th>\n",
       "    </tr>\n",
       "  </thead>\n",
       "  <tbody>\n",
       "    <tr>\n",
       "      <th>0</th>\n",
       "      <td>1</td>\n",
       "      <td>41.0</td>\n",
       "      <td>49600.0</td>\n",
       "      <td>1</td>\n",
       "      <td>0</td>\n",
       "    </tr>\n",
       "    <tr>\n",
       "      <th>1</th>\n",
       "      <td>0</td>\n",
       "      <td>46.0</td>\n",
       "      <td>38000.0</td>\n",
       "      <td>1</td>\n",
       "      <td>1</td>\n",
       "    </tr>\n",
       "    <tr>\n",
       "      <th>2</th>\n",
       "      <td>0</td>\n",
       "      <td>29.0</td>\n",
       "      <td>21000.0</td>\n",
       "      <td>0</td>\n",
       "      <td>0</td>\n",
       "    </tr>\n",
       "    <tr>\n",
       "      <th>3</th>\n",
       "      <td>0</td>\n",
       "      <td>21.0</td>\n",
       "      <td>41700.0</td>\n",
       "      <td>2</td>\n",
       "      <td>0</td>\n",
       "    </tr>\n",
       "    <tr>\n",
       "      <th>4</th>\n",
       "      <td>1</td>\n",
       "      <td>28.0</td>\n",
       "      <td>26100.0</td>\n",
       "      <td>0</td>\n",
       "      <td>0</td>\n",
       "    </tr>\n",
       "  </tbody>\n",
       "</table>\n",
       "</div>"
      ],
      "text/plain": [
       "   Пол  Возраст  Зарплата  Члены семьи  Страховые выплаты\n",
       "0    1     41.0   49600.0            1                  0\n",
       "1    0     46.0   38000.0            1                  1\n",
       "2    0     29.0   21000.0            0                  0\n",
       "3    0     21.0   41700.0            2                  0\n",
       "4    1     28.0   26100.0            0                  0"
      ]
     },
     "execution_count": 2,
     "metadata": {},
     "output_type": "execute_result"
    }
   ],
   "source": [
    "# загрузка данных и вывод первых пяти строк\n",
    "try:\n",
    "    data = pd.read_csv(\"/datainsurance.csv\")\n",
    "except:\n",
    "    data = pd.read_csv(\"insurance.csv\")\n",
    "data.head()"
   ]
  },
  {
   "cell_type": "code",
   "execution_count": 3,
   "metadata": {},
   "outputs": [
    {
     "data": {
      "text/html": [
       "<div>\n",
       "<style scoped>\n",
       "    .dataframe tbody tr th:only-of-type {\n",
       "        vertical-align: middle;\n",
       "    }\n",
       "\n",
       "    .dataframe tbody tr th {\n",
       "        vertical-align: top;\n",
       "    }\n",
       "\n",
       "    .dataframe thead th {\n",
       "        text-align: right;\n",
       "    }\n",
       "</style>\n",
       "<table border=\"1\" class=\"dataframe\">\n",
       "  <thead>\n",
       "    <tr style=\"text-align: right;\">\n",
       "      <th></th>\n",
       "      <th>Пол</th>\n",
       "      <th>Возраст</th>\n",
       "      <th>Зарплата</th>\n",
       "      <th>Члены семьи</th>\n",
       "      <th>Страховые выплаты</th>\n",
       "    </tr>\n",
       "  </thead>\n",
       "  <tbody>\n",
       "    <tr>\n",
       "      <th>4995</th>\n",
       "      <td>0</td>\n",
       "      <td>28.0</td>\n",
       "      <td>35700.0</td>\n",
       "      <td>2</td>\n",
       "      <td>0</td>\n",
       "    </tr>\n",
       "    <tr>\n",
       "      <th>4996</th>\n",
       "      <td>0</td>\n",
       "      <td>34.0</td>\n",
       "      <td>52400.0</td>\n",
       "      <td>1</td>\n",
       "      <td>0</td>\n",
       "    </tr>\n",
       "    <tr>\n",
       "      <th>4997</th>\n",
       "      <td>0</td>\n",
       "      <td>20.0</td>\n",
       "      <td>33900.0</td>\n",
       "      <td>2</td>\n",
       "      <td>0</td>\n",
       "    </tr>\n",
       "    <tr>\n",
       "      <th>4998</th>\n",
       "      <td>1</td>\n",
       "      <td>22.0</td>\n",
       "      <td>32700.0</td>\n",
       "      <td>3</td>\n",
       "      <td>0</td>\n",
       "    </tr>\n",
       "    <tr>\n",
       "      <th>4999</th>\n",
       "      <td>1</td>\n",
       "      <td>28.0</td>\n",
       "      <td>40600.0</td>\n",
       "      <td>1</td>\n",
       "      <td>0</td>\n",
       "    </tr>\n",
       "  </tbody>\n",
       "</table>\n",
       "</div>"
      ],
      "text/plain": [
       "      Пол  Возраст  Зарплата  Члены семьи  Страховые выплаты\n",
       "4995    0     28.0   35700.0            2                  0\n",
       "4996    0     34.0   52400.0            1                  0\n",
       "4997    0     20.0   33900.0            2                  0\n",
       "4998    1     22.0   32700.0            3                  0\n",
       "4999    1     28.0   40600.0            1                  0"
      ]
     },
     "execution_count": 3,
     "metadata": {},
     "output_type": "execute_result"
    }
   ],
   "source": [
    "# вывод последних пяти строк\n",
    "data.tail()"
   ]
  },
  {
   "cell_type": "code",
   "execution_count": 4,
   "metadata": {},
   "outputs": [
    {
     "name": "stdout",
     "output_type": "stream",
     "text": [
      "<class 'pandas.core.frame.DataFrame'>\n",
      "RangeIndex: 5000 entries, 0 to 4999\n",
      "Data columns (total 5 columns):\n",
      " #   Column             Non-Null Count  Dtype  \n",
      "---  ------             --------------  -----  \n",
      " 0   Пол                5000 non-null   int64  \n",
      " 1   Возраст            5000 non-null   float64\n",
      " 2   Зарплата           5000 non-null   float64\n",
      " 3   Члены семьи        5000 non-null   int64  \n",
      " 4   Страховые выплаты  5000 non-null   int64  \n",
      "dtypes: float64(2), int64(3)\n",
      "memory usage: 195.4 KB\n"
     ]
    }
   ],
   "source": [
    "# общая информация о df\n",
    "data.info()"
   ]
  },
  {
   "cell_type": "code",
   "execution_count": 5,
   "metadata": {},
   "outputs": [
    {
     "data": {
      "text/html": [
       "<div>\n",
       "<style scoped>\n",
       "    .dataframe tbody tr th:only-of-type {\n",
       "        vertical-align: middle;\n",
       "    }\n",
       "\n",
       "    .dataframe tbody tr th {\n",
       "        vertical-align: top;\n",
       "    }\n",
       "\n",
       "    .dataframe thead th {\n",
       "        text-align: right;\n",
       "    }\n",
       "</style>\n",
       "<table border=\"1\" class=\"dataframe\">\n",
       "  <thead>\n",
       "    <tr style=\"text-align: right;\">\n",
       "      <th></th>\n",
       "      <th>Пол</th>\n",
       "      <th>Возраст</th>\n",
       "      <th>Зарплата</th>\n",
       "      <th>Члены семьи</th>\n",
       "      <th>Страховые выплаты</th>\n",
       "    </tr>\n",
       "  </thead>\n",
       "  <tbody>\n",
       "    <tr>\n",
       "      <th>count</th>\n",
       "      <td>5000.000000</td>\n",
       "      <td>5000.000000</td>\n",
       "      <td>5000.000000</td>\n",
       "      <td>5000.000000</td>\n",
       "      <td>5000.000000</td>\n",
       "    </tr>\n",
       "    <tr>\n",
       "      <th>mean</th>\n",
       "      <td>0.499000</td>\n",
       "      <td>30.952800</td>\n",
       "      <td>39916.360000</td>\n",
       "      <td>1.194200</td>\n",
       "      <td>0.148000</td>\n",
       "    </tr>\n",
       "    <tr>\n",
       "      <th>std</th>\n",
       "      <td>0.500049</td>\n",
       "      <td>8.440807</td>\n",
       "      <td>9900.083569</td>\n",
       "      <td>1.091387</td>\n",
       "      <td>0.463183</td>\n",
       "    </tr>\n",
       "    <tr>\n",
       "      <th>min</th>\n",
       "      <td>0.000000</td>\n",
       "      <td>18.000000</td>\n",
       "      <td>5300.000000</td>\n",
       "      <td>0.000000</td>\n",
       "      <td>0.000000</td>\n",
       "    </tr>\n",
       "    <tr>\n",
       "      <th>25%</th>\n",
       "      <td>0.000000</td>\n",
       "      <td>24.000000</td>\n",
       "      <td>33300.000000</td>\n",
       "      <td>0.000000</td>\n",
       "      <td>0.000000</td>\n",
       "    </tr>\n",
       "    <tr>\n",
       "      <th>50%</th>\n",
       "      <td>0.000000</td>\n",
       "      <td>30.000000</td>\n",
       "      <td>40200.000000</td>\n",
       "      <td>1.000000</td>\n",
       "      <td>0.000000</td>\n",
       "    </tr>\n",
       "    <tr>\n",
       "      <th>75%</th>\n",
       "      <td>1.000000</td>\n",
       "      <td>37.000000</td>\n",
       "      <td>46600.000000</td>\n",
       "      <td>2.000000</td>\n",
       "      <td>0.000000</td>\n",
       "    </tr>\n",
       "    <tr>\n",
       "      <th>max</th>\n",
       "      <td>1.000000</td>\n",
       "      <td>65.000000</td>\n",
       "      <td>79000.000000</td>\n",
       "      <td>6.000000</td>\n",
       "      <td>5.000000</td>\n",
       "    </tr>\n",
       "  </tbody>\n",
       "</table>\n",
       "</div>"
      ],
      "text/plain": [
       "               Пол      Возраст      Зарплата  Члены семьи  Страховые выплаты\n",
       "count  5000.000000  5000.000000   5000.000000  5000.000000        5000.000000\n",
       "mean      0.499000    30.952800  39916.360000     1.194200           0.148000\n",
       "std       0.500049     8.440807   9900.083569     1.091387           0.463183\n",
       "min       0.000000    18.000000   5300.000000     0.000000           0.000000\n",
       "25%       0.000000    24.000000  33300.000000     0.000000           0.000000\n",
       "50%       0.000000    30.000000  40200.000000     1.000000           0.000000\n",
       "75%       1.000000    37.000000  46600.000000     2.000000           0.000000\n",
       "max       1.000000    65.000000  79000.000000     6.000000           5.000000"
      ]
     },
     "execution_count": 5,
     "metadata": {},
     "output_type": "execute_result"
    }
   ],
   "source": [
    "# статистическая информация по данным \n",
    "data.describe()"
   ]
  },
  {
   "cell_type": "code",
   "execution_count": 6,
   "metadata": {},
   "outputs": [
    {
     "data": {
      "text/plain": [
       "Пол                  0.0\n",
       "Возраст              0.0\n",
       "Зарплата             0.0\n",
       "Члены семьи          0.0\n",
       "Страховые выплаты    0.0\n",
       "dtype: float64"
      ]
     },
     "execution_count": 6,
     "metadata": {},
     "output_type": "execute_result"
    }
   ],
   "source": [
    "# доп проверка на пропуски\n",
    "data.isna().mean()"
   ]
  },
  {
   "cell_type": "code",
   "execution_count": 7,
   "metadata": {},
   "outputs": [
    {
     "data": {
      "text/plain": [
       "153"
      ]
     },
     "execution_count": 7,
     "metadata": {},
     "output_type": "execute_result"
    }
   ],
   "source": [
    "# проверка на явные дубликаты между строками\n",
    "data.duplicated().sum()"
   ]
  },
  {
   "cell_type": "code",
   "execution_count": 8,
   "metadata": {},
   "outputs": [],
   "source": [
    "# подготовка матрицы признаков и вектора целевых значений (таргета) \n",
    "features = data.drop('Страховые выплаты', axis=1)\n",
    "target = data['Страховые выплаты']"
   ]
  },
  {
   "cell_type": "code",
   "execution_count": 9,
   "metadata": {},
   "outputs": [
    {
     "data": {
      "text/html": [
       "<div>\n",
       "<style scoped>\n",
       "    .dataframe tbody tr th:only-of-type {\n",
       "        vertical-align: middle;\n",
       "    }\n",
       "\n",
       "    .dataframe tbody tr th {\n",
       "        vertical-align: top;\n",
       "    }\n",
       "\n",
       "    .dataframe thead th {\n",
       "        text-align: right;\n",
       "    }\n",
       "</style>\n",
       "<table border=\"1\" class=\"dataframe\">\n",
       "  <thead>\n",
       "    <tr style=\"text-align: right;\">\n",
       "      <th></th>\n",
       "      <th>Пол</th>\n",
       "      <th>Возраст</th>\n",
       "      <th>Зарплата</th>\n",
       "      <th>Члены семьи</th>\n",
       "    </tr>\n",
       "  </thead>\n",
       "  <tbody>\n",
       "    <tr>\n",
       "      <th>0</th>\n",
       "      <td>1</td>\n",
       "      <td>41.0</td>\n",
       "      <td>49600.0</td>\n",
       "      <td>1</td>\n",
       "    </tr>\n",
       "    <tr>\n",
       "      <th>1</th>\n",
       "      <td>0</td>\n",
       "      <td>46.0</td>\n",
       "      <td>38000.0</td>\n",
       "      <td>1</td>\n",
       "    </tr>\n",
       "    <tr>\n",
       "      <th>2</th>\n",
       "      <td>0</td>\n",
       "      <td>29.0</td>\n",
       "      <td>21000.0</td>\n",
       "      <td>0</td>\n",
       "    </tr>\n",
       "    <tr>\n",
       "      <th>3</th>\n",
       "      <td>0</td>\n",
       "      <td>21.0</td>\n",
       "      <td>41700.0</td>\n",
       "      <td>2</td>\n",
       "    </tr>\n",
       "    <tr>\n",
       "      <th>4</th>\n",
       "      <td>1</td>\n",
       "      <td>28.0</td>\n",
       "      <td>26100.0</td>\n",
       "      <td>0</td>\n",
       "    </tr>\n",
       "  </tbody>\n",
       "</table>\n",
       "</div>"
      ],
      "text/plain": [
       "   Пол  Возраст  Зарплата  Члены семьи\n",
       "0    1     41.0   49600.0            1\n",
       "1    0     46.0   38000.0            1\n",
       "2    0     29.0   21000.0            0\n",
       "3    0     21.0   41700.0            2\n",
       "4    1     28.0   26100.0            0"
      ]
     },
     "execution_count": 9,
     "metadata": {},
     "output_type": "execute_result"
    }
   ],
   "source": [
    "features.head()"
   ]
  },
  {
   "cell_type": "markdown",
   "metadata": {},
   "source": [
    "**Выводы, информация п.1**\n",
    "- загружены, изучены данные, выведена информацию о пяти первых и последних строках для оценки визуально\n",
    "- выведена общая информация по df\n",
    "- выведена информация по количеству пропусков в признаках\n",
    "- сделана проверка на явные дубликаты по объектам \n",
    "\n",
    "информация по df:\n",
    "- 5000 записей\n",
    "- 5 колонок\n",
    "- данные по явным дубликатам, т.к. и признаки и значения признаков достаточно типичные, то наиболее вероятно, что это совпали данные у разных объектов - удалять, изменять не будем"
   ]
  },
  {
   "cell_type": "markdown",
   "metadata": {},
   "source": [
    "### пояснение по LaTeX"
   ]
  },
  {
   "cell_type": "markdown",
   "metadata": {},
   "source": [
    "В этом задании вы можете записывать формулы в *Jupyter Notebook.*\n",
    "\n",
    "Чтобы записать формулу внутри текста, окружите её символами доллара \\\\$; если снаружи —  двойными символами \\\\$\\\\$. Эти формулы записываются на языке вёрстки *LaTeX.* \n",
    "\n",
    "Для примера мы записали формулы линейной регрессии. Можете их скопировать и отредактировать, чтобы решить задачу.\n",
    "\n",
    "Работать в *LaTeX* необязательно."
   ]
  },
  {
   "cell_type": "markdown",
   "metadata": {},
   "source": [
    "Обозначения:\n",
    "\n",
    "- $X$ — матрица признаков (нулевой столбец состоит из единиц)\n",
    "\n",
    "- $y$ — вектор целевого признака\n",
    "\n",
    "- $P$ — матрица, на которую умножаются признаки\n",
    "\n",
    "- $w$ — вектор весов линейной регрессии (нулевой элемент равен сдвигу)"
   ]
  },
  {
   "cell_type": "markdown",
   "metadata": {},
   "source": [
    "Предсказания:\n",
    "\n",
    "$$\n",
    "a = Xw\n",
    "$$\n",
    "\n",
    "Задача обучения:\n",
    "\n",
    "$$\n",
    "w = \\arg\\min_w MSE(Xw, y)\n",
    "$$\n",
    "\n",
    "Формула обучения:\n",
    "\n",
    "$$\n",
    "w = (X^T X)^{-1} X^T y\n",
    "$$"
   ]
  },
  {
   "cell_type": "markdown",
   "metadata": {},
   "source": [
    "### 2. Ответьте на вопрос и обоснуйте решение. Признаки умножают на обратимую матрицу. Изменится ли качество линейной регрессии? (Её можно обучить заново.) \n",
    "- a) Изменится. Приведите примеры матриц. \n",
    "- b) Не изменится. Укажите, как связаны параметры линейной регрессии в исходной задаче и в преобразованной."
   ]
  },
  {
   "cell_type": "markdown",
   "metadata": {},
   "source": [
    "**Ответ:** Не изменяться\n",
    "\n",
    "**Обоснование:** \n",
    "\n",
    "формула обучение весов модели: $ w = (X^TX)^{-1}X^Ty $\n",
    "\n",
    "домножим матрицу весов X на матрицу P т.е. возьмем матрицу XP, wp - это веса с учетом матрицы XP: \n",
    "\n",
    "$ wp = ((XP)^T(XP))^{-1}(XP)^Ty $\n",
    "\n",
    "применем свойства  $(AB)^T = B^TA^T$  и раскроем скобки внутри выражения линейной регрессии: \n",
    "\n",
    "$wp = ((P)^TX^TXP)^{-1}(P)^TX^Ty$ \n",
    "\n",
    "применем свойство $(AB)^{-1} = B^{-1}A^{-1}$ и раскроем скобки:\n",
    "\n",
    "$ wp =  (P)^{-1} * (X^TX)^{-1} * (P^T)^{-1} * (P)^T * X^Ty $      \n",
    "\n",
    "по свойству $ AA^{-1} = E $ сократим   $ (P^T)^{-1}(P)^T $ и получим: \n",
    "\n",
    "$ wp = (P)^{-1}(X^TX)^{-1}X^Ty $\n",
    "\n",
    "используя $ w = (X^TX)^{-1}X^Ty $ заменим  $ (X^TX)^{-1}X^Ty $:\n",
    "\n",
    "$ wp = (P)^{-1}w $:\n",
    "\n",
    "т.к. веса связаны, то качество модели не изменится\n",
    "\n",
    "подставим в формулу предсказания  $ a = Xw $ вместо X новую матрицу XP, а вместо w новый вектор весов $ (𝑃)−1𝑤 $ и применем свойство $ AA^{-1} = E $,  получим:\n",
    "\n",
    "$ ap = XP(P)^{-1}w = Xw = a $\n",
    "\n",
    "\n",
    "\n"
   ]
  },
  {
   "cell_type": "markdown",
   "metadata": {},
   "source": [
    "**проверка вывода на модели со случайной обратимой матрицой**"
   ]
  },
  {
   "cell_type": "code",
   "execution_count": 10,
   "metadata": {},
   "outputs": [
    {
     "data": {
      "text/plain": [
       "array([[4, 9, 9, 8],\n",
       "       [7, 9, 3, 1],\n",
       "       [3, 6, 7, 7],\n",
       "       [6, 4, 4, 1]])"
      ]
     },
     "execution_count": 10,
     "metadata": {},
     "output_type": "execute_result"
    }
   ],
   "source": [
    "# генерируем случайную матрицу\n",
    "random_matrix = np.random.randint(1, 10, size=(4, 4))\n",
    "random_matrix"
   ]
  },
  {
   "cell_type": "code",
   "execution_count": 11,
   "metadata": {},
   "outputs": [
    {
     "data": {
      "text/plain": [
       "array([[-0.55458515,  0.10043668,  0.60262009,  0.11790393],\n",
       "       [ 0.26200873,  0.11790393, -0.29257642, -0.16593886],\n",
       "       [ 0.75545852, -0.31004367, -0.86026201,  0.28820961],\n",
       "       [-0.74235808,  0.16593886,  0.99563319, -0.19650655]])"
      ]
     },
     "execution_count": 11,
     "metadata": {},
     "output_type": "execute_result"
    }
   ],
   "source": [
    "# проверка созданной случайной матрицы на обратимость\n",
    "inv_random_matrix = np.linalg.inv(random_matrix)\n",
    "inv_random_matrix "
   ]
  },
  {
   "cell_type": "code",
   "execution_count": 12,
   "metadata": {},
   "outputs": [
    {
     "data": {
      "text/html": [
       "<div>\n",
       "<style scoped>\n",
       "    .dataframe tbody tr th:only-of-type {\n",
       "        vertical-align: middle;\n",
       "    }\n",
       "\n",
       "    .dataframe tbody tr th {\n",
       "        vertical-align: top;\n",
       "    }\n",
       "\n",
       "    .dataframe thead th {\n",
       "        text-align: right;\n",
       "    }\n",
       "</style>\n",
       "<table border=\"1\" class=\"dataframe\">\n",
       "  <thead>\n",
       "    <tr style=\"text-align: right;\">\n",
       "      <th></th>\n",
       "      <th>0</th>\n",
       "      <th>1</th>\n",
       "      <th>2</th>\n",
       "      <th>3</th>\n",
       "    </tr>\n",
       "  </thead>\n",
       "  <tbody>\n",
       "    <tr>\n",
       "      <th>0</th>\n",
       "      <td>149097.0</td>\n",
       "      <td>297982.0</td>\n",
       "      <td>347336.0</td>\n",
       "      <td>347250.0</td>\n",
       "    </tr>\n",
       "    <tr>\n",
       "      <th>1</th>\n",
       "      <td>114328.0</td>\n",
       "      <td>228418.0</td>\n",
       "      <td>266142.0</td>\n",
       "      <td>266047.0</td>\n",
       "    </tr>\n",
       "    <tr>\n",
       "      <th>2</th>\n",
       "      <td>63203.0</td>\n",
       "      <td>126261.0</td>\n",
       "      <td>147087.0</td>\n",
       "      <td>147029.0</td>\n",
       "    </tr>\n",
       "    <tr>\n",
       "      <th>3</th>\n",
       "      <td>125259.0</td>\n",
       "      <td>250397.0</td>\n",
       "      <td>291971.0</td>\n",
       "      <td>291923.0</td>\n",
       "    </tr>\n",
       "    <tr>\n",
       "      <th>4</th>\n",
       "      <td>78500.0</td>\n",
       "      <td>156861.0</td>\n",
       "      <td>182793.0</td>\n",
       "      <td>182736.0</td>\n",
       "    </tr>\n",
       "  </tbody>\n",
       "</table>\n",
       "</div>"
      ],
      "text/plain": [
       "          0         1         2         3\n",
       "0  149097.0  297982.0  347336.0  347250.0\n",
       "1  114328.0  228418.0  266142.0  266047.0\n",
       "2   63203.0  126261.0  147087.0  147029.0\n",
       "3  125259.0  250397.0  291971.0  291923.0\n",
       "4   78500.0  156861.0  182793.0  182736.0"
      ]
     },
     "execution_count": 12,
     "metadata": {},
     "output_type": "execute_result"
    }
   ],
   "source": [
    "# умножим признаки на обратимую матрицу\n",
    "features_dot_rm = features @ random_matrix\n",
    "features_dot_rm.head()"
   ]
  },
  {
   "cell_type": "code",
   "execution_count": 13,
   "metadata": {},
   "outputs": [
    {
     "name": "stdout",
     "output_type": "stream",
     "text": [
      "0.42494550286668\n"
     ]
    }
   ],
   "source": [
    "# обучение, предсказание и расчет метрики R2 на фактических значениях features\n",
    "model = LinearRegression()\n",
    "model.fit(features, target)\n",
    "predictions = model.predict(features)\n",
    "print(r2_score(target, predictions))"
   ]
  },
  {
   "cell_type": "code",
   "execution_count": 14,
   "metadata": {},
   "outputs": [
    {
     "name": "stdout",
     "output_type": "stream",
     "text": [
      "0.42494550286667776\n"
     ]
    }
   ],
   "source": [
    "# обучение, предсказание и расчет метрики R2 на features_dot_rm (умноженые признаки на обратимую матрицу)\n",
    "model_2 = LinearRegression()\n",
    "model_2.fit(features_dot_rm, target)\n",
    "predictions_2 = model_2.predict(features_dot_rm)\n",
    "print(r2_score(target, predictions_2))"
   ]
  },
  {
   "cell_type": "markdown",
   "metadata": {},
   "source": [
    "**Выводы, информация п.2**\n",
    "- при умножении признаков на обратимую матрицу, качество линейной регрессии не изменяется\n",
    "\n",
    "проверка:\n",
    "- аналитический вывод\n",
    "\n",
    "- расчет метрики R2 на признаках без и с умножением на обратимую матрицу, метрика R2 одинакова"
   ]
  },
  {
   "cell_type": "markdown",
   "metadata": {},
   "source": [
    "### 3. Предложите алгоритм преобразования данных для решения задачи. Обоснуйте, почему качество линейной регрессии не поменяется."
   ]
  },
  {
   "cell_type": "markdown",
   "metadata": {},
   "source": [
    "**Алгоритм** -  признаки  умножим на случайную квадратную матрицу P, которая д.б.обратимой.  \n",
    "\n",
    "Зашифрованые данные можем восстановить с помощью умножения преобразованной матрицы на обратную к P.\n",
    "- $ XP = Xp $  \n",
    "- $ Xp P^{-1} = XP * P^{-1} = X $"
   ]
  },
  {
   "cell_type": "markdown",
   "metadata": {},
   "source": [
    "**Обоснование**: в п.2. ранее показали, что такое преобразрвание не влияет на качество предсказания."
   ]
  },
  {
   "cell_type": "markdown",
   "metadata": {},
   "source": [
    "### 4. Проверка алгоритма"
   ]
  },
  {
   "cell_type": "markdown",
   "metadata": {},
   "source": [
    "Запрограммируйте этот алгоритм, применив матричные операции. Проверьте, что качество линейной регрессии из sklearn не отличается до и после преобразования. Примените метрику R2."
   ]
  },
  {
   "cell_type": "code",
   "execution_count": 15,
   "metadata": {},
   "outputs": [],
   "source": [
    "# разделим данные на тренировочные и тестовые\n",
    "features_train, features_test, target_train, target_test = train_test_split(\n",
    "    features, target, random_state=12345, shuffle=True, test_size=0.25)"
   ]
  },
  {
   "cell_type": "code",
   "execution_count": 16,
   "metadata": {},
   "outputs": [
    {
     "name": "stdout",
     "output_type": "stream",
     "text": [
      "Значение метрики R2 на не зашифрованых данных: 0.43522757127025635\n"
     ]
    }
   ],
   "source": [
    "model = LinearRegression()\n",
    "model.fit(features_train, target_train)\n",
    "predictions = model.predict(features_test)\n",
    "print('Значение метрики R2 на не зашифрованых данных:',r2_score(target_test, predictions))"
   ]
  },
  {
   "cell_type": "markdown",
   "metadata": {},
   "source": [
    "**Проверка качества модели на зашифрованных данных**"
   ]
  },
  {
   "cell_type": "code",
   "execution_count": 17,
   "metadata": {},
   "outputs": [
    {
     "data": {
      "text/plain": [
       "array([[7, 7, 5, 2],\n",
       "       [3, 1, 2, 7],\n",
       "       [1, 8, 2, 8],\n",
       "       [2, 5, 2, 4]])"
      ]
     },
     "execution_count": 17,
     "metadata": {},
     "output_type": "execute_result"
    }
   ],
   "source": [
    "# случайная матрица\n",
    "random.seed(11)\n",
    "random_matrix = np.random.randint(1, 10, size=(4, 4))\n",
    "random_matrix"
   ]
  },
  {
   "cell_type": "code",
   "execution_count": 18,
   "metadata": {},
   "outputs": [
    {
     "data": {
      "text/plain": [
       "array([[ 7.14285714e+00,  5.71428571e-01,  1.38571429e+01,\n",
       "        -3.22857143e+01],\n",
       "       [ 2.00000000e+00, -1.58603289e-16,  4.00000000e+00,\n",
       "        -9.00000000e+00],\n",
       "       [-1.27142857e+01, -8.57142857e-01, -2.52857143e+01,\n",
       "         5.84285714e+01],\n",
       "       [ 2.85714286e-01,  1.42857143e-01,  7.14285714e-01,\n",
       "        -1.57142857e+00]])"
      ]
     },
     "execution_count": 18,
     "metadata": {},
     "output_type": "execute_result"
    }
   ],
   "source": [
    "# проверка на обратимость\n",
    "inverse_random_matrix = np.linalg.inv(random_matrix)\n",
    "inverse_random_matrix"
   ]
  },
  {
   "cell_type": "raw",
   "metadata": {},
   "source": [
    "# новый DataFraim\n",
    "new_feature = pd.DataFrame(features@random_matrix)\n",
    "new_feature.columns = features.columns\n",
    "new_feature.head()"
   ]
  },
  {
   "cell_type": "code",
   "execution_count": 19,
   "metadata": {},
   "outputs": [],
   "source": [
    "# признаки для обучения и теста на зашифрованных данных\n",
    "features_train = features_train@random_matrix\n",
    "features_test = features_test@random_matrix"
   ]
  },
  {
   "cell_type": "code",
   "execution_count": 20,
   "metadata": {},
   "outputs": [
    {
     "name": "stdout",
     "output_type": "stream",
     "text": [
      "Значение метрики R2 на зашифрованых данных: 0.435227571271228\n"
     ]
    }
   ],
   "source": [
    "model = LinearRegression()\n",
    "model.fit(features_train, target_train)\n",
    "predictions = model.predict(features_test)\n",
    "print('Значение метрики R2 на зашифрованых данных:', r2_score(target_test, predictions))"
   ]
  },
  {
   "cell_type": "markdown",
   "metadata": {},
   "source": [
    "**Выводы, информация п.4.**\n",
    "- для изменения персональных данных применено умножение на случайную квадратную матрицу, \n",
    "  которая д.б.обратимой;\n",
    "- сделан расчет метрики R2 для не зашифрованых и для зашифрованных данных;\n",
    "- метрика R2 не изменилась;"
   ]
  },
  {
   "cell_type": "markdown",
   "metadata": {},
   "source": [
    "### 5. Проверка, что защифрованые данные через умножение на случайную матрицу можно восставоить"
   ]
  },
  {
   "cell_type": "code",
   "execution_count": 21,
   "metadata": {},
   "outputs": [],
   "source": [
    "# шифруем данные - домнажаем признаки на случайную квадратную матрицу\n",
    "Xp = features @ random_matrix\n",
    "\n",
    "# расшифровываем данные - переводим обратно через домнажение на обратную матрицу\n",
    "X = abs(round(Xp @ inverse_random_matrix))"
   ]
  },
  {
   "cell_type": "code",
   "execution_count": 22,
   "metadata": {},
   "outputs": [
    {
     "data": {
      "text/html": [
       "<div>\n",
       "<style scoped>\n",
       "    .dataframe tbody tr th:only-of-type {\n",
       "        vertical-align: middle;\n",
       "    }\n",
       "\n",
       "    .dataframe tbody tr th {\n",
       "        vertical-align: top;\n",
       "    }\n",
       "\n",
       "    .dataframe thead th {\n",
       "        text-align: right;\n",
       "    }\n",
       "</style>\n",
       "<table border=\"1\" class=\"dataframe\">\n",
       "  <thead>\n",
       "    <tr style=\"text-align: right;\">\n",
       "      <th></th>\n",
       "      <th>Пол</th>\n",
       "      <th>Возраст</th>\n",
       "      <th>Зарплата</th>\n",
       "      <th>Члены семьи</th>\n",
       "    </tr>\n",
       "  </thead>\n",
       "  <tbody>\n",
       "    <tr>\n",
       "      <th>0</th>\n",
       "      <td>1</td>\n",
       "      <td>41</td>\n",
       "      <td>49600.0</td>\n",
       "      <td>1</td>\n",
       "    </tr>\n",
       "    <tr>\n",
       "      <th>1</th>\n",
       "      <td>0</td>\n",
       "      <td>46</td>\n",
       "      <td>38000.0</td>\n",
       "      <td>1</td>\n",
       "    </tr>\n",
       "    <tr>\n",
       "      <th>2</th>\n",
       "      <td>0</td>\n",
       "      <td>29</td>\n",
       "      <td>21000.0</td>\n",
       "      <td>0</td>\n",
       "    </tr>\n",
       "    <tr>\n",
       "      <th>3</th>\n",
       "      <td>0</td>\n",
       "      <td>21</td>\n",
       "      <td>41700.0</td>\n",
       "      <td>2</td>\n",
       "    </tr>\n",
       "    <tr>\n",
       "      <th>4</th>\n",
       "      <td>1</td>\n",
       "      <td>28</td>\n",
       "      <td>26100.0</td>\n",
       "      <td>0</td>\n",
       "    </tr>\n",
       "  </tbody>\n",
       "</table>\n",
       "</div>"
      ],
      "text/plain": [
       "   Пол  Возраст  Зарплата  Члены семьи\n",
       "0    1       41   49600.0            1\n",
       "1    0       46   38000.0            1\n",
       "2    0       29   21000.0            0\n",
       "3    0       21   41700.0            2\n",
       "4    1       28   26100.0            0"
      ]
     },
     "execution_count": 22,
     "metadata": {},
     "output_type": "execute_result"
    }
   ],
   "source": [
    "# новый df с расшифрованными данными - первые пять строк\n",
    "new_df = pd.DataFrame(X)\n",
    "new_df.columns=features.columns\n",
    "new_df[['Пол', 'Возраст','Члены семьи']] = new_df[['Пол', 'Возраст','Члены семьи']].astype('int64')\n",
    "new_df.head()"
   ]
  },
  {
   "cell_type": "code",
   "execution_count": 23,
   "metadata": {},
   "outputs": [
    {
     "data": {
      "text/html": [
       "<div>\n",
       "<style scoped>\n",
       "    .dataframe tbody tr th:only-of-type {\n",
       "        vertical-align: middle;\n",
       "    }\n",
       "\n",
       "    .dataframe tbody tr th {\n",
       "        vertical-align: top;\n",
       "    }\n",
       "\n",
       "    .dataframe thead th {\n",
       "        text-align: right;\n",
       "    }\n",
       "</style>\n",
       "<table border=\"1\" class=\"dataframe\">\n",
       "  <thead>\n",
       "    <tr style=\"text-align: right;\">\n",
       "      <th></th>\n",
       "      <th>Пол</th>\n",
       "      <th>Возраст</th>\n",
       "      <th>Зарплата</th>\n",
       "      <th>Члены семьи</th>\n",
       "    </tr>\n",
       "  </thead>\n",
       "  <tbody>\n",
       "    <tr>\n",
       "      <th>0</th>\n",
       "      <td>1</td>\n",
       "      <td>41.0</td>\n",
       "      <td>49600.0</td>\n",
       "      <td>1</td>\n",
       "    </tr>\n",
       "    <tr>\n",
       "      <th>1</th>\n",
       "      <td>0</td>\n",
       "      <td>46.0</td>\n",
       "      <td>38000.0</td>\n",
       "      <td>1</td>\n",
       "    </tr>\n",
       "    <tr>\n",
       "      <th>2</th>\n",
       "      <td>0</td>\n",
       "      <td>29.0</td>\n",
       "      <td>21000.0</td>\n",
       "      <td>0</td>\n",
       "    </tr>\n",
       "    <tr>\n",
       "      <th>3</th>\n",
       "      <td>0</td>\n",
       "      <td>21.0</td>\n",
       "      <td>41700.0</td>\n",
       "      <td>2</td>\n",
       "    </tr>\n",
       "    <tr>\n",
       "      <th>4</th>\n",
       "      <td>1</td>\n",
       "      <td>28.0</td>\n",
       "      <td>26100.0</td>\n",
       "      <td>0</td>\n",
       "    </tr>\n",
       "  </tbody>\n",
       "</table>\n",
       "</div>"
      ],
      "text/plain": [
       "   Пол  Возраст  Зарплата  Члены семьи\n",
       "0    1     41.0   49600.0            1\n",
       "1    0     46.0   38000.0            1\n",
       "2    0     29.0   21000.0            0\n",
       "3    0     21.0   41700.0            2\n",
       "4    1     28.0   26100.0            0"
      ]
     },
     "execution_count": 23,
     "metadata": {},
     "output_type": "execute_result"
    }
   ],
   "source": [
    "# исходный df - первые пять строк\n",
    "features.head()"
   ]
  }
 ],
 "metadata": {
  "ExecuteTimeLog": [
   {
    "duration": 1592,
    "start_time": "2023-06-10T11:17:42.766Z"
   },
   {
    "duration": 121,
    "start_time": "2023-06-10T11:17:44.361Z"
   },
   {
    "duration": 32,
    "start_time": "2023-06-10T11:19:31.055Z"
   },
   {
    "duration": 14,
    "start_time": "2023-06-10T11:19:31.586Z"
   },
   {
    "duration": 12,
    "start_time": "2023-06-10T11:19:42.602Z"
   },
   {
    "duration": 167,
    "start_time": "2023-06-10T11:20:45.814Z"
   },
   {
    "duration": 9,
    "start_time": "2023-06-10T11:20:55.090Z"
   },
   {
    "duration": 11,
    "start_time": "2023-06-10T11:21:14.795Z"
   },
   {
    "duration": 90,
    "start_time": "2023-06-10T11:21:19.482Z"
   },
   {
    "duration": 7,
    "start_time": "2023-06-10T11:21:29.107Z"
   },
   {
    "duration": 10,
    "start_time": "2023-06-10T11:21:58.690Z"
   },
   {
    "duration": 35,
    "start_time": "2023-06-10T11:24:48.347Z"
   },
   {
    "duration": 6,
    "start_time": "2023-06-10T11:46:39.281Z"
   },
   {
    "duration": 6,
    "start_time": "2023-06-10T11:47:12.374Z"
   },
   {
    "duration": 343,
    "start_time": "2023-06-10T11:49:25.740Z"
   },
   {
    "duration": 4,
    "start_time": "2023-06-10T11:51:54.598Z"
   },
   {
    "duration": 5,
    "start_time": "2023-06-10T11:52:26.543Z"
   },
   {
    "duration": 4,
    "start_time": "2023-06-10T11:53:28.447Z"
   },
   {
    "duration": 5,
    "start_time": "2023-06-10T11:55:52.860Z"
   },
   {
    "duration": 5,
    "start_time": "2023-06-10T11:55:54.087Z"
   },
   {
    "duration": 23,
    "start_time": "2023-06-10T12:01:06.065Z"
   },
   {
    "duration": 58,
    "start_time": "2023-06-10T12:05:06.975Z"
   },
   {
    "duration": 18,
    "start_time": "2023-06-10T12:05:37.675Z"
   },
   {
    "duration": 10,
    "start_time": "2023-06-10T12:05:59.236Z"
   },
   {
    "duration": 747,
    "start_time": "2023-06-10T12:06:31.052Z"
   },
   {
    "duration": 6,
    "start_time": "2023-06-10T12:06:42.833Z"
   },
   {
    "duration": 21,
    "start_time": "2023-06-10T12:08:50.314Z"
   },
   {
    "duration": 9,
    "start_time": "2023-06-10T12:11:27.719Z"
   },
   {
    "duration": 106,
    "start_time": "2023-06-10T12:11:35.346Z"
   },
   {
    "duration": 86,
    "start_time": "2023-06-10T12:12:44.442Z"
   },
   {
    "duration": 17,
    "start_time": "2023-06-10T12:34:55.747Z"
   },
   {
    "duration": 21,
    "start_time": "2023-06-10T12:35:09.740Z"
   },
   {
    "duration": 14,
    "start_time": "2023-06-10T12:36:43.097Z"
   },
   {
    "duration": 19,
    "start_time": "2023-06-10T12:36:48.979Z"
   },
   {
    "duration": 0,
    "start_time": "2023-06-10T12:42:14.628Z"
   },
   {
    "duration": 0,
    "start_time": "2023-06-10T12:42:14.630Z"
   },
   {
    "duration": 133,
    "start_time": "2023-06-10T12:50:43.607Z"
   },
   {
    "duration": 48,
    "start_time": "2023-06-10T17:42:26.980Z"
   },
   {
    "duration": 1653,
    "start_time": "2023-06-10T17:42:34.647Z"
   },
   {
    "duration": 160,
    "start_time": "2023-06-10T17:42:36.302Z"
   },
   {
    "duration": 15,
    "start_time": "2023-06-10T17:42:36.464Z"
   },
   {
    "duration": 20,
    "start_time": "2023-06-10T17:42:36.481Z"
   },
   {
    "duration": 27,
    "start_time": "2023-06-10T17:42:36.503Z"
   },
   {
    "duration": 7,
    "start_time": "2023-06-10T17:42:36.532Z"
   },
   {
    "duration": 6,
    "start_time": "2023-06-10T17:42:36.684Z"
   },
   {
    "duration": 5,
    "start_time": "2023-06-10T17:42:37.622Z"
   },
   {
    "duration": 85,
    "start_time": "2023-06-10T17:43:18.703Z"
   },
   {
    "duration": 4,
    "start_time": "2023-06-10T17:43:32.782Z"
   },
   {
    "duration": 18,
    "start_time": "2023-06-10T17:43:34.982Z"
   },
   {
    "duration": 30,
    "start_time": "2023-06-10T17:43:35.535Z"
   },
   {
    "duration": 1426,
    "start_time": "2023-06-10T17:46:24.543Z"
   },
   {
    "duration": 47,
    "start_time": "2023-06-10T17:46:25.972Z"
   },
   {
    "duration": 9,
    "start_time": "2023-06-10T17:46:26.021Z"
   },
   {
    "duration": 34,
    "start_time": "2023-06-10T17:46:26.032Z"
   },
   {
    "duration": 24,
    "start_time": "2023-06-10T17:46:26.075Z"
   },
   {
    "duration": 9,
    "start_time": "2023-06-10T17:46:26.101Z"
   },
   {
    "duration": 18,
    "start_time": "2023-06-10T17:46:26.112Z"
   },
   {
    "duration": 13,
    "start_time": "2023-06-10T17:46:26.132Z"
   },
   {
    "duration": 33,
    "start_time": "2023-06-10T17:46:26.146Z"
   },
   {
    "duration": 91,
    "start_time": "2023-06-10T17:46:26.182Z"
   },
   {
    "duration": 207,
    "start_time": "2023-06-10T17:46:26.275Z"
   },
   {
    "duration": 0,
    "start_time": "2023-06-10T17:46:26.484Z"
   },
   {
    "duration": 0,
    "start_time": "2023-06-10T17:46:26.485Z"
   },
   {
    "duration": 36,
    "start_time": "2023-06-10T17:46:41.719Z"
   },
   {
    "duration": 3,
    "start_time": "2023-06-10T18:16:26.341Z"
   },
   {
    "duration": 876,
    "start_time": "2023-06-10T18:16:59.388Z"
   },
   {
    "duration": 5,
    "start_time": "2023-06-10T18:17:51.525Z"
   },
   {
    "duration": 123,
    "start_time": "2023-06-10T18:20:33.949Z"
   },
   {
    "duration": 5,
    "start_time": "2023-06-10T18:20:40.950Z"
   },
   {
    "duration": 57,
    "start_time": "2023-06-10T18:20:41.843Z"
   },
   {
    "duration": 16,
    "start_time": "2023-06-10T18:20:46.797Z"
   },
   {
    "duration": 19,
    "start_time": "2023-06-10T18:21:26.783Z"
   },
   {
    "duration": 10,
    "start_time": "2023-06-10T18:23:15.485Z"
   },
   {
    "duration": 34,
    "start_time": "2023-06-10T18:24:35.746Z"
   },
   {
    "duration": 9,
    "start_time": "2023-06-10T18:24:55.326Z"
   },
   {
    "duration": 5,
    "start_time": "2023-06-10T18:25:03.802Z"
   },
   {
    "duration": 7,
    "start_time": "2023-06-10T18:25:04.848Z"
   },
   {
    "duration": 17,
    "start_time": "2023-06-10T18:25:05.178Z"
   },
   {
    "duration": 142,
    "start_time": "2023-06-10T18:25:05.816Z"
   },
   {
    "duration": 6,
    "start_time": "2023-06-10T18:25:42.399Z"
   },
   {
    "duration": 24,
    "start_time": "2023-06-10T18:25:42.988Z"
   },
   {
    "duration": 6,
    "start_time": "2023-06-10T18:26:02.979Z"
   },
   {
    "duration": 38,
    "start_time": "2023-06-10T18:26:03.983Z"
   },
   {
    "duration": 13,
    "start_time": "2023-06-10T18:26:04.107Z"
   },
   {
    "duration": 21,
    "start_time": "2023-06-10T18:26:04.302Z"
   },
   {
    "duration": 45,
    "start_time": "2023-06-10T18:26:04.472Z"
   },
   {
    "duration": 7,
    "start_time": "2023-06-10T18:26:04.642Z"
   },
   {
    "duration": 7,
    "start_time": "2023-06-10T18:26:04.807Z"
   },
   {
    "duration": 10,
    "start_time": "2023-06-10T18:26:04.979Z"
   },
   {
    "duration": 2,
    "start_time": "2023-06-10T18:26:06.806Z"
   },
   {
    "duration": 6,
    "start_time": "2023-06-10T18:26:10.379Z"
   },
   {
    "duration": 7,
    "start_time": "2023-06-10T18:26:12.596Z"
   },
   {
    "duration": 13,
    "start_time": "2023-06-10T18:26:13.198Z"
   },
   {
    "duration": 66,
    "start_time": "2023-06-10T18:26:38.622Z"
   },
   {
    "duration": 133,
    "start_time": "2023-06-10T18:26:40.191Z"
   },
   {
    "duration": 158,
    "start_time": "2023-06-10T18:26:53.991Z"
   },
   {
    "duration": 11,
    "start_time": "2023-06-10T18:30:12.615Z"
   },
   {
    "duration": 53,
    "start_time": "2023-06-10T18:30:23.809Z"
   },
   {
    "duration": 15,
    "start_time": "2023-06-10T18:30:25.589Z"
   },
   {
    "duration": 14,
    "start_time": "2023-06-10T18:30:37.999Z"
   },
   {
    "duration": 17,
    "start_time": "2023-06-10T18:31:33.643Z"
   },
   {
    "duration": 4,
    "start_time": "2023-06-10T18:31:39.328Z"
   },
   {
    "duration": 42,
    "start_time": "2023-06-10T18:31:40.279Z"
   },
   {
    "duration": 11,
    "start_time": "2023-06-10T18:32:35.614Z"
   },
   {
    "duration": 34,
    "start_time": "2023-06-10T18:34:34.528Z"
   },
   {
    "duration": 3,
    "start_time": "2023-06-10T18:40:20.305Z"
   },
   {
    "duration": 14,
    "start_time": "2023-06-10T18:42:03.319Z"
   },
   {
    "duration": 11,
    "start_time": "2023-06-10T18:42:33.519Z"
   },
   {
    "duration": 25,
    "start_time": "2023-06-10T18:43:49.074Z"
   },
   {
    "duration": 28,
    "start_time": "2023-06-10T18:44:03.171Z"
   },
   {
    "duration": 19,
    "start_time": "2023-06-10T18:44:05.874Z"
   },
   {
    "duration": 12,
    "start_time": "2023-06-10T18:44:06.779Z"
   },
   {
    "duration": 11,
    "start_time": "2023-06-10T18:44:07.803Z"
   },
   {
    "duration": 10,
    "start_time": "2023-06-10T18:49:52.200Z"
   },
   {
    "duration": 20,
    "start_time": "2023-06-10T18:50:25.888Z"
   },
   {
    "duration": 8,
    "start_time": "2023-06-10T18:51:31.138Z"
   },
   {
    "duration": 10,
    "start_time": "2023-06-10T18:51:44.226Z"
   },
   {
    "duration": 1583,
    "start_time": "2023-06-10T18:51:57.283Z"
   },
   {
    "duration": 55,
    "start_time": "2023-06-10T18:51:58.868Z"
   },
   {
    "duration": 9,
    "start_time": "2023-06-10T18:51:58.925Z"
   },
   {
    "duration": 25,
    "start_time": "2023-06-10T18:51:58.935Z"
   },
   {
    "duration": 28,
    "start_time": "2023-06-10T18:51:58.968Z"
   },
   {
    "duration": 7,
    "start_time": "2023-06-10T18:51:58.997Z"
   },
   {
    "duration": 18,
    "start_time": "2023-06-10T18:51:59.005Z"
   },
   {
    "duration": 5,
    "start_time": "2023-06-10T18:51:59.025Z"
   },
   {
    "duration": 47,
    "start_time": "2023-06-10T18:51:59.032Z"
   },
   {
    "duration": 17,
    "start_time": "2023-06-10T18:51:59.080Z"
   },
   {
    "duration": 112,
    "start_time": "2023-06-10T18:51:59.165Z"
   },
   {
    "duration": 102,
    "start_time": "2023-06-10T20:01:13.281Z"
   },
   {
    "duration": 9,
    "start_time": "2023-06-10T20:05:24.482Z"
   },
   {
    "duration": 1778,
    "start_time": "2023-06-10T23:01:42.355Z"
   },
   {
    "duration": 53,
    "start_time": "2023-06-10T23:01:44.139Z"
   },
   {
    "duration": 12,
    "start_time": "2023-06-10T23:01:44.195Z"
   },
   {
    "duration": 27,
    "start_time": "2023-06-10T23:01:44.209Z"
   },
   {
    "duration": 29,
    "start_time": "2023-06-10T23:01:44.240Z"
   },
   {
    "duration": 7,
    "start_time": "2023-06-10T23:01:44.271Z"
   },
   {
    "duration": 7,
    "start_time": "2023-06-10T23:01:44.280Z"
   },
   {
    "duration": 19,
    "start_time": "2023-06-10T23:01:44.289Z"
   },
   {
    "duration": 31,
    "start_time": "2023-06-10T23:01:44.310Z"
   },
   {
    "duration": 85,
    "start_time": "2023-06-10T23:01:44.342Z"
   },
   {
    "duration": 105,
    "start_time": "2023-06-10T23:01:44.430Z"
   },
   {
    "duration": 1562,
    "start_time": "2023-06-11T08:31:32.988Z"
   },
   {
    "duration": 87,
    "start_time": "2023-06-11T08:31:34.552Z"
   },
   {
    "duration": 9,
    "start_time": "2023-06-11T08:31:34.642Z"
   },
   {
    "duration": 22,
    "start_time": "2023-06-11T08:31:34.654Z"
   },
   {
    "duration": 28,
    "start_time": "2023-06-11T08:31:34.678Z"
   },
   {
    "duration": 7,
    "start_time": "2023-06-11T08:31:34.708Z"
   },
   {
    "duration": 6,
    "start_time": "2023-06-11T08:31:34.896Z"
   },
   {
    "duration": 4,
    "start_time": "2023-06-11T08:31:35.417Z"
   },
   {
    "duration": 113,
    "start_time": "2023-06-11T08:31:38.687Z"
   },
   {
    "duration": 4,
    "start_time": "2023-06-11T08:31:47.579Z"
   },
   {
    "duration": 4,
    "start_time": "2023-06-11T08:32:09.968Z"
   },
   {
    "duration": 5,
    "start_time": "2023-06-11T08:33:58.465Z"
   },
   {
    "duration": 3,
    "start_time": "2023-06-11T08:34:04.783Z"
   },
   {
    "duration": 3,
    "start_time": "2023-06-11T08:34:10.864Z"
   },
   {
    "duration": 4,
    "start_time": "2023-06-11T08:34:15.648Z"
   },
   {
    "duration": 10,
    "start_time": "2023-06-11T08:35:30.327Z"
   },
   {
    "duration": 68,
    "start_time": "2023-06-11T08:35:36.440Z"
   },
   {
    "duration": 5,
    "start_time": "2023-06-11T08:38:25.287Z"
   },
   {
    "duration": 5,
    "start_time": "2023-06-11T08:38:54.904Z"
   },
   {
    "duration": 85,
    "start_time": "2023-06-11T14:49:01.729Z"
   },
   {
    "duration": 12,
    "start_time": "2023-06-11T14:53:46.193Z"
   },
   {
    "duration": 5,
    "start_time": "2023-06-11T14:53:52.457Z"
   },
   {
    "duration": 5,
    "start_time": "2023-06-11T14:54:16.295Z"
   },
   {
    "duration": 5,
    "start_time": "2023-06-11T14:56:18.719Z"
   },
   {
    "duration": 6,
    "start_time": "2023-06-11T14:56:48.358Z"
   },
   {
    "duration": 6,
    "start_time": "2023-06-11T14:57:02.258Z"
   },
   {
    "duration": 7,
    "start_time": "2023-06-11T14:57:45.586Z"
   },
   {
    "duration": 17,
    "start_time": "2023-06-11T14:59:28.216Z"
   },
   {
    "duration": 5,
    "start_time": "2023-06-11T14:59:51.400Z"
   },
   {
    "duration": 6,
    "start_time": "2023-06-11T15:07:17.085Z"
   },
   {
    "duration": 8,
    "start_time": "2023-06-11T15:07:42.942Z"
   },
   {
    "duration": 4,
    "start_time": "2023-06-11T15:08:50.520Z"
   },
   {
    "duration": 633,
    "start_time": "2023-06-11T15:08:57.424Z"
   },
   {
    "duration": 9,
    "start_time": "2023-06-11T15:10:35.821Z"
   },
   {
    "duration": 13,
    "start_time": "2023-06-11T15:10:56.442Z"
   },
   {
    "duration": 811,
    "start_time": "2023-06-11T15:11:17.805Z"
   },
   {
    "duration": 20,
    "start_time": "2023-06-11T15:13:26.438Z"
   },
   {
    "duration": 11,
    "start_time": "2023-06-11T15:13:28.479Z"
   },
   {
    "duration": 1013,
    "start_time": "2023-06-11T15:16:13.818Z"
   },
   {
    "duration": 9,
    "start_time": "2023-06-11T15:17:01.305Z"
   },
   {
    "duration": 9,
    "start_time": "2023-06-11T15:19:06.886Z"
   },
   {
    "duration": 11,
    "start_time": "2023-06-11T15:23:41.307Z"
   },
   {
    "duration": 641,
    "start_time": "2023-06-11T15:23:48.430Z"
   },
   {
    "duration": 8,
    "start_time": "2023-06-11T15:24:01.083Z"
   },
   {
    "duration": 8,
    "start_time": "2023-06-11T15:25:34.653Z"
   },
   {
    "duration": 10,
    "start_time": "2023-06-11T15:25:48.258Z"
   },
   {
    "duration": 1320,
    "start_time": "2023-06-11T15:25:58.986Z"
   },
   {
    "duration": 9,
    "start_time": "2023-06-11T15:26:42.086Z"
   },
   {
    "duration": 8,
    "start_time": "2023-06-11T15:27:32.424Z"
   },
   {
    "duration": 8,
    "start_time": "2023-06-11T16:22:09.445Z"
   },
   {
    "duration": 11,
    "start_time": "2023-06-11T18:18:56.346Z"
   },
   {
    "duration": 255,
    "start_time": "2023-06-11T18:19:33.452Z"
   },
   {
    "duration": 209,
    "start_time": "2023-06-11T18:19:41.289Z"
   },
   {
    "duration": 33,
    "start_time": "2023-06-11T18:20:38.884Z"
   },
   {
    "duration": 199,
    "start_time": "2023-06-11T18:20:53.238Z"
   },
   {
    "duration": 145,
    "start_time": "2023-06-11T18:21:25.884Z"
   },
   {
    "duration": 32,
    "start_time": "2023-06-11T18:21:42.533Z"
   },
   {
    "duration": 15,
    "start_time": "2023-06-11T18:22:04.304Z"
   },
   {
    "duration": 18,
    "start_time": "2023-06-11T18:22:34.033Z"
   },
   {
    "duration": 13,
    "start_time": "2023-06-11T18:22:52.600Z"
   },
   {
    "duration": 17,
    "start_time": "2023-06-11T18:22:57.877Z"
   },
   {
    "duration": 18,
    "start_time": "2023-06-11T18:23:01.861Z"
   },
   {
    "duration": 25,
    "start_time": "2023-06-11T18:23:08.496Z"
   },
   {
    "duration": 5,
    "start_time": "2023-06-11T18:23:24.927Z"
   },
   {
    "duration": 10,
    "start_time": "2023-06-11T18:41:08.565Z"
   },
   {
    "duration": 18,
    "start_time": "2023-06-11T18:41:09.706Z"
   },
   {
    "duration": 181,
    "start_time": "2023-06-11T18:42:25.638Z"
   },
   {
    "duration": 65,
    "start_time": "2023-06-11T18:42:33.419Z"
   },
   {
    "duration": 123,
    "start_time": "2023-06-11T18:43:09.305Z"
   },
   {
    "duration": 260,
    "start_time": "2023-06-11T18:45:01.570Z"
   },
   {
    "duration": 1296,
    "start_time": "2023-06-12T17:28:27.827Z"
   },
   {
    "duration": 124,
    "start_time": "2023-06-12T17:28:29.125Z"
   },
   {
    "duration": 20,
    "start_time": "2023-06-12T17:28:29.251Z"
   },
   {
    "duration": 15,
    "start_time": "2023-06-12T17:28:29.279Z"
   },
   {
    "duration": 21,
    "start_time": "2023-06-12T17:28:29.296Z"
   },
   {
    "duration": 6,
    "start_time": "2023-06-12T17:28:29.319Z"
   },
   {
    "duration": 7,
    "start_time": "2023-06-12T17:28:29.326Z"
   },
   {
    "duration": 4,
    "start_time": "2023-06-12T17:28:29.334Z"
   },
   {
    "duration": 18,
    "start_time": "2023-06-12T17:28:29.363Z"
   },
   {
    "duration": 14,
    "start_time": "2023-06-12T17:28:29.384Z"
   },
   {
    "duration": 11,
    "start_time": "2023-06-12T17:28:29.400Z"
   },
   {
    "duration": 60,
    "start_time": "2023-06-12T17:28:29.413Z"
   },
   {
    "duration": 284,
    "start_time": "2023-06-12T17:28:29.475Z"
   },
   {
    "duration": 0,
    "start_time": "2023-06-12T17:28:29.763Z"
   },
   {
    "duration": 0,
    "start_time": "2023-06-12T17:28:29.766Z"
   },
   {
    "duration": 0,
    "start_time": "2023-06-12T17:28:29.766Z"
   },
   {
    "duration": 0,
    "start_time": "2023-06-12T17:28:29.768Z"
   },
   {
    "duration": 0,
    "start_time": "2023-06-12T17:28:29.769Z"
   },
   {
    "duration": 1285,
    "start_time": "2023-06-12T17:31:32.804Z"
   },
   {
    "duration": 38,
    "start_time": "2023-06-12T17:31:34.091Z"
   },
   {
    "duration": 8,
    "start_time": "2023-06-12T17:31:34.131Z"
   },
   {
    "duration": 12,
    "start_time": "2023-06-12T17:31:34.140Z"
   },
   {
    "duration": 33,
    "start_time": "2023-06-12T17:31:34.154Z"
   },
   {
    "duration": 6,
    "start_time": "2023-06-12T17:31:34.188Z"
   },
   {
    "duration": 6,
    "start_time": "2023-06-12T17:31:34.195Z"
   },
   {
    "duration": 3,
    "start_time": "2023-06-12T17:31:34.202Z"
   },
   {
    "duration": 5,
    "start_time": "2023-06-12T17:31:34.207Z"
   },
   {
    "duration": 10,
    "start_time": "2023-06-12T17:31:34.213Z"
   },
   {
    "duration": 62,
    "start_time": "2023-06-12T17:31:34.224Z"
   },
   {
    "duration": 83,
    "start_time": "2023-06-12T17:31:34.288Z"
   },
   {
    "duration": 271,
    "start_time": "2023-06-12T17:31:34.372Z"
   },
   {
    "duration": 0,
    "start_time": "2023-06-12T17:31:34.645Z"
   },
   {
    "duration": 0,
    "start_time": "2023-06-12T17:31:34.646Z"
   },
   {
    "duration": 0,
    "start_time": "2023-06-12T17:31:34.647Z"
   },
   {
    "duration": 0,
    "start_time": "2023-06-12T17:31:34.648Z"
   },
   {
    "duration": 0,
    "start_time": "2023-06-12T17:31:34.649Z"
   },
   {
    "duration": 1527,
    "start_time": "2023-06-13T08:30:58.579Z"
   },
   {
    "duration": 107,
    "start_time": "2023-06-13T08:31:00.109Z"
   },
   {
    "duration": 7,
    "start_time": "2023-06-13T08:31:00.218Z"
   },
   {
    "duration": 52,
    "start_time": "2023-06-13T08:31:00.226Z"
   },
   {
    "duration": 29,
    "start_time": "2023-06-13T08:31:00.280Z"
   },
   {
    "duration": 23,
    "start_time": "2023-06-13T08:31:00.311Z"
   },
   {
    "duration": 70,
    "start_time": "2023-06-13T08:31:00.335Z"
   },
   {
    "duration": 19,
    "start_time": "2023-06-13T08:31:00.406Z"
   },
   {
    "duration": 106,
    "start_time": "2023-06-13T08:31:00.427Z"
   },
   {
    "duration": 52,
    "start_time": "2023-06-13T08:31:00.535Z"
   },
   {
    "duration": 83,
    "start_time": "2023-06-13T08:31:00.588Z"
   },
   {
    "duration": 115,
    "start_time": "2023-06-13T08:31:00.673Z"
   },
   {
    "duration": 183,
    "start_time": "2023-06-13T08:31:00.793Z"
   },
   {
    "duration": 110,
    "start_time": "2023-06-13T08:31:00.978Z"
   },
   {
    "duration": 10,
    "start_time": "2023-06-13T08:31:01.172Z"
   },
   {
    "duration": 210,
    "start_time": "2023-06-13T08:31:01.183Z"
   },
   {
    "duration": 60,
    "start_time": "2023-06-13T09:29:18.148Z"
   },
   {
    "duration": 3,
    "start_time": "2023-06-13T09:34:08.933Z"
   },
   {
    "duration": 2,
    "start_time": "2023-06-13T09:39:11.815Z"
   },
   {
    "duration": 5,
    "start_time": "2023-06-13T09:41:47.781Z"
   },
   {
    "duration": 5,
    "start_time": "2023-06-13T09:41:48.647Z"
   },
   {
    "duration": 5,
    "start_time": "2023-06-13T09:42:50.542Z"
   },
   {
    "duration": 97,
    "start_time": "2023-06-13T09:44:49.518Z"
   },
   {
    "duration": 5,
    "start_time": "2023-06-13T09:44:59.919Z"
   },
   {
    "duration": 10,
    "start_time": "2023-06-13T09:45:00.515Z"
   },
   {
    "duration": 9,
    "start_time": "2023-06-13T09:45:27.088Z"
   },
   {
    "duration": 10,
    "start_time": "2023-06-13T09:46:16.774Z"
   },
   {
    "duration": 11,
    "start_time": "2023-06-13T09:54:01.648Z"
   },
   {
    "duration": 9,
    "start_time": "2023-06-13T09:55:11.638Z"
   },
   {
    "duration": 1024,
    "start_time": "2023-06-13T09:56:29.892Z"
   },
   {
    "duration": 11,
    "start_time": "2023-06-13T09:56:57.331Z"
   },
   {
    "duration": 14,
    "start_time": "2023-06-13T09:57:17.927Z"
   },
   {
    "duration": 11,
    "start_time": "2023-06-13T09:57:53.215Z"
   },
   {
    "duration": 10,
    "start_time": "2023-06-13T09:58:02.273Z"
   },
   {
    "duration": 10,
    "start_time": "2023-06-13T09:58:12.624Z"
   },
   {
    "duration": 11,
    "start_time": "2023-06-13T09:58:22.935Z"
   },
   {
    "duration": 11,
    "start_time": "2023-06-13T09:58:29.313Z"
   },
   {
    "duration": 12,
    "start_time": "2023-06-13T09:58:45.887Z"
   },
   {
    "duration": 5,
    "start_time": "2023-06-13T10:01:11.514Z"
   },
   {
    "duration": 10,
    "start_time": "2023-06-13T10:01:35.090Z"
   },
   {
    "duration": 75,
    "start_time": "2023-06-13T10:04:03.489Z"
   },
   {
    "duration": 8,
    "start_time": "2023-06-13T10:05:23.755Z"
   },
   {
    "duration": 5,
    "start_time": "2023-06-13T10:07:26.009Z"
   },
   {
    "duration": 1181,
    "start_time": "2023-06-13T10:07:59.498Z"
   },
   {
    "duration": 1488,
    "start_time": "2023-06-13T10:08:49.797Z"
   },
   {
    "duration": 60,
    "start_time": "2023-06-13T10:08:51.287Z"
   },
   {
    "duration": 8,
    "start_time": "2023-06-13T10:08:51.349Z"
   },
   {
    "duration": 83,
    "start_time": "2023-06-13T10:08:51.359Z"
   },
   {
    "duration": 71,
    "start_time": "2023-06-13T10:08:51.444Z"
   },
   {
    "duration": 21,
    "start_time": "2023-06-13T10:08:51.517Z"
   },
   {
    "duration": 64,
    "start_time": "2023-06-13T10:08:51.540Z"
   },
   {
    "duration": 26,
    "start_time": "2023-06-13T10:08:51.606Z"
   },
   {
    "duration": 22,
    "start_time": "2023-06-13T10:08:51.634Z"
   },
   {
    "duration": 32,
    "start_time": "2023-06-13T10:08:51.659Z"
   },
   {
    "duration": 42,
    "start_time": "2023-06-13T10:08:51.693Z"
   },
   {
    "duration": 37,
    "start_time": "2023-06-13T10:08:51.736Z"
   },
   {
    "duration": 202,
    "start_time": "2023-06-13T10:08:51.774Z"
   },
   {
    "duration": 125,
    "start_time": "2023-06-13T10:08:51.977Z"
   },
   {
    "duration": 198,
    "start_time": "2023-06-13T10:08:52.104Z"
   },
   {
    "duration": 22,
    "start_time": "2023-06-13T10:08:52.304Z"
   },
   {
    "duration": 171,
    "start_time": "2023-06-13T10:08:52.327Z"
   },
   {
    "duration": 82,
    "start_time": "2023-06-13T10:08:52.500Z"
   },
   {
    "duration": 115,
    "start_time": "2023-06-13T10:08:52.583Z"
   },
   {
    "duration": 65,
    "start_time": "2023-06-13T10:08:52.700Z"
   },
   {
    "duration": 0,
    "start_time": "2023-06-13T10:08:52.766Z"
   },
   {
    "duration": 0,
    "start_time": "2023-06-13T10:08:52.768Z"
   },
   {
    "duration": 0,
    "start_time": "2023-06-13T10:08:52.769Z"
   },
   {
    "duration": 0,
    "start_time": "2023-06-13T10:08:52.770Z"
   },
   {
    "duration": 0,
    "start_time": "2023-06-13T10:08:52.771Z"
   },
   {
    "duration": 6,
    "start_time": "2023-06-13T10:10:34.977Z"
   },
   {
    "duration": 4,
    "start_time": "2023-06-13T10:10:35.834Z"
   },
   {
    "duration": 11,
    "start_time": "2023-06-13T10:10:36.404Z"
   },
   {
    "duration": 4,
    "start_time": "2023-06-13T10:10:37.016Z"
   },
   {
    "duration": 9,
    "start_time": "2023-06-13T10:10:37.625Z"
   },
   {
    "duration": 1821,
    "start_time": "2023-06-14T08:11:04.522Z"
   },
   {
    "duration": 50,
    "start_time": "2023-06-14T08:11:06.345Z"
   },
   {
    "duration": 11,
    "start_time": "2023-06-14T08:11:06.396Z"
   },
   {
    "duration": 66,
    "start_time": "2023-06-14T08:11:06.410Z"
   },
   {
    "duration": 37,
    "start_time": "2023-06-14T08:11:06.478Z"
   },
   {
    "duration": 7,
    "start_time": "2023-06-14T08:11:06.517Z"
   },
   {
    "duration": 22,
    "start_time": "2023-06-14T08:11:06.525Z"
   },
   {
    "duration": 20,
    "start_time": "2023-06-14T08:11:06.549Z"
   },
   {
    "duration": 19,
    "start_time": "2023-06-14T08:11:06.571Z"
   },
   {
    "duration": 13,
    "start_time": "2023-06-14T08:11:06.593Z"
   },
   {
    "duration": 28,
    "start_time": "2023-06-14T08:11:06.607Z"
   },
   {
    "duration": 30,
    "start_time": "2023-06-14T08:11:06.636Z"
   },
   {
    "duration": 152,
    "start_time": "2023-06-14T08:11:06.667Z"
   },
   {
    "duration": 247,
    "start_time": "2023-06-14T08:11:06.820Z"
   },
   {
    "duration": 56,
    "start_time": "2023-06-14T08:11:07.068Z"
   },
   {
    "duration": 107,
    "start_time": "2023-06-14T08:11:07.130Z"
   },
   {
    "duration": 194,
    "start_time": "2023-06-14T08:11:07.239Z"
   },
   {
    "duration": 187,
    "start_time": "2023-06-14T08:11:07.436Z"
   },
   {
    "duration": 10,
    "start_time": "2023-06-14T08:11:07.624Z"
   },
   {
    "duration": 7,
    "start_time": "2023-06-14T08:11:07.636Z"
   },
   {
    "duration": 34,
    "start_time": "2023-06-14T08:11:07.644Z"
   },
   {
    "duration": 47,
    "start_time": "2023-06-14T08:11:07.681Z"
   },
   {
    "duration": 4,
    "start_time": "2023-06-14T08:11:07.731Z"
   },
   {
    "duration": 9,
    "start_time": "2023-06-14T08:11:07.815Z"
   },
   {
    "duration": 2461,
    "start_time": "2023-06-14T10:51:45.105Z"
   },
   {
    "duration": 201,
    "start_time": "2023-06-14T10:51:47.577Z"
   },
   {
    "duration": 28,
    "start_time": "2023-06-14T10:51:47.787Z"
   },
   {
    "duration": 85,
    "start_time": "2023-06-14T10:51:47.817Z"
   },
   {
    "duration": 223,
    "start_time": "2023-06-14T10:51:47.903Z"
   },
   {
    "duration": 139,
    "start_time": "2023-06-14T10:51:48.131Z"
   },
   {
    "duration": 216,
    "start_time": "2023-06-14T10:51:48.272Z"
   },
   {
    "duration": 88,
    "start_time": "2023-06-14T10:51:48.490Z"
   },
   {
    "duration": 88,
    "start_time": "2023-06-14T10:51:48.580Z"
   },
   {
    "duration": 93,
    "start_time": "2023-06-14T10:51:48.671Z"
   },
   {
    "duration": 36,
    "start_time": "2023-06-14T10:51:48.766Z"
   },
   {
    "duration": 98,
    "start_time": "2023-06-14T10:51:48.804Z"
   },
   {
    "duration": 146,
    "start_time": "2023-06-14T10:51:48.936Z"
   },
   {
    "duration": 169,
    "start_time": "2023-06-14T10:51:49.099Z"
   },
   {
    "duration": 208,
    "start_time": "2023-06-14T10:51:49.269Z"
   },
   {
    "duration": 194,
    "start_time": "2023-06-14T10:51:49.478Z"
   },
   {
    "duration": 150,
    "start_time": "2023-06-14T10:51:49.673Z"
   },
   {
    "duration": 149,
    "start_time": "2023-06-14T10:51:49.825Z"
   },
   {
    "duration": 108,
    "start_time": "2023-06-14T10:51:49.976Z"
   },
   {
    "duration": 352,
    "start_time": "2023-06-14T10:51:50.094Z"
   },
   {
    "duration": 111,
    "start_time": "2023-06-14T10:51:50.461Z"
   },
   {
    "duration": 206,
    "start_time": "2023-06-14T10:51:50.574Z"
   },
   {
    "duration": 171,
    "start_time": "2023-06-14T10:51:50.783Z"
   },
   {
    "duration": 186,
    "start_time": "2023-06-14T10:51:50.956Z"
   },
   {
    "duration": 2248,
    "start_time": "2023-06-14T10:52:38.222Z"
   },
   {
    "duration": 5,
    "start_time": "2023-06-14T11:36:12.216Z"
   },
   {
    "duration": 4,
    "start_time": "2023-06-14T11:36:12.979Z"
   },
   {
    "duration": 4,
    "start_time": "2023-06-14T11:36:15.549Z"
   },
   {
    "duration": 1044,
    "start_time": "2023-06-14T11:37:05.408Z"
   },
   {
    "duration": 479,
    "start_time": "2023-06-14T11:37:23.431Z"
   },
   {
    "duration": 9,
    "start_time": "2023-06-14T11:37:38.181Z"
   },
   {
    "duration": 14,
    "start_time": "2023-06-14T11:37:40.535Z"
   },
   {
    "duration": 5,
    "start_time": "2023-06-14T11:37:43.243Z"
   },
   {
    "duration": 16,
    "start_time": "2023-06-14T11:37:45.380Z"
   },
   {
    "duration": 23,
    "start_time": "2023-06-14T11:39:00.799Z"
   },
   {
    "duration": 9,
    "start_time": "2023-06-14T11:39:12.126Z"
   },
   {
    "duration": 5,
    "start_time": "2023-06-14T11:39:24.745Z"
   },
   {
    "duration": 4,
    "start_time": "2023-06-14T11:39:27.657Z"
   },
   {
    "duration": 5,
    "start_time": "2023-06-14T11:39:30.275Z"
   },
   {
    "duration": 4,
    "start_time": "2023-06-14T11:40:20.231Z"
   },
   {
    "duration": 6,
    "start_time": "2023-06-14T11:40:21.144Z"
   },
   {
    "duration": 4,
    "start_time": "2023-06-14T11:40:22.952Z"
   },
   {
    "duration": 5,
    "start_time": "2023-06-14T11:40:25.274Z"
   },
   {
    "duration": 5,
    "start_time": "2023-06-14T11:40:32.975Z"
   },
   {
    "duration": 12,
    "start_time": "2023-06-14T11:40:35.280Z"
   },
   {
    "duration": 4,
    "start_time": "2023-06-14T11:40:37.336Z"
   },
   {
    "duration": 4,
    "start_time": "2023-06-14T11:40:40.876Z"
   },
   {
    "duration": 6,
    "start_time": "2023-06-14T11:41:18.384Z"
   },
   {
    "duration": 4,
    "start_time": "2023-06-14T11:41:21.352Z"
   },
   {
    "duration": 4,
    "start_time": "2023-06-14T11:41:30.947Z"
   },
   {
    "duration": 6,
    "start_time": "2023-06-14T11:41:39.820Z"
   },
   {
    "duration": 4,
    "start_time": "2023-06-14T11:41:41.960Z"
   },
   {
    "duration": 27,
    "start_time": "2023-06-14T11:42:35.023Z"
   },
   {
    "duration": 12,
    "start_time": "2023-06-14T11:42:36.457Z"
   },
   {
    "duration": 6,
    "start_time": "2023-06-14T11:42:37.200Z"
   },
   {
    "duration": 11,
    "start_time": "2023-06-14T11:42:38.274Z"
   },
   {
    "duration": 5,
    "start_time": "2023-06-14T11:43:59.231Z"
   },
   {
    "duration": 1143,
    "start_time": "2023-06-14T11:45:22.164Z"
   },
   {
    "duration": 6,
    "start_time": "2023-06-14T11:46:11.534Z"
   },
   {
    "duration": 12,
    "start_time": "2023-06-14T11:46:12.178Z"
   },
   {
    "duration": 1287,
    "start_time": "2023-06-14T11:46:14.983Z"
   },
   {
    "duration": 1917,
    "start_time": "2023-06-14T11:48:06.484Z"
   },
   {
    "duration": 5,
    "start_time": "2023-06-14T11:49:36.463Z"
   },
   {
    "duration": 16,
    "start_time": "2023-06-14T11:50:02.259Z"
   },
   {
    "duration": 12,
    "start_time": "2023-06-14T11:50:24.741Z"
   },
   {
    "duration": 8,
    "start_time": "2023-06-14T11:50:56.175Z"
   },
   {
    "duration": 12,
    "start_time": "2023-06-14T11:52:20.413Z"
   },
   {
    "duration": 13,
    "start_time": "2023-06-14T11:52:30.111Z"
   },
   {
    "duration": 12,
    "start_time": "2023-06-14T11:52:48.337Z"
   },
   {
    "duration": 12,
    "start_time": "2023-06-14T11:53:25.403Z"
   },
   {
    "duration": 10,
    "start_time": "2023-06-14T11:53:36.400Z"
   },
   {
    "duration": 2537,
    "start_time": "2023-06-14T11:57:30.140Z"
   },
   {
    "duration": 1635,
    "start_time": "2023-06-14T11:57:53.911Z"
   },
   {
    "duration": 9,
    "start_time": "2023-06-14T11:58:18.356Z"
   },
   {
    "duration": 14,
    "start_time": "2023-06-14T11:58:25.129Z"
   },
   {
    "duration": 243,
    "start_time": "2023-06-14T11:59:41.405Z"
   },
   {
    "duration": 114,
    "start_time": "2023-06-14T12:02:49.953Z"
   },
   {
    "duration": 169,
    "start_time": "2023-06-14T12:04:00.210Z"
   },
   {
    "duration": 3129,
    "start_time": "2023-06-15T07:47:27.939Z"
   },
   {
    "duration": 254,
    "start_time": "2023-06-15T07:47:31.073Z"
   },
   {
    "duration": 12,
    "start_time": "2023-06-15T07:47:31.330Z"
   },
   {
    "duration": 36,
    "start_time": "2023-06-15T07:47:31.345Z"
   },
   {
    "duration": 49,
    "start_time": "2023-06-15T07:47:31.383Z"
   },
   {
    "duration": 11,
    "start_time": "2023-06-15T07:47:31.434Z"
   },
   {
    "duration": 28,
    "start_time": "2023-06-15T07:47:31.447Z"
   },
   {
    "duration": 19,
    "start_time": "2023-06-15T07:47:31.477Z"
   },
   {
    "duration": 36,
    "start_time": "2023-06-15T07:47:31.499Z"
   },
   {
    "duration": 38,
    "start_time": "2023-06-15T07:47:31.539Z"
   },
   {
    "duration": 44,
    "start_time": "2023-06-15T07:47:31.579Z"
   },
   {
    "duration": 80,
    "start_time": "2023-06-15T07:47:31.626Z"
   },
   {
    "duration": 135,
    "start_time": "2023-06-15T07:47:31.715Z"
   },
   {
    "duration": 21,
    "start_time": "2023-06-15T07:47:31.857Z"
   },
   {
    "duration": 113,
    "start_time": "2023-06-15T07:47:31.889Z"
   },
   {
    "duration": 44,
    "start_time": "2023-06-15T07:47:32.027Z"
   },
   {
    "duration": 54,
    "start_time": "2023-06-15T07:47:32.079Z"
   },
   {
    "duration": 29,
    "start_time": "2023-06-15T07:47:32.168Z"
   },
   {
    "duration": 31,
    "start_time": "2023-06-15T07:47:32.222Z"
   },
   {
    "duration": 36,
    "start_time": "2023-06-15T07:47:32.254Z"
   },
   {
    "duration": 29,
    "start_time": "2023-06-15T07:47:32.306Z"
   },
   {
    "duration": 49,
    "start_time": "2023-06-15T07:47:32.338Z"
   },
   {
    "duration": 20,
    "start_time": "2023-06-15T07:47:32.391Z"
   },
   {
    "duration": 80,
    "start_time": "2023-06-15T07:47:32.414Z"
   },
   {
    "duration": 34,
    "start_time": "2023-06-15T07:47:32.500Z"
   },
   {
    "duration": 42,
    "start_time": "2023-06-15T07:47:32.547Z"
   },
   {
    "duration": 22,
    "start_time": "2023-06-15T07:47:32.602Z"
   },
   {
    "duration": 1923,
    "start_time": "2023-06-15T08:30:55.410Z"
   },
   {
    "duration": 122,
    "start_time": "2023-06-15T08:30:57.335Z"
   },
   {
    "duration": 10,
    "start_time": "2023-06-15T08:30:57.458Z"
   },
   {
    "duration": 25,
    "start_time": "2023-06-15T08:30:57.471Z"
   },
   {
    "duration": 29,
    "start_time": "2023-06-15T08:30:57.498Z"
   },
   {
    "duration": 8,
    "start_time": "2023-06-15T08:30:57.529Z"
   },
   {
    "duration": 14,
    "start_time": "2023-06-15T08:30:57.539Z"
   },
   {
    "duration": 7,
    "start_time": "2023-06-15T08:30:57.555Z"
   },
   {
    "duration": 14,
    "start_time": "2023-06-15T08:30:57.564Z"
   },
   {
    "duration": 9,
    "start_time": "2023-06-15T08:30:57.581Z"
   },
   {
    "duration": 37,
    "start_time": "2023-06-15T08:30:57.592Z"
   },
   {
    "duration": 96,
    "start_time": "2023-06-15T08:30:57.633Z"
   },
   {
    "duration": 116,
    "start_time": "2023-06-15T08:30:57.730Z"
   },
   {
    "duration": 185,
    "start_time": "2023-06-15T08:30:57.852Z"
   },
   {
    "duration": 190,
    "start_time": "2023-06-15T08:30:58.039Z"
   },
   {
    "duration": 31,
    "start_time": "2023-06-15T08:30:58.231Z"
   },
   {
    "duration": 189,
    "start_time": "2023-06-15T08:30:58.264Z"
   },
   {
    "duration": 66,
    "start_time": "2023-06-15T08:30:58.456Z"
   },
   {
    "duration": 98,
    "start_time": "2023-06-15T08:30:58.532Z"
   },
   {
    "duration": 14,
    "start_time": "2023-06-15T08:30:58.635Z"
   },
   {
    "duration": 10,
    "start_time": "2023-06-15T08:30:58.651Z"
   },
   {
    "duration": 66,
    "start_time": "2023-06-15T08:30:58.664Z"
   },
   {
    "duration": 93,
    "start_time": "2023-06-15T08:30:58.732Z"
   },
   {
    "duration": 20,
    "start_time": "2023-06-15T08:30:58.829Z"
   },
   {
    "duration": 12,
    "start_time": "2023-06-15T08:30:58.851Z"
   },
   {
    "duration": 16,
    "start_time": "2023-06-15T08:30:58.865Z"
   },
   {
    "duration": 9,
    "start_time": "2023-06-15T08:30:58.883Z"
   },
   {
    "duration": 119,
    "start_time": "2023-06-15T08:31:38.649Z"
   },
   {
    "duration": 3994,
    "start_time": "2023-06-15T08:31:45.212Z"
   },
   {
    "duration": 10,
    "start_time": "2023-06-15T08:35:03.762Z"
   },
   {
    "duration": 371,
    "start_time": "2023-06-15T08:46:12.089Z"
   },
   {
    "duration": 168,
    "start_time": "2023-06-15T08:52:44.545Z"
   },
   {
    "duration": 2076,
    "start_time": "2023-06-16T06:40:48.943Z"
   },
   {
    "duration": 117,
    "start_time": "2023-06-16T06:40:51.022Z"
   },
   {
    "duration": 79,
    "start_time": "2023-06-16T06:40:51.141Z"
   },
   {
    "duration": 85,
    "start_time": "2023-06-16T06:40:51.221Z"
   },
   {
    "duration": 43,
    "start_time": "2023-06-16T06:40:51.309Z"
   },
   {
    "duration": 84,
    "start_time": "2023-06-16T06:40:51.354Z"
   },
   {
    "duration": 65,
    "start_time": "2023-06-16T06:40:51.439Z"
   },
   {
    "duration": 4,
    "start_time": "2023-06-16T06:40:51.506Z"
   },
   {
    "duration": 26,
    "start_time": "2023-06-16T06:40:51.512Z"
   },
   {
    "duration": 60,
    "start_time": "2023-06-16T06:40:51.540Z"
   },
   {
    "duration": 56,
    "start_time": "2023-06-16T06:40:51.602Z"
   },
   {
    "duration": 48,
    "start_time": "2023-06-16T06:40:51.660Z"
   },
   {
    "duration": 99,
    "start_time": "2023-06-16T06:40:51.709Z"
   },
   {
    "duration": 200,
    "start_time": "2023-06-16T06:40:51.810Z"
   },
   {
    "duration": 201,
    "start_time": "2023-06-16T06:40:52.012Z"
   },
   {
    "duration": 23,
    "start_time": "2023-06-16T06:40:52.214Z"
   },
   {
    "duration": 121,
    "start_time": "2023-06-16T06:40:52.300Z"
   },
   {
    "duration": 6,
    "start_time": "2023-06-16T06:40:52.500Z"
   },
   {
    "duration": 24,
    "start_time": "2023-06-16T06:40:52.599Z"
   },
   {
    "duration": 17,
    "start_time": "2023-06-16T06:40:52.625Z"
   },
   {
    "duration": 57,
    "start_time": "2023-06-16T06:40:52.644Z"
   },
   {
    "duration": 12,
    "start_time": "2023-06-16T06:40:52.702Z"
   },
   {
    "duration": 4,
    "start_time": "2023-06-16T06:40:52.800Z"
   },
   {
    "duration": 95,
    "start_time": "2023-06-16T06:40:52.805Z"
   },
   {
    "duration": 16,
    "start_time": "2023-06-16T06:40:52.901Z"
   },
   {
    "duration": 25,
    "start_time": "2023-06-16T06:40:52.918Z"
   },
   {
    "duration": 55,
    "start_time": "2023-06-16T06:40:52.944Z"
   },
   {
    "duration": 5600,
    "start_time": "2023-06-16T06:40:53.001Z"
   },
   {
    "duration": 9,
    "start_time": "2023-06-16T06:40:58.603Z"
   }
  ],
  "kernelspec": {
   "display_name": "Python 3",
   "language": "python",
   "name": "python3"
  },
  "language_info": {
   "codemirror_mode": {
    "name": "ipython",
    "version": 3
   },
   "file_extension": ".py",
   "mimetype": "text/x-python",
   "name": "python",
   "nbconvert_exporter": "python",
   "pygments_lexer": "ipython3",
   "version": "3.8.5"
  },
  "toc": {
   "base_numbering": 1,
   "nav_menu": {},
   "number_sections": true,
   "sideBar": true,
   "skip_h1_title": true,
   "title_cell": "Содержание",
   "title_sidebar": "Contents",
   "toc_cell": true,
   "toc_position": {
    "height": "calc(100% - 180px)",
    "left": "10px",
    "top": "150px",
    "width": "165px"
   },
   "toc_section_display": true,
   "toc_window_display": false
  }
 },
 "nbformat": 4,
 "nbformat_minor": 2
}
