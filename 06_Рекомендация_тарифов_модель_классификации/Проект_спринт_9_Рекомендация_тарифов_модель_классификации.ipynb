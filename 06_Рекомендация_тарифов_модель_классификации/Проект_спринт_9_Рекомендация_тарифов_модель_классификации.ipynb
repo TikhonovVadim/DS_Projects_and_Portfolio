{
 "cells": [
  {
   "cell_type": "markdown",
   "metadata": {},
   "source": [
    "# Проект - Рекомендация тарифов\n",
    "\n",
    "\n",
    "# Задача проекта\n",
    "- построить модель для задачи классификации\n",
    "- с максимально большим значением accuracy > 0.75"
   ]
  },
  {
   "cell_type": "markdown",
   "metadata": {},
   "source": [
    "# Описание проекта\n",
    "Оператор мобильной связи «Мегалайн» выяснил: многие клиенты пользуются архивными тарифами. Они хотят построить систему, способную проанализировать поведение клиентов и предложить пользователям новый тариф: «Смарт» или «Ультра».\n",
    "\n",
    "В вашем распоряжении данные о поведении клиентов, которые уже перешли на эти тарифы (из проекта курса «Статистический анализ данных»). Нужно построить модель для задачи классификации, которая выберет подходящий тариф. Предобработка данных не понадобится — вы её уже сделали.\n",
    "\n",
    "Постройте модель с максимально большим значением accuracy. Чтобы сдать проект успешно, нужно довести долю правильных ответов по крайней мере до 0.75. Проверьте accuracy на тестовой выборке самостоятельно.\n"
   ]
  },
  {
   "cell_type": "markdown",
   "metadata": {},
   "source": [
    "# Описание данных\n",
    "\n",
    "Каждый объект в наборе данных — это информация о поведении одного пользователя за месяц. \n",
    "Известно:\n",
    "- calls — количество звонков,\n",
    "- minutes — суммарная длительность звонков в минутах,\n",
    "- messages — количество sms-сообщений,\n",
    "- mb_used — израсходованный интернет-трафик в Мб,\n",
    "- is_ultra — каким тарифом пользовался в течение месяца («Ультра» — 1, «Смарт» — 0).\n"
   ]
  },
  {
   "cell_type": "markdown",
   "metadata": {},
   "source": [
    "# Инструкция по выполнению проекта\n",
    "1.\tОткройте файл с данными и изучите его. Путь к файлу: /datasets/users_behavior.csv. \n",
    "2.\tРазделите исходные данные на обучающую, валидационную и тестовую выборки.\n",
    "3.\tИсследуйте качество разных моделей, меняя гиперпараметры. Кратко напишите выводы исследования.\n",
    "4.\tПроверьте качество модели на тестовой выборке.\n",
    "5.\tДополнительное задание: проверьте модели на вменяемость. "
   ]
  },
  {
   "cell_type": "code",
   "execution_count": 1,
   "metadata": {},
   "outputs": [],
   "source": [
    "# импорт необходимых библиотек\n",
    "import pandas as pd\n",
    "import numpy as np\n",
    "\n",
    "from sklearn.model_selection import train_test_split\n",
    "from sklearn.tree import DecisionTreeClassifier\n",
    "from sklearn.ensemble import RandomForestClassifier\n",
    "from sklearn.linear_model import LogisticRegression\n",
    "from sklearn.metrics import accuracy_score "
   ]
  },
  {
   "cell_type": "code",
   "execution_count": 2,
   "metadata": {},
   "outputs": [],
   "source": [
    "# для оформления проекта использовал модуль tqdm для индикации выполнения, информация по модулю ниже\n",
    "from tqdm import trange \n",
    "from tqdm.notebook import trange"
   ]
  },
  {
   "cell_type": "markdown",
   "metadata": {},
   "source": [
    "Модуль tqdm предназначен для быстрого и расширяемого внедрения индикаторов выполнения (progressbar) во внешние интерфейсы программ на Python, предоставляя конечным пользователям визуальную индикацию хода вычислений или передачи данных. Он также будет полезен в целях отладки, как в качестве инструмента профилирования, так и в качестве способа отображения информации журнала итеративной задачи. Благодаря простоте использования библиотека также является идеальным кандидатом для включения в образовательные курсы Python.\n",
    "\n",
    "https://docs-python.ru/packages/tqdm-progressbar/"
   ]
  },
  {
   "cell_type": "markdown",
   "metadata": {},
   "source": [
    "## Откройте и изучите файл"
   ]
  },
  {
   "cell_type": "code",
   "execution_count": 3,
   "metadata": {},
   "outputs": [
    {
     "data": {
      "text/html": [
       "<div>\n",
       "<style scoped>\n",
       "    .dataframe tbody tr th:only-of-type {\n",
       "        vertical-align: middle;\n",
       "    }\n",
       "\n",
       "    .dataframe tbody tr th {\n",
       "        vertical-align: top;\n",
       "    }\n",
       "\n",
       "    .dataframe thead th {\n",
       "        text-align: right;\n",
       "    }\n",
       "</style>\n",
       "<table border=\"1\" class=\"dataframe\">\n",
       "  <thead>\n",
       "    <tr style=\"text-align: right;\">\n",
       "      <th></th>\n",
       "      <th>calls</th>\n",
       "      <th>minutes</th>\n",
       "      <th>messages</th>\n",
       "      <th>mb_used</th>\n",
       "      <th>is_ultra</th>\n",
       "    </tr>\n",
       "  </thead>\n",
       "  <tbody>\n",
       "    <tr>\n",
       "      <th>0</th>\n",
       "      <td>40.0</td>\n",
       "      <td>311.90</td>\n",
       "      <td>83.0</td>\n",
       "      <td>19915.42</td>\n",
       "      <td>0</td>\n",
       "    </tr>\n",
       "    <tr>\n",
       "      <th>1</th>\n",
       "      <td>85.0</td>\n",
       "      <td>516.75</td>\n",
       "      <td>56.0</td>\n",
       "      <td>22696.96</td>\n",
       "      <td>0</td>\n",
       "    </tr>\n",
       "    <tr>\n",
       "      <th>2</th>\n",
       "      <td>77.0</td>\n",
       "      <td>467.66</td>\n",
       "      <td>86.0</td>\n",
       "      <td>21060.45</td>\n",
       "      <td>0</td>\n",
       "    </tr>\n",
       "    <tr>\n",
       "      <th>3</th>\n",
       "      <td>106.0</td>\n",
       "      <td>745.53</td>\n",
       "      <td>81.0</td>\n",
       "      <td>8437.39</td>\n",
       "      <td>1</td>\n",
       "    </tr>\n",
       "    <tr>\n",
       "      <th>4</th>\n",
       "      <td>66.0</td>\n",
       "      <td>418.74</td>\n",
       "      <td>1.0</td>\n",
       "      <td>14502.75</td>\n",
       "      <td>0</td>\n",
       "    </tr>\n",
       "  </tbody>\n",
       "</table>\n",
       "</div>"
      ],
      "text/plain": [
       "   calls  minutes  messages   mb_used  is_ultra\n",
       "0   40.0   311.90      83.0  19915.42         0\n",
       "1   85.0   516.75      56.0  22696.96         0\n",
       "2   77.0   467.66      86.0  21060.45         0\n",
       "3  106.0   745.53      81.0   8437.39         1\n",
       "4   66.0   418.74       1.0  14502.75         0"
      ]
     },
     "execution_count": 3,
     "metadata": {},
     "output_type": "execute_result"
    }
   ],
   "source": [
    "# загрузка файла и вывод первых 5 строк df\n",
    "data = pd.read_csv('users_behavior.csv')\n",
    "data.head()"
   ]
  },
  {
   "cell_type": "code",
   "execution_count": 4,
   "metadata": {},
   "outputs": [
    {
     "name": "stdout",
     "output_type": "stream",
     "text": [
      "<class 'pandas.core.frame.DataFrame'>\n",
      "RangeIndex: 3214 entries, 0 to 3213\n",
      "Data columns (total 5 columns):\n",
      " #   Column    Non-Null Count  Dtype  \n",
      "---  ------    --------------  -----  \n",
      " 0   calls     3214 non-null   float64\n",
      " 1   minutes   3214 non-null   float64\n",
      " 2   messages  3214 non-null   float64\n",
      " 3   mb_used   3214 non-null   float64\n",
      " 4   is_ultra  3214 non-null   int64  \n",
      "dtypes: float64(4), int64(1)\n",
      "memory usage: 125.7 KB\n"
     ]
    }
   ],
   "source": [
    "# вывод информации по df\n",
    "data.info()"
   ]
  },
  {
   "cell_type": "code",
   "execution_count": 5,
   "metadata": {},
   "outputs": [
    {
     "data": {
      "text/plain": [
       "0"
      ]
     },
     "execution_count": 5,
     "metadata": {},
     "output_type": "execute_result"
    }
   ],
   "source": [
    "# проверим на явные дупликаты\n",
    "data.duplicated().sum()"
   ]
  },
  {
   "cell_type": "code",
   "execution_count": 6,
   "metadata": {},
   "outputs": [],
   "source": [
    "# переведем тип столбцов 'calls', 'messages' в тип integer\n",
    "for column in data[['calls', 'messages']]:\n",
    "    data[column] = data[column].astype('int')"
   ]
  },
  {
   "cell_type": "code",
   "execution_count": 7,
   "metadata": {},
   "outputs": [
    {
     "data": {
      "text/html": [
       "<div>\n",
       "<style scoped>\n",
       "    .dataframe tbody tr th:only-of-type {\n",
       "        vertical-align: middle;\n",
       "    }\n",
       "\n",
       "    .dataframe tbody tr th {\n",
       "        vertical-align: top;\n",
       "    }\n",
       "\n",
       "    .dataframe thead th {\n",
       "        text-align: right;\n",
       "    }\n",
       "</style>\n",
       "<table border=\"1\" class=\"dataframe\">\n",
       "  <thead>\n",
       "    <tr style=\"text-align: right;\">\n",
       "      <th></th>\n",
       "      <th>is_ultra</th>\n",
       "      <th>calls</th>\n",
       "      <th>mb_used</th>\n",
       "      <th>messages</th>\n",
       "      <th>minutes</th>\n",
       "    </tr>\n",
       "  </thead>\n",
       "  <tbody>\n",
       "    <tr>\n",
       "      <th>0</th>\n",
       "      <td>0</td>\n",
       "      <td>58.463437</td>\n",
       "      <td>16208.466949</td>\n",
       "      <td>33.384029</td>\n",
       "      <td>405.942952</td>\n",
       "    </tr>\n",
       "    <tr>\n",
       "      <th>1</th>\n",
       "      <td>1</td>\n",
       "      <td>73.392893</td>\n",
       "      <td>19468.823228</td>\n",
       "      <td>49.363452</td>\n",
       "      <td>511.224569</td>\n",
       "    </tr>\n",
       "  </tbody>\n",
       "</table>\n",
       "</div>"
      ],
      "text/plain": [
       "   is_ultra      calls       mb_used   messages     minutes\n",
       "0         0  58.463437  16208.466949  33.384029  405.942952\n",
       "1         1  73.392893  19468.823228  49.363452  511.224569"
      ]
     },
     "execution_count": 7,
     "metadata": {},
     "output_type": "execute_result"
    }
   ],
   "source": [
    "# сравним использование услуг по тарифам «Ультра» — 1, «Смарт» — 0\n",
    "data.pivot_table(index='is_ultra', values=['calls', 'minutes', 'messages', 'mb_used'], aggfunc='mean').reset_index()"
   ]
  },
  {
   "cell_type": "code",
   "execution_count": 8,
   "metadata": {},
   "outputs": [
    {
     "name": "stdout",
     "output_type": "stream",
     "text": [
      "<class 'pandas.core.frame.DataFrame'>\n",
      "RangeIndex: 3214 entries, 0 to 3213\n",
      "Data columns (total 5 columns):\n",
      " #   Column    Non-Null Count  Dtype  \n",
      "---  ------    --------------  -----  \n",
      " 0   calls     3214 non-null   int32  \n",
      " 1   minutes   3214 non-null   float64\n",
      " 2   messages  3214 non-null   int32  \n",
      " 3   mb_used   3214 non-null   float64\n",
      " 4   is_ultra  3214 non-null   int64  \n",
      "dtypes: float64(2), int32(2), int64(1)\n",
      "memory usage: 100.6 KB\n"
     ]
    }
   ],
   "source": [
    "data.info()"
   ]
  },
  {
   "cell_type": "code",
   "execution_count": 9,
   "metadata": {},
   "outputs": [
    {
     "data": {
      "text/html": [
       "<div>\n",
       "<style scoped>\n",
       "    .dataframe tbody tr th:only-of-type {\n",
       "        vertical-align: middle;\n",
       "    }\n",
       "\n",
       "    .dataframe tbody tr th {\n",
       "        vertical-align: top;\n",
       "    }\n",
       "\n",
       "    .dataframe thead th {\n",
       "        text-align: right;\n",
       "    }\n",
       "</style>\n",
       "<table border=\"1\" class=\"dataframe\">\n",
       "  <thead>\n",
       "    <tr style=\"text-align: right;\">\n",
       "      <th></th>\n",
       "      <th>calls</th>\n",
       "      <th>minutes</th>\n",
       "      <th>messages</th>\n",
       "      <th>mb_used</th>\n",
       "      <th>is_ultra</th>\n",
       "    </tr>\n",
       "  </thead>\n",
       "  <tbody>\n",
       "    <tr>\n",
       "      <th>calls</th>\n",
       "      <td>1.000000</td>\n",
       "      <td>0.982083</td>\n",
       "      <td>0.177385</td>\n",
       "      <td>0.286442</td>\n",
       "      <td>0.207122</td>\n",
       "    </tr>\n",
       "    <tr>\n",
       "      <th>minutes</th>\n",
       "      <td>0.982083</td>\n",
       "      <td>1.000000</td>\n",
       "      <td>0.173110</td>\n",
       "      <td>0.280967</td>\n",
       "      <td>0.206955</td>\n",
       "    </tr>\n",
       "    <tr>\n",
       "      <th>messages</th>\n",
       "      <td>0.177385</td>\n",
       "      <td>0.173110</td>\n",
       "      <td>1.000000</td>\n",
       "      <td>0.195721</td>\n",
       "      <td>0.203830</td>\n",
       "    </tr>\n",
       "    <tr>\n",
       "      <th>mb_used</th>\n",
       "      <td>0.286442</td>\n",
       "      <td>0.280967</td>\n",
       "      <td>0.195721</td>\n",
       "      <td>1.000000</td>\n",
       "      <td>0.198568</td>\n",
       "    </tr>\n",
       "    <tr>\n",
       "      <th>is_ultra</th>\n",
       "      <td>0.207122</td>\n",
       "      <td>0.206955</td>\n",
       "      <td>0.203830</td>\n",
       "      <td>0.198568</td>\n",
       "      <td>1.000000</td>\n",
       "    </tr>\n",
       "  </tbody>\n",
       "</table>\n",
       "</div>"
      ],
      "text/plain": [
       "             calls   minutes  messages   mb_used  is_ultra\n",
       "calls     1.000000  0.982083  0.177385  0.286442  0.207122\n",
       "minutes   0.982083  1.000000  0.173110  0.280967  0.206955\n",
       "messages  0.177385  0.173110  1.000000  0.195721  0.203830\n",
       "mb_used   0.286442  0.280967  0.195721  1.000000  0.198568\n",
       "is_ultra  0.207122  0.206955  0.203830  0.198568  1.000000"
      ]
     },
     "execution_count": 9,
     "metadata": {},
     "output_type": "execute_result"
    }
   ],
   "source": [
    "data.corr()"
   ]
  },
  {
   "cell_type": "markdown",
   "metadata": {},
   "source": [
    "### Выводы, итоги, информации п.1\n",
    "- пропусков, дубликатов нет, данные подготовлены\n",
    "- сделана замена типа столбцов 'calls', 'messages' на тип integer\n",
    "\n",
    "### Задача\n",
    "- построить модель для задачи классификации, которая выберет подходящий тариф\n",
    "- с максимально большим значением accuracy > 0.75"
   ]
  },
  {
   "cell_type": "markdown",
   "metadata": {},
   "source": [
    "## Разбейте данные на выборки"
   ]
  },
  {
   "cell_type": "code",
   "execution_count": 10,
   "metadata": {},
   "outputs": [],
   "source": [
    "# разделим данные на признаки и целевой признак\n",
    "features = data.drop(['is_ultra'], axis=1)\n",
    "target = data['is_ultra']"
   ]
  },
  {
   "cell_type": "code",
   "execution_count": 11,
   "metadata": {},
   "outputs": [],
   "source": [
    "# разделим на обучающую и тестовую выборки в пропорции 4 к 1\n",
    "train_features, test_features, train_target, test_target = train_test_split(features, target, \n",
    "                                                                            test_size=0.20,random_state=12345)"
   ]
  },
  {
   "cell_type": "code",
   "execution_count": 12,
   "metadata": {},
   "outputs": [],
   "source": [
    "# разделим обучающую выборку на обучающую и валидационную выборкив пропорции 3 к 1\n",
    "train_features, valid_features, train_target, valid_target = train_test_split(train_features, train_target, \n",
    "                                                                              test_size=0.25, random_state=12345)"
   ]
  },
  {
   "cell_type": "code",
   "execution_count": 13,
   "metadata": {},
   "outputs": [
    {
     "name": "stdout",
     "output_type": "stream",
     "text": [
      "(1928, 4) (643, 4) (643, 4)\n"
     ]
    }
   ],
   "source": [
    "# данные о размере выборок\n",
    "print(train_features.shape, valid_features.shape, test_features.shape) "
   ]
  },
  {
   "cell_type": "markdown",
   "metadata": {},
   "source": [
    "### Выводы, итоги, информации п.2\n",
    "- данные разделены на признаки и целевой признак\n",
    "- данные разбиты на обучающую, валидационную и тестовую выборки в пропорции 3:1:1 и подготовлены к обучению\n",
    "\n",
    "### Задача\n",
    "- построить модель для задачи классификации, которая выберет подходящий тариф\n",
    "- с максимально большим значением accuracy > 0.75"
   ]
  },
  {
   "cell_type": "markdown",
   "metadata": {},
   "source": [
    "## Построение моделей для классификации"
   ]
  },
  {
   "cell_type": "code",
   "execution_count": 14,
   "metadata": {},
   "outputs": [
    {
     "data": {
      "application/vnd.jupyter.widget-view+json": {
       "model_id": "cacacfdd64ea4d3b8fe517882d458eed",
       "version_major": 2,
       "version_minor": 0
      },
      "text/plain": [
       "HBox(children=(HTML(value=''), FloatProgress(value=0.0, max=10.0), HTML(value='')))"
      ]
     },
     "metadata": {},
     "output_type": "display_data"
    },
    {
     "name": "stdout",
     "output_type": "stream",
     "text": [
      "\n",
      "Accuracy лучшей модели: 0.77449\n",
      "Лучшая модель: DecisionTreeClassifier(max_depth=7, random_state=12345)\n"
     ]
    }
   ],
   "source": [
    "# обучение модели на алгоритме DecisionTreeClassifier с перебором параметра максимальная Глубина\n",
    "\n",
    "best_model_DTC = None\n",
    "best_result_DTC = 0\n",
    "\n",
    "for depth in trange(1, 11):\n",
    "    model_DTC = DecisionTreeClassifier(random_state=12345, max_depth=depth).fit(train_features, train_target) \n",
    "    predictions_DTC = model_DTC.predict(valid_features) \n",
    "    result_DTC = accuracy_score(valid_target, predictions_DTC)\n",
    "    if result_DTC > best_result_DTC:\n",
    "        best_result_DTC = result_DTC\n",
    "        best_model_DTC = model_DTC\n",
    "        \n",
    "      \n",
    "print(\"Accuracy лучшей модели:\", round(best_result_DTC,5))\n",
    "print('Лучшая модель:', best_model_DTC)"
   ]
  },
  {
   "cell_type": "code",
   "execution_count": 15,
   "metadata": {},
   "outputs": [
    {
     "data": {
      "application/vnd.jupyter.widget-view+json": {
       "model_id": "3a68a2a4ad5c485e898c1df0c19c135d",
       "version_major": 2,
       "version_minor": 0
      },
      "text/plain": [
       "HBox(children=(HTML(value=''), FloatProgress(value=0.0, max=10.0), HTML(value='')))"
      ]
     },
     "metadata": {},
     "output_type": "display_data"
    },
    {
     "name": "stdout",
     "output_type": "stream",
     "text": [
      "\n",
      "Accuracy лучшей модели: 0.78849\n",
      "Лучшая модель: RandomForestClassifier(n_estimators=10, random_state=12345)\n"
     ]
    }
   ],
   "source": [
    "# обучение модели на алгоритме RandomForestClassifier с перебором Гиперпараметра кол-во Деревьев\n",
    "\n",
    "best_model_RFC = None\n",
    "best_result_RFC = 0\n",
    "\n",
    "for est in trange(1, 11):\n",
    "    model_RFC = RandomForestClassifier(random_state=12345, n_estimators=est).fit(train_features, train_target) \n",
    "    predictions_RFC = model_RFC.predict(valid_features) \n",
    "    result_RFC = accuracy_score(valid_target, predictions_RFC)\n",
    "    if result_RFC > best_result_RFC:\n",
    "        best_result_RFC = result_RFC\n",
    "        best_model_RFC = model_RFC\n",
    "        \n",
    "      \n",
    "print(\"Accuracy лучшей модели:\", round(best_result_RFC,5))\n",
    "print('Лучшая модель:', best_model_RFC)"
   ]
  },
  {
   "cell_type": "code",
   "execution_count": 16,
   "metadata": {},
   "outputs": [
    {
     "data": {
      "application/vnd.jupyter.widget-view+json": {
       "model_id": "6b873e0d638245c982359fc45884cc35",
       "version_major": 2,
       "version_minor": 0
      },
      "text/plain": [
       "HBox(children=(HTML(value=''), FloatProgress(value=0.0, max=5.0), HTML(value='')))"
      ]
     },
     "metadata": {},
     "output_type": "display_data"
    },
    {
     "name": "stdout",
     "output_type": "stream",
     "text": [
      "\n",
      "Accuracy лучшей модели: 0.79782\n",
      "Лучшая модель: RandomForestClassifier(max_depth=10, n_estimators=50, random_state=12345)\n"
     ]
    }
   ],
   "source": [
    "# обучение модели на алгоритме RandomForestClassifier с перебором Гиперпараметров: кол-во Деревьев, максим. Глубина\n",
    "\n",
    "best_model_RFC_2 = None\n",
    "best_result_RFC_2 = 0\n",
    "\n",
    "for est in trange(10, 51, 10):\n",
    "    for depth in range (1, 11):\n",
    "        model_RFC_2 = RandomForestClassifier(random_state=12345, n_estimators=est, max_depth=depth)\n",
    "        model_RFC_2.fit(train_features, train_target) \n",
    "        predictions_RFC_2 = model_RFC_2.predict(valid_features) \n",
    "        result_RFC_2 = accuracy_score(valid_target, predictions_RFC_2)\n",
    "        if result_RFC_2 > best_result_RFC_2:\n",
    "            best_model_RFC_2 = model_RFC_2\n",
    "            best_result_RFC_2 = result_RFC_2\n",
    "\n",
    "            \n",
    "print(\"Accuracy лучшей модели:\", round(best_result_RFC_2,5))\n",
    "print('Лучшая модель:', best_model_RFC_2)    "
   ]
  },
  {
   "cell_type": "code",
   "execution_count": 17,
   "metadata": {},
   "outputs": [
    {
     "name": "stdout",
     "output_type": "stream",
     "text": [
      "Accuracy модели: 0.72628\n",
      "Модель: LogisticRegression(max_iter=1000, random_state=12345)\n"
     ]
    }
   ],
   "source": [
    "# обучение модели на алгоритме LogisticRegression\n",
    "\n",
    "model_LR = LogisticRegression(random_state=12345, solver='lbfgs', max_iter=1000).fit(train_features, train_target)\n",
    "model_LR.score(valid_features, valid_target)\n",
    "\n",
    "    \n",
    "print(\"Accuracy модели:\", round(model_LR.score(valid_features, valid_target),5))\n",
    "print('Модель:', model_LR)"
   ]
  },
  {
   "cell_type": "markdown",
   "metadata": {},
   "source": [
    "### Выводы, итоги, информации п.3\n",
    "- DecisionTreeClassifier: Accuracy лучшей модели: 0.77449, Лучшая модель:  DecisionTreeClassifier(max_depth=7)\n",
    "- RandomForestClassifier: Accuracy лучшей модели: 0.78849, Лучшая модель: RandomForestClassifier(n_estimators=10)\n",
    "- RFC_2: Accuracy лучшей модели: 0.79782, Лучшая модель: RandomForestClassifier(max_depth=10, n_estimators=50)\n",
    "- LogisticRegression: Accuracy модели: 0.72628, Модель: LogisticRegression(max_iter=1000)\n",
    "\n",
    "\n",
    "- все модели, кроме Логистической регресси, показывают Accuracy > 0.75\n",
    "- лучшая модель по Accuracy RandomForestClassifier(max_depth=10, n_estimators=50), Accuracy=0.79782"
   ]
  },
  {
   "cell_type": "markdown",
   "metadata": {},
   "source": [
    "## Проверка модели на тестовой выборке"
   ]
  },
  {
   "cell_type": "code",
   "execution_count": 18,
   "metadata": {},
   "outputs": [
    {
     "data": {
      "text/plain": [
       "0.78849"
      ]
     },
     "execution_count": 18,
     "metadata": {},
     "output_type": "execute_result"
    }
   ],
   "source": [
    "# проверка на тестовой выборке модели на основе алгоритма DecisionTreeClassifier \n",
    "round(best_model_DTC.score(test_features, test_target),5)"
   ]
  },
  {
   "cell_type": "code",
   "execution_count": 19,
   "metadata": {},
   "outputs": [
    {
     "data": {
      "text/plain": [
       "0.78694"
      ]
     },
     "execution_count": 19,
     "metadata": {},
     "output_type": "execute_result"
    }
   ],
   "source": [
    "# проверка на тестовой выборке модели на основе алгоритма RandomForestClassifier \n",
    "round(best_model_RFC.score(test_features, test_target),5)"
   ]
  },
  {
   "cell_type": "code",
   "execution_count": 20,
   "metadata": {},
   "outputs": [
    {
     "data": {
      "text/plain": [
       "0.79938"
      ]
     },
     "execution_count": 20,
     "metadata": {},
     "output_type": "execute_result"
    }
   ],
   "source": [
    "# проверка на тестовой выборке модели на основе алгоритма RandomForestClassifier_2\n",
    "round(best_model_RFC_2.score(test_features, test_target),5)"
   ]
  },
  {
   "cell_type": "code",
   "execution_count": 21,
   "metadata": {},
   "outputs": [
    {
     "data": {
      "text/plain": [
       "0.75894"
      ]
     },
     "execution_count": 21,
     "metadata": {},
     "output_type": "execute_result"
    }
   ],
   "source": [
    "# проверка на тестовой выборке модели на основе алгоритма LogisticRegression\n",
    "round(model_LR.score(test_features, test_target),5)"
   ]
  },
  {
   "cell_type": "markdown",
   "metadata": {},
   "source": [
    "### Выводы, итоги, информации п.4\n",
    "\n",
    "лучшая модель RFC_2\n",
    "- RandomForestClassifier(max_depth=10, n_estimators=50, random_state=12345)\n",
    "- Accuracy на валидации: 0.79782\n",
    "- Accuracy на тесте: 0.79937\n"
   ]
  },
  {
   "cell_type": "markdown",
   "metadata": {},
   "source": [
    "## Проверка модели на адекватность\n",
    "- посмотрим на наиболе часто встречащийся класс в наших данных\n",
    "- сравним его долю с оценкой Accurasy на выбранной модели"
   ]
  },
  {
   "cell_type": "code",
   "execution_count": 22,
   "metadata": {},
   "outputs": [
    {
     "data": {
      "text/html": [
       "<div>\n",
       "<style scoped>\n",
       "    .dataframe tbody tr th:only-of-type {\n",
       "        vertical-align: middle;\n",
       "    }\n",
       "\n",
       "    .dataframe tbody tr th {\n",
       "        vertical-align: top;\n",
       "    }\n",
       "\n",
       "    .dataframe thead th {\n",
       "        text-align: right;\n",
       "    }\n",
       "</style>\n",
       "<table border=\"1\" class=\"dataframe\">\n",
       "  <thead>\n",
       "    <tr style=\"text-align: right;\">\n",
       "      <th></th>\n",
       "      <th>calls</th>\n",
       "      <th>minutes</th>\n",
       "      <th>messages</th>\n",
       "      <th>mb_used</th>\n",
       "    </tr>\n",
       "    <tr>\n",
       "      <th>is_ultra</th>\n",
       "      <th></th>\n",
       "      <th></th>\n",
       "      <th></th>\n",
       "      <th></th>\n",
       "    </tr>\n",
       "  </thead>\n",
       "  <tbody>\n",
       "    <tr>\n",
       "      <th>0</th>\n",
       "      <td>2229</td>\n",
       "      <td>2229</td>\n",
       "      <td>2229</td>\n",
       "      <td>2229</td>\n",
       "    </tr>\n",
       "    <tr>\n",
       "      <th>1</th>\n",
       "      <td>985</td>\n",
       "      <td>985</td>\n",
       "      <td>985</td>\n",
       "      <td>985</td>\n",
       "    </tr>\n",
       "  </tbody>\n",
       "</table>\n",
       "</div>"
      ],
      "text/plain": [
       "          calls  minutes  messages  mb_used\n",
       "is_ultra                                   \n",
       "0          2229     2229      2229     2229\n",
       "1           985      985       985      985"
      ]
     },
     "execution_count": 22,
     "metadata": {},
     "output_type": "execute_result"
    }
   ],
   "source": [
    "data.groupby('is_ultra').count()"
   ]
  },
  {
   "cell_type": "markdown",
   "metadata": {},
   "source": [
    "Наиболее часто встречающийся класс в наших данных это is_ultra == 0. Количество значений = 2229. Всего же значений в df = 3214. Значит самый часто встречающийся класс \"занимает\" 69% (2229 / 3214 == 0.6935)\n",
    "\n",
    "Оценка Accuracy нашей лучшей модели на тесте: 0.79937\n",
    "\n",
    "Вывод - наша модель RFC_2 адекватна."
   ]
  },
  {
   "cell_type": "markdown",
   "metadata": {},
   "source": [
    "## Чек-лист готовности проекта"
   ]
  },
  {
   "cell_type": "markdown",
   "metadata": {},
   "source": [
    "Поставьте 'x' в выполненных пунктах. Далее нажмите Shift+Enter."
   ]
  },
  {
   "cell_type": "markdown",
   "metadata": {},
   "source": [
    "- [x] Jupyter Notebook открыт\n",
    "- [x] Весь код исполняется без ошибок\n",
    "- [x] Ячейки с кодом расположены в порядке исполнения\n",
    "- [x] Выполнено задание 1: данные загружены и изучены\n",
    "- [x] Выполнено задание 2: данные разбиты на три выборки\n",
    "- [x] Выполнено задание 3: проведено исследование моделей\n",
    "    - [x] Рассмотрено больше одной модели\n",
    "    - [x] Рассмотрено хотя бы 3 значения гипепараметров для какой-нибудь модели\n",
    "    - [x] Написаны выводы по результатам исследования\n",
    "- [x] Выполнено задание 3: Проведено тестирование\n",
    "- [x] Удалось достичь accuracy не меньше 0.75\n"
   ]
  },
  {
   "cell_type": "markdown",
   "metadata": {},
   "source": [
    "## Выводы, итоги, информация по всему проекту\n",
    "\n",
    "- загруженны и изучены данные: данные чистые, пропусков и дубликатов нет\n",
    "- данные разделены на обучающую, валидационную и тестовую выборки, подготвлены к обучению\n",
    "- проведенно исследование по четырем моделям: \n",
    "    - Decision Tree Classifier\n",
    "    - RandomForestClassifier с изменением Гиперпараметра кол-во Деревьев\n",
    "    - RandomForestClassifier с изменением Гиперпараметров: кол-во Деревьев и максимальная Глубина\n",
    "    - Logistic Regression\n",
    "- все модели, кроме Логистической регресси, показывают на валидационно выборке Accuracy > 0.75\n",
    "- модели проверил на тестовой выборке: все модели показывают Accuracy > 0.75\n",
    "- лучшая модель по Accuracy - RandomForestClassifier(max_depth=10, n_estimators=50 random_state=1234), Accuracy=0.79782\n",
    "- сделали оценку на адекватность модели"
   ]
  }
 ],
 "metadata": {
  "ExecuteTimeLog": [
   {
    "duration": 1581,
    "start_time": "2023-04-10T13:19:40.356Z"
   },
   {
    "duration": 143,
    "start_time": "2023-04-10T13:21:24.007Z"
   },
   {
    "duration": 2,
    "start_time": "2023-04-10T13:21:28.568Z"
   },
   {
    "duration": 131,
    "start_time": "2023-04-10T13:21:29.782Z"
   },
   {
    "duration": 12,
    "start_time": "2023-04-10T13:22:18.568Z"
   },
   {
    "duration": 35,
    "start_time": "2023-04-10T13:22:47.624Z"
   },
   {
    "duration": 56,
    "start_time": "2023-04-10T13:23:02.295Z"
   },
   {
    "duration": 15,
    "start_time": "2023-04-10T13:23:26.571Z"
   },
   {
    "duration": 10,
    "start_time": "2023-04-10T13:40:37.393Z"
   },
   {
    "duration": 11,
    "start_time": "2023-04-10T13:40:54.059Z"
   },
   {
    "duration": 4,
    "start_time": "2023-04-10T13:41:39.331Z"
   },
   {
    "duration": 13,
    "start_time": "2023-04-10T13:41:51.338Z"
   },
   {
    "duration": 5,
    "start_time": "2023-04-10T13:43:08.777Z"
   },
   {
    "duration": 4,
    "start_time": "2023-04-10T13:43:09.460Z"
   },
   {
    "duration": 3,
    "start_time": "2023-04-10T13:43:43.457Z"
   },
   {
    "duration": 6,
    "start_time": "2023-04-10T13:44:44.465Z"
   },
   {
    "duration": 4,
    "start_time": "2023-04-10T13:44:45.048Z"
   },
   {
    "duration": 4,
    "start_time": "2023-04-10T13:45:25.650Z"
   },
   {
    "duration": 3,
    "start_time": "2023-04-10T13:45:26.249Z"
   },
   {
    "duration": 5,
    "start_time": "2023-04-10T14:45:51.661Z"
   },
   {
    "duration": 4,
    "start_time": "2023-04-10T14:53:07.545Z"
   },
   {
    "duration": 4,
    "start_time": "2023-04-10T14:57:22.850Z"
   },
   {
    "duration": 3,
    "start_time": "2023-04-10T14:57:49.984Z"
   },
   {
    "duration": 2,
    "start_time": "2023-04-10T15:01:50.548Z"
   },
   {
    "duration": 5,
    "start_time": "2023-04-10T15:02:02.488Z"
   },
   {
    "duration": 38,
    "start_time": "2023-04-10T15:04:29.281Z"
   },
   {
    "duration": 838,
    "start_time": "2023-04-10T15:07:23.566Z"
   },
   {
    "duration": 0,
    "start_time": "2023-04-10T15:07:24.405Z"
   },
   {
    "duration": 5,
    "start_time": "2023-04-10T15:07:35.954Z"
   },
   {
    "duration": 4,
    "start_time": "2023-04-10T15:07:36.377Z"
   },
   {
    "duration": 3,
    "start_time": "2023-04-10T15:07:36.675Z"
   },
   {
    "duration": 3,
    "start_time": "2023-04-10T15:07:37.048Z"
   },
   {
    "duration": 11,
    "start_time": "2023-04-10T15:07:38.354Z"
   },
   {
    "duration": 10,
    "start_time": "2023-04-10T15:21:18.867Z"
   },
   {
    "duration": 2,
    "start_time": "2023-04-10T15:25:11.876Z"
   },
   {
    "duration": 3,
    "start_time": "2023-04-10T16:04:51.058Z"
   },
   {
    "duration": 47,
    "start_time": "2023-04-10T16:04:51.665Z"
   },
   {
    "duration": 11,
    "start_time": "2023-04-10T16:04:51.854Z"
   },
   {
    "duration": 6,
    "start_time": "2023-04-10T16:04:52.063Z"
   },
   {
    "duration": 5,
    "start_time": "2023-04-10T16:04:52.863Z"
   },
   {
    "duration": 6,
    "start_time": "2023-04-10T16:04:53.065Z"
   },
   {
    "duration": 3,
    "start_time": "2023-04-10T16:04:53.271Z"
   },
   {
    "duration": 2,
    "start_time": "2023-04-10T16:04:53.471Z"
   },
   {
    "duration": 3,
    "start_time": "2023-04-10T16:04:53.686Z"
   },
   {
    "duration": 12,
    "start_time": "2023-04-10T16:04:53.904Z"
   },
   {
    "duration": 25,
    "start_time": "2023-04-10T16:04:54.759Z"
   },
   {
    "duration": 8,
    "start_time": "2023-04-10T16:04:55.247Z"
   },
   {
    "duration": 13,
    "start_time": "2023-04-10T16:04:55.870Z"
   },
   {
    "duration": 26,
    "start_time": "2023-04-10T16:05:48.975Z"
   },
   {
    "duration": 3,
    "start_time": "2023-04-10T16:12:33.256Z"
   },
   {
    "duration": 30,
    "start_time": "2023-04-10T16:13:04.425Z"
   },
   {
    "duration": 29,
    "start_time": "2023-04-10T16:14:37.177Z"
   },
   {
    "duration": 31,
    "start_time": "2023-04-10T16:14:59.712Z"
   },
   {
    "duration": 15,
    "start_time": "2023-04-10T16:15:18.456Z"
   },
   {
    "duration": 31,
    "start_time": "2023-04-10T16:15:33.025Z"
   },
   {
    "duration": 3,
    "start_time": "2023-04-10T16:17:54.625Z"
   },
   {
    "duration": 35,
    "start_time": "2023-04-10T16:17:55.280Z"
   },
   {
    "duration": 10,
    "start_time": "2023-04-10T16:17:55.560Z"
   },
   {
    "duration": 5,
    "start_time": "2023-04-10T16:17:55.809Z"
   },
   {
    "duration": 6,
    "start_time": "2023-04-10T16:17:57.041Z"
   },
   {
    "duration": 4,
    "start_time": "2023-04-10T16:17:57.346Z"
   },
   {
    "duration": 2,
    "start_time": "2023-04-10T16:17:57.648Z"
   },
   {
    "duration": 3,
    "start_time": "2023-04-10T16:17:57.896Z"
   },
   {
    "duration": 3,
    "start_time": "2023-04-10T16:17:58.184Z"
   },
   {
    "duration": 15,
    "start_time": "2023-04-10T16:17:58.457Z"
   },
   {
    "duration": 35,
    "start_time": "2023-04-10T16:17:59.048Z"
   },
   {
    "duration": 5,
    "start_time": "2023-04-10T16:18:34.264Z"
   },
   {
    "duration": 4,
    "start_time": "2023-04-10T16:18:44.145Z"
   },
   {
    "duration": 5,
    "start_time": "2023-04-10T16:18:47.537Z"
   },
   {
    "duration": 4,
    "start_time": "2023-04-10T16:19:03.649Z"
   },
   {
    "duration": 4,
    "start_time": "2023-04-10T16:19:11.635Z"
   },
   {
    "duration": 2,
    "start_time": "2023-04-10T16:19:12.576Z"
   },
   {
    "duration": 5,
    "start_time": "2023-04-10T16:19:15.457Z"
   },
   {
    "duration": 5,
    "start_time": "2023-04-10T16:19:17.673Z"
   },
   {
    "duration": 5,
    "start_time": "2023-04-10T16:19:41.149Z"
   },
   {
    "duration": 5,
    "start_time": "2023-04-10T16:19:54.024Z"
   },
   {
    "duration": 100,
    "start_time": "2023-04-10T16:27:07.450Z"
   },
   {
    "duration": 11,
    "start_time": "2023-04-10T16:27:15.778Z"
   },
   {
    "duration": 10,
    "start_time": "2023-04-10T16:27:37.874Z"
   },
   {
    "duration": 13,
    "start_time": "2023-04-10T16:27:45.818Z"
   },
   {
    "duration": 35,
    "start_time": "2023-04-10T16:27:46.794Z"
   },
   {
    "duration": 10,
    "start_time": "2023-04-10T16:27:46.978Z"
   },
   {
    "duration": 5,
    "start_time": "2023-04-10T16:27:47.154Z"
   },
   {
    "duration": 6,
    "start_time": "2023-04-10T16:27:48.057Z"
   },
   {
    "duration": 3,
    "start_time": "2023-04-10T16:27:48.250Z"
   },
   {
    "duration": 5,
    "start_time": "2023-04-10T16:27:48.473Z"
   },
   {
    "duration": 6,
    "start_time": "2023-04-10T16:27:48.684Z"
   },
   {
    "duration": 3,
    "start_time": "2023-04-10T16:27:48.936Z"
   },
   {
    "duration": 13,
    "start_time": "2023-04-10T16:27:49.154Z"
   },
   {
    "duration": 27,
    "start_time": "2023-04-10T16:27:49.937Z"
   },
   {
    "duration": 139,
    "start_time": "2023-04-10T16:27:50.817Z"
   },
   {
    "duration": 4,
    "start_time": "2023-04-10T16:28:29.706Z"
   },
   {
    "duration": 251,
    "start_time": "2023-04-10T16:36:41.207Z"
   },
   {
    "duration": 28,
    "start_time": "2023-04-10T16:44:49.875Z"
   },
   {
    "duration": 28,
    "start_time": "2023-04-10T16:45:15.676Z"
   },
   {
    "duration": 3,
    "start_time": "2023-04-10T16:45:28.230Z"
   },
   {
    "duration": 40,
    "start_time": "2023-04-10T16:45:28.235Z"
   },
   {
    "duration": 11,
    "start_time": "2023-04-10T16:45:28.276Z"
   },
   {
    "duration": 10,
    "start_time": "2023-04-10T16:45:28.288Z"
   },
   {
    "duration": 8,
    "start_time": "2023-04-10T16:45:28.301Z"
   },
   {
    "duration": 6,
    "start_time": "2023-04-10T16:45:28.311Z"
   },
   {
    "duration": 9,
    "start_time": "2023-04-10T16:45:28.318Z"
   },
   {
    "duration": 11,
    "start_time": "2023-04-10T16:45:28.329Z"
   },
   {
    "duration": 6,
    "start_time": "2023-04-10T16:45:28.341Z"
   },
   {
    "duration": 20,
    "start_time": "2023-04-10T16:45:28.348Z"
   },
   {
    "duration": 31,
    "start_time": "2023-04-10T16:45:28.370Z"
   },
   {
    "duration": 142,
    "start_time": "2023-04-10T16:45:28.402Z"
   },
   {
    "duration": 608,
    "start_time": "2023-04-10T16:45:28.548Z"
   },
   {
    "duration": 97,
    "start_time": "2023-04-10T16:45:29.157Z"
   },
   {
    "duration": 25,
    "start_time": "2023-04-10T16:47:04.220Z"
   },
   {
    "duration": 26,
    "start_time": "2023-04-10T16:47:21.764Z"
   },
   {
    "duration": 28,
    "start_time": "2023-04-10T16:47:57.638Z"
   },
   {
    "duration": 7,
    "start_time": "2023-04-10T16:51:29.340Z"
   },
   {
    "duration": 6,
    "start_time": "2023-04-10T16:56:20.172Z"
   },
   {
    "duration": 4,
    "start_time": "2023-04-10T16:56:20.708Z"
   },
   {
    "duration": 7,
    "start_time": "2023-04-10T16:56:21.301Z"
   },
   {
    "duration": 6,
    "start_time": "2023-04-10T16:56:22.381Z"
   },
   {
    "duration": 3,
    "start_time": "2023-04-10T16:56:23.861Z"
   },
   {
    "duration": 13,
    "start_time": "2023-04-10T16:56:24.839Z"
   },
   {
    "duration": 29,
    "start_time": "2023-04-10T16:56:27.557Z"
   },
   {
    "duration": 32,
    "start_time": "2023-04-10T16:57:29.311Z"
   },
   {
    "duration": 36,
    "start_time": "2023-04-10T16:58:00.813Z"
   },
   {
    "duration": 4,
    "start_time": "2023-04-10T16:59:17.390Z"
   },
   {
    "duration": 5,
    "start_time": "2023-04-10T16:59:55.829Z"
   },
   {
    "duration": 7,
    "start_time": "2023-04-10T17:00:22.389Z"
   },
   {
    "duration": 7,
    "start_time": "2023-04-10T17:00:29.469Z"
   },
   {
    "duration": 281,
    "start_time": "2023-04-10T17:03:30.286Z"
   },
   {
    "duration": 37,
    "start_time": "2023-04-10T17:06:24.629Z"
   },
   {
    "duration": 8,
    "start_time": "2023-04-10T17:09:28.567Z"
   },
   {
    "duration": 32,
    "start_time": "2023-04-10T17:12:12.679Z"
   },
   {
    "duration": 6,
    "start_time": "2023-04-10T17:13:34.079Z"
   },
   {
    "duration": 32,
    "start_time": "2023-04-10T17:15:20.199Z"
   },
   {
    "duration": 6,
    "start_time": "2023-04-10T17:15:22.798Z"
   },
   {
    "duration": 10,
    "start_time": "2023-04-10T17:15:23.366Z"
   },
   {
    "duration": 6,
    "start_time": "2023-04-10T17:15:24.207Z"
   },
   {
    "duration": 11,
    "start_time": "2023-04-10T17:23:59.896Z"
   },
   {
    "duration": 158,
    "start_time": "2023-04-10T17:26:11.313Z"
   },
   {
    "duration": 108,
    "start_time": "2023-04-10T17:26:45.000Z"
   },
   {
    "duration": 101,
    "start_time": "2023-04-10T17:41:04.635Z"
   },
   {
    "duration": 7,
    "start_time": "2023-04-10T17:41:33.795Z"
   },
   {
    "duration": 3818,
    "start_time": "2023-04-10T17:47:08.858Z"
   },
   {
    "duration": 4012,
    "start_time": "2023-04-10T17:48:54.450Z"
   },
   {
    "duration": 8,
    "start_time": "2023-04-10T17:49:08.259Z"
   },
   {
    "duration": 15,
    "start_time": "2023-04-10T17:49:44.003Z"
   },
   {
    "duration": 6,
    "start_time": "2023-04-10T17:49:50.314Z"
   },
   {
    "duration": 3,
    "start_time": "2023-04-10T17:50:35.141Z"
   },
   {
    "duration": 47,
    "start_time": "2023-04-10T17:50:35.145Z"
   },
   {
    "duration": 13,
    "start_time": "2023-04-10T17:50:35.194Z"
   },
   {
    "duration": 13,
    "start_time": "2023-04-10T17:50:35.209Z"
   },
   {
    "duration": 13,
    "start_time": "2023-04-10T17:50:35.223Z"
   },
   {
    "duration": 8,
    "start_time": "2023-04-10T17:50:35.237Z"
   },
   {
    "duration": 11,
    "start_time": "2023-04-10T17:50:35.247Z"
   },
   {
    "duration": 12,
    "start_time": "2023-04-10T17:50:35.260Z"
   },
   {
    "duration": 85,
    "start_time": "2023-04-10T17:50:35.274Z"
   },
   {
    "duration": 342,
    "start_time": "2023-04-10T17:50:35.361Z"
   },
   {
    "duration": 4074,
    "start_time": "2023-04-10T17:50:35.705Z"
   },
   {
    "duration": 38,
    "start_time": "2023-04-10T17:50:39.781Z"
   },
   {
    "duration": 10,
    "start_time": "2023-04-10T17:50:39.824Z"
   },
   {
    "duration": 11,
    "start_time": "2023-04-10T17:50:39.848Z"
   },
   {
    "duration": 22,
    "start_time": "2023-04-10T17:50:39.862Z"
   },
   {
    "duration": 7,
    "start_time": "2023-04-10T17:50:39.885Z"
   },
   {
    "duration": 4,
    "start_time": "2023-04-10T17:57:39.084Z"
   },
   {
    "duration": 4,
    "start_time": "2023-04-10T17:59:22.331Z"
   },
   {
    "duration": 9,
    "start_time": "2023-04-10T18:14:33.710Z"
   },
   {
    "duration": 5,
    "start_time": "2023-04-10T18:14:45.134Z"
   },
   {
    "duration": 8,
    "start_time": "2023-04-10T18:17:47.166Z"
   },
   {
    "duration": 13,
    "start_time": "2023-04-10T18:20:48.646Z"
   },
   {
    "duration": 14,
    "start_time": "2023-04-10T18:21:06.910Z"
   },
   {
    "duration": 6,
    "start_time": "2023-04-10T18:21:24.071Z"
   },
   {
    "duration": 10,
    "start_time": "2023-04-10T18:21:38.436Z"
   },
   {
    "duration": 7,
    "start_time": "2023-04-10T18:22:33.574Z"
   },
   {
    "duration": 7,
    "start_time": "2023-04-10T18:26:34.320Z"
   },
   {
    "duration": 4,
    "start_time": "2023-04-10T18:27:02.970Z"
   },
   {
    "duration": 56,
    "start_time": "2023-04-10T18:27:02.976Z"
   },
   {
    "duration": 13,
    "start_time": "2023-04-10T18:27:03.034Z"
   },
   {
    "duration": 35,
    "start_time": "2023-04-10T18:27:03.048Z"
   },
   {
    "duration": 14,
    "start_time": "2023-04-10T18:27:03.087Z"
   },
   {
    "duration": 22,
    "start_time": "2023-04-10T18:27:03.102Z"
   },
   {
    "duration": 7,
    "start_time": "2023-04-10T18:27:03.126Z"
   },
   {
    "duration": 37,
    "start_time": "2023-04-10T18:27:03.135Z"
   },
   {
    "duration": 9,
    "start_time": "2023-04-10T18:27:03.174Z"
   },
   {
    "duration": 11,
    "start_time": "2023-04-10T18:27:03.184Z"
   },
   {
    "duration": 98,
    "start_time": "2023-04-10T18:27:03.196Z"
   },
   {
    "duration": 341,
    "start_time": "2023-04-10T18:27:03.296Z"
   },
   {
    "duration": 4410,
    "start_time": "2023-04-10T18:27:03.638Z"
   },
   {
    "duration": 38,
    "start_time": "2023-04-10T18:27:08.051Z"
   },
   {
    "duration": 6,
    "start_time": "2023-04-10T18:27:08.093Z"
   },
   {
    "duration": 17,
    "start_time": "2023-04-10T18:27:08.100Z"
   },
   {
    "duration": 40,
    "start_time": "2023-04-10T18:27:08.119Z"
   },
   {
    "duration": 29,
    "start_time": "2023-04-10T18:27:08.164Z"
   },
   {
    "duration": 6,
    "start_time": "2023-04-10T18:27:08.195Z"
   },
   {
    "duration": 352,
    "start_time": "2023-04-10T18:31:59.261Z"
   },
   {
    "duration": 330,
    "start_time": "2023-04-10T18:32:36.011Z"
   },
   {
    "duration": 9,
    "start_time": "2023-04-10T18:32:57.920Z"
   },
   {
    "duration": 14,
    "start_time": "2023-04-10T18:33:07.071Z"
   },
   {
    "duration": 6,
    "start_time": "2023-04-10T18:33:11.232Z"
   },
   {
    "duration": 6,
    "start_time": "2023-04-10T18:33:37.407Z"
   },
   {
    "duration": 4,
    "start_time": "2023-04-10T18:34:56.425Z"
   },
   {
    "duration": 3,
    "start_time": "2023-04-10T18:42:37.185Z"
   },
   {
    "duration": 5,
    "start_time": "2023-04-10T18:42:37.728Z"
   },
   {
    "duration": 9,
    "start_time": "2023-04-10T18:42:38.216Z"
   },
   {
    "duration": 8,
    "start_time": "2023-04-10T18:42:39.321Z"
   },
   {
    "duration": 6,
    "start_time": "2023-04-10T18:43:40.288Z"
   },
   {
    "duration": 3,
    "start_time": "2023-04-10T18:43:42.795Z"
   },
   {
    "duration": 40,
    "start_time": "2023-04-10T18:47:21.363Z"
   },
   {
    "duration": 3,
    "start_time": "2023-04-10T18:47:34.510Z"
   },
   {
    "duration": 51,
    "start_time": "2023-04-10T18:47:34.515Z"
   },
   {
    "duration": 11,
    "start_time": "2023-04-10T18:47:34.568Z"
   },
   {
    "duration": 9,
    "start_time": "2023-04-10T18:47:34.581Z"
   },
   {
    "duration": 9,
    "start_time": "2023-04-10T18:47:34.592Z"
   },
   {
    "duration": 13,
    "start_time": "2023-04-10T18:47:34.603Z"
   },
   {
    "duration": 5,
    "start_time": "2023-04-10T18:47:34.618Z"
   },
   {
    "duration": 25,
    "start_time": "2023-04-10T18:47:34.625Z"
   },
   {
    "duration": 10,
    "start_time": "2023-04-10T18:47:34.652Z"
   },
   {
    "duration": 7,
    "start_time": "2023-04-10T18:47:34.663Z"
   },
   {
    "duration": 92,
    "start_time": "2023-04-10T18:47:34.672Z"
   },
   {
    "duration": 371,
    "start_time": "2023-04-10T18:47:34.766Z"
   },
   {
    "duration": 4019,
    "start_time": "2023-04-10T18:47:35.138Z"
   },
   {
    "duration": 41,
    "start_time": "2023-04-10T18:47:39.159Z"
   },
   {
    "duration": 5,
    "start_time": "2023-04-10T18:47:39.201Z"
   },
   {
    "duration": 7,
    "start_time": "2023-04-10T18:47:39.208Z"
   },
   {
    "duration": 36,
    "start_time": "2023-04-10T18:47:39.217Z"
   },
   {
    "duration": 15,
    "start_time": "2023-04-10T18:47:39.254Z"
   },
   {
    "duration": 8,
    "start_time": "2023-04-10T18:47:39.270Z"
   },
   {
    "duration": 97,
    "start_time": "2023-04-10T18:50:15.714Z"
   },
   {
    "duration": 33,
    "start_time": "2023-04-10T18:53:51.786Z"
   },
   {
    "duration": 4,
    "start_time": "2023-04-10T18:53:58.377Z"
   },
   {
    "duration": 7,
    "start_time": "2023-04-10T18:53:58.610Z"
   },
   {
    "duration": 8,
    "start_time": "2023-04-10T18:53:58.833Z"
   },
   {
    "duration": 13,
    "start_time": "2023-04-10T18:53:59.057Z"
   },
   {
    "duration": 7,
    "start_time": "2023-04-10T18:53:59.465Z"
   },
   {
    "duration": 296,
    "start_time": "2023-04-10T18:54:12.114Z"
   },
   {
    "duration": 3900,
    "start_time": "2023-04-10T18:54:35.825Z"
   },
   {
    "duration": 3796,
    "start_time": "2023-04-10T18:54:48.354Z"
   },
   {
    "duration": 30,
    "start_time": "2023-04-10T18:54:54.322Z"
   },
   {
    "duration": 3,
    "start_time": "2023-04-10T18:54:55.642Z"
   },
   {
    "duration": 5,
    "start_time": "2023-04-10T18:54:56.442Z"
   },
   {
    "duration": 8,
    "start_time": "2023-04-10T18:54:57.338Z"
   },
   {
    "duration": 14,
    "start_time": "2023-04-10T18:54:58.281Z"
   },
   {
    "duration": 9,
    "start_time": "2023-04-10T18:57:29.232Z"
   },
   {
    "duration": 8,
    "start_time": "2023-04-10T18:57:30.307Z"
   },
   {
    "duration": 15,
    "start_time": "2023-04-10T18:57:31.050Z"
   },
   {
    "duration": 5,
    "start_time": "2023-04-10T18:57:31.875Z"
   },
   {
    "duration": 1010,
    "start_time": "2023-04-11T09:45:22.830Z"
   },
   {
    "duration": 121,
    "start_time": "2023-04-11T09:45:23.842Z"
   },
   {
    "duration": 9,
    "start_time": "2023-04-11T09:45:23.964Z"
   },
   {
    "duration": 8,
    "start_time": "2023-04-11T09:45:23.975Z"
   },
   {
    "duration": 19,
    "start_time": "2023-04-11T09:45:23.984Z"
   },
   {
    "duration": 13,
    "start_time": "2023-04-11T09:45:24.004Z"
   },
   {
    "duration": 4,
    "start_time": "2023-04-11T09:45:24.383Z"
   },
   {
    "duration": 4,
    "start_time": "2023-04-11T09:45:24.557Z"
   },
   {
    "duration": 4,
    "start_time": "2023-04-11T09:45:24.731Z"
   },
   {
    "duration": 2,
    "start_time": "2023-04-11T09:45:24.885Z"
   },
   {
    "duration": 77,
    "start_time": "2023-04-11T09:45:26.493Z"
   },
   {
    "duration": 3,
    "start_time": "2023-04-11T09:45:54.629Z"
   },
   {
    "duration": 66,
    "start_time": "2023-04-11T09:52:38.574Z"
   },
   {
    "duration": 263,
    "start_time": "2023-04-11T09:52:40.896Z"
   },
   {
    "duration": 244,
    "start_time": "2023-04-11T09:52:59.430Z"
   },
   {
    "duration": 3473,
    "start_time": "2023-04-11T09:53:03.634Z"
   },
   {
    "duration": 40,
    "start_time": "2023-04-11T09:53:07.109Z"
   },
   {
    "duration": 7,
    "start_time": "2023-04-11T09:57:34.007Z"
   },
   {
    "duration": 80,
    "start_time": "2023-04-11T09:58:37.639Z"
   },
   {
    "duration": 68,
    "start_time": "2023-04-11T09:59:34.280Z"
   },
   {
    "duration": 281,
    "start_time": "2023-04-11T10:02:52.832Z"
   },
   {
    "duration": 3655,
    "start_time": "2023-04-11T10:06:37.185Z"
   },
   {
    "duration": 135,
    "start_time": "2023-04-11T10:09:03.530Z"
   },
   {
    "duration": 52,
    "start_time": "2023-04-11T10:09:52.014Z"
   },
   {
    "duration": 44,
    "start_time": "2023-04-11T10:10:02.790Z"
   },
   {
    "duration": 14,
    "start_time": "2023-04-11T10:11:00.947Z"
   },
   {
    "duration": 32,
    "start_time": "2023-04-11T10:11:51.113Z"
   },
   {
    "duration": 288,
    "start_time": "2023-04-11T10:12:44.509Z"
   },
   {
    "duration": 28,
    "start_time": "2023-04-11T10:14:24.705Z"
   },
   {
    "duration": 38,
    "start_time": "2023-04-11T10:14:53.851Z"
   },
   {
    "duration": 35,
    "start_time": "2023-04-11T10:19:58.931Z"
   },
   {
    "duration": 313,
    "start_time": "2023-04-11T10:20:21.652Z"
   },
   {
    "duration": 40,
    "start_time": "2023-04-11T10:21:20.547Z"
   },
   {
    "duration": 59,
    "start_time": "2023-04-11T10:21:49.956Z"
   },
   {
    "duration": 387,
    "start_time": "2023-04-11T10:24:21.843Z"
   },
   {
    "duration": 55,
    "start_time": "2023-04-11T10:25:20.972Z"
   },
   {
    "duration": 9,
    "start_time": "2023-04-11T10:34:30.932Z"
   },
   {
    "duration": 12,
    "start_time": "2023-04-11T10:34:58.749Z"
   },
   {
    "duration": 19,
    "start_time": "2023-04-11T10:35:10.813Z"
   },
   {
    "duration": 6,
    "start_time": "2023-04-11T10:35:20.757Z"
   },
   {
    "duration": 11,
    "start_time": "2023-04-11T10:38:38.222Z"
   },
   {
    "duration": 9,
    "start_time": "2023-04-11T10:39:25.747Z"
   },
   {
    "duration": 12,
    "start_time": "2023-04-11T10:40:50.216Z"
   },
   {
    "duration": 65,
    "start_time": "2023-04-11T10:46:17.575Z"
   },
   {
    "duration": 152,
    "start_time": "2023-04-11T10:46:23.253Z"
   },
   {
    "duration": 380,
    "start_time": "2023-04-11T10:46:52.598Z"
   },
   {
    "duration": 4510,
    "start_time": "2023-04-11T10:47:03.030Z"
   },
   {
    "duration": 91,
    "start_time": "2023-04-11T10:47:54.372Z"
   },
   {
    "duration": 105,
    "start_time": "2023-04-11T11:08:02.622Z"
   },
   {
    "duration": 305,
    "start_time": "2023-04-11T11:08:06.696Z"
   },
   {
    "duration": 3,
    "start_time": "2023-04-11T11:09:28.232Z"
   },
   {
    "duration": 99,
    "start_time": "2023-04-11T11:09:34.328Z"
   },
   {
    "duration": 356,
    "start_time": "2023-04-11T11:09:37.087Z"
   },
   {
    "duration": 4004,
    "start_time": "2023-04-11T11:09:44.345Z"
   },
   {
    "duration": 55,
    "start_time": "2023-04-11T11:09:52.602Z"
   },
   {
    "duration": 100,
    "start_time": "2023-04-11T11:10:06.656Z"
   },
   {
    "duration": 301,
    "start_time": "2023-04-11T11:10:11.840Z"
   },
   {
    "duration": 3943,
    "start_time": "2023-04-11T11:10:18.478Z"
   },
   {
    "duration": 106,
    "start_time": "2023-04-11T11:14:33.700Z"
   },
   {
    "duration": 94,
    "start_time": "2023-04-11T11:16:35.307Z"
   },
   {
    "duration": 348,
    "start_time": "2023-04-11T11:16:36.450Z"
   },
   {
    "duration": 3884,
    "start_time": "2023-04-11T11:16:41.197Z"
   },
   {
    "duration": 67,
    "start_time": "2023-04-11T11:16:46.387Z"
   },
   {
    "duration": 2,
    "start_time": "2023-04-11T11:47:35.431Z"
   },
   {
    "duration": 3,
    "start_time": "2023-04-11T11:58:16.864Z"
   },
   {
    "duration": 3,
    "start_time": "2023-04-11T12:00:06.417Z"
   },
   {
    "duration": 5,
    "start_time": "2023-04-11T12:00:07.856Z"
   },
   {
    "duration": 12,
    "start_time": "2023-04-11T12:11:41.009Z"
   },
   {
    "duration": 4,
    "start_time": "2023-04-11T12:11:49.913Z"
   },
   {
    "duration": 6,
    "start_time": "2023-04-11T12:11:57.802Z"
   },
   {
    "duration": 12,
    "start_time": "2023-04-11T12:12:20.707Z"
   },
   {
    "duration": 14,
    "start_time": "2023-04-11T12:14:13.038Z"
   },
   {
    "duration": 10,
    "start_time": "2023-04-11T12:16:33.851Z"
   },
   {
    "duration": 94,
    "start_time": "2023-04-11T12:17:52.989Z"
   },
   {
    "duration": 14,
    "start_time": "2023-04-11T12:18:32.655Z"
   },
   {
    "duration": 14,
    "start_time": "2023-04-11T12:18:55.502Z"
   },
   {
    "duration": 4,
    "start_time": "2023-04-11T12:20:19.242Z"
   },
   {
    "duration": 15,
    "start_time": "2023-04-11T12:20:19.910Z"
   },
   {
    "duration": 17,
    "start_time": "2023-04-11T12:20:43.694Z"
   },
   {
    "duration": 4,
    "start_time": "2023-04-11T12:23:13.724Z"
   },
   {
    "duration": 4,
    "start_time": "2023-04-11T12:23:39.998Z"
   },
   {
    "duration": 4,
    "start_time": "2023-04-11T12:23:46.812Z"
   },
   {
    "duration": 715,
    "start_time": "2023-04-11T12:25:06.867Z"
   },
   {
    "duration": 385,
    "start_time": "2023-04-11T12:26:57.078Z"
   },
   {
    "duration": 129,
    "start_time": "2023-04-11T12:27:02.294Z"
   },
   {
    "duration": 158,
    "start_time": "2023-04-11T12:27:28.964Z"
   },
   {
    "duration": 25,
    "start_time": "2023-04-11T12:27:59.398Z"
   },
   {
    "duration": 53,
    "start_time": "2023-04-11T12:28:44.759Z"
   },
   {
    "duration": 24,
    "start_time": "2023-04-11T12:29:13.365Z"
   },
   {
    "duration": 19,
    "start_time": "2023-04-11T12:29:37.211Z"
   },
   {
    "duration": 542,
    "start_time": "2023-04-11T12:29:55.860Z"
   },
   {
    "duration": 597,
    "start_time": "2023-04-11T12:30:19.820Z"
   },
   {
    "duration": 830,
    "start_time": "2023-04-11T12:30:51.304Z"
   },
   {
    "duration": 144,
    "start_time": "2023-04-11T12:31:29.394Z"
   },
   {
    "duration": 136,
    "start_time": "2023-04-11T12:32:40.906Z"
   },
   {
    "duration": 1103,
    "start_time": "2023-04-11T12:34:49.205Z"
   },
   {
    "duration": 33,
    "start_time": "2023-04-11T12:34:50.311Z"
   },
   {
    "duration": 57,
    "start_time": "2023-04-11T12:34:50.345Z"
   },
   {
    "duration": 12,
    "start_time": "2023-04-11T12:34:50.404Z"
   },
   {
    "duration": 6,
    "start_time": "2023-04-11T12:34:50.417Z"
   },
   {
    "duration": 15,
    "start_time": "2023-04-11T12:34:50.425Z"
   },
   {
    "duration": 18,
    "start_time": "2023-04-11T12:34:50.442Z"
   },
   {
    "duration": 9,
    "start_time": "2023-04-11T12:34:50.461Z"
   },
   {
    "duration": 9,
    "start_time": "2023-04-11T12:34:50.481Z"
   },
   {
    "duration": 15,
    "start_time": "2023-04-11T12:34:50.496Z"
   },
   {
    "duration": 12,
    "start_time": "2023-04-11T12:34:50.513Z"
   },
   {
    "duration": 8,
    "start_time": "2023-04-11T12:34:50.526Z"
   },
   {
    "duration": 112,
    "start_time": "2023-04-11T12:34:50.535Z"
   },
   {
    "duration": 124,
    "start_time": "2023-04-11T12:34:50.649Z"
   },
   {
    "duration": 0,
    "start_time": "2023-04-11T12:34:50.774Z"
   },
   {
    "duration": 0,
    "start_time": "2023-04-11T12:34:50.776Z"
   },
   {
    "duration": 0,
    "start_time": "2023-04-11T12:34:50.777Z"
   },
   {
    "duration": 0,
    "start_time": "2023-04-11T12:34:50.778Z"
   },
   {
    "duration": 0,
    "start_time": "2023-04-11T12:34:50.779Z"
   },
   {
    "duration": 0,
    "start_time": "2023-04-11T12:34:50.780Z"
   },
   {
    "duration": 337,
    "start_time": "2023-04-11T12:35:52.356Z"
   },
   {
    "duration": 4290,
    "start_time": "2023-04-11T12:35:56.732Z"
   },
   {
    "duration": 60,
    "start_time": "2023-04-11T12:36:02.110Z"
   },
   {
    "duration": 6,
    "start_time": "2023-04-11T12:36:04.444Z"
   },
   {
    "duration": 27,
    "start_time": "2023-04-11T12:36:05.268Z"
   },
   {
    "duration": 13,
    "start_time": "2023-04-11T12:36:05.717Z"
   },
   {
    "duration": 7,
    "start_time": "2023-04-11T12:36:06.316Z"
   },
   {
    "duration": 2338,
    "start_time": "2023-04-11T14:23:40.280Z"
   },
   {
    "duration": 53,
    "start_time": "2023-04-11T14:23:42.620Z"
   },
   {
    "duration": 46,
    "start_time": "2023-04-11T14:23:42.675Z"
   },
   {
    "duration": 13,
    "start_time": "2023-04-11T14:23:42.723Z"
   },
   {
    "duration": 16,
    "start_time": "2023-04-11T14:23:42.737Z"
   },
   {
    "duration": 14,
    "start_time": "2023-04-11T14:23:42.755Z"
   },
   {
    "duration": 23,
    "start_time": "2023-04-11T14:23:42.771Z"
   },
   {
    "duration": 12,
    "start_time": "2023-04-11T14:23:42.796Z"
   },
   {
    "duration": 23,
    "start_time": "2023-04-11T14:23:42.809Z"
   },
   {
    "duration": 8,
    "start_time": "2023-04-11T14:23:42.836Z"
   },
   {
    "duration": 9,
    "start_time": "2023-04-11T14:23:42.846Z"
   },
   {
    "duration": 8,
    "start_time": "2023-04-11T14:23:42.857Z"
   },
   {
    "duration": 172,
    "start_time": "2023-04-11T14:23:42.867Z"
   },
   {
    "duration": 384,
    "start_time": "2023-04-11T14:23:43.041Z"
   },
   {
    "duration": 4307,
    "start_time": "2023-04-11T14:23:43.434Z"
   },
   {
    "duration": 100,
    "start_time": "2023-04-11T14:23:47.743Z"
   },
   {
    "duration": 7,
    "start_time": "2023-04-11T14:23:47.844Z"
   },
   {
    "duration": 18,
    "start_time": "2023-04-11T14:23:47.853Z"
   },
   {
    "duration": 28,
    "start_time": "2023-04-11T14:23:47.873Z"
   },
   {
    "duration": 6,
    "start_time": "2023-04-11T14:23:47.903Z"
   },
   {
    "duration": 39,
    "start_time": "2023-04-11T15:49:12.859Z"
   },
   {
    "duration": 1081,
    "start_time": "2023-04-11T15:49:15.035Z"
   },
   {
    "duration": 3,
    "start_time": "2023-04-11T15:49:20.467Z"
   },
   {
    "duration": 130,
    "start_time": "2023-04-11T15:49:22.152Z"
   },
   {
    "duration": 10,
    "start_time": "2023-04-11T15:49:22.707Z"
   },
   {
    "duration": 6,
    "start_time": "2023-04-11T15:49:23.122Z"
   },
   {
    "duration": 5,
    "start_time": "2023-04-11T15:49:23.418Z"
   },
   {
    "duration": 17,
    "start_time": "2023-04-11T15:49:23.819Z"
   },
   {
    "duration": 10,
    "start_time": "2023-04-11T15:49:24.171Z"
   },
   {
    "duration": 4,
    "start_time": "2023-04-11T15:49:28.314Z"
   },
   {
    "duration": 6,
    "start_time": "2023-04-11T15:49:28.882Z"
   },
   {
    "duration": 5,
    "start_time": "2023-04-11T15:49:29.378Z"
   },
   {
    "duration": 4,
    "start_time": "2023-04-11T15:49:30.531Z"
   },
   {
    "duration": 81,
    "start_time": "2023-04-11T15:49:34.090Z"
   },
   {
    "duration": 276,
    "start_time": "2023-04-11T15:50:08.371Z"
   },
   {
    "duration": 3531,
    "start_time": "2023-04-11T15:50:08.899Z"
   },
   {
    "duration": 64,
    "start_time": "2023-04-11T15:50:12.434Z"
   },
   {
    "duration": 6,
    "start_time": "2023-04-11T15:50:15.538Z"
   },
   {
    "duration": 9,
    "start_time": "2023-04-11T15:50:16.114Z"
   },
   {
    "duration": 15,
    "start_time": "2023-04-11T15:50:16.442Z"
   },
   {
    "duration": 7,
    "start_time": "2023-04-11T15:50:16.682Z"
   },
   {
    "duration": 4,
    "start_time": "2023-04-11T16:26:53.063Z"
   },
   {
    "duration": 5,
    "start_time": "2023-04-11T16:26:53.408Z"
   },
   {
    "duration": 5,
    "start_time": "2023-04-11T16:26:53.582Z"
   },
   {
    "duration": 3,
    "start_time": "2023-04-11T16:26:53.915Z"
   },
   {
    "duration": 90,
    "start_time": "2023-04-11T16:26:54.971Z"
   },
   {
    "duration": 408,
    "start_time": "2023-04-11T16:26:55.122Z"
   },
   {
    "duration": 3914,
    "start_time": "2023-04-11T16:26:55.535Z"
   },
   {
    "duration": 88,
    "start_time": "2023-04-11T16:26:59.451Z"
   },
   {
    "duration": 5,
    "start_time": "2023-04-11T16:26:59.541Z"
   },
   {
    "duration": 21,
    "start_time": "2023-04-11T16:26:59.548Z"
   },
   {
    "duration": 15,
    "start_time": "2023-04-11T16:26:59.570Z"
   },
   {
    "duration": 17,
    "start_time": "2023-04-11T16:26:59.586Z"
   }
  ],
  "kernelspec": {
   "display_name": "Python 3",
   "language": "python",
   "name": "python3"
  },
  "language_info": {
   "codemirror_mode": {
    "name": "ipython",
    "version": 3
   },
   "file_extension": ".py",
   "mimetype": "text/x-python",
   "name": "python",
   "nbconvert_exporter": "python",
   "pygments_lexer": "ipython3",
   "version": "3.8.5"
  },
  "toc": {
   "base_numbering": 1,
   "nav_menu": {},
   "number_sections": true,
   "sideBar": true,
   "skip_h1_title": true,
   "title_cell": "Table of Contents",
   "title_sidebar": "Contents",
   "toc_cell": false,
   "toc_position": {},
   "toc_section_display": true,
   "toc_window_display": true
  }
 },
 "nbformat": 4,
 "nbformat_minor": 2
}
