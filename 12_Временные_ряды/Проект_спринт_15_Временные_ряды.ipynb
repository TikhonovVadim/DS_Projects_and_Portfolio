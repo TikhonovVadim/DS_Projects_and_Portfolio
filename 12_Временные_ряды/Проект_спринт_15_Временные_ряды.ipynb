{
 "cells": [
  {
   "cell_type": "markdown",
   "metadata": {},
   "source": [
    "# Проект - Прогнозирование заказов такси (Временные ряды)"
   ]
  },
  {
   "cell_type": "markdown",
   "metadata": {},
   "source": [
    "# Описание проекта\n",
    "\n",
    "Компания «Чётенькое такси» собрала исторические данные о заказах такси в аэропортах. Чтобы привлекать больше водителей в период пиковой нагрузки, нужно спрогнозировать количество заказов такси на следующий час. Постройте модель для такого предсказания.\n",
    "\n",
    "Значение метрики *RMSE* на тестовой выборке должно быть не больше 48.\n",
    "\n",
    "Вам нужно:\n",
    "\n",
    "1. Загрузить данные и выполнить их ресемплирование по одному часу.\n",
    "2. Проанализировать данные.\n",
    "3. Обучить разные модели с различными гиперпараметрами. Сделать тестовую выборку размером 10% от исходных данных.\n",
    "4. Проверить данные на тестовой выборке и сделать выводы."
   ]
  },
  {
   "cell_type": "markdown",
   "metadata": {},
   "source": [
    "# Описание данных\n",
    "- datetime\n",
    "- num_orders (от англ. number of orders, «число заказов»)."
   ]
  },
  {
   "cell_type": "markdown",
   "metadata": {},
   "source": [
    "## Подготовка"
   ]
  },
  {
   "cell_type": "code",
   "execution_count": 1,
   "metadata": {},
   "outputs": [],
   "source": [
    "# загрузка необходимых библиотек\n",
    "import pandas as pd\n",
    "import numpy as np\n",
    "import matplotlib.pyplot as plt\n",
    "import seaborn as sns\n",
    "from statsmodels.tsa.seasonal import seasonal_decompose\n",
    "\n",
    "from sklearn.model_selection import train_test_split\n",
    "from sklearn.preprocessing import StandardScaler \n",
    "from sklearn.linear_model import LinearRegression\n",
    "from sklearn.metrics import mean_squared_error\n",
    "\n",
    "from IPython.core.display import display, HTML\n",
    "#display(HTML(\"<style>.container { width:90% !important; }</style>\"))\n",
    "pd.set_option('max_columns', None) # показывать все столбцы df\n",
    "pd.set_option('max_rows', None) # показывать все строки df\n",
    "pd.options.display.float_format = '{:,.2f}'.format  # округление чисел до 2 знаков после точки\n",
    "\n",
    "from sklearn.ensemble import RandomForestRegressor\n",
    "from sklearn.model_selection import GridSearchCV "
   ]
  },
  {
   "cell_type": "code",
   "execution_count": 2,
   "metadata": {
    "scrolled": true
   },
   "outputs": [
    {
     "data": {
      "text/html": [
       "<div>\n",
       "<style scoped>\n",
       "    .dataframe tbody tr th:only-of-type {\n",
       "        vertical-align: middle;\n",
       "    }\n",
       "\n",
       "    .dataframe tbody tr th {\n",
       "        vertical-align: top;\n",
       "    }\n",
       "\n",
       "    .dataframe thead th {\n",
       "        text-align: right;\n",
       "    }\n",
       "</style>\n",
       "<table border=\"1\" class=\"dataframe\">\n",
       "  <thead>\n",
       "    <tr style=\"text-align: right;\">\n",
       "      <th></th>\n",
       "      <th>num_orders</th>\n",
       "    </tr>\n",
       "    <tr>\n",
       "      <th>datetime</th>\n",
       "      <th></th>\n",
       "    </tr>\n",
       "  </thead>\n",
       "  <tbody>\n",
       "    <tr>\n",
       "      <th>2018-03-01 00:00:00</th>\n",
       "      <td>9</td>\n",
       "    </tr>\n",
       "    <tr>\n",
       "      <th>2018-03-01 00:10:00</th>\n",
       "      <td>14</td>\n",
       "    </tr>\n",
       "    <tr>\n",
       "      <th>2018-03-01 00:20:00</th>\n",
       "      <td>28</td>\n",
       "    </tr>\n",
       "    <tr>\n",
       "      <th>2018-03-01 00:30:00</th>\n",
       "      <td>20</td>\n",
       "    </tr>\n",
       "    <tr>\n",
       "      <th>2018-03-01 00:40:00</th>\n",
       "      <td>32</td>\n",
       "    </tr>\n",
       "  </tbody>\n",
       "</table>\n",
       "</div>"
      ],
      "text/plain": [
       "                     num_orders\n",
       "datetime                       \n",
       "2018-03-01 00:00:00           9\n",
       "2018-03-01 00:10:00          14\n",
       "2018-03-01 00:20:00          28\n",
       "2018-03-01 00:30:00          20\n",
       "2018-03-01 00:40:00          32"
      ]
     },
     "execution_count": 2,
     "metadata": {},
     "output_type": "execute_result"
    }
   ],
   "source": [
    "# загрузка данных\n",
    "try:\n",
    "    data = pd.read_csv('/datasets/taxi.csv', index_col=[0], parse_dates=[0])\n",
    "except:\n",
    "    data = pd.read_csv('taxi.csv', index_col=['datetime'], parse_date=['datetime'])\n",
    "data.head()"
   ]
  },
  {
   "cell_type": "code",
   "execution_count": 3,
   "metadata": {
    "scrolled": true
   },
   "outputs": [
    {
     "name": "stdout",
     "output_type": "stream",
     "text": [
      "<class 'pandas.core.frame.DataFrame'>\n",
      "DatetimeIndex: 26496 entries, 2018-03-01 00:00:00 to 2018-08-31 23:50:00\n",
      "Data columns (total 1 columns):\n",
      " #   Column      Non-Null Count  Dtype\n",
      "---  ------      --------------  -----\n",
      " 0   num_orders  26496 non-null  int64\n",
      "dtypes: int64(1)\n",
      "memory usage: 414.0 KB\n"
     ]
    }
   ],
   "source": [
    "# вывод данных по df\n",
    "data.info()"
   ]
  },
  {
   "cell_type": "code",
   "execution_count": 4,
   "metadata": {},
   "outputs": [
    {
     "data": {
      "text/plain": [
       "num_orders    0\n",
       "dtype: int64"
      ]
     },
     "execution_count": 4,
     "metadata": {},
     "output_type": "execute_result"
    }
   ],
   "source": [
    "data.isna().sum()"
   ]
  },
  {
   "cell_type": "code",
   "execution_count": 5,
   "metadata": {},
   "outputs": [
    {
     "data": {
      "text/plain": [
       "0"
      ]
     },
     "execution_count": 5,
     "metadata": {},
     "output_type": "execute_result"
    }
   ],
   "source": [
    "data.index.isna().sum()"
   ]
  },
  {
   "cell_type": "code",
   "execution_count": 6,
   "metadata": {},
   "outputs": [
    {
     "data": {
      "text/plain": [
       "0"
      ]
     },
     "execution_count": 6,
     "metadata": {},
     "output_type": "execute_result"
    }
   ],
   "source": [
    "data.index.duplicated().sum()"
   ]
  },
  {
   "cell_type": "code",
   "execution_count": 7,
   "metadata": {},
   "outputs": [
    {
     "data": {
      "text/plain": [
       "True"
      ]
     },
     "execution_count": 7,
     "metadata": {},
     "output_type": "execute_result"
    }
   ],
   "source": [
    "# проверка что даты идут в хронологическом порядке\n",
    "data.index.is_monotonic"
   ]
  },
  {
   "cell_type": "code",
   "execution_count": 8,
   "metadata": {},
   "outputs": [
    {
     "data": {
      "text/html": [
       "<div>\n",
       "<style scoped>\n",
       "    .dataframe tbody tr th:only-of-type {\n",
       "        vertical-align: middle;\n",
       "    }\n",
       "\n",
       "    .dataframe tbody tr th {\n",
       "        vertical-align: top;\n",
       "    }\n",
       "\n",
       "    .dataframe thead th {\n",
       "        text-align: right;\n",
       "    }\n",
       "</style>\n",
       "<table border=\"1\" class=\"dataframe\">\n",
       "  <thead>\n",
       "    <tr style=\"text-align: right;\">\n",
       "      <th></th>\n",
       "      <th>num_orders</th>\n",
       "    </tr>\n",
       "  </thead>\n",
       "  <tbody>\n",
       "    <tr>\n",
       "      <th>count</th>\n",
       "      <td>26,496.00</td>\n",
       "    </tr>\n",
       "    <tr>\n",
       "      <th>mean</th>\n",
       "      <td>14.07</td>\n",
       "    </tr>\n",
       "    <tr>\n",
       "      <th>std</th>\n",
       "      <td>9.21</td>\n",
       "    </tr>\n",
       "    <tr>\n",
       "      <th>min</th>\n",
       "      <td>0.00</td>\n",
       "    </tr>\n",
       "    <tr>\n",
       "      <th>25%</th>\n",
       "      <td>8.00</td>\n",
       "    </tr>\n",
       "    <tr>\n",
       "      <th>50%</th>\n",
       "      <td>13.00</td>\n",
       "    </tr>\n",
       "    <tr>\n",
       "      <th>75%</th>\n",
       "      <td>19.00</td>\n",
       "    </tr>\n",
       "    <tr>\n",
       "      <th>max</th>\n",
       "      <td>119.00</td>\n",
       "    </tr>\n",
       "  </tbody>\n",
       "</table>\n",
       "</div>"
      ],
      "text/plain": [
       "       num_orders\n",
       "count   26,496.00\n",
       "mean        14.07\n",
       "std          9.21\n",
       "min          0.00\n",
       "25%          8.00\n",
       "50%         13.00\n",
       "75%         19.00\n",
       "max        119.00"
      ]
     },
     "execution_count": 8,
     "metadata": {},
     "output_type": "execute_result"
    }
   ],
   "source": [
    "data.describe()"
   ]
  },
  {
   "cell_type": "code",
   "execution_count": 9,
   "metadata": {},
   "outputs": [
    {
     "data": {
      "text/html": [
       "<div>\n",
       "<style scoped>\n",
       "    .dataframe tbody tr th:only-of-type {\n",
       "        vertical-align: middle;\n",
       "    }\n",
       "\n",
       "    .dataframe tbody tr th {\n",
       "        vertical-align: top;\n",
       "    }\n",
       "\n",
       "    .dataframe thead th {\n",
       "        text-align: right;\n",
       "    }\n",
       "</style>\n",
       "<table border=\"1\" class=\"dataframe\">\n",
       "  <thead>\n",
       "    <tr style=\"text-align: right;\">\n",
       "      <th></th>\n",
       "      <th>num_orders</th>\n",
       "    </tr>\n",
       "    <tr>\n",
       "      <th>datetime</th>\n",
       "      <th></th>\n",
       "    </tr>\n",
       "  </thead>\n",
       "  <tbody>\n",
       "    <tr>\n",
       "      <th>2018-03-01 00:00:00</th>\n",
       "      <td>124</td>\n",
       "    </tr>\n",
       "    <tr>\n",
       "      <th>2018-03-01 01:00:00</th>\n",
       "      <td>85</td>\n",
       "    </tr>\n",
       "    <tr>\n",
       "      <th>2018-03-01 02:00:00</th>\n",
       "      <td>71</td>\n",
       "    </tr>\n",
       "    <tr>\n",
       "      <th>2018-03-01 03:00:00</th>\n",
       "      <td>66</td>\n",
       "    </tr>\n",
       "    <tr>\n",
       "      <th>2018-03-01 04:00:00</th>\n",
       "      <td>43</td>\n",
       "    </tr>\n",
       "  </tbody>\n",
       "</table>\n",
       "</div>"
      ],
      "text/plain": [
       "                     num_orders\n",
       "datetime                       \n",
       "2018-03-01 00:00:00         124\n",
       "2018-03-01 01:00:00          85\n",
       "2018-03-01 02:00:00          71\n",
       "2018-03-01 03:00:00          66\n",
       "2018-03-01 04:00:00          43"
      ]
     },
     "execution_count": 9,
     "metadata": {},
     "output_type": "execute_result"
    }
   ],
   "source": [
    "# сортировка по индексу (дате) и ресемплирование данных с интервалом в 1 час\n",
    "data.sort_index(inplace=True)\n",
    "data = data.resample('1H').sum()\n",
    "data.head()"
   ]
  },
  {
   "cell_type": "code",
   "execution_count": 10,
   "metadata": {},
   "outputs": [
    {
     "data": {
      "text/html": [
       "<div>\n",
       "<style scoped>\n",
       "    .dataframe tbody tr th:only-of-type {\n",
       "        vertical-align: middle;\n",
       "    }\n",
       "\n",
       "    .dataframe tbody tr th {\n",
       "        vertical-align: top;\n",
       "    }\n",
       "\n",
       "    .dataframe thead th {\n",
       "        text-align: right;\n",
       "    }\n",
       "</style>\n",
       "<table border=\"1\" class=\"dataframe\">\n",
       "  <thead>\n",
       "    <tr style=\"text-align: right;\">\n",
       "      <th></th>\n",
       "      <th>num_orders</th>\n",
       "    </tr>\n",
       "    <tr>\n",
       "      <th>datetime</th>\n",
       "      <th></th>\n",
       "    </tr>\n",
       "  </thead>\n",
       "  <tbody>\n",
       "    <tr>\n",
       "      <th>2018-08-31 19:00:00</th>\n",
       "      <td>136</td>\n",
       "    </tr>\n",
       "    <tr>\n",
       "      <th>2018-08-31 20:00:00</th>\n",
       "      <td>154</td>\n",
       "    </tr>\n",
       "    <tr>\n",
       "      <th>2018-08-31 21:00:00</th>\n",
       "      <td>159</td>\n",
       "    </tr>\n",
       "    <tr>\n",
       "      <th>2018-08-31 22:00:00</th>\n",
       "      <td>223</td>\n",
       "    </tr>\n",
       "    <tr>\n",
       "      <th>2018-08-31 23:00:00</th>\n",
       "      <td>205</td>\n",
       "    </tr>\n",
       "  </tbody>\n",
       "</table>\n",
       "</div>"
      ],
      "text/plain": [
       "                     num_orders\n",
       "datetime                       \n",
       "2018-08-31 19:00:00         136\n",
       "2018-08-31 20:00:00         154\n",
       "2018-08-31 21:00:00         159\n",
       "2018-08-31 22:00:00         223\n",
       "2018-08-31 23:00:00         205"
      ]
     },
     "execution_count": 10,
     "metadata": {},
     "output_type": "execute_result"
    }
   ],
   "source": [
    "data.tail()"
   ]
  },
  {
   "cell_type": "markdown",
   "metadata": {},
   "source": [
    "**Выводы, информация п.1**\n",
    "- данные загруженны, исследованы, сразу колонка datetime переведена в индексы\n",
    "- пропусков, дубликатов - нет\n",
    "- данные отсортированы по дате(индекс) по возрастанию\n",
    "- df готов к анализу и обучению"
   ]
  },
  {
   "cell_type": "markdown",
   "metadata": {},
   "source": [
    "## Анализ"
   ]
  },
  {
   "cell_type": "code",
   "execution_count": 11,
   "metadata": {},
   "outputs": [
    {
     "data": {
      "text/plain": [
       "True"
      ]
     },
     "execution_count": 11,
     "metadata": {},
     "output_type": "execute_result"
    }
   ],
   "source": [
    "data.index.is_monotonic"
   ]
  },
  {
   "cell_type": "code",
   "execution_count": 12,
   "metadata": {},
   "outputs": [],
   "source": [
    "# исследуем Тренд, Сезонность \n",
    "# для этого сделаем ресемплирование на 1 день\n",
    "data_day = data.resample('1D').sum()"
   ]
  },
  {
   "cell_type": "code",
   "execution_count": 13,
   "metadata": {},
   "outputs": [
    {
     "data": {
      "image/png": "[encoded data removed]",
      "text/plain": [
       "<Figure size 1080x720 with 3 Axes>"
      ]
     },
     "metadata": {
      "needs_background": "light"
     },
     "output_type": "display_data"
    }
   ],
   "source": [
    "# построим графики для Тренда, Сезонности, Остатков\n",
    "decomposed = seasonal_decompose(data_day)\n",
    "\n",
    "plt.figure(figsize=(15,10))\n",
    "plt.subplot(311)\n",
    "decomposed.trend.plot(ax=plt.gca(), grid=True, fontsize=16)\n",
    "plt.title('Тренд', fontsize=16)\n",
    "plt.subplot(312)\n",
    "decomposed.seasonal.plot(ax=plt.gca(), grid=True, fontsize=16)\n",
    "plt.title('Сезонность', fontsize=16)\n",
    "plt.subplot(313)\n",
    "decomposed.resid.plot(ax=plt.gca(), grid=True, fontsize=16)\n",
    "plt.title('Остаток', fontsize=16)\n",
    "plt.tight_layout()"
   ]
  },
  {
   "cell_type": "code",
   "execution_count": 14,
   "metadata": {},
   "outputs": [
    {
     "data": {
      "image/png": "[encoded data removed]",
      "text/plain": [
       "<Figure size 792x648 with 4 Axes>"
      ]
     },
     "metadata": {
      "needs_background": "light"
     },
     "output_type": "display_data"
    }
   ],
   "source": [
    "from pylab import rcParams\n",
    "rcParams['figure.figsize'] = 11, 9\n",
    "decomposed.plot()\n",
    "plt.show()"
   ]
  },
  {
   "cell_type": "markdown",
   "metadata": {},
   "source": [
    "**комментарии**\n",
    "из графиков выше:\n",
    "- на всем периоде данных явно виден тренд на повышение заказов;\n",
    "- сезонность, остатки из этих данных не понять: \n",
    "   - сезонность, если смотреть за год - то данных мало - меньше года;\n",
    "   - ниже посмотрим динамику заказов в разрезе месяца/недели и дня"
   ]
  },
  {
   "cell_type": "code",
   "execution_count": 15,
   "metadata": {
    "scrolled": true
   },
   "outputs": [
    {
     "data": {
      "image/png": "[encoded data removed]",
      "text/plain": [
       "<Figure size 1080x216 with 1 Axes>"
      ]
     },
     "metadata": {
      "needs_background": "light"
     },
     "output_type": "display_data"
    }
   ],
   "source": [
    "# график заказов за первые 21 день марта 2018 года\n",
    "# 1.03.2018 - четверг\n",
    "decomposed.seasonal['2018-03-01':'2018-03-21'].plot(figsize=(15,3), grid=True, fontsize=12);"
   ]
  },
  {
   "cell_type": "code",
   "execution_count": 16,
   "metadata": {},
   "outputs": [
    {
     "data": {
      "image/png": "[encoded data removed]",
      "text/plain": [
       "<Figure size 1080x216 with 1 Axes>"
      ]
     },
     "metadata": {
      "needs_background": "light"
     },
     "output_type": "display_data"
    }
   ],
   "source": [
    "# график заказов за первые 21 день мая 2018 года\n",
    "# 1.03.2018 - вторник\n",
    "decomposed.seasonal['2018-05-01':'2018-05-21'].plot(figsize=(15,3), grid=True, fontsize=12);"
   ]
  },
  {
   "cell_type": "code",
   "execution_count": 17,
   "metadata": {},
   "outputs": [
    {
     "data": {
      "image/png": "[encoded data removed]",
      "text/plain": [
       "<Figure size 1080x216 with 1 Axes>"
      ]
     },
     "metadata": {
      "needs_background": "light"
     },
     "output_type": "display_data"
    }
   ],
   "source": [
    "# график заказов за первые 21 день августа 2018 года\n",
    "# 1.08.2018 - среда\n",
    "decomposed.seasonal['2018-08-01':'2018-08-21'].plot(figsize=(15,3), grid=True, fontsize=12);"
   ]
  },
  {
   "cell_type": "code",
   "execution_count": 18,
   "metadata": {},
   "outputs": [
    {
     "data": {
      "image/png": "[encoded data removed]",
      "text/plain": [
       "<Figure size 1080x216 with 1 Axes>"
      ]
     },
     "metadata": {
      "needs_background": "light"
     },
     "output_type": "display_data"
    }
   ],
   "source": [
    "# график заказов 2 марта 2018 года\n",
    "decomposed = seasonal_decompose(data)\n",
    "decomposed.seasonal['2018-03-02':'2018-03-02'].plot(figsize=(15,3), grid=True, fontsize=12);"
   ]
  },
  {
   "cell_type": "code",
   "execution_count": 19,
   "metadata": {},
   "outputs": [
    {
     "data": {
      "image/png": "[encoded data removed]",
      "text/plain": [
       "<Figure size 1080x216 with 1 Axes>"
      ]
     },
     "metadata": {
      "needs_background": "light"
     },
     "output_type": "display_data"
    }
   ],
   "source": [
    "# график заказов 4 мая 2018 года\n",
    "decomposed.seasonal['2018-08-03':'2018-08-03'].plot(figsize=(15,3), grid=True, fontsize=12);"
   ]
  },
  {
   "cell_type": "code",
   "execution_count": 20,
   "metadata": {},
   "outputs": [
    {
     "data": {
      "image/png": "[encoded data removed]",
      "text/plain": [
       "<Figure size 1080x216 with 1 Axes>"
      ]
     },
     "metadata": {
      "needs_background": "light"
     },
     "output_type": "display_data"
    }
   ],
   "source": [
    "# график заказов 3 августа 2018 года\n",
    "decomposed.seasonal['2018-08-03':'2018-08-03'].plot(figsize=(15,3), grid=True, fontsize=12);"
   ]
  },
  {
   "cell_type": "code",
   "execution_count": 21,
   "metadata": {},
   "outputs": [
    {
     "data": {
      "image/png": "[encoded data removed]",
      "text/plain": [
       "<Figure size 1080x432 with 1 Axes>"
      ]
     },
     "metadata": {
      "needs_background": "light"
     },
     "output_type": "display_data"
    }
   ],
   "source": [
    "# построим скользящее среденее за весь период с семплированием в 1 неделю ?\n",
    "data_day['rolling_mean'] = data_day.rolling(7).mean()\n",
    "data_day.plot(figsize=(15,6), grid=True, fontsize=12);"
   ]
  },
  {
   "cell_type": "code",
   "execution_count": 22,
   "metadata": {},
   "outputs": [
    {
     "data": {
      "image/png": "[encoded data removed]",
      "text/plain": [
       "<Figure size 1080x432 with 1 Axes>"
      ]
     },
     "metadata": {
      "needs_background": "light"
     },
     "output_type": "display_data"
    }
   ],
   "source": [
    "# построим скользящее среденее за весь период с семплированием в 1 месяц ?\n",
    "data_day['rolling_mean'] = data_day.rolling(30).mean()\n",
    "data_day.plot(figsize=(15,6), grid=True, fontsize=12);"
   ]
  },
  {
   "cell_type": "code",
   "execution_count": 23,
   "metadata": {},
   "outputs": [
    {
     "data": {
      "image/png": "[encoded data removed]",
      "text/plain": [
       "<Figure size 1080x432 with 1 Axes>"
      ]
     },
     "metadata": {
      "needs_background": "light"
     },
     "output_type": "display_data"
    }
   ],
   "source": [
    "# построим скользящее среднее за два дня с семплированием в 1 час\n",
    "data['rolling_mean'] = data.rolling(24).mean()\n",
    "data['2018-08-02':'2018-08-31'].plot(figsize=(15,6), grid=True, fontsize=12);"
   ]
  },
  {
   "cell_type": "markdown",
   "metadata": {},
   "source": [
    "**Выводы, информация п.2**\n",
    "\n",
    "из ходя из графиков/ данных выше можно сказать следующие по динамике заказов:\n",
    "\n",
    "- в течение дня: \n",
    "минимум заказов в 6.00, далее идет плавное повышение кол. заказов с локальными пиками в 9.00, 16.00, 24.00\n",
    "\n",
    "- месяц/ неделя: минимум заказов  - воскресенье, вторник, максимум заказов - понедельник, пятница, средне количество заказов - среда, четверг, суббота\n",
    "\n",
    "- на всем периоде данных явно виден тренд на повышение заказов: с 1500 в мае, до 3500 и выше в августе\n",
    "\n",
    "- временной ряд не стационарный\n",
    "\n",
    "\n",
    "Дополню:\n",
    "есть изменения/ колебания в значениях временого ряда\n",
    "- в течении недели\n",
    "- в течении дня\n",
    "\n"
   ]
  },
  {
   "cell_type": "markdown",
   "metadata": {},
   "source": [
    "## Обучение"
   ]
  },
  {
   "cell_type": "code",
   "execution_count": 24,
   "metadata": {},
   "outputs": [
    {
     "data": {
      "text/html": [
       "<div>\n",
       "<style scoped>\n",
       "    .dataframe tbody tr th:only-of-type {\n",
       "        vertical-align: middle;\n",
       "    }\n",
       "\n",
       "    .dataframe tbody tr th {\n",
       "        vertical-align: top;\n",
       "    }\n",
       "\n",
       "    .dataframe thead th {\n",
       "        text-align: right;\n",
       "    }\n",
       "</style>\n",
       "<table border=\"1\" class=\"dataframe\">\n",
       "  <thead>\n",
       "    <tr style=\"text-align: right;\">\n",
       "      <th></th>\n",
       "      <th>num_orders</th>\n",
       "      <th>rolling_mean</th>\n",
       "    </tr>\n",
       "    <tr>\n",
       "      <th>datetime</th>\n",
       "      <th></th>\n",
       "      <th></th>\n",
       "    </tr>\n",
       "  </thead>\n",
       "  <tbody>\n",
       "    <tr>\n",
       "      <th>2018-03-01 00:00:00</th>\n",
       "      <td>124</td>\n",
       "      <td>NaN</td>\n",
       "    </tr>\n",
       "    <tr>\n",
       "      <th>2018-03-01 01:00:00</th>\n",
       "      <td>85</td>\n",
       "      <td>NaN</td>\n",
       "    </tr>\n",
       "    <tr>\n",
       "      <th>2018-03-01 02:00:00</th>\n",
       "      <td>71</td>\n",
       "      <td>NaN</td>\n",
       "    </tr>\n",
       "    <tr>\n",
       "      <th>2018-03-01 03:00:00</th>\n",
       "      <td>66</td>\n",
       "      <td>NaN</td>\n",
       "    </tr>\n",
       "    <tr>\n",
       "      <th>2018-03-01 04:00:00</th>\n",
       "      <td>43</td>\n",
       "      <td>NaN</td>\n",
       "    </tr>\n",
       "  </tbody>\n",
       "</table>\n",
       "</div>"
      ],
      "text/plain": [
       "                     num_orders  rolling_mean\n",
       "datetime                                     \n",
       "2018-03-01 00:00:00         124           NaN\n",
       "2018-03-01 01:00:00          85           NaN\n",
       "2018-03-01 02:00:00          71           NaN\n",
       "2018-03-01 03:00:00          66           NaN\n",
       "2018-03-01 04:00:00          43           NaN"
      ]
     },
     "execution_count": 24,
     "metadata": {},
     "output_type": "execute_result"
    }
   ],
   "source": [
    "data.head()"
   ]
  },
  {
   "cell_type": "code",
   "execution_count": 25,
   "metadata": {},
   "outputs": [
    {
     "name": "stdout",
     "output_type": "stream",
     "text": [
      "<class 'pandas.core.frame.DataFrame'>\n",
      "DatetimeIndex: 4416 entries, 2018-03-01 00:00:00 to 2018-08-31 23:00:00\n",
      "Freq: H\n",
      "Data columns (total 2 columns):\n",
      " #   Column        Non-Null Count  Dtype  \n",
      "---  ------        --------------  -----  \n",
      " 0   num_orders    4416 non-null   int64  \n",
      " 1   rolling_mean  4393 non-null   float64\n",
      "dtypes: float64(1), int64(1)\n",
      "memory usage: 232.5 KB\n"
     ]
    }
   ],
   "source": [
    "data.info()"
   ]
  },
  {
   "cell_type": "code",
   "execution_count": 26,
   "metadata": {
    "scrolled": true
   },
   "outputs": [],
   "source": [
    "# функция для формирования новых признаков\n",
    "def make_features(data, max_lag, rolling_mean_size):\n",
    "    #data['year'] = data.index.year\n",
    "    #data['month'] = data.index.month\n",
    "    #data['day'] = data.index.day\n",
    "    data['dayofweek'] = data.index.dayofweek\n",
    "    data['hour'] = data.index.hour\n",
    "    \n",
    "    for lag in range(1, max_lag + 1):\n",
    "        data[f'lag_{lag}'] = data['num_orders'].shift(lag)\n",
    "\n",
    "    data['rolling_mean'] = data['num_orders'].shift(1).rolling(rolling_mean_size).mean()\n",
    "    \n",
    "    return data"
   ]
  },
  {
   "cell_type": "markdown",
   "metadata": {},
   "source": [
    "### исследование  df с параметрами max_lag, rolling_mean_size равными 24\n",
    "используемые модели:\n",
    "- LinearRegression\n",
    "- RandomForestRegressor с подбором гиперпараметров "
   ]
  },
  {
   "cell_type": "code",
   "execution_count": 27,
   "metadata": {},
   "outputs": [
    {
     "data": {
      "text/html": [
       "<div>\n",
       "<style scoped>\n",
       "    .dataframe tbody tr th:only-of-type {\n",
       "        vertical-align: middle;\n",
       "    }\n",
       "\n",
       "    .dataframe tbody tr th {\n",
       "        vertical-align: top;\n",
       "    }\n",
       "\n",
       "    .dataframe thead th {\n",
       "        text-align: right;\n",
       "    }\n",
       "</style>\n",
       "<table border=\"1\" class=\"dataframe\">\n",
       "  <thead>\n",
       "    <tr style=\"text-align: right;\">\n",
       "      <th></th>\n",
       "      <th>num_orders</th>\n",
       "      <th>rolling_mean</th>\n",
       "      <th>dayofweek</th>\n",
       "      <th>hour</th>\n",
       "      <th>lag_1</th>\n",
       "      <th>lag_2</th>\n",
       "      <th>lag_3</th>\n",
       "      <th>lag_4</th>\n",
       "      <th>lag_5</th>\n",
       "      <th>lag_6</th>\n",
       "      <th>lag_7</th>\n",
       "      <th>lag_8</th>\n",
       "      <th>lag_9</th>\n",
       "      <th>lag_10</th>\n",
       "      <th>lag_11</th>\n",
       "      <th>lag_12</th>\n",
       "      <th>lag_13</th>\n",
       "      <th>lag_14</th>\n",
       "      <th>lag_15</th>\n",
       "      <th>lag_16</th>\n",
       "      <th>lag_17</th>\n",
       "      <th>lag_18</th>\n",
       "      <th>lag_19</th>\n",
       "      <th>lag_20</th>\n",
       "      <th>lag_21</th>\n",
       "      <th>lag_22</th>\n",
       "      <th>lag_23</th>\n",
       "      <th>lag_24</th>\n",
       "    </tr>\n",
       "    <tr>\n",
       "      <th>datetime</th>\n",
       "      <th></th>\n",
       "      <th></th>\n",
       "      <th></th>\n",
       "      <th></th>\n",
       "      <th></th>\n",
       "      <th></th>\n",
       "      <th></th>\n",
       "      <th></th>\n",
       "      <th></th>\n",
       "      <th></th>\n",
       "      <th></th>\n",
       "      <th></th>\n",
       "      <th></th>\n",
       "      <th></th>\n",
       "      <th></th>\n",
       "      <th></th>\n",
       "      <th></th>\n",
       "      <th></th>\n",
       "      <th></th>\n",
       "      <th></th>\n",
       "      <th></th>\n",
       "      <th></th>\n",
       "      <th></th>\n",
       "      <th></th>\n",
       "      <th></th>\n",
       "      <th></th>\n",
       "      <th></th>\n",
       "      <th></th>\n",
       "    </tr>\n",
       "  </thead>\n",
       "  <tbody>\n",
       "    <tr>\n",
       "      <th>2018-03-01 00:00:00</th>\n",
       "      <td>124</td>\n",
       "      <td>NaN</td>\n",
       "      <td>3</td>\n",
       "      <td>0</td>\n",
       "      <td>NaN</td>\n",
       "      <td>NaN</td>\n",
       "      <td>NaN</td>\n",
       "      <td>NaN</td>\n",
       "      <td>NaN</td>\n",
       "      <td>NaN</td>\n",
       "      <td>NaN</td>\n",
       "      <td>NaN</td>\n",
       "      <td>NaN</td>\n",
       "      <td>NaN</td>\n",
       "      <td>NaN</td>\n",
       "      <td>NaN</td>\n",
       "      <td>NaN</td>\n",
       "      <td>NaN</td>\n",
       "      <td>NaN</td>\n",
       "      <td>NaN</td>\n",
       "      <td>NaN</td>\n",
       "      <td>NaN</td>\n",
       "      <td>NaN</td>\n",
       "      <td>NaN</td>\n",
       "      <td>NaN</td>\n",
       "      <td>NaN</td>\n",
       "      <td>NaN</td>\n",
       "      <td>NaN</td>\n",
       "    </tr>\n",
       "    <tr>\n",
       "      <th>2018-03-01 01:00:00</th>\n",
       "      <td>85</td>\n",
       "      <td>NaN</td>\n",
       "      <td>3</td>\n",
       "      <td>1</td>\n",
       "      <td>124.00</td>\n",
       "      <td>NaN</td>\n",
       "      <td>NaN</td>\n",
       "      <td>NaN</td>\n",
       "      <td>NaN</td>\n",
       "      <td>NaN</td>\n",
       "      <td>NaN</td>\n",
       "      <td>NaN</td>\n",
       "      <td>NaN</td>\n",
       "      <td>NaN</td>\n",
       "      <td>NaN</td>\n",
       "      <td>NaN</td>\n",
       "      <td>NaN</td>\n",
       "      <td>NaN</td>\n",
       "      <td>NaN</td>\n",
       "      <td>NaN</td>\n",
       "      <td>NaN</td>\n",
       "      <td>NaN</td>\n",
       "      <td>NaN</td>\n",
       "      <td>NaN</td>\n",
       "      <td>NaN</td>\n",
       "      <td>NaN</td>\n",
       "      <td>NaN</td>\n",
       "      <td>NaN</td>\n",
       "    </tr>\n",
       "    <tr>\n",
       "      <th>2018-03-01 02:00:00</th>\n",
       "      <td>71</td>\n",
       "      <td>NaN</td>\n",
       "      <td>3</td>\n",
       "      <td>2</td>\n",
       "      <td>85.00</td>\n",
       "      <td>124.00</td>\n",
       "      <td>NaN</td>\n",
       "      <td>NaN</td>\n",
       "      <td>NaN</td>\n",
       "      <td>NaN</td>\n",
       "      <td>NaN</td>\n",
       "      <td>NaN</td>\n",
       "      <td>NaN</td>\n",
       "      <td>NaN</td>\n",
       "      <td>NaN</td>\n",
       "      <td>NaN</td>\n",
       "      <td>NaN</td>\n",
       "      <td>NaN</td>\n",
       "      <td>NaN</td>\n",
       "      <td>NaN</td>\n",
       "      <td>NaN</td>\n",
       "      <td>NaN</td>\n",
       "      <td>NaN</td>\n",
       "      <td>NaN</td>\n",
       "      <td>NaN</td>\n",
       "      <td>NaN</td>\n",
       "      <td>NaN</td>\n",
       "      <td>NaN</td>\n",
       "    </tr>\n",
       "    <tr>\n",
       "      <th>2018-03-01 03:00:00</th>\n",
       "      <td>66</td>\n",
       "      <td>NaN</td>\n",
       "      <td>3</td>\n",
       "      <td>3</td>\n",
       "      <td>71.00</td>\n",
       "      <td>85.00</td>\n",
       "      <td>124.00</td>\n",
       "      <td>NaN</td>\n",
       "      <td>NaN</td>\n",
       "      <td>NaN</td>\n",
       "      <td>NaN</td>\n",
       "      <td>NaN</td>\n",
       "      <td>NaN</td>\n",
       "      <td>NaN</td>\n",
       "      <td>NaN</td>\n",
       "      <td>NaN</td>\n",
       "      <td>NaN</td>\n",
       "      <td>NaN</td>\n",
       "      <td>NaN</td>\n",
       "      <td>NaN</td>\n",
       "      <td>NaN</td>\n",
       "      <td>NaN</td>\n",
       "      <td>NaN</td>\n",
       "      <td>NaN</td>\n",
       "      <td>NaN</td>\n",
       "      <td>NaN</td>\n",
       "      <td>NaN</td>\n",
       "      <td>NaN</td>\n",
       "    </tr>\n",
       "    <tr>\n",
       "      <th>2018-03-01 04:00:00</th>\n",
       "      <td>43</td>\n",
       "      <td>NaN</td>\n",
       "      <td>3</td>\n",
       "      <td>4</td>\n",
       "      <td>66.00</td>\n",
       "      <td>71.00</td>\n",
       "      <td>85.00</td>\n",
       "      <td>124.00</td>\n",
       "      <td>NaN</td>\n",
       "      <td>NaN</td>\n",
       "      <td>NaN</td>\n",
       "      <td>NaN</td>\n",
       "      <td>NaN</td>\n",
       "      <td>NaN</td>\n",
       "      <td>NaN</td>\n",
       "      <td>NaN</td>\n",
       "      <td>NaN</td>\n",
       "      <td>NaN</td>\n",
       "      <td>NaN</td>\n",
       "      <td>NaN</td>\n",
       "      <td>NaN</td>\n",
       "      <td>NaN</td>\n",
       "      <td>NaN</td>\n",
       "      <td>NaN</td>\n",
       "      <td>NaN</td>\n",
       "      <td>NaN</td>\n",
       "      <td>NaN</td>\n",
       "      <td>NaN</td>\n",
       "    </tr>\n",
       "  </tbody>\n",
       "</table>\n",
       "</div>"
      ],
      "text/plain": [
       "                     num_orders  rolling_mean  dayofweek  hour  lag_1  lag_2  \\\n",
       "datetime                                                                       \n",
       "2018-03-01 00:00:00         124           NaN          3     0    NaN    NaN   \n",
       "2018-03-01 01:00:00          85           NaN          3     1 124.00    NaN   \n",
       "2018-03-01 02:00:00          71           NaN          3     2  85.00 124.00   \n",
       "2018-03-01 03:00:00          66           NaN          3     3  71.00  85.00   \n",
       "2018-03-01 04:00:00          43           NaN          3     4  66.00  71.00   \n",
       "\n",
       "                     lag_3  lag_4  lag_5  lag_6  lag_7  lag_8  lag_9  lag_10  \\\n",
       "datetime                                                                       \n",
       "2018-03-01 00:00:00    NaN    NaN    NaN    NaN    NaN    NaN    NaN     NaN   \n",
       "2018-03-01 01:00:00    NaN    NaN    NaN    NaN    NaN    NaN    NaN     NaN   \n",
       "2018-03-01 02:00:00    NaN    NaN    NaN    NaN    NaN    NaN    NaN     NaN   \n",
       "2018-03-01 03:00:00 124.00    NaN    NaN    NaN    NaN    NaN    NaN     NaN   \n",
       "2018-03-01 04:00:00  85.00 124.00    NaN    NaN    NaN    NaN    NaN     NaN   \n",
       "\n",
       "                     lag_11  lag_12  lag_13  lag_14  lag_15  lag_16  lag_17  \\\n",
       "datetime                                                                      \n",
       "2018-03-01 00:00:00     NaN     NaN     NaN     NaN     NaN     NaN     NaN   \n",
       "2018-03-01 01:00:00     NaN     NaN     NaN     NaN     NaN     NaN     NaN   \n",
       "2018-03-01 02:00:00     NaN     NaN     NaN     NaN     NaN     NaN     NaN   \n",
       "2018-03-01 03:00:00     NaN     NaN     NaN     NaN     NaN     NaN     NaN   \n",
       "2018-03-01 04:00:00     NaN     NaN     NaN     NaN     NaN     NaN     NaN   \n",
       "\n",
       "                     lag_18  lag_19  lag_20  lag_21  lag_22  lag_23  lag_24  \n",
       "datetime                                                                     \n",
       "2018-03-01 00:00:00     NaN     NaN     NaN     NaN     NaN     NaN     NaN  \n",
       "2018-03-01 01:00:00     NaN     NaN     NaN     NaN     NaN     NaN     NaN  \n",
       "2018-03-01 02:00:00     NaN     NaN     NaN     NaN     NaN     NaN     NaN  \n",
       "2018-03-01 03:00:00     NaN     NaN     NaN     NaN     NaN     NaN     NaN  \n",
       "2018-03-01 04:00:00     NaN     NaN     NaN     NaN     NaN     NaN     NaN  "
      ]
     },
     "execution_count": 27,
     "metadata": {},
     "output_type": "execute_result"
    }
   ],
   "source": [
    "# вызов функции make_features с параметрами max_lag, rolling_mean_size равными 24 \n",
    "data_24 = make_features(data, 24, 24)\n",
    "data_24.head()"
   ]
  },
  {
   "cell_type": "code",
   "execution_count": 28,
   "metadata": {},
   "outputs": [
    {
     "name": "stdout",
     "output_type": "stream",
     "text": [
      "<class 'pandas.core.frame.DataFrame'>\n",
      "DatetimeIndex: 4416 entries, 2018-03-01 00:00:00 to 2018-08-31 23:00:00\n",
      "Freq: H\n",
      "Data columns (total 28 columns):\n",
      " #   Column        Non-Null Count  Dtype  \n",
      "---  ------        --------------  -----  \n",
      " 0   num_orders    4416 non-null   int64  \n",
      " 1   rolling_mean  4392 non-null   float64\n",
      " 2   dayofweek     4416 non-null   int64  \n",
      " 3   hour          4416 non-null   int64  \n",
      " 4   lag_1         4415 non-null   float64\n",
      " 5   lag_2         4414 non-null   float64\n",
      " 6   lag_3         4413 non-null   float64\n",
      " 7   lag_4         4412 non-null   float64\n",
      " 8   lag_5         4411 non-null   float64\n",
      " 9   lag_6         4410 non-null   float64\n",
      " 10  lag_7         4409 non-null   float64\n",
      " 11  lag_8         4408 non-null   float64\n",
      " 12  lag_9         4407 non-null   float64\n",
      " 13  lag_10        4406 non-null   float64\n",
      " 14  lag_11        4405 non-null   float64\n",
      " 15  lag_12        4404 non-null   float64\n",
      " 16  lag_13        4403 non-null   float64\n",
      " 17  lag_14        4402 non-null   float64\n",
      " 18  lag_15        4401 non-null   float64\n",
      " 19  lag_16        4400 non-null   float64\n",
      " 20  lag_17        4399 non-null   float64\n",
      " 21  lag_18        4398 non-null   float64\n",
      " 22  lag_19        4397 non-null   float64\n",
      " 23  lag_20        4396 non-null   float64\n",
      " 24  lag_21        4395 non-null   float64\n",
      " 25  lag_22        4394 non-null   float64\n",
      " 26  lag_23        4393 non-null   float64\n",
      " 27  lag_24        4392 non-null   float64\n",
      "dtypes: float64(25), int64(3)\n",
      "memory usage: 1.1 MB\n"
     ]
    }
   ],
   "source": [
    "data.info()"
   ]
  },
  {
   "cell_type": "code",
   "execution_count": 29,
   "metadata": {},
   "outputs": [
    {
     "data": {
      "text/plain": [
       "0"
      ]
     },
     "execution_count": 29,
     "metadata": {},
     "output_type": "execute_result"
    }
   ],
   "source": [
    "# удаление и проверка NaN значений\n",
    "data_24 = data_24.dropna()\n",
    "data_24.isna().sum().sum()"
   ]
  },
  {
   "cell_type": "code",
   "execution_count": 30,
   "metadata": {},
   "outputs": [
    {
     "name": "stdout",
     "output_type": "stream",
     "text": [
      "размеры выборок на train:  (3161, 27) (3161,)\n",
      "размеры выборок на valid:  (791, 27) (791,)\n",
      "размеры выборок на test:  (440, 27) (440,)\n"
     ]
    }
   ],
   "source": [
    "# разделение df на выборки на обучающую, валидационную и тестовую \n",
    "# с параметрами df max_lag, rolling_mean_size равными 24 \n",
    "\n",
    "# разделим данные на выборки: признаки, целевой признак\n",
    "features_24 = data_24.drop('num_orders', axis=1)\n",
    "target_24 = data_24['num_orders']\n",
    "\n",
    "# разделим на обучающую и тестовую выборки в пропорции 9 к 1\n",
    "X_train_24, X_test_24, y_train_24, y_test_24 = train_test_split(features_24, target_24, \n",
    "                                                                    shuffle=False, test_size=0.1)\n",
    "\n",
    "# разделим на обучающую и валидационную выборки в пропорции  4 к 1\n",
    "X_train_24, X_valid_24, y_train_24, y_valid_24 = train_test_split(X_train_24, y_train_24, \n",
    "                                                                    shuffle=False, test_size=0.20)\n",
    "\n",
    "# данные о размере выборок\n",
    "print('размеры выборок на train: ', X_train_24.shape, y_train_24.shape) \n",
    "print('размеры выборок на valid: ', X_valid_24.shape, y_valid_24.shape) \n",
    "print('размеры выборок на test: ', X_test_24.shape, y_test_24.shape) "
   ]
  },
  {
   "cell_type": "markdown",
   "metadata": {},
   "source": [
    "#### LinearRegression с параметрами max_lag, rolling_mean_size равными 24 "
   ]
  },
  {
   "cell_type": "code",
   "execution_count": 31,
   "metadata": {},
   "outputs": [
    {
     "data": {
      "text/plain": [
       "LinearRegression()"
      ]
     },
     "execution_count": 31,
     "metadata": {},
     "output_type": "execute_result"
    }
   ],
   "source": [
    "# инициалиазция модели LinearRegression и обучение\n",
    "model_LR_24 = LinearRegression()\n",
    "model_LR_24.fit(X_train_24, y_train_24)"
   ]
  },
  {
   "cell_type": "code",
   "execution_count": 32,
   "metadata": {},
   "outputs": [
    {
     "name": "stdout",
     "output_type": "stream",
     "text": [
      "RMSE модель LinearRegression на валидационной выборке с параметрами df max_lag,rolling_mean_size равными 24: 33.36\n"
     ]
    }
   ],
   "source": [
    "print(\"RMSE модель LinearRegression на валидационной выборке с параметрами df max_lag,\\\n",
    "rolling_mean_size равными 24:\", \n",
    "round(mean_squared_error(y_valid_24, model_LR_24.predict(X_valid_24), squared=False),2))"
   ]
  },
  {
   "cell_type": "raw",
   "metadata": {},
   "source": [
    "# перенес сюда тестирование для df с параметрами max_lag, rolling_mean_size равными 24 \n",
    "print(\"RMSE модель LinearRegression на тестовой выборке с параметрами max_lag,\\\n",
    "rolling_mean_size равными 24:\", \n",
    "round(mean_squared_error(y_test, model_24.predict(X_test), squared=False),2))"
   ]
  },
  {
   "cell_type": "markdown",
   "metadata": {},
   "source": [
    "#### RandomForestRegressor  с параметрами max_lag, rolling_mean_size равными 24"
   ]
  },
  {
   "cell_type": "raw",
   "metadata": {},
   "source": [
    "grid_RFR = GridSearchCV(RandomForestRegressor(random_state=12345), {\n",
    "                'max_depth': [1, 2, 3, 4, 5, 6, 7, 8, 9, 10], \n",
    "                'n_estimators' : [10, 20, 30, 40, 50, 60, 70, 80, 90, 100], \n",
    "                }, \n",
    "                cv = 3)"
   ]
  },
  {
   "cell_type": "raw",
   "metadata": {},
   "source": [
    "grid_RFR_24 = grid_RFR.fit(X_train, y_train)"
   ]
  },
  {
   "cell_type": "raw",
   "metadata": {},
   "source": [
    "# вывод параметров лучшей модели\n",
    "grid_RFR_24.best_estimator_ "
   ]
  },
  {
   "cell_type": "raw",
   "metadata": {
    "scrolled": true
   },
   "source": [
    "print(\"RMSE модель RandomForestRegressor на валидационной выборке с параметрами max_lag,\\\n",
    "rolling_mean_size равными 24:\", \n",
    "round(mean_squared_error(y_valid, grid_RFR_24.best_estimator_.predict(X_valid), squared=False),2))"
   ]
  },
  {
   "cell_type": "raw",
   "metadata": {},
   "source": [
    "print(\"RMSE модель RandomForestRegressor на тестовой выборке с параметрами max_lag,\\\n",
    "rolling_mean_size равными 24:\",\n",
    "round(mean_squared_error(y_test, grid_RFR_24.best_estimator_.predict(X_test), squared=False),2))"
   ]
  },
  {
   "cell_type": "code",
   "execution_count": 33,
   "metadata": {},
   "outputs": [
    {
     "name": "stdout",
     "output_type": "stream",
     "text": [
      "оценка RMSE лучшей модели_24 на валидационной выборке 48.53\n",
      "лучшая модель_24: RandomForestRegressor(max_depth=1, n_estimators=10, random_state=12345) 2\n"
     ]
    }
   ],
   "source": [
    "# обучение модели на алгоритме RandomForestRegressor с изменением Гиперпараметров: \n",
    "# кол-во Деревьев и максимальная Глубина\n",
    "best_model_RFR_24 = None\n",
    "best_result_RFR_24 = 0\n",
    "for est in range(10, 110, 10):\n",
    "    for depth in range (1, 11):\n",
    "        model_RFR_24 = RandomForestRegressor(random_state=12345, n_estimators=est, max_depth=depth)\n",
    "        model_RFR_24.fit(X_train_24, y_train_24) \n",
    "        predict_RFR_24 = model_RFR_24.predict(X_valid_24) \n",
    "        result_RFR_24 = mean_squared_error(y_valid_24, predict_RFR_24, squared=False)\n",
    "        if result_RFR_24 > best_result_RFR_24:\n",
    "            best_model_RFR_24 = model_RFR_24\n",
    "            best_result_RFR_24 = result_RFR_24\n",
    "        \n",
    "print(\"оценка RMSE лучшей модели_24 на валидационной выборке\", round(best_result_RFR_24,2))\n",
    "print('лучшая модель_24:', best_model_RFR_24,2)"
   ]
  },
  {
   "cell_type": "markdown",
   "metadata": {},
   "source": [
    "####  RMSE на валидационной выборке с параметрами df max_lag, rolling_mean_size равными 24:\n",
    "\n",
    "- модель LinearRegression -  33.36\n",
    "\n",
    "- модель RandomForestRegressor(max_depth=1, n_estimators=10) - 49.22\n",
    "\n"
   ]
  },
  {
   "cell_type": "code",
   "execution_count": null,
   "metadata": {},
   "outputs": [],
   "source": []
  },
  {
   "cell_type": "markdown",
   "metadata": {},
   "source": [
    "#### RMSE на тестовой выборке для  df с параметрами max_lag, rolling_mean_size равными 24:"
   ]
  },
  {
   "cell_type": "markdown",
   "metadata": {},
   "source": [
    "###  исследование с параметрами max_lag, rolling_mean_size равными 168\n",
    "используемые модели:\n",
    "- LinearRegression\n",
    "- RandomForestRegressor с подбором гиперпараметров"
   ]
  },
  {
   "cell_type": "code",
   "execution_count": null,
   "metadata": {},
   "outputs": [],
   "source": []
  },
  {
   "cell_type": "code",
   "execution_count": 34,
   "metadata": {},
   "outputs": [
    {
     "data": {
      "text/plain": [
       "0"
      ]
     },
     "execution_count": 34,
     "metadata": {},
     "output_type": "execute_result"
    }
   ],
   "source": [
    "# вызов функции make_features с параметрами max_lag, rolling_mean_size равными 168\n",
    "data_168 = make_features(data, 168, 168)\n",
    "data_168 = data_168.dropna()\n",
    "data_168.isna().sum().sum()"
   ]
  },
  {
   "cell_type": "code",
   "execution_count": 35,
   "metadata": {},
   "outputs": [
    {
     "name": "stdout",
     "output_type": "stream",
     "text": [
      "размеры выборок на train:  (3058, 171) (3058,)\n",
      "размеры выборок на valid:  (765, 171) (765,)\n",
      "размеры выборок на test:  (425, 171) (425,)\n"
     ]
    }
   ],
   "source": [
    "# разделение df на выборки на обучающую, валидационную и тестовую \n",
    "# с параметрами max_lag, rolling_mean_size равными 168\n",
    "\n",
    "# разделим данные на выборки: признаки, целевой признак\n",
    "features_168 = data_168.drop('num_orders', axis=1)\n",
    "target_168 = data_168['num_orders']\n",
    "\n",
    "# разделим на обучающую и тестовую выборки в пропорции 9 к 1\n",
    "X_train_168, X_test_168, y_train_168, y_test_168 = train_test_split(features_168, target_168, \n",
    "                                                                    shuffle=False, test_size=0.1)\n",
    "\n",
    "# разделим на обучающую и валидационную выборки в пропорции 4 к 1\n",
    "X_train_168, X_valid_168, y_train_168, y_valid_168 = train_test_split(X_train_168, y_train_168, \n",
    "                                                                    shuffle=False, test_size=0.20)\n",
    "\n",
    "# данные о размере выборок\n",
    "print('размеры выборок на train: ', X_train_168.shape, y_train_168.shape) \n",
    "print('размеры выборок на valid: ', X_valid_168.shape, y_valid_168.shape) \n",
    "print('размеры выборок на test: ', X_test_168.shape, y_test_168.shape) "
   ]
  },
  {
   "cell_type": "code",
   "execution_count": 36,
   "metadata": {},
   "outputs": [
    {
     "data": {
      "text/plain": [
       "LinearRegression()"
      ]
     },
     "execution_count": 36,
     "metadata": {},
     "output_type": "execute_result"
    }
   ],
   "source": [
    "# инициалиазция модели LinearRegression и обучение\n",
    "model_LR_168 = LinearRegression()\n",
    "model_LR_168.fit(X_train_168, y_train_168)"
   ]
  },
  {
   "cell_type": "code",
   "execution_count": 37,
   "metadata": {
    "scrolled": true
   },
   "outputs": [
    {
     "name": "stdout",
     "output_type": "stream",
     "text": [
      "RMSE модель LinearRegression на валидационной выборке с параметрами max_lag,rolling_mean_size равными 168: 27.42\n"
     ]
    }
   ],
   "source": [
    "print(\"RMSE модель LinearRegression на валидационной выборке с параметрами max_lag,\\\n",
    "rolling_mean_size равными 168:\", \n",
    "round(mean_squared_error(y_valid_168, model_LR_168.predict(X_valid_168), squared=False),2))"
   ]
  },
  {
   "cell_type": "raw",
   "metadata": {},
   "source": [
    "print(\"RMSE модель LinearRegression на тестовой выборке с параметрами max_lag,\\\n",
    "rolling_mean_size равными 168:\", \n",
    "round(mean_squared_error(y_test, model_168.predict(X_test), squared=False),2))"
   ]
  },
  {
   "cell_type": "markdown",
   "metadata": {},
   "source": [
    "#### RandomForestRegressor  с параметрами max_lag, rolling_mean_size равными 168"
   ]
  },
  {
   "cell_type": "raw",
   "metadata": {},
   "source": [
    "grid_RFR = GridSearchCV(RandomForestRegressor(random_state=12345), {\n",
    "                'max_depth': [1, 2, 3, 4, 5, 6, 7, 8, 9, 10], \n",
    "                'n_estimators' : [10, 20, 30, 40, 50, 60, 70, 80, 90, 100], \n",
    "                }, \n",
    "                cv = 3)"
   ]
  },
  {
   "cell_type": "raw",
   "metadata": {},
   "source": [
    "grid_RFR_168 = grid_RFR.fit(X_train, y_train)"
   ]
  },
  {
   "cell_type": "raw",
   "metadata": {},
   "source": [
    "# вывод параметров лучшей модели\n",
    "grid_RFR_168.best_estimator_ "
   ]
  },
  {
   "cell_type": "raw",
   "metadata": {},
   "source": [
    "print(\"RMSE модель RandomForestRegressor на валидационной выборке с параметрами max_lag, \\\n",
    "rolling_mean_size равными 168:\", \n",
    "round(mean_squared_error(y_valid, grid_RFR_168.best_estimator_.predict(X_valid), squared=False),2))"
   ]
  },
  {
   "cell_type": "raw",
   "metadata": {
    "scrolled": true
   },
   "source": [
    "print(\"RMSE модель RandomForestRegressor на тестовой выборке с параметрами max_lag, \\\n",
    "rolling_mean_size равными 168:\",\n",
    "round(mean_squared_error(y_test, grid_RFR_168.best_estimator_.predict(X_test), squared=False),2))"
   ]
  },
  {
   "cell_type": "code",
   "execution_count": 38,
   "metadata": {},
   "outputs": [
    {
     "name": "stdout",
     "output_type": "stream",
     "text": [
      "оценка RMSE лучшей модели_168 на валидационной выборке 45.42\n",
      "лучшая модель_168: RandomForestRegressor(max_depth=1, n_estimators=10, random_state=12345) 2\n"
     ]
    }
   ],
   "source": [
    "# обучение модели на алгоритме RandomForestRegressor с изменением Гиперпараметров: \n",
    "# кол-во Деревьев и максимальная Глубина\n",
    "best_model_RFR_168 = None\n",
    "best_result_RFR_168 = 0\n",
    "for est in range(10, 110, 10):\n",
    "    for depth in range (1, 11):\n",
    "        model_RFR_168 = RandomForestRegressor(random_state=12345, n_estimators=est, max_depth=depth)\n",
    "        model_RFR_168.fit(X_train_168, y_train_168) \n",
    "        predict_RFR_168 = model_RFR_168.predict(X_valid_168) \n",
    "        result_RFR_168 = mean_squared_error(y_valid_168, predict_RFR_168, squared=False)\n",
    "        if result_RFR_168 > best_result_RFR_168:\n",
    "            best_model_RFR_168 = model_RFR_168\n",
    "            best_result_RFR_168 = result_RFR_168\n",
    "        \n",
    "print(\"оценка RMSE лучшей модели_168 на валидационной выборке\", round(best_result_RFR_168,2))\n",
    "print('лучшая модель_168:', best_model_RFR_168,2)"
   ]
  },
  {
   "cell_type": "markdown",
   "metadata": {},
   "source": [
    "####  RMSE на валидационной выборке для df с параметрами  max_lag, rolling_mean_size равными 168:\n",
    "\n",
    "- модель LinearRegression -  27.42\n",
    "\n",
    "- модель RandomForestRegressor(max_depth=1, n_estimators=10) - 45.42"
   ]
  },
  {
   "cell_type": "markdown",
   "metadata": {},
   "source": [
    "## Тестирование"
   ]
  },
  {
   "cell_type": "code",
   "execution_count": 39,
   "metadata": {},
   "outputs": [
    {
     "name": "stdout",
     "output_type": "stream",
     "text": [
      "RMSE LinearRegression на тестовой выборке для df с параметрами max_lag, rolling_mean_size равными 24 -  46.39\n"
     ]
    }
   ],
   "source": [
    "# RMSE на тестовой выборке для df с параметрами max_lag, rolling_mean_size равными 24\n",
    "print(\"RMSE LinearRegression на тестовой выборке для df с параметрами max_lag, \\\n",
    "rolling_mean_size равными 24 - \", \n",
    "      round(mean_squared_error(y_test_24, model_LR_24.predict(X_test_24), squared=False),2))"
   ]
  },
  {
   "cell_type": "code",
   "execution_count": 40,
   "metadata": {},
   "outputs": [
    {
     "name": "stdout",
     "output_type": "stream",
     "text": [
      "RMSE LinearRegression на тестовой выборке для df с параметрами max_lag,rolling_mean_size равными 168 - 35.02\n"
     ]
    }
   ],
   "source": [
    "# RMSE на тестовой выборке для df с параметрами max_lag, rolling_mean_size равными 168\n",
    "print(\"RMSE LinearRegression на тестовой выборке для df с параметрами max_lag,\\\n",
    "rolling_mean_size равными 168 -\", \n",
    "      round(mean_squared_error(y_test_168, model_LR_168.predict(X_test_168), squared=False),2))"
   ]
  },
  {
   "cell_type": "markdown",
   "metadata": {},
   "source": [
    "## Итоги, выводы, информация:"
   ]
  },
  {
   "cell_type": "markdown",
   "metadata": {},
   "source": [
    "1. На основе этапа \"Анализ Временого ряда\" сформированны два df с параметрами max_lag, rolling_mean_size равными 24 и 168, как наиболее харатерные для большей сезоности в течение недели и часа для данных с семплированием в 1 час;\n",
    "\n",
    "2. Для каждого df выборка разделена на обучающую, валидационную, тествую выборки;\n",
    "\n",
    "\n",
    "3. Для обоих df использованы алгоритмы:\n",
    "    - LinearRegression\n",
    "    - RandomForestRegressor с подбором гиперпараметров \n",
    "\n",
    "\n",
    "4. Сделана оценка метрики RMSE на валидационной выборке и отобран лучшей алгоритм для даной задачи и данных;\n",
    "\n",
    "\n",
    "5. Итог - лучший алгоритм для данной задачи и данных - LinearRegression с параметрами rolling_mean_size равными 168;\n",
    "\n",
    "\n",
    "6. RMSE LinearRegression на тестовой выборке  - 35.02"
   ]
  }
 ],
 "metadata": {
  "ExecuteTimeLog": [
   {
    "duration": 1818,
    "start_time": "2023-07-03T13:43:48.282Z"
   },
   {
    "duration": 5,
    "start_time": "2023-07-03T13:43:56.802Z"
   },
   {
    "duration": 52,
    "start_time": "2023-07-03T13:44:01.969Z"
   },
   {
    "duration": 5,
    "start_time": "2023-07-03T13:44:32.302Z"
   },
   {
    "duration": 165,
    "start_time": "2023-07-03T13:48:46.870Z"
   },
   {
    "duration": 207,
    "start_time": "2023-07-03T13:49:42.015Z"
   },
   {
    "duration": 115,
    "start_time": "2023-07-03T13:50:01.736Z"
   },
   {
    "duration": 63,
    "start_time": "2023-07-03T13:50:35.821Z"
   },
   {
    "duration": 64,
    "start_time": "2023-07-03T13:51:44.213Z"
   },
   {
    "duration": 22,
    "start_time": "2023-07-03T13:52:07.150Z"
   },
   {
    "duration": 7,
    "start_time": "2023-07-03T13:53:05.804Z"
   },
   {
    "duration": 5,
    "start_time": "2023-07-03T13:53:13.501Z"
   },
   {
    "duration": 14,
    "start_time": "2023-07-03T13:54:10.918Z"
   },
   {
    "duration": 103,
    "start_time": "2023-07-03T13:55:41.441Z"
   },
   {
    "duration": 14,
    "start_time": "2023-07-03T13:57:14.766Z"
   },
   {
    "duration": 12,
    "start_time": "2023-07-03T13:57:27.668Z"
   },
   {
    "duration": 9,
    "start_time": "2023-07-03T13:59:12.467Z"
   },
   {
    "duration": 5,
    "start_time": "2023-07-03T13:59:34.495Z"
   },
   {
    "duration": 26,
    "start_time": "2023-07-03T14:02:03.251Z"
   },
   {
    "duration": 707,
    "start_time": "2023-07-03T14:02:24.832Z"
   },
   {
    "duration": 11,
    "start_time": "2023-07-03T14:02:55.950Z"
   },
   {
    "duration": 11,
    "start_time": "2023-07-03T14:11:54.233Z"
   },
   {
    "duration": 4,
    "start_time": "2023-07-03T14:11:59.305Z"
   },
   {
    "duration": 6,
    "start_time": "2023-07-03T14:13:09.861Z"
   },
   {
    "duration": 746,
    "start_time": "2023-07-03T14:16:22.907Z"
   },
   {
    "duration": 1497,
    "start_time": "2023-07-03T14:17:19.890Z"
   },
   {
    "duration": 60,
    "start_time": "2023-07-03T14:17:21.389Z"
   },
   {
    "duration": 19,
    "start_time": "2023-07-03T14:17:21.451Z"
   },
   {
    "duration": 7,
    "start_time": "2023-07-03T14:17:21.472Z"
   },
   {
    "duration": 13,
    "start_time": "2023-07-03T14:17:21.482Z"
   },
   {
    "duration": 22,
    "start_time": "2023-07-03T14:17:21.497Z"
   },
   {
    "duration": 6,
    "start_time": "2023-07-03T14:17:21.522Z"
   },
   {
    "duration": 39,
    "start_time": "2023-07-03T14:17:21.530Z"
   },
   {
    "duration": 14,
    "start_time": "2023-07-03T14:17:21.571Z"
   },
   {
    "duration": 5,
    "start_time": "2023-07-03T14:17:21.587Z"
   },
   {
    "duration": 312,
    "start_time": "2023-07-03T14:17:21.594Z"
   },
   {
    "duration": 308,
    "start_time": "2023-07-03T14:17:54.797Z"
   },
   {
    "duration": 10,
    "start_time": "2023-07-03T14:18:56.371Z"
   },
   {
    "duration": 484,
    "start_time": "2023-07-03T14:19:07.267Z"
   },
   {
    "duration": 313,
    "start_time": "2023-07-03T14:19:33.634Z"
   },
   {
    "duration": 344,
    "start_time": "2023-07-03T14:19:45.289Z"
   },
   {
    "duration": 141,
    "start_time": "2023-07-03T14:25:28.554Z"
   },
   {
    "duration": 294,
    "start_time": "2023-07-03T14:25:47.203Z"
   },
   {
    "duration": 344,
    "start_time": "2023-07-03T14:26:36.285Z"
   },
   {
    "duration": 13,
    "start_time": "2023-07-03T14:27:26.697Z"
   },
   {
    "duration": 28,
    "start_time": "2023-07-03T14:27:55.907Z"
   },
   {
    "duration": 20,
    "start_time": "2023-07-03T14:28:00.420Z"
   },
   {
    "duration": 35,
    "start_time": "2023-07-03T14:30:13.916Z"
   },
   {
    "duration": 28,
    "start_time": "2023-07-03T14:30:55.772Z"
   },
   {
    "duration": 9,
    "start_time": "2023-07-03T14:32:36.070Z"
   },
   {
    "duration": 54,
    "start_time": "2023-07-03T14:32:38.679Z"
   },
   {
    "duration": 11,
    "start_time": "2023-07-03T14:32:38.892Z"
   },
   {
    "duration": 6,
    "start_time": "2023-07-03T14:32:39.132Z"
   },
   {
    "duration": 9,
    "start_time": "2023-07-03T14:32:39.349Z"
   },
   {
    "duration": 7,
    "start_time": "2023-07-03T14:32:39.574Z"
   },
   {
    "duration": 5,
    "start_time": "2023-07-03T14:32:39.777Z"
   },
   {
    "duration": 14,
    "start_time": "2023-07-03T14:32:40.022Z"
   },
   {
    "duration": 12,
    "start_time": "2023-07-03T14:32:40.221Z"
   },
   {
    "duration": 9,
    "start_time": "2023-07-03T14:32:40.430Z"
   },
   {
    "duration": 4,
    "start_time": "2023-07-03T14:32:40.887Z"
   },
   {
    "duration": 375,
    "start_time": "2023-07-03T14:32:41.101Z"
   },
   {
    "duration": 450,
    "start_time": "2023-07-03T14:32:41.838Z"
   },
   {
    "duration": 40,
    "start_time": "2023-07-03T14:32:42.747Z"
   },
   {
    "duration": 12,
    "start_time": "2023-07-03T14:33:24.118Z"
   },
   {
    "duration": 1751,
    "start_time": "2023-07-03T14:34:33.949Z"
   },
   {
    "duration": 67,
    "start_time": "2023-07-03T14:34:35.703Z"
   },
   {
    "duration": 15,
    "start_time": "2023-07-03T14:34:35.772Z"
   },
   {
    "duration": 6,
    "start_time": "2023-07-03T14:34:35.789Z"
   },
   {
    "duration": 11,
    "start_time": "2023-07-03T14:34:35.797Z"
   },
   {
    "duration": 8,
    "start_time": "2023-07-03T14:34:35.810Z"
   },
   {
    "duration": 4,
    "start_time": "2023-07-03T14:34:35.820Z"
   },
   {
    "duration": 40,
    "start_time": "2023-07-03T14:34:35.826Z"
   },
   {
    "duration": 17,
    "start_time": "2023-07-03T14:34:35.871Z"
   },
   {
    "duration": 15,
    "start_time": "2023-07-03T14:34:35.892Z"
   },
   {
    "duration": 15,
    "start_time": "2023-07-03T14:34:35.909Z"
   },
   {
    "duration": 385,
    "start_time": "2023-07-03T14:34:35.926Z"
   },
   {
    "duration": 12,
    "start_time": "2023-07-03T14:34:36.313Z"
   },
   {
    "duration": 885,
    "start_time": "2023-07-03T14:34:36.328Z"
   },
   {
    "duration": 808,
    "start_time": "2023-07-03T14:34:55.996Z"
   },
   {
    "duration": 424,
    "start_time": "2023-07-03T14:39:39.076Z"
   },
   {
    "duration": 312,
    "start_time": "2023-07-03T14:40:33.902Z"
   },
   {
    "duration": 216,
    "start_time": "2023-07-03T14:42:42.809Z"
   },
   {
    "duration": 223,
    "start_time": "2023-07-03T14:42:59.273Z"
   },
   {
    "duration": 271,
    "start_time": "2023-07-03T14:43:17.534Z"
   },
   {
    "duration": 229,
    "start_time": "2023-07-03T14:43:40.387Z"
   },
   {
    "duration": 248,
    "start_time": "2023-07-03T14:44:35.378Z"
   },
   {
    "duration": 264,
    "start_time": "2023-07-03T14:45:21.229Z"
   },
   {
    "duration": 383,
    "start_time": "2023-07-03T14:48:02.087Z"
   },
   {
    "duration": 826,
    "start_time": "2023-07-03T14:58:21.524Z"
   },
   {
    "duration": 900,
    "start_time": "2023-07-03T14:58:32.243Z"
   },
   {
    "duration": 883,
    "start_time": "2023-07-03T15:02:05.539Z"
   },
   {
    "duration": 527,
    "start_time": "2023-07-03T15:02:31.963Z"
   },
   {
    "duration": 983,
    "start_time": "2023-07-03T15:03:36.608Z"
   },
   {
    "duration": 839,
    "start_time": "2023-07-03T15:05:31.276Z"
   },
   {
    "duration": 1011,
    "start_time": "2023-07-03T15:05:50.180Z"
   },
   {
    "duration": 332,
    "start_time": "2023-07-03T15:07:32.363Z"
   },
   {
    "duration": 993,
    "start_time": "2023-07-03T15:08:22.127Z"
   },
   {
    "duration": 907,
    "start_time": "2023-07-03T15:08:32.684Z"
   },
   {
    "duration": 1059,
    "start_time": "2023-07-03T15:08:59.150Z"
   },
   {
    "duration": 822,
    "start_time": "2023-07-03T15:09:42.783Z"
   },
   {
    "duration": 973,
    "start_time": "2023-07-03T15:10:27.935Z"
   },
   {
    "duration": 275,
    "start_time": "2023-07-03T15:11:20.117Z"
   },
   {
    "duration": 913,
    "start_time": "2023-07-03T15:15:26.145Z"
   },
   {
    "duration": 324,
    "start_time": "2023-07-03T15:15:27.061Z"
   },
   {
    "duration": 315,
    "start_time": "2023-07-03T15:18:44.375Z"
   },
   {
    "duration": 55,
    "start_time": "2023-07-03T15:19:38.937Z"
   },
   {
    "duration": 1171,
    "start_time": "2023-07-03T15:20:26.817Z"
   },
   {
    "duration": 368,
    "start_time": "2023-07-03T15:22:08.986Z"
   },
   {
    "duration": 336,
    "start_time": "2023-07-03T15:22:55.185Z"
   },
   {
    "duration": 355,
    "start_time": "2023-07-03T15:23:09.881Z"
   },
   {
    "duration": 402,
    "start_time": "2023-07-03T15:23:32.449Z"
   },
   {
    "duration": 373,
    "start_time": "2023-07-03T15:25:08.275Z"
   },
   {
    "duration": 346,
    "start_time": "2023-07-03T15:26:40.695Z"
   },
   {
    "duration": 201,
    "start_time": "2023-07-03T15:40:40.927Z"
   },
   {
    "duration": 17,
    "start_time": "2023-07-03T15:42:24.135Z"
   },
   {
    "duration": 19,
    "start_time": "2023-07-03T15:43:02.486Z"
   },
   {
    "duration": 12,
    "start_time": "2023-07-03T15:44:06.798Z"
   },
   {
    "duration": 6,
    "start_time": "2023-07-03T15:44:21.836Z"
   },
   {
    "duration": 848,
    "start_time": "2023-07-03T15:44:22.461Z"
   },
   {
    "duration": 418,
    "start_time": "2023-07-03T15:44:23.672Z"
   },
   {
    "duration": 264,
    "start_time": "2023-07-03T15:44:24.662Z"
   },
   {
    "duration": 268,
    "start_time": "2023-07-03T15:44:33.463Z"
   },
   {
    "duration": 263,
    "start_time": "2023-07-03T15:44:49.972Z"
   },
   {
    "duration": 343,
    "start_time": "2023-07-03T15:49:27.277Z"
   },
   {
    "duration": 168,
    "start_time": "2023-07-03T15:50:50.919Z"
   },
   {
    "duration": 194,
    "start_time": "2023-07-03T15:51:29.397Z"
   },
   {
    "duration": 186,
    "start_time": "2023-07-03T15:51:56.287Z"
   },
   {
    "duration": 176,
    "start_time": "2023-07-03T15:53:03.768Z"
   },
   {
    "duration": 183,
    "start_time": "2023-07-03T15:53:24.041Z"
   },
   {
    "duration": 168,
    "start_time": "2023-07-03T15:53:44.165Z"
   },
   {
    "duration": 14,
    "start_time": "2023-07-03T15:55:25.637Z"
   },
   {
    "duration": 10,
    "start_time": "2023-07-03T15:55:43.016Z"
   },
   {
    "duration": 291,
    "start_time": "2023-07-03T15:55:43.480Z"
   },
   {
    "duration": 12,
    "start_time": "2023-07-03T15:55:43.773Z"
   },
   {
    "duration": 14,
    "start_time": "2023-07-03T15:55:44.168Z"
   },
   {
    "duration": 12,
    "start_time": "2023-07-03T15:55:44.374Z"
   },
   {
    "duration": 11,
    "start_time": "2023-07-03T15:55:44.584Z"
   },
   {
    "duration": 296,
    "start_time": "2023-07-03T15:55:44.774Z"
   },
   {
    "duration": 194,
    "start_time": "2023-07-03T15:55:45.072Z"
   },
   {
    "duration": 15,
    "start_time": "2023-07-03T15:56:35.565Z"
   },
   {
    "duration": 227,
    "start_time": "2023-07-03T15:56:55.982Z"
   },
   {
    "duration": 251,
    "start_time": "2023-07-03T15:57:02.817Z"
   },
   {
    "duration": 234,
    "start_time": "2023-07-03T15:57:11.164Z"
   },
   {
    "duration": 265,
    "start_time": "2023-07-03T15:57:27.373Z"
   },
   {
    "duration": 207,
    "start_time": "2023-07-03T15:58:57.199Z"
   },
   {
    "duration": 835,
    "start_time": "2023-07-03T16:00:57.582Z"
   },
   {
    "duration": 1001,
    "start_time": "2023-07-03T16:01:12.386Z"
   },
   {
    "duration": 842,
    "start_time": "2023-07-03T16:01:25.554Z"
   },
   {
    "duration": 358,
    "start_time": "2023-07-03T16:09:40.331Z"
   },
   {
    "duration": 468,
    "start_time": "2023-07-03T16:11:17.148Z"
   },
   {
    "duration": 194,
    "start_time": "2023-07-03T16:11:41.324Z"
   },
   {
    "duration": 169,
    "start_time": "2023-07-03T16:20:22.520Z"
   },
   {
    "duration": 21,
    "start_time": "2023-07-03T16:25:55.979Z"
   },
   {
    "duration": 14,
    "start_time": "2023-07-03T16:25:59.322Z"
   },
   {
    "duration": 13,
    "start_time": "2023-07-03T16:26:00.226Z"
   },
   {
    "duration": 7,
    "start_time": "2023-07-03T16:26:02.914Z"
   },
   {
    "duration": 17,
    "start_time": "2023-07-03T16:27:08.532Z"
   },
   {
    "duration": 25,
    "start_time": "2023-07-03T16:27:10.848Z"
   },
   {
    "duration": 13,
    "start_time": "2023-07-03T16:27:11.376Z"
   },
   {
    "duration": 7,
    "start_time": "2023-07-03T16:27:12.737Z"
   },
   {
    "duration": 19,
    "start_time": "2023-07-03T16:27:22.222Z"
   },
   {
    "duration": 23,
    "start_time": "2023-07-03T16:27:30.442Z"
   },
   {
    "duration": 20,
    "start_time": "2023-07-03T16:27:37.180Z"
   },
   {
    "duration": 14,
    "start_time": "2023-07-03T16:27:38.017Z"
   },
   {
    "duration": 11,
    "start_time": "2023-07-03T16:27:38.271Z"
   },
   {
    "duration": 6,
    "start_time": "2023-07-03T16:27:39.808Z"
   },
   {
    "duration": 24,
    "start_time": "2023-07-03T16:27:53.513Z"
   },
   {
    "duration": 21,
    "start_time": "2023-07-03T16:27:54.974Z"
   },
   {
    "duration": 12,
    "start_time": "2023-07-03T16:27:55.603Z"
   },
   {
    "duration": 15,
    "start_time": "2023-07-03T16:27:57.279Z"
   },
   {
    "duration": 1637,
    "start_time": "2023-07-03T16:30:24.485Z"
   },
   {
    "duration": 92,
    "start_time": "2023-07-03T16:30:26.125Z"
   },
   {
    "duration": 11,
    "start_time": "2023-07-03T16:30:26.219Z"
   },
   {
    "duration": 6,
    "start_time": "2023-07-03T16:30:26.232Z"
   },
   {
    "duration": 5,
    "start_time": "2023-07-03T16:30:26.241Z"
   },
   {
    "duration": 26,
    "start_time": "2023-07-03T16:30:26.248Z"
   },
   {
    "duration": 8,
    "start_time": "2023-07-03T16:30:26.275Z"
   },
   {
    "duration": 13,
    "start_time": "2023-07-03T16:30:26.284Z"
   },
   {
    "duration": 13,
    "start_time": "2023-07-03T16:30:26.298Z"
   },
   {
    "duration": 6,
    "start_time": "2023-07-03T16:30:26.313Z"
   },
   {
    "duration": 5,
    "start_time": "2023-07-03T16:30:26.321Z"
   },
   {
    "duration": 44,
    "start_time": "2023-07-03T16:30:26.327Z"
   },
   {
    "duration": 376,
    "start_time": "2023-07-03T16:30:26.375Z"
   },
   {
    "duration": 1022,
    "start_time": "2023-07-03T16:30:26.759Z"
   },
   {
    "duration": 246,
    "start_time": "2023-07-03T16:30:27.783Z"
   },
   {
    "duration": 259,
    "start_time": "2023-07-03T16:30:28.032Z"
   },
   {
    "duration": 285,
    "start_time": "2023-07-03T16:30:28.293Z"
   },
   {
    "duration": 142,
    "start_time": "2023-07-03T16:30:28.580Z"
   },
   {
    "duration": 0,
    "start_time": "2023-07-03T16:30:28.724Z"
   },
   {
    "duration": 0,
    "start_time": "2023-07-03T16:30:28.725Z"
   },
   {
    "duration": 0,
    "start_time": "2023-07-03T16:30:28.726Z"
   },
   {
    "duration": 0,
    "start_time": "2023-07-03T16:30:28.727Z"
   },
   {
    "duration": 0,
    "start_time": "2023-07-03T16:30:28.728Z"
   },
   {
    "duration": 0,
    "start_time": "2023-07-03T16:30:28.729Z"
   },
   {
    "duration": 228,
    "start_time": "2023-07-03T16:32:32.497Z"
   },
   {
    "duration": 227,
    "start_time": "2023-07-03T16:32:43.644Z"
   },
   {
    "duration": 28,
    "start_time": "2023-07-03T16:33:51.701Z"
   },
   {
    "duration": 24,
    "start_time": "2023-07-03T16:34:23.203Z"
   },
   {
    "duration": 10,
    "start_time": "2023-07-03T16:34:28.531Z"
   },
   {
    "duration": 7,
    "start_time": "2023-07-03T16:34:31.273Z"
   },
   {
    "duration": 21,
    "start_time": "2023-07-03T16:35:08.678Z"
   },
   {
    "duration": 19,
    "start_time": "2023-07-03T16:35:10.575Z"
   },
   {
    "duration": 8,
    "start_time": "2023-07-03T16:35:11.444Z"
   },
   {
    "duration": 7,
    "start_time": "2023-07-03T16:35:13.387Z"
   },
   {
    "duration": 20,
    "start_time": "2023-07-03T16:35:22.885Z"
   },
   {
    "duration": 17,
    "start_time": "2023-07-03T16:35:24.300Z"
   },
   {
    "duration": 8,
    "start_time": "2023-07-03T16:35:24.986Z"
   },
   {
    "duration": 10,
    "start_time": "2023-07-03T16:35:26.677Z"
   },
   {
    "duration": 1616,
    "start_time": "2023-07-03T16:35:51.178Z"
   },
   {
    "duration": 66,
    "start_time": "2023-07-03T16:35:52.796Z"
   },
   {
    "duration": 12,
    "start_time": "2023-07-03T16:35:52.868Z"
   },
   {
    "duration": 16,
    "start_time": "2023-07-03T16:35:52.883Z"
   },
   {
    "duration": 8,
    "start_time": "2023-07-03T16:35:52.902Z"
   },
   {
    "duration": 13,
    "start_time": "2023-07-03T16:35:52.912Z"
   },
   {
    "duration": 9,
    "start_time": "2023-07-03T16:35:52.927Z"
   },
   {
    "duration": 15,
    "start_time": "2023-07-03T16:35:52.937Z"
   },
   {
    "duration": 50,
    "start_time": "2023-07-03T16:35:52.954Z"
   },
   {
    "duration": 57,
    "start_time": "2023-07-03T16:35:53.006Z"
   },
   {
    "duration": 45,
    "start_time": "2023-07-03T16:35:53.064Z"
   },
   {
    "duration": 10,
    "start_time": "2023-07-03T16:35:53.111Z"
   },
   {
    "duration": 349,
    "start_time": "2023-07-03T16:35:53.124Z"
   },
   {
    "duration": 936,
    "start_time": "2023-07-03T16:35:53.475Z"
   },
   {
    "duration": 264,
    "start_time": "2023-07-03T16:35:54.413Z"
   },
   {
    "duration": 240,
    "start_time": "2023-07-03T16:35:54.681Z"
   },
   {
    "duration": 274,
    "start_time": "2023-07-03T16:35:54.923Z"
   },
   {
    "duration": 205,
    "start_time": "2023-07-03T16:35:55.199Z"
   },
   {
    "duration": 204,
    "start_time": "2023-07-03T16:35:55.406Z"
   },
   {
    "duration": 212,
    "start_time": "2023-07-03T16:35:55.611Z"
   },
   {
    "duration": 54,
    "start_time": "2023-07-03T16:35:55.825Z"
   },
   {
    "duration": 16,
    "start_time": "2023-07-03T16:35:55.881Z"
   },
   {
    "duration": 56,
    "start_time": "2023-07-03T16:35:55.899Z"
   },
   {
    "duration": 12,
    "start_time": "2023-07-03T16:35:55.956Z"
   },
   {
    "duration": 158,
    "start_time": "2023-07-03T16:36:33.201Z"
   },
   {
    "duration": 217,
    "start_time": "2023-07-03T16:36:52.395Z"
   },
   {
    "duration": 13,
    "start_time": "2023-07-03T16:37:25.426Z"
   },
   {
    "duration": 55,
    "start_time": "2023-07-03T16:38:00.312Z"
   },
   {
    "duration": 120,
    "start_time": "2023-07-03T16:38:02.041Z"
   },
   {
    "duration": 10,
    "start_time": "2023-07-03T16:38:02.913Z"
   },
   {
    "duration": 7,
    "start_time": "2023-07-03T16:38:04.602Z"
   },
   {
    "duration": 139,
    "start_time": "2023-07-03T16:40:09.928Z"
   },
   {
    "duration": 11,
    "start_time": "2023-07-03T16:40:24.018Z"
   },
   {
    "duration": 11,
    "start_time": "2023-07-03T16:40:33.610Z"
   },
   {
    "duration": 13,
    "start_time": "2023-07-03T16:41:28.521Z"
   },
   {
    "duration": 208,
    "start_time": "2023-07-03T16:41:29.929Z"
   },
   {
    "duration": 16,
    "start_time": "2023-07-03T16:41:54.903Z"
   },
   {
    "duration": 1640,
    "start_time": "2023-07-03T16:42:18.498Z"
   },
   {
    "duration": 76,
    "start_time": "2023-07-03T16:42:20.140Z"
   },
   {
    "duration": 11,
    "start_time": "2023-07-03T16:42:20.218Z"
   },
   {
    "duration": 7,
    "start_time": "2023-07-03T16:42:20.231Z"
   },
   {
    "duration": 17,
    "start_time": "2023-07-03T16:42:20.240Z"
   },
   {
    "duration": 8,
    "start_time": "2023-07-03T16:42:20.276Z"
   },
   {
    "duration": 12,
    "start_time": "2023-07-03T16:42:20.286Z"
   },
   {
    "duration": 19,
    "start_time": "2023-07-03T16:42:20.299Z"
   },
   {
    "duration": 13,
    "start_time": "2023-07-03T16:42:20.321Z"
   },
   {
    "duration": 11,
    "start_time": "2023-07-03T16:42:20.338Z"
   },
   {
    "duration": 21,
    "start_time": "2023-07-03T16:42:20.351Z"
   },
   {
    "duration": 10,
    "start_time": "2023-07-03T16:42:20.374Z"
   },
   {
    "duration": 863,
    "start_time": "2023-07-03T16:42:20.388Z"
   },
   {
    "duration": 260,
    "start_time": "2023-07-03T16:42:21.253Z"
   },
   {
    "duration": 326,
    "start_time": "2023-07-03T16:42:21.515Z"
   },
   {
    "duration": 263,
    "start_time": "2023-07-03T16:42:21.843Z"
   },
   {
    "duration": 197,
    "start_time": "2023-07-03T16:42:22.107Z"
   },
   {
    "duration": 214,
    "start_time": "2023-07-03T16:42:22.306Z"
   },
   {
    "duration": 185,
    "start_time": "2023-07-03T16:42:22.522Z"
   },
   {
    "duration": 312,
    "start_time": "2023-07-03T16:42:22.710Z"
   },
   {
    "duration": 8,
    "start_time": "2023-07-03T16:42:23.024Z"
   },
   {
    "duration": 100,
    "start_time": "2023-07-03T16:42:23.035Z"
   },
   {
    "duration": 127,
    "start_time": "2023-07-03T16:42:23.136Z"
   },
   {
    "duration": 189,
    "start_time": "2023-07-03T16:42:23.265Z"
   },
   {
    "duration": 17,
    "start_time": "2023-07-03T16:42:23.462Z"
   },
   {
    "duration": 107,
    "start_time": "2023-07-03T16:48:58.217Z"
   },
   {
    "duration": 69,
    "start_time": "2023-07-04T05:35:47.344Z"
   },
   {
    "duration": 82,
    "start_time": "2023-07-04T05:56:26.229Z"
   },
   {
    "duration": 1724,
    "start_time": "2023-07-04T05:56:37.564Z"
   },
   {
    "duration": 258,
    "start_time": "2023-07-04T05:56:39.290Z"
   },
   {
    "duration": 14,
    "start_time": "2023-07-04T05:56:39.550Z"
   },
   {
    "duration": 8,
    "start_time": "2023-07-04T05:56:39.567Z"
   },
   {
    "duration": 7,
    "start_time": "2023-07-04T05:56:39.576Z"
   },
   {
    "duration": 6,
    "start_time": "2023-07-04T05:56:39.585Z"
   },
   {
    "duration": 20,
    "start_time": "2023-07-04T05:56:39.593Z"
   },
   {
    "duration": 25,
    "start_time": "2023-07-04T05:56:39.615Z"
   },
   {
    "duration": 17,
    "start_time": "2023-07-04T05:56:39.642Z"
   },
   {
    "duration": 8,
    "start_time": "2023-07-04T05:56:39.662Z"
   },
   {
    "duration": 15,
    "start_time": "2023-07-04T05:56:39.672Z"
   },
   {
    "duration": 9,
    "start_time": "2023-07-04T05:56:39.689Z"
   },
   {
    "duration": 871,
    "start_time": "2023-07-04T05:56:39.699Z"
   },
   {
    "duration": 1190,
    "start_time": "2023-07-04T05:57:04.619Z"
   },
   {
    "duration": 1010,
    "start_time": "2023-07-04T05:58:13.629Z"
   },
   {
    "duration": 724,
    "start_time": "2023-07-04T06:21:05.931Z"
   },
   {
    "duration": 5,
    "start_time": "2023-07-04T06:23:29.088Z"
   },
   {
    "duration": 8,
    "start_time": "2023-07-04T06:23:53.537Z"
   },
   {
    "duration": 9,
    "start_time": "2023-07-04T06:24:19.181Z"
   },
   {
    "duration": 94,
    "start_time": "2023-07-04T06:24:41.734Z"
   },
   {
    "duration": 9,
    "start_time": "2023-07-04T06:24:49.668Z"
   },
   {
    "duration": 141,
    "start_time": "2023-07-04T06:25:31.820Z"
   },
   {
    "duration": 165,
    "start_time": "2023-07-04T06:27:40.268Z"
   },
   {
    "duration": 8,
    "start_time": "2023-07-04T06:30:14.073Z"
   },
   {
    "duration": 80,
    "start_time": "2023-07-04T08:58:10.101Z"
   },
   {
    "duration": 2227,
    "start_time": "2023-07-04T08:58:29.294Z"
   },
   {
    "duration": 176,
    "start_time": "2023-07-04T08:58:31.524Z"
   },
   {
    "duration": 14,
    "start_time": "2023-07-04T08:58:31.702Z"
   },
   {
    "duration": 78,
    "start_time": "2023-07-04T08:58:31.719Z"
   },
   {
    "duration": 48,
    "start_time": "2023-07-04T08:58:31.799Z"
   },
   {
    "duration": 72,
    "start_time": "2023-07-04T08:58:31.850Z"
   },
   {
    "duration": 19,
    "start_time": "2023-07-04T08:58:31.924Z"
   },
   {
    "duration": 76,
    "start_time": "2023-07-04T08:58:31.945Z"
   },
   {
    "duration": 31,
    "start_time": "2023-07-04T08:58:32.023Z"
   },
   {
    "duration": 11,
    "start_time": "2023-07-04T08:58:32.057Z"
   },
   {
    "duration": 11,
    "start_time": "2023-07-04T08:58:35.350Z"
   },
   {
    "duration": 7,
    "start_time": "2023-07-04T08:58:35.544Z"
   },
   {
    "duration": 954,
    "start_time": "2023-07-04T08:58:35.993Z"
   },
   {
    "duration": 980,
    "start_time": "2023-07-04T08:58:36.949Z"
   },
   {
    "duration": 285,
    "start_time": "2023-07-04T08:58:37.932Z"
   },
   {
    "duration": 334,
    "start_time": "2023-07-04T08:58:38.224Z"
   },
   {
    "duration": 282,
    "start_time": "2023-07-04T08:58:38.563Z"
   },
   {
    "duration": 205,
    "start_time": "2023-07-04T08:58:38.847Z"
   },
   {
    "duration": 217,
    "start_time": "2023-07-04T08:58:39.059Z"
   },
   {
    "duration": 258,
    "start_time": "2023-07-04T08:58:39.279Z"
   },
   {
    "duration": 390,
    "start_time": "2023-07-04T08:58:39.540Z"
   },
   {
    "duration": 9,
    "start_time": "2023-07-04T08:58:45.068Z"
   },
   {
    "duration": 15,
    "start_time": "2023-07-04T08:58:56.549Z"
   },
   {
    "duration": 51,
    "start_time": "2023-07-04T08:59:26.616Z"
   },
   {
    "duration": 188,
    "start_time": "2023-07-04T08:59:38.068Z"
   },
   {
    "duration": 30,
    "start_time": "2023-07-04T08:59:43.767Z"
   },
   {
    "duration": 35,
    "start_time": "2023-07-04T08:59:48.257Z"
   },
   {
    "duration": 115,
    "start_time": "2023-07-04T09:17:52.871Z"
   },
   {
    "duration": 15,
    "start_time": "2023-07-04T09:18:09.178Z"
   },
   {
    "duration": 9,
    "start_time": "2023-07-04T09:20:04.740Z"
   },
   {
    "duration": 34,
    "start_time": "2023-07-04T09:20:51.153Z"
   },
   {
    "duration": 105,
    "start_time": "2023-07-04T09:22:29.653Z"
   },
   {
    "duration": 33,
    "start_time": "2023-07-04T09:24:00.405Z"
   },
   {
    "duration": 15,
    "start_time": "2023-07-04T09:24:08.376Z"
   },
   {
    "duration": 23,
    "start_time": "2023-07-04T09:24:09.384Z"
   },
   {
    "duration": 1584,
    "start_time": "2023-07-04T09:25:08.827Z"
   },
   {
    "duration": 72,
    "start_time": "2023-07-04T09:25:10.413Z"
   },
   {
    "duration": 15,
    "start_time": "2023-07-04T09:25:10.486Z"
   },
   {
    "duration": 6,
    "start_time": "2023-07-04T09:25:10.503Z"
   },
   {
    "duration": 9,
    "start_time": "2023-07-04T09:25:10.511Z"
   },
   {
    "duration": 14,
    "start_time": "2023-07-04T09:25:10.521Z"
   },
   {
    "duration": 9,
    "start_time": "2023-07-04T09:25:10.537Z"
   },
   {
    "duration": 19,
    "start_time": "2023-07-04T09:25:10.554Z"
   },
   {
    "duration": 26,
    "start_time": "2023-07-04T09:25:10.574Z"
   },
   {
    "duration": 12,
    "start_time": "2023-07-04T09:25:10.602Z"
   },
   {
    "duration": 16,
    "start_time": "2023-07-04T09:25:10.616Z"
   },
   {
    "duration": 15,
    "start_time": "2023-07-04T09:25:10.634Z"
   },
   {
    "duration": 876,
    "start_time": "2023-07-04T09:25:10.655Z"
   },
   {
    "duration": 877,
    "start_time": "2023-07-04T09:25:11.534Z"
   },
   {
    "duration": 266,
    "start_time": "2023-07-04T09:25:12.413Z"
   },
   {
    "duration": 239,
    "start_time": "2023-07-04T09:25:12.682Z"
   },
   {
    "duration": 260,
    "start_time": "2023-07-04T09:25:12.923Z"
   },
   {
    "duration": 199,
    "start_time": "2023-07-04T09:25:13.185Z"
   },
   {
    "duration": 192,
    "start_time": "2023-07-04T09:25:13.386Z"
   },
   {
    "duration": 198,
    "start_time": "2023-07-04T09:25:13.580Z"
   },
   {
    "duration": 302,
    "start_time": "2023-07-04T09:25:13.780Z"
   },
   {
    "duration": 7,
    "start_time": "2023-07-04T09:25:14.084Z"
   },
   {
    "duration": 43,
    "start_time": "2023-07-04T09:25:14.093Z"
   },
   {
    "duration": 157,
    "start_time": "2023-07-04T09:25:14.137Z"
   },
   {
    "duration": 0,
    "start_time": "2023-07-04T09:25:14.296Z"
   },
   {
    "duration": 0,
    "start_time": "2023-07-04T09:25:14.297Z"
   },
   {
    "duration": 0,
    "start_time": "2023-07-04T09:25:14.298Z"
   },
   {
    "duration": 0,
    "start_time": "2023-07-04T09:25:14.299Z"
   },
   {
    "duration": 0,
    "start_time": "2023-07-04T09:25:14.300Z"
   },
   {
    "duration": 0,
    "start_time": "2023-07-04T09:25:14.301Z"
   },
   {
    "duration": 0,
    "start_time": "2023-07-04T09:25:14.303Z"
   },
   {
    "duration": 12,
    "start_time": "2023-07-04T09:26:45.105Z"
   },
   {
    "duration": 11,
    "start_time": "2023-07-04T09:27:07.821Z"
   },
   {
    "duration": 19,
    "start_time": "2023-07-04T09:27:10.777Z"
   },
   {
    "duration": 15,
    "start_time": "2023-07-04T09:27:59.341Z"
   },
   {
    "duration": 16,
    "start_time": "2023-07-04T09:28:22.226Z"
   },
   {
    "duration": 7,
    "start_time": "2023-07-04T09:28:25.827Z"
   },
   {
    "duration": 8,
    "start_time": "2023-07-04T09:28:31.276Z"
   },
   {
    "duration": 297,
    "start_time": "2023-07-04T09:31:59.671Z"
   },
   {
    "duration": 822,
    "start_time": "2023-07-04T09:35:35.740Z"
   },
   {
    "duration": 2126,
    "start_time": "2023-07-04T09:35:56.780Z"
   },
   {
    "duration": 64,
    "start_time": "2023-07-04T09:35:58.909Z"
   },
   {
    "duration": 13,
    "start_time": "2023-07-04T09:35:58.974Z"
   },
   {
    "duration": 8,
    "start_time": "2023-07-04T09:35:58.989Z"
   },
   {
    "duration": 9,
    "start_time": "2023-07-04T09:35:58.999Z"
   },
   {
    "duration": 14,
    "start_time": "2023-07-04T09:35:59.009Z"
   },
   {
    "duration": 11,
    "start_time": "2023-07-04T09:35:59.025Z"
   },
   {
    "duration": 31,
    "start_time": "2023-07-04T09:35:59.037Z"
   },
   {
    "duration": 27,
    "start_time": "2023-07-04T09:35:59.073Z"
   },
   {
    "duration": 6,
    "start_time": "2023-07-04T09:35:59.102Z"
   },
   {
    "duration": 5,
    "start_time": "2023-07-04T09:35:59.110Z"
   },
   {
    "duration": 8,
    "start_time": "2023-07-04T09:35:59.117Z"
   },
   {
    "duration": 880,
    "start_time": "2023-07-04T09:35:59.127Z"
   },
   {
    "duration": 868,
    "start_time": "2023-07-04T09:36:00.010Z"
   },
   {
    "duration": 239,
    "start_time": "2023-07-04T09:36:00.883Z"
   },
   {
    "duration": 260,
    "start_time": "2023-07-04T09:36:01.124Z"
   },
   {
    "duration": 251,
    "start_time": "2023-07-04T09:36:01.388Z"
   },
   {
    "duration": 197,
    "start_time": "2023-07-04T09:36:01.641Z"
   },
   {
    "duration": 204,
    "start_time": "2023-07-04T09:36:01.841Z"
   },
   {
    "duration": 196,
    "start_time": "2023-07-04T09:36:02.047Z"
   },
   {
    "duration": 327,
    "start_time": "2023-07-04T09:36:02.245Z"
   },
   {
    "duration": 233,
    "start_time": "2023-07-04T09:36:02.578Z"
   },
   {
    "duration": 8,
    "start_time": "2023-07-04T09:36:02.813Z"
   },
   {
    "duration": 58,
    "start_time": "2023-07-04T09:36:02.823Z"
   },
   {
    "duration": 12,
    "start_time": "2023-07-04T09:36:02.883Z"
   },
   {
    "duration": 26,
    "start_time": "2023-07-04T09:36:02.897Z"
   },
   {
    "duration": 46,
    "start_time": "2023-07-04T09:36:02.925Z"
   },
   {
    "duration": 121,
    "start_time": "2023-07-04T09:36:02.972Z"
   },
   {
    "duration": 125,
    "start_time": "2023-07-04T09:36:03.159Z"
   },
   {
    "duration": 193,
    "start_time": "2023-07-04T09:36:03.289Z"
   },
   {
    "duration": 154,
    "start_time": "2023-07-04T09:36:03.484Z"
   },
   {
    "duration": 7,
    "start_time": "2023-07-04T09:36:03.640Z"
   },
   {
    "duration": 164,
    "start_time": "2023-07-04T09:36:03.648Z"
   },
   {
    "duration": 14,
    "start_time": "2023-07-04T09:38:06.179Z"
   },
   {
    "duration": 3,
    "start_time": "2023-07-04T09:44:57.717Z"
   },
   {
    "duration": 13,
    "start_time": "2023-07-04T09:45:48.830Z"
   },
   {
    "duration": 12,
    "start_time": "2023-07-04T09:49:09.176Z"
   },
   {
    "duration": 1606,
    "start_time": "2023-07-04T09:49:26.177Z"
   },
   {
    "duration": 60,
    "start_time": "2023-07-04T09:49:27.785Z"
   },
   {
    "duration": 17,
    "start_time": "2023-07-04T09:49:27.847Z"
   },
   {
    "duration": 24,
    "start_time": "2023-07-04T09:49:27.868Z"
   },
   {
    "duration": 9,
    "start_time": "2023-07-04T09:49:27.895Z"
   },
   {
    "duration": 10,
    "start_time": "2023-07-04T09:49:27.905Z"
   },
   {
    "duration": 9,
    "start_time": "2023-07-04T09:49:27.916Z"
   },
   {
    "duration": 15,
    "start_time": "2023-07-04T09:49:27.926Z"
   },
   {
    "duration": 31,
    "start_time": "2023-07-04T09:49:27.943Z"
   },
   {
    "duration": 9,
    "start_time": "2023-07-04T09:49:27.981Z"
   },
   {
    "duration": 7,
    "start_time": "2023-07-04T09:49:27.992Z"
   },
   {
    "duration": 9,
    "start_time": "2023-07-04T09:49:28.001Z"
   },
   {
    "duration": 927,
    "start_time": "2023-07-04T09:49:28.012Z"
   },
   {
    "duration": 856,
    "start_time": "2023-07-04T09:49:28.942Z"
   },
   {
    "duration": 243,
    "start_time": "2023-07-04T09:49:29.800Z"
   },
   {
    "duration": 260,
    "start_time": "2023-07-04T09:49:30.045Z"
   },
   {
    "duration": 274,
    "start_time": "2023-07-04T09:49:30.307Z"
   },
   {
    "duration": 198,
    "start_time": "2023-07-04T09:49:30.584Z"
   },
   {
    "duration": 194,
    "start_time": "2023-07-04T09:49:30.784Z"
   },
   {
    "duration": 180,
    "start_time": "2023-07-04T09:49:30.980Z"
   },
   {
    "duration": 295,
    "start_time": "2023-07-04T09:49:31.166Z"
   },
   {
    "duration": 240,
    "start_time": "2023-07-04T09:49:31.465Z"
   },
   {
    "duration": 7,
    "start_time": "2023-07-04T09:49:31.707Z"
   },
   {
    "duration": 193,
    "start_time": "2023-07-04T09:49:31.716Z"
   },
   {
    "duration": 0,
    "start_time": "2023-07-04T09:49:31.910Z"
   },
   {
    "duration": 0,
    "start_time": "2023-07-04T09:49:31.912Z"
   },
   {
    "duration": 0,
    "start_time": "2023-07-04T09:49:31.913Z"
   },
   {
    "duration": 0,
    "start_time": "2023-07-04T09:49:31.914Z"
   },
   {
    "duration": 0,
    "start_time": "2023-07-04T09:49:31.915Z"
   },
   {
    "duration": 0,
    "start_time": "2023-07-04T09:49:31.917Z"
   },
   {
    "duration": 0,
    "start_time": "2023-07-04T09:49:31.918Z"
   },
   {
    "duration": 0,
    "start_time": "2023-07-04T09:49:31.919Z"
   },
   {
    "duration": 0,
    "start_time": "2023-07-04T09:49:31.920Z"
   },
   {
    "duration": 29,
    "start_time": "2023-07-04T09:49:51.199Z"
   },
   {
    "duration": 13,
    "start_time": "2023-07-04T09:49:57.328Z"
   },
   {
    "duration": 18,
    "start_time": "2023-07-04T09:49:58.303Z"
   },
   {
    "duration": 31,
    "start_time": "2023-07-04T09:50:00.048Z"
   },
   {
    "duration": 11,
    "start_time": "2023-07-04T09:50:01.583Z"
   },
   {
    "duration": 8,
    "start_time": "2023-07-04T09:50:05.691Z"
   },
   {
    "duration": 822,
    "start_time": "2023-07-04T09:51:06.474Z"
   },
   {
    "duration": 1845,
    "start_time": "2023-07-04T09:57:29.074Z"
   },
   {
    "duration": 70,
    "start_time": "2023-07-04T09:57:30.921Z"
   },
   {
    "duration": 11,
    "start_time": "2023-07-04T09:57:30.993Z"
   },
   {
    "duration": 53,
    "start_time": "2023-07-04T09:57:31.006Z"
   },
   {
    "duration": 75,
    "start_time": "2023-07-04T09:57:31.061Z"
   },
   {
    "duration": 56,
    "start_time": "2023-07-04T09:57:31.138Z"
   },
   {
    "duration": 37,
    "start_time": "2023-07-04T09:57:31.196Z"
   },
   {
    "duration": 64,
    "start_time": "2023-07-04T09:57:31.235Z"
   },
   {
    "duration": 47,
    "start_time": "2023-07-04T09:57:31.302Z"
   },
   {
    "duration": 55,
    "start_time": "2023-07-04T09:57:31.352Z"
   },
   {
    "duration": 65,
    "start_time": "2023-07-04T09:57:31.408Z"
   },
   {
    "duration": 83,
    "start_time": "2023-07-04T09:57:31.475Z"
   },
   {
    "duration": 980,
    "start_time": "2023-07-04T09:57:31.563Z"
   },
   {
    "duration": 902,
    "start_time": "2023-07-04T09:57:32.545Z"
   },
   {
    "duration": 282,
    "start_time": "2023-07-04T09:57:33.449Z"
   },
   {
    "duration": 283,
    "start_time": "2023-07-04T09:57:33.734Z"
   },
   {
    "duration": 371,
    "start_time": "2023-07-04T09:57:34.020Z"
   },
   {
    "duration": 204,
    "start_time": "2023-07-04T09:57:34.394Z"
   },
   {
    "duration": 223,
    "start_time": "2023-07-04T09:57:34.600Z"
   },
   {
    "duration": 217,
    "start_time": "2023-07-04T09:57:34.826Z"
   },
   {
    "duration": 341,
    "start_time": "2023-07-04T09:57:35.046Z"
   },
   {
    "duration": 292,
    "start_time": "2023-07-04T09:57:35.390Z"
   },
   {
    "duration": 11,
    "start_time": "2023-07-04T09:57:35.684Z"
   },
   {
    "duration": 165,
    "start_time": "2023-07-04T09:57:35.697Z"
   },
   {
    "duration": 221,
    "start_time": "2023-07-04T09:57:35.870Z"
   },
   {
    "duration": 192,
    "start_time": "2023-07-04T09:57:36.094Z"
   },
   {
    "duration": 296,
    "start_time": "2023-07-04T09:57:36.288Z"
   },
   {
    "duration": 146,
    "start_time": "2023-07-04T09:57:36.653Z"
   },
   {
    "duration": 238,
    "start_time": "2023-07-04T09:57:36.865Z"
   },
   {
    "duration": 162,
    "start_time": "2023-07-04T09:57:37.105Z"
   },
   {
    "duration": 228,
    "start_time": "2023-07-04T09:57:37.277Z"
   },
   {
    "duration": 74,
    "start_time": "2023-07-04T09:57:37.508Z"
   },
   {
    "duration": 312,
    "start_time": "2023-07-04T09:57:37.583Z"
   },
   {
    "duration": 287,
    "start_time": "2023-07-04T09:58:33.137Z"
   },
   {
    "duration": 4,
    "start_time": "2023-07-04T10:02:24.005Z"
   },
   {
    "duration": 18,
    "start_time": "2023-07-04T10:02:37.777Z"
   },
   {
    "duration": 1721,
    "start_time": "2023-07-04T10:03:00.286Z"
   },
   {
    "duration": 68,
    "start_time": "2023-07-04T10:03:02.009Z"
   },
   {
    "duration": 32,
    "start_time": "2023-07-04T10:03:02.081Z"
   },
   {
    "duration": 25,
    "start_time": "2023-07-04T10:03:02.115Z"
   },
   {
    "duration": 63,
    "start_time": "2023-07-04T10:03:02.142Z"
   },
   {
    "duration": 24,
    "start_time": "2023-07-04T10:03:02.207Z"
   },
   {
    "duration": 44,
    "start_time": "2023-07-04T10:03:02.233Z"
   },
   {
    "duration": 17,
    "start_time": "2023-07-04T10:03:02.279Z"
   },
   {
    "duration": 15,
    "start_time": "2023-07-04T10:03:02.298Z"
   },
   {
    "duration": 9,
    "start_time": "2023-07-04T10:03:02.315Z"
   },
   {
    "duration": 19,
    "start_time": "2023-07-04T10:03:02.326Z"
   },
   {
    "duration": 44,
    "start_time": "2023-07-04T10:03:02.347Z"
   },
   {
    "duration": 918,
    "start_time": "2023-07-04T10:03:02.393Z"
   },
   {
    "duration": 871,
    "start_time": "2023-07-04T10:03:03.315Z"
   },
   {
    "duration": 266,
    "start_time": "2023-07-04T10:03:04.188Z"
   },
   {
    "duration": 259,
    "start_time": "2023-07-04T10:03:04.457Z"
   },
   {
    "duration": 263,
    "start_time": "2023-07-04T10:03:04.717Z"
   },
   {
    "duration": 203,
    "start_time": "2023-07-04T10:03:04.983Z"
   },
   {
    "duration": 224,
    "start_time": "2023-07-04T10:03:05.189Z"
   },
   {
    "duration": 198,
    "start_time": "2023-07-04T10:03:05.415Z"
   },
   {
    "duration": 320,
    "start_time": "2023-07-04T10:03:05.615Z"
   },
   {
    "duration": 312,
    "start_time": "2023-07-04T10:03:05.937Z"
   },
   {
    "duration": 316,
    "start_time": "2023-07-04T10:03:06.254Z"
   },
   {
    "duration": 11,
    "start_time": "2023-07-04T10:03:06.576Z"
   },
   {
    "duration": 7,
    "start_time": "2023-07-04T10:03:06.590Z"
   },
   {
    "duration": 40,
    "start_time": "2023-07-04T10:03:06.598Z"
   },
   {
    "duration": 24,
    "start_time": "2023-07-04T10:03:06.656Z"
   },
   {
    "duration": 137,
    "start_time": "2023-07-04T10:03:06.683Z"
   },
   {
    "duration": 94,
    "start_time": "2023-07-04T10:03:06.822Z"
   },
   {
    "duration": 167,
    "start_time": "2023-07-04T10:03:06.919Z"
   },
   {
    "duration": 70,
    "start_time": "2023-07-04T10:03:07.088Z"
   },
   {
    "duration": 102,
    "start_time": "2023-07-04T10:03:07.165Z"
   },
   {
    "duration": 220,
    "start_time": "2023-07-04T10:03:07.276Z"
   },
   {
    "duration": 9,
    "start_time": "2023-07-04T10:03:07.499Z"
   },
   {
    "duration": 179,
    "start_time": "2023-07-04T10:03:07.510Z"
   },
   {
    "duration": 14,
    "start_time": "2023-07-04T10:08:20.816Z"
   },
   {
    "duration": 4,
    "start_time": "2023-07-04T10:08:56.028Z"
   },
   {
    "duration": 16,
    "start_time": "2023-07-04T10:09:36.686Z"
   },
   {
    "duration": 1859,
    "start_time": "2023-07-04T10:15:58.635Z"
   },
   {
    "duration": 65,
    "start_time": "2023-07-04T10:16:00.498Z"
   },
   {
    "duration": 12,
    "start_time": "2023-07-04T10:16:00.570Z"
   },
   {
    "duration": 33,
    "start_time": "2023-07-04T10:16:00.586Z"
   },
   {
    "duration": 46,
    "start_time": "2023-07-04T10:16:00.621Z"
   },
   {
    "duration": 29,
    "start_time": "2023-07-04T10:16:00.669Z"
   },
   {
    "duration": 43,
    "start_time": "2023-07-04T10:16:00.701Z"
   },
   {
    "duration": 62,
    "start_time": "2023-07-04T10:16:00.745Z"
   },
   {
    "duration": 59,
    "start_time": "2023-07-04T10:16:00.809Z"
   },
   {
    "duration": 33,
    "start_time": "2023-07-04T10:16:00.872Z"
   },
   {
    "duration": 44,
    "start_time": "2023-07-04T10:16:00.907Z"
   },
   {
    "duration": 50,
    "start_time": "2023-07-04T10:16:00.953Z"
   },
   {
    "duration": 953,
    "start_time": "2023-07-04T10:16:01.005Z"
   },
   {
    "duration": 1055,
    "start_time": "2023-07-04T10:16:01.963Z"
   },
   {
    "duration": 269,
    "start_time": "2023-07-04T10:16:03.020Z"
   },
   {
    "duration": 272,
    "start_time": "2023-07-04T10:16:03.291Z"
   },
   {
    "duration": 250,
    "start_time": "2023-07-04T10:16:03.569Z"
   },
   {
    "duration": 204,
    "start_time": "2023-07-04T10:16:03.821Z"
   },
   {
    "duration": 211,
    "start_time": "2023-07-04T10:16:04.027Z"
   },
   {
    "duration": 189,
    "start_time": "2023-07-04T10:16:04.241Z"
   },
   {
    "duration": 313,
    "start_time": "2023-07-04T10:16:04.433Z"
   },
   {
    "duration": 291,
    "start_time": "2023-07-04T10:16:04.748Z"
   },
   {
    "duration": 318,
    "start_time": "2023-07-04T10:16:05.041Z"
   },
   {
    "duration": 10,
    "start_time": "2023-07-04T10:16:05.366Z"
   },
   {
    "duration": 122,
    "start_time": "2023-07-04T10:16:05.378Z"
   },
   {
    "duration": 66,
    "start_time": "2023-07-04T10:16:05.503Z"
   },
   {
    "duration": 150,
    "start_time": "2023-07-04T10:16:05.573Z"
   },
   {
    "duration": 34,
    "start_time": "2023-07-04T10:16:05.728Z"
   },
   {
    "duration": 22,
    "start_time": "2023-07-04T10:16:05.764Z"
   },
   {
    "duration": 78,
    "start_time": "2023-07-04T10:16:05.787Z"
   },
   {
    "duration": 328,
    "start_time": "2023-07-04T10:16:05.867Z"
   },
   {
    "duration": 22,
    "start_time": "2023-07-04T10:16:06.197Z"
   },
   {
    "duration": 750,
    "start_time": "2023-07-04T10:16:06.221Z"
   },
   {
    "duration": 259,
    "start_time": "2023-07-04T10:16:06.972Z"
   },
   {
    "duration": 0,
    "start_time": "2023-07-04T10:16:07.232Z"
   },
   {
    "duration": 0,
    "start_time": "2023-07-04T10:16:07.234Z"
   },
   {
    "duration": 0,
    "start_time": "2023-07-04T10:16:07.235Z"
   },
   {
    "duration": 0,
    "start_time": "2023-07-04T10:16:07.237Z"
   },
   {
    "duration": 0,
    "start_time": "2023-07-04T10:16:07.257Z"
   },
   {
    "duration": 83,
    "start_time": "2023-07-04T10:16:58.170Z"
   },
   {
    "duration": 2637,
    "start_time": "2023-07-04T10:30:04.469Z"
   },
   {
    "duration": 66,
    "start_time": "2023-07-04T10:30:07.109Z"
   },
   {
    "duration": 12,
    "start_time": "2023-07-04T10:30:07.176Z"
   },
   {
    "duration": 11,
    "start_time": "2023-07-04T10:30:07.190Z"
   },
   {
    "duration": 18,
    "start_time": "2023-07-04T10:30:07.203Z"
   },
   {
    "duration": 10,
    "start_time": "2023-07-04T10:30:07.223Z"
   },
   {
    "duration": 18,
    "start_time": "2023-07-04T10:30:07.235Z"
   },
   {
    "duration": 14,
    "start_time": "2023-07-04T10:30:07.262Z"
   },
   {
    "duration": 24,
    "start_time": "2023-07-04T10:30:07.278Z"
   },
   {
    "duration": 7,
    "start_time": "2023-07-04T10:30:07.304Z"
   },
   {
    "duration": 21,
    "start_time": "2023-07-04T10:30:07.313Z"
   },
   {
    "duration": 26,
    "start_time": "2023-07-04T10:30:07.336Z"
   },
   {
    "duration": 848,
    "start_time": "2023-07-04T10:30:07.364Z"
   },
   {
    "duration": 931,
    "start_time": "2023-07-04T10:30:08.214Z"
   },
   {
    "duration": 264,
    "start_time": "2023-07-04T10:30:09.152Z"
   },
   {
    "duration": 265,
    "start_time": "2023-07-04T10:30:09.418Z"
   },
   {
    "duration": 251,
    "start_time": "2023-07-04T10:30:09.684Z"
   },
   {
    "duration": 206,
    "start_time": "2023-07-04T10:30:09.938Z"
   },
   {
    "duration": 193,
    "start_time": "2023-07-04T10:30:10.146Z"
   },
   {
    "duration": 200,
    "start_time": "2023-07-04T10:30:10.342Z"
   },
   {
    "duration": 296,
    "start_time": "2023-07-04T10:30:10.544Z"
   },
   {
    "duration": 302,
    "start_time": "2023-07-04T10:30:10.842Z"
   },
   {
    "duration": 307,
    "start_time": "2023-07-04T10:30:11.152Z"
   },
   {
    "duration": 15,
    "start_time": "2023-07-04T10:30:11.461Z"
   },
   {
    "duration": 14,
    "start_time": "2023-07-04T10:30:11.479Z"
   },
   {
    "duration": 39,
    "start_time": "2023-07-04T10:30:11.495Z"
   },
   {
    "duration": 156,
    "start_time": "2023-07-04T10:30:11.536Z"
   },
   {
    "duration": 11,
    "start_time": "2023-07-04T10:30:11.695Z"
   },
   {
    "duration": 57,
    "start_time": "2023-07-04T10:30:11.708Z"
   },
   {
    "duration": 191,
    "start_time": "2023-07-04T10:30:11.768Z"
   },
   {
    "duration": 121,
    "start_time": "2023-07-04T10:30:11.968Z"
   },
   {
    "duration": 230,
    "start_time": "2023-07-04T10:30:12.152Z"
   },
   {
    "duration": 23,
    "start_time": "2023-07-04T10:30:12.386Z"
   },
   {
    "duration": 447,
    "start_time": "2023-07-04T10:30:12.412Z"
   },
   {
    "duration": 185,
    "start_time": "2023-07-04T10:30:12.868Z"
   },
   {
    "duration": 43,
    "start_time": "2023-07-04T10:30:13.057Z"
   },
   {
    "duration": 239,
    "start_time": "2023-07-04T10:30:13.151Z"
   },
   {
    "duration": 1,
    "start_time": "2023-07-04T10:30:13.391Z"
   },
   {
    "duration": 0,
    "start_time": "2023-07-04T10:30:13.393Z"
   },
   {
    "duration": 0,
    "start_time": "2023-07-04T10:30:13.395Z"
   },
   {
    "duration": 0,
    "start_time": "2023-07-04T10:30:13.396Z"
   },
   {
    "duration": 23772,
    "start_time": "2023-07-04T10:57:08.815Z"
   },
   {
    "duration": 62,
    "start_time": "2023-07-04T10:58:10.511Z"
   },
   {
    "duration": 35,
    "start_time": "2023-07-04T10:58:41.083Z"
   },
   {
    "duration": 22,
    "start_time": "2023-07-04T11:13:21.516Z"
   },
   {
    "duration": 5,
    "start_time": "2023-07-04T11:14:33.684Z"
   },
   {
    "duration": 41,
    "start_time": "2023-07-04T11:14:34.951Z"
   },
   {
    "duration": 12,
    "start_time": "2023-07-04T11:15:13.175Z"
   },
   {
    "duration": 20,
    "start_time": "2023-07-04T11:15:14.076Z"
   },
   {
    "duration": 4,
    "start_time": "2023-07-04T11:15:55.393Z"
   },
   {
    "duration": 28,
    "start_time": "2023-07-04T11:15:56.156Z"
   },
   {
    "duration": 4,
    "start_time": "2023-07-04T11:16:28.210Z"
   },
   {
    "duration": 1920,
    "start_time": "2023-07-04T11:18:48.153Z"
   },
   {
    "duration": 95,
    "start_time": "2023-07-04T11:18:50.075Z"
   },
   {
    "duration": 29,
    "start_time": "2023-07-04T11:18:50.177Z"
   },
   {
    "duration": 9,
    "start_time": "2023-07-04T11:18:50.209Z"
   },
   {
    "duration": 7,
    "start_time": "2023-07-04T11:18:50.221Z"
   },
   {
    "duration": 10,
    "start_time": "2023-07-04T11:18:50.230Z"
   },
   {
    "duration": 10,
    "start_time": "2023-07-04T11:18:50.243Z"
   },
   {
    "duration": 50,
    "start_time": "2023-07-04T11:18:50.255Z"
   },
   {
    "duration": 20,
    "start_time": "2023-07-04T11:18:50.307Z"
   },
   {
    "duration": 9,
    "start_time": "2023-07-04T11:18:50.329Z"
   },
   {
    "duration": 8,
    "start_time": "2023-07-04T11:18:50.340Z"
   },
   {
    "duration": 35,
    "start_time": "2023-07-04T11:18:50.351Z"
   },
   {
    "duration": 954,
    "start_time": "2023-07-04T11:18:50.389Z"
   },
   {
    "duration": 880,
    "start_time": "2023-07-04T11:18:51.346Z"
   },
   {
    "duration": 269,
    "start_time": "2023-07-04T11:18:52.228Z"
   },
   {
    "duration": 266,
    "start_time": "2023-07-04T11:18:52.499Z"
   },
   {
    "duration": 255,
    "start_time": "2023-07-04T11:18:52.767Z"
   },
   {
    "duration": 209,
    "start_time": "2023-07-04T11:18:53.024Z"
   },
   {
    "duration": 205,
    "start_time": "2023-07-04T11:18:53.236Z"
   },
   {
    "duration": 199,
    "start_time": "2023-07-04T11:18:53.443Z"
   },
   {
    "duration": 319,
    "start_time": "2023-07-04T11:18:53.644Z"
   },
   {
    "duration": 313,
    "start_time": "2023-07-04T11:18:53.974Z"
   },
   {
    "duration": 446,
    "start_time": "2023-07-04T11:18:54.289Z"
   },
   {
    "duration": 48,
    "start_time": "2023-07-04T11:18:54.737Z"
   },
   {
    "duration": 13,
    "start_time": "2023-07-04T11:18:54.787Z"
   },
   {
    "duration": 46,
    "start_time": "2023-07-04T11:18:54.802Z"
   },
   {
    "duration": 24,
    "start_time": "2023-07-04T11:18:54.850Z"
   },
   {
    "duration": 52,
    "start_time": "2023-07-04T11:18:54.876Z"
   },
   {
    "duration": 235,
    "start_time": "2023-07-04T11:18:54.930Z"
   },
   {
    "duration": 140,
    "start_time": "2023-07-04T11:18:55.167Z"
   },
   {
    "duration": 151,
    "start_time": "2023-07-04T11:18:55.353Z"
   },
   {
    "duration": 332,
    "start_time": "2023-07-04T11:18:55.507Z"
   },
   {
    "duration": 39,
    "start_time": "2023-07-04T11:18:55.840Z"
   },
   {
    "duration": 2082,
    "start_time": "2023-07-04T11:18:55.886Z"
   },
   {
    "duration": 187,
    "start_time": "2023-07-04T11:18:57.970Z"
   },
   {
    "duration": 31,
    "start_time": "2023-07-04T11:18:58.160Z"
   },
   {
    "duration": 151,
    "start_time": "2023-07-04T11:18:58.195Z"
   },
   {
    "duration": 506450,
    "start_time": "2023-07-04T11:18:58.348Z"
   },
   {
    "duration": 178,
    "start_time": "2023-07-04T11:27:24.804Z"
   },
   {
    "duration": 0,
    "start_time": "2023-07-04T11:27:24.990Z"
   },
   {
    "duration": 0,
    "start_time": "2023-07-04T11:27:24.991Z"
   },
   {
    "duration": 0,
    "start_time": "2023-07-04T11:27:24.991Z"
   },
   {
    "duration": 0,
    "start_time": "2023-07-04T11:27:24.992Z"
   },
   {
    "duration": 0,
    "start_time": "2023-07-04T11:27:24.993Z"
   },
   {
    "duration": 0,
    "start_time": "2023-07-04T11:27:24.998Z"
   },
   {
    "duration": 6,
    "start_time": "2023-07-04T11:28:14.724Z"
   },
   {
    "duration": 24,
    "start_time": "2023-07-04T11:28:15.720Z"
   },
   {
    "duration": 5,
    "start_time": "2023-07-04T11:28:32.335Z"
   },
   {
    "duration": 4,
    "start_time": "2023-07-04T11:28:50.286Z"
   },
   {
    "duration": 34,
    "start_time": "2023-07-04T11:28:54.049Z"
   },
   {
    "duration": 11,
    "start_time": "2023-07-04T11:32:09.314Z"
   },
   {
    "duration": 23,
    "start_time": "2023-07-04T11:32:22.773Z"
   },
   {
    "duration": 18,
    "start_time": "2023-07-04T11:33:02.727Z"
   },
   {
    "duration": 23,
    "start_time": "2023-07-04T11:33:04.151Z"
   },
   {
    "duration": 12,
    "start_time": "2023-07-04T11:33:10.300Z"
   },
   {
    "duration": 4,
    "start_time": "2023-07-04T11:33:45.189Z"
   },
   {
    "duration": 527077,
    "start_time": "2023-07-04T11:33:46.888Z"
   },
   {
    "duration": 6,
    "start_time": "2023-07-04T11:42:33.967Z"
   },
   {
    "duration": 19,
    "start_time": "2023-07-04T11:46:17.937Z"
   },
   {
    "duration": 33,
    "start_time": "2023-07-04T11:46:42.952Z"
   },
   {
    "duration": 17,
    "start_time": "2023-07-04T11:47:19.893Z"
   },
   {
    "duration": 33,
    "start_time": "2023-07-04T11:48:47.629Z"
   },
   {
    "duration": 47,
    "start_time": "2023-07-04T11:50:36.155Z"
   },
   {
    "duration": 5,
    "start_time": "2023-07-04T11:53:24.818Z"
   },
   {
    "duration": 5,
    "start_time": "2023-07-04T11:54:49.152Z"
   },
   {
    "duration": 11,
    "start_time": "2023-07-04T11:59:03.394Z"
   },
   {
    "duration": 1745,
    "start_time": "2023-07-04T12:10:14.584Z"
   },
   {
    "duration": 98,
    "start_time": "2023-07-04T12:10:16.332Z"
   },
   {
    "duration": 13,
    "start_time": "2023-07-04T12:10:16.432Z"
   },
   {
    "duration": 58,
    "start_time": "2023-07-04T12:10:16.448Z"
   },
   {
    "duration": 30,
    "start_time": "2023-07-04T12:10:16.509Z"
   },
   {
    "duration": 63,
    "start_time": "2023-07-04T12:10:16.541Z"
   },
   {
    "duration": 15,
    "start_time": "2023-07-04T12:10:16.606Z"
   },
   {
    "duration": 32,
    "start_time": "2023-07-04T12:10:16.623Z"
   },
   {
    "duration": 26,
    "start_time": "2023-07-04T12:10:16.663Z"
   },
   {
    "duration": 56,
    "start_time": "2023-07-04T12:10:16.692Z"
   },
   {
    "duration": 40,
    "start_time": "2023-07-04T12:10:16.750Z"
   },
   {
    "duration": 26,
    "start_time": "2023-07-04T12:10:16.792Z"
   },
   {
    "duration": 956,
    "start_time": "2023-07-04T12:10:16.819Z"
   },
   {
    "duration": 994,
    "start_time": "2023-07-04T12:10:17.779Z"
   },
   {
    "duration": 295,
    "start_time": "2023-07-04T12:10:18.778Z"
   },
   {
    "duration": 281,
    "start_time": "2023-07-04T12:10:19.080Z"
   },
   {
    "duration": 279,
    "start_time": "2023-07-04T12:10:19.363Z"
   },
   {
    "duration": 199,
    "start_time": "2023-07-04T12:10:19.644Z"
   },
   {
    "duration": 198,
    "start_time": "2023-07-04T12:10:19.844Z"
   },
   {
    "duration": 200,
    "start_time": "2023-07-04T12:10:20.045Z"
   },
   {
    "duration": 345,
    "start_time": "2023-07-04T12:10:20.247Z"
   },
   {
    "duration": 332,
    "start_time": "2023-07-04T12:10:20.594Z"
   },
   {
    "duration": 467,
    "start_time": "2023-07-04T12:10:20.929Z"
   },
   {
    "duration": 9,
    "start_time": "2023-07-04T12:10:21.399Z"
   },
   {
    "duration": 8,
    "start_time": "2023-07-04T12:10:21.410Z"
   },
   {
    "duration": 71,
    "start_time": "2023-07-04T12:10:21.420Z"
   },
   {
    "duration": 12,
    "start_time": "2023-07-04T12:10:21.493Z"
   },
   {
    "duration": 19,
    "start_time": "2023-07-04T12:10:21.512Z"
   },
   {
    "duration": 56,
    "start_time": "2023-07-04T12:10:21.534Z"
   },
   {
    "duration": 183,
    "start_time": "2023-07-04T12:10:21.593Z"
   },
   {
    "duration": 123,
    "start_time": "2023-07-04T12:10:21.780Z"
   },
   {
    "duration": 100,
    "start_time": "2023-07-04T12:10:21.962Z"
   },
   {
    "duration": 206513,
    "start_time": "2023-07-04T12:10:22.069Z"
   },
   {
    "duration": 6,
    "start_time": "2023-07-04T12:13:48.586Z"
   },
   {
    "duration": 87,
    "start_time": "2023-07-04T12:13:48.594Z"
   },
   {
    "duration": 0,
    "start_time": "2023-07-04T12:13:48.685Z"
   },
   {
    "duration": 0,
    "start_time": "2023-07-04T12:13:48.687Z"
   },
   {
    "duration": 0,
    "start_time": "2023-07-04T12:13:48.689Z"
   },
   {
    "duration": 0,
    "start_time": "2023-07-04T12:13:48.691Z"
   },
   {
    "duration": 1,
    "start_time": "2023-07-04T12:13:48.692Z"
   },
   {
    "duration": 0,
    "start_time": "2023-07-04T12:13:48.695Z"
   },
   {
    "duration": 0,
    "start_time": "2023-07-04T12:13:48.697Z"
   },
   {
    "duration": 0,
    "start_time": "2023-07-04T12:13:48.698Z"
   },
   {
    "duration": 0,
    "start_time": "2023-07-04T12:13:48.700Z"
   },
   {
    "duration": 0,
    "start_time": "2023-07-04T12:13:48.701Z"
   },
   {
    "duration": 0,
    "start_time": "2023-07-04T12:13:48.703Z"
   },
   {
    "duration": 1,
    "start_time": "2023-07-04T12:13:48.704Z"
   },
   {
    "duration": 156,
    "start_time": "2023-07-04T12:21:50.903Z"
   },
   {
    "duration": 28,
    "start_time": "2023-07-04T12:22:05.111Z"
   },
   {
    "duration": 94,
    "start_time": "2023-07-04T12:22:15.606Z"
   },
   {
    "duration": 39,
    "start_time": "2023-07-04T12:22:36.941Z"
   },
   {
    "duration": 159,
    "start_time": "2023-07-04T12:22:47.710Z"
   },
   {
    "duration": 33,
    "start_time": "2023-07-04T12:22:47.878Z"
   },
   {
    "duration": 2638,
    "start_time": "2023-07-04T12:22:48.052Z"
   },
   {
    "duration": 111,
    "start_time": "2023-07-04T12:22:50.754Z"
   },
   {
    "duration": 105,
    "start_time": "2023-07-04T12:22:50.873Z"
   },
   {
    "duration": 113,
    "start_time": "2023-07-04T12:22:50.992Z"
   },
   {
    "duration": 1147822,
    "start_time": "2023-07-04T12:22:51.107Z"
   },
   {
    "duration": 5,
    "start_time": "2023-07-04T12:41:58.932Z"
   },
   {
    "duration": 100,
    "start_time": "2023-07-04T12:41:58.940Z"
   },
   {
    "duration": 0,
    "start_time": "2023-07-04T12:41:59.043Z"
   },
   {
    "duration": 0,
    "start_time": "2023-07-04T12:41:59.045Z"
   },
   {
    "duration": 0,
    "start_time": "2023-07-04T12:41:59.047Z"
   },
   {
    "duration": 0,
    "start_time": "2023-07-04T12:41:59.048Z"
   },
   {
    "duration": 25,
    "start_time": "2023-07-04T12:44:07.010Z"
   },
   {
    "duration": 111,
    "start_time": "2023-07-04T12:44:08.110Z"
   },
   {
    "duration": 16,
    "start_time": "2023-07-04T12:44:17.417Z"
   },
   {
    "duration": 10,
    "start_time": "2023-07-04T12:50:04.406Z"
   },
   {
    "duration": 11,
    "start_time": "2023-07-04T12:50:28.031Z"
   },
   {
    "duration": 21,
    "start_time": "2023-07-04T12:50:44.089Z"
   },
   {
    "duration": 28,
    "start_time": "2023-07-04T12:51:29.976Z"
   },
   {
    "duration": 28,
    "start_time": "2023-07-04T12:51:43.642Z"
   },
   {
    "duration": 22,
    "start_time": "2023-07-04T12:52:07.576Z"
   },
   {
    "duration": 100,
    "start_time": "2023-07-04T12:53:11.316Z"
   },
   {
    "duration": 143,
    "start_time": "2023-07-04T12:53:40.176Z"
   },
   {
    "duration": 42,
    "start_time": "2023-07-04T12:53:47.940Z"
   },
   {
    "duration": 134,
    "start_time": "2023-07-04T12:54:03.401Z"
   },
   {
    "duration": 13,
    "start_time": "2023-07-04T12:54:42.833Z"
   },
   {
    "duration": 9,
    "start_time": "2023-07-04T12:55:13.307Z"
   },
   {
    "duration": 16,
    "start_time": "2023-07-04T12:55:58.705Z"
   },
   {
    "duration": 91,
    "start_time": "2023-07-04T12:56:29.476Z"
   },
   {
    "duration": 18,
    "start_time": "2023-07-04T12:56:33.231Z"
   },
   {
    "duration": 23,
    "start_time": "2023-07-04T12:56:37.579Z"
   },
   {
    "duration": 11,
    "start_time": "2023-07-04T12:57:53.784Z"
   },
   {
    "duration": 11,
    "start_time": "2023-07-04T12:58:57.624Z"
   },
   {
    "duration": 1882,
    "start_time": "2023-07-04T13:00:44.932Z"
   },
   {
    "duration": 74,
    "start_time": "2023-07-04T13:00:46.816Z"
   },
   {
    "duration": 17,
    "start_time": "2023-07-04T13:00:46.891Z"
   },
   {
    "duration": 33,
    "start_time": "2023-07-04T13:00:46.910Z"
   },
   {
    "duration": 43,
    "start_time": "2023-07-04T13:00:46.946Z"
   },
   {
    "duration": 35,
    "start_time": "2023-07-04T13:00:46.991Z"
   },
   {
    "duration": 19,
    "start_time": "2023-07-04T13:00:47.028Z"
   },
   {
    "duration": 70,
    "start_time": "2023-07-04T13:00:47.050Z"
   },
   {
    "duration": 51,
    "start_time": "2023-07-04T13:00:47.123Z"
   },
   {
    "duration": 15,
    "start_time": "2023-07-04T13:00:47.181Z"
   },
   {
    "duration": 25,
    "start_time": "2023-07-04T13:00:47.201Z"
   },
   {
    "duration": 55,
    "start_time": "2023-07-04T13:00:47.229Z"
   },
   {
    "duration": 1021,
    "start_time": "2023-07-04T13:00:47.286Z"
   },
   {
    "duration": 1002,
    "start_time": "2023-07-04T13:00:48.310Z"
   },
   {
    "duration": 277,
    "start_time": "2023-07-04T13:00:49.317Z"
   },
   {
    "duration": 297,
    "start_time": "2023-07-04T13:00:49.596Z"
   },
   {
    "duration": 296,
    "start_time": "2023-07-04T13:00:49.895Z"
   },
   {
    "duration": 230,
    "start_time": "2023-07-04T13:00:50.193Z"
   },
   {
    "duration": 220,
    "start_time": "2023-07-04T13:00:50.425Z"
   },
   {
    "duration": 252,
    "start_time": "2023-07-04T13:00:50.648Z"
   },
   {
    "duration": 426,
    "start_time": "2023-07-04T13:00:50.902Z"
   },
   {
    "duration": 354,
    "start_time": "2023-07-04T13:00:51.331Z"
   },
   {
    "duration": 493,
    "start_time": "2023-07-04T13:00:51.687Z"
   },
   {
    "duration": 17,
    "start_time": "2023-07-04T13:00:52.188Z"
   },
   {
    "duration": 6,
    "start_time": "2023-07-04T13:00:52.209Z"
   },
   {
    "duration": 81,
    "start_time": "2023-07-04T13:00:52.217Z"
   },
   {
    "duration": 17,
    "start_time": "2023-07-04T13:00:52.301Z"
   },
   {
    "duration": 17,
    "start_time": "2023-07-04T13:00:52.323Z"
   },
   {
    "duration": 116,
    "start_time": "2023-07-04T13:00:52.343Z"
   },
   {
    "duration": 130,
    "start_time": "2023-07-04T13:00:52.461Z"
   },
   {
    "duration": 111,
    "start_time": "2023-07-04T13:00:52.594Z"
   },
   {
    "duration": 188,
    "start_time": "2023-07-04T13:00:52.707Z"
   },
   {
    "duration": 208875,
    "start_time": "2023-07-04T13:00:52.898Z"
   },
   {
    "duration": 8,
    "start_time": "2023-07-04T13:04:21.779Z"
   },
   {
    "duration": 34,
    "start_time": "2023-07-04T13:04:21.788Z"
   },
   {
    "duration": 20,
    "start_time": "2023-07-04T13:04:21.824Z"
   },
   {
    "duration": 201,
    "start_time": "2023-07-04T13:04:21.860Z"
   },
   {
    "duration": 25,
    "start_time": "2023-07-04T13:04:22.063Z"
   },
   {
    "duration": 701,
    "start_time": "2023-07-04T13:04:22.090Z"
   },
   {
    "duration": 94,
    "start_time": "2023-07-04T13:04:22.794Z"
   },
   {
    "duration": 196,
    "start_time": "2023-07-04T13:04:22.891Z"
   },
   {
    "duration": 106,
    "start_time": "2023-07-04T13:04:23.155Z"
   },
   {
    "duration": 1171628,
    "start_time": "2023-07-04T13:04:23.265Z"
   },
   {
    "duration": 5,
    "start_time": "2023-07-04T13:23:54.903Z"
   },
   {
    "duration": 35,
    "start_time": "2023-07-04T13:23:54.910Z"
   },
   {
    "duration": 24,
    "start_time": "2023-07-04T13:23:54.957Z"
   },
   {
    "duration": 26,
    "start_time": "2023-07-04T13:23:54.984Z"
   },
   {
    "duration": 9585,
    "start_time": "2023-07-04T20:06:21.482Z"
   },
   {
    "duration": 399,
    "start_time": "2023-07-04T20:06:31.069Z"
   },
   {
    "duration": 14,
    "start_time": "2023-07-04T20:06:31.470Z"
   },
   {
    "duration": 102,
    "start_time": "2023-07-04T20:06:31.487Z"
   },
   {
    "duration": 91,
    "start_time": "2023-07-04T20:06:31.591Z"
   },
   {
    "duration": 91,
    "start_time": "2023-07-04T20:06:31.684Z"
   },
   {
    "duration": 80,
    "start_time": "2023-07-04T20:06:31.777Z"
   },
   {
    "duration": 63,
    "start_time": "2023-07-04T20:06:31.858Z"
   },
   {
    "duration": 69,
    "start_time": "2023-07-04T20:06:31.928Z"
   },
   {
    "duration": 7,
    "start_time": "2023-07-04T20:06:40.621Z"
   },
   {
    "duration": 12,
    "start_time": "2023-07-04T20:06:42.739Z"
   },
   {
    "duration": 1798,
    "start_time": "2023-07-05T07:22:02.263Z"
   },
   {
    "duration": 115,
    "start_time": "2023-07-05T07:22:04.063Z"
   },
   {
    "duration": 9,
    "start_time": "2023-07-05T07:22:04.179Z"
   },
   {
    "duration": 5,
    "start_time": "2023-07-05T07:22:04.190Z"
   },
   {
    "duration": 16,
    "start_time": "2023-07-05T07:22:04.197Z"
   },
   {
    "duration": 10,
    "start_time": "2023-07-05T07:22:04.215Z"
   },
   {
    "duration": 4,
    "start_time": "2023-07-05T07:22:04.226Z"
   },
   {
    "duration": 18,
    "start_time": "2023-07-05T07:22:04.231Z"
   },
   {
    "duration": 11,
    "start_time": "2023-07-05T07:22:04.250Z"
   },
   {
    "duration": 6,
    "start_time": "2023-07-05T07:22:04.263Z"
   },
   {
    "duration": 5,
    "start_time": "2023-07-05T07:22:04.271Z"
   },
   {
    "duration": 9,
    "start_time": "2023-07-05T07:22:04.277Z"
   },
   {
    "duration": 803,
    "start_time": "2023-07-05T07:22:04.287Z"
   },
   {
    "duration": 734,
    "start_time": "2023-07-05T07:22:05.091Z"
   },
   {
    "duration": 247,
    "start_time": "2023-07-05T07:22:05.826Z"
   },
   {
    "duration": 222,
    "start_time": "2023-07-05T07:22:06.075Z"
   },
   {
    "duration": 188,
    "start_time": "2023-07-05T07:22:06.299Z"
   },
   {
    "duration": 147,
    "start_time": "2023-07-05T07:22:06.489Z"
   },
   {
    "duration": 158,
    "start_time": "2023-07-05T07:22:06.637Z"
   },
   {
    "duration": 148,
    "start_time": "2023-07-05T07:22:06.796Z"
   },
   {
    "duration": 238,
    "start_time": "2023-07-05T07:22:06.945Z"
   },
   {
    "duration": 240,
    "start_time": "2023-07-05T07:22:07.185Z"
   },
   {
    "duration": 318,
    "start_time": "2023-07-05T07:22:07.427Z"
   },
   {
    "duration": 8,
    "start_time": "2023-07-05T07:22:07.747Z"
   },
   {
    "duration": 5,
    "start_time": "2023-07-05T07:22:07.756Z"
   },
   {
    "duration": 56,
    "start_time": "2023-07-05T07:22:07.762Z"
   },
   {
    "duration": 10,
    "start_time": "2023-07-05T07:22:07.819Z"
   },
   {
    "duration": 11,
    "start_time": "2023-07-05T07:22:07.832Z"
   },
   {
    "duration": 32,
    "start_time": "2023-07-05T07:22:07.845Z"
   },
   {
    "duration": 145,
    "start_time": "2023-07-05T07:22:07.878Z"
   },
   {
    "duration": 282,
    "start_time": "2023-07-05T07:22:08.025Z"
   },
   {
    "duration": 0,
    "start_time": "2023-07-05T07:22:08.308Z"
   },
   {
    "duration": 0,
    "start_time": "2023-07-05T07:22:08.310Z"
   },
   {
    "duration": 0,
    "start_time": "2023-07-05T07:22:08.310Z"
   },
   {
    "duration": 0,
    "start_time": "2023-07-05T07:22:08.311Z"
   },
   {
    "duration": 0,
    "start_time": "2023-07-05T07:22:08.312Z"
   },
   {
    "duration": 0,
    "start_time": "2023-07-05T07:22:08.313Z"
   },
   {
    "duration": 0,
    "start_time": "2023-07-05T07:22:08.315Z"
   },
   {
    "duration": 0,
    "start_time": "2023-07-05T07:22:08.316Z"
   },
   {
    "duration": 0,
    "start_time": "2023-07-05T07:22:08.317Z"
   },
   {
    "duration": 0,
    "start_time": "2023-07-05T07:22:08.318Z"
   },
   {
    "duration": 0,
    "start_time": "2023-07-05T07:22:08.319Z"
   },
   {
    "duration": 0,
    "start_time": "2023-07-05T07:22:08.319Z"
   },
   {
    "duration": 0,
    "start_time": "2023-07-05T07:22:08.320Z"
   },
   {
    "duration": 0,
    "start_time": "2023-07-05T07:22:08.321Z"
   },
   {
    "duration": 0,
    "start_time": "2023-07-05T07:22:08.322Z"
   },
   {
    "duration": 3,
    "start_time": "2023-07-05T07:22:59.736Z"
   },
   {
    "duration": 187519,
    "start_time": "2023-07-05T07:23:03.754Z"
   },
   {
    "duration": 3,
    "start_time": "2023-07-05T07:26:11.275Z"
   },
   {
    "duration": 6,
    "start_time": "2023-07-05T07:26:11.280Z"
   },
   {
    "duration": 4,
    "start_time": "2023-07-05T07:27:33.994Z"
   },
   {
    "duration": 11,
    "start_time": "2023-07-05T07:33:57.534Z"
   },
   {
    "duration": 137,
    "start_time": "2023-07-05T07:35:05.659Z"
   },
   {
    "duration": 13,
    "start_time": "2023-07-05T07:37:49.522Z"
   },
   {
    "duration": 11,
    "start_time": "2023-07-05T07:49:23.756Z"
   },
   {
    "duration": 49,
    "start_time": "2023-07-05T07:49:35.525Z"
   },
   {
    "duration": 57,
    "start_time": "2023-07-05T07:49:48.691Z"
   },
   {
    "duration": 90282,
    "start_time": "2023-07-05T07:50:23.044Z"
   },
   {
    "duration": 9,
    "start_time": "2023-07-05T07:54:36.287Z"
   },
   {
    "duration": 2,
    "start_time": "2023-07-05T08:00:10.683Z"
   },
   {
    "duration": 9,
    "start_time": "2023-07-05T08:00:58.830Z"
   },
   {
    "duration": 6,
    "start_time": "2023-07-05T08:01:54.056Z"
   },
   {
    "duration": 18,
    "start_time": "2023-07-05T08:06:13.318Z"
   },
   {
    "duration": 130,
    "start_time": "2023-07-05T08:06:18.293Z"
   },
   {
    "duration": 28,
    "start_time": "2023-07-05T08:06:19.014Z"
   },
   {
    "duration": 12,
    "start_time": "2023-07-05T08:07:46.147Z"
   },
   {
    "duration": 7,
    "start_time": "2023-07-05T08:07:49.057Z"
   },
   {
    "duration": 18,
    "start_time": "2023-07-05T08:08:14.731Z"
   },
   {
    "duration": 242,
    "start_time": "2023-07-05T08:10:11.337Z"
   },
   {
    "duration": 94904,
    "start_time": "2023-07-05T08:11:01.850Z"
   },
   {
    "duration": 0,
    "start_time": "2023-07-05T08:12:36.756Z"
   },
   {
    "duration": 0,
    "start_time": "2023-07-05T08:12:36.757Z"
   },
   {
    "duration": 91301,
    "start_time": "2023-07-05T08:17:44.274Z"
   },
   {
    "duration": 71,
    "start_time": "2023-07-05T08:19:57.253Z"
   },
   {
    "duration": 13,
    "start_time": "2023-07-05T08:21:51.180Z"
   },
   {
    "duration": 8,
    "start_time": "2023-07-05T08:21:53.588Z"
   },
   {
    "duration": 9,
    "start_time": "2023-07-05T08:22:39.092Z"
   },
   {
    "duration": 9,
    "start_time": "2023-07-05T08:23:08.700Z"
   },
   {
    "duration": 11,
    "start_time": "2023-07-05T08:23:09.401Z"
   },
   {
    "duration": 25,
    "start_time": "2023-07-05T08:23:34.947Z"
   },
   {
    "duration": 16,
    "start_time": "2023-07-05T08:24:05.285Z"
   },
   {
    "duration": 10,
    "start_time": "2023-07-05T08:24:06.050Z"
   },
   {
    "duration": 12,
    "start_time": "2023-07-05T08:24:07.114Z"
   },
   {
    "duration": 94331,
    "start_time": "2023-07-05T08:24:15.762Z"
   },
   {
    "duration": 18,
    "start_time": "2023-07-05T08:25:50.094Z"
   },
   {
    "duration": 139,
    "start_time": "2023-07-05T08:25:50.119Z"
   },
   {
    "duration": 0,
    "start_time": "2023-07-05T08:25:50.260Z"
   },
   {
    "duration": 1306,
    "start_time": "2023-07-05T08:29:57.142Z"
   },
   {
    "duration": 51,
    "start_time": "2023-07-05T08:29:58.450Z"
   },
   {
    "duration": 8,
    "start_time": "2023-07-05T08:29:58.503Z"
   },
   {
    "duration": 19,
    "start_time": "2023-07-05T08:29:58.513Z"
   },
   {
    "duration": 8,
    "start_time": "2023-07-05T08:29:58.533Z"
   },
   {
    "duration": 4,
    "start_time": "2023-07-05T08:29:58.542Z"
   },
   {
    "duration": 11,
    "start_time": "2023-07-05T08:29:58.548Z"
   },
   {
    "duration": 22,
    "start_time": "2023-07-05T08:29:58.560Z"
   },
   {
    "duration": 14,
    "start_time": "2023-07-05T08:29:58.583Z"
   },
   {
    "duration": 7,
    "start_time": "2023-07-05T08:29:58.600Z"
   },
   {
    "duration": 23,
    "start_time": "2023-07-05T08:29:58.609Z"
   },
   {
    "duration": 18,
    "start_time": "2023-07-05T08:29:58.634Z"
   },
   {
    "duration": 704,
    "start_time": "2023-07-05T08:29:58.654Z"
   },
   {
    "duration": 645,
    "start_time": "2023-07-05T08:29:59.360Z"
   },
   {
    "duration": 185,
    "start_time": "2023-07-05T08:30:00.007Z"
   },
   {
    "duration": 179,
    "start_time": "2023-07-05T08:30:00.200Z"
   },
   {
    "duration": 193,
    "start_time": "2023-07-05T08:30:00.380Z"
   },
   {
    "duration": 148,
    "start_time": "2023-07-05T08:30:00.575Z"
   },
   {
    "duration": 181,
    "start_time": "2023-07-05T08:30:00.725Z"
   },
   {
    "duration": 147,
    "start_time": "2023-07-05T08:30:00.908Z"
   },
   {
    "duration": 230,
    "start_time": "2023-07-05T08:30:01.056Z"
   },
   {
    "duration": 251,
    "start_time": "2023-07-05T08:30:01.288Z"
   },
   {
    "duration": 310,
    "start_time": "2023-07-05T08:30:01.541Z"
   },
   {
    "duration": 7,
    "start_time": "2023-07-05T08:30:01.853Z"
   },
   {
    "duration": 36,
    "start_time": "2023-07-05T08:30:01.862Z"
   },
   {
    "duration": 50,
    "start_time": "2023-07-05T08:30:01.899Z"
   },
   {
    "duration": 69,
    "start_time": "2023-07-05T08:30:01.951Z"
   },
   {
    "duration": 35,
    "start_time": "2023-07-05T08:30:02.023Z"
   },
   {
    "duration": 177,
    "start_time": "2023-07-05T08:30:02.060Z"
   },
   {
    "duration": 0,
    "start_time": "2023-07-05T08:30:02.239Z"
   },
   {
    "duration": 0,
    "start_time": "2023-07-05T08:30:02.239Z"
   },
   {
    "duration": 0,
    "start_time": "2023-07-05T08:30:02.240Z"
   },
   {
    "duration": 0,
    "start_time": "2023-07-05T08:30:02.241Z"
   },
   {
    "duration": 0,
    "start_time": "2023-07-05T08:30:02.242Z"
   },
   {
    "duration": 0,
    "start_time": "2023-07-05T08:30:02.243Z"
   },
   {
    "duration": 0,
    "start_time": "2023-07-05T08:30:02.244Z"
   },
   {
    "duration": 0,
    "start_time": "2023-07-05T08:30:02.245Z"
   },
   {
    "duration": 0,
    "start_time": "2023-07-05T08:30:02.246Z"
   },
   {
    "duration": 0,
    "start_time": "2023-07-05T08:30:02.247Z"
   },
   {
    "duration": 18,
    "start_time": "2023-07-05T08:30:32.776Z"
   },
   {
    "duration": 11,
    "start_time": "2023-07-05T08:32:14.771Z"
   },
   {
    "duration": 9,
    "start_time": "2023-07-05T08:32:47.175Z"
   },
   {
    "duration": 0,
    "start_time": "2023-07-05T08:32:47.186Z"
   },
   {
    "duration": 10,
    "start_time": "2023-07-05T08:32:47.356Z"
   },
   {
    "duration": 0,
    "start_time": "2023-07-05T08:32:47.367Z"
   },
   {
    "duration": 0,
    "start_time": "2023-07-05T08:32:47.368Z"
   },
   {
    "duration": 19,
    "start_time": "2023-07-05T08:32:47.369Z"
   },
   {
    "duration": 0,
    "start_time": "2023-07-05T08:32:47.390Z"
   },
   {
    "duration": 11,
    "start_time": "2023-07-05T08:32:47.522Z"
   },
   {
    "duration": 0,
    "start_time": "2023-07-05T08:32:47.535Z"
   },
   {
    "duration": 0,
    "start_time": "2023-07-05T08:32:47.536Z"
   },
   {
    "duration": 12,
    "start_time": "2023-07-05T08:33:40.644Z"
   },
   {
    "duration": 9,
    "start_time": "2023-07-05T08:34:11.370Z"
   },
   {
    "duration": 10,
    "start_time": "2023-07-05T08:35:05.778Z"
   },
   {
    "duration": 23,
    "start_time": "2023-07-05T08:35:11.291Z"
   },
   {
    "duration": 11,
    "start_time": "2023-07-05T08:35:13.411Z"
   },
   {
    "duration": 96493,
    "start_time": "2023-07-05T08:35:18.860Z"
   },
   {
    "duration": 124,
    "start_time": "2023-07-05T08:36:55.355Z"
   },
   {
    "duration": 44,
    "start_time": "2023-07-05T08:36:55.480Z"
   },
   {
    "duration": 31,
    "start_time": "2023-07-05T08:36:55.527Z"
   },
   {
    "duration": 0,
    "start_time": "2023-07-05T08:36:55.560Z"
   },
   {
    "duration": 0,
    "start_time": "2023-07-05T08:36:55.561Z"
   },
   {
    "duration": 0,
    "start_time": "2023-07-05T08:36:55.563Z"
   },
   {
    "duration": 0,
    "start_time": "2023-07-05T08:36:55.564Z"
   },
   {
    "duration": 0,
    "start_time": "2023-07-05T08:36:55.565Z"
   },
   {
    "duration": 15,
    "start_time": "2023-07-05T08:37:10.942Z"
   },
   {
    "duration": 64,
    "start_time": "2023-07-05T08:37:12.243Z"
   },
   {
    "duration": 9,
    "start_time": "2023-07-05T08:37:20.225Z"
   },
   {
    "duration": 96429,
    "start_time": "2023-07-05T08:37:27.867Z"
   },
   {
    "duration": 199,
    "start_time": "2023-07-05T08:39:57.504Z"
   },
   {
    "duration": 10,
    "start_time": "2023-07-05T08:40:26.404Z"
   },
   {
    "duration": 9,
    "start_time": "2023-07-05T08:40:34.451Z"
   },
   {
    "duration": 562402,
    "start_time": "2023-07-05T08:40:42.989Z"
   },
   {
    "duration": 18,
    "start_time": "2023-07-05T08:50:05.394Z"
   },
   {
    "duration": 42,
    "start_time": "2023-07-05T08:52:12.757Z"
   },
   {
    "duration": 9,
    "start_time": "2023-07-05T08:52:16.625Z"
   },
   {
    "duration": 11,
    "start_time": "2023-07-05T08:53:40.284Z"
   },
   {
    "duration": 13,
    "start_time": "2023-07-05T08:53:41.017Z"
   },
   {
    "duration": 3,
    "start_time": "2023-07-05T08:59:04.812Z"
   },
   {
    "duration": 1484,
    "start_time": "2023-07-05T09:02:54.325Z"
   },
   {
    "duration": 54,
    "start_time": "2023-07-05T09:02:55.811Z"
   },
   {
    "duration": 10,
    "start_time": "2023-07-05T09:02:55.867Z"
   },
   {
    "duration": 7,
    "start_time": "2023-07-05T09:02:55.879Z"
   },
   {
    "duration": 24,
    "start_time": "2023-07-05T09:02:55.887Z"
   },
   {
    "duration": 9,
    "start_time": "2023-07-05T09:02:55.913Z"
   },
   {
    "duration": 6,
    "start_time": "2023-07-05T09:02:55.924Z"
   },
   {
    "duration": 15,
    "start_time": "2023-07-05T09:02:55.932Z"
   },
   {
    "duration": 18,
    "start_time": "2023-07-05T09:02:55.948Z"
   },
   {
    "duration": 36,
    "start_time": "2023-07-05T09:02:55.972Z"
   },
   {
    "duration": 11,
    "start_time": "2023-07-05T09:02:56.011Z"
   },
   {
    "duration": 26,
    "start_time": "2023-07-05T09:02:56.025Z"
   },
   {
    "duration": 787,
    "start_time": "2023-07-05T09:02:56.055Z"
   },
   {
    "duration": 710,
    "start_time": "2023-07-05T09:02:56.844Z"
   },
   {
    "duration": 200,
    "start_time": "2023-07-05T09:02:57.555Z"
   },
   {
    "duration": 192,
    "start_time": "2023-07-05T09:02:57.757Z"
   },
   {
    "duration": 201,
    "start_time": "2023-07-05T09:02:57.950Z"
   },
   {
    "duration": 155,
    "start_time": "2023-07-05T09:02:58.153Z"
   },
   {
    "duration": 153,
    "start_time": "2023-07-05T09:02:58.310Z"
   },
   {
    "duration": 211,
    "start_time": "2023-07-05T09:02:58.464Z"
   },
   {
    "duration": 264,
    "start_time": "2023-07-05T09:02:58.677Z"
   },
   {
    "duration": 254,
    "start_time": "2023-07-05T09:02:58.943Z"
   },
   {
    "duration": 348,
    "start_time": "2023-07-05T09:02:59.200Z"
   },
   {
    "duration": 9,
    "start_time": "2023-07-05T09:02:59.550Z"
   },
   {
    "duration": 17,
    "start_time": "2023-07-05T09:02:59.561Z"
   },
   {
    "duration": 20,
    "start_time": "2023-07-05T09:02:59.580Z"
   },
   {
    "duration": 60,
    "start_time": "2023-07-05T09:02:59.602Z"
   },
   {
    "duration": 14,
    "start_time": "2023-07-05T09:02:59.666Z"
   },
   {
    "duration": 18,
    "start_time": "2023-07-05T09:02:59.682Z"
   },
   {
    "duration": 11,
    "start_time": "2023-07-05T09:02:59.702Z"
   },
   {
    "duration": 19,
    "start_time": "2023-07-05T09:02:59.715Z"
   },
   {
    "duration": 78,
    "start_time": "2023-07-05T09:02:59.736Z"
   },
   {
    "duration": 98473,
    "start_time": "2023-07-05T09:02:59.901Z"
   },
   {
    "duration": 111,
    "start_time": "2023-07-05T09:04:38.376Z"
   },
   {
    "duration": 22,
    "start_time": "2023-07-05T09:04:38.489Z"
   },
   {
    "duration": 289,
    "start_time": "2023-07-05T09:04:38.512Z"
   },
   {
    "duration": 99,
    "start_time": "2023-07-05T09:04:38.803Z"
   },
   {
    "duration": 580947,
    "start_time": "2023-07-05T09:04:38.905Z"
   },
   {
    "duration": 48,
    "start_time": "2023-07-05T09:14:19.854Z"
   },
   {
    "duration": 105,
    "start_time": "2023-07-05T09:14:19.904Z"
   },
   {
    "duration": 0,
    "start_time": "2023-07-05T09:14:20.208Z"
   },
   {
    "duration": 77,
    "start_time": "2023-07-05T09:18:03.725Z"
   },
   {
    "duration": 3168,
    "start_time": "2023-07-05T10:20:40.842Z"
   },
   {
    "duration": 115,
    "start_time": "2023-07-05T10:20:44.012Z"
   },
   {
    "duration": 11,
    "start_time": "2023-07-05T10:20:44.129Z"
   },
   {
    "duration": 15,
    "start_time": "2023-07-05T10:20:44.142Z"
   },
   {
    "duration": 22,
    "start_time": "2023-07-05T10:20:44.158Z"
   },
   {
    "duration": 12,
    "start_time": "2023-07-05T10:20:44.182Z"
   },
   {
    "duration": 5,
    "start_time": "2023-07-05T10:20:44.196Z"
   },
   {
    "duration": 16,
    "start_time": "2023-07-05T10:20:44.202Z"
   },
   {
    "duration": 15,
    "start_time": "2023-07-05T10:20:44.219Z"
   },
   {
    "duration": 6,
    "start_time": "2023-07-05T10:20:44.236Z"
   },
   {
    "duration": 6,
    "start_time": "2023-07-05T10:20:44.243Z"
   },
   {
    "duration": 17,
    "start_time": "2023-07-05T10:20:44.250Z"
   },
   {
    "duration": 796,
    "start_time": "2023-07-05T10:20:44.268Z"
   },
   {
    "duration": 732,
    "start_time": "2023-07-05T10:20:45.066Z"
   },
   {
    "duration": 199,
    "start_time": "2023-07-05T10:20:45.799Z"
   },
   {
    "duration": 206,
    "start_time": "2023-07-05T10:20:45.999Z"
   },
   {
    "duration": 193,
    "start_time": "2023-07-05T10:20:46.206Z"
   },
   {
    "duration": 174,
    "start_time": "2023-07-05T10:20:46.401Z"
   },
   {
    "duration": 164,
    "start_time": "2023-07-05T10:20:46.579Z"
   },
   {
    "duration": 173,
    "start_time": "2023-07-05T10:20:46.745Z"
   },
   {
    "duration": 238,
    "start_time": "2023-07-05T10:20:46.920Z"
   },
   {
    "duration": 237,
    "start_time": "2023-07-05T10:20:47.159Z"
   },
   {
    "duration": 320,
    "start_time": "2023-07-05T10:20:47.398Z"
   },
   {
    "duration": 6,
    "start_time": "2023-07-05T10:20:47.720Z"
   },
   {
    "duration": 14,
    "start_time": "2023-07-05T10:20:47.728Z"
   },
   {
    "duration": 3,
    "start_time": "2023-07-05T10:20:47.743Z"
   },
   {
    "duration": 49,
    "start_time": "2023-07-05T10:20:47.748Z"
   },
   {
    "duration": 13,
    "start_time": "2023-07-05T10:20:47.801Z"
   },
   {
    "duration": 9,
    "start_time": "2023-07-05T10:20:47.816Z"
   },
   {
    "duration": 10,
    "start_time": "2023-07-05T10:20:47.826Z"
   },
   {
    "duration": 41,
    "start_time": "2023-07-05T10:20:47.837Z"
   },
   {
    "duration": 100,
    "start_time": "2023-07-05T10:20:47.880Z"
   },
   {
    "duration": 88345,
    "start_time": "2023-07-05T10:20:47.982Z"
   },
   {
    "duration": 160,
    "start_time": "2023-07-05T10:22:16.328Z"
   },
   {
    "duration": 24,
    "start_time": "2023-07-05T10:22:16.490Z"
   },
   {
    "duration": 180,
    "start_time": "2023-07-05T10:22:16.516Z"
   },
   {
    "duration": 104,
    "start_time": "2023-07-05T10:22:16.699Z"
   },
   {
    "duration": 553033,
    "start_time": "2023-07-05T10:22:16.874Z"
   },
   {
    "duration": 69,
    "start_time": "2023-07-05T10:31:29.909Z"
   },
   {
    "duration": 147,
    "start_time": "2023-07-05T10:31:29.983Z"
   }
  ],
  "kernelspec": {
   "display_name": "Python 3",
   "language": "python",
   "name": "python3"
  },
  "language_info": {
   "codemirror_mode": {
    "name": "ipython",
    "version": 3
   },
   "file_extension": ".py",
   "mimetype": "text/x-python",
   "name": "python",
   "nbconvert_exporter": "python",
   "pygments_lexer": "ipython3",
   "version": "3.8.5"
  },
  "toc": {
   "base_numbering": 1,
   "nav_menu": {},
   "number_sections": true,
   "sideBar": true,
   "skip_h1_title": true,
   "title_cell": "Содержание",
   "title_sidebar": "Contents",
   "toc_cell": true,
   "toc_position": {
    "height": "calc(100% - 180px)",
    "left": "10px",
    "top": "150px",
    "width": "165px"
   },
   "toc_section_display": true,
   "toc_window_display": false
  }
 },
 "nbformat": 4,
 "nbformat_minor": 2
}
